{
  "nbformat": 4,
  "nbformat_minor": 0,
  "metadata": {
    "colab": {
      "name": "Predicting Clinical Outcomes of Breast Cancer Patients.ipynb",
      "provenance": [],
      "collapsed_sections": [],
      "include_colab_link": true
    },
    "kernelspec": {
      "name": "python3",
      "display_name": "Python 3"
    }
  },
  "cells": [
    {
      "cell_type": "markdown",
      "metadata": {
        "id": "view-in-github",
        "colab_type": "text"
      },
      "source": [
        "<a href=\"https://colab.research.google.com/github/meghutch/Breast-Cancer-Classification-Clinical-Genomic/blob/master/Predicting_Clinical_Outcomes_of_Breast_Cancer_Patients.ipynb\" target=\"_parent\"><img src=\"https://colab.research.google.com/assets/colab-badge.svg\" alt=\"Open In Colab\"/></a>"
      ]
    },
    {
      "cell_type": "markdown",
      "metadata": {
        "id": "0ICfvGHiQnDI",
        "colab_type": "text"
      },
      "source": [
        "# **Predicting Clinical Outcomes of Breast Cancer Patients**\n",
        "\n",
        "**Author:** Meg Hutch\n",
        "\n",
        "**Date:** October 31, 2019\n",
        "\n",
        "**Objective:** Examining the data from Lee's ML course\n",
        "\n",
        "This project will investigate predicting the survival of patients diagnosed with breast cancer using\n",
        "the METABRIC (Molecular Taxonomy of Breast Cancer International Consortium) dataset [1, 2].\n",
        "METABRIC contains clinical and demographic data, DNA sequencing, copy-number, and gene\n",
        "expression data for over 2000 patients.\n",
        "\n",
        "**The first part of this analysis will examine whether low dimensional clinical data can be used to predict survivial (binary classification)**"
      ]
    },
    {
      "cell_type": "code",
      "metadata": {
        "id": "_pG01kP6UVC0",
        "colab_type": "code",
        "colab": {}
      },
      "source": [
        "import pandas as pd\n",
        "import numpy as np\n",
        "import matplotlib\n",
        "import matplotlib.pyplot as plt\n",
        "import matplotlib.colors\n",
        "import seaborn as sns"
      ],
      "execution_count": 0,
      "outputs": []
    },
    {
      "cell_type": "code",
      "metadata": {
        "id": "mamswLh8QkLR",
        "colab_type": "code",
        "outputId": "42454a30-bae1-4077-d9a3-525ca1275c54",
        "colab": {
          "base_uri": "https://localhost:8080/",
          "height": 34
        }
      },
      "source": [
        "# Connect Colab to google drive\n",
        "from google.colab import drive\n",
        "drive.mount('/content/drive')"
      ],
      "execution_count": 2,
      "outputs": [
        {
          "output_type": "stream",
          "text": [
            "Drive already mounted at /content/drive; to attempt to forcibly remount, call drive.mount(\"/content/drive\", force_remount=True).\n"
          ],
          "name": "stdout"
        }
      ]
    },
    {
      "cell_type": "code",
      "metadata": {
        "id": "Sds0C37hUMd_",
        "colab_type": "code",
        "colab": {}
      },
      "source": [
        "# Import Data\n",
        "bc_data = pd.read_csv('/content/drive/My Drive/Projects/Breast_Cancer_Classification/Data/data_clinical_patient.csv')"
      ],
      "execution_count": 0,
      "outputs": []
    },
    {
      "cell_type": "code",
      "metadata": {
        "id": "-HKDUxUMVzhs",
        "colab_type": "code",
        "colab": {}
      },
      "source": [
        "#bc_data.head()"
      ],
      "execution_count": 0,
      "outputs": []
    },
    {
      "cell_type": "markdown",
      "metadata": {
        "id": "kAKBHKzCa4DH",
        "colab_type": "text"
      },
      "source": [
        "# **Pre-Process Data**\n",
        "\n",
        "\n"
      ]
    },
    {
      "cell_type": "markdown",
      "metadata": {
        "id": "P42uFeTBlPX0",
        "colab_type": "text"
      },
      "source": [
        "Rows 0-3 contain definitions of data and data types. We can remove these"
      ]
    },
    {
      "cell_type": "code",
      "metadata": {
        "id": "g_Od_3KdbGQr",
        "colab_type": "code",
        "colab": {}
      },
      "source": [
        "bc_data = bc_data.iloc[4:]"
      ],
      "execution_count": 0,
      "outputs": []
    },
    {
      "cell_type": "markdown",
      "metadata": {
        "id": "prEZQHwscm0B",
        "colab_type": "text"
      },
      "source": [
        "Convert first row to header name"
      ]
    },
    {
      "cell_type": "code",
      "metadata": {
        "id": "ZWaxqLvXbO1T",
        "colab_type": "code",
        "colab": {}
      },
      "source": [
        "# Convert first row to header name\n",
        "bc_data = bc_data.rename(columns=bc_data.iloc[0]).drop(bc_data.index[0])"
      ],
      "execution_count": 0,
      "outputs": []
    },
    {
      "cell_type": "markdown",
      "metadata": {
        "id": "B0yvqaoNcy3I",
        "colab_type": "text"
      },
      "source": [
        "Convert column names to lowercase"
      ]
    },
    {
      "cell_type": "code",
      "metadata": {
        "id": "85VrahjfcP3S",
        "colab_type": "code",
        "colab": {}
      },
      "source": [
        "# Convert column names to lowercase\n",
        "bc_data.columns = map(str.lower, bc_data.columns)"
      ],
      "execution_count": 0,
      "outputs": []
    },
    {
      "cell_type": "markdown",
      "metadata": {
        "id": "9Xkv2nypc3pi",
        "colab_type": "text"
      },
      "source": [
        "# **Explore Data**"
      ]
    },
    {
      "cell_type": "markdown",
      "metadata": {
        "id": "48AzbwtVeMId",
        "colab_type": "text"
      },
      "source": [
        "**Total Number of Patients**"
      ]
    },
    {
      "cell_type": "code",
      "metadata": {
        "id": "pJDYGATKc9Cy",
        "colab_type": "code",
        "outputId": "21daab21-374e-46b9-fb65-3e131c96e3ad",
        "colab": {
          "base_uri": "https://localhost:8080/",
          "height": 34
        }
      },
      "source": [
        "print('Total Number of Patients:', len(bc_data.index))"
      ],
      "execution_count": 8,
      "outputs": [
        {
          "output_type": "stream",
          "text": [
            "Total Number of Patients: 2509\n"
          ],
          "name": "stdout"
        }
      ]
    },
    {
      "cell_type": "markdown",
      "metadata": {
        "id": "8QhPQWmOmbOb",
        "colab_type": "text"
      },
      "source": [
        "**Remove any incomplete cases**"
      ]
    },
    {
      "cell_type": "code",
      "metadata": {
        "id": "3KMNveVEmd4S",
        "colab_type": "code",
        "colab": {}
      },
      "source": [
        "bc_data = bc_data.dropna()"
      ],
      "execution_count": 0,
      "outputs": []
    },
    {
      "cell_type": "markdown",
      "metadata": {
        "id": "lVUYoG0em0yg",
        "colab_type": "text"
      },
      "source": [
        "**Re-Examine Total Number of Patients**"
      ]
    },
    {
      "cell_type": "code",
      "metadata": {
        "id": "Ya3DtgqCm6Q6",
        "colab_type": "code",
        "outputId": "fbe2b914-e237-414d-c266-5943df5dfc88",
        "colab": {
          "base_uri": "https://localhost:8080/",
          "height": 34
        }
      },
      "source": [
        "print('Total Number of Patients after Removing NAs:', len(bc_data.index)) # This removes about 1000 patients from the analysis "
      ],
      "execution_count": 10,
      "outputs": [
        {
          "output_type": "stream",
          "text": [
            "Total Number of Patients after Removing NAs: 1519\n"
          ],
          "name": "stdout"
        }
      ]
    },
    {
      "cell_type": "markdown",
      "metadata": {
        "id": "2WtlCLbDnZPE",
        "colab_type": "text"
      },
      "source": [
        "**In the project directions, it says we can treat \"Died of Other Causes\" as living. Thus, change the category title as such.**"
      ]
    },
    {
      "cell_type": "code",
      "metadata": {
        "id": "92-6YOPUnT4y",
        "colab_type": "code",
        "colab": {}
      },
      "source": [
        "bc_data['vital_status'] = bc_data['vital_status'].replace({'Living': 'Living', 'Died of Disease': 'Died of Disease', 'Died of Other Causes': 'Living'})"
      ],
      "execution_count": 0,
      "outputs": []
    },
    {
      "cell_type": "markdown",
      "metadata": {
        "id": "-Qk2ZQEOoAV4",
        "colab_type": "text"
      },
      "source": [
        "**Examine Variable Names**"
      ]
    },
    {
      "cell_type": "code",
      "metadata": {
        "id": "hH4dLopKoBwR",
        "colab_type": "code",
        "outputId": "8528e3c4-c05f-4f74-f78a-ae4729c2b010",
        "colab": {
          "base_uri": "https://localhost:8080/",
          "height": 468
        }
      },
      "source": [
        "bc_data.info()"
      ],
      "execution_count": 12,
      "outputs": [
        {
          "output_type": "stream",
          "text": [
            "<class 'pandas.core.frame.DataFrame'>\n",
            "Int64Index: 1519 entries, 6 to 1985\n",
            "Data columns (total 21 columns):\n",
            "patient_id                       1519 non-null object\n",
            "lymph_nodes_examined_positive    1519 non-null object\n",
            "npi                              1519 non-null object\n",
            "cellularity                      1519 non-null object\n",
            "chemotherapy                     1519 non-null object\n",
            "cohort                           1519 non-null object\n",
            "er_ihc                           1519 non-null object\n",
            "her2_snp6                        1519 non-null object\n",
            "hormone_therapy                  1519 non-null object\n",
            "inferred_menopausal_state        1519 non-null object\n",
            "intclust                         1519 non-null object\n",
            "age_at_diagnosis                 1519 non-null object\n",
            "os_months                        1519 non-null object\n",
            "os_status                        1519 non-null object\n",
            "claudin_subtype                  1519 non-null object\n",
            "threegene                        1519 non-null object\n",
            "vital_status                     1519 non-null object\n",
            "laterality                       1519 non-null object\n",
            "radio_therapy                    1519 non-null object\n",
            "histological_subtype             1519 non-null object\n",
            "breast_surgery                   1519 non-null object\n",
            "dtypes: object(21)\n",
            "memory usage: 261.1+ KB\n"
          ],
          "name": "stdout"
        }
      ]
    },
    {
      "cell_type": "markdown",
      "metadata": {
        "id": "4Cdw--Ybnz3G",
        "colab_type": "text"
      },
      "source": [
        "**Examine Variable Distributions**"
      ]
    },
    {
      "cell_type": "code",
      "metadata": {
        "colab_type": "code",
        "id": "VRllXFHnslSA",
        "outputId": "bd5923ed-ad12-4bd0-f3dd-0c60fd2f84ea",
        "colab": {
          "base_uri": "https://localhost:8080/",
          "height": 369
        }
      },
      "source": [
        "plt1 = bc_data.histological_subtype.value_counts().plot(kind=\"bar\")\n",
        "plt1.tick_params(axis=\"x\", labelsize=11, labelrotation= -45)\n",
        "plt1.set_title(\"Histological Subtype\")"
      ],
      "execution_count": 13,
      "outputs": [
        {
          "output_type": "execute_result",
          "data": {
            "text/plain": [
              "Text(0.5, 1.0, 'Histological Subtype')"
            ]
          },
          "metadata": {
            "tags": []
          },
          "execution_count": 13
        },
        {
          "output_type": "display_data",
          "data": {
            "image/png": "[encoded data removed]",
            "text/plain": [
              "<Figure size 432x288 with 1 Axes>"
            ]
          },
          "metadata": {
            "tags": []
          }
        }
      ]
    },
    {
      "cell_type": "code",
      "metadata": {
        "colab_type": "code",
        "outputId": "d9dcefe2-03c6-4a40-f849-81919732bc45",
        "id": "-o8WLbopslSI",
        "colab": {
          "base_uri": "https://localhost:8080/",
          "height": 357
        }
      },
      "source": [
        "plt2 = bc_data.vital_status.value_counts().plot(kind=\"bar\")\n",
        "plt2.tick_params(axis=\"x\", labelsize=11, labelrotation= -45)\n",
        "plt2.set_title(\"Survival\")"
      ],
      "execution_count": 14,
      "outputs": [
        {
          "output_type": "execute_result",
          "data": {
            "text/plain": [
              "Text(0.5, 1.0, 'Survival')"
            ]
          },
          "metadata": {
            "tags": []
          },
          "execution_count": 14
        },
        {
          "output_type": "display_data",
          "data": {
            "image/png": "[encoded data removed]",
            "text/plain": [
              "<Figure size 432x288 with 1 Axes>"
            ]
          },
          "metadata": {
            "tags": []
          }
        }
      ]
    },
    {
      "cell_type": "code",
      "metadata": {
        "colab_type": "code",
        "id": "K01kgzkAslSL",
        "outputId": "ad82641f-f08a-470b-d418-a4ff7670dae6",
        "colab": {
          "base_uri": "https://localhost:8080/",
          "height": 382
        }
      },
      "source": [
        "plt3 = bc_data.threegene.value_counts().plot(kind=\"bar\")\n",
        "plt3.tick_params(axis=\"x\", labelsize=11, labelrotation= -45)\n",
        "plt3.set_title(\"Three Gene Classifier\")"
      ],
      "execution_count": 15,
      "outputs": [
        {
          "output_type": "execute_result",
          "data": {
            "text/plain": [
              "Text(0.5, 1.0, 'Three Gene Classifier')"
            ]
          },
          "metadata": {
            "tags": []
          },
          "execution_count": 15
        },
        {
          "output_type": "display_data",
          "data": {
            "image/png": "[encoded data removed]",
            "text/plain": [
              "<Figure size 432x288 with 1 Axes>"
            ]
          },
          "metadata": {
            "tags": []
          }
        }
      ]
    },
    {
      "cell_type": "code",
      "metadata": {
        "colab_type": "code",
        "id": "byp8nJ1eslSO",
        "outputId": "9c205eff-7f1b-49e2-8e16-d005d93c6fd2",
        "colab": {
          "base_uri": "https://localhost:8080/",
          "height": 298
        }
      },
      "source": [
        "plt4 = bc_data.cellularity.value_counts().plot(kind=\"bar\")\n",
        "plt4.tick_params(axis=\"x\", labelsize=11, labelrotation= 360)\n",
        "plt4.set_title(\"Cellularity\")"
      ],
      "execution_count": 16,
      "outputs": [
        {
          "output_type": "execute_result",
          "data": {
            "text/plain": [
              "Text(0.5, 1.0, 'Cellularity')"
            ]
          },
          "metadata": {
            "tags": []
          },
          "execution_count": 16
        },
        {
          "output_type": "display_data",
          "data": {
            "image/png": "[encoded data removed]",
            "text/plain": [
              "<Figure size 432x288 with 1 Axes>"
            ]
          },
          "metadata": {
            "tags": []
          }
        }
      ]
    },
    {
      "cell_type": "code",
      "metadata": {
        "colab_type": "code",
        "id": "wlztHaj0slSS",
        "outputId": "532714c1-cd7a-4f69-aac1-61f729e62335",
        "colab": {
          "base_uri": "https://localhost:8080/",
          "height": 298
        }
      },
      "source": [
        "plt5 = bc_data.chemotherapy.value_counts().plot(kind=\"bar\")\n",
        "plt5.tick_params(axis=\"x\", labelsize=11, labelrotation= 360)\n",
        "plt5.set_title(\"Chemotherapy\")"
      ],
      "execution_count": 17,
      "outputs": [
        {
          "output_type": "execute_result",
          "data": {
            "text/plain": [
              "Text(0.5, 1.0, 'Chemotherapy')"
            ]
          },
          "metadata": {
            "tags": []
          },
          "execution_count": 17
        },
        {
          "output_type": "display_data",
          "data": {
            "image/png": "[encoded data removed]",
            "text/plain": [
              "<Figure size 432x288 with 1 Axes>"
            ]
          },
          "metadata": {
            "tags": []
          }
        }
      ]
    },
    {
      "cell_type": "code",
      "metadata": {
        "colab_type": "code",
        "id": "Bj3TEWfLslST",
        "outputId": "bb15a3b0-cabc-4558-c029-d4e44af06870",
        "colab": {
          "base_uri": "https://localhost:8080/",
          "height": 294
        }
      },
      "source": [
        "# Convert object to float\n",
        "age = bc_data['age_at_diagnosis'].astype(float)\n",
        "\n",
        "# Define bins\n",
        "bin_edges = [0,10,20,30,40,50,60,70,80,90,100]\n",
        "\n",
        "plt.hist(age,\n",
        "         bins=bin_edges,\n",
        "         density=False,\n",
        "         histtype='bar',\n",
        "         color='b',\n",
        "         edgecolor='k',\n",
        "         alpha=0.5)\n",
        "\n",
        "plt.xlabel('Age')\n",
        "plt.ylabel('Number Patients')\n",
        "plt.title('Age at Diagnosis (years)')\n",
        "\n",
        "plt.show()"
      ],
      "execution_count": 18,
      "outputs": [
        {
          "output_type": "display_data",
          "data": {
            "image/png": "[encoded data removed]",
            "text/plain": [
              "<Figure size 432x288 with 1 Axes>"
            ]
          },
          "metadata": {
            "tags": []
          }
        }
      ]
    },
    {
      "cell_type": "code",
      "metadata": {
        "colab_type": "code",
        "id": "uBVDpNQrslSW",
        "outputId": "b2a63061-4b43-4569-d21c-6237fd25ec09",
        "colab": {
          "base_uri": "https://localhost:8080/",
          "height": 294
        }
      },
      "source": [
        "# Convert object to float\n",
        "os = bc_data['os_months'].astype(float)\n",
        "\n",
        "# Define bins\n",
        "bin_edges = [25,50,75,100,125,150,175,200,225,250,275,300,325]\n",
        "\n",
        "plt.hist(os,\n",
        "         bin_edges,\n",
        "         density=False,\n",
        "         histtype='bar',\n",
        "         color='b',\n",
        "         edgecolor='k',\n",
        "         alpha=0.5)\n",
        "\n",
        "plt.xlabel('Months')\n",
        "plt.ylabel('Number Patients')\n",
        "plt.title('Overall Surivival (months)')\n",
        "\n",
        "plt.show()"
      ],
      "execution_count": 19,
      "outputs": [
        {
          "output_type": "display_data",
          "data": {
            "image/png": "[encoded data removed]",
            "text/plain": [
              "<Figure size 432x288 with 1 Axes>"
            ]
          },
          "metadata": {
            "tags": []
          }
        }
      ]
    },
    {
      "cell_type": "markdown",
      "metadata": {
        "id": "ZGGctvqHpZNA",
        "colab_type": "text"
      },
      "source": [
        "**Examine Patient Outcomes**"
      ]
    },
    {
      "cell_type": "code",
      "metadata": {
        "id": "ghuzctC8pc2F",
        "colab_type": "code",
        "outputId": "99aff1db-672a-4b5d-c830-5fc4fd837b60",
        "colab": {
          "base_uri": "https://localhost:8080/",
          "height": 444
        }
      },
      "source": [
        "plt_out = bc_data.vital_status.value_counts().plot(kind=\"bar\")\n",
        "plt_out.tick_params(axis=\"x\", labelsize=11, labelrotation= -45)\n",
        "plt_out.set_title(\"Survival\")\n",
        "\n",
        "# Calculate Percents\n",
        "count_outcomes = bc_data.groupby(['vital_status']).size()\n",
        "print(count_outcomes)\n",
        "\n",
        "print('Percent Living: {:.1f}'.format(count_outcomes[\"Living\"]/len(bc_data.index)))\n",
        "print('Percent Died of Disease: {:.1f}'.format(count_outcomes[\"Died of Disease\"]/len(bc_data.index)))"
      ],
      "execution_count": 20,
      "outputs": [
        {
          "output_type": "stream",
          "text": [
            "vital_status\n",
            "Died of Disease     485\n",
            "Living             1034\n",
            "dtype: int64\n",
            "Percent Living: 0.7\n",
            "Percent Died of Disease: 0.3\n"
          ],
          "name": "stdout"
        },
        {
          "output_type": "display_data",
          "data": {
            "image/png": "[encoded data removed]",
            "text/plain": [
              "<Figure size 432x288 with 1 Axes>"
            ]
          },
          "metadata": {
            "tags": []
          }
        }
      ]
    },
    {
      "cell_type": "markdown",
      "metadata": {
        "id": "PwuC2fW8pbpA",
        "colab_type": "text"
      },
      "source": [
        "# **Pre-Process Data**#\n",
        "\n",
        "Because some categorical features have multiple categories, we need to use one-hot-encoding to represent these varaibles in the dataset. Just creating numeric levels won't always make sense in the case of features like caludin_subtype which are genomic classifications"
      ]
    },
    {
      "cell_type": "code",
      "metadata": {
        "id": "3Q-GNCprraJp",
        "colab_type": "code",
        "outputId": "d1a6cec7-62c2-4ad9-def1-a4a07610895d",
        "colab": {
          "base_uri": "https://localhost:8080/",
          "height": 277
        }
      },
      "source": [
        "# Determine which variables we want to one-hot-encode\n",
        "print('Cellularity:', bc_data['cellularity'].unique())\n",
        "print('Chemotherapy:',bc_data['chemotherapy'].unique())\n",
        "print('Er_ihc:',bc_data['er_ihc'].unique())\n",
        "print('Her2_snp6:',bc_data['her2_snp6'].unique())\n",
        "print('Hormone Therapy:',bc_data['hormone_therapy'].unique())\n",
        "print('Inferred_menopausal_state:',bc_data['inferred_menopausal_state'].unique())\n",
        "print('Interclust:',bc_data['intclust'].unique())\n",
        "print('Claudin_Subtype:',bc_data['claudin_subtype'].unique())\n",
        "print('Threegene:',bc_data['threegene'].unique())\n",
        "print('Laterality:',bc_data['laterality'].unique())\n",
        "print('Radio_Therapy:',bc_data['radio_therapy'].unique())\n",
        "print('Histological_Subtype:',bc_data['histological_subtype'].unique())\n",
        "print('Breast_Surgery:',bc_data['breast_surgery'].unique())\n",
        "print('Vital_status:',bc_data['vital_status'].unique())"
      ],
      "execution_count": 21,
      "outputs": [
        {
          "output_type": "stream",
          "text": [
            "Cellularity: ['High' 'Moderate' 'Low']\n",
            "Chemotherapy: ['NO' 'YES']\n",
            "Er_ihc: ['Positve' 'Negative']\n",
            "Her2_snp6: ['NEUTRAL' 'GAIN' 'LOSS' 'UNDEF']\n",
            "Hormone Therapy: ['YES' 'NO']\n",
            "Inferred_menopausal_state: ['Pre' 'Post']\n",
            "Interclust: ['4ER+' '9' '7' '3' '8' '10' '5' '6' '1' '2' '4ER-']\n",
            "Claudin_Subtype: ['LumA' 'LumB' 'Her2' 'Normal' 'Basal' 'claudin-low' 'NC']\n",
            "Threegene: ['ER+/HER2- High Prolif' 'ER+/HER2- Low Prolif' 'ER-/HER2-' 'HER2+']\n",
            "Laterality: ['Right' 'Left']\n",
            "Radio_Therapy: ['YES' 'NO']\n",
            "Histological_Subtype: ['Ductal/NST' 'Mixed' 'Lobular' 'Tubular/ cribriform' 'Mucinous'\n",
            " 'Medullary' 'Other']\n",
            "Breast_Surgery: ['BREAST CONSERVING' 'MASTECTOMY']\n",
            "Vital_status: ['Living' 'Died of Disease']\n"
          ],
          "name": "stdout"
        }
      ]
    },
    {
      "cell_type": "code",
      "metadata": {
        "colab_type": "code",
        "id": "hpXs0AL6rksb",
        "colab": {}
      },
      "source": [
        "# Convert patinet_ids to row names first\n",
        "bc_data = bc_data.set_index(bc_data.patient_id)"
      ],
      "execution_count": 0,
      "outputs": []
    },
    {
      "cell_type": "code",
      "metadata": {
        "colab_type": "code",
        "id": "pJqbr_W0rsrN",
        "colab": {}
      },
      "source": [
        "# Create dataframe with the unchange varaibles - this will contain numeric variables\n",
        "bc_data1 = bc_data[['lymph_nodes_examined_positive', 'npi', 'age_at_diagnosis', 'os_months', 'vital_status']]\n",
        "\n",
        "# Seperate the dataframes into the varaibles that we will want to reshape - we can then recombine after - anything that has more than 2 levels\n",
        "\n",
        "# Cellularity\n",
        "cell_df = bc_data[['cellularity']]\n",
        "cell_df = pd.get_dummies(cell_df,prefix=['cellularity'])\n",
        "\n",
        "# Chemotherapy\n",
        "chemo_df = bc_data[['chemotherapy']]\n",
        "chemo_df = pd.get_dummies(chemo_df,prefix=['chemotherapy'])\n",
        "\n",
        "# Cohort\n",
        "cohort_df = bc_data[['cohort']]\n",
        "cohort_df = pd.get_dummies(cohort_df,prefix=['cohort'])\n",
        "\n",
        "# er_ihc\n",
        "er_df = bc_data[['er_ihc']]\n",
        "er_df = pd.get_dummies(er_df,prefix=['er_ihc'])\n",
        "\n",
        "# Her2_snp6\n",
        "her2_df = bc_data[['her2_snp6']]\n",
        "her2_df = pd.get_dummies(her2_df,prefix=['her2'])\n",
        "\n",
        "# Hormone Therapy\n",
        "ht_df = bc_data[['hormone_therapy']]\n",
        "ht_df = pd.get_dummies(ht_df,prefix=['hormone_therapy'])\n",
        "\n",
        "# Inferred Menopasual State\n",
        "ims_df = bc_data[['inferred_menopausal_state']]\n",
        "ims_df = pd.get_dummies(ims_df,prefix=['ims_df'])\n",
        "\n",
        "# Interclust\n",
        "intclust_df = bc_data[['intclust']]\n",
        "intclust_df = pd.get_dummies(intclust_df,prefix=['intclust'])\n",
        "\n",
        "# Claduin Subtype\n",
        "cs_df = bc_data[['claudin_subtype']]\n",
        "cs_df = pd.get_dummies(cs_df,prefix=['claudin_subtype'])\n",
        "\n",
        "# Threegene\n",
        "three_df = bc_data[['threegene']]\n",
        "three_df = pd.get_dummies(three_df,prefix=['threegene'])\n",
        "\n",
        "# Laterality\n",
        "lat_df = bc_data[['laterality']]\n",
        "lat_df = pd.get_dummies(lat_df,prefix=['laterality'])\n",
        "\n",
        "# Radiotherapy\n",
        "rt_df = bc_data[['radio_therapy']]\n",
        "rt_df = pd.get_dummies(rt_df,prefix=['radio_therapy'])\n",
        "\n",
        "# Histological_Subtype\n",
        "hist_df = bc_data[['histological_subtype']]\n",
        "hist_df = pd.get_dummies(hist_df,prefix=['hist'])\n",
        "\n",
        "# Breast Surgery\n",
        "surg_df = bc_data[['breast_surgery']]\n",
        "surg_df = pd.get_dummies(surg_df,prefix=['breast_surgery'])\n",
        "\n",
        "# Combine dataframes\n",
        "bc_data2 = cell_df.reset_index(drop=True).merge(her2_df.reset_index(drop=True), left_index=True, right_index=True)\n",
        "bc_data2 = bc_data2.reset_index(drop=True).merge(intclust_df.reset_index(drop=True), left_index=True, right_index=True)\n",
        "bc_data2 = bc_data2.reset_index(drop=True).merge(cs_df.reset_index(drop=True), left_index=True, right_index=True)\n",
        "bc_data2 = bc_data2.reset_index(drop=True).merge(three_df.reset_index(drop=True), left_index=True, right_index=True)\n",
        "bc_data2 = bc_data2.reset_index(drop=True).merge(hist_df.reset_index(drop=True), left_index=True, right_index=True)\n",
        "\n",
        "# Merge all data \n",
        "bc_data = bc_data2.reset_index(drop=True).merge(bc_data1.reset_index(drop=True), left_index=True, right_index=True)"
      ],
      "execution_count": 0,
      "outputs": []
    },
    {
      "cell_type": "code",
      "metadata": {
        "id": "wqRtZ1qprmfu",
        "colab_type": "code",
        "colab": {}
      },
      "source": [
        "#bc_data"
      ],
      "execution_count": 0,
      "outputs": []
    },
    {
      "cell_type": "markdown",
      "metadata": {
        "colab_type": "text",
        "id": "_E_xiDqgsQuv"
      },
      "source": [
        "Create dummy variables for Vital Status - Our Label"
      ]
    },
    {
      "cell_type": "code",
      "metadata": {
        "colab_type": "code",
        "id": "x0QlhIhysQuy",
        "colab": {}
      },
      "source": [
        "bc_data['vital_status'] = bc_data.vital_status.map({'Living':0, 'Died of Disease':1})"
      ],
      "execution_count": 0,
      "outputs": []
    },
    {
      "cell_type": "markdown",
      "metadata": {
        "colab_type": "text",
        "id": "yNDj16JSsW56"
      },
      "source": [
        "Covert numeric varaibles as such, right now they are all non-null objects"
      ]
    },
    {
      "cell_type": "code",
      "metadata": {
        "colab_type": "code",
        "id": "m7wveepYsW5_",
        "colab": {}
      },
      "source": [
        "bc_data = bc_data.astype(np.float32)"
      ],
      "execution_count": 0,
      "outputs": []
    },
    {
      "cell_type": "code",
      "metadata": {
        "colab_type": "code",
        "id": "dhi38nXMsW6D",
        "outputId": "b9a70f6c-b5b9-4637-a51d-60938a959df4",
        "colab": {
          "base_uri": "https://localhost:8080/",
          "height": 814
        }
      },
      "source": [
        "bc_data.info()"
      ],
      "execution_count": 27,
      "outputs": [
        {
          "output_type": "stream",
          "text": [
            "<class 'pandas.core.frame.DataFrame'>\n",
            "RangeIndex: 1519 entries, 0 to 1518\n",
            "Data columns (total 41 columns):\n",
            "cellularity_High                   1519 non-null float32\n",
            "cellularity_Low                    1519 non-null float32\n",
            "cellularity_Moderate               1519 non-null float32\n",
            "her2_GAIN                          1519 non-null float32\n",
            "her2_LOSS                          1519 non-null float32\n",
            "her2_NEUTRAL                       1519 non-null float32\n",
            "her2_UNDEF                         1519 non-null float32\n",
            "intclust_1                         1519 non-null float32\n",
            "intclust_10                        1519 non-null float32\n",
            "intclust_2                         1519 non-null float32\n",
            "intclust_3                         1519 non-null float32\n",
            "intclust_4ER+                      1519 non-null float32\n",
            "intclust_4ER-                      1519 non-null float32\n",
            "intclust_5                         1519 non-null float32\n",
            "intclust_6                         1519 non-null float32\n",
            "intclust_7                         1519 non-null float32\n",
            "intclust_8                         1519 non-null float32\n",
            "intclust_9                         1519 non-null float32\n",
            "claudin_subtype_Basal              1519 non-null float32\n",
            "claudin_subtype_Her2               1519 non-null float32\n",
            "claudin_subtype_LumA               1519 non-null float32\n",
            "claudin_subtype_LumB               1519 non-null float32\n",
            "claudin_subtype_NC                 1519 non-null float32\n",
            "claudin_subtype_Normal             1519 non-null float32\n",
            "claudin_subtype_claudin-low        1519 non-null float32\n",
            "threegene_ER+/HER2- High Prolif    1519 non-null float32\n",
            "threegene_ER+/HER2- Low Prolif     1519 non-null float32\n",
            "threegene_ER-/HER2-                1519 non-null float32\n",
            "threegene_HER2+                    1519 non-null float32\n",
            "hist_Ductal/NST                    1519 non-null float32\n",
            "hist_Lobular                       1519 non-null float32\n",
            "hist_Medullary                     1519 non-null float32\n",
            "hist_Mixed                         1519 non-null float32\n",
            "hist_Mucinous                      1519 non-null float32\n",
            "hist_Other                         1519 non-null float32\n",
            "hist_Tubular/ cribriform           1519 non-null float32\n",
            "lymph_nodes_examined_positive      1519 non-null float32\n",
            "npi                                1519 non-null float32\n",
            "age_at_diagnosis                   1519 non-null float32\n",
            "os_months                          1519 non-null float32\n",
            "vital_status                       1519 non-null float32\n",
            "dtypes: float32(41)\n",
            "memory usage: 243.4 KB\n"
          ],
          "name": "stdout"
        }
      ]
    },
    {
      "cell_type": "markdown",
      "metadata": {
        "id": "bvE2so2quSLS",
        "colab_type": "text"
      },
      "source": [
        "# **Predicting Clinical Outcomes**\n",
        "\n",
        "We will attempt to predict vital status using:\n",
        "\n",
        "* Logistic Regression\n",
        "* Random Forest\n",
        "* Neural Networks. \n",
        "\n",
        "Logistic regression and random forst classiers can help serve as a benchmark of performance once we develop our neural network classifier."
      ]
    },
    {
      "cell_type": "markdown",
      "metadata": {
        "id": "vKzlNG-xu4EN",
        "colab_type": "text"
      },
      "source": [
        "# **Training and Testing Split**\n",
        "\n",
        "For all of our classification methods, we will create a training and a testing set."
      ]
    },
    {
      "cell_type": "code",
      "metadata": {
        "id": "YxdYyZxEujxJ",
        "colab_type": "code",
        "colab": {}
      },
      "source": [
        "# Packagess\n",
        "from sklearn import preprocessing\n",
        "from sklearn.linear_model import LogisticRegression\n",
        "from sklearn.model_selection import train_test_split"
      ],
      "execution_count": 0,
      "outputs": []
    },
    {
      "cell_type": "markdown",
      "metadata": {
        "id": "qKwf3jzovYN0",
        "colab_type": "text"
      },
      "source": [
        "Format the bc_data into a features and label dataframe"
      ]
    },
    {
      "cell_type": "code",
      "metadata": {
        "id": "H421ISlCvf4d",
        "colab_type": "code",
        "colab": {}
      },
      "source": [
        "# Let x represent the input features; y the labels\n",
        "\n",
        "# Want to remove os_months, os_status, and vital_status from inputs since these are what we are trying to predict. We will include vital status as our label. I already remove os_status by leaving it out of pre-processing above, since I felt this was similar to vital_status\n",
        "\n",
        "# create x to represent the input features; y is the label; \n",
        "x =  bc_data.drop(['os_months', 'vital_status'], axis=1)\n",
        "y = bc_data.vital_status"
      ],
      "execution_count": 0,
      "outputs": []
    },
    {
      "cell_type": "markdown",
      "metadata": {
        "id": "Jot8CaTpvfEP",
        "colab_type": "text"
      },
      "source": [
        "Split the data into testing and training sets"
      ]
    },
    {
      "cell_type": "code",
      "metadata": {
        "id": "zuPWs5pQv5d2",
        "colab_type": "code",
        "colab": {}
      },
      "source": [
        "X_train, X_test, y_train, y_test = train_test_split(x, y, test_size=0.25, random_state=25)"
      ],
      "execution_count": 0,
      "outputs": []
    },
    {
      "cell_type": "markdown",
      "metadata": {
        "id": "f7UGiy4twHbY",
        "colab_type": "text"
      },
      "source": [
        "View the shapes of the training and testing sets; the datasets ending in \"train\" are our training sets; similarly, those ending in \"test\" are the testing; x prefix always represents the input features, y the labels"
      ]
    },
    {
      "cell_type": "code",
      "metadata": {
        "id": "ujubXxyzwU14",
        "colab_type": "code",
        "outputId": "3b6c829e-c58a-4daa-80d3-e87b908e2960",
        "colab": {
          "base_uri": "https://localhost:8080/",
          "height": 86
        }
      },
      "source": [
        "# Assess the trainig and testing sets previously created\n",
        "print('Training Features Shape:', X_train.shape)\n",
        "print('Training Labels Shape:', y_train.shape)\n",
        "print('Testing Features Shape:', X_test.shape)\n",
        "print('Testing Labels Shape:', y_test.shape)"
      ],
      "execution_count": 31,
      "outputs": [
        {
          "output_type": "stream",
          "text": [
            "Training Features Shape: (1139, 39)\n",
            "Training Labels Shape: (1139,)\n",
            "Testing Features Shape: (380, 39)\n",
            "Testing Labels Shape: (380,)\n"
          ],
          "name": "stdout"
        }
      ]
    },
    {
      "cell_type": "markdown",
      "metadata": {
        "id": "R2u1NBiEwYeS",
        "colab_type": "text"
      },
      "source": [
        "Examine the class distributions - these are similar splits between the training and testing sets. This is also representative of the number of cases throughout the entire dataset."
      ]
    },
    {
      "cell_type": "code",
      "metadata": {
        "id": "WzAqXr4pwX3M",
        "colab_type": "code",
        "outputId": "b0477e02-89ed-40a9-ed5a-b16b306ba62d",
        "colab": {
          "base_uri": "https://localhost:8080/",
          "height": 86
        }
      },
      "source": [
        "# Malignant = 1; Count the number of malignant and determine the percentage (traning has 426 values, testing has 143)\n",
        "print('Died of Diseases in Training Set:', np.count_nonzero(y_train == 1))\n",
        "print('Died of Diseases in Testing Set:', np.count_nonzero(y_test == 1))\n",
        "\n",
        "# Percents\n",
        "print('% Died of Diseases Cases in Training Set:', round(np.count_nonzero(y_train == 1)/1139*100,2))\n",
        "print('% Died of Diseases Cases in Testing Set:', round(np.count_nonzero(y_test == 1)/380*100,2))"
      ],
      "execution_count": 32,
      "outputs": [
        {
          "output_type": "stream",
          "text": [
            "Died of Diseases in Training Set: 373\n",
            "Died of Diseases in Testing Set: 112\n",
            "% Died of Diseases Cases in Training Set: 32.75\n",
            "% Died of Diseases Cases in Testing Set: 29.47\n"
          ],
          "name": "stdout"
        }
      ]
    },
    {
      "cell_type": "markdown",
      "metadata": {
        "id": "RaHX5zydw3H2",
        "colab_type": "text"
      },
      "source": [
        "# **Logistic Regression**\n",
        "\n",
        "These steps were followed from the following tutorial:\n",
        "\n",
        "https://www.datacamp.com/community/tutorials/understanding-logistic-regression-python"
      ]
    },
    {
      "cell_type": "markdown",
      "metadata": {
        "id": "0BdqKQJ2x0em",
        "colab_type": "text"
      },
      "source": [
        "**Define and Run the Model**"
      ]
    },
    {
      "cell_type": "code",
      "metadata": {
        "id": "3u4X6MFSxzox",
        "colab_type": "code",
        "outputId": "a785cc3d-6b45-4042-c37e-4d2496db0175",
        "colab": {
          "base_uri": "https://localhost:8080/",
          "height": 52
        }
      },
      "source": [
        "# Instantiate the model (using default parameters)\n",
        "logreg = LogisticRegression()\n",
        "\n",
        "# fit the model with data\n",
        "logreg.fit(X_train, y_train)\n",
        "\n",
        "y_pred = logreg.predict(X_test)"
      ],
      "execution_count": 33,
      "outputs": [
        {
          "output_type": "stream",
          "text": [
            "/usr/local/lib/python3.6/dist-packages/sklearn/linear_model/logistic.py:432: FutureWarning: Default solver will be changed to 'lbfgs' in 0.22. Specify a solver to silence this warning.\n",
            "  FutureWarning)\n"
          ],
          "name": "stderr"
        }
      ]
    },
    {
      "cell_type": "code",
      "metadata": {
        "id": "O-lsca1IyC-M",
        "colab_type": "code",
        "outputId": "0fafc77a-7610-4c31-f26b-9c5c020bd5d6",
        "colab": {
          "base_uri": "https://localhost:8080/",
          "height": 416
        }
      },
      "source": [
        "y_pred"
      ],
      "execution_count": 34,
      "outputs": [
        {
          "output_type": "execute_result",
          "data": {
            "text/plain": [
              "array([0., 0., 0., 0., 0., 0., 0., 0., 0., 0., 0., 0., 0., 0., 0., 0., 0.,\n",
              "       0., 0., 0., 0., 0., 1., 1., 0., 0., 0., 1., 0., 0., 0., 0., 0., 1.,\n",
              "       0., 0., 1., 0., 0., 1., 0., 0., 0., 0., 0., 0., 0., 1., 0., 1., 0.,\n",
              "       1., 0., 0., 1., 0., 0., 0., 0., 0., 0., 0., 0., 0., 0., 0., 1., 1.,\n",
              "       0., 0., 0., 0., 1., 0., 0., 0., 1., 1., 0., 0., 0., 0., 0., 0., 0.,\n",
              "       0., 0., 1., 1., 1., 0., 0., 0., 0., 1., 0., 1., 0., 0., 0., 1., 0.,\n",
              "       0., 1., 0., 0., 0., 0., 0., 1., 1., 0., 0., 0., 1., 0., 0., 0., 0.,\n",
              "       0., 0., 0., 0., 1., 0., 0., 0., 0., 0., 0., 0., 0., 0., 0., 0., 0.,\n",
              "       0., 0., 1., 0., 0., 0., 0., 0., 0., 1., 1., 0., 0., 0., 0., 0., 0.,\n",
              "       0., 1., 1., 1., 0., 0., 0., 0., 0., 0., 0., 1., 0., 0., 0., 1., 0.,\n",
              "       0., 0., 0., 0., 0., 0., 0., 0., 0., 0., 0., 0., 1., 0., 0., 0., 1.,\n",
              "       0., 0., 0., 0., 0., 1., 0., 1., 0., 0., 0., 0., 0., 0., 0., 0., 0.,\n",
              "       0., 0., 0., 0., 1., 1., 0., 0., 0., 0., 0., 0., 0., 0., 0., 0., 0.,\n",
              "       0., 0., 1., 1., 1., 0., 0., 0., 0., 0., 0., 0., 0., 0., 0., 0., 1.,\n",
              "       0., 0., 1., 0., 0., 0., 0., 0., 0., 0., 0., 1., 1., 0., 0., 1., 0.,\n",
              "       0., 0., 0., 0., 1., 0., 0., 0., 0., 0., 0., 1., 0., 0., 0., 0., 0.,\n",
              "       0., 1., 0., 0., 0., 0., 0., 0., 1., 0., 0., 0., 0., 0., 1., 0., 0.,\n",
              "       0., 0., 0., 0., 0., 0., 0., 0., 0., 0., 1., 1., 1., 0., 0., 0., 0.,\n",
              "       0., 0., 0., 0., 0., 0., 0., 0., 0., 1., 0., 0., 0., 0., 0., 0., 0.,\n",
              "       0., 0., 0., 1., 0., 0., 0., 0., 0., 0., 0., 0., 1., 0., 0., 0., 0.,\n",
              "       0., 0., 0., 0., 0., 0., 0., 0., 0., 0., 0., 0., 0., 0., 0., 0., 0.,\n",
              "       0., 0., 0., 0., 0., 0., 0., 0., 0., 0., 0., 1., 0., 0., 0., 0., 0.,\n",
              "       0., 0., 0., 1., 0., 1.], dtype=float32)"
            ]
          },
          "metadata": {
            "tags": []
          },
          "execution_count": 34
        }
      ]
    },
    {
      "cell_type": "markdown",
      "metadata": {
        "id": "xRDRV7DIyGL5",
        "colab_type": "text"
      },
      "source": [
        "**Model Evaluation Using Confusion Matrix**"
      ]
    },
    {
      "cell_type": "code",
      "metadata": {
        "id": "YyJQT7fHyLeP",
        "colab_type": "code",
        "outputId": "edfba16a-c1dd-4a45-82d1-797af73152ee",
        "colab": {
          "base_uri": "https://localhost:8080/",
          "height": 52
        }
      },
      "source": [
        "# import the metrics class\n",
        "from sklearn import metrics\n",
        "\n",
        "cnf_matrix = metrics.confusion_matrix(y_test, y_pred)\n",
        "cnf_matrix"
      ],
      "execution_count": 35,
      "outputs": [
        {
          "output_type": "execute_result",
          "data": {
            "text/plain": [
              "array([[239,  29],\n",
              "       [ 79,  33]])"
            ]
          },
          "metadata": {
            "tags": []
          },
          "execution_count": 35
        }
      ]
    },
    {
      "cell_type": "markdown",
      "metadata": {
        "id": "3CRpg41RySQT",
        "colab_type": "text"
      },
      "source": [
        "The confusion matrix generated above is in the form of an array. Diagnosal values represent accurate predictions, while non-diagonal elements are inaccurate predictions. The diagonal starting with the top left to the bottom right hand corner are actual predidictions, while the bottom left corner to the top right corner are incorrect predictions. "
      ]
    },
    {
      "cell_type": "code",
      "metadata": {
        "id": "O2BvUFrAy04x",
        "colab_type": "code",
        "outputId": "e99035c7-1f88-4423-89e7-6f73b590f47f",
        "colab": {
          "base_uri": "https://localhost:8080/",
          "height": 69
        }
      },
      "source": [
        "print(\"Accuracy:\",round(metrics.accuracy_score(y_test, y_pred),3))\n",
        "print(\"Precision:\",round(metrics.precision_score(y_test, y_pred),3))\n",
        "print(\"Recall:\",round(metrics.recall_score(y_test, y_pred),3))"
      ],
      "execution_count": 36,
      "outputs": [
        {
          "output_type": "stream",
          "text": [
            "Accuracy: 0.716\n",
            "Precision: 0.532\n",
            "Recall: 0.295\n"
          ],
          "name": "stdout"
        }
      ]
    },
    {
      "cell_type": "markdown",
      "metadata": {
        "id": "oAZw8J4mzxsD",
        "colab_type": "text"
      },
      "source": [
        "**ROC**\n",
        "\n",
        "The Reciever Operating Characteristic (ROC) curve is a plot of the true positive rate against the false positive rate. It shows the tradeoff between sensitivity and specificity. "
      ]
    },
    {
      "cell_type": "code",
      "metadata": {
        "id": "y11_Tmpu39qG",
        "colab_type": "code",
        "outputId": "f577a767-aefe-407c-80ff-58eb6bea2564",
        "colab": {
          "base_uri": "https://localhost:8080/",
          "height": 282
        }
      },
      "source": [
        "y_pred_proba = logreg.predict_proba(X_test)[::,1]\n",
        "fpr, tpr, _ = metrics.roc_curve(y_test, y_pred_proba)\n",
        "auc = metrics.roc_auc_score(y_test, y_pred_proba)\n",
        "plt.plot(fpr, tpr, label = \"data 1, auc=\"+str(auc))\n",
        "plt.legend(loc=4)\n",
        "plt.show()\n",
        "print('AUC:', round(auc,3))"
      ],
      "execution_count": 37,
      "outputs": [
        {
          "output_type": "display_data",
          "data": {
            "image/png": "[encoded data removed]",
            "text/plain": [
              "<Figure size 432x288 with 1 Axes>"
            ]
          },
          "metadata": {
            "tags": []
          }
        },
        {
          "output_type": "stream",
          "text": [
            "AUC: 0.667\n"
          ],
          "name": "stdout"
        }
      ]
    },
    {
      "cell_type": "markdown",
      "metadata": {
        "id": "5M5jCMHP8COG",
        "colab_type": "text"
      },
      "source": [
        "# **Random Forest Classification**"
      ]
    },
    {
      "cell_type": "markdown",
      "metadata": {
        "id": "2GIPkb3jy0Hn",
        "colab_type": "text"
      },
      "source": [
        "I followed the tutorial here:  https://towardsdatascience.com/random-forest-in-python-24d0893d51c0 and https://stackabuse.com/random-forest-algorithm-with-python-and-scikit-learn/"
      ]
    },
    {
      "cell_type": "markdown",
      "metadata": {
        "id": "JpN91JbL9JOA",
        "colab_type": "text"
      },
      "source": [
        "**Train the Model**"
      ]
    },
    {
      "cell_type": "code",
      "metadata": {
        "id": "_dsBsgBv9LWy",
        "colab_type": "code",
        "outputId": "8f7f4f2e-8e3f-4eeb-c7c4-8b4dc5c41862",
        "colab": {
          "base_uri": "https://localhost:8080/",
          "height": 138
        }
      },
      "source": [
        "# Import the model we are using\n",
        "from sklearn.ensemble import RandomForestClassifier\n",
        "\n",
        "# Instantiate model with 1000 decision trees\n",
        "rf = RandomForestClassifier(n_estimators = 1000, random_state = 42)\n",
        "\n",
        "# Train the model on training data\n",
        "rf.fit(X_train, y_train)"
      ],
      "execution_count": 38,
      "outputs": [
        {
          "output_type": "execute_result",
          "data": {
            "text/plain": [
              "RandomForestClassifier(bootstrap=True, class_weight=None, criterion='gini',\n",
              "                       max_depth=None, max_features='auto', max_leaf_nodes=None,\n",
              "                       min_impurity_decrease=0.0, min_impurity_split=None,\n",
              "                       min_samples_leaf=1, min_samples_split=2,\n",
              "                       min_weight_fraction_leaf=0.0, n_estimators=1000,\n",
              "                       n_jobs=None, oob_score=False, random_state=42, verbose=0,\n",
              "                       warm_start=False)"
            ]
          },
          "metadata": {
            "tags": []
          },
          "execution_count": 38
        }
      ]
    },
    {
      "cell_type": "markdown",
      "metadata": {
        "id": "FENSsY5l9aDT",
        "colab_type": "text"
      },
      "source": [
        "**Make Predictions on the Test Set**"
      ]
    },
    {
      "cell_type": "code",
      "metadata": {
        "id": "7yKF_xdj9dbD",
        "colab_type": "code",
        "outputId": "deb7565d-e73f-4693-c2af-de6eca68f0f4",
        "colab": {
          "base_uri": "https://localhost:8080/",
          "height": 34
        }
      },
      "source": [
        "# Use the forest's predict method on the test data\n",
        "predictions = rf.predict(X_test)\n",
        "# Probabilities for each class\n",
        "rf_probs = rf.predict_proba(X_test)[:, 1]\n",
        "\n",
        "# Calculate the absolute errors\n",
        "errors = abs(predictions - y_test)\n",
        "# Print out the mean absolute error (mae)\n",
        "print('Mean Absolute Error:', round(np.mean(errors), 2))"
      ],
      "execution_count": 39,
      "outputs": [
        {
          "output_type": "stream",
          "text": [
            "Mean Absolute Error: 0.31\n"
          ],
          "name": "stdout"
        }
      ]
    },
    {
      "cell_type": "markdown",
      "metadata": {
        "id": "p5pOirYXDrEn",
        "colab_type": "text"
      },
      "source": [
        "**Evaluating the Performance**\n",
        "\n",
        "For Classification Problems the metrics used to evaluate an algorithm are accuracy, confusion matrix, precision, recall, and F1 values.\n",
        "\n",
        "We can also perform cross-fold validation to have a better understanding of the results\n",
        "\n",
        "Reference: #https://medium.com/@hjhuney/implementing-a-random-forest-classification-model-in-python-583891c99652 "
      ]
    },
    {
      "cell_type": "markdown",
      "metadata": {
        "id": "Mu4eohUxFVaA",
        "colab_type": "text"
      },
      "source": [
        "**ROC on the Full Data**\n",
        "\n",
        "\n",
        "We make class predictions (predict) as well as predicted probabilities (predict_proba) to calculate the ROC AUC. Once we have the testing predictions, we can calculate the ROC AUC. https://towardsdatascience.com/an-implementation-and-explanation-of-the-random-forest-in-python-77bf308a9b76"
      ]
    },
    {
      "cell_type": "code",
      "metadata": {
        "id": "19CamuL7EZzB",
        "colab_type": "code",
        "colab": {}
      },
      "source": [
        "from sklearn.model_selection import cross_val_score\n",
        "from sklearn.metrics import classification_report, confusion_matrix, accuracy_score"
      ],
      "execution_count": 0,
      "outputs": []
    },
    {
      "cell_type": "code",
      "metadata": {
        "id": "WrO0-IuE-o0E",
        "colab_type": "code",
        "colab": {
          "base_uri": "https://localhost:8080/",
          "height": 34
        },
        "outputId": "2e9b0703-162d-415a-a8b7-17084af827d4"
      },
      "source": [
        "from sklearn.metrics import roc_auc_score\n",
        "\n",
        "# Calculate ROC AUC\n",
        "roc_value = roc_auc_score(y_test, rf_probs) \n",
        "\n",
        "roc_value"
      ],
      "execution_count": 41,
      "outputs": [
        {
          "output_type": "execute_result",
          "data": {
            "text/plain": [
              "0.6201692430703625"
            ]
          },
          "metadata": {
            "tags": []
          },
          "execution_count": 41
        }
      ]
    },
    {
      "cell_type": "code",
      "metadata": {
        "id": "fyKejE-yF88f",
        "colab_type": "code",
        "colab": {
          "base_uri": "https://localhost:8080/",
          "height": 265
        },
        "outputId": "48a1789f-80ba-46a5-e088-bd63c2d789de"
      },
      "source": [
        "# Probabilities for each class\n",
        "# Note from scikit learn: re fpr and tpr: \"Since the thresholds are sorted from low to high values, they are reversed upon returning them to ensure they correspond to both fpr and tpr, which are sorted in reversed order during their calculation.\"\n",
        "rf_probs = rf.predict_proba(X_test)[:, 1]\n",
        "fpr, tpr, _ = metrics.roc_curve(y_test, rf_probs)\n",
        "auc = metrics.roc_auc_score(y_test, rf_probs)\n",
        "auc = round(auc, 4)\n",
        "plt.plot(fpr, tpr, label=\"date 1, auc=\"+str(auc))\n",
        "plt.legend(loc=4)\n",
        "plt.show()"
      ],
      "execution_count": 42,
      "outputs": [
        {
          "output_type": "display_data",
          "data": {
            "image/png": "[encoded data removed]",
            "text/plain": [
              "<Figure size 432x288 with 1 Axes>"
            ]
          },
          "metadata": {
            "tags": []
          }
        }
      ]
    },
    {
      "cell_type": "markdown",
      "metadata": {
        "id": "3U0IYU-uFzGZ",
        "colab_type": "text"
      },
      "source": [
        "**10 Cross-Fold Validation**"
      ]
    },
    {
      "cell_type": "code",
      "metadata": {
        "id": "gQRXv1rIE9UL",
        "colab_type": "code",
        "colab": {}
      },
      "source": [
        "rfc_cv_score = cross_val_score(rf, x, y, cv=10, scoring='roc_auc') "
      ],
      "execution_count": 0,
      "outputs": []
    },
    {
      "cell_type": "markdown",
      "metadata": {
        "id": "YEonYh2WEhkU",
        "colab_type": "text"
      },
      "source": [
        "Below, we also can examine the confusion matrix, the classification report containing precision, recall, f1-score, and support, All AUC scores, and the mean AUC score\n",
        "\n",
        "The **confusion matrix** is useful for giving false positives and false negatives\n",
        "\n",
        "The **ROC Curve** plots out the true positive rate vs the false positive rate at various thresholds\n",
        "\n",
        "The **ROC AUC Scoring** used in the cross-validation model shows the area under the ROC curve"
      ]
    },
    {
      "cell_type": "code",
      "metadata": {
        "id": "haZRHJqGcv9f",
        "colab_type": "code",
        "colab": {
          "base_uri": "https://localhost:8080/",
          "height": 502
        },
        "outputId": "252ede0a-4e40-4a9e-840e-56f69ece6b79"
      },
      "source": [
        "print(\"=== Confusion Matrix ===\")\n",
        "print(confusion_matrix(y_test, predictions))\n",
        "print('\\n')\n",
        "print(\"=== Classification Report ===\")\n",
        "print(classification_report(y_test, predictions))\n",
        "print('\\n')\n",
        "print(\"=== All AUC Scores ===\")\n",
        "print(rfc_cv_score)\n",
        "print('\\n')\n",
        "print(\"=== Mean AUC Score ===\")\n",
        "print(\"Mean AUC Score - Random Forest: \", rfc_cv_score.mean())\n",
        "print('\\n')\n",
        "print(\"=== Accuracy Score ===\")\n",
        "print(\"Accuracy:\", accuracy_score(y_test, predictions))"
      ],
      "execution_count": 44,
      "outputs": [
        {
          "output_type": "stream",
          "text": [
            "=== Confusion Matrix ===\n",
            "[[224  44]\n",
            " [ 74  38]]\n",
            "\n",
            "\n",
            "=== Classification Report ===\n",
            "              precision    recall  f1-score   support\n",
            "\n",
            "         0.0       0.75      0.84      0.79       268\n",
            "         1.0       0.46      0.34      0.39       112\n",
            "\n",
            "    accuracy                           0.69       380\n",
            "   macro avg       0.61      0.59      0.59       380\n",
            "weighted avg       0.67      0.69      0.67       380\n",
            "\n",
            "\n",
            "\n",
            "=== All AUC Scores ===\n",
            "[0.69790031 0.65678964 0.64540816 0.66365777 0.5998613  0.6825445\n",
            " 0.603661   0.60032362 0.64037217 0.61165049]\n",
            "\n",
            "\n",
            "=== Mean AUC Score ===\n",
            "Mean AUC Score - Random Forest:  0.6402168970650247\n",
            "\n",
            "\n",
            "=== Accuracy Score ===\n",
            "Accuracy: 0.6894736842105263\n"
          ],
          "name": "stdout"
        }
      ]
    },
    {
      "cell_type": "markdown",
      "metadata": {
        "id": "q3zb1pR3vz0V",
        "colab_type": "text"
      },
      "source": [
        "# **Logistic Regression and Random Forest Results**\n",
        "\n",
        "**Logistic Regression classifier:**\n",
        "\n",
        "* AUC: 0.667\n",
        "* Accuracy: 0.716\n",
        "* Precision: 0.532\n",
        "* Recall: 0.295\n",
        "\n",
        "\n",
        "**Random Forest classifier:**\n",
        "\n",
        "* AUC: 0.62\n",
        "* AUC Mean 10 Fold Validation: 0.64\n",
        "* Accuracy 10 Fold Validation: 0.689"
      ]
    },
    {
      "cell_type": "markdown",
      "metadata": {
        "id": "420bkLBwGp6A",
        "colab_type": "text"
      },
      "source": [
        "# **PyTorch Neural Network For Classification**\n",
        "\n",
        "We will evaluate the use of a neural network classifier on the testing data as developed above and compare the outputs to the logistic regression and random forest classifiers above. "
      ]
    },
    {
      "cell_type": "code",
      "metadata": {
        "id": "jhs-KCueHlKj",
        "colab_type": "code",
        "colab": {}
      },
      "source": [
        "# Import PyTorch packages\n",
        "import torch\n",
        "from torch import nn\n",
        "from torchvision import datasets, transforms\n",
        "from torch import optim\n",
        "from torch.utils.data.sampler import SubsetRandomSampler\n",
        "from torch.utils.data.dataloader import DataLoader\n",
        "from torch.utils.data import TensorDataset\n",
        "import torch.nn.functional as F"
      ],
      "execution_count": 0,
      "outputs": []
    },
    {
      "cell_type": "markdown",
      "metadata": {
        "id": "9WMA1F7XxV8a",
        "colab_type": "text"
      },
      "source": [
        "**Format the Training Dataset**"
      ]
    },
    {
      "cell_type": "code",
      "metadata": {
        "id": "g7pj4XyVzUIZ",
        "colab_type": "code",
        "colab": {}
      },
      "source": [
        "# Convert data into arrays\n",
        "xb = np.array(X_train, dtype = \"float32\")\n",
        "yb = np.array(y_train, dtype = \"float32\")\n",
        "\n",
        "# Convert arrays into tensors\n",
        "xb = torch.from_numpy(xb)\n",
        "yb = torch.from_numpy(yb)\n",
        "\n",
        "# Combine the arrays\n",
        "trainloader = TensorDataset(xb, yb)\n",
        "\n",
        "# Define the batchsize\n",
        "batch_size = 25\n",
        "\n",
        "# Training Loader\n",
        "trainloader = DataLoader(trainloader, batch_size)"
      ],
      "execution_count": 0,
      "outputs": []
    },
    {
      "cell_type": "markdown",
      "metadata": {
        "id": "UtV6u9fUzrxx",
        "colab_type": "text"
      },
      "source": [
        "**Format the Testing Dataset**"
      ]
    },
    {
      "cell_type": "code",
      "metadata": {
        "id": "4xoH_jHfzwc6",
        "colab_type": "code",
        "colab": {}
      },
      "source": [
        "# Convert data into arrays\n",
        "xb = np.array(X_test, dtype = \"float32\")\n",
        "yb = np.array(y_test, dtype = \"float32\")\n",
        "\n",
        "# Convert arrays into tensors\n",
        "xb = torch.from_numpy(xb)\n",
        "yb = torch.from_numpy(yb)\n",
        "\n",
        "# Combine the arrays\n",
        "testloader = TensorDataset(xb, yb) \n",
        "\n",
        "# Define the batchsize\n",
        "batch_size=25\n",
        "\n",
        "# Training Loader\n",
        "testloader = DataLoader(testloader, \n",
        "                         batch_size)"
      ],
      "execution_count": 0,
      "outputs": []
    },
    {
      "cell_type": "markdown",
      "metadata": {
        "id": "ZOzyQUmc0PJ6",
        "colab_type": "text"
      },
      "source": [
        "**Create Nueral Network Model**"
      ]
    },
    {
      "cell_type": "code",
      "metadata": {
        "id": "j2XAPEny0Thm",
        "colab_type": "code",
        "colab": {
          "base_uri": "https://localhost:8080/",
          "height": 1000
        },
        "outputId": "5bf556be-11d1-44ed-85d8-fa25e2215674"
      },
      "source": [
        "# Define the model with two hidden layers - 39 inputs\n",
        "model = nn.Sequential(nn.Linear(39, 17),\n",
        "                      nn.ReLU(),\n",
        "                      nn.Linear(17, 2),\n",
        "                      nn.LogSoftmax(dim=1))\n",
        "\n",
        "# Set optimizer and learning rate\n",
        "optimizer = optim.SGD(model.parameters(), lr=0.001)\n",
        "\n",
        "# Could also use Adam optimizer; similar to stochastic gradient descent, but uses momentum which can speed up the actual fitting process, and it also adjusts the learning rate for each of the individual parameters in the model\n",
        "#optimizer = optim.Adam(model.parameters(), lr=0.003)\n",
        "\n",
        "# Define the loss\n",
        "criterion = nn.NLLLoss()\n",
        "\n",
        "# Set 100 epochs to start\n",
        "epochs = 100\n",
        "for e in range(epochs):\n",
        "    running_loss = 0\n",
        "    for xb, yb in trainloader:\n",
        "\n",
        "        # Flatten yb\n",
        "        #yb = yb.view(yb.shape[0], -1)\n",
        "        \n",
        "        # Clear the gradients, do this because gradients are accumulated\n",
        "        optimizer.zero_grad()\n",
        "        \n",
        "        # Training pass\n",
        "        output = model.forward(xb)\n",
        "        loss = criterion(output, yb.long()) # Loss calculated from the output compared to the labels \n",
        "        loss.backward()\n",
        "        optimizer.step()\n",
        "        \n",
        "        running_loss += loss.item() # loss.item() gets the scalar value held in the loss. Running_loss = 0, \n",
        "        # += notation, says \"Add a value and the variable and assigns the result to that variable.\" So, adds the running_loss (0) with loss.item and assigns to running_loss\n",
        "    else:\n",
        "        print(f\"Training loss: {running_loss/len(trainloader)}\")"
      ],
      "execution_count": 48,
      "outputs": [
        {
          "output_type": "stream",
          "text": [
            "Training loss: 0.6836125630399456\n",
            "Training loss: 0.6427095065946165\n",
            "Training loss: 0.638033276018889\n",
            "Training loss: 0.6304071409546811\n",
            "Training loss: 0.6280416140089864\n",
            "Training loss: 0.6264046113128248\n",
            "Training loss: 0.6249495044998501\n",
            "Training loss: 0.6236375414806864\n",
            "Training loss: 0.6224009284506673\n",
            "Training loss: 0.6212492164062418\n",
            "Training loss: 0.6202312681985938\n",
            "Training loss: 0.6191351407248041\n",
            "Training loss: 0.6182621788719426\n",
            "Training loss: 0.617519146722296\n",
            "Training loss: 0.6168564972670182\n",
            "Training loss: 0.6161918523518936\n",
            "Training loss: 0.615541661563127\n",
            "Training loss: 0.6148750458074652\n",
            "Training loss: 0.6143326603848002\n",
            "Training loss: 0.6138357520103455\n",
            "Training loss: 0.6133444484161295\n",
            "Training loss: 0.6129361041214155\n",
            "Training loss: 0.6125334449436354\n",
            "Training loss: 0.6120920122965522\n",
            "Training loss: 0.6117243617773056\n",
            "Training loss: 0.6114180463811626\n",
            "Training loss: 0.611064673765846\n",
            "Training loss: 0.6107834519251533\n",
            "Training loss: 0.610520292883334\n",
            "Training loss: 0.6102436068265334\n",
            "Training loss: 0.6100003868341446\n",
            "Training loss: 0.6097438659356988\n",
            "Training loss: 0.6095269600982252\n",
            "Training loss: 0.6093107403620429\n",
            "Training loss: 0.6091125445521396\n",
            "Training loss: 0.6089626686728519\n",
            "Training loss: 0.6087442377339238\n",
            "Training loss: 0.608543992690418\n",
            "Training loss: 0.6083752111248348\n",
            "Training loss: 0.608204195032949\n",
            "Training loss: 0.6080402531053709\n",
            "Training loss: 0.6078659270120703\n",
            "Training loss: 0.6077049335707789\n",
            "Training loss: 0.6075462880341903\n",
            "Training loss: 0.6074053638655207\n",
            "Training loss: 0.6072467636802922\n",
            "Training loss: 0.6071276528679806\n",
            "Training loss: 0.6069724177536757\n",
            "Training loss: 0.6068458466426186\n",
            "Training loss: 0.6067084313734717\n",
            "Training loss: 0.6065698726021725\n",
            "Training loss: 0.6064526684906172\n",
            "Training loss: 0.6063196846972341\n",
            "Training loss: 0.6061874161595884\n",
            "Training loss: 0.6060695103977037\n",
            "Training loss: 0.6059269613545873\n",
            "Training loss: 0.6058161284612573\n",
            "Training loss: 0.6057227791651435\n",
            "Training loss: 0.6055744873440784\n",
            "Training loss: 0.6054533739452777\n",
            "Training loss: 0.6053327781998593\n",
            "Training loss: 0.6051962479301121\n",
            "Training loss: 0.605084527445876\n",
            "Training loss: 0.605135146042575\n",
            "Training loss: 0.6050298479588135\n",
            "Training loss: 0.6047834345827932\n",
            "Training loss: 0.604770918255267\n",
            "Training loss: 0.60458370524904\n",
            "Training loss: 0.6044642057107843\n",
            "Training loss: 0.6043600511291752\n",
            "Training loss: 0.6043783406848493\n",
            "Training loss: 0.6043109440285227\n",
            "Training loss: 0.6042032902655394\n",
            "Training loss: 0.6041109244460645\n",
            "Training loss: 0.6039200794437657\n",
            "Training loss: 0.6038853156825771\n",
            "Training loss: 0.6037091262962507\n",
            "Training loss: 0.6037447834792344\n",
            "Training loss: 0.603512344153031\n",
            "Training loss: 0.6034086463244065\n",
            "Training loss: 0.6034830290338268\n",
            "Training loss: 0.603395154942637\n",
            "Training loss: 0.6032405618740164\n",
            "Training loss: 0.6031484513179116\n",
            "Training loss: 0.603060958178147\n",
            "Training loss: 0.6029911268016567\n",
            "Training loss: 0.6028843314751334\n",
            "Training loss: 0.6027678089297336\n",
            "Training loss: 0.6027162878409676\n",
            "Training loss: 0.6026201202817585\n",
            "Training loss: 0.6025344308303751\n",
            "Training loss: 0.6024517954691596\n",
            "Training loss: 0.6023734244315521\n",
            "Training loss: 0.6022880504960599\n",
            "Training loss: 0.602130765500276\n",
            "Training loss: 0.6020320731660594\n",
            "Training loss: 0.6019677778948909\n",
            "Training loss: 0.6018920650948649\n",
            "Training loss: 0.6018933822279391\n",
            "Training loss: 0.6017670845207961\n"
          ],
          "name": "stdout"
        }
      ]
    },
    {
      "cell_type": "markdown",
      "metadata": {
        "id": "Y9gy_VJT4Za5",
        "colab_type": "text"
      },
      "source": [
        "**Evaluation the Model**"
      ]
    },
    {
      "cell_type": "markdown",
      "metadata": {
        "id": "REsEMyoM2gxf",
        "colab_type": "text"
      },
      "source": [
        "The goal of validation is to measure the model's performance on data that isn't part of the training set. Performance here is up to the developer to define though. Typically, this is just accuracy, the percentage of classes the network predicted correctly. \n",
        "\n",
        "First, do a forward pass with one batch from the test set "
      ]
    },
    {
      "cell_type": "code",
      "metadata": {
        "id": "UexgheavO9L9",
        "colab_type": "code",
        "colab": {
          "base_uri": "https://localhost:8080/",
          "height": 34
        },
        "outputId": "3c1d723f-e25d-4b1e-8619-365d7db1480f"
      },
      "source": [
        "xb, yb = next(iter(testloader))\n",
        "\n",
        "# Get the class probabilities \n",
        "ps = torch.exp(model(xb))\n",
        "\n",
        "# Make sure the shape is appropriate\n",
        "print(ps.shape)"
      ],
      "execution_count": 49,
      "outputs": [
        {
          "output_type": "stream",
          "text": [
            "torch.Size([25, 2])\n"
          ],
          "name": "stdout"
        }
      ]
    },
    {
      "cell_type": "markdown",
      "metadata": {
        "id": "HE5WEs4y2qWU",
        "colab_type": "text"
      },
      "source": [
        "With the probabilities, we can get the most likely class using the ps.topk method. This returns the k highest values. Since we just want the most likely class, we can use ps.topk(1). This returns a tuple of the top-k values and the top-k indices. If the highest value is the first element, we'll get back 4 as the index. "
      ]
    },
    {
      "cell_type": "code",
      "metadata": {
        "id": "yqBllpwH2n-C",
        "colab_type": "code",
        "colab": {
          "base_uri": "https://localhost:8080/",
          "height": 364
        },
        "outputId": "f60c9376-7fd6-40d5-89c6-cc84fd49db76"
      },
      "source": [
        "top_p, top_class = ps.topk(1, dim=1)\n",
        "# Look at the most likely classes for the first 20 examples\n",
        "print(top_class[:20,:])"
      ],
      "execution_count": 50,
      "outputs": [
        {
          "output_type": "stream",
          "text": [
            "tensor([[0],\n",
            "        [1],\n",
            "        [0],\n",
            "        [0],\n",
            "        [0],\n",
            "        [0],\n",
            "        [0],\n",
            "        [0],\n",
            "        [0],\n",
            "        [0],\n",
            "        [0],\n",
            "        [0],\n",
            "        [1],\n",
            "        [0],\n",
            "        [0],\n",
            "        [0],\n",
            "        [0],\n",
            "        [0],\n",
            "        [0],\n",
            "        [1]])\n"
          ],
          "name": "stdout"
        }
      ]
    },
    {
      "cell_type": "code",
      "metadata": {
        "id": "BISWMWOw2uXS",
        "colab_type": "code",
        "colab": {
          "base_uri": "https://localhost:8080/",
          "height": 450
        },
        "outputId": "8d54fa6d-1607-4c6d-c839-caeb23e398a5"
      },
      "source": [
        "top_p"
      ],
      "execution_count": 51,
      "outputs": [
        {
          "output_type": "execute_result",
          "data": {
            "text/plain": [
              "tensor([[0.7210],\n",
              "        [0.5730],\n",
              "        [0.5945],\n",
              "        [0.7452],\n",
              "        [0.6933],\n",
              "        [0.6806],\n",
              "        [0.7077],\n",
              "        [0.6070],\n",
              "        [0.7541],\n",
              "        [0.7343],\n",
              "        [0.6740],\n",
              "        [0.6797],\n",
              "        [0.5111],\n",
              "        [0.7250],\n",
              "        [0.6335],\n",
              "        [0.6509],\n",
              "        [0.7081],\n",
              "        [0.5614],\n",
              "        [0.7494],\n",
              "        [0.5035],\n",
              "        [0.7496],\n",
              "        [0.7557],\n",
              "        [0.8135],\n",
              "        [0.5827],\n",
              "        [0.6666]], grad_fn=<TopkBackward>)"
            ]
          },
          "metadata": {
            "tags": []
          },
          "execution_count": 51
        }
      ]
    },
    {
      "cell_type": "code",
      "metadata": {
        "id": "3GmKrdfn2veS",
        "colab_type": "code",
        "colab": {
          "base_uri": "https://localhost:8080/",
          "height": 364
        },
        "outputId": "b95ee711-4794-425f-a7e7-fd911c7e3db4"
      },
      "source": [
        "ps[:20] #we can see how to correpsonding probabilities were classified above"
      ],
      "execution_count": 52,
      "outputs": [
        {
          "output_type": "execute_result",
          "data": {
            "text/plain": [
              "tensor([[0.7210, 0.2790],\n",
              "        [0.4270, 0.5730],\n",
              "        [0.5945, 0.4055],\n",
              "        [0.7452, 0.2548],\n",
              "        [0.6933, 0.3067],\n",
              "        [0.6806, 0.3194],\n",
              "        [0.7077, 0.2923],\n",
              "        [0.6070, 0.3930],\n",
              "        [0.7541, 0.2459],\n",
              "        [0.7343, 0.2657],\n",
              "        [0.6740, 0.3260],\n",
              "        [0.6797, 0.3203],\n",
              "        [0.4889, 0.5111],\n",
              "        [0.7250, 0.2750],\n",
              "        [0.6335, 0.3665],\n",
              "        [0.6509, 0.3491],\n",
              "        [0.7081, 0.2919],\n",
              "        [0.5614, 0.4386],\n",
              "        [0.7494, 0.2506],\n",
              "        [0.4965, 0.5035]], grad_fn=<SliceBackward>)"
            ]
          },
          "metadata": {
            "tags": []
          },
          "execution_count": 52
        }
      ]
    },
    {
      "cell_type": "markdown",
      "metadata": {
        "id": "nq4s-_gX2v0u",
        "colab_type": "text"
      },
      "source": [
        "Now we can check if the predicted classes match the labels. This is simple to do by equating top_class and labels, but we have to be careful of the shapes. To get the equality to work out the way we want, top_class and the labels (yb) must have the same shape."
      ]
    },
    {
      "cell_type": "code",
      "metadata": {
        "id": "CE9f0bhM2y9B",
        "colab_type": "code",
        "colab": {
          "base_uri": "https://localhost:8080/",
          "height": 450
        },
        "outputId": "4d3d4933-439a-4b08-906e-4ea06a76e58e"
      },
      "source": [
        "equals = top_class == yb.view(*top_class.shape) \n",
        "equals"
      ],
      "execution_count": 53,
      "outputs": [
        {
          "output_type": "execute_result",
          "data": {
            "text/plain": [
              "tensor([[False],\n",
              "        [False],\n",
              "        [ True],\n",
              "        [ True],\n",
              "        [False],\n",
              "        [ True],\n",
              "        [ True],\n",
              "        [False],\n",
              "        [False],\n",
              "        [ True],\n",
              "        [ True],\n",
              "        [ True],\n",
              "        [False],\n",
              "        [ True],\n",
              "        [False],\n",
              "        [ True],\n",
              "        [ True],\n",
              "        [ True],\n",
              "        [ True],\n",
              "        [False],\n",
              "        [ True],\n",
              "        [False],\n",
              "        [ True],\n",
              "        [False],\n",
              "        [False]])"
            ]
          },
          "metadata": {
            "tags": []
          },
          "execution_count": 53
        }
      ]
    },
    {
      "cell_type": "code",
      "metadata": {
        "id": "GiWb1-fv21Wh",
        "colab_type": "code",
        "colab": {
          "base_uri": "https://localhost:8080/",
          "height": 52
        },
        "outputId": "df7b83f1-55d5-45f1-c3b3-e448a36321a9"
      },
      "source": [
        "top_class = top_class.view(*yb.shape) \n",
        "top_class"
      ],
      "execution_count": 54,
      "outputs": [
        {
          "output_type": "execute_result",
          "data": {
            "text/plain": [
              "tensor([0, 1, 0, 0, 0, 0, 0, 0, 0, 0, 0, 0, 1, 0, 0, 0, 0, 0, 0, 1, 0, 0, 1, 1,\n",
              "        0])"
            ]
          },
          "metadata": {
            "tags": []
          },
          "execution_count": 54
        }
      ]
    },
    {
      "cell_type": "code",
      "metadata": {
        "id": "dWD1FSPT23Pq",
        "colab_type": "code",
        "colab": {}
      },
      "source": [
        "# Cast top_class to float32\n",
        "top_class = top_class.to(dtype=torch.float32)"
      ],
      "execution_count": 0,
      "outputs": []
    },
    {
      "cell_type": "markdown",
      "metadata": {
        "id": "R7GS83Kb25_Y",
        "colab_type": "text"
      },
      "source": [
        "Now we need to calculate the correct predictions. \n",
        "\n",
        "equals has binary values, either 0 or 1. This means that if we just sum up all the values and divide by the total number of values, we get the percentage of correct predictions. This is the same operation as taking the mean, so we can get the accuracy with a call to torch.mean. \n",
        "\n",
        "So we'll need to convert equals to a float tensor. Note that when we take torch.mean it returns a scalar tensor, to get the actual value as a float we'll need to do accuracy.item()"
      ]
    },
    {
      "cell_type": "code",
      "metadata": {
        "id": "0Eduw8C-29M9",
        "colab_type": "code",
        "colab": {
          "base_uri": "https://localhost:8080/",
          "height": 34
        },
        "outputId": "362621ef-dae1-4ba3-eda8-efb959a63c69"
      },
      "source": [
        "accuracy = torch.mean(equals.type(torch.FloatTensor))\n",
        "print(f'Accuracy: {accuracy.item()*100}%')"
      ],
      "execution_count": 56,
      "outputs": [
        {
          "output_type": "stream",
          "text": [
            "Accuracy: 56.00000023841858%\n"
          ],
          "name": "stdout"
        }
      ]
    },
    {
      "cell_type": "markdown",
      "metadata": {
        "id": "H3HHE4nX4DFL",
        "colab_type": "text"
      },
      "source": [
        "**Confusion Matrix**\n",
        "\n",
        "The confusion matrix is conducted on the test batch created above."
      ]
    },
    {
      "cell_type": "code",
      "metadata": {
        "id": "QLWZQtDJ3z-p",
        "colab_type": "code",
        "colab": {
          "base_uri": "https://localhost:8080/",
          "height": 52
        },
        "outputId": "06a8db07-d9ac-4ecf-b3fb-931356dff22b"
      },
      "source": [
        "# Calculating True Positive Rate (Sensitivity) and False Positive Rate (Sensitivity)\n",
        "# https://stackoverflow.com/questions/31324218/scikit-learn-how-to-obtain-true-positive-true-negative-false-positive-and-fal\n",
        "\n",
        "CM = confusion_matrix(yb, top_class)\n",
        "\n",
        "TN = CM[0][0] # True Negative is high - is this because our model has greater sensitivty\n",
        "FN = CM[1][0] # False Negative\n",
        "TP = CM[1][1] # True Positive\n",
        "FP = CM[0][1] # False POsitive \n",
        "\n",
        "CM"
      ],
      "execution_count": 57,
      "outputs": [
        {
          "output_type": "execute_result",
          "data": {
            "text/plain": [
              "array([[13,  4],\n",
              "       [ 7,  1]])"
            ]
          },
          "metadata": {
            "tags": []
          },
          "execution_count": 57
        }
      ]
    },
    {
      "cell_type": "markdown",
      "metadata": {
        "id": "C60Y0P5J3E6M",
        "colab_type": "text"
      },
      "source": [
        "**ROC**"
      ]
    },
    {
      "cell_type": "code",
      "metadata": {
        "id": "MZiLDsoj3Ic0",
        "colab_type": "code",
        "colab": {
          "base_uri": "https://localhost:8080/",
          "height": 34
        },
        "outputId": "8f5a9515-4025-4083-c5ce-f60a71cb515b"
      },
      "source": [
        "from fastai.vision import *\n",
        "roc_auc = auc_roc_score(yb, top_class)\n",
        "roc_auc "
      ],
      "execution_count": 58,
      "outputs": [
        {
          "output_type": "execute_result",
          "data": {
            "text/plain": [
              "tensor(0.4250)"
            ]
          },
          "metadata": {
            "tags": []
          },
          "execution_count": 58
        }
      ]
    },
    {
      "cell_type": "code",
      "metadata": {
        "id": "5Zw9DTCt3Pok",
        "colab_type": "code",
        "colab": {
          "base_uri": "https://localhost:8080/",
          "height": 34
        },
        "outputId": "d8b61f11-031d-4ad7-f670-6c08214c1558"
      },
      "source": [
        "top_class.shape"
      ],
      "execution_count": 59,
      "outputs": [
        {
          "output_type": "execute_result",
          "data": {
            "text/plain": [
              "torch.Size([25])"
            ]
          },
          "metadata": {
            "tags": []
          },
          "execution_count": 59
        }
      ]
    },
    {
      "cell_type": "markdown",
      "metadata": {
        "id": "W0J1jHJq3O1W",
        "colab_type": "text"
      },
      "source": [
        "**Plot ROC of the Model**"
      ]
    },
    {
      "cell_type": "code",
      "metadata": {
        "id": "_r3J_w2_3dzU",
        "colab_type": "code",
        "colab": {
          "base_uri": "https://localhost:8080/",
          "height": 329
        },
        "outputId": "7be2bde0-b360-4469-e0ae-e1178a65edeb"
      },
      "source": [
        "from sklearn.metrics import roc_curve, auc\n",
        "# Compute ROC curve\n",
        "fpr, tpr, thresholds = roc_curve(yb, top_p, pos_label=1)\n",
        "\n",
        "# Compute ROC area\n",
        "roc_auc = auc(fpr, tpr)\n",
        "print('ROC area is {0}'.format(roc_auc))\n",
        "plt.figure()\n",
        "plt.plot(fpr, tpr, color='darkorange', label='ROC curve (area = %0.2f)' % roc_auc)\n",
        "plt.plot([0, 1], [0, 1], color='navy', linestyle='--')\n",
        "plt.xlim([-0.01, 1.0])\n",
        "plt.ylim([0.0, 1.01])\n",
        "plt.xlabel('False Positive Rate')\n",
        "plt.ylabel('True Positive Rate')\n",
        "plt.title('Receiver operating characteristic')\n",
        "plt.legend(loc=\"lower right\")"
      ],
      "execution_count": 60,
      "outputs": [
        {
          "output_type": "stream",
          "text": [
            "ROC area is 0.6764705882352942\n"
          ],
          "name": "stdout"
        },
        {
          "output_type": "execute_result",
          "data": {
            "text/plain": [
              "<matplotlib.legend.Legend at 0x7f8c260b4e48>"
            ]
          },
          "metadata": {
            "tags": []
          },
          "execution_count": 60
        },
        {
          "output_type": "display_data",
          "data": {
            "image/png": "[encoded data removed]",
            "text/plain": [
              "<Figure size 432x288 with 1 Axes>"
            ]
          },
          "metadata": {
            "tags": []
          }
        }
      ]
    },
    {
      "cell_type": "code",
      "metadata": {
        "id": "QU8Eop_165L0",
        "colab_type": "code",
        "colab": {
          "base_uri": "https://localhost:8080/",
          "height": 52
        },
        "outputId": "9912e3cf-7e43-4d86-9293-aa2a6a6f263e"
      },
      "source": [
        "thresholds"
      ],
      "execution_count": 61,
      "outputs": [
        {
          "output_type": "execute_result",
          "data": {
            "text/plain": [
              "array([1.813515, 0.813515, 0.75405 , 0.724977, 0.721009, 0.707743, 0.693305, 0.673976, 0.666591, 0.650946, 0.607013,\n",
              "       0.503466], dtype=float32)"
            ]
          },
          "metadata": {
            "tags": []
          },
          "execution_count": 61
        }
      ]
    },
    {
      "cell_type": "markdown",
      "metadata": {
        "id": "CoAvliLk7IPz",
        "colab_type": "text"
      },
      "source": [
        "**Trying to determine the difference between the auc_roc_score and the roc_curve function - these result in different metrics, but my understanding is that roc_curve deals with thresholds. Need to understand this!**"
      ]
    }
  ]
}