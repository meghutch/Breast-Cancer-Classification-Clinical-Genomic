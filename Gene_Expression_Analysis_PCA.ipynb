{
  "nbformat": 4,
  "nbformat_minor": 0,
  "metadata": {
    "colab": {
      "name": "Gene Expression Analysis - PCA",
      "provenance": [],
      "collapsed_sections": [],
      "include_colab_link": true
    },
    "kernelspec": {
      "name": "python3",
      "display_name": "Python 3"
    }
  },
  "cells": [
    {
      "cell_type": "markdown",
      "metadata": {
        "id": "view-in-github",
        "colab_type": "text"
      },
      "source": [
        "<a href=\"https://colab.research.google.com/github/meghutch/Breast-Cancer-Classification-Clinical-Genomic/blob/master/Gene_Expression_Analysis_PCA.ipynb\" target=\"_parent\"><img src=\"https://colab.research.google.com/assets/colab-badge.svg\" alt=\"Open In Colab\"/></a>"
      ]
    },
    {
      "cell_type": "markdown",
      "metadata": {
        "id": "NdupOdmkztDr",
        "colab_type": "text"
      },
      "source": [
        "# **Predicting Clinical Outcomes of Breast Cancer Patients - Gene Expression Data**\n",
        "\n",
        "## **Principal Component Analysis**\n",
        "\n",
        "**Author:** Meg Hutch\n",
        "\n",
        "**Date:** November 15, 2019\n",
        "\n",
        "**Objective:** Analyzing the data from Lee's ML course"
      ]
    },
    {
      "cell_type": "code",
      "metadata": {
        "id": "m5qG3lqmAruE",
        "colab_type": "code",
        "colab": {}
      },
      "source": [
        "import pandas as pd\n",
        "import numpy as np\n",
        "import matplotlib\n",
        "import matplotlib.pyplot as plt\n",
        "import matplotlib.colors\n",
        "import seaborn as sns"
      ],
      "execution_count": 0,
      "outputs": []
    },
    {
      "cell_type": "code",
      "metadata": {
        "id": "CpR6ASOpzsOp",
        "colab_type": "code",
        "outputId": "02ea0378-e755-4e0b-b80b-13b2931ba789",
        "colab": {
          "base_uri": "https://localhost:8080/",
          "height": 33
        }
      },
      "source": [
        "# Connect Colab to google drive\n",
        "from google.colab import drive\n",
        "drive.mount('/content/drive')"
      ],
      "execution_count": 2,
      "outputs": [
        {
          "output_type": "stream",
          "text": [
            "Drive already mounted at /content/drive; to attempt to forcibly remount, call drive.mount(\"/content/drive\", force_remount=True).\n"
          ],
          "name": "stdout"
        }
      ]
    },
    {
      "cell_type": "code",
      "metadata": {
        "id": "9ltCT9Zv8LAd",
        "colab_type": "code",
        "colab": {}
      },
      "source": [
        "# Import Data\n",
        "gene_data = pd.read_csv('/content/drive/My Drive/Projects/Breast_Cancer_Classification/Data/merged_expression.txt', sep=',')"
      ],
      "execution_count": 0,
      "outputs": []
    },
    {
      "cell_type": "code",
      "metadata": {
        "id": "57X200aH-HFQ",
        "colab_type": "code",
        "colab": {}
      },
      "source": [
        "#gene_data.head()\n",
        "#genes.info()"
      ],
      "execution_count": 0,
      "outputs": []
    },
    {
      "cell_type": "markdown",
      "metadata": {
        "id": "_29Kdk_59QqC",
        "colab_type": "text"
      },
      "source": [
        "**Check if NAs**"
      ]
    },
    {
      "cell_type": "code",
      "metadata": {
        "id": "i2sjClIA9QOq",
        "colab_type": "code",
        "colab": {
          "base_uri": "https://localhost:8080/",
          "height": 212
        },
        "outputId": "7ff35c6a-e35b-4f0e-a4d3-2e63886ddc91"
      },
      "source": [
        "gene_data.isna().any()"
      ],
      "execution_count": 5,
      "outputs": [
        {
          "output_type": "execute_result",
          "data": {
            "text/plain": [
              "Unnamed: 0    False\n",
              "EVENT          True\n",
              "OS_MONTHS     False\n",
              "FIVE_YEAR      True\n",
              "RERE          False\n",
              "              ...  \n",
              "CC2D1A        False\n",
              "CB986545      False\n",
              "IGSF9         False\n",
              "DA110839      False\n",
              "FAM71A         True\n",
              "Length: 24372, dtype: bool"
            ]
          },
          "metadata": {
            "tags": []
          },
          "execution_count": 5
        }
      ]
    },
    {
      "cell_type": "markdown",
      "metadata": {
        "id": "gjHaZnph9V3A",
        "colab_type": "text"
      },
      "source": [
        "**Remove cases where there are missing values**"
      ]
    },
    {
      "cell_type": "code",
      "metadata": {
        "id": "9f85OtiV9yy8",
        "colab_type": "code",
        "colab": {}
      },
      "source": [
        "gene_data = gene_data.dropna()"
      ],
      "execution_count": 0,
      "outputs": []
    },
    {
      "cell_type": "code",
      "metadata": {
        "id": "uuGUGuNmKB0r",
        "colab_type": "code",
        "colab": {
          "base_uri": "https://localhost:8080/",
          "height": 98
        },
        "outputId": "9c17692d-4ee8-48d9-b222-32bc03db1edc"
      },
      "source": [
        "gene_data.info()"
      ],
      "execution_count": 7,
      "outputs": [
        {
          "output_type": "stream",
          "text": [
            "<class 'pandas.core.frame.DataFrame'>\n",
            "Int64Index: 1747 entries, 0 to 1903\n",
            "Columns: 24372 entries, Unnamed: 0 to FAM71A\n",
            "dtypes: float64(24371), object(1)\n",
            "memory usage: 324.9+ MB\n"
          ],
          "name": "stdout"
        }
      ]
    },
    {
      "cell_type": "markdown",
      "metadata": {
        "id": "bLtwUznBJliI",
        "colab_type": "text"
      },
      "source": [
        "**Create a dataset just containing gene expression**"
      ]
    },
    {
      "cell_type": "code",
      "metadata": {
        "id": "d39noFie28iQ",
        "colab_type": "code",
        "colab": {}
      },
      "source": [
        "# remove event, os_motnhs, and Five_Year from the dataset\n",
        "genes = gene_data.drop(columns=[\"Unnamed: 0\", \"EVENT\", \"OS_MONTHS\", \"FIVE_YEAR\"])"
      ],
      "execution_count": 0,
      "outputs": []
    },
    {
      "cell_type": "markdown",
      "metadata": {
        "colab_type": "text",
        "id": "zut5zJUr4fAJ"
      },
      "source": [
        "# **Principal Component Analysis**\n",
        "\n",
        "**What is a Pricipal Component? (From DataCamp)**\n",
        "\n",
        "Principal componenets have both direction and magnitude. The direction represents across which principal axes the data is mostly spread out or has the most variance and the magnitude signifies the aount of varaince that Principal Component captures of the data when projected onto that axis. \n",
        "\n",
        "The principal components are a straight line, and the first principal component holds the most variance in the data. Each subsequent prinicpal component is orthogonal to the last and has a lesser variance .\n",
        "\n",
        "Correlated features contribute to the same principal component, thereby reducing the original data features into uncorrelated prinicpal components; each representing a different set of correlated features with differents of variation.\n",
        "\n",
        "Each principal component represents a percentage of total variation captures from the data\n",
        "\n",
        "\n",
        "References:\n",
        "\n",
        "* https://towardsdatascience.com/pca-using-python-scikit-learn-e653f8989e60\n",
        "\n",
        "* https://www.datacamp.com/community/tutorials/principal-component-analysis-in-python\n",
        "\n",
        "* https://towardsdatascience.com/a-one-stop-shop-for-principal-component-analysis-5582fb7e0a9c"
      ]
    },
    {
      "cell_type": "markdown",
      "metadata": {
        "id": "riSqBLBQ0oK7",
        "colab_type": "text"
      },
      "source": [
        "**1) Standardize the Data**\n",
        "\n",
        "PCA is effected by scale so you must scale features in your data before applying PCA. **StandardScaler** helps standardize features onto unit scale (mean = 0 and standard deviation = 1). This, each value in the dataset will have the sample mean value subtracted and then divided by the standard deviation of the whole dataset. \n"
      ]
    },
    {
      "cell_type": "code",
      "metadata": {
        "id": "eWr1RzF12Pyb",
        "colab_type": "code",
        "colab": {}
      },
      "source": [
        "from sklearn.preprocessing import StandardScaler \n",
        "\n",
        "x = StandardScaler().fit_transform(genes)"
      ],
      "execution_count": 0,
      "outputs": []
    },
    {
      "cell_type": "markdown",
      "metadata": {
        "id": "GsDxV1qR_OzR",
        "colab_type": "text"
      },
      "source": [
        "Let's check whether the normalized data has a mean of zero and a standard deviation of one. "
      ]
    },
    {
      "cell_type": "code",
      "metadata": {
        "id": "Z6yRTfin_KEP",
        "colab_type": "code",
        "colab": {
          "base_uri": "https://localhost:8080/",
          "height": 33
        },
        "outputId": "fb6c99fd-223a-4dd9-85a5-1d8ef12ace8e"
      },
      "source": [
        "np.mean(x), np.std(x)"
      ],
      "execution_count": 10,
      "outputs": [
        {
          "output_type": "execute_result",
          "data": {
            "text/plain": [
              "(4.1760406566772064e-19, 0.9999999999999999)"
            ]
          },
          "metadata": {
            "tags": []
          },
          "execution_count": 10
        }
      ]
    },
    {
      "cell_type": "markdown",
      "metadata": {
        "id": "W2pzskJS_UEz",
        "colab_type": "text"
      },
      "source": [
        "Convert the normalized features into tabular format "
      ]
    },
    {
      "cell_type": "code",
      "metadata": {
        "id": "3xKkBbp4_W3V",
        "colab_type": "code",
        "colab": {}
      },
      "source": [
        "# Create list of column names\n",
        "features = list(genes.columns.values) \n",
        "\n",
        "# Create data frame of newly normalized data\n",
        "x = pd.DataFrame(x, columns = features)"
      ],
      "execution_count": 0,
      "outputs": []
    },
    {
      "cell_type": "markdown",
      "metadata": {
        "id": "nFQt5RulAiYC",
        "colab_type": "text"
      },
      "source": [
        "**2) PCA Projection to 2D**"
      ]
    },
    {
      "cell_type": "code",
      "metadata": {
        "id": "ZhT8EtKgHCh6",
        "colab_type": "code",
        "colab": {}
      },
      "source": [
        "from sklearn.decomposition import PCA \n",
        "\n",
        "pca = PCA(n_components = 2)\n",
        "\n",
        "principalComponents = pca.fit_transform(x)\n",
        "\n",
        "principalDf = pd.DataFrame(data = principalComponents, columns = ['principal component 1', 'principal component 2'])"
      ],
      "execution_count": 0,
      "outputs": []
    },
    {
      "cell_type": "code",
      "metadata": {
        "id": "RPWVX-qHHpZo",
        "colab_type": "code",
        "colab": {
          "base_uri": "https://localhost:8080/",
          "height": 391
        },
        "outputId": "86fe43b3-853d-47ad-d145-ca3130ddcbe6"
      },
      "source": [
        "principalDf"
      ],
      "execution_count": 13,
      "outputs": [
        {
          "output_type": "execute_result",
          "data": {
            "text/html": [
              "<div>\n",
              "<style scoped>\n",
              "    .dataframe tbody tr th:only-of-type {\n",
              "        vertical-align: middle;\n",
              "    }\n",
              "\n",
              "    .dataframe tbody tr th {\n",
              "        vertical-align: top;\n",
              "    }\n",
              "\n",
              "    .dataframe thead th {\n",
              "        text-align: right;\n",
              "    }\n",
              "</style>\n",
              "<table border=\"1\" class=\"dataframe\">\n",
              "  <thead>\n",
              "    <tr style=\"text-align: right;\">\n",
              "      <th></th>\n",
              "      <th>principal component 1</th>\n",
              "      <th>principal component 2</th>\n",
              "    </tr>\n",
              "  </thead>\n",
              "  <tbody>\n",
              "    <tr>\n",
              "      <th>0</th>\n",
              "      <td>-46.927916</td>\n",
              "      <td>4.739975</td>\n",
              "    </tr>\n",
              "    <tr>\n",
              "      <th>1</th>\n",
              "      <td>-11.099103</td>\n",
              "      <td>-33.901961</td>\n",
              "    </tr>\n",
              "    <tr>\n",
              "      <th>2</th>\n",
              "      <td>-96.985058</td>\n",
              "      <td>-24.940919</td>\n",
              "    </tr>\n",
              "    <tr>\n",
              "      <th>3</th>\n",
              "      <td>-88.693562</td>\n",
              "      <td>-21.679792</td>\n",
              "    </tr>\n",
              "    <tr>\n",
              "      <th>4</th>\n",
              "      <td>-24.570042</td>\n",
              "      <td>-9.740269</td>\n",
              "    </tr>\n",
              "    <tr>\n",
              "      <th>...</th>\n",
              "      <td>...</td>\n",
              "      <td>...</td>\n",
              "    </tr>\n",
              "    <tr>\n",
              "      <th>1742</th>\n",
              "      <td>-54.051508</td>\n",
              "      <td>-14.065397</td>\n",
              "    </tr>\n",
              "    <tr>\n",
              "      <th>1743</th>\n",
              "      <td>-30.199493</td>\n",
              "      <td>-2.340925</td>\n",
              "    </tr>\n",
              "    <tr>\n",
              "      <th>1744</th>\n",
              "      <td>-46.568089</td>\n",
              "      <td>-10.402574</td>\n",
              "    </tr>\n",
              "    <tr>\n",
              "      <th>1745</th>\n",
              "      <td>-39.894574</td>\n",
              "      <td>-16.699317</td>\n",
              "    </tr>\n",
              "    <tr>\n",
              "      <th>1746</th>\n",
              "      <td>-41.863649</td>\n",
              "      <td>18.083021</td>\n",
              "    </tr>\n",
              "  </tbody>\n",
              "</table>\n",
              "<p>1747 rows × 2 columns</p>\n",
              "</div>"
            ],
            "text/plain": [
              "      principal component 1  principal component 2\n",
              "0                -46.927916               4.739975\n",
              "1                -11.099103             -33.901961\n",
              "2                -96.985058             -24.940919\n",
              "3                -88.693562             -21.679792\n",
              "4                -24.570042              -9.740269\n",
              "...                     ...                    ...\n",
              "1742             -54.051508             -14.065397\n",
              "1743             -30.199493              -2.340925\n",
              "1744             -46.568089             -10.402574\n",
              "1745             -39.894574             -16.699317\n",
              "1746             -41.863649              18.083021\n",
              "\n",
              "[1747 rows x 2 columns]"
            ]
          },
          "metadata": {
            "tags": []
          },
          "execution_count": 13
        }
      ]
    },
    {
      "cell_type": "code",
      "metadata": {
        "id": "C23GWVKwHsPO",
        "colab_type": "code",
        "colab": {}
      },
      "source": [
        "# the below function is trying to concatenate the princpalDf to a dataframe that has labels \n",
        "label = gene_data.FIVE_YEAR\n",
        "label = pd.DataFrame(label)\n",
        "\n",
        "label = label.reset_index(drop=True)\n",
        "prinicpalDf = principalDf.reset_index(drop=True)\n",
        "\n",
        "finalDf = pd.concat([principalDf, label], axis=1)"
      ],
      "execution_count": 0,
      "outputs": []
    },
    {
      "cell_type": "code",
      "metadata": {
        "id": "IdM9PtxYJS_U",
        "colab_type": "code",
        "colab": {
          "base_uri": "https://localhost:8080/",
          "height": 391
        },
        "outputId": "6e6ccd4d-5693-458f-d601-2029b01a7f82"
      },
      "source": [
        "finalDf"
      ],
      "execution_count": 15,
      "outputs": [
        {
          "output_type": "execute_result",
          "data": {
            "text/html": [
              "<div>\n",
              "<style scoped>\n",
              "    .dataframe tbody tr th:only-of-type {\n",
              "        vertical-align: middle;\n",
              "    }\n",
              "\n",
              "    .dataframe tbody tr th {\n",
              "        vertical-align: top;\n",
              "    }\n",
              "\n",
              "    .dataframe thead th {\n",
              "        text-align: right;\n",
              "    }\n",
              "</style>\n",
              "<table border=\"1\" class=\"dataframe\">\n",
              "  <thead>\n",
              "    <tr style=\"text-align: right;\">\n",
              "      <th></th>\n",
              "      <th>principal component 1</th>\n",
              "      <th>principal component 2</th>\n",
              "      <th>FIVE_YEAR</th>\n",
              "    </tr>\n",
              "  </thead>\n",
              "  <tbody>\n",
              "    <tr>\n",
              "      <th>0</th>\n",
              "      <td>-46.927916</td>\n",
              "      <td>4.739975</td>\n",
              "      <td>1.0</td>\n",
              "    </tr>\n",
              "    <tr>\n",
              "      <th>1</th>\n",
              "      <td>-11.099103</td>\n",
              "      <td>-33.901961</td>\n",
              "      <td>1.0</td>\n",
              "    </tr>\n",
              "    <tr>\n",
              "      <th>2</th>\n",
              "      <td>-96.985058</td>\n",
              "      <td>-24.940919</td>\n",
              "      <td>1.0</td>\n",
              "    </tr>\n",
              "    <tr>\n",
              "      <th>3</th>\n",
              "      <td>-88.693562</td>\n",
              "      <td>-21.679792</td>\n",
              "      <td>1.0</td>\n",
              "    </tr>\n",
              "    <tr>\n",
              "      <th>4</th>\n",
              "      <td>-24.570042</td>\n",
              "      <td>-9.740269</td>\n",
              "      <td>0.0</td>\n",
              "    </tr>\n",
              "    <tr>\n",
              "      <th>...</th>\n",
              "      <td>...</td>\n",
              "      <td>...</td>\n",
              "      <td>...</td>\n",
              "    </tr>\n",
              "    <tr>\n",
              "      <th>1742</th>\n",
              "      <td>-54.051508</td>\n",
              "      <td>-14.065397</td>\n",
              "      <td>1.0</td>\n",
              "    </tr>\n",
              "    <tr>\n",
              "      <th>1743</th>\n",
              "      <td>-30.199493</td>\n",
              "      <td>-2.340925</td>\n",
              "      <td>0.0</td>\n",
              "    </tr>\n",
              "    <tr>\n",
              "      <th>1744</th>\n",
              "      <td>-46.568089</td>\n",
              "      <td>-10.402574</td>\n",
              "      <td>1.0</td>\n",
              "    </tr>\n",
              "    <tr>\n",
              "      <th>1745</th>\n",
              "      <td>-39.894574</td>\n",
              "      <td>-16.699317</td>\n",
              "      <td>1.0</td>\n",
              "    </tr>\n",
              "    <tr>\n",
              "      <th>1746</th>\n",
              "      <td>-41.863649</td>\n",
              "      <td>18.083021</td>\n",
              "      <td>1.0</td>\n",
              "    </tr>\n",
              "  </tbody>\n",
              "</table>\n",
              "<p>1747 rows × 3 columns</p>\n",
              "</div>"
            ],
            "text/plain": [
              "      principal component 1  principal component 2  FIVE_YEAR\n",
              "0                -46.927916               4.739975        1.0\n",
              "1                -11.099103             -33.901961        1.0\n",
              "2                -96.985058             -24.940919        1.0\n",
              "3                -88.693562             -21.679792        1.0\n",
              "4                -24.570042              -9.740269        0.0\n",
              "...                     ...                    ...        ...\n",
              "1742             -54.051508             -14.065397        1.0\n",
              "1743             -30.199493              -2.340925        0.0\n",
              "1744             -46.568089             -10.402574        1.0\n",
              "1745             -39.894574             -16.699317        1.0\n",
              "1746             -41.863649              18.083021        1.0\n",
              "\n",
              "[1747 rows x 3 columns]"
            ]
          },
          "metadata": {
            "tags": []
          },
          "execution_count": 15
        }
      ]
    },
    {
      "cell_type": "markdown",
      "metadata": {
        "colab_type": "text",
        "id": "E_Z_d0M7QWXm"
      },
      "source": [
        "**3) Visualize 2D Projection**"
      ]
    },
    {
      "cell_type": "code",
      "metadata": {
        "id": "9Dy64I4VIMl4",
        "colab_type": "code",
        "colab": {
          "base_uri": "https://localhost:8080/",
          "height": 522
        },
        "outputId": "26dfab2b-e8aa-45fc-fe99-3a08496f47fd"
      },
      "source": [
        "fig = plt.figure(figsize = (8,8))\n",
        "ax = fig.add_subplot(1,1,1) \n",
        "ax.set_xlabel('Principal Component 1', fontsize = 15)\n",
        "ax.set_ylabel('Principal Component 2', fontsize = 15)\n",
        "ax.set_title('2 component PCA', fontsize = 20)\n",
        "\n",
        "\n",
        "targets = [1, 0] #make sure this is labeled correctly\n",
        "colors = ['r', 'g']\n",
        "for target, color in zip(targets,colors):\n",
        "    indicesToKeep = finalDf['FIVE_YEAR'] ==  target\n",
        "    ax.scatter(finalDf.loc[indicesToKeep, 'principal component 1']\n",
        "               , finalDf.loc[indicesToKeep, 'principal component 2']\n",
        "               , c = color\n",
        "               , s = 50)\n",
        "ax.legend(targets)\n",
        "ax.grid()"
      ],
      "execution_count": 16,
      "outputs": [
        {
          "output_type": "display_data",
          "data": {
            "image/png": "[encoded data removed]",
            "text/plain": [
              "<Figure size 576x576 with 1 Axes>"
            ]
          },
          "metadata": {
            "tags": []
          }
        }
      ]
    },
    {
      "cell_type": "markdown",
      "metadata": {
        "id": "H4A0A7cJR1nR",
        "colab_type": "text"
      },
      "source": [
        "The explained variance tells you how much information (variance) can be attributed to each of the prinicpal componenets. This is important as while you can convert 4 dimensional space to 2 dimensional space, you lose some of the varaince (information) when you do this. By using the attribute **explained_varaince_ratio_** you cna see how much variation the first prinicpal component and second component contain. Additionally, we can determine how much information the two components together contain. "
      ]
    },
    {
      "cell_type": "code",
      "metadata": {
        "id": "BdnLFWt0STyd",
        "colab_type": "code",
        "colab": {
          "base_uri": "https://localhost:8080/",
          "height": 50
        },
        "outputId": "e6d8bbbe-cca3-4c91-8747-b2777c4f5c70"
      },
      "source": [
        "print('Component Variation', pca.explained_variance_ratio_)\n",
        "print('Total Variation', sum(pca.explained_variance_ratio_))"
      ],
      "execution_count": 17,
      "outputs": [
        {
          "output_type": "stream",
          "text": [
            "Component Variation [0.06538998 0.04392725]\n",
            "Total Variation 0.10931722435423394\n"
          ],
          "name": "stdout"
        }
      ]
    },
    {
      "cell_type": "markdown",
      "metadata": {
        "id": "P_iCiwFaTaX_",
        "colab_type": "text"
      },
      "source": [
        "**4) Determine # of Components and Variance**"
      ]
    },
    {
      "cell_type": "code",
      "metadata": {
        "id": "VtTtafLjVz_8",
        "colab_type": "code",
        "colab": {
          "base_uri": "https://localhost:8080/",
          "height": 295
        },
        "outputId": "f862d495-8c1b-4899-bc27-ad86d6e8a2f9"
      },
      "source": [
        "pca = PCA().fit(x)\n",
        "\n",
        "#Plotting the Cumulative Summation of the Explained Variance\n",
        "plt.figure()\n",
        "plt.plot(np.cumsum(pca.explained_variance_ratio_))\n",
        "plt.xlabel('Number of Components')\n",
        "plt.ylabel('Variance (%)') #for each component\n",
        "plt.title('Gene Expression Explained Variance')\n",
        "plt.show()"
      ],
      "execution_count": 18,
      "outputs": [
        {
          "output_type": "display_data",
          "data": {
            "image/png": "[encoded data removed]",
            "text/plain": [
              "<Figure size 432x288 with 1 Axes>"
            ]
          },
          "metadata": {
            "tags": []
          }
        }
      ]
    },
    {
      "cell_type": "markdown",
      "metadata": {
        "id": "SqmgcS04VxOy",
        "colab_type": "text"
      },
      "source": [
        "The plot tells us that with ~1250 components we can capture 90% of the data. "
      ]
    },
    {
      "cell_type": "code",
      "metadata": {
        "id": "eQq27-9FaG63",
        "colab_type": "code",
        "colab": {}
      },
      "source": [
        "# 100 Prinicipal Components\n",
        "pca = PCA(n_components = 100)\n",
        "\n",
        "# Fit components with normalized data\n",
        "principalComponents = pca.fit_transform(x)\n",
        "\n",
        "# Generate a vector of column names with the number for each prinicpal component \n",
        "col_names = [f'principal component {i}' for i in range(1, 101)]\n",
        "\n",
        "# Add column names to the principal component dataset \n",
        "principalDf = pd.DataFrame(principalComponents, columns = col_names)"
      ],
      "execution_count": 0,
      "outputs": []
    },
    {
      "cell_type": "code",
      "metadata": {
        "id": "89DAgYcCae30",
        "colab_type": "code",
        "colab": {
          "base_uri": "https://localhost:8080/",
          "height": 228
        },
        "outputId": "bebfcb96-f8b1-4ded-d20c-fe4e8b8e39f3"
      },
      "source": [
        "principalComponents"
      ],
      "execution_count": 20,
      "outputs": [
        {
          "output_type": "execute_result",
          "data": {
            "text/plain": [
              "array([[-46.92791594,   4.73997594, -55.99933227, ...,   0.35332422,\n",
              "          0.14842375,  -5.73560803],\n",
              "       [-11.099104  , -33.90189424,  15.78511389, ...,  -3.57709156,\n",
              "          2.99536889,  -5.05040452],\n",
              "       [-96.98505872, -24.94090594,  28.62465774, ...,  -2.58790726,\n",
              "         -3.84073074,   8.17424822],\n",
              "       ...,\n",
              "       [-46.5680879 , -10.40262235,  44.05713059, ...,  -3.73891702,\n",
              "          3.36151311,  -1.57733571],\n",
              "       [-39.8945741 , -16.69929388,  21.70979834, ...,   1.80335908,\n",
              "          2.24099723,   1.95570538],\n",
              "       [-41.86364854,  18.08299549,   7.80661058, ...,  -0.94656383,\n",
              "         -2.50662097,  -1.99153685]])"
            ]
          },
          "metadata": {
            "tags": []
          },
          "execution_count": 20
        }
      ]
    },
    {
      "cell_type": "code",
      "metadata": {
        "id": "RnEmYfJdamRX",
        "colab_type": "code",
        "colab": {}
      },
      "source": [
        "# the below function is trying to concatenate the princpalDf to a dataframe that has labels \n",
        "label = gene_data.FIVE_YEAR\n",
        "label = pd.DataFrame(label)\n",
        "\n",
        "label = label.reset_index(drop=True)\n",
        "prinicpalDf = principalDf.reset_index(drop=True)\n",
        "\n",
        "finalDf = pd.concat([principalDf, label], axis=1)"
      ],
      "execution_count": 0,
      "outputs": []
    },
    {
      "cell_type": "code",
      "metadata": {
        "id": "j_xgefy1bbaB",
        "colab_type": "code",
        "colab": {
          "base_uri": "https://localhost:8080/",
          "height": 443
        },
        "outputId": "c142511d-f598-4ac1-abd9-b4d9409d02f3"
      },
      "source": [
        "finalDf"
      ],
      "execution_count": 22,
      "outputs": [
        {
          "output_type": "execute_result",
          "data": {
            "text/html": [
              "<div>\n",
              "<style scoped>\n",
              "    .dataframe tbody tr th:only-of-type {\n",
              "        vertical-align: middle;\n",
              "    }\n",
              "\n",
              "    .dataframe tbody tr th {\n",
              "        vertical-align: top;\n",
              "    }\n",
              "\n",
              "    .dataframe thead th {\n",
              "        text-align: right;\n",
              "    }\n",
              "</style>\n",
              "<table border=\"1\" class=\"dataframe\">\n",
              "  <thead>\n",
              "    <tr style=\"text-align: right;\">\n",
              "      <th></th>\n",
              "      <th>principal component 1</th>\n",
              "      <th>principal component 2</th>\n",
              "      <th>principal component 3</th>\n",
              "      <th>principal component 4</th>\n",
              "      <th>principal component 5</th>\n",
              "      <th>principal component 6</th>\n",
              "      <th>principal component 7</th>\n",
              "      <th>principal component 8</th>\n",
              "      <th>principal component 9</th>\n",
              "      <th>principal component 10</th>\n",
              "      <th>principal component 11</th>\n",
              "      <th>principal component 12</th>\n",
              "      <th>principal component 13</th>\n",
              "      <th>principal component 14</th>\n",
              "      <th>principal component 15</th>\n",
              "      <th>principal component 16</th>\n",
              "      <th>principal component 17</th>\n",
              "      <th>principal component 18</th>\n",
              "      <th>principal component 19</th>\n",
              "      <th>principal component 20</th>\n",
              "      <th>principal component 21</th>\n",
              "      <th>principal component 22</th>\n",
              "      <th>principal component 23</th>\n",
              "      <th>principal component 24</th>\n",
              "      <th>principal component 25</th>\n",
              "      <th>principal component 26</th>\n",
              "      <th>principal component 27</th>\n",
              "      <th>principal component 28</th>\n",
              "      <th>principal component 29</th>\n",
              "      <th>principal component 30</th>\n",
              "      <th>principal component 31</th>\n",
              "      <th>principal component 32</th>\n",
              "      <th>principal component 33</th>\n",
              "      <th>principal component 34</th>\n",
              "      <th>principal component 35</th>\n",
              "      <th>principal component 36</th>\n",
              "      <th>principal component 37</th>\n",
              "      <th>principal component 38</th>\n",
              "      <th>principal component 39</th>\n",
              "      <th>principal component 40</th>\n",
              "      <th>...</th>\n",
              "      <th>principal component 62</th>\n",
              "      <th>principal component 63</th>\n",
              "      <th>principal component 64</th>\n",
              "      <th>principal component 65</th>\n",
              "      <th>principal component 66</th>\n",
              "      <th>principal component 67</th>\n",
              "      <th>principal component 68</th>\n",
              "      <th>principal component 69</th>\n",
              "      <th>principal component 70</th>\n",
              "      <th>principal component 71</th>\n",
              "      <th>principal component 72</th>\n",
              "      <th>principal component 73</th>\n",
              "      <th>principal component 74</th>\n",
              "      <th>principal component 75</th>\n",
              "      <th>principal component 76</th>\n",
              "      <th>principal component 77</th>\n",
              "      <th>principal component 78</th>\n",
              "      <th>principal component 79</th>\n",
              "      <th>principal component 80</th>\n",
              "      <th>principal component 81</th>\n",
              "      <th>principal component 82</th>\n",
              "      <th>principal component 83</th>\n",
              "      <th>principal component 84</th>\n",
              "      <th>principal component 85</th>\n",
              "      <th>principal component 86</th>\n",
              "      <th>principal component 87</th>\n",
              "      <th>principal component 88</th>\n",
              "      <th>principal component 89</th>\n",
              "      <th>principal component 90</th>\n",
              "      <th>principal component 91</th>\n",
              "      <th>principal component 92</th>\n",
              "      <th>principal component 93</th>\n",
              "      <th>principal component 94</th>\n",
              "      <th>principal component 95</th>\n",
              "      <th>principal component 96</th>\n",
              "      <th>principal component 97</th>\n",
              "      <th>principal component 98</th>\n",
              "      <th>principal component 99</th>\n",
              "      <th>principal component 100</th>\n",
              "      <th>FIVE_YEAR</th>\n",
              "    </tr>\n",
              "  </thead>\n",
              "  <tbody>\n",
              "    <tr>\n",
              "      <th>0</th>\n",
              "      <td>-46.927916</td>\n",
              "      <td>4.739976</td>\n",
              "      <td>-55.999332</td>\n",
              "      <td>32.035664</td>\n",
              "      <td>19.910327</td>\n",
              "      <td>22.467124</td>\n",
              "      <td>-9.464583</td>\n",
              "      <td>27.687378</td>\n",
              "      <td>40.899387</td>\n",
              "      <td>17.413664</td>\n",
              "      <td>12.874126</td>\n",
              "      <td>23.709718</td>\n",
              "      <td>-15.148509</td>\n",
              "      <td>-0.865480</td>\n",
              "      <td>9.578477</td>\n",
              "      <td>43.509341</td>\n",
              "      <td>8.147630</td>\n",
              "      <td>-0.625955</td>\n",
              "      <td>17.645075</td>\n",
              "      <td>-1.618973</td>\n",
              "      <td>9.019823</td>\n",
              "      <td>4.457683</td>\n",
              "      <td>4.518079</td>\n",
              "      <td>-4.937906</td>\n",
              "      <td>-24.213696</td>\n",
              "      <td>8.106651</td>\n",
              "      <td>13.850101</td>\n",
              "      <td>1.109611</td>\n",
              "      <td>6.632134</td>\n",
              "      <td>-3.497648</td>\n",
              "      <td>7.402637</td>\n",
              "      <td>-6.766772</td>\n",
              "      <td>6.954198</td>\n",
              "      <td>-2.207885</td>\n",
              "      <td>20.363832</td>\n",
              "      <td>1.952470</td>\n",
              "      <td>4.001967</td>\n",
              "      <td>-5.774109</td>\n",
              "      <td>14.481782</td>\n",
              "      <td>-1.432400</td>\n",
              "      <td>...</td>\n",
              "      <td>-6.204219</td>\n",
              "      <td>-2.106273</td>\n",
              "      <td>2.115288</td>\n",
              "      <td>0.215775</td>\n",
              "      <td>6.865856</td>\n",
              "      <td>5.833266</td>\n",
              "      <td>5.046672</td>\n",
              "      <td>-4.163628</td>\n",
              "      <td>-6.259980</td>\n",
              "      <td>-4.139037</td>\n",
              "      <td>-7.559927</td>\n",
              "      <td>10.524544</td>\n",
              "      <td>-2.836606</td>\n",
              "      <td>12.129085</td>\n",
              "      <td>4.241912</td>\n",
              "      <td>9.000577</td>\n",
              "      <td>3.583163</td>\n",
              "      <td>5.787557</td>\n",
              "      <td>-10.134249</td>\n",
              "      <td>-4.439234</td>\n",
              "      <td>9.254485</td>\n",
              "      <td>-1.443239</td>\n",
              "      <td>5.370620</td>\n",
              "      <td>5.256249</td>\n",
              "      <td>-5.833328</td>\n",
              "      <td>15.013437</td>\n",
              "      <td>3.187856</td>\n",
              "      <td>-4.340486</td>\n",
              "      <td>-4.348586</td>\n",
              "      <td>-14.233659</td>\n",
              "      <td>9.127227</td>\n",
              "      <td>-0.243058</td>\n",
              "      <td>-2.542066</td>\n",
              "      <td>5.148303</td>\n",
              "      <td>15.066175</td>\n",
              "      <td>-0.741169</td>\n",
              "      <td>0.353324</td>\n",
              "      <td>0.148424</td>\n",
              "      <td>-5.735608</td>\n",
              "      <td>1.0</td>\n",
              "    </tr>\n",
              "    <tr>\n",
              "      <th>1</th>\n",
              "      <td>-11.099104</td>\n",
              "      <td>-33.901894</td>\n",
              "      <td>15.785114</td>\n",
              "      <td>-4.082658</td>\n",
              "      <td>-4.467048</td>\n",
              "      <td>13.386620</td>\n",
              "      <td>-3.602027</td>\n",
              "      <td>-9.460577</td>\n",
              "      <td>13.669762</td>\n",
              "      <td>-10.658357</td>\n",
              "      <td>5.732476</td>\n",
              "      <td>-4.388901</td>\n",
              "      <td>-30.802218</td>\n",
              "      <td>-11.101859</td>\n",
              "      <td>-9.150607</td>\n",
              "      <td>-18.567055</td>\n",
              "      <td>4.756870</td>\n",
              "      <td>7.048941</td>\n",
              "      <td>-40.085910</td>\n",
              "      <td>10.763701</td>\n",
              "      <td>8.341524</td>\n",
              "      <td>0.161811</td>\n",
              "      <td>6.882542</td>\n",
              "      <td>4.774319</td>\n",
              "      <td>3.674414</td>\n",
              "      <td>9.484552</td>\n",
              "      <td>2.276440</td>\n",
              "      <td>16.804045</td>\n",
              "      <td>-6.103678</td>\n",
              "      <td>-5.760153</td>\n",
              "      <td>5.590930</td>\n",
              "      <td>0.144842</td>\n",
              "      <td>-19.576115</td>\n",
              "      <td>-1.117122</td>\n",
              "      <td>2.153278</td>\n",
              "      <td>-0.806960</td>\n",
              "      <td>8.219055</td>\n",
              "      <td>-14.115454</td>\n",
              "      <td>-1.605687</td>\n",
              "      <td>-26.660158</td>\n",
              "      <td>...</td>\n",
              "      <td>4.954713</td>\n",
              "      <td>-4.329583</td>\n",
              "      <td>-2.568407</td>\n",
              "      <td>-2.283912</td>\n",
              "      <td>0.360589</td>\n",
              "      <td>-6.032806</td>\n",
              "      <td>-5.489137</td>\n",
              "      <td>-4.984389</td>\n",
              "      <td>10.669437</td>\n",
              "      <td>5.280916</td>\n",
              "      <td>-17.850149</td>\n",
              "      <td>-8.543463</td>\n",
              "      <td>9.704414</td>\n",
              "      <td>-5.555657</td>\n",
              "      <td>8.487933</td>\n",
              "      <td>-1.051056</td>\n",
              "      <td>4.721061</td>\n",
              "      <td>1.885978</td>\n",
              "      <td>19.231510</td>\n",
              "      <td>-5.678829</td>\n",
              "      <td>-4.336807</td>\n",
              "      <td>-1.208328</td>\n",
              "      <td>-1.834607</td>\n",
              "      <td>2.348022</td>\n",
              "      <td>-1.327251</td>\n",
              "      <td>3.994555</td>\n",
              "      <td>-3.704465</td>\n",
              "      <td>3.959343</td>\n",
              "      <td>6.407911</td>\n",
              "      <td>-5.722430</td>\n",
              "      <td>0.404037</td>\n",
              "      <td>2.118305</td>\n",
              "      <td>7.439944</td>\n",
              "      <td>9.608694</td>\n",
              "      <td>-18.882191</td>\n",
              "      <td>-3.110838</td>\n",
              "      <td>-3.577092</td>\n",
              "      <td>2.995369</td>\n",
              "      <td>-5.050405</td>\n",
              "      <td>1.0</td>\n",
              "    </tr>\n",
              "    <tr>\n",
              "      <th>2</th>\n",
              "      <td>-96.985059</td>\n",
              "      <td>-24.940906</td>\n",
              "      <td>28.624658</td>\n",
              "      <td>36.686919</td>\n",
              "      <td>-30.138800</td>\n",
              "      <td>11.416279</td>\n",
              "      <td>14.569905</td>\n",
              "      <td>-46.678033</td>\n",
              "      <td>-3.364675</td>\n",
              "      <td>3.969207</td>\n",
              "      <td>0.891319</td>\n",
              "      <td>-13.955752</td>\n",
              "      <td>12.792117</td>\n",
              "      <td>19.411776</td>\n",
              "      <td>18.536708</td>\n",
              "      <td>9.425632</td>\n",
              "      <td>13.734456</td>\n",
              "      <td>1.497395</td>\n",
              "      <td>-8.534965</td>\n",
              "      <td>18.240755</td>\n",
              "      <td>9.333535</td>\n",
              "      <td>-5.292118</td>\n",
              "      <td>0.957033</td>\n",
              "      <td>10.117977</td>\n",
              "      <td>10.854827</td>\n",
              "      <td>4.348217</td>\n",
              "      <td>2.285314</td>\n",
              "      <td>12.438479</td>\n",
              "      <td>-6.132571</td>\n",
              "      <td>-1.554165</td>\n",
              "      <td>9.489973</td>\n",
              "      <td>-12.596656</td>\n",
              "      <td>-9.526775</td>\n",
              "      <td>-6.432752</td>\n",
              "      <td>-13.660514</td>\n",
              "      <td>7.711601</td>\n",
              "      <td>3.748915</td>\n",
              "      <td>-8.414847</td>\n",
              "      <td>-1.833079</td>\n",
              "      <td>-18.691110</td>\n",
              "      <td>...</td>\n",
              "      <td>-9.072368</td>\n",
              "      <td>-2.067779</td>\n",
              "      <td>-10.439061</td>\n",
              "      <td>7.824362</td>\n",
              "      <td>-4.385667</td>\n",
              "      <td>3.105435</td>\n",
              "      <td>-6.249190</td>\n",
              "      <td>-11.703167</td>\n",
              "      <td>4.331610</td>\n",
              "      <td>0.372345</td>\n",
              "      <td>-2.738592</td>\n",
              "      <td>9.223972</td>\n",
              "      <td>-3.960700</td>\n",
              "      <td>3.667528</td>\n",
              "      <td>4.204655</td>\n",
              "      <td>-4.844570</td>\n",
              "      <td>0.532147</td>\n",
              "      <td>7.600021</td>\n",
              "      <td>-4.732739</td>\n",
              "      <td>-1.895008</td>\n",
              "      <td>8.025333</td>\n",
              "      <td>-0.985066</td>\n",
              "      <td>5.847870</td>\n",
              "      <td>-2.975999</td>\n",
              "      <td>-5.344731</td>\n",
              "      <td>13.642246</td>\n",
              "      <td>-3.067122</td>\n",
              "      <td>7.178469</td>\n",
              "      <td>0.641345</td>\n",
              "      <td>13.689236</td>\n",
              "      <td>-3.143354</td>\n",
              "      <td>-4.877921</td>\n",
              "      <td>-16.344003</td>\n",
              "      <td>2.190634</td>\n",
              "      <td>-2.225922</td>\n",
              "      <td>6.558698</td>\n",
              "      <td>-2.587907</td>\n",
              "      <td>-3.840731</td>\n",
              "      <td>8.174248</td>\n",
              "      <td>1.0</td>\n",
              "    </tr>\n",
              "    <tr>\n",
              "      <th>3</th>\n",
              "      <td>-88.693561</td>\n",
              "      <td>-21.679808</td>\n",
              "      <td>45.812435</td>\n",
              "      <td>70.598700</td>\n",
              "      <td>-13.705619</td>\n",
              "      <td>2.806051</td>\n",
              "      <td>27.613431</td>\n",
              "      <td>-30.230731</td>\n",
              "      <td>2.462651</td>\n",
              "      <td>-26.603622</td>\n",
              "      <td>5.833794</td>\n",
              "      <td>10.598026</td>\n",
              "      <td>10.449427</td>\n",
              "      <td>30.320270</td>\n",
              "      <td>-3.339758</td>\n",
              "      <td>14.762767</td>\n",
              "      <td>20.286153</td>\n",
              "      <td>-1.838554</td>\n",
              "      <td>-4.101181</td>\n",
              "      <td>4.090768</td>\n",
              "      <td>1.929471</td>\n",
              "      <td>-3.241315</td>\n",
              "      <td>3.179905</td>\n",
              "      <td>13.206867</td>\n",
              "      <td>11.827517</td>\n",
              "      <td>5.234493</td>\n",
              "      <td>-16.755859</td>\n",
              "      <td>-5.534951</td>\n",
              "      <td>-22.167900</td>\n",
              "      <td>-9.748495</td>\n",
              "      <td>-7.180349</td>\n",
              "      <td>-8.118471</td>\n",
              "      <td>3.053382</td>\n",
              "      <td>-1.645330</td>\n",
              "      <td>-15.282443</td>\n",
              "      <td>19.647888</td>\n",
              "      <td>-3.003987</td>\n",
              "      <td>1.974388</td>\n",
              "      <td>6.480610</td>\n",
              "      <td>-6.280775</td>\n",
              "      <td>...</td>\n",
              "      <td>2.921188</td>\n",
              "      <td>-3.523820</td>\n",
              "      <td>-10.069771</td>\n",
              "      <td>-3.435183</td>\n",
              "      <td>-1.105269</td>\n",
              "      <td>-1.844008</td>\n",
              "      <td>1.163768</td>\n",
              "      <td>-9.008743</td>\n",
              "      <td>-9.800141</td>\n",
              "      <td>3.208967</td>\n",
              "      <td>9.213843</td>\n",
              "      <td>5.264845</td>\n",
              "      <td>-11.326391</td>\n",
              "      <td>3.538715</td>\n",
              "      <td>1.833484</td>\n",
              "      <td>8.457828</td>\n",
              "      <td>3.232930</td>\n",
              "      <td>-1.404829</td>\n",
              "      <td>-5.785183</td>\n",
              "      <td>-8.983994</td>\n",
              "      <td>7.505081</td>\n",
              "      <td>11.856825</td>\n",
              "      <td>0.004968</td>\n",
              "      <td>-1.537032</td>\n",
              "      <td>0.777804</td>\n",
              "      <td>5.838975</td>\n",
              "      <td>0.664487</td>\n",
              "      <td>3.191555</td>\n",
              "      <td>7.103035</td>\n",
              "      <td>-9.623256</td>\n",
              "      <td>-8.706057</td>\n",
              "      <td>0.927493</td>\n",
              "      <td>-1.469745</td>\n",
              "      <td>0.800157</td>\n",
              "      <td>0.017278</td>\n",
              "      <td>0.006944</td>\n",
              "      <td>2.446670</td>\n",
              "      <td>3.959284</td>\n",
              "      <td>4.711969</td>\n",
              "      <td>1.0</td>\n",
              "    </tr>\n",
              "    <tr>\n",
              "      <th>4</th>\n",
              "      <td>-24.570044</td>\n",
              "      <td>-9.740202</td>\n",
              "      <td>23.784122</td>\n",
              "      <td>-29.528877</td>\n",
              "      <td>1.612231</td>\n",
              "      <td>-18.002656</td>\n",
              "      <td>5.038487</td>\n",
              "      <td>-7.691579</td>\n",
              "      <td>-0.683039</td>\n",
              "      <td>-23.345566</td>\n",
              "      <td>1.453570</td>\n",
              "      <td>-7.170600</td>\n",
              "      <td>-28.134315</td>\n",
              "      <td>12.000965</td>\n",
              "      <td>13.397644</td>\n",
              "      <td>21.759295</td>\n",
              "      <td>2.404910</td>\n",
              "      <td>8.328926</td>\n",
              "      <td>3.120491</td>\n",
              "      <td>-17.020025</td>\n",
              "      <td>-3.717555</td>\n",
              "      <td>4.008548</td>\n",
              "      <td>2.586921</td>\n",
              "      <td>8.358007</td>\n",
              "      <td>2.857201</td>\n",
              "      <td>8.201805</td>\n",
              "      <td>4.414690</td>\n",
              "      <td>25.863277</td>\n",
              "      <td>-13.154294</td>\n",
              "      <td>0.037182</td>\n",
              "      <td>-19.590475</td>\n",
              "      <td>-2.810846</td>\n",
              "      <td>7.114342</td>\n",
              "      <td>-10.627071</td>\n",
              "      <td>5.974059</td>\n",
              "      <td>-0.221307</td>\n",
              "      <td>-7.419790</td>\n",
              "      <td>3.092814</td>\n",
              "      <td>-3.400738</td>\n",
              "      <td>0.996662</td>\n",
              "      <td>...</td>\n",
              "      <td>2.589646</td>\n",
              "      <td>0.272666</td>\n",
              "      <td>8.833014</td>\n",
              "      <td>-5.299874</td>\n",
              "      <td>-3.807232</td>\n",
              "      <td>-1.965045</td>\n",
              "      <td>0.639549</td>\n",
              "      <td>9.907623</td>\n",
              "      <td>9.314427</td>\n",
              "      <td>-4.049796</td>\n",
              "      <td>3.730617</td>\n",
              "      <td>1.067792</td>\n",
              "      <td>9.598675</td>\n",
              "      <td>8.333178</td>\n",
              "      <td>0.191995</td>\n",
              "      <td>-0.575345</td>\n",
              "      <td>6.208032</td>\n",
              "      <td>2.787245</td>\n",
              "      <td>-1.351076</td>\n",
              "      <td>-1.319022</td>\n",
              "      <td>-2.615270</td>\n",
              "      <td>1.398913</td>\n",
              "      <td>0.340989</td>\n",
              "      <td>-4.571024</td>\n",
              "      <td>-7.641681</td>\n",
              "      <td>10.989075</td>\n",
              "      <td>2.921936</td>\n",
              "      <td>-3.292011</td>\n",
              "      <td>-7.383737</td>\n",
              "      <td>-3.404062</td>\n",
              "      <td>3.211465</td>\n",
              "      <td>0.091658</td>\n",
              "      <td>-6.586389</td>\n",
              "      <td>-1.897672</td>\n",
              "      <td>-2.272631</td>\n",
              "      <td>0.544557</td>\n",
              "      <td>-6.238291</td>\n",
              "      <td>-1.361599</td>\n",
              "      <td>7.674556</td>\n",
              "      <td>0.0</td>\n",
              "    </tr>\n",
              "    <tr>\n",
              "      <th>...</th>\n",
              "      <td>...</td>\n",
              "      <td>...</td>\n",
              "      <td>...</td>\n",
              "      <td>...</td>\n",
              "      <td>...</td>\n",
              "      <td>...</td>\n",
              "      <td>...</td>\n",
              "      <td>...</td>\n",
              "      <td>...</td>\n",
              "      <td>...</td>\n",
              "      <td>...</td>\n",
              "      <td>...</td>\n",
              "      <td>...</td>\n",
              "      <td>...</td>\n",
              "      <td>...</td>\n",
              "      <td>...</td>\n",
              "      <td>...</td>\n",
              "      <td>...</td>\n",
              "      <td>...</td>\n",
              "      <td>...</td>\n",
              "      <td>...</td>\n",
              "      <td>...</td>\n",
              "      <td>...</td>\n",
              "      <td>...</td>\n",
              "      <td>...</td>\n",
              "      <td>...</td>\n",
              "      <td>...</td>\n",
              "      <td>...</td>\n",
              "      <td>...</td>\n",
              "      <td>...</td>\n",
              "      <td>...</td>\n",
              "      <td>...</td>\n",
              "      <td>...</td>\n",
              "      <td>...</td>\n",
              "      <td>...</td>\n",
              "      <td>...</td>\n",
              "      <td>...</td>\n",
              "      <td>...</td>\n",
              "      <td>...</td>\n",
              "      <td>...</td>\n",
              "      <td>...</td>\n",
              "      <td>...</td>\n",
              "      <td>...</td>\n",
              "      <td>...</td>\n",
              "      <td>...</td>\n",
              "      <td>...</td>\n",
              "      <td>...</td>\n",
              "      <td>...</td>\n",
              "      <td>...</td>\n",
              "      <td>...</td>\n",
              "      <td>...</td>\n",
              "      <td>...</td>\n",
              "      <td>...</td>\n",
              "      <td>...</td>\n",
              "      <td>...</td>\n",
              "      <td>...</td>\n",
              "      <td>...</td>\n",
              "      <td>...</td>\n",
              "      <td>...</td>\n",
              "      <td>...</td>\n",
              "      <td>...</td>\n",
              "      <td>...</td>\n",
              "      <td>...</td>\n",
              "      <td>...</td>\n",
              "      <td>...</td>\n",
              "      <td>...</td>\n",
              "      <td>...</td>\n",
              "      <td>...</td>\n",
              "      <td>...</td>\n",
              "      <td>...</td>\n",
              "      <td>...</td>\n",
              "      <td>...</td>\n",
              "      <td>...</td>\n",
              "      <td>...</td>\n",
              "      <td>...</td>\n",
              "      <td>...</td>\n",
              "      <td>...</td>\n",
              "      <td>...</td>\n",
              "      <td>...</td>\n",
              "      <td>...</td>\n",
              "      <td>...</td>\n",
              "    </tr>\n",
              "    <tr>\n",
              "      <th>1742</th>\n",
              "      <td>-54.051507</td>\n",
              "      <td>-14.065411</td>\n",
              "      <td>-13.917417</td>\n",
              "      <td>-0.181894</td>\n",
              "      <td>-15.449883</td>\n",
              "      <td>4.446570</td>\n",
              "      <td>-1.906334</td>\n",
              "      <td>-25.712997</td>\n",
              "      <td>11.529706</td>\n",
              "      <td>3.868261</td>\n",
              "      <td>-14.574164</td>\n",
              "      <td>-10.448926</td>\n",
              "      <td>2.921373</td>\n",
              "      <td>4.986903</td>\n",
              "      <td>-3.928033</td>\n",
              "      <td>-23.190661</td>\n",
              "      <td>9.354339</td>\n",
              "      <td>-8.897393</td>\n",
              "      <td>0.418479</td>\n",
              "      <td>-3.331193</td>\n",
              "      <td>3.846767</td>\n",
              "      <td>1.558007</td>\n",
              "      <td>0.725437</td>\n",
              "      <td>-3.499891</td>\n",
              "      <td>-2.355904</td>\n",
              "      <td>-2.854477</td>\n",
              "      <td>3.501969</td>\n",
              "      <td>-4.778167</td>\n",
              "      <td>-1.598468</td>\n",
              "      <td>6.401993</td>\n",
              "      <td>5.508614</td>\n",
              "      <td>1.912673</td>\n",
              "      <td>-2.006441</td>\n",
              "      <td>1.079159</td>\n",
              "      <td>-5.985900</td>\n",
              "      <td>-0.066986</td>\n",
              "      <td>8.090137</td>\n",
              "      <td>1.264539</td>\n",
              "      <td>3.227835</td>\n",
              "      <td>6.906970</td>\n",
              "      <td>...</td>\n",
              "      <td>2.196983</td>\n",
              "      <td>-1.133094</td>\n",
              "      <td>2.962098</td>\n",
              "      <td>-2.663432</td>\n",
              "      <td>-0.115399</td>\n",
              "      <td>0.238454</td>\n",
              "      <td>-1.085591</td>\n",
              "      <td>1.508741</td>\n",
              "      <td>1.035813</td>\n",
              "      <td>-1.209293</td>\n",
              "      <td>-0.181160</td>\n",
              "      <td>1.933426</td>\n",
              "      <td>2.670105</td>\n",
              "      <td>-1.044288</td>\n",
              "      <td>1.308149</td>\n",
              "      <td>-0.917850</td>\n",
              "      <td>0.121677</td>\n",
              "      <td>6.604189</td>\n",
              "      <td>-1.625186</td>\n",
              "      <td>1.197320</td>\n",
              "      <td>3.343255</td>\n",
              "      <td>-0.498804</td>\n",
              "      <td>-5.496880</td>\n",
              "      <td>-2.408908</td>\n",
              "      <td>-0.284734</td>\n",
              "      <td>-1.632997</td>\n",
              "      <td>-0.148145</td>\n",
              "      <td>-3.582523</td>\n",
              "      <td>-4.464261</td>\n",
              "      <td>-1.283943</td>\n",
              "      <td>0.824892</td>\n",
              "      <td>-1.620865</td>\n",
              "      <td>1.081692</td>\n",
              "      <td>1.165387</td>\n",
              "      <td>-0.582080</td>\n",
              "      <td>1.939831</td>\n",
              "      <td>-0.506438</td>\n",
              "      <td>-1.252974</td>\n",
              "      <td>3.610130</td>\n",
              "      <td>1.0</td>\n",
              "    </tr>\n",
              "    <tr>\n",
              "      <th>1743</th>\n",
              "      <td>-30.199492</td>\n",
              "      <td>-2.340991</td>\n",
              "      <td>41.452941</td>\n",
              "      <td>-21.441161</td>\n",
              "      <td>-13.369574</td>\n",
              "      <td>-15.220062</td>\n",
              "      <td>19.690140</td>\n",
              "      <td>-29.881937</td>\n",
              "      <td>5.011124</td>\n",
              "      <td>-13.510877</td>\n",
              "      <td>-1.954167</td>\n",
              "      <td>16.089371</td>\n",
              "      <td>10.193305</td>\n",
              "      <td>-12.252670</td>\n",
              "      <td>12.932810</td>\n",
              "      <td>-3.214367</td>\n",
              "      <td>-4.542114</td>\n",
              "      <td>1.776795</td>\n",
              "      <td>20.691482</td>\n",
              "      <td>6.339858</td>\n",
              "      <td>-7.785098</td>\n",
              "      <td>3.167588</td>\n",
              "      <td>-8.932573</td>\n",
              "      <td>-2.960513</td>\n",
              "      <td>-11.415502</td>\n",
              "      <td>-1.202425</td>\n",
              "      <td>4.239407</td>\n",
              "      <td>-5.007159</td>\n",
              "      <td>-4.980962</td>\n",
              "      <td>-7.605824</td>\n",
              "      <td>0.649009</td>\n",
              "      <td>4.598272</td>\n",
              "      <td>8.994404</td>\n",
              "      <td>3.432595</td>\n",
              "      <td>6.225851</td>\n",
              "      <td>-11.394939</td>\n",
              "      <td>14.898080</td>\n",
              "      <td>-12.787750</td>\n",
              "      <td>-0.881838</td>\n",
              "      <td>10.515757</td>\n",
              "      <td>...</td>\n",
              "      <td>1.765639</td>\n",
              "      <td>4.368750</td>\n",
              "      <td>5.104338</td>\n",
              "      <td>2.436490</td>\n",
              "      <td>-4.505238</td>\n",
              "      <td>-3.758147</td>\n",
              "      <td>-0.641959</td>\n",
              "      <td>-2.085946</td>\n",
              "      <td>1.003656</td>\n",
              "      <td>-1.898486</td>\n",
              "      <td>-6.741624</td>\n",
              "      <td>-1.145074</td>\n",
              "      <td>-2.230906</td>\n",
              "      <td>9.715935</td>\n",
              "      <td>-5.082448</td>\n",
              "      <td>8.371358</td>\n",
              "      <td>-1.005434</td>\n",
              "      <td>-2.947127</td>\n",
              "      <td>11.796028</td>\n",
              "      <td>4.308239</td>\n",
              "      <td>-1.837510</td>\n",
              "      <td>-13.373251</td>\n",
              "      <td>4.386745</td>\n",
              "      <td>-0.182561</td>\n",
              "      <td>8.886593</td>\n",
              "      <td>-2.561079</td>\n",
              "      <td>0.830819</td>\n",
              "      <td>-1.668087</td>\n",
              "      <td>-3.576165</td>\n",
              "      <td>-1.860191</td>\n",
              "      <td>4.137953</td>\n",
              "      <td>-0.225482</td>\n",
              "      <td>6.552326</td>\n",
              "      <td>-1.026577</td>\n",
              "      <td>13.630275</td>\n",
              "      <td>2.314646</td>\n",
              "      <td>12.988252</td>\n",
              "      <td>0.828370</td>\n",
              "      <td>1.415727</td>\n",
              "      <td>0.0</td>\n",
              "    </tr>\n",
              "    <tr>\n",
              "      <th>1744</th>\n",
              "      <td>-46.568088</td>\n",
              "      <td>-10.402622</td>\n",
              "      <td>44.057131</td>\n",
              "      <td>-26.824641</td>\n",
              "      <td>-14.953494</td>\n",
              "      <td>-37.101587</td>\n",
              "      <td>22.908944</td>\n",
              "      <td>-24.290368</td>\n",
              "      <td>8.653360</td>\n",
              "      <td>1.807679</td>\n",
              "      <td>-11.913938</td>\n",
              "      <td>15.708049</td>\n",
              "      <td>-7.028737</td>\n",
              "      <td>2.494941</td>\n",
              "      <td>3.350637</td>\n",
              "      <td>4.390260</td>\n",
              "      <td>2.668455</td>\n",
              "      <td>-4.500459</td>\n",
              "      <td>-7.774539</td>\n",
              "      <td>3.299272</td>\n",
              "      <td>2.869823</td>\n",
              "      <td>1.453706</td>\n",
              "      <td>13.021028</td>\n",
              "      <td>-9.146882</td>\n",
              "      <td>4.195765</td>\n",
              "      <td>-6.676771</td>\n",
              "      <td>5.760165</td>\n",
              "      <td>-4.541015</td>\n",
              "      <td>-3.963137</td>\n",
              "      <td>5.994028</td>\n",
              "      <td>-6.993180</td>\n",
              "      <td>-5.367623</td>\n",
              "      <td>-4.072834</td>\n",
              "      <td>3.987021</td>\n",
              "      <td>-1.245351</td>\n",
              "      <td>-2.432691</td>\n",
              "      <td>13.506453</td>\n",
              "      <td>-2.213991</td>\n",
              "      <td>10.604844</td>\n",
              "      <td>-2.045235</td>\n",
              "      <td>...</td>\n",
              "      <td>-3.129050</td>\n",
              "      <td>9.215460</td>\n",
              "      <td>-6.082526</td>\n",
              "      <td>-1.045772</td>\n",
              "      <td>4.025099</td>\n",
              "      <td>-8.595324</td>\n",
              "      <td>4.016627</td>\n",
              "      <td>0.190785</td>\n",
              "      <td>-4.189697</td>\n",
              "      <td>-5.118720</td>\n",
              "      <td>2.487324</td>\n",
              "      <td>3.066997</td>\n",
              "      <td>-3.246403</td>\n",
              "      <td>-9.021888</td>\n",
              "      <td>1.112979</td>\n",
              "      <td>-1.397616</td>\n",
              "      <td>5.376022</td>\n",
              "      <td>0.813634</td>\n",
              "      <td>2.116006</td>\n",
              "      <td>2.087912</td>\n",
              "      <td>-8.877571</td>\n",
              "      <td>5.878060</td>\n",
              "      <td>2.315002</td>\n",
              "      <td>4.829997</td>\n",
              "      <td>-0.834831</td>\n",
              "      <td>-5.048284</td>\n",
              "      <td>7.430553</td>\n",
              "      <td>-12.274086</td>\n",
              "      <td>-5.905198</td>\n",
              "      <td>1.680083</td>\n",
              "      <td>-5.518229</td>\n",
              "      <td>1.821406</td>\n",
              "      <td>-1.776873</td>\n",
              "      <td>-0.948223</td>\n",
              "      <td>1.117332</td>\n",
              "      <td>-2.958721</td>\n",
              "      <td>-3.738917</td>\n",
              "      <td>3.361513</td>\n",
              "      <td>-1.577336</td>\n",
              "      <td>1.0</td>\n",
              "    </tr>\n",
              "    <tr>\n",
              "      <th>1745</th>\n",
              "      <td>-39.894574</td>\n",
              "      <td>-16.699294</td>\n",
              "      <td>21.709798</td>\n",
              "      <td>-15.644897</td>\n",
              "      <td>-2.792183</td>\n",
              "      <td>-32.142741</td>\n",
              "      <td>16.103189</td>\n",
              "      <td>-17.689514</td>\n",
              "      <td>-0.577736</td>\n",
              "      <td>-2.282143</td>\n",
              "      <td>0.275999</td>\n",
              "      <td>-4.117197</td>\n",
              "      <td>-12.556502</td>\n",
              "      <td>-8.979885</td>\n",
              "      <td>2.236383</td>\n",
              "      <td>4.299919</td>\n",
              "      <td>4.145508</td>\n",
              "      <td>4.024700</td>\n",
              "      <td>-7.438352</td>\n",
              "      <td>-2.729080</td>\n",
              "      <td>-4.067940</td>\n",
              "      <td>-8.330677</td>\n",
              "      <td>2.036611</td>\n",
              "      <td>-1.449696</td>\n",
              "      <td>-4.666342</td>\n",
              "      <td>5.299266</td>\n",
              "      <td>-3.261258</td>\n",
              "      <td>-9.823635</td>\n",
              "      <td>8.207588</td>\n",
              "      <td>11.747969</td>\n",
              "      <td>3.413207</td>\n",
              "      <td>11.388197</td>\n",
              "      <td>2.591099</td>\n",
              "      <td>-6.664872</td>\n",
              "      <td>-9.276672</td>\n",
              "      <td>3.344867</td>\n",
              "      <td>11.430305</td>\n",
              "      <td>3.605889</td>\n",
              "      <td>17.321357</td>\n",
              "      <td>5.673503</td>\n",
              "      <td>...</td>\n",
              "      <td>1.940831</td>\n",
              "      <td>4.553613</td>\n",
              "      <td>15.277038</td>\n",
              "      <td>4.767172</td>\n",
              "      <td>-1.747963</td>\n",
              "      <td>8.108220</td>\n",
              "      <td>5.177404</td>\n",
              "      <td>0.256453</td>\n",
              "      <td>-1.048886</td>\n",
              "      <td>9.864394</td>\n",
              "      <td>2.983696</td>\n",
              "      <td>-4.497009</td>\n",
              "      <td>-3.060573</td>\n",
              "      <td>-7.294485</td>\n",
              "      <td>0.859349</td>\n",
              "      <td>-6.775194</td>\n",
              "      <td>0.695405</td>\n",
              "      <td>3.667172</td>\n",
              "      <td>-6.742792</td>\n",
              "      <td>0.303112</td>\n",
              "      <td>1.657357</td>\n",
              "      <td>4.820076</td>\n",
              "      <td>-0.017319</td>\n",
              "      <td>-1.937210</td>\n",
              "      <td>-0.896805</td>\n",
              "      <td>-1.270477</td>\n",
              "      <td>-14.120756</td>\n",
              "      <td>-0.348906</td>\n",
              "      <td>-0.520361</td>\n",
              "      <td>-3.812327</td>\n",
              "      <td>-0.764289</td>\n",
              "      <td>-0.470116</td>\n",
              "      <td>4.626854</td>\n",
              "      <td>10.047547</td>\n",
              "      <td>-2.890746</td>\n",
              "      <td>-1.378619</td>\n",
              "      <td>1.803359</td>\n",
              "      <td>2.240997</td>\n",
              "      <td>1.955705</td>\n",
              "      <td>1.0</td>\n",
              "    </tr>\n",
              "    <tr>\n",
              "      <th>1746</th>\n",
              "      <td>-41.863649</td>\n",
              "      <td>18.082995</td>\n",
              "      <td>7.806611</td>\n",
              "      <td>-7.124804</td>\n",
              "      <td>-10.695756</td>\n",
              "      <td>-25.529639</td>\n",
              "      <td>23.067741</td>\n",
              "      <td>-14.846559</td>\n",
              "      <td>6.866097</td>\n",
              "      <td>-8.070353</td>\n",
              "      <td>-4.450659</td>\n",
              "      <td>-2.565381</td>\n",
              "      <td>10.856028</td>\n",
              "      <td>0.520183</td>\n",
              "      <td>-10.939746</td>\n",
              "      <td>-6.184729</td>\n",
              "      <td>3.907403</td>\n",
              "      <td>8.758656</td>\n",
              "      <td>-9.409295</td>\n",
              "      <td>-17.019473</td>\n",
              "      <td>8.253961</td>\n",
              "      <td>-2.808014</td>\n",
              "      <td>0.019010</td>\n",
              "      <td>-8.562307</td>\n",
              "      <td>9.698185</td>\n",
              "      <td>11.209293</td>\n",
              "      <td>6.265112</td>\n",
              "      <td>2.967083</td>\n",
              "      <td>12.060919</td>\n",
              "      <td>7.071261</td>\n",
              "      <td>-3.401372</td>\n",
              "      <td>-12.921263</td>\n",
              "      <td>-10.013072</td>\n",
              "      <td>-8.534098</td>\n",
              "      <td>-8.652924</td>\n",
              "      <td>-7.890352</td>\n",
              "      <td>0.567765</td>\n",
              "      <td>2.818307</td>\n",
              "      <td>1.350908</td>\n",
              "      <td>2.854531</td>\n",
              "      <td>...</td>\n",
              "      <td>-7.909703</td>\n",
              "      <td>2.984381</td>\n",
              "      <td>5.399944</td>\n",
              "      <td>-12.102403</td>\n",
              "      <td>9.198503</td>\n",
              "      <td>0.413077</td>\n",
              "      <td>11.252169</td>\n",
              "      <td>-7.179037</td>\n",
              "      <td>5.804596</td>\n",
              "      <td>-2.872790</td>\n",
              "      <td>-6.011671</td>\n",
              "      <td>-8.575946</td>\n",
              "      <td>-4.824396</td>\n",
              "      <td>0.931132</td>\n",
              "      <td>2.894513</td>\n",
              "      <td>-3.040040</td>\n",
              "      <td>9.369748</td>\n",
              "      <td>8.710613</td>\n",
              "      <td>1.806828</td>\n",
              "      <td>-0.972213</td>\n",
              "      <td>-4.324003</td>\n",
              "      <td>-0.356070</td>\n",
              "      <td>9.362078</td>\n",
              "      <td>5.704504</td>\n",
              "      <td>1.068197</td>\n",
              "      <td>-6.525046</td>\n",
              "      <td>-2.089065</td>\n",
              "      <td>2.562435</td>\n",
              "      <td>6.270463</td>\n",
              "      <td>1.059629</td>\n",
              "      <td>-4.856339</td>\n",
              "      <td>1.415919</td>\n",
              "      <td>-2.470571</td>\n",
              "      <td>3.691041</td>\n",
              "      <td>-3.192076</td>\n",
              "      <td>1.942598</td>\n",
              "      <td>-0.946564</td>\n",
              "      <td>-2.506621</td>\n",
              "      <td>-1.991537</td>\n",
              "      <td>1.0</td>\n",
              "    </tr>\n",
              "  </tbody>\n",
              "</table>\n",
              "<p>1747 rows × 101 columns</p>\n",
              "</div>"
            ],
            "text/plain": [
              "      principal component 1  ...  FIVE_YEAR\n",
              "0                -46.927916  ...        1.0\n",
              "1                -11.099104  ...        1.0\n",
              "2                -96.985059  ...        1.0\n",
              "3                -88.693561  ...        1.0\n",
              "4                -24.570044  ...        0.0\n",
              "...                     ...  ...        ...\n",
              "1742             -54.051507  ...        1.0\n",
              "1743             -30.199492  ...        0.0\n",
              "1744             -46.568088  ...        1.0\n",
              "1745             -39.894574  ...        1.0\n",
              "1746             -41.863649  ...        1.0\n",
              "\n",
              "[1747 rows x 101 columns]"
            ]
          },
          "metadata": {
            "tags": []
          },
          "execution_count": 22
        }
      ]
    },
    {
      "cell_type": "markdown",
      "metadata": {
        "id": "k4EnIfj9gooB",
        "colab_type": "text"
      },
      "source": [
        "**5) Fitting Principal Components to Data**\n",
        "\n",
        "I'm specifically following the datacamp reference now: https://www.datacamp.com/community/tutorials/principal-component-analysis-in-python"
      ]
    },
    {
      "cell_type": "markdown",
      "metadata": {
        "id": "TQy46rfehfRd",
        "colab_type": "text"
      },
      "source": [
        "**Fit PCA to the data**"
      ]
    },
    {
      "cell_type": "code",
      "metadata": {
        "id": "kzp_rhkghe8q",
        "colab_type": "code",
        "colab": {
          "base_uri": "https://localhost:8080/",
          "height": 50
        },
        "outputId": "4d26c22c-761d-4990-c2a5-796a376d2a04"
      },
      "source": [
        "pca = PCA(0.9)\n",
        "pca.fit(x)"
      ],
      "execution_count": 23,
      "outputs": [
        {
          "output_type": "execute_result",
          "data": {
            "text/plain": [
              "PCA(copy=True, iterated_power='auto', n_components=0.9, random_state=None,\n",
              "    svd_solver='auto', tol=0.0, whiten=False)"
            ]
          },
          "metadata": {
            "tags": []
          },
          "execution_count": 23
        }
      ]
    },
    {
      "cell_type": "markdown",
      "metadata": {
        "id": "HEz6ZyG1hz4m",
        "colab_type": "text"
      },
      "source": [
        "**Determine how many n_components are actually needed to capture 0.9 variance**"
      ]
    },
    {
      "cell_type": "code",
      "metadata": {
        "id": "76USykBNh6Je",
        "colab_type": "code",
        "colab": {
          "base_uri": "https://localhost:8080/",
          "height": 33
        },
        "outputId": "a7b5792d-8f40-4e31-f3fd-83619dd7ac8f"
      },
      "source": [
        "pca.n_components_"
      ],
      "execution_count": 24,
      "outputs": [
        {
          "output_type": "execute_result",
          "data": {
            "text/plain": [
              "1213"
            ]
          },
          "metadata": {
            "tags": []
          },
          "execution_count": 24
        }
      ]
    },
    {
      "cell_type": "markdown",
      "metadata": {
        "id": "3YM0DM-PiDZZ",
        "colab_type": "text"
      },
      "source": [
        "This function indicates that 1213 is the number of principal componenets needed to capture 90% of the variation which is what I had estiamted from the above plot.\n",
        "\n",
        "Next, we can transform the data to generate a transformed dataset from the parameters generated from the fit model. "
      ]
    },
    {
      "cell_type": "code",
      "metadata": {
        "id": "TeSLGRyoiLux",
        "colab_type": "code",
        "colab": {}
      },
      "source": [
        "transformed_data  = pca.transform(genes)"
      ],
      "execution_count": 0,
      "outputs": []
    },
    {
      "cell_type": "code",
      "metadata": {
        "id": "vWQIJjD2jERZ",
        "colab_type": "code",
        "colab": {
          "base_uri": "https://localhost:8080/",
          "height": 33
        },
        "outputId": "d536ad3b-8171-4241-e665-e642f39fea8e"
      },
      "source": [
        "transformed_data.shape # this has 1213 columns - or principal components!"
      ],
      "execution_count": 26,
      "outputs": [
        {
          "output_type": "execute_result",
          "data": {
            "text/plain": [
              "(1747, 1213)"
            ]
          },
          "metadata": {
            "tags": []
          },
          "execution_count": 26
        }
      ]
    },
    {
      "cell_type": "code",
      "metadata": {
        "id": "xeIWa-J-joyn",
        "colab_type": "code",
        "colab": {
          "base_uri": "https://localhost:8080/",
          "height": 228
        },
        "outputId": "5ceef610-5988-4c2d-b100-31171b0dff3d"
      },
      "source": [
        "transformed_data"
      ],
      "execution_count": 27,
      "outputs": [
        {
          "output_type": "execute_result",
          "data": {
            "text/plain": [
              "array([[ 4.69954788e+01,  5.33508534e+01,  9.31418798e+01, ...,\n",
              "         1.26209074e+00, -5.30103733e+00,  4.34902248e-01],\n",
              "       [ 6.42903770e+01,  2.69784530e+01,  1.34218334e+02, ...,\n",
              "         1.73327119e+00, -5.80124581e+00,  1.71801198e-04],\n",
              "       [ 2.57819654e+01,  3.62916894e+01,  1.37009006e+02, ...,\n",
              "         1.01551100e+00, -5.67437392e+00,  5.75925136e-01],\n",
              "       ...,\n",
              "       [ 4.49895023e+01,  4.24873165e+01,  1.50039783e+02, ...,\n",
              "         2.18061586e+00, -5.01412271e+00,  1.63536455e+00],\n",
              "       [ 4.96881117e+01,  3.92607352e+01,  1.38898150e+02, ...,\n",
              "         1.99220431e+00, -5.85735567e+00,  1.42753640e+00],\n",
              "       [ 4.65486252e+01,  5.95339077e+01,  1.31086878e+02, ...,\n",
              "         1.32067366e+00, -4.85684490e+00,  1.16305128e+00]])"
            ]
          },
          "metadata": {
            "tags": []
          },
          "execution_count": 27
        }
      ]
    },
    {
      "cell_type": "markdown",
      "metadata": {
        "id": "ztQp9M6aig70",
        "colab_type": "text"
      },
      "source": [
        "**Questions:**\n",
        "\n",
        "1) Is there a such thing as too many prinicipal components?\n",
        "\n",
        "2) Also, is this just the data that I feed into the ML model? I'm not sure I understand what the specific values are? The normalized gene expression? "
      ]
    }
  ]
}