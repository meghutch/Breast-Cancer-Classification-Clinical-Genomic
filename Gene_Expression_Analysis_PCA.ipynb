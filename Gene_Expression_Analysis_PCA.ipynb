{
  "nbformat": 4,
  "nbformat_minor": 0,
  "metadata": {
    "colab": {
      "name": "Gene Expression Analysis - PCA",
      "provenance": [],
      "collapsed_sections": [],
      "include_colab_link": true
    },
    "kernelspec": {
      "name": "python3",
      "display_name": "Python 3"
    }
  },
  "cells": [
    {
      "cell_type": "markdown",
      "metadata": {
        "id": "view-in-github",
        "colab_type": "text"
      },
      "source": [
        "<a href=\"https://colab.research.google.com/github/meghutch/Breast-Cancer-Classification-Clinical-Genomic/blob/master/Gene_Expression_Analysis_PCA.ipynb\" target=\"_parent\"><img src=\"https://colab.research.google.com/assets/colab-badge.svg\" alt=\"Open In Colab\"/></a>"
      ]
    },
    {
      "cell_type": "markdown",
      "metadata": {
        "id": "NdupOdmkztDr",
        "colab_type": "text"
      },
      "source": [
        "# **Predicting Clinical Outcomes of Breast Cancer Patients - Gene Expression Data**\n",
        "\n",
        "## **Principal Component Analysis**\n",
        "\n",
        "**Author:** Meg Hutch\n",
        "\n",
        "**Date:** November 19, 2019\n",
        "\n",
        "**Objective:** Apply Principal Component Analysis to Determine Which Genes to Include into our Neural Network \n",
        "\n",
        "****Update: I previously did some testing and these methods don't seem to be causing significant differences. I will probably just need to later validate whether the PC change using the different methods, but for now, I think I can go ahead, clean up the code****"
      ]
    },
    {
      "cell_type": "markdown",
      "metadata": {
        "id": "XwGGM9lLGfZM",
        "colab_type": "text"
      },
      "source": [
        "**References**\n",
        "\n",
        "* https://www.youtube.com/watch?v=Lsue2gEM9D0&list=PLblh5JKOoLUIcdlgu78MnlATeyx4cEVeR&index=54&t=0s\n",
        "\n",
        "* https://www.youtube.com/watch?v=FgakZw6K1QQ\n",
        "\n",
        "* https://towardsdatascience.com/pca-using-python-scikit-learn-e653f8989e60 \n",
        "\n",
        "* https://www.datacamp.com/community/tutorials/principal-component-analysis-in-python \n",
        "\n",
        "* https://towardsdatascience.com/a-one-stop-shop-for-principal-component-analysis-5582fb7e0a9c"
      ]
    },
    {
      "cell_type": "code",
      "metadata": {
        "id": "m5qG3lqmAruE",
        "colab_type": "code",
        "colab": {}
      },
      "source": [
        "import pandas as pd\n",
        "import numpy as np\n",
        "import matplotlib\n",
        "import matplotlib.pyplot as plt\n",
        "import matplotlib.colors\n",
        "import seaborn as sns"
      ],
      "execution_count": 0,
      "outputs": []
    },
    {
      "cell_type": "code",
      "metadata": {
        "id": "CpR6ASOpzsOp",
        "colab_type": "code",
        "colab": {
          "base_uri": "https://localhost:8080/",
          "height": 33
        },
        "outputId": "1a3045ff-8931-4b7c-b34c-336058641697"
      },
      "source": [
        "# Connect Colab to google drive\n",
        "from google.colab import drive\n",
        "drive.mount('/content/drive')"
      ],
      "execution_count": 9,
      "outputs": [
        {
          "output_type": "stream",
          "text": [
            "Drive already mounted at /content/drive; to attempt to forcibly remount, call drive.mount(\"/content/drive\", force_remount=True).\n"
          ],
          "name": "stdout"
        }
      ]
    },
    {
      "cell_type": "code",
      "metadata": {
        "id": "9ltCT9Zv8LAd",
        "colab_type": "code",
        "colab": {}
      },
      "source": [
        "# Import Data\n",
        "gene_data = pd.read_csv('/content/drive/My Drive/Projects/Breast_Cancer_Classification/Data/merged_expression.txt', sep=',')"
      ],
      "execution_count": 0,
      "outputs": []
    },
    {
      "cell_type": "code",
      "metadata": {
        "id": "57X200aH-HFQ",
        "colab_type": "code",
        "colab": {}
      },
      "source": [
        "#gene_data.head()\n",
        "#genes.info()"
      ],
      "execution_count": 0,
      "outputs": []
    },
    {
      "cell_type": "markdown",
      "metadata": {
        "id": "chNv2A3jUNQr",
        "colab_type": "text"
      },
      "source": [
        "# **Data Pre-Processing**"
      ]
    },
    {
      "cell_type": "markdown",
      "metadata": {
        "id": "_29Kdk_59QqC",
        "colab_type": "text"
      },
      "source": [
        "**Check if NAs**"
      ]
    },
    {
      "cell_type": "code",
      "metadata": {
        "id": "i2sjClIA9QOq",
        "colab_type": "code",
        "colab": {
          "base_uri": "https://localhost:8080/",
          "height": 212
        },
        "outputId": "48a60094-1ac5-40bc-db02-f4d3d5c6e5c8"
      },
      "source": [
        "gene_data.isna().any()"
      ],
      "execution_count": 12,
      "outputs": [
        {
          "output_type": "execute_result",
          "data": {
            "text/plain": [
              "Unnamed: 0    False\n",
              "EVENT          True\n",
              "OS_MONTHS     False\n",
              "FIVE_YEAR      True\n",
              "RERE          False\n",
              "              ...  \n",
              "CC2D1A        False\n",
              "CB986545      False\n",
              "IGSF9         False\n",
              "DA110839      False\n",
              "FAM71A         True\n",
              "Length: 24372, dtype: bool"
            ]
          },
          "metadata": {
            "tags": []
          },
          "execution_count": 12
        }
      ]
    },
    {
      "cell_type": "markdown",
      "metadata": {
        "id": "gjHaZnph9V3A",
        "colab_type": "text"
      },
      "source": [
        "**Remove cases where there are missing values**"
      ]
    },
    {
      "cell_type": "code",
      "metadata": {
        "id": "9f85OtiV9yy8",
        "colab_type": "code",
        "colab": {}
      },
      "source": [
        "gene_data = gene_data.dropna()"
      ],
      "execution_count": 0,
      "outputs": []
    },
    {
      "cell_type": "markdown",
      "metadata": {
        "id": "Mp6ELmfIHKG6",
        "colab_type": "text"
      },
      "source": [
        "**Check number of patients after removing Nas**"
      ]
    },
    {
      "cell_type": "code",
      "metadata": {
        "id": "uuGUGuNmKB0r",
        "colab_type": "code",
        "colab": {
          "base_uri": "https://localhost:8080/",
          "height": 98
        },
        "outputId": "bbf9c008-2ad8-43da-f1f9-3845c419a6f6"
      },
      "source": [
        "gene_data.info()"
      ],
      "execution_count": 14,
      "outputs": [
        {
          "output_type": "stream",
          "text": [
            "<class 'pandas.core.frame.DataFrame'>\n",
            "Int64Index: 1747 entries, 0 to 1903\n",
            "Columns: 24372 entries, Unnamed: 0 to FAM71A\n",
            "dtypes: float64(24371), object(1)\n",
            "memory usage: 324.9+ MB\n"
          ],
          "name": "stdout"
        }
      ]
    },
    {
      "cell_type": "markdown",
      "metadata": {
        "id": "bLtwUznBJliI",
        "colab_type": "text"
      },
      "source": [
        "**Create a dataset just containing gene expression**"
      ]
    },
    {
      "cell_type": "code",
      "metadata": {
        "id": "d39noFie28iQ",
        "colab_type": "code",
        "colab": {}
      },
      "source": [
        "# remove event, os_motnhs, and Five_Year from the dataset\n",
        "genes = gene_data.drop(columns=[\"Unnamed: 0\", \"EVENT\", \"OS_MONTHS\", \"FIVE_YEAR\"])"
      ],
      "execution_count": 0,
      "outputs": []
    },
    {
      "cell_type": "markdown",
      "metadata": {
        "colab_type": "text",
        "id": "aH7BuLOcbTgA"
      },
      "source": [
        "# **Principal Component Analysis**\n",
        "\n",
        "**What is a Pricipal Component? (From DataCamp)**\n",
        "\n",
        "Principal componenets have both direction and magnitude. The direction represents across which principal axes the data is mostly spread out or has the most variance and the magnitude signifies the amount of varaince that Principal Component captures of the data when projected onto that axis. \n",
        "\n",
        "The principal components are a straight line, and the first principal component holds the most variance in the data. Each subsequent prinicpal component is orthogonal to the last and has a lesser variance .\n",
        "\n",
        "Correlated features contribute to the same principal component, thereby reducing the original data features into uncorrelated prinicpal components; each representing a different set of correlated features with differents of variation.\n",
        "\n",
        "Each principal component represents a percentage of total variation captured from the data\n",
        "\n",
        "****Note:** I troubleshooted some discrepancies among the references above in regards to fit and fit transform. Some articles would initially use fit_transform to scale and then again used pca.fit_transform when identifying prinicipal components, other references, instead of fit_transform just used pca.transform for this step. I tested both methods and got the same results. Actually looks like maybe using fit_transform is probably just combining these steps?****** \n"
      ]
    },
    {
      "cell_type": "markdown",
      "metadata": {
        "colab_type": "text",
        "id": "LcNAgmZwbTgQ"
      },
      "source": [
        "**1) Standardize the Data**\n",
        "\n",
        "Must scale features in your data before applying PCA. **StandardScaler** helps standardize features onto unit scale (mean = 0 and standard deviation = 1). Thus, each value in the dataset will have the sample mean value subtracted and then divided by the standard deviation of the whole dataset. \n"
      ]
    },
    {
      "cell_type": "code",
      "metadata": {
        "colab_type": "code",
        "id": "C8fw-kJMbTgV",
        "colab": {}
      },
      "source": [
        "from sklearn.preprocessing import StandardScaler \n",
        "from sklearn.decomposition import PCA\n",
        "\n",
        "# Stanardize/Scale the data\n",
        "x = StandardScaler().fit_transform(genes)"
      ],
      "execution_count": 0,
      "outputs": []
    },
    {
      "cell_type": "markdown",
      "metadata": {
        "colab_type": "text",
        "id": "RYSjIvVMbTgo"
      },
      "source": [
        "**Let's check whether the normalized data has a mean of zero and a standard deviation of 1**"
      ]
    },
    {
      "cell_type": "code",
      "metadata": {
        "colab_type": "code",
        "outputId": "ca8d9ebd-b3d9-467b-e656-c71d7e8c6edd",
        "id": "xDv7qQHUbTgs",
        "colab": {
          "base_uri": "https://localhost:8080/",
          "height": 33
        }
      },
      "source": [
        "np.mean(x), np.std(x)"
      ],
      "execution_count": 17,
      "outputs": [
        {
          "output_type": "execute_result",
          "data": {
            "text/plain": [
              "(4.1760406566772064e-19, 0.9999999999999999)"
            ]
          },
          "metadata": {
            "tags": []
          },
          "execution_count": 17
        }
      ]
    },
    {
      "cell_type": "markdown",
      "metadata": {
        "id": "W2pzskJS_UEz",
        "colab_type": "text"
      },
      "source": [
        "Convert the normalized features into tabular format "
      ]
    },
    {
      "cell_type": "code",
      "metadata": {
        "id": "3xKkBbp4_W3V",
        "colab_type": "code",
        "colab": {}
      },
      "source": [
        "# Create list of column names\n",
        "features = list(genes.columns.values) \n",
        "\n",
        "# Create data frame of newly normalized data\n",
        "x = pd.DataFrame(x, columns = features)"
      ],
      "execution_count": 0,
      "outputs": []
    },
    {
      "cell_type": "markdown",
      "metadata": {
        "id": "nFQt5RulAiYC",
        "colab_type": "text"
      },
      "source": [
        "**2) Determine Prinicpal Components**"
      ]
    },
    {
      "cell_type": "code",
      "metadata": {
        "id": "ZhT8EtKgHCh6",
        "colab_type": "code",
        "colab": {}
      },
      "source": [
        "# Define pca function\n",
        "pca = PCA()\n",
        "\n",
        "# Fit to the scaled/standardized data\n",
        "principalComponents = pca.fit_transform(x)\n",
        "\n",
        "# Create  a dataframe of the components\n",
        "principalDf = pd.DataFrame(data = principalComponents)"
      ],
      "execution_count": 0,
      "outputs": []
    },
    {
      "cell_type": "code",
      "metadata": {
        "id": "gorch_HLdGwb",
        "colab_type": "code",
        "colab": {}
      },
      "source": [
        "# Generate a list of column names with the number for each prinicpal component \n",
        "col_names = [f'pc{i}' for i in range(1, 1748)] # there are 1747 samples - so we want to have range of 1 less than 1748 column names \n",
        "\n",
        "# Add column names to the principal component dataset \n",
        "principalDf = pd.DataFrame(principalComponents, columns = col_names)"
      ],
      "execution_count": 0,
      "outputs": []
    },
    {
      "cell_type": "markdown",
      "metadata": {
        "colab_type": "text",
        "id": "1ERnjKTMe2Nj"
      },
      "source": [
        "**4) Determine # of Components and Variance**"
      ]
    },
    {
      "cell_type": "code",
      "metadata": {
        "colab_type": "code",
        "id": "anB37-Bse2N8",
        "colab": {
          "base_uri": "https://localhost:8080/",
          "height": 295
        },
        "outputId": "c6930a62-5116-46ad-e667-5b8659feef98"
      },
      "source": [
        "#Plotting the Cumulative Summation of the Explained Variance\n",
        "plt.figure()\n",
        "plt.plot(np.cumsum(pca.explained_variance_ratio_))\n",
        "plt.xlabel('Number of Components')\n",
        "plt.ylabel('Variance (%)') #for each component\n",
        "plt.title('Gene Expression Explained Variance')\n",
        "plt.show()"
      ],
      "execution_count": 42,
      "outputs": [
        {
          "output_type": "display_data",
          "data": {
            "image/png": "[encoded data removed]",
            "text/plain": [
              "<Figure size 432x288 with 1 Axes>"
            ]
          },
          "metadata": {
            "tags": []
          }
        }
      ]
    },
    {
      "cell_type": "markdown",
      "metadata": {
        "colab_type": "text",
        "id": "_ntR3kSyfA8w"
      },
      "source": [
        "The plot tells us that with ~1250 components we can capture 90% of the data. "
      ]
    },
    {
      "cell_type": "markdown",
      "metadata": {
        "colab_type": "text",
        "id": "TW4-aX_0fkCF"
      },
      "source": [
        "**Fit PCA to the data**"
      ]
    },
    {
      "cell_type": "code",
      "metadata": {
        "colab_type": "code",
        "id": "08TMwSQzfkCj",
        "colab": {
          "base_uri": "https://localhost:8080/",
          "height": 50
        },
        "outputId": "f0308565-8018-4bd8-bc2a-646258cdd20e"
      },
      "source": [
        "pca = PCA(0.9)\n",
        "pca.fit(x)"
      ],
      "execution_count": 43,
      "outputs": [
        {
          "output_type": "execute_result",
          "data": {
            "text/plain": [
              "PCA(copy=True, iterated_power='auto', n_components=0.9, random_state=None,\n",
              "    svd_solver='auto', tol=0.0, whiten=False)"
            ]
          },
          "metadata": {
            "tags": []
          },
          "execution_count": 43
        }
      ]
    },
    {
      "cell_type": "markdown",
      "metadata": {
        "colab_type": "text",
        "id": "fjoKMBrkfkC6"
      },
      "source": [
        "**Determine how many n_components are actually needed to capture 0.9 variance**"
      ]
    },
    {
      "cell_type": "code",
      "metadata": {
        "colab_type": "code",
        "id": "O263KB9PfkDA",
        "colab": {
          "base_uri": "https://localhost:8080/",
          "height": 33
        },
        "outputId": "6d6af901-1624-4885-b6ff-812dfbbd37b4"
      },
      "source": [
        "pca.n_components_"
      ],
      "execution_count": 44,
      "outputs": [
        {
          "output_type": "execute_result",
          "data": {
            "text/plain": [
              "1213"
            ]
          },
          "metadata": {
            "tags": []
          },
          "execution_count": 44
        }
      ]
    },
    {
      "cell_type": "markdown",
      "metadata": {
        "colab_type": "text",
        "id": "N_phdwqSfkDR"
      },
      "source": [
        "This function indicates that 1213 is the number of principal componenets needed to capture 90% of the variation which is what I had estiamted from the above plot."
      ]
    },
    {
      "cell_type": "markdown",
      "metadata": {
        "id": "u-8HMNYOfb-T",
        "colab_type": "text"
      },
      "source": [
        "**Scree Plot**\n",
        "\n",
        "View which principal components contribute to the variance "
      ]
    },
    {
      "cell_type": "code",
      "metadata": {
        "id": "5Naiy12_fmgd",
        "colab_type": "code",
        "colab": {}
      },
      "source": [
        "# remove PC from \n",
        "col_names\n",
        "per_var = np.round(pca.explained_variance_ratio_* 100, decimals=1)\n",
        "per_var = per_var[:10] #top 10 PC - this number is chosen just so that we can more easily view the plot\n",
        "labels = col_names[:10]\n",
        "\n",
        "plt.bar(x=range(1, len(per_var)+1), height = per_var, tick_label = labels)\n",
        "plt.ylabel('Percentage of Explained Variance')\n",
        "plt.xlabel('Prinicpal Component')\n",
        "plt.title('Scree Plot')\n",
        "plt.show()"
      ],
      "execution_count": 0,
      "outputs": []
    },
    {
      "cell_type": "markdown",
      "metadata": {
        "id": "FDpMKhPyfJY5",
        "colab_type": "text"
      },
      "source": [
        "**Next Steps:**\n",
        "\n",
        "Follow the youtube video and identify the genes that are important "
      ]
    },
    {
      "cell_type": "markdown",
      "metadata": {
        "id": "dp9JpuNjcRlh",
        "colab_type": "text"
      },
      "source": [
        "# **Drafts**"
      ]
    },
    {
      "cell_type": "code",
      "metadata": {
        "id": "C23GWVKwHsPO",
        "colab_type": "code",
        "colab": {}
      },
      "source": [
        "# the below function is trying to concatenate the princpalDf to a dataframe that has labels \n",
        "label = gene_data.FIVE_YEAR\n",
        "label = pd.DataFrame(label)\n",
        "\n",
        "label = label.reset_index(drop=True)\n",
        "prinicpalDf = principalDf.reset_index(drop=True)\n",
        "\n",
        "finalDf = pd.concat([principalDf, label], axis=1)"
      ],
      "execution_count": 0,
      "outputs": []
    },
    {
      "cell_type": "code",
      "metadata": {
        "id": "IdM9PtxYJS_U",
        "colab_type": "code",
        "colab": {}
      },
      "source": [
        "finalDf"
      ],
      "execution_count": 0,
      "outputs": []
    },
    {
      "cell_type": "markdown",
      "metadata": {
        "colab_type": "text",
        "id": "E_Z_d0M7QWXm"
      },
      "source": [
        "**3) Visualize 2D Projection**"
      ]
    },
    {
      "cell_type": "code",
      "metadata": {
        "id": "9Dy64I4VIMl4",
        "colab_type": "code",
        "colab": {}
      },
      "source": [
        "fig = plt.figure(figsize = (8,8))\n",
        "ax = fig.add_subplot(1,1,1) \n",
        "ax.set_xlabel('Principal Component 1', fontsize = 15)\n",
        "ax.set_ylabel('Principal Component 2', fontsize = 15)\n",
        "ax.set_title('2 component PCA', fontsize = 20)\n",
        "\n",
        "\n",
        "targets = [1, 0] #make sure this is labeled correctly\n",
        "colors = ['r', 'g']\n",
        "for target, color in zip(targets,colors):\n",
        "    indicesToKeep = finalDf['FIVE_YEAR'] ==  target\n",
        "    ax.scatter(finalDf.loc[indicesToKeep, 'principal component 1']\n",
        "               , finalDf.loc[indicesToKeep, 'principal component 2']\n",
        "               , c = color\n",
        "               , s = 50)\n",
        "ax.legend(targets)\n",
        "ax.grid()"
      ],
      "execution_count": 0,
      "outputs": []
    },
    {
      "cell_type": "markdown",
      "metadata": {
        "id": "H4A0A7cJR1nR",
        "colab_type": "text"
      },
      "source": [
        "The explained variance tells you how much information (variance) can be attributed to each of the prinicpal componenets. This is important as while you can convert 4 dimensional space to 2 dimensional space, you lose some of the varaince (information) when you do this. By using the attribute **explained_varaince_ratio_** you cna see how much variation the first prinicpal component and second component contain. Additionally, we can determine how much information the two components together contain. "
      ]
    },
    {
      "cell_type": "code",
      "metadata": {
        "id": "BdnLFWt0STyd",
        "colab_type": "code",
        "colab": {}
      },
      "source": [
        "print('Component Variation', pca.explained_variance_ratio_)\n",
        "print('Total Variation', sum(pca.explained_variance_ratio_))"
      ],
      "execution_count": 0,
      "outputs": []
    },
    {
      "cell_type": "markdown",
      "metadata": {
        "id": "P_iCiwFaTaX_",
        "colab_type": "text"
      },
      "source": [
        "**4) Determine # of Components and Variance**"
      ]
    },
    {
      "cell_type": "code",
      "metadata": {
        "id": "VtTtafLjVz_8",
        "colab_type": "code",
        "colab": {}
      },
      "source": [
        "pca = PCA().fit(x)\n",
        "\n",
        "#Plotting the Cumulative Summation of the Explained Variance\n",
        "plt.figure()\n",
        "plt.plot(np.cumsum(pca.explained_variance_ratio_))\n",
        "plt.xlabel('Number of Components')\n",
        "plt.ylabel('Variance (%)') #for each component\n",
        "plt.title('Gene Expression Explained Variance')\n",
        "plt.show()"
      ],
      "execution_count": 0,
      "outputs": []
    },
    {
      "cell_type": "markdown",
      "metadata": {
        "id": "SqmgcS04VxOy",
        "colab_type": "text"
      },
      "source": [
        "The plot tells us that with ~1250 components we can capture 90% of the data. "
      ]
    },
    {
      "cell_type": "code",
      "metadata": {
        "id": "eQq27-9FaG63",
        "colab_type": "code",
        "colab": {}
      },
      "source": [
        "# 100 Prinicipal Components\n",
        "pca = PCA(n_components = 100)\n",
        "\n",
        "# Fit components with normalized data\n",
        "principalComponents = pca.fit_transform(x)\n",
        "\n",
        "# Generate a vector of column names with the number for each prinicpal component \n",
        "col_names = [f'principal component {i}' for i in range(1, 101)]\n",
        "\n",
        "# Add column names to the principal component dataset \n",
        "principalDf = pd.DataFrame(principalComponents, columns = col_names)"
      ],
      "execution_count": 0,
      "outputs": []
    },
    {
      "cell_type": "code",
      "metadata": {
        "id": "89DAgYcCae30",
        "colab_type": "code",
        "colab": {}
      },
      "source": [
        "principalComponents"
      ],
      "execution_count": 0,
      "outputs": []
    },
    {
      "cell_type": "code",
      "metadata": {
        "id": "RnEmYfJdamRX",
        "colab_type": "code",
        "colab": {}
      },
      "source": [
        "# the below function is trying to concatenate the princpalDf to a dataframe that has labels \n",
        "label = gene_data.FIVE_YEAR\n",
        "label = pd.DataFrame(label)\n",
        "\n",
        "label = label.reset_index(drop=True)\n",
        "prinicpalDf = principalDf.reset_index(drop=True)\n",
        "\n",
        "finalDf = pd.concat([principalDf, label], axis=1)"
      ],
      "execution_count": 0,
      "outputs": []
    },
    {
      "cell_type": "code",
      "metadata": {
        "id": "j_xgefy1bbaB",
        "colab_type": "code",
        "colab": {}
      },
      "source": [
        "finalDf"
      ],
      "execution_count": 0,
      "outputs": []
    },
    {
      "cell_type": "markdown",
      "metadata": {
        "id": "k4EnIfj9gooB",
        "colab_type": "text"
      },
      "source": [
        "**5) Fitting Principal Components to Data**\n",
        "\n",
        "I'm specifically following the datacamp reference now: https://www.datacamp.com/community/tutorials/principal-component-analysis-in-python"
      ]
    },
    {
      "cell_type": "markdown",
      "metadata": {
        "id": "TQy46rfehfRd",
        "colab_type": "text"
      },
      "source": [
        "**Fit PCA to the data**"
      ]
    },
    {
      "cell_type": "code",
      "metadata": {
        "id": "kzp_rhkghe8q",
        "colab_type": "code",
        "colab": {}
      },
      "source": [
        "pca = PCA(0.9)\n",
        "pca.fit(x)"
      ],
      "execution_count": 0,
      "outputs": []
    },
    {
      "cell_type": "markdown",
      "metadata": {
        "id": "HEz6ZyG1hz4m",
        "colab_type": "text"
      },
      "source": [
        "**Determine how many n_components are actually needed to capture 0.9 variance**"
      ]
    },
    {
      "cell_type": "code",
      "metadata": {
        "id": "76USykBNh6Je",
        "colab_type": "code",
        "colab": {}
      },
      "source": [
        "pca.n_components_"
      ],
      "execution_count": 0,
      "outputs": []
    },
    {
      "cell_type": "markdown",
      "metadata": {
        "id": "3YM0DM-PiDZZ",
        "colab_type": "text"
      },
      "source": [
        "This function indicates that 1213 is the number of principal componenets needed to capture 90% of the variation which is what I had estiamted from the above plot.\n",
        "\n",
        "Next, we can transform the data to generate a transformed dataset from the parameters generated from the fit model. "
      ]
    },
    {
      "cell_type": "code",
      "metadata": {
        "id": "TeSLGRyoiLux",
        "colab_type": "code",
        "colab": {}
      },
      "source": [
        "transformed_data  = pca.transform(genes)"
      ],
      "execution_count": 0,
      "outputs": []
    },
    {
      "cell_type": "code",
      "metadata": {
        "id": "vWQIJjD2jERZ",
        "colab_type": "code",
        "colab": {}
      },
      "source": [
        "transformed_data.shape # this has 1213 columns - or principal components!"
      ],
      "execution_count": 0,
      "outputs": []
    },
    {
      "cell_type": "code",
      "metadata": {
        "id": "xeIWa-J-joyn",
        "colab_type": "code",
        "colab": {}
      },
      "source": [
        "transformed_data"
      ],
      "execution_count": 0,
      "outputs": []
    },
    {
      "cell_type": "markdown",
      "metadata": {
        "id": "ztQp9M6aig70",
        "colab_type": "text"
      },
      "source": [
        "**Questions:**\n",
        "\n",
        "1) Is there a such thing as too many prinicipal components?\n",
        "\n",
        "2) Also, is this just the data that I feed into the ML model? I'm not sure I understand what the specific values are? The normalized gene expression? "
      ]
    }
  ]
}