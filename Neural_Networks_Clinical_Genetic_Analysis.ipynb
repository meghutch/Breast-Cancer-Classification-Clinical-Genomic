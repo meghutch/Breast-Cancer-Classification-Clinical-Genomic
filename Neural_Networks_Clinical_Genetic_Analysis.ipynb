{
  "nbformat": 4,
  "nbformat_minor": 0,
  "metadata": {
    "colab": {
      "name": "Neural_Networks_Clinical_Genetic_Analysis",
      "provenance": [],
      "collapsed_sections": [],
      "include_colab_link": true
    },
    "kernelspec": {
      "name": "python3",
      "display_name": "Python 3"
    }
  },
  "cells": [
    {
      "cell_type": "markdown",
      "metadata": {
        "id": "view-in-github",
        "colab_type": "text"
      },
      "source": [
        "<a href=\"https://colab.research.google.com/github/meghutch/Breast-Cancer-Classification-Clinical-Genomic/blob/master/Neural_Networks_Clinical_Genetic_Analysis.ipynb\" target=\"_parent\"><img src=\"https://colab.research.google.com/assets/colab-badge.svg\" alt=\"Open In Colab\"/></a>"
      ]
    },
    {
      "cell_type": "markdown",
      "metadata": {
        "id": "gfhIBpuAWrrO",
        "colab_type": "text"
      },
      "source": [
        "# **Predicting Clinical Outcomes of Breast Cancer Patients**\n",
        "\n",
        "## **Analysis of Clinical Outcomes and Gene Expression**\n",
        "\n",
        "**Author:** Meg Hutch\n",
        "\n",
        "**Date:** December 6, 2019\n",
        "\n",
        "**Objective:** We will examine models using just clinical data and then we will resassess using combined clinical + genomioc data to predict patient surivival greater than 10 years.\n",
        "\n",
        "Unlike the **Neural_Network_Clinical_Outcomes** analysis, this will use the patients in the merged_expression.txt that were processed."
      ]
    },
    {
      "cell_type": "code",
      "metadata": {
        "id": "4Xl-wjp_WmUs",
        "colab_type": "code",
        "colab": {}
      },
      "source": [
        "import pandas as pd\n",
        "import numpy as np\n",
        "import matplotlib\n",
        "import matplotlib.pyplot as plt\n",
        "import matplotlib.colors\n",
        "import seaborn as sns"
      ],
      "execution_count": 0,
      "outputs": []
    },
    {
      "cell_type": "code",
      "metadata": {
        "id": "mamswLh8QkLR",
        "colab_type": "code",
        "colab": {
          "base_uri": "https://localhost:8080/",
          "height": 35
        },
        "outputId": "af0634c6-c956-4281-a305-de700ff88e02"
      },
      "source": [
        "# Connect Colab to google drive\n",
        "from google.colab import drive\n",
        "drive.mount('/content/drive')"
      ],
      "execution_count": 2,
      "outputs": [
        {
          "output_type": "stream",
          "text": [
            "Drive already mounted at /content/drive; to attempt to forcibly remount, call drive.mount(\"/content/drive\", force_remount=True).\n"
          ],
          "name": "stdout"
        }
      ]
    },
    {
      "cell_type": "code",
      "metadata": {
        "id": "Sds0C37hUMd_",
        "colab_type": "code",
        "colab": {}
      },
      "source": [
        "## Import Data\n",
        "# Clinical Data\n",
        "bc_data = pd.read_csv('/content/drive/My Drive/Projects/Breast_Cancer_Classification/Data/data_clinical_patient.csv')\n",
        "# Gene Expression Data \n",
        "gene_data = pd.read_csv('/content/drive/My Drive/Projects/Breast_Cancer_Classification/Data/merged_expression.txt', sep=',')"
      ],
      "execution_count": 0,
      "outputs": []
    },
    {
      "cell_type": "markdown",
      "metadata": {
        "id": "kAKBHKzCa4DH",
        "colab_type": "text"
      },
      "source": [
        "# **Pre-Process Data**\n",
        "\n",
        "**Clinical Data**\n",
        "\n",
        "\n"
      ]
    },
    {
      "cell_type": "markdown",
      "metadata": {
        "id": "P42uFeTBlPX0",
        "colab_type": "text"
      },
      "source": [
        "Rows 0-3 contain definitions of data and data types. We can remove these"
      ]
    },
    {
      "cell_type": "code",
      "metadata": {
        "id": "g_Od_3KdbGQr",
        "colab_type": "code",
        "colab": {}
      },
      "source": [
        "bc_data = bc_data.iloc[4:]"
      ],
      "execution_count": 0,
      "outputs": []
    },
    {
      "cell_type": "markdown",
      "metadata": {
        "id": "prEZQHwscm0B",
        "colab_type": "text"
      },
      "source": [
        "Convert first row to header name"
      ]
    },
    {
      "cell_type": "code",
      "metadata": {
        "id": "ZWaxqLvXbO1T",
        "colab_type": "code",
        "colab": {}
      },
      "source": [
        "# Convert first row to header name\n",
        "bc_data = bc_data.rename(columns=bc_data.iloc[0]).drop(bc_data.index[0])"
      ],
      "execution_count": 0,
      "outputs": []
    },
    {
      "cell_type": "markdown",
      "metadata": {
        "id": "B0yvqaoNcy3I",
        "colab_type": "text"
      },
      "source": [
        "Convert column names to lowercase"
      ]
    },
    {
      "cell_type": "code",
      "metadata": {
        "id": "85VrahjfcP3S",
        "colab_type": "code",
        "colab": {}
      },
      "source": [
        "# Convert column names to lowercase\n",
        "bc_data.columns = map(str.lower, bc_data.columns)"
      ],
      "execution_count": 0,
      "outputs": []
    },
    {
      "cell_type": "markdown",
      "metadata": {
        "colab_type": "text",
        "id": "WiKXth4Kmyck"
      },
      "source": [
        "In the project directions, it says we can treat \"Died of Other Causes\" as living. Thus, change the category title as such."
      ]
    },
    {
      "cell_type": "code",
      "metadata": {
        "colab_type": "code",
        "id": "QwM7BYIJmycq",
        "colab": {}
      },
      "source": [
        "bc_data['vital_status'] = bc_data['vital_status'].replace({'Living': 'Living', 'Died of Disease': 'Died of Disease', 'Died of Other Causes': 'Living'})"
      ],
      "execution_count": 0,
      "outputs": []
    },
    {
      "cell_type": "markdown",
      "metadata": {
        "id": "NZsZdNjY2lBi",
        "colab_type": "text"
      },
      "source": [
        "Remove any incomplete cases"
      ]
    },
    {
      "cell_type": "code",
      "metadata": {
        "id": "cYBjnHVN12dy",
        "colab_type": "code",
        "colab": {}
      },
      "source": [
        "bc_data = bc_data.dropna()"
      ],
      "execution_count": 0,
      "outputs": []
    },
    {
      "cell_type": "markdown",
      "metadata": {
        "id": "wC5WoxDe3csQ",
        "colab_type": "text"
      },
      "source": [
        "I'm not sure if sometimes there are missing values just because something wasn't performed, in the case of surgery perhaps? Either way...I'm just going to remove missing values -- May be good to ask about this though"
      ]
    },
    {
      "cell_type": "markdown",
      "metadata": {
        "colab_type": "text",
        "id": "_NkdoqfjmiUU"
      },
      "source": [
        "**One Hot Encoding**\n",
        "\n",
        "Because some categorical features have multiple categories, we need to use one-hot-encoding to represent these varaibles in the dataset. Just creating numeric levels won't always make sense in the case of features like caludin_subtype which are genomic classifications\n",
        "\n",
        "For features that are binary - we will not need to seperate these into 2 variables - does not make sense!"
      ]
    },
    {
      "cell_type": "code",
      "metadata": {
        "colab_type": "code",
        "id": "LI5MqXipmiUZ",
        "colab": {
          "base_uri": "https://localhost:8080/",
          "height": 284
        },
        "outputId": "c348b2e9-ba4a-4ba8-fb6a-0ab507df7ff8"
      },
      "source": [
        "# Determine which variables we want to one-hot-encode\n",
        "print('Cellularity:', bc_data['cellularity'].unique())\n",
        "print('Chemotherapy:',bc_data['chemotherapy'].unique()) # binary\n",
        "print('Er_ihc:',bc_data['er_ihc'].unique()) # binary \n",
        "print('Her2_snp6:',bc_data['her2_snp6'].unique())\n",
        "print('Hormone Therapy:',bc_data['hormone_therapy'].unique()) # binary\n",
        "print('Inferred_menopausal_state:',bc_data['inferred_menopausal_state'].unique()) # binary\n",
        "print('Interclust:',bc_data['intclust'].unique())\n",
        "print('Claudin_Subtype:',bc_data['claudin_subtype'].unique())\n",
        "print('Threegene:',bc_data['threegene'].unique())\n",
        "print('Laterality:',bc_data['laterality'].unique()) # binary\n",
        "print('Radio_Therapy:',bc_data['radio_therapy'].unique()) # bianry\n",
        "print('Histological_Subtype:',bc_data['histological_subtype'].unique())\n",
        "print('Breast_Surgery:',bc_data['breast_surgery'].unique())\n",
        "print('Vital_status:',bc_data['vital_status'].unique())"
      ],
      "execution_count": 9,
      "outputs": [
        {
          "output_type": "stream",
          "text": [
            "Cellularity: ['High' 'Moderate' 'Low']\n",
            "Chemotherapy: ['NO' 'YES']\n",
            "Er_ihc: ['Positve' 'Negative']\n",
            "Her2_snp6: ['NEUTRAL' 'GAIN' 'LOSS' 'UNDEF']\n",
            "Hormone Therapy: ['YES' 'NO']\n",
            "Inferred_menopausal_state: ['Pre' 'Post']\n",
            "Interclust: ['4ER+' '9' '7' '3' '8' '10' '5' '6' '1' '2' '4ER-']\n",
            "Claudin_Subtype: ['LumA' 'LumB' 'Her2' 'Normal' 'Basal' 'claudin-low' 'NC']\n",
            "Threegene: ['ER+/HER2- High Prolif' 'ER+/HER2- Low Prolif' 'ER-/HER2-' 'HER2+']\n",
            "Laterality: ['Right' 'Left']\n",
            "Radio_Therapy: ['YES' 'NO']\n",
            "Histological_Subtype: ['Ductal/NST' 'Mixed' 'Lobular' 'Tubular/ cribriform' 'Mucinous'\n",
            " 'Medullary' 'Other']\n",
            "Breast_Surgery: ['BREAST CONSERVING' 'MASTECTOMY']\n",
            "Vital_status: ['Living' 'Died of Disease']\n"
          ],
          "name": "stdout"
        }
      ]
    },
    {
      "cell_type": "code",
      "metadata": {
        "colab_type": "code",
        "id": "rG6TBfsFmiUi",
        "colab": {}
      },
      "source": [
        "# Convert patient_ids to row names \n",
        "bc_data = bc_data.set_index(bc_data.patient_id)"
      ],
      "execution_count": 0,
      "outputs": []
    },
    {
      "cell_type": "code",
      "metadata": {
        "colab_type": "code",
        "id": "2bjIzr3SmiUn",
        "colab": {}
      },
      "source": [
        "# Create dataframe with the unchanged varaibles - this will contain numeric variables\n",
        "bc_data1 = bc_data[['lymph_nodes_examined_positive', 'npi', 'age_at_diagnosis', 'os_months', 'vital_status', 'chemotherapy', 'er_ihc', 'hormone_therapy', 'inferred_menopausal_state', 'radio_therapy', 'laterality']]\n",
        "\n",
        "## Seperate the dataframes into the variables that we will want to reshape - we can then recombine anything that has more than 2 levels\n",
        "# Cellularity\n",
        "cell_df = bc_data[['cellularity']]\n",
        "cell_df = pd.get_dummies(cell_df,prefix=['cellularity'])\n",
        "\n",
        "# Her2_snp6\n",
        "her2_df = bc_data[['her2_snp6']]\n",
        "her2_df = pd.get_dummies(her2_df,prefix=['her2'])\n",
        "\n",
        "# Interclust\n",
        "intclust_df = bc_data[['intclust']]\n",
        "intclust_df = pd.get_dummies(intclust_df,prefix=['intclust'])\n",
        "\n",
        "# Claduin Subtype\n",
        "cs_df = bc_data[['claudin_subtype']]\n",
        "cs_df = pd.get_dummies(cs_df,prefix=['claudin_subtype'])\n",
        "\n",
        "# Threegene\n",
        "three_df = bc_data[['threegene']]\n",
        "three_df = pd.get_dummies(three_df,prefix=['threegene'])\n",
        "\n",
        "# Histological_Subtype\n",
        "hist_df = bc_data[['histological_subtype']]\n",
        "hist_df = pd.get_dummies(hist_df,prefix=['hist'])\n",
        "\n",
        "# Breast Surgery\n",
        "surg_df = bc_data[['breast_surgery']]\n",
        "surg_df = pd.get_dummies(surg_df,prefix=['breast_surgery'])\n",
        "\n",
        "# We want to convert row index (patient_id) to the first column for all of the above datasets\n",
        "bc_data1.reset_index(level=0, inplace=True)\n",
        "cell_df.reset_index(level=0, inplace=True)\n",
        "her2_df.reset_index(level=0, inplace=True)\n",
        "intclust_df.reset_index(level=0, inplace=True)\n",
        "cs_df.reset_index(level=0, inplace=True)\n",
        "three_df.reset_index(level=0, inplace=True)\n",
        "hist_df.reset_index(level=0, inplace=True)\n",
        "surg_df.reset_index(level=0, inplace=True)\n",
        "\n",
        "# Merge all data \n",
        "bc_data = pd.merge(bc_data1, cell_df, how=\"left\", on=\"patient_id\")\n",
        "bc_data = pd.merge(bc_data, her2_df, how=\"left\", on=\"patient_id\")\n",
        "bc_data = pd.merge(bc_data, intclust_df, how=\"left\", on=\"patient_id\")\n",
        "bc_data = pd.merge(bc_data, cs_df, how=\"left\", on=\"patient_id\")\n",
        "bc_data = pd.merge(bc_data, three_df, how=\"left\", on=\"patient_id\")\n",
        "bc_data = pd.merge(bc_data, hist_df, how=\"left\", on=\"patient_id\")\n",
        "bc_data = pd.merge(bc_data, surg_df, how=\"left\", on=\"patient_id\")"
      ],
      "execution_count": 0,
      "outputs": []
    },
    {
      "cell_type": "markdown",
      "metadata": {
        "colab_type": "text",
        "id": "ukcahmrDmiUw"
      },
      "source": [
        "Create dummy variables for Vital Status - Our Label and the other binary variables"
      ]
    },
    {
      "cell_type": "code",
      "metadata": {
        "colab_type": "code",
        "id": "wjXZeKeGmiUx",
        "colab": {}
      },
      "source": [
        "bc_data['vital_status'] = bc_data.vital_status.map({'Living': 0, 'Died of Disease': 1})\n",
        "bc_data['chemotherapy'] = bc_data.chemotherapy.map({'NO': 0, 'YES': 1})\n",
        "bc_data['er_ihc'] = bc_data.er_ihc.map({'Negative': 0, 'Positve': 1}) # careful with the positive spelling error in the dataset\n",
        "bc_data['hormone_therapy'] = bc_data.hormone_therapy.map({'NO': 0, 'YES': 1})\n",
        "bc_data['inferred_menopausal_state'] = bc_data.inferred_menopausal_state.map({'Pre': 0, 'Post': 1})\n",
        "bc_data['laterality'] = bc_data.laterality.map({'Left': 0, 'Right': 1})\n",
        "bc_data['radio_therapy'] = bc_data.radio_therapy.map({'NO': 0, 'YES': 1})"
      ],
      "execution_count": 0,
      "outputs": []
    },
    {
      "cell_type": "markdown",
      "metadata": {
        "colab_type": "text",
        "id": "yNDj16JSsW56"
      },
      "source": [
        "Covert numeric varaibles as such, right now they are all non-null objects"
      ]
    },
    {
      "cell_type": "code",
      "metadata": {
        "colab_type": "code",
        "id": "m7wveepYsW5_",
        "colab": {}
      },
      "source": [
        "# convert first column to row index\n",
        "bc_data = bc_data.set_index('patient_id')\n",
        "\n",
        "# convert column object type to float for all columns\n",
        "bc_data = bc_data.astype(np.float32)\n",
        "\n",
        "# convert the row index back to the first column\n",
        "bc_data.reset_index(level=0, inplace=True)"
      ],
      "execution_count": 0,
      "outputs": []
    },
    {
      "cell_type": "markdown",
      "metadata": {
        "id": "CvEAYV7AdnUy",
        "colab_type": "text"
      },
      "source": [
        "**Gene Expression Data**"
      ]
    },
    {
      "cell_type": "markdown",
      "metadata": {
        "id": "yN3qdFp3iAXi",
        "colab_type": "text"
      },
      "source": [
        "Rename patient ID column"
      ]
    },
    {
      "cell_type": "code",
      "metadata": {
        "id": "2awWt2puh_3C",
        "colab_type": "code",
        "colab": {}
      },
      "source": [
        "gene_data.rename(columns={'Unnamed: 0':'patient_id'}, inplace=True)"
      ],
      "execution_count": 0,
      "outputs": []
    },
    {
      "cell_type": "markdown",
      "metadata": {
        "id": "Nhv4Xmt4CEjc",
        "colab_type": "text"
      },
      "source": [
        "Remove redundant columns that also appear in the bc_data - EVENT indicates 5 year survival from the processing code"
      ]
    },
    {
      "cell_type": "code",
      "metadata": {
        "id": "OzzDhbSgCGW7",
        "colab_type": "code",
        "colab": {}
      },
      "source": [
        "gene_data = gene_data.drop(columns=[\"EVENT\", \"OS_MONTHS\", \"FIVE_YEAR\"])"
      ],
      "execution_count": 0,
      "outputs": []
    },
    {
      "cell_type": "markdown",
      "metadata": {
        "colab_type": "text",
        "id": "yOA86mVZjw-H"
      },
      "source": [
        "Remove genes if there are missing values.\n",
        "\n",
        "There are so many gene expression variables that I will not exclude patients if they are missing genetic data! Suprisingly, this only removes 6 genes which doesn't seem like it would make a big deal."
      ]
    },
    {
      "cell_type": "code",
      "metadata": {
        "id": "3xHEkcgpAK1Q",
        "colab_type": "code",
        "colab": {}
      },
      "source": [
        "# how many genes (columns) are complete cases?\n",
        "gene_data = gene_data.dropna(axis = 1) #axis = 1, represents dropping columns with any missing values"
      ],
      "execution_count": 0,
      "outputs": []
    },
    {
      "cell_type": "markdown",
      "metadata": {
        "id": "fG0jkv53dzjL",
        "colab_type": "text"
      },
      "source": [
        "**Merge Clinical and Gean Data**"
      ]
    },
    {
      "cell_type": "code",
      "metadata": {
        "id": "vsEkpsAOd7D2",
        "colab_type": "code",
        "colab": {}
      },
      "source": [
        "clinical_gene = pd.merge(bc_data, gene_data, how=\"left\", on=\"patient_id\")"
      ],
      "execution_count": 0,
      "outputs": []
    },
    {
      "cell_type": "markdown",
      "metadata": {
        "colab_type": "text",
        "id": "sACE1PvgnEhf"
      },
      "source": [
        "# **Examine Patient Outcomes**\n",
        "\n",
        "Assess the number of patients maintained in our final datasets and their outcomes"
      ]
    },
    {
      "cell_type": "code",
      "metadata": {
        "colab_type": "code",
        "id": "cy1Bjfi6nEhk",
        "cellView": "both",
        "colab": {
          "base_uri": "https://localhost:8080/",
          "height": 405
        },
        "outputId": "252973a9-007f-436b-cc27-fb22d3cce7e5"
      },
      "source": [
        "plt_out = clinical_gene.vital_status.value_counts().plot(kind=\"bar\")\n",
        "plt_out.tick_params(axis=\"x\", labelsize=11, labelrotation= -360)\n",
        "plt_out.set_title(\"Survival\")\n",
        "\n",
        "# Calculate Percents\n",
        "count_outcomes = clinical_gene.groupby(['vital_status']).size()\n",
        "print(count_outcomes)\n",
        "\n",
        "print('Total Number of Patients:', len(clinical_gene.index))\n",
        "print('Percent Living: {:.2f}'.format(count_outcomes[0]/len(clinical_gene.index)))\n",
        "print('Percent Died of Disease: {:.2f}'.format(count_outcomes[1]/len(clinical_gene.index)))"
      ],
      "execution_count": 18,
      "outputs": [
        {
          "output_type": "stream",
          "text": [
            "vital_status\n",
            "0.0    1034\n",
            "1.0     485\n",
            "dtype: int64\n",
            "Total Number of Patients: 1519\n",
            "Percent Living: 0.68\n",
            "Percent Died of Disease: 0.32\n"
          ],
          "name": "stdout"
        },
        {
          "output_type": "display_data",
          "data": {
            "image/png": "[encoded data removed]",
            "text/plain": [
              "<Figure size 432x288 with 1 Axes>"
            ]
          },
          "metadata": {
            "tags": []
          }
        }
      ]
    },
    {
      "cell_type": "markdown",
      "metadata": {
        "id": "p0LSJM5jlhZR",
        "colab_type": "text"
      },
      "source": [
        "After removing patients with missing clinical values, our dataset reduced to \n",
        "1,519 patients with 49 clinical variables (after one hot encoding) and mRNA expression for 24,368 genes. \n",
        "\n",
        "485 (32% of patients died from breast cancer) vs 1,034 (68%) of patients who surived. \n"
      ]
    },
    {
      "cell_type": "markdown",
      "metadata": {
        "id": "SlYTYc7lwvOZ",
        "colab_type": "text"
      },
      "source": [
        "# **Assess the number of patients who surivived > 10 years**"
      ]
    },
    {
      "cell_type": "code",
      "metadata": {
        "id": "WS5ARnT33T_v",
        "colab_type": "code",
        "colab": {
          "base_uri": "https://localhost:8080/",
          "height": 295
        },
        "outputId": "cab54d48-3849-488b-c3e7-68768aeacca9"
      },
      "source": [
        "# examine patients who survived > 10 years\n",
        "years10 = clinical_gene[clinical_gene['os_months'] >= 120]\n",
        "os = clinical_gene['os_months']\n",
        "\n",
        "# Define bins\n",
        "bin_edges = [25,50,75,100,125,150,175,200,225,250,275,300,325]\n",
        "\n",
        "plt.hist(os,\n",
        "         bin_edges,\n",
        "         density=False,\n",
        "         histtype='bar',\n",
        "         color='b',\n",
        "         edgecolor='k',\n",
        "         alpha=0.5)\n",
        "\n",
        "plt.xlabel('Months')\n",
        "plt.ylabel('Number Patients')\n",
        "plt.title('Overall Surivival (months)')\n",
        "\n",
        "plt.show()"
      ],
      "execution_count": 19,
      "outputs": [
        {
          "output_type": "display_data",
          "data": {
            "image/png": "[encoded data removed]",
            "text/plain": [
              "<Figure size 432x288 with 1 Axes>"
            ]
          },
          "metadata": {
            "tags": []
          }
        }
      ]
    },
    {
      "cell_type": "code",
      "metadata": {
        "id": "Xc1IuEw35LaE",
        "colab_type": "code",
        "colab": {
          "base_uri": "https://localhost:8080/",
          "height": 141
        },
        "outputId": "db24f5f3-4b0e-4e5b-e7f3-8bd556ad8584"
      },
      "source": [
        "# Calculate Percents\n",
        "count_outcomes = years10.groupby(['vital_status']).size()\n",
        "print(count_outcomes)\n",
        "\n",
        "print('Total Number of Patients:', len(years10.index))\n",
        "print('Percent Living: {:.2f}'.format(count_outcomes[0]/len(years10.index)))\n",
        "print('Percent Died of Disease: {:.2f}'.format(count_outcomes[1]/len(years10.index)))"
      ],
      "execution_count": 20,
      "outputs": [
        {
          "output_type": "stream",
          "text": [
            "vital_status\n",
            "0.0    640\n",
            "1.0     95\n",
            "dtype: int64\n",
            "Total Number of Patients: 735\n",
            "Percent Living: 0.87\n",
            "Percent Died of Disease: 0.13\n"
          ],
          "name": "stdout"
        }
      ]
    },
    {
      "cell_type": "markdown",
      "metadata": {
        "id": "0RmpBUCk79Jp",
        "colab_type": "text"
      },
      "source": [
        "The number of patients who are still living vs those deceased at 10 years is very unbalanced (87 vs 13% respectively). For this reason, I will continue to see whether my model can just predict survival status for patients."
      ]
    },
    {
      "cell_type": "markdown",
      "metadata": {
        "id": "IHSb_8vfnj7F",
        "colab_type": "text"
      },
      "source": [
        "# **Prinicipal Component Analysis**\n",
        "\n",
        "**What is a Pricipal Component?**\n",
        "\n",
        "Principal componenets have both direction and magnitude. The direction represents across which principal axes the data is mostly spread out or has the most variance and the magnitude signifies the amount of varaince that Principal Component captures of the data when projected onto that axis. \n",
        "\n",
        "The principal components are a straight line, and the first principal component holds the most variance in the data. Each subsequent prinicpal component is orthogonal to the last and has a lesser variance .\n",
        "\n",
        "Correlated features contribute to the same principal component, thereby reducing the original data features into uncorrelated prinicpal components; each representing a different set of correlated features with differents of variation.\n",
        "\n",
        "Each principal component represents a percentage of total variation captured from the data\n",
        "\n",
        "**Reference:** https://www.datacamp.com/community/tutorials/principal-component-analysis-in-python"
      ]
    },
    {
      "cell_type": "markdown",
      "metadata": {
        "id": "bLtwUznBJliI",
        "colab_type": "text"
      },
      "source": [
        "Create a dataset just containing gene expression"
      ]
    },
    {
      "cell_type": "code",
      "metadata": {
        "id": "d39noFie28iQ",
        "colab_type": "code",
        "colab": {}
      },
      "source": [
        "# remove patient_id number from the list\n",
        "gene_list = gene_data.drop(columns=[\"patient_id\"])\n",
        "gene_list = list(gene_list.columns.values) \n",
        "genes = clinical_gene[gene_list]"
      ],
      "execution_count": 0,
      "outputs": []
    },
    {
      "cell_type": "markdown",
      "metadata": {
        "id": "3DgHGkhOxDS9",
        "colab_type": "text"
      },
      "source": [
        "Create a dataset containing the target variables"
      ]
    },
    {
      "cell_type": "code",
      "metadata": {
        "id": "YUEg7yf_VhS-",
        "colab_type": "code",
        "colab": {}
      },
      "source": [
        "# Subset only the Event - whether they lived (0) or died (1) from Breast Cancer\n",
        "labels = clinical_gene.vital_status\n",
        "\n",
        "# Create a list of row names\n",
        "patients = list(clinical_gene.patient_id)\n",
        "\n",
        "# Convert labels into a dataframe and indicate patients as the index\n",
        "labels = pd.DataFrame(labels)\n",
        "labels.index = patients"
      ],
      "execution_count": 0,
      "outputs": []
    },
    {
      "cell_type": "markdown",
      "metadata": {
        "colab_type": "text",
        "id": "LcNAgmZwbTgQ"
      },
      "source": [
        "**1) Standardize the Data**\n",
        "\n",
        "Must scale features in your data before applying PCA. **StandardScaler** helps standardize features onto unit scale (mean = 0 and standard deviation = 1). Thus, each value in the dataset will have the sample mean value subtracted and then divided by the standard deviation of the whole dataset. \n"
      ]
    },
    {
      "cell_type": "code",
      "metadata": {
        "colab_type": "code",
        "id": "C8fw-kJMbTgV",
        "colab": {}
      },
      "source": [
        "from sklearn.preprocessing import StandardScaler \n",
        "from sklearn.decomposition import PCA\n",
        "\n",
        "# Stanardize/Scale the data\n",
        "x = StandardScaler().fit_transform(genes)"
      ],
      "execution_count": 0,
      "outputs": []
    },
    {
      "cell_type": "markdown",
      "metadata": {
        "colab_type": "text",
        "id": "RYSjIvVMbTgo"
      },
      "source": [
        "**Let's check whether the normalized data has a mean of zero and a standard deviation of 1**"
      ]
    },
    {
      "cell_type": "code",
      "metadata": {
        "colab_type": "code",
        "id": "xDv7qQHUbTgs",
        "colab": {
          "base_uri": "https://localhost:8080/",
          "height": 35
        },
        "outputId": "8c1935ed-e6e8-46cf-f467-2e8d678aac8d"
      },
      "source": [
        "np.mean(x), np.std(x)"
      ],
      "execution_count": 24,
      "outputs": [
        {
          "output_type": "execute_result",
          "data": {
            "text/plain": [
              "(-2.1440133607904242e-17, 0.9999999999999993)"
            ]
          },
          "metadata": {
            "tags": []
          },
          "execution_count": 24
        }
      ]
    },
    {
      "cell_type": "markdown",
      "metadata": {
        "id": "W2pzskJS_UEz",
        "colab_type": "text"
      },
      "source": [
        "**Convert the normalized features into tabular format**"
      ]
    },
    {
      "cell_type": "code",
      "metadata": {
        "id": "3xKkBbp4_W3V",
        "colab_type": "code",
        "colab": {}
      },
      "source": [
        "# Create list of column names\n",
        "features = list(genes.columns.values) \n",
        "\n",
        "# Create data frame of newly normalized data - use patients IDs as the index \n",
        "x = pd.DataFrame(x, columns = features, index = patients)"
      ],
      "execution_count": 0,
      "outputs": []
    },
    {
      "cell_type": "markdown",
      "metadata": {
        "id": "nFQt5RulAiYC",
        "colab_type": "text"
      },
      "source": [
        "**2) Determine Prinicpal Components**\n",
        "\n",
        "Reference: https://stackoverflow.com/questions/42167907/understanding-scikitlearn-pca-transform-function-in-python\n",
        "\n",
        "**pca.fit** allows PCA function to compute vectors that you can project your data onto in order to reduce the dimension of your data. \n",
        "\n",
        "**pca.transform** actually performs the projection. It projects each row of data into the vector space that was learned when fit was called.\n",
        "\n",
        "from sklearn: **fit_transform**: Fit the model with X and apply the dimensionality reduction on X"
      ]
    },
    {
      "cell_type": "code",
      "metadata": {
        "id": "ZhT8EtKgHCh6",
        "colab_type": "code",
        "colab": {
          "base_uri": "https://localhost:8080/",
          "height": 601
        },
        "outputId": "8228a64b-0d37-41ad-ef4b-cf113edcc36c"
      },
      "source": [
        "# Define pca function\n",
        "pca = PCA()\n",
        "\n",
        "# Fit to the scaled/standardized data - then use transform to prokect into the new vector space learned by fit\n",
        "principalComponents = pca.fit_transform(x)\n",
        "\n",
        "# Generate a list of column names with the number for each prinicpal component \n",
        "col_names = [f'pc{i}' for i in range(1, 1520)] # there are 1519 samples - so we want to have range of 1 less than 1894 column names \n",
        "\n",
        "# Add column names to the principal component dataset \n",
        "principalDf = pd.DataFrame(principalComponents, columns = col_names, index = patients)\n",
        "principalDf"
      ],
      "execution_count": 26,
      "outputs": [
        {
          "output_type": "execute_result",
          "data": {
            "text/html": [
              "<div>\n",
              "<style scoped>\n",
              "    .dataframe tbody tr th:only-of-type {\n",
              "        vertical-align: middle;\n",
              "    }\n",
              "\n",
              "    .dataframe tbody tr th {\n",
              "        vertical-align: top;\n",
              "    }\n",
              "\n",
              "    .dataframe thead th {\n",
              "        text-align: right;\n",
              "    }\n",
              "</style>\n",
              "<table border=\"1\" class=\"dataframe\">\n",
              "  <thead>\n",
              "    <tr style=\"text-align: right;\">\n",
              "      <th></th>\n",
              "      <th>pc1</th>\n",
              "      <th>pc2</th>\n",
              "      <th>pc3</th>\n",
              "      <th>pc4</th>\n",
              "      <th>pc5</th>\n",
              "      <th>pc6</th>\n",
              "      <th>pc7</th>\n",
              "      <th>pc8</th>\n",
              "      <th>pc9</th>\n",
              "      <th>pc10</th>\n",
              "      <th>pc11</th>\n",
              "      <th>pc12</th>\n",
              "      <th>pc13</th>\n",
              "      <th>pc14</th>\n",
              "      <th>pc15</th>\n",
              "      <th>pc16</th>\n",
              "      <th>pc17</th>\n",
              "      <th>pc18</th>\n",
              "      <th>pc19</th>\n",
              "      <th>pc20</th>\n",
              "      <th>pc21</th>\n",
              "      <th>pc22</th>\n",
              "      <th>pc23</th>\n",
              "      <th>pc24</th>\n",
              "      <th>pc25</th>\n",
              "      <th>pc26</th>\n",
              "      <th>pc27</th>\n",
              "      <th>pc28</th>\n",
              "      <th>pc29</th>\n",
              "      <th>pc30</th>\n",
              "      <th>pc31</th>\n",
              "      <th>pc32</th>\n",
              "      <th>pc33</th>\n",
              "      <th>pc34</th>\n",
              "      <th>pc35</th>\n",
              "      <th>pc36</th>\n",
              "      <th>pc37</th>\n",
              "      <th>pc38</th>\n",
              "      <th>pc39</th>\n",
              "      <th>pc40</th>\n",
              "      <th>...</th>\n",
              "      <th>pc1480</th>\n",
              "      <th>pc1481</th>\n",
              "      <th>pc1482</th>\n",
              "      <th>pc1483</th>\n",
              "      <th>pc1484</th>\n",
              "      <th>pc1485</th>\n",
              "      <th>pc1486</th>\n",
              "      <th>pc1487</th>\n",
              "      <th>pc1488</th>\n",
              "      <th>pc1489</th>\n",
              "      <th>pc1490</th>\n",
              "      <th>pc1491</th>\n",
              "      <th>pc1492</th>\n",
              "      <th>pc1493</th>\n",
              "      <th>pc1494</th>\n",
              "      <th>pc1495</th>\n",
              "      <th>pc1496</th>\n",
              "      <th>pc1497</th>\n",
              "      <th>pc1498</th>\n",
              "      <th>pc1499</th>\n",
              "      <th>pc1500</th>\n",
              "      <th>pc1501</th>\n",
              "      <th>pc1502</th>\n",
              "      <th>pc1503</th>\n",
              "      <th>pc1504</th>\n",
              "      <th>pc1505</th>\n",
              "      <th>pc1506</th>\n",
              "      <th>pc1507</th>\n",
              "      <th>pc1508</th>\n",
              "      <th>pc1509</th>\n",
              "      <th>pc1510</th>\n",
              "      <th>pc1511</th>\n",
              "      <th>pc1512</th>\n",
              "      <th>pc1513</th>\n",
              "      <th>pc1514</th>\n",
              "      <th>pc1515</th>\n",
              "      <th>pc1516</th>\n",
              "      <th>pc1517</th>\n",
              "      <th>pc1518</th>\n",
              "      <th>pc1519</th>\n",
              "    </tr>\n",
              "  </thead>\n",
              "  <tbody>\n",
              "    <tr>\n",
              "      <th>MB-0002</th>\n",
              "      <td>3.696282</td>\n",
              "      <td>-35.520444</td>\n",
              "      <td>-18.813925</td>\n",
              "      <td>1.425125</td>\n",
              "      <td>-11.277186</td>\n",
              "      <td>-12.822790</td>\n",
              "      <td>4.251192</td>\n",
              "      <td>-13.187488</td>\n",
              "      <td>-17.484249</td>\n",
              "      <td>11.620502</td>\n",
              "      <td>-15.428377</td>\n",
              "      <td>-5.990460</td>\n",
              "      <td>-29.259997</td>\n",
              "      <td>4.524617</td>\n",
              "      <td>3.793844</td>\n",
              "      <td>-7.150132</td>\n",
              "      <td>-12.587557</td>\n",
              "      <td>-37.377278</td>\n",
              "      <td>3.419039</td>\n",
              "      <td>26.264708</td>\n",
              "      <td>6.044982</td>\n",
              "      <td>-2.502963</td>\n",
              "      <td>1.401320</td>\n",
              "      <td>5.127579</td>\n",
              "      <td>-0.554830</td>\n",
              "      <td>5.563588</td>\n",
              "      <td>26.515756</td>\n",
              "      <td>3.069561</td>\n",
              "      <td>1.625547</td>\n",
              "      <td>-8.056935</td>\n",
              "      <td>22.297868</td>\n",
              "      <td>-11.136432</td>\n",
              "      <td>-3.898825</td>\n",
              "      <td>8.608120</td>\n",
              "      <td>15.322118</td>\n",
              "      <td>0.631834</td>\n",
              "      <td>24.200760</td>\n",
              "      <td>-4.407630</td>\n",
              "      <td>7.801561</td>\n",
              "      <td>-1.820877</td>\n",
              "      <td>...</td>\n",
              "      <td>-0.851903</td>\n",
              "      <td>-0.820321</td>\n",
              "      <td>-1.642542</td>\n",
              "      <td>-0.714742</td>\n",
              "      <td>-0.083163</td>\n",
              "      <td>-0.117520</td>\n",
              "      <td>0.446018</td>\n",
              "      <td>0.123201</td>\n",
              "      <td>-0.286876</td>\n",
              "      <td>0.862906</td>\n",
              "      <td>-0.740857</td>\n",
              "      <td>-0.638325</td>\n",
              "      <td>0.237807</td>\n",
              "      <td>-0.426543</td>\n",
              "      <td>1.113707</td>\n",
              "      <td>-0.483813</td>\n",
              "      <td>-0.404465</td>\n",
              "      <td>1.784340</td>\n",
              "      <td>0.393543</td>\n",
              "      <td>1.028003</td>\n",
              "      <td>-1.807742</td>\n",
              "      <td>1.267285</td>\n",
              "      <td>-2.133198</td>\n",
              "      <td>1.828599</td>\n",
              "      <td>-1.028531</td>\n",
              "      <td>1.017656</td>\n",
              "      <td>0.714164</td>\n",
              "      <td>0.324745</td>\n",
              "      <td>-0.115166</td>\n",
              "      <td>0.885927</td>\n",
              "      <td>2.199292</td>\n",
              "      <td>0.104009</td>\n",
              "      <td>-1.982049</td>\n",
              "      <td>-2.338708</td>\n",
              "      <td>-2.384222</td>\n",
              "      <td>0.130091</td>\n",
              "      <td>-0.962951</td>\n",
              "      <td>0.067313</td>\n",
              "      <td>-0.530014</td>\n",
              "      <td>3.226540e-15</td>\n",
              "    </tr>\n",
              "    <tr>\n",
              "      <th>MB-0008</th>\n",
              "      <td>-15.971143</td>\n",
              "      <td>-15.432191</td>\n",
              "      <td>-32.061045</td>\n",
              "      <td>-29.377546</td>\n",
              "      <td>-8.856750</td>\n",
              "      <td>16.612036</td>\n",
              "      <td>4.018346</td>\n",
              "      <td>-9.285566</td>\n",
              "      <td>-24.787766</td>\n",
              "      <td>-14.310316</td>\n",
              "      <td>-7.081939</td>\n",
              "      <td>-6.554999</td>\n",
              "      <td>-17.514326</td>\n",
              "      <td>12.673051</td>\n",
              "      <td>-10.707682</td>\n",
              "      <td>25.228763</td>\n",
              "      <td>0.435692</td>\n",
              "      <td>17.426256</td>\n",
              "      <td>-12.483955</td>\n",
              "      <td>1.874893</td>\n",
              "      <td>3.739397</td>\n",
              "      <td>-5.517330</td>\n",
              "      <td>-3.544084</td>\n",
              "      <td>-2.838839</td>\n",
              "      <td>-7.951403</td>\n",
              "      <td>-3.017424</td>\n",
              "      <td>26.522082</td>\n",
              "      <td>2.473416</td>\n",
              "      <td>1.399002</td>\n",
              "      <td>7.772540</td>\n",
              "      <td>-7.146870</td>\n",
              "      <td>-1.874910</td>\n",
              "      <td>26.551375</td>\n",
              "      <td>0.636265</td>\n",
              "      <td>-10.068891</td>\n",
              "      <td>9.494622</td>\n",
              "      <td>2.448461</td>\n",
              "      <td>-0.074939</td>\n",
              "      <td>2.973074</td>\n",
              "      <td>0.973043</td>\n",
              "      <td>...</td>\n",
              "      <td>-1.003014</td>\n",
              "      <td>0.211598</td>\n",
              "      <td>-0.573605</td>\n",
              "      <td>0.213198</td>\n",
              "      <td>-0.736603</td>\n",
              "      <td>0.827175</td>\n",
              "      <td>-1.081762</td>\n",
              "      <td>-0.253595</td>\n",
              "      <td>0.453540</td>\n",
              "      <td>-0.855541</td>\n",
              "      <td>-0.624416</td>\n",
              "      <td>-0.316994</td>\n",
              "      <td>0.172783</td>\n",
              "      <td>0.679761</td>\n",
              "      <td>-1.698007</td>\n",
              "      <td>1.912439</td>\n",
              "      <td>-0.959564</td>\n",
              "      <td>-1.278216</td>\n",
              "      <td>-0.443109</td>\n",
              "      <td>-0.593039</td>\n",
              "      <td>-1.367058</td>\n",
              "      <td>-0.716466</td>\n",
              "      <td>0.761005</td>\n",
              "      <td>1.036470</td>\n",
              "      <td>0.400830</td>\n",
              "      <td>0.588748</td>\n",
              "      <td>0.338256</td>\n",
              "      <td>1.608587</td>\n",
              "      <td>-1.796271</td>\n",
              "      <td>1.499539</td>\n",
              "      <td>2.822634</td>\n",
              "      <td>-0.182661</td>\n",
              "      <td>0.591917</td>\n",
              "      <td>4.032921</td>\n",
              "      <td>-0.171979</td>\n",
              "      <td>0.819953</td>\n",
              "      <td>1.105986</td>\n",
              "      <td>0.073620</td>\n",
              "      <td>0.849012</td>\n",
              "      <td>3.226540e-15</td>\n",
              "    </tr>\n",
              "    <tr>\n",
              "      <th>MB-0010</th>\n",
              "      <td>-17.454315</td>\n",
              "      <td>-21.192113</td>\n",
              "      <td>-16.013777</td>\n",
              "      <td>-7.492020</td>\n",
              "      <td>-17.781708</td>\n",
              "      <td>1.319311</td>\n",
              "      <td>4.626225</td>\n",
              "      <td>-36.678655</td>\n",
              "      <td>11.585110</td>\n",
              "      <td>-7.570376</td>\n",
              "      <td>19.811831</td>\n",
              "      <td>2.021583</td>\n",
              "      <td>4.881035</td>\n",
              "      <td>21.767445</td>\n",
              "      <td>-18.117848</td>\n",
              "      <td>-2.266797</td>\n",
              "      <td>-3.254472</td>\n",
              "      <td>-10.264998</td>\n",
              "      <td>-0.934028</td>\n",
              "      <td>-6.740692</td>\n",
              "      <td>-17.375263</td>\n",
              "      <td>-3.659842</td>\n",
              "      <td>-8.297658</td>\n",
              "      <td>6.420469</td>\n",
              "      <td>-0.993854</td>\n",
              "      <td>-8.072056</td>\n",
              "      <td>12.528807</td>\n",
              "      <td>-1.977940</td>\n",
              "      <td>0.149557</td>\n",
              "      <td>4.161107</td>\n",
              "      <td>-1.021197</td>\n",
              "      <td>10.186300</td>\n",
              "      <td>15.009833</td>\n",
              "      <td>-4.688344</td>\n",
              "      <td>-2.201153</td>\n",
              "      <td>1.599327</td>\n",
              "      <td>4.277693</td>\n",
              "      <td>-6.324380</td>\n",
              "      <td>8.316996</td>\n",
              "      <td>-4.912895</td>\n",
              "      <td>...</td>\n",
              "      <td>-0.678998</td>\n",
              "      <td>-0.223220</td>\n",
              "      <td>-0.167057</td>\n",
              "      <td>1.811523</td>\n",
              "      <td>-2.783100</td>\n",
              "      <td>2.144538</td>\n",
              "      <td>1.030696</td>\n",
              "      <td>0.488569</td>\n",
              "      <td>-0.316220</td>\n",
              "      <td>-0.024111</td>\n",
              "      <td>2.836332</td>\n",
              "      <td>-0.221322</td>\n",
              "      <td>-1.665299</td>\n",
              "      <td>-4.039378</td>\n",
              "      <td>3.307648</td>\n",
              "      <td>-1.033663</td>\n",
              "      <td>2.196228</td>\n",
              "      <td>1.300160</td>\n",
              "      <td>0.706553</td>\n",
              "      <td>0.293393</td>\n",
              "      <td>-1.965430</td>\n",
              "      <td>0.923175</td>\n",
              "      <td>1.627735</td>\n",
              "      <td>1.087859</td>\n",
              "      <td>0.504541</td>\n",
              "      <td>0.430675</td>\n",
              "      <td>0.872859</td>\n",
              "      <td>2.553531</td>\n",
              "      <td>-1.797532</td>\n",
              "      <td>-0.134177</td>\n",
              "      <td>-2.068498</td>\n",
              "      <td>5.143472</td>\n",
              "      <td>0.364079</td>\n",
              "      <td>0.351346</td>\n",
              "      <td>0.104836</td>\n",
              "      <td>-0.218196</td>\n",
              "      <td>0.175651</td>\n",
              "      <td>-1.284981</td>\n",
              "      <td>-1.062827</td>\n",
              "      <td>3.226540e-15</td>\n",
              "    </tr>\n",
              "    <tr>\n",
              "      <th>MB-0028</th>\n",
              "      <td>9.403215</td>\n",
              "      <td>-31.463949</td>\n",
              "      <td>-55.388704</td>\n",
              "      <td>-13.005234</td>\n",
              "      <td>11.937277</td>\n",
              "      <td>2.109379</td>\n",
              "      <td>22.726782</td>\n",
              "      <td>-1.859580</td>\n",
              "      <td>-4.650795</td>\n",
              "      <td>19.247580</td>\n",
              "      <td>33.419527</td>\n",
              "      <td>-8.320536</td>\n",
              "      <td>-9.179945</td>\n",
              "      <td>18.181183</td>\n",
              "      <td>11.843317</td>\n",
              "      <td>-5.115540</td>\n",
              "      <td>13.371169</td>\n",
              "      <td>10.410103</td>\n",
              "      <td>-15.389495</td>\n",
              "      <td>8.911308</td>\n",
              "      <td>-5.011614</td>\n",
              "      <td>8.180363</td>\n",
              "      <td>-0.863175</td>\n",
              "      <td>-1.473165</td>\n",
              "      <td>-16.251194</td>\n",
              "      <td>15.238271</td>\n",
              "      <td>-4.195064</td>\n",
              "      <td>8.499034</td>\n",
              "      <td>-5.676389</td>\n",
              "      <td>21.660309</td>\n",
              "      <td>-12.684467</td>\n",
              "      <td>-1.505352</td>\n",
              "      <td>-4.765341</td>\n",
              "      <td>-21.259345</td>\n",
              "      <td>-15.513800</td>\n",
              "      <td>-6.844603</td>\n",
              "      <td>-7.498684</td>\n",
              "      <td>16.295027</td>\n",
              "      <td>-5.931322</td>\n",
              "      <td>2.460076</td>\n",
              "      <td>...</td>\n",
              "      <td>-0.979506</td>\n",
              "      <td>0.235224</td>\n",
              "      <td>0.336212</td>\n",
              "      <td>0.218131</td>\n",
              "      <td>-0.519864</td>\n",
              "      <td>-0.571283</td>\n",
              "      <td>-1.254231</td>\n",
              "      <td>0.013132</td>\n",
              "      <td>-0.976211</td>\n",
              "      <td>-0.670816</td>\n",
              "      <td>-0.465293</td>\n",
              "      <td>0.641230</td>\n",
              "      <td>0.835912</td>\n",
              "      <td>-0.880166</td>\n",
              "      <td>0.590890</td>\n",
              "      <td>-0.494788</td>\n",
              "      <td>-0.051104</td>\n",
              "      <td>-1.686358</td>\n",
              "      <td>1.410132</td>\n",
              "      <td>-0.383044</td>\n",
              "      <td>-0.843910</td>\n",
              "      <td>0.601312</td>\n",
              "      <td>0.326957</td>\n",
              "      <td>-0.557102</td>\n",
              "      <td>1.792193</td>\n",
              "      <td>0.474294</td>\n",
              "      <td>0.468909</td>\n",
              "      <td>0.842941</td>\n",
              "      <td>-0.043868</td>\n",
              "      <td>0.079649</td>\n",
              "      <td>0.806323</td>\n",
              "      <td>0.231925</td>\n",
              "      <td>0.982790</td>\n",
              "      <td>-0.340688</td>\n",
              "      <td>3.044589</td>\n",
              "      <td>0.458794</td>\n",
              "      <td>-0.848811</td>\n",
              "      <td>-1.793592</td>\n",
              "      <td>0.049293</td>\n",
              "      <td>3.226540e-15</td>\n",
              "    </tr>\n",
              "    <tr>\n",
              "      <th>MB-0035</th>\n",
              "      <td>31.050602</td>\n",
              "      <td>-19.567061</td>\n",
              "      <td>-34.221343</td>\n",
              "      <td>2.309418</td>\n",
              "      <td>4.511127</td>\n",
              "      <td>-11.072959</td>\n",
              "      <td>24.240261</td>\n",
              "      <td>-10.302817</td>\n",
              "      <td>76.885148</td>\n",
              "      <td>12.591329</td>\n",
              "      <td>-16.085720</td>\n",
              "      <td>-39.863072</td>\n",
              "      <td>0.742399</td>\n",
              "      <td>17.884162</td>\n",
              "      <td>2.928844</td>\n",
              "      <td>6.740508</td>\n",
              "      <td>0.200073</td>\n",
              "      <td>-7.967774</td>\n",
              "      <td>-2.348785</td>\n",
              "      <td>14.305014</td>\n",
              "      <td>-13.524745</td>\n",
              "      <td>25.335851</td>\n",
              "      <td>3.131419</td>\n",
              "      <td>9.922605</td>\n",
              "      <td>0.675627</td>\n",
              "      <td>18.532697</td>\n",
              "      <td>26.519733</td>\n",
              "      <td>-26.763888</td>\n",
              "      <td>9.976703</td>\n",
              "      <td>-0.359545</td>\n",
              "      <td>-7.667654</td>\n",
              "      <td>-0.970275</td>\n",
              "      <td>12.245801</td>\n",
              "      <td>-6.540787</td>\n",
              "      <td>-3.143797</td>\n",
              "      <td>-11.420626</td>\n",
              "      <td>14.281943</td>\n",
              "      <td>-7.947586</td>\n",
              "      <td>-9.617343</td>\n",
              "      <td>4.053053</td>\n",
              "      <td>...</td>\n",
              "      <td>-0.822054</td>\n",
              "      <td>1.337628</td>\n",
              "      <td>-0.200843</td>\n",
              "      <td>-0.692037</td>\n",
              "      <td>0.046741</td>\n",
              "      <td>-0.398636</td>\n",
              "      <td>-0.339650</td>\n",
              "      <td>-1.125550</td>\n",
              "      <td>0.245326</td>\n",
              "      <td>0.573487</td>\n",
              "      <td>-0.521232</td>\n",
              "      <td>-0.833202</td>\n",
              "      <td>0.181666</td>\n",
              "      <td>-0.548524</td>\n",
              "      <td>0.337932</td>\n",
              "      <td>-0.728227</td>\n",
              "      <td>-0.870848</td>\n",
              "      <td>-1.209798</td>\n",
              "      <td>-0.806712</td>\n",
              "      <td>1.452372</td>\n",
              "      <td>-0.290493</td>\n",
              "      <td>-1.323845</td>\n",
              "      <td>1.132147</td>\n",
              "      <td>0.589802</td>\n",
              "      <td>0.892053</td>\n",
              "      <td>0.754816</td>\n",
              "      <td>0.928419</td>\n",
              "      <td>-0.059281</td>\n",
              "      <td>-1.671452</td>\n",
              "      <td>-0.900133</td>\n",
              "      <td>-1.794088</td>\n",
              "      <td>-1.399132</td>\n",
              "      <td>-0.464210</td>\n",
              "      <td>0.690511</td>\n",
              "      <td>-1.286882</td>\n",
              "      <td>-0.305849</td>\n",
              "      <td>-0.950239</td>\n",
              "      <td>-0.626341</td>\n",
              "      <td>-0.292531</td>\n",
              "      <td>3.226540e-15</td>\n",
              "    </tr>\n",
              "    <tr>\n",
              "      <th>...</th>\n",
              "      <td>...</td>\n",
              "      <td>...</td>\n",
              "      <td>...</td>\n",
              "      <td>...</td>\n",
              "      <td>...</td>\n",
              "      <td>...</td>\n",
              "      <td>...</td>\n",
              "      <td>...</td>\n",
              "      <td>...</td>\n",
              "      <td>...</td>\n",
              "      <td>...</td>\n",
              "      <td>...</td>\n",
              "      <td>...</td>\n",
              "      <td>...</td>\n",
              "      <td>...</td>\n",
              "      <td>...</td>\n",
              "      <td>...</td>\n",
              "      <td>...</td>\n",
              "      <td>...</td>\n",
              "      <td>...</td>\n",
              "      <td>...</td>\n",
              "      <td>...</td>\n",
              "      <td>...</td>\n",
              "      <td>...</td>\n",
              "      <td>...</td>\n",
              "      <td>...</td>\n",
              "      <td>...</td>\n",
              "      <td>...</td>\n",
              "      <td>...</td>\n",
              "      <td>...</td>\n",
              "      <td>...</td>\n",
              "      <td>...</td>\n",
              "      <td>...</td>\n",
              "      <td>...</td>\n",
              "      <td>...</td>\n",
              "      <td>...</td>\n",
              "      <td>...</td>\n",
              "      <td>...</td>\n",
              "      <td>...</td>\n",
              "      <td>...</td>\n",
              "      <td>...</td>\n",
              "      <td>...</td>\n",
              "      <td>...</td>\n",
              "      <td>...</td>\n",
              "      <td>...</td>\n",
              "      <td>...</td>\n",
              "      <td>...</td>\n",
              "      <td>...</td>\n",
              "      <td>...</td>\n",
              "      <td>...</td>\n",
              "      <td>...</td>\n",
              "      <td>...</td>\n",
              "      <td>...</td>\n",
              "      <td>...</td>\n",
              "      <td>...</td>\n",
              "      <td>...</td>\n",
              "      <td>...</td>\n",
              "      <td>...</td>\n",
              "      <td>...</td>\n",
              "      <td>...</td>\n",
              "      <td>...</td>\n",
              "      <td>...</td>\n",
              "      <td>...</td>\n",
              "      <td>...</td>\n",
              "      <td>...</td>\n",
              "      <td>...</td>\n",
              "      <td>...</td>\n",
              "      <td>...</td>\n",
              "      <td>...</td>\n",
              "      <td>...</td>\n",
              "      <td>...</td>\n",
              "      <td>...</td>\n",
              "      <td>...</td>\n",
              "      <td>...</td>\n",
              "      <td>...</td>\n",
              "      <td>...</td>\n",
              "      <td>...</td>\n",
              "      <td>...</td>\n",
              "      <td>...</td>\n",
              "      <td>...</td>\n",
              "      <td>...</td>\n",
              "    </tr>\n",
              "    <tr>\n",
              "      <th>MB-7278</th>\n",
              "      <td>21.992153</td>\n",
              "      <td>-26.725342</td>\n",
              "      <td>10.386142</td>\n",
              "      <td>27.545856</td>\n",
              "      <td>-51.721078</td>\n",
              "      <td>-0.349418</td>\n",
              "      <td>-11.573459</td>\n",
              "      <td>-0.207799</td>\n",
              "      <td>37.603720</td>\n",
              "      <td>19.512866</td>\n",
              "      <td>8.224627</td>\n",
              "      <td>-13.990960</td>\n",
              "      <td>-0.623962</td>\n",
              "      <td>11.290069</td>\n",
              "      <td>-12.220848</td>\n",
              "      <td>7.210228</td>\n",
              "      <td>5.010695</td>\n",
              "      <td>-1.157551</td>\n",
              "      <td>-3.114871</td>\n",
              "      <td>6.205722</td>\n",
              "      <td>-1.869636</td>\n",
              "      <td>-2.703658</td>\n",
              "      <td>3.516239</td>\n",
              "      <td>13.377535</td>\n",
              "      <td>-25.696071</td>\n",
              "      <td>-3.756289</td>\n",
              "      <td>6.455491</td>\n",
              "      <td>9.953161</td>\n",
              "      <td>1.597447</td>\n",
              "      <td>-4.843833</td>\n",
              "      <td>7.757865</td>\n",
              "      <td>-20.782249</td>\n",
              "      <td>-6.603405</td>\n",
              "      <td>-0.395071</td>\n",
              "      <td>-4.913255</td>\n",
              "      <td>5.420347</td>\n",
              "      <td>-8.206487</td>\n",
              "      <td>6.071047</td>\n",
              "      <td>0.979032</td>\n",
              "      <td>9.507039</td>\n",
              "      <td>...</td>\n",
              "      <td>0.216588</td>\n",
              "      <td>-0.227025</td>\n",
              "      <td>4.572385</td>\n",
              "      <td>0.101747</td>\n",
              "      <td>-1.955162</td>\n",
              "      <td>-0.878551</td>\n",
              "      <td>0.111896</td>\n",
              "      <td>1.002193</td>\n",
              "      <td>1.371304</td>\n",
              "      <td>-0.176322</td>\n",
              "      <td>0.550487</td>\n",
              "      <td>-0.224297</td>\n",
              "      <td>-2.041291</td>\n",
              "      <td>-0.938661</td>\n",
              "      <td>2.036217</td>\n",
              "      <td>-3.616181</td>\n",
              "      <td>-0.401683</td>\n",
              "      <td>0.991225</td>\n",
              "      <td>-1.842281</td>\n",
              "      <td>0.941811</td>\n",
              "      <td>1.429062</td>\n",
              "      <td>-0.445575</td>\n",
              "      <td>1.756471</td>\n",
              "      <td>-1.039168</td>\n",
              "      <td>-1.214442</td>\n",
              "      <td>1.302522</td>\n",
              "      <td>0.439111</td>\n",
              "      <td>-0.416850</td>\n",
              "      <td>3.809054</td>\n",
              "      <td>0.156006</td>\n",
              "      <td>-0.703086</td>\n",
              "      <td>-0.433948</td>\n",
              "      <td>-0.449164</td>\n",
              "      <td>-0.365740</td>\n",
              "      <td>-1.026124</td>\n",
              "      <td>0.272814</td>\n",
              "      <td>-2.001889</td>\n",
              "      <td>-1.494562</td>\n",
              "      <td>2.247925</td>\n",
              "      <td>3.226540e-15</td>\n",
              "    </tr>\n",
              "    <tr>\n",
              "      <th>MB-7280</th>\n",
              "      <td>3.211706</td>\n",
              "      <td>-28.356290</td>\n",
              "      <td>-12.806278</td>\n",
              "      <td>6.597237</td>\n",
              "      <td>-43.012148</td>\n",
              "      <td>5.788852</td>\n",
              "      <td>-4.323447</td>\n",
              "      <td>20.389344</td>\n",
              "      <td>-3.250312</td>\n",
              "      <td>26.031472</td>\n",
              "      <td>14.198458</td>\n",
              "      <td>-29.099599</td>\n",
              "      <td>-24.375101</td>\n",
              "      <td>3.060458</td>\n",
              "      <td>11.867502</td>\n",
              "      <td>9.294799</td>\n",
              "      <td>-4.432798</td>\n",
              "      <td>0.525880</td>\n",
              "      <td>-14.120993</td>\n",
              "      <td>15.086022</td>\n",
              "      <td>-2.725043</td>\n",
              "      <td>-3.197949</td>\n",
              "      <td>-5.111664</td>\n",
              "      <td>0.764576</td>\n",
              "      <td>-18.379479</td>\n",
              "      <td>14.632445</td>\n",
              "      <td>18.478776</td>\n",
              "      <td>-6.443371</td>\n",
              "      <td>-5.675075</td>\n",
              "      <td>-10.717423</td>\n",
              "      <td>10.406933</td>\n",
              "      <td>-15.237604</td>\n",
              "      <td>-11.748827</td>\n",
              "      <td>15.910717</td>\n",
              "      <td>1.792067</td>\n",
              "      <td>8.056251</td>\n",
              "      <td>0.743712</td>\n",
              "      <td>5.627381</td>\n",
              "      <td>-2.057568</td>\n",
              "      <td>4.583938</td>\n",
              "      <td>...</td>\n",
              "      <td>-1.276598</td>\n",
              "      <td>3.819515</td>\n",
              "      <td>-1.687064</td>\n",
              "      <td>1.945309</td>\n",
              "      <td>-1.055492</td>\n",
              "      <td>-5.500608</td>\n",
              "      <td>-0.728169</td>\n",
              "      <td>3.321492</td>\n",
              "      <td>0.754422</td>\n",
              "      <td>-2.763382</td>\n",
              "      <td>-4.055947</td>\n",
              "      <td>-2.132817</td>\n",
              "      <td>1.917744</td>\n",
              "      <td>-0.306479</td>\n",
              "      <td>-0.153644</td>\n",
              "      <td>-1.278790</td>\n",
              "      <td>-3.841603</td>\n",
              "      <td>-1.801813</td>\n",
              "      <td>0.301035</td>\n",
              "      <td>2.937152</td>\n",
              "      <td>-1.553532</td>\n",
              "      <td>-3.417896</td>\n",
              "      <td>-2.426802</td>\n",
              "      <td>3.246620</td>\n",
              "      <td>1.735490</td>\n",
              "      <td>0.342085</td>\n",
              "      <td>3.070938</td>\n",
              "      <td>0.367675</td>\n",
              "      <td>1.057270</td>\n",
              "      <td>-2.337351</td>\n",
              "      <td>0.245726</td>\n",
              "      <td>0.359017</td>\n",
              "      <td>-0.885373</td>\n",
              "      <td>-0.725986</td>\n",
              "      <td>-0.539990</td>\n",
              "      <td>-1.581620</td>\n",
              "      <td>3.782175</td>\n",
              "      <td>-0.707013</td>\n",
              "      <td>0.214236</td>\n",
              "      <td>3.226540e-15</td>\n",
              "    </tr>\n",
              "    <tr>\n",
              "      <th>MB-7284</th>\n",
              "      <td>4.299894</td>\n",
              "      <td>-27.846447</td>\n",
              "      <td>6.805855</td>\n",
              "      <td>-29.440995</td>\n",
              "      <td>5.932578</td>\n",
              "      <td>-21.908640</td>\n",
              "      <td>-29.969846</td>\n",
              "      <td>10.001357</td>\n",
              "      <td>-20.480234</td>\n",
              "      <td>-3.836214</td>\n",
              "      <td>13.872193</td>\n",
              "      <td>-7.675932</td>\n",
              "      <td>-1.593682</td>\n",
              "      <td>11.227429</td>\n",
              "      <td>-6.372293</td>\n",
              "      <td>-4.913863</td>\n",
              "      <td>-17.764805</td>\n",
              "      <td>17.618947</td>\n",
              "      <td>0.903395</td>\n",
              "      <td>-3.489989</td>\n",
              "      <td>5.884934</td>\n",
              "      <td>9.194577</td>\n",
              "      <td>19.901359</td>\n",
              "      <td>13.257570</td>\n",
              "      <td>18.862325</td>\n",
              "      <td>-0.193603</td>\n",
              "      <td>0.495639</td>\n",
              "      <td>-22.997443</td>\n",
              "      <td>0.747883</td>\n",
              "      <td>-10.631694</td>\n",
              "      <td>-14.910064</td>\n",
              "      <td>10.615247</td>\n",
              "      <td>7.041711</td>\n",
              "      <td>-0.708457</td>\n",
              "      <td>2.602220</td>\n",
              "      <td>1.771115</td>\n",
              "      <td>6.504472</td>\n",
              "      <td>-8.382605</td>\n",
              "      <td>5.058258</td>\n",
              "      <td>7.884575</td>\n",
              "      <td>...</td>\n",
              "      <td>1.179716</td>\n",
              "      <td>-1.141920</td>\n",
              "      <td>2.810275</td>\n",
              "      <td>-2.933625</td>\n",
              "      <td>-0.673305</td>\n",
              "      <td>-1.400711</td>\n",
              "      <td>-1.078385</td>\n",
              "      <td>1.963501</td>\n",
              "      <td>1.046184</td>\n",
              "      <td>1.404443</td>\n",
              "      <td>0.269125</td>\n",
              "      <td>-1.305838</td>\n",
              "      <td>2.735435</td>\n",
              "      <td>1.182926</td>\n",
              "      <td>-1.325419</td>\n",
              "      <td>0.408412</td>\n",
              "      <td>-1.191660</td>\n",
              "      <td>0.187892</td>\n",
              "      <td>0.212149</td>\n",
              "      <td>-2.522307</td>\n",
              "      <td>-0.641821</td>\n",
              "      <td>0.495216</td>\n",
              "      <td>1.927795</td>\n",
              "      <td>0.398005</td>\n",
              "      <td>-3.518351</td>\n",
              "      <td>0.673172</td>\n",
              "      <td>0.955109</td>\n",
              "      <td>1.322812</td>\n",
              "      <td>-1.000078</td>\n",
              "      <td>1.779171</td>\n",
              "      <td>0.998561</td>\n",
              "      <td>0.798157</td>\n",
              "      <td>-1.593960</td>\n",
              "      <td>-2.994821</td>\n",
              "      <td>-0.164693</td>\n",
              "      <td>-0.543912</td>\n",
              "      <td>-0.764666</td>\n",
              "      <td>0.214324</td>\n",
              "      <td>-0.569073</td>\n",
              "      <td>3.226540e-15</td>\n",
              "    </tr>\n",
              "    <tr>\n",
              "      <th>MB-7286</th>\n",
              "      <td>-6.530939</td>\n",
              "      <td>-31.806053</td>\n",
              "      <td>3.004884</td>\n",
              "      <td>-12.275899</td>\n",
              "      <td>-4.924950</td>\n",
              "      <td>4.737140</td>\n",
              "      <td>8.932049</td>\n",
              "      <td>-24.480009</td>\n",
              "      <td>11.251517</td>\n",
              "      <td>8.652508</td>\n",
              "      <td>11.462148</td>\n",
              "      <td>31.069799</td>\n",
              "      <td>10.836858</td>\n",
              "      <td>-20.178103</td>\n",
              "      <td>-4.057462</td>\n",
              "      <td>12.803279</td>\n",
              "      <td>-0.996015</td>\n",
              "      <td>8.422371</td>\n",
              "      <td>7.772120</td>\n",
              "      <td>-10.207946</td>\n",
              "      <td>-20.793827</td>\n",
              "      <td>-2.702391</td>\n",
              "      <td>7.722833</td>\n",
              "      <td>3.502950</td>\n",
              "      <td>5.408319</td>\n",
              "      <td>-4.646116</td>\n",
              "      <td>7.662861</td>\n",
              "      <td>-13.079845</td>\n",
              "      <td>-15.572807</td>\n",
              "      <td>-10.183304</td>\n",
              "      <td>-2.803715</td>\n",
              "      <td>-2.238875</td>\n",
              "      <td>1.268150</td>\n",
              "      <td>0.831990</td>\n",
              "      <td>6.488220</td>\n",
              "      <td>-7.719661</td>\n",
              "      <td>2.909889</td>\n",
              "      <td>11.939694</td>\n",
              "      <td>-6.908893</td>\n",
              "      <td>5.729648</td>\n",
              "      <td>...</td>\n",
              "      <td>1.503844</td>\n",
              "      <td>-1.545723</td>\n",
              "      <td>0.381480</td>\n",
              "      <td>-1.766042</td>\n",
              "      <td>-4.593808</td>\n",
              "      <td>-0.138522</td>\n",
              "      <td>0.616738</td>\n",
              "      <td>2.307019</td>\n",
              "      <td>-0.541080</td>\n",
              "      <td>1.211459</td>\n",
              "      <td>0.455027</td>\n",
              "      <td>-3.645935</td>\n",
              "      <td>-1.489629</td>\n",
              "      <td>0.514743</td>\n",
              "      <td>-0.603579</td>\n",
              "      <td>-1.190651</td>\n",
              "      <td>3.244448</td>\n",
              "      <td>-2.105468</td>\n",
              "      <td>-3.066100</td>\n",
              "      <td>0.824179</td>\n",
              "      <td>-1.713938</td>\n",
              "      <td>-0.272762</td>\n",
              "      <td>-1.270243</td>\n",
              "      <td>-0.767720</td>\n",
              "      <td>1.240233</td>\n",
              "      <td>0.982566</td>\n",
              "      <td>-3.484844</td>\n",
              "      <td>-0.431898</td>\n",
              "      <td>-1.524852</td>\n",
              "      <td>-2.591157</td>\n",
              "      <td>1.164146</td>\n",
              "      <td>-1.298925</td>\n",
              "      <td>4.478292</td>\n",
              "      <td>-2.101670</td>\n",
              "      <td>-0.411713</td>\n",
              "      <td>-0.339861</td>\n",
              "      <td>-0.609651</td>\n",
              "      <td>0.021222</td>\n",
              "      <td>0.422931</td>\n",
              "      <td>3.226540e-15</td>\n",
              "    </tr>\n",
              "    <tr>\n",
              "      <th>MB-7295</th>\n",
              "      <td>-46.306641</td>\n",
              "      <td>-35.060236</td>\n",
              "      <td>11.861189</td>\n",
              "      <td>-2.677880</td>\n",
              "      <td>-17.590168</td>\n",
              "      <td>-6.206518</td>\n",
              "      <td>3.965923</td>\n",
              "      <td>-25.036391</td>\n",
              "      <td>3.455324</td>\n",
              "      <td>7.824520</td>\n",
              "      <td>13.107588</td>\n",
              "      <td>13.219520</td>\n",
              "      <td>0.167520</td>\n",
              "      <td>11.963504</td>\n",
              "      <td>0.154027</td>\n",
              "      <td>-22.722417</td>\n",
              "      <td>-12.287664</td>\n",
              "      <td>-0.994744</td>\n",
              "      <td>-7.491039</td>\n",
              "      <td>-3.411479</td>\n",
              "      <td>1.805049</td>\n",
              "      <td>0.803882</td>\n",
              "      <td>3.626419</td>\n",
              "      <td>2.437284</td>\n",
              "      <td>-5.645299</td>\n",
              "      <td>-5.555996</td>\n",
              "      <td>-4.260596</td>\n",
              "      <td>-5.249683</td>\n",
              "      <td>-0.984951</td>\n",
              "      <td>-0.269852</td>\n",
              "      <td>0.863467</td>\n",
              "      <td>-3.741316</td>\n",
              "      <td>-8.740986</td>\n",
              "      <td>-2.417644</td>\n",
              "      <td>-0.371434</td>\n",
              "      <td>-5.513356</td>\n",
              "      <td>-3.049793</td>\n",
              "      <td>0.970366</td>\n",
              "      <td>-8.019419</td>\n",
              "      <td>1.427824</td>\n",
              "      <td>...</td>\n",
              "      <td>-9.362602</td>\n",
              "      <td>-2.446753</td>\n",
              "      <td>4.289689</td>\n",
              "      <td>-1.342409</td>\n",
              "      <td>1.414279</td>\n",
              "      <td>3.031729</td>\n",
              "      <td>-4.030011</td>\n",
              "      <td>0.115029</td>\n",
              "      <td>-0.700180</td>\n",
              "      <td>-0.093481</td>\n",
              "      <td>1.998552</td>\n",
              "      <td>2.362421</td>\n",
              "      <td>-6.889593</td>\n",
              "      <td>-2.180949</td>\n",
              "      <td>5.490773</td>\n",
              "      <td>-0.134983</td>\n",
              "      <td>-1.708352</td>\n",
              "      <td>4.899588</td>\n",
              "      <td>1.926222</td>\n",
              "      <td>-2.680924</td>\n",
              "      <td>-0.110593</td>\n",
              "      <td>0.440076</td>\n",
              "      <td>3.421981</td>\n",
              "      <td>5.799228</td>\n",
              "      <td>1.494202</td>\n",
              "      <td>3.094872</td>\n",
              "      <td>0.750385</td>\n",
              "      <td>-1.002995</td>\n",
              "      <td>-2.130182</td>\n",
              "      <td>-0.012522</td>\n",
              "      <td>3.023979</td>\n",
              "      <td>-0.604767</td>\n",
              "      <td>-1.372709</td>\n",
              "      <td>-2.926743</td>\n",
              "      <td>-0.538805</td>\n",
              "      <td>0.931227</td>\n",
              "      <td>-0.423086</td>\n",
              "      <td>1.281837</td>\n",
              "      <td>0.336843</td>\n",
              "      <td>3.226540e-15</td>\n",
              "    </tr>\n",
              "  </tbody>\n",
              "</table>\n",
              "<p>1519 rows × 1519 columns</p>\n",
              "</div>"
            ],
            "text/plain": [
              "               pc1        pc2        pc3  ...    pc1517    pc1518        pc1519\n",
              "MB-0002   3.696282 -35.520444 -18.813925  ...  0.067313 -0.530014  3.226540e-15\n",
              "MB-0008 -15.971143 -15.432191 -32.061045  ...  0.073620  0.849012  3.226540e-15\n",
              "MB-0010 -17.454315 -21.192113 -16.013777  ... -1.284981 -1.062827  3.226540e-15\n",
              "MB-0028   9.403215 -31.463949 -55.388704  ... -1.793592  0.049293  3.226540e-15\n",
              "MB-0035  31.050602 -19.567061 -34.221343  ... -0.626341 -0.292531  3.226540e-15\n",
              "...            ...        ...        ...  ...       ...       ...           ...\n",
              "MB-7278  21.992153 -26.725342  10.386142  ... -1.494562  2.247925  3.226540e-15\n",
              "MB-7280   3.211706 -28.356290 -12.806278  ... -0.707013  0.214236  3.226540e-15\n",
              "MB-7284   4.299894 -27.846447   6.805855  ...  0.214324 -0.569073  3.226540e-15\n",
              "MB-7286  -6.530939 -31.806053   3.004884  ...  0.021222  0.422931  3.226540e-15\n",
              "MB-7295 -46.306641 -35.060236  11.861189  ...  1.281837  0.336843  3.226540e-15\n",
              "\n",
              "[1519 rows x 1519 columns]"
            ]
          },
          "metadata": {
            "tags": []
          },
          "execution_count": 26
        }
      ]
    },
    {
      "cell_type": "markdown",
      "metadata": {
        "colab_type": "text",
        "id": "1ERnjKTMe2Nj"
      },
      "source": [
        "**3) Determine # of Components and Variance**"
      ]
    },
    {
      "cell_type": "code",
      "metadata": {
        "colab_type": "code",
        "id": "anB37-Bse2N8",
        "colab": {
          "base_uri": "https://localhost:8080/",
          "height": 295
        },
        "outputId": "f7e20893-31ce-4dae-dfaa-6f0dd00573e8"
      },
      "source": [
        "#Plotting the Cumulative Summation of the Explained Variance\n",
        "plt.figure()\n",
        "plt.plot(np.cumsum(pca.explained_variance_ratio_))\n",
        "plt.xlabel('Number of Components')\n",
        "plt.ylabel('Variance (%)') #for each component\n",
        "plt.title('Gene Expression Explained Variance')\n",
        "plt.show()"
      ],
      "execution_count": 27,
      "outputs": [
        {
          "output_type": "display_data",
          "data": {
            "image/png": "[encoded data removed]",
            "text/plain": [
              "<Figure size 432x288 with 1 Axes>"
            ]
          },
          "metadata": {
            "tags": []
          }
        }
      ]
    },
    {
      "cell_type": "markdown",
      "metadata": {
        "colab_type": "text",
        "id": "_ntR3kSyfA8w"
      },
      "source": [
        "The plot tells us that with ~1200 components we can capture 90% of the data. "
      ]
    },
    {
      "cell_type": "markdown",
      "metadata": {
        "colab_type": "text",
        "id": "TW4-aX_0fkCF"
      },
      "source": [
        "**Alternative method - Pre-selecting % of variance**\n",
        "\n",
        "**Fit PCA to the data**"
      ]
    },
    {
      "cell_type": "code",
      "metadata": {
        "colab_type": "code",
        "id": "08TMwSQzfkCj",
        "colab": {}
      },
      "source": [
        "pca = PCA(0.9)\n",
        "x2 = pca.fit_transform(x)"
      ],
      "execution_count": 0,
      "outputs": []
    },
    {
      "cell_type": "code",
      "metadata": {
        "id": "etk-AvMGcPSx",
        "colab_type": "code",
        "colab": {
          "base_uri": "https://localhost:8080/",
          "height": 431
        },
        "outputId": "09b3e146-b205-4b3d-bb05-c5bb32f8dde9"
      },
      "source": [
        "x2 = pd.DataFrame(data = x2)\n",
        "x2 #this is the 1306 principal components"
      ],
      "execution_count": 29,
      "outputs": [
        {
          "output_type": "execute_result",
          "data": {
            "text/html": [
              "<div>\n",
              "<style scoped>\n",
              "    .dataframe tbody tr th:only-of-type {\n",
              "        vertical-align: middle;\n",
              "    }\n",
              "\n",
              "    .dataframe tbody tr th {\n",
              "        vertical-align: top;\n",
              "    }\n",
              "\n",
              "    .dataframe thead th {\n",
              "        text-align: right;\n",
              "    }\n",
              "</style>\n",
              "<table border=\"1\" class=\"dataframe\">\n",
              "  <thead>\n",
              "    <tr style=\"text-align: right;\">\n",
              "      <th></th>\n",
              "      <th>0</th>\n",
              "      <th>1</th>\n",
              "      <th>2</th>\n",
              "      <th>3</th>\n",
              "      <th>4</th>\n",
              "      <th>5</th>\n",
              "      <th>6</th>\n",
              "      <th>7</th>\n",
              "      <th>8</th>\n",
              "      <th>9</th>\n",
              "      <th>10</th>\n",
              "      <th>11</th>\n",
              "      <th>12</th>\n",
              "      <th>13</th>\n",
              "      <th>14</th>\n",
              "      <th>15</th>\n",
              "      <th>16</th>\n",
              "      <th>17</th>\n",
              "      <th>18</th>\n",
              "      <th>19</th>\n",
              "      <th>20</th>\n",
              "      <th>21</th>\n",
              "      <th>22</th>\n",
              "      <th>23</th>\n",
              "      <th>24</th>\n",
              "      <th>25</th>\n",
              "      <th>26</th>\n",
              "      <th>27</th>\n",
              "      <th>28</th>\n",
              "      <th>29</th>\n",
              "      <th>30</th>\n",
              "      <th>31</th>\n",
              "      <th>32</th>\n",
              "      <th>33</th>\n",
              "      <th>34</th>\n",
              "      <th>35</th>\n",
              "      <th>36</th>\n",
              "      <th>37</th>\n",
              "      <th>38</th>\n",
              "      <th>39</th>\n",
              "      <th>...</th>\n",
              "      <th>1042</th>\n",
              "      <th>1043</th>\n",
              "      <th>1044</th>\n",
              "      <th>1045</th>\n",
              "      <th>1046</th>\n",
              "      <th>1047</th>\n",
              "      <th>1048</th>\n",
              "      <th>1049</th>\n",
              "      <th>1050</th>\n",
              "      <th>1051</th>\n",
              "      <th>1052</th>\n",
              "      <th>1053</th>\n",
              "      <th>1054</th>\n",
              "      <th>1055</th>\n",
              "      <th>1056</th>\n",
              "      <th>1057</th>\n",
              "      <th>1058</th>\n",
              "      <th>1059</th>\n",
              "      <th>1060</th>\n",
              "      <th>1061</th>\n",
              "      <th>1062</th>\n",
              "      <th>1063</th>\n",
              "      <th>1064</th>\n",
              "      <th>1065</th>\n",
              "      <th>1066</th>\n",
              "      <th>1067</th>\n",
              "      <th>1068</th>\n",
              "      <th>1069</th>\n",
              "      <th>1070</th>\n",
              "      <th>1071</th>\n",
              "      <th>1072</th>\n",
              "      <th>1073</th>\n",
              "      <th>1074</th>\n",
              "      <th>1075</th>\n",
              "      <th>1076</th>\n",
              "      <th>1077</th>\n",
              "      <th>1078</th>\n",
              "      <th>1079</th>\n",
              "      <th>1080</th>\n",
              "      <th>1081</th>\n",
              "    </tr>\n",
              "  </thead>\n",
              "  <tbody>\n",
              "    <tr>\n",
              "      <th>0</th>\n",
              "      <td>3.696282</td>\n",
              "      <td>-35.520444</td>\n",
              "      <td>-18.813925</td>\n",
              "      <td>1.425125</td>\n",
              "      <td>-11.277186</td>\n",
              "      <td>-12.822790</td>\n",
              "      <td>4.251192</td>\n",
              "      <td>-13.187488</td>\n",
              "      <td>-17.484249</td>\n",
              "      <td>11.620502</td>\n",
              "      <td>-15.428377</td>\n",
              "      <td>-5.990460</td>\n",
              "      <td>-29.259997</td>\n",
              "      <td>4.524617</td>\n",
              "      <td>3.793844</td>\n",
              "      <td>-7.150132</td>\n",
              "      <td>-12.587557</td>\n",
              "      <td>-37.377278</td>\n",
              "      <td>3.419039</td>\n",
              "      <td>26.264708</td>\n",
              "      <td>6.044982</td>\n",
              "      <td>-2.502963</td>\n",
              "      <td>1.401320</td>\n",
              "      <td>5.127579</td>\n",
              "      <td>-0.554830</td>\n",
              "      <td>5.563588</td>\n",
              "      <td>26.515756</td>\n",
              "      <td>3.069561</td>\n",
              "      <td>1.625547</td>\n",
              "      <td>-8.056935</td>\n",
              "      <td>22.297868</td>\n",
              "      <td>-11.136432</td>\n",
              "      <td>-3.898825</td>\n",
              "      <td>8.608120</td>\n",
              "      <td>15.322118</td>\n",
              "      <td>0.631834</td>\n",
              "      <td>24.200760</td>\n",
              "      <td>-4.407630</td>\n",
              "      <td>7.801561</td>\n",
              "      <td>-1.820877</td>\n",
              "      <td>...</td>\n",
              "      <td>1.519751</td>\n",
              "      <td>0.618311</td>\n",
              "      <td>-0.753857</td>\n",
              "      <td>-0.166051</td>\n",
              "      <td>0.120901</td>\n",
              "      <td>2.060494</td>\n",
              "      <td>-1.910674</td>\n",
              "      <td>-1.223022</td>\n",
              "      <td>2.986752</td>\n",
              "      <td>-1.503869</td>\n",
              "      <td>4.193182</td>\n",
              "      <td>2.097600</td>\n",
              "      <td>-2.074204</td>\n",
              "      <td>-2.180381</td>\n",
              "      <td>1.822595</td>\n",
              "      <td>1.106352</td>\n",
              "      <td>1.498331</td>\n",
              "      <td>0.006544</td>\n",
              "      <td>-0.596466</td>\n",
              "      <td>-1.034001</td>\n",
              "      <td>-2.691159</td>\n",
              "      <td>1.651816</td>\n",
              "      <td>-5.199850</td>\n",
              "      <td>-1.444879</td>\n",
              "      <td>-0.683766</td>\n",
              "      <td>1.363813</td>\n",
              "      <td>1.906447</td>\n",
              "      <td>0.160721</td>\n",
              "      <td>2.154376</td>\n",
              "      <td>-0.252365</td>\n",
              "      <td>-2.153099</td>\n",
              "      <td>-2.041484</td>\n",
              "      <td>-1.523603</td>\n",
              "      <td>1.165630</td>\n",
              "      <td>3.849985</td>\n",
              "      <td>0.830595</td>\n",
              "      <td>2.296211</td>\n",
              "      <td>-0.587605</td>\n",
              "      <td>1.104186</td>\n",
              "      <td>-0.681851</td>\n",
              "    </tr>\n",
              "    <tr>\n",
              "      <th>1</th>\n",
              "      <td>-15.971143</td>\n",
              "      <td>-15.432191</td>\n",
              "      <td>-32.061045</td>\n",
              "      <td>-29.377546</td>\n",
              "      <td>-8.856750</td>\n",
              "      <td>16.612036</td>\n",
              "      <td>4.018346</td>\n",
              "      <td>-9.285566</td>\n",
              "      <td>-24.787766</td>\n",
              "      <td>-14.310316</td>\n",
              "      <td>-7.081939</td>\n",
              "      <td>-6.554999</td>\n",
              "      <td>-17.514326</td>\n",
              "      <td>12.673051</td>\n",
              "      <td>-10.707682</td>\n",
              "      <td>25.228763</td>\n",
              "      <td>0.435692</td>\n",
              "      <td>17.426256</td>\n",
              "      <td>-12.483955</td>\n",
              "      <td>1.874893</td>\n",
              "      <td>3.739397</td>\n",
              "      <td>-5.517330</td>\n",
              "      <td>-3.544084</td>\n",
              "      <td>-2.838839</td>\n",
              "      <td>-7.951403</td>\n",
              "      <td>-3.017424</td>\n",
              "      <td>26.522082</td>\n",
              "      <td>2.473416</td>\n",
              "      <td>1.399002</td>\n",
              "      <td>7.772540</td>\n",
              "      <td>-7.146870</td>\n",
              "      <td>-1.874910</td>\n",
              "      <td>26.551375</td>\n",
              "      <td>0.636265</td>\n",
              "      <td>-10.068891</td>\n",
              "      <td>9.494622</td>\n",
              "      <td>2.448461</td>\n",
              "      <td>-0.074939</td>\n",
              "      <td>2.973074</td>\n",
              "      <td>0.973043</td>\n",
              "      <td>...</td>\n",
              "      <td>1.712946</td>\n",
              "      <td>0.459514</td>\n",
              "      <td>-1.154029</td>\n",
              "      <td>1.362965</td>\n",
              "      <td>-0.292343</td>\n",
              "      <td>1.711341</td>\n",
              "      <td>-3.314600</td>\n",
              "      <td>1.186201</td>\n",
              "      <td>-0.761270</td>\n",
              "      <td>1.967775</td>\n",
              "      <td>-1.711119</td>\n",
              "      <td>-1.152581</td>\n",
              "      <td>-1.799869</td>\n",
              "      <td>5.081633</td>\n",
              "      <td>0.909640</td>\n",
              "      <td>2.573330</td>\n",
              "      <td>-0.717697</td>\n",
              "      <td>2.396999</td>\n",
              "      <td>-1.245896</td>\n",
              "      <td>1.273799</td>\n",
              "      <td>-4.674970</td>\n",
              "      <td>1.203149</td>\n",
              "      <td>-1.520096</td>\n",
              "      <td>2.805260</td>\n",
              "      <td>-2.638399</td>\n",
              "      <td>-2.448532</td>\n",
              "      <td>3.794638</td>\n",
              "      <td>0.097845</td>\n",
              "      <td>-1.164509</td>\n",
              "      <td>-0.471169</td>\n",
              "      <td>1.377405</td>\n",
              "      <td>-0.853287</td>\n",
              "      <td>1.338591</td>\n",
              "      <td>-0.357237</td>\n",
              "      <td>-0.633683</td>\n",
              "      <td>-0.800436</td>\n",
              "      <td>0.810011</td>\n",
              "      <td>1.340168</td>\n",
              "      <td>-0.798210</td>\n",
              "      <td>-1.223037</td>\n",
              "    </tr>\n",
              "    <tr>\n",
              "      <th>2</th>\n",
              "      <td>-17.454315</td>\n",
              "      <td>-21.192113</td>\n",
              "      <td>-16.013777</td>\n",
              "      <td>-7.492020</td>\n",
              "      <td>-17.781708</td>\n",
              "      <td>1.319311</td>\n",
              "      <td>4.626225</td>\n",
              "      <td>-36.678655</td>\n",
              "      <td>11.585110</td>\n",
              "      <td>-7.570376</td>\n",
              "      <td>19.811831</td>\n",
              "      <td>2.021583</td>\n",
              "      <td>4.881035</td>\n",
              "      <td>21.767445</td>\n",
              "      <td>-18.117848</td>\n",
              "      <td>-2.266797</td>\n",
              "      <td>-3.254472</td>\n",
              "      <td>-10.264998</td>\n",
              "      <td>-0.934028</td>\n",
              "      <td>-6.740692</td>\n",
              "      <td>-17.375263</td>\n",
              "      <td>-3.659842</td>\n",
              "      <td>-8.297658</td>\n",
              "      <td>6.420469</td>\n",
              "      <td>-0.993854</td>\n",
              "      <td>-8.072056</td>\n",
              "      <td>12.528807</td>\n",
              "      <td>-1.977940</td>\n",
              "      <td>0.149557</td>\n",
              "      <td>4.161107</td>\n",
              "      <td>-1.021197</td>\n",
              "      <td>10.186300</td>\n",
              "      <td>15.009833</td>\n",
              "      <td>-4.688344</td>\n",
              "      <td>-2.201153</td>\n",
              "      <td>1.599327</td>\n",
              "      <td>4.277693</td>\n",
              "      <td>-6.324380</td>\n",
              "      <td>8.316996</td>\n",
              "      <td>-4.912895</td>\n",
              "      <td>...</td>\n",
              "      <td>-1.223901</td>\n",
              "      <td>-2.106331</td>\n",
              "      <td>-0.760177</td>\n",
              "      <td>4.843342</td>\n",
              "      <td>1.107638</td>\n",
              "      <td>-3.017967</td>\n",
              "      <td>-4.648905</td>\n",
              "      <td>3.048092</td>\n",
              "      <td>3.027965</td>\n",
              "      <td>1.616979</td>\n",
              "      <td>1.536353</td>\n",
              "      <td>0.178778</td>\n",
              "      <td>-6.406843</td>\n",
              "      <td>-3.523737</td>\n",
              "      <td>-7.151367</td>\n",
              "      <td>2.861658</td>\n",
              "      <td>-0.710840</td>\n",
              "      <td>0.887883</td>\n",
              "      <td>2.172923</td>\n",
              "      <td>-3.507742</td>\n",
              "      <td>0.220902</td>\n",
              "      <td>6.292423</td>\n",
              "      <td>3.639012</td>\n",
              "      <td>-1.003250</td>\n",
              "      <td>-6.437326</td>\n",
              "      <td>-5.065095</td>\n",
              "      <td>3.611600</td>\n",
              "      <td>-5.531053</td>\n",
              "      <td>3.632939</td>\n",
              "      <td>2.509875</td>\n",
              "      <td>0.962723</td>\n",
              "      <td>-0.661134</td>\n",
              "      <td>3.081940</td>\n",
              "      <td>0.892814</td>\n",
              "      <td>5.178428</td>\n",
              "      <td>3.467530</td>\n",
              "      <td>-2.803851</td>\n",
              "      <td>0.724807</td>\n",
              "      <td>0.088289</td>\n",
              "      <td>-0.697837</td>\n",
              "    </tr>\n",
              "    <tr>\n",
              "      <th>3</th>\n",
              "      <td>9.403215</td>\n",
              "      <td>-31.463949</td>\n",
              "      <td>-55.388704</td>\n",
              "      <td>-13.005234</td>\n",
              "      <td>11.937277</td>\n",
              "      <td>2.109379</td>\n",
              "      <td>22.726782</td>\n",
              "      <td>-1.859580</td>\n",
              "      <td>-4.650795</td>\n",
              "      <td>19.247580</td>\n",
              "      <td>33.419527</td>\n",
              "      <td>-8.320536</td>\n",
              "      <td>-9.179945</td>\n",
              "      <td>18.181183</td>\n",
              "      <td>11.843317</td>\n",
              "      <td>-5.115540</td>\n",
              "      <td>13.371169</td>\n",
              "      <td>10.410103</td>\n",
              "      <td>-15.389495</td>\n",
              "      <td>8.911308</td>\n",
              "      <td>-5.011614</td>\n",
              "      <td>8.180363</td>\n",
              "      <td>-0.863175</td>\n",
              "      <td>-1.473165</td>\n",
              "      <td>-16.251194</td>\n",
              "      <td>15.238271</td>\n",
              "      <td>-4.195064</td>\n",
              "      <td>8.499034</td>\n",
              "      <td>-5.676389</td>\n",
              "      <td>21.660309</td>\n",
              "      <td>-12.684467</td>\n",
              "      <td>-1.505352</td>\n",
              "      <td>-4.765341</td>\n",
              "      <td>-21.259345</td>\n",
              "      <td>-15.513800</td>\n",
              "      <td>-6.844603</td>\n",
              "      <td>-7.498684</td>\n",
              "      <td>16.295027</td>\n",
              "      <td>-5.931322</td>\n",
              "      <td>2.460076</td>\n",
              "      <td>...</td>\n",
              "      <td>-0.092010</td>\n",
              "      <td>1.288850</td>\n",
              "      <td>-0.771033</td>\n",
              "      <td>-0.124556</td>\n",
              "      <td>2.146973</td>\n",
              "      <td>-0.100798</td>\n",
              "      <td>0.769674</td>\n",
              "      <td>-0.516486</td>\n",
              "      <td>0.006709</td>\n",
              "      <td>-0.375824</td>\n",
              "      <td>-0.409659</td>\n",
              "      <td>2.292354</td>\n",
              "      <td>2.192934</td>\n",
              "      <td>1.570428</td>\n",
              "      <td>-2.199516</td>\n",
              "      <td>1.518836</td>\n",
              "      <td>-0.359485</td>\n",
              "      <td>1.144210</td>\n",
              "      <td>-1.209053</td>\n",
              "      <td>-1.217388</td>\n",
              "      <td>-0.313915</td>\n",
              "      <td>0.477952</td>\n",
              "      <td>1.541564</td>\n",
              "      <td>-3.130664</td>\n",
              "      <td>1.898384</td>\n",
              "      <td>0.805003</td>\n",
              "      <td>0.169660</td>\n",
              "      <td>1.693436</td>\n",
              "      <td>0.512796</td>\n",
              "      <td>-1.919766</td>\n",
              "      <td>2.544370</td>\n",
              "      <td>1.500939</td>\n",
              "      <td>-0.416430</td>\n",
              "      <td>-1.754322</td>\n",
              "      <td>3.016699</td>\n",
              "      <td>1.359719</td>\n",
              "      <td>-1.948353</td>\n",
              "      <td>2.346100</td>\n",
              "      <td>-1.001102</td>\n",
              "      <td>-0.767950</td>\n",
              "    </tr>\n",
              "    <tr>\n",
              "      <th>4</th>\n",
              "      <td>31.050602</td>\n",
              "      <td>-19.567061</td>\n",
              "      <td>-34.221343</td>\n",
              "      <td>2.309418</td>\n",
              "      <td>4.511127</td>\n",
              "      <td>-11.072959</td>\n",
              "      <td>24.240261</td>\n",
              "      <td>-10.302817</td>\n",
              "      <td>76.885148</td>\n",
              "      <td>12.591329</td>\n",
              "      <td>-16.085720</td>\n",
              "      <td>-39.863072</td>\n",
              "      <td>0.742399</td>\n",
              "      <td>17.884162</td>\n",
              "      <td>2.928844</td>\n",
              "      <td>6.740508</td>\n",
              "      <td>0.200073</td>\n",
              "      <td>-7.967774</td>\n",
              "      <td>-2.348785</td>\n",
              "      <td>14.305014</td>\n",
              "      <td>-13.524745</td>\n",
              "      <td>25.335851</td>\n",
              "      <td>3.131419</td>\n",
              "      <td>9.922605</td>\n",
              "      <td>0.675627</td>\n",
              "      <td>18.532697</td>\n",
              "      <td>26.519733</td>\n",
              "      <td>-26.763888</td>\n",
              "      <td>9.976703</td>\n",
              "      <td>-0.359545</td>\n",
              "      <td>-7.667654</td>\n",
              "      <td>-0.970275</td>\n",
              "      <td>12.245801</td>\n",
              "      <td>-6.540787</td>\n",
              "      <td>-3.143797</td>\n",
              "      <td>-11.420626</td>\n",
              "      <td>14.281943</td>\n",
              "      <td>-7.947586</td>\n",
              "      <td>-9.617343</td>\n",
              "      <td>4.053053</td>\n",
              "      <td>...</td>\n",
              "      <td>-3.589104</td>\n",
              "      <td>1.847147</td>\n",
              "      <td>-0.733278</td>\n",
              "      <td>-0.481472</td>\n",
              "      <td>-0.918108</td>\n",
              "      <td>-0.539586</td>\n",
              "      <td>0.339071</td>\n",
              "      <td>-1.332511</td>\n",
              "      <td>1.841690</td>\n",
              "      <td>0.360389</td>\n",
              "      <td>0.112321</td>\n",
              "      <td>-0.591697</td>\n",
              "      <td>1.279476</td>\n",
              "      <td>0.924937</td>\n",
              "      <td>2.928568</td>\n",
              "      <td>1.137887</td>\n",
              "      <td>-2.002914</td>\n",
              "      <td>-1.706336</td>\n",
              "      <td>-0.932219</td>\n",
              "      <td>2.249456</td>\n",
              "      <td>0.885998</td>\n",
              "      <td>0.199827</td>\n",
              "      <td>-0.591424</td>\n",
              "      <td>0.917941</td>\n",
              "      <td>0.437327</td>\n",
              "      <td>-0.754262</td>\n",
              "      <td>-2.838251</td>\n",
              "      <td>-1.344463</td>\n",
              "      <td>1.040502</td>\n",
              "      <td>-0.017288</td>\n",
              "      <td>0.316683</td>\n",
              "      <td>-1.710517</td>\n",
              "      <td>0.157005</td>\n",
              "      <td>0.567768</td>\n",
              "      <td>-2.639316</td>\n",
              "      <td>-1.375761</td>\n",
              "      <td>2.002999</td>\n",
              "      <td>1.045849</td>\n",
              "      <td>1.188230</td>\n",
              "      <td>-0.111120</td>\n",
              "    </tr>\n",
              "    <tr>\n",
              "      <th>...</th>\n",
              "      <td>...</td>\n",
              "      <td>...</td>\n",
              "      <td>...</td>\n",
              "      <td>...</td>\n",
              "      <td>...</td>\n",
              "      <td>...</td>\n",
              "      <td>...</td>\n",
              "      <td>...</td>\n",
              "      <td>...</td>\n",
              "      <td>...</td>\n",
              "      <td>...</td>\n",
              "      <td>...</td>\n",
              "      <td>...</td>\n",
              "      <td>...</td>\n",
              "      <td>...</td>\n",
              "      <td>...</td>\n",
              "      <td>...</td>\n",
              "      <td>...</td>\n",
              "      <td>...</td>\n",
              "      <td>...</td>\n",
              "      <td>...</td>\n",
              "      <td>...</td>\n",
              "      <td>...</td>\n",
              "      <td>...</td>\n",
              "      <td>...</td>\n",
              "      <td>...</td>\n",
              "      <td>...</td>\n",
              "      <td>...</td>\n",
              "      <td>...</td>\n",
              "      <td>...</td>\n",
              "      <td>...</td>\n",
              "      <td>...</td>\n",
              "      <td>...</td>\n",
              "      <td>...</td>\n",
              "      <td>...</td>\n",
              "      <td>...</td>\n",
              "      <td>...</td>\n",
              "      <td>...</td>\n",
              "      <td>...</td>\n",
              "      <td>...</td>\n",
              "      <td>...</td>\n",
              "      <td>...</td>\n",
              "      <td>...</td>\n",
              "      <td>...</td>\n",
              "      <td>...</td>\n",
              "      <td>...</td>\n",
              "      <td>...</td>\n",
              "      <td>...</td>\n",
              "      <td>...</td>\n",
              "      <td>...</td>\n",
              "      <td>...</td>\n",
              "      <td>...</td>\n",
              "      <td>...</td>\n",
              "      <td>...</td>\n",
              "      <td>...</td>\n",
              "      <td>...</td>\n",
              "      <td>...</td>\n",
              "      <td>...</td>\n",
              "      <td>...</td>\n",
              "      <td>...</td>\n",
              "      <td>...</td>\n",
              "      <td>...</td>\n",
              "      <td>...</td>\n",
              "      <td>...</td>\n",
              "      <td>...</td>\n",
              "      <td>...</td>\n",
              "      <td>...</td>\n",
              "      <td>...</td>\n",
              "      <td>...</td>\n",
              "      <td>...</td>\n",
              "      <td>...</td>\n",
              "      <td>...</td>\n",
              "      <td>...</td>\n",
              "      <td>...</td>\n",
              "      <td>...</td>\n",
              "      <td>...</td>\n",
              "      <td>...</td>\n",
              "      <td>...</td>\n",
              "      <td>...</td>\n",
              "      <td>...</td>\n",
              "      <td>...</td>\n",
              "    </tr>\n",
              "    <tr>\n",
              "      <th>1514</th>\n",
              "      <td>21.992153</td>\n",
              "      <td>-26.725342</td>\n",
              "      <td>10.386142</td>\n",
              "      <td>27.545856</td>\n",
              "      <td>-51.721078</td>\n",
              "      <td>-0.349418</td>\n",
              "      <td>-11.573459</td>\n",
              "      <td>-0.207799</td>\n",
              "      <td>37.603720</td>\n",
              "      <td>19.512866</td>\n",
              "      <td>8.224627</td>\n",
              "      <td>-13.990960</td>\n",
              "      <td>-0.623962</td>\n",
              "      <td>11.290069</td>\n",
              "      <td>-12.220848</td>\n",
              "      <td>7.210228</td>\n",
              "      <td>5.010695</td>\n",
              "      <td>-1.157551</td>\n",
              "      <td>-3.114871</td>\n",
              "      <td>6.205722</td>\n",
              "      <td>-1.869636</td>\n",
              "      <td>-2.703658</td>\n",
              "      <td>3.516239</td>\n",
              "      <td>13.377535</td>\n",
              "      <td>-25.696071</td>\n",
              "      <td>-3.756289</td>\n",
              "      <td>6.455491</td>\n",
              "      <td>9.953161</td>\n",
              "      <td>1.597447</td>\n",
              "      <td>-4.843833</td>\n",
              "      <td>7.757865</td>\n",
              "      <td>-20.782249</td>\n",
              "      <td>-6.603405</td>\n",
              "      <td>-0.395071</td>\n",
              "      <td>-4.913255</td>\n",
              "      <td>5.420347</td>\n",
              "      <td>-8.206487</td>\n",
              "      <td>6.071047</td>\n",
              "      <td>0.979032</td>\n",
              "      <td>9.507039</td>\n",
              "      <td>...</td>\n",
              "      <td>-1.373002</td>\n",
              "      <td>-4.014565</td>\n",
              "      <td>-2.804485</td>\n",
              "      <td>3.859046</td>\n",
              "      <td>2.086981</td>\n",
              "      <td>-2.389005</td>\n",
              "      <td>0.922199</td>\n",
              "      <td>-3.330639</td>\n",
              "      <td>1.790376</td>\n",
              "      <td>-3.220674</td>\n",
              "      <td>1.417241</td>\n",
              "      <td>-4.486452</td>\n",
              "      <td>0.832927</td>\n",
              "      <td>0.075750</td>\n",
              "      <td>2.020357</td>\n",
              "      <td>2.116715</td>\n",
              "      <td>3.065262</td>\n",
              "      <td>1.769906</td>\n",
              "      <td>-3.160950</td>\n",
              "      <td>3.306006</td>\n",
              "      <td>0.654400</td>\n",
              "      <td>-1.459693</td>\n",
              "      <td>-0.899242</td>\n",
              "      <td>-1.032222</td>\n",
              "      <td>-0.895284</td>\n",
              "      <td>2.839240</td>\n",
              "      <td>3.801794</td>\n",
              "      <td>-2.363556</td>\n",
              "      <td>-1.577217</td>\n",
              "      <td>2.151952</td>\n",
              "      <td>3.657515</td>\n",
              "      <td>-0.572620</td>\n",
              "      <td>-3.662835</td>\n",
              "      <td>-1.471572</td>\n",
              "      <td>0.955529</td>\n",
              "      <td>1.506000</td>\n",
              "      <td>1.406254</td>\n",
              "      <td>1.812851</td>\n",
              "      <td>-1.285655</td>\n",
              "      <td>-1.460465</td>\n",
              "    </tr>\n",
              "    <tr>\n",
              "      <th>1515</th>\n",
              "      <td>3.211706</td>\n",
              "      <td>-28.356290</td>\n",
              "      <td>-12.806278</td>\n",
              "      <td>6.597237</td>\n",
              "      <td>-43.012148</td>\n",
              "      <td>5.788852</td>\n",
              "      <td>-4.323447</td>\n",
              "      <td>20.389344</td>\n",
              "      <td>-3.250312</td>\n",
              "      <td>26.031472</td>\n",
              "      <td>14.198458</td>\n",
              "      <td>-29.099599</td>\n",
              "      <td>-24.375101</td>\n",
              "      <td>3.060458</td>\n",
              "      <td>11.867502</td>\n",
              "      <td>9.294799</td>\n",
              "      <td>-4.432798</td>\n",
              "      <td>0.525880</td>\n",
              "      <td>-14.120993</td>\n",
              "      <td>15.086022</td>\n",
              "      <td>-2.725043</td>\n",
              "      <td>-3.197949</td>\n",
              "      <td>-5.111664</td>\n",
              "      <td>0.764576</td>\n",
              "      <td>-18.379479</td>\n",
              "      <td>14.632445</td>\n",
              "      <td>18.478776</td>\n",
              "      <td>-6.443371</td>\n",
              "      <td>-5.675075</td>\n",
              "      <td>-10.717423</td>\n",
              "      <td>10.406933</td>\n",
              "      <td>-15.237604</td>\n",
              "      <td>-11.748827</td>\n",
              "      <td>15.910717</td>\n",
              "      <td>1.792067</td>\n",
              "      <td>8.056251</td>\n",
              "      <td>0.743712</td>\n",
              "      <td>5.627381</td>\n",
              "      <td>-2.057568</td>\n",
              "      <td>4.583938</td>\n",
              "      <td>...</td>\n",
              "      <td>-1.736091</td>\n",
              "      <td>2.542729</td>\n",
              "      <td>-6.543942</td>\n",
              "      <td>1.057042</td>\n",
              "      <td>-5.577497</td>\n",
              "      <td>3.470719</td>\n",
              "      <td>-0.719830</td>\n",
              "      <td>0.583278</td>\n",
              "      <td>2.413555</td>\n",
              "      <td>-3.612696</td>\n",
              "      <td>0.724630</td>\n",
              "      <td>4.878484</td>\n",
              "      <td>2.691493</td>\n",
              "      <td>1.877362</td>\n",
              "      <td>-1.223104</td>\n",
              "      <td>2.046222</td>\n",
              "      <td>-3.871376</td>\n",
              "      <td>2.976861</td>\n",
              "      <td>2.660876</td>\n",
              "      <td>-2.908008</td>\n",
              "      <td>-2.949071</td>\n",
              "      <td>0.059558</td>\n",
              "      <td>2.616552</td>\n",
              "      <td>0.209456</td>\n",
              "      <td>2.296903</td>\n",
              "      <td>-2.500208</td>\n",
              "      <td>-2.477103</td>\n",
              "      <td>3.166189</td>\n",
              "      <td>-1.159688</td>\n",
              "      <td>-1.004797</td>\n",
              "      <td>-1.158866</td>\n",
              "      <td>-1.572541</td>\n",
              "      <td>2.035633</td>\n",
              "      <td>2.851733</td>\n",
              "      <td>-4.225066</td>\n",
              "      <td>-1.492275</td>\n",
              "      <td>0.311586</td>\n",
              "      <td>1.682759</td>\n",
              "      <td>-1.113541</td>\n",
              "      <td>-0.170012</td>\n",
              "    </tr>\n",
              "    <tr>\n",
              "      <th>1516</th>\n",
              "      <td>4.299894</td>\n",
              "      <td>-27.846447</td>\n",
              "      <td>6.805855</td>\n",
              "      <td>-29.440995</td>\n",
              "      <td>5.932578</td>\n",
              "      <td>-21.908640</td>\n",
              "      <td>-29.969846</td>\n",
              "      <td>10.001357</td>\n",
              "      <td>-20.480234</td>\n",
              "      <td>-3.836214</td>\n",
              "      <td>13.872193</td>\n",
              "      <td>-7.675932</td>\n",
              "      <td>-1.593682</td>\n",
              "      <td>11.227429</td>\n",
              "      <td>-6.372293</td>\n",
              "      <td>-4.913863</td>\n",
              "      <td>-17.764805</td>\n",
              "      <td>17.618947</td>\n",
              "      <td>0.903395</td>\n",
              "      <td>-3.489989</td>\n",
              "      <td>5.884934</td>\n",
              "      <td>9.194577</td>\n",
              "      <td>19.901359</td>\n",
              "      <td>13.257570</td>\n",
              "      <td>18.862325</td>\n",
              "      <td>-0.193603</td>\n",
              "      <td>0.495639</td>\n",
              "      <td>-22.997443</td>\n",
              "      <td>0.747883</td>\n",
              "      <td>-10.631694</td>\n",
              "      <td>-14.910064</td>\n",
              "      <td>10.615247</td>\n",
              "      <td>7.041711</td>\n",
              "      <td>-0.708457</td>\n",
              "      <td>2.602220</td>\n",
              "      <td>1.771115</td>\n",
              "      <td>6.504472</td>\n",
              "      <td>-8.382605</td>\n",
              "      <td>5.058258</td>\n",
              "      <td>7.884575</td>\n",
              "      <td>...</td>\n",
              "      <td>-0.802906</td>\n",
              "      <td>-0.615119</td>\n",
              "      <td>-4.462750</td>\n",
              "      <td>-3.139214</td>\n",
              "      <td>0.694892</td>\n",
              "      <td>-0.646544</td>\n",
              "      <td>0.543965</td>\n",
              "      <td>-0.220255</td>\n",
              "      <td>-1.677309</td>\n",
              "      <td>-4.664063</td>\n",
              "      <td>-1.232945</td>\n",
              "      <td>-1.258065</td>\n",
              "      <td>0.289945</td>\n",
              "      <td>-0.029627</td>\n",
              "      <td>5.142257</td>\n",
              "      <td>-1.529468</td>\n",
              "      <td>3.009125</td>\n",
              "      <td>-1.331849</td>\n",
              "      <td>4.195429</td>\n",
              "      <td>0.581628</td>\n",
              "      <td>-4.069890</td>\n",
              "      <td>1.974886</td>\n",
              "      <td>3.780277</td>\n",
              "      <td>2.403537</td>\n",
              "      <td>-4.846140</td>\n",
              "      <td>6.838473</td>\n",
              "      <td>-4.268048</td>\n",
              "      <td>1.375673</td>\n",
              "      <td>2.346398</td>\n",
              "      <td>1.167981</td>\n",
              "      <td>-5.534545</td>\n",
              "      <td>-6.694011</td>\n",
              "      <td>2.542724</td>\n",
              "      <td>0.434773</td>\n",
              "      <td>1.005210</td>\n",
              "      <td>0.227287</td>\n",
              "      <td>4.890830</td>\n",
              "      <td>4.004635</td>\n",
              "      <td>3.952112</td>\n",
              "      <td>1.351404</td>\n",
              "    </tr>\n",
              "    <tr>\n",
              "      <th>1517</th>\n",
              "      <td>-6.530939</td>\n",
              "      <td>-31.806053</td>\n",
              "      <td>3.004884</td>\n",
              "      <td>-12.275899</td>\n",
              "      <td>-4.924950</td>\n",
              "      <td>4.737140</td>\n",
              "      <td>8.932049</td>\n",
              "      <td>-24.480009</td>\n",
              "      <td>11.251517</td>\n",
              "      <td>8.652508</td>\n",
              "      <td>11.462148</td>\n",
              "      <td>31.069799</td>\n",
              "      <td>10.836858</td>\n",
              "      <td>-20.178103</td>\n",
              "      <td>-4.057462</td>\n",
              "      <td>12.803279</td>\n",
              "      <td>-0.996015</td>\n",
              "      <td>8.422371</td>\n",
              "      <td>7.772120</td>\n",
              "      <td>-10.207946</td>\n",
              "      <td>-20.793827</td>\n",
              "      <td>-2.702391</td>\n",
              "      <td>7.722833</td>\n",
              "      <td>3.502950</td>\n",
              "      <td>5.408319</td>\n",
              "      <td>-4.646116</td>\n",
              "      <td>7.662861</td>\n",
              "      <td>-13.079845</td>\n",
              "      <td>-15.572807</td>\n",
              "      <td>-10.183304</td>\n",
              "      <td>-2.803715</td>\n",
              "      <td>-2.238875</td>\n",
              "      <td>1.268150</td>\n",
              "      <td>0.831990</td>\n",
              "      <td>6.488220</td>\n",
              "      <td>-7.719661</td>\n",
              "      <td>2.909889</td>\n",
              "      <td>11.939694</td>\n",
              "      <td>-6.908893</td>\n",
              "      <td>5.729648</td>\n",
              "      <td>...</td>\n",
              "      <td>-0.868359</td>\n",
              "      <td>2.080502</td>\n",
              "      <td>-0.655135</td>\n",
              "      <td>0.186313</td>\n",
              "      <td>-2.901901</td>\n",
              "      <td>5.863892</td>\n",
              "      <td>-3.809313</td>\n",
              "      <td>-4.582282</td>\n",
              "      <td>-2.425147</td>\n",
              "      <td>0.391883</td>\n",
              "      <td>1.350383</td>\n",
              "      <td>-0.909314</td>\n",
              "      <td>3.330545</td>\n",
              "      <td>5.563901</td>\n",
              "      <td>-3.341595</td>\n",
              "      <td>-1.098228</td>\n",
              "      <td>6.408847</td>\n",
              "      <td>4.290693</td>\n",
              "      <td>-4.939100</td>\n",
              "      <td>2.478339</td>\n",
              "      <td>0.545338</td>\n",
              "      <td>-0.601208</td>\n",
              "      <td>1.711929</td>\n",
              "      <td>-6.629265</td>\n",
              "      <td>-4.108650</td>\n",
              "      <td>-3.902229</td>\n",
              "      <td>-2.726075</td>\n",
              "      <td>0.239756</td>\n",
              "      <td>-0.313276</td>\n",
              "      <td>-2.069495</td>\n",
              "      <td>0.683964</td>\n",
              "      <td>1.229987</td>\n",
              "      <td>0.178008</td>\n",
              "      <td>-1.301467</td>\n",
              "      <td>-1.804626</td>\n",
              "      <td>7.436036</td>\n",
              "      <td>-5.194236</td>\n",
              "      <td>3.481211</td>\n",
              "      <td>1.066395</td>\n",
              "      <td>2.926022</td>\n",
              "    </tr>\n",
              "    <tr>\n",
              "      <th>1518</th>\n",
              "      <td>-46.306641</td>\n",
              "      <td>-35.060236</td>\n",
              "      <td>11.861189</td>\n",
              "      <td>-2.677880</td>\n",
              "      <td>-17.590168</td>\n",
              "      <td>-6.206518</td>\n",
              "      <td>3.965923</td>\n",
              "      <td>-25.036391</td>\n",
              "      <td>3.455324</td>\n",
              "      <td>7.824520</td>\n",
              "      <td>13.107588</td>\n",
              "      <td>13.219520</td>\n",
              "      <td>0.167520</td>\n",
              "      <td>11.963504</td>\n",
              "      <td>0.154027</td>\n",
              "      <td>-22.722417</td>\n",
              "      <td>-12.287664</td>\n",
              "      <td>-0.994744</td>\n",
              "      <td>-7.491039</td>\n",
              "      <td>-3.411479</td>\n",
              "      <td>1.805049</td>\n",
              "      <td>0.803882</td>\n",
              "      <td>3.626419</td>\n",
              "      <td>2.437284</td>\n",
              "      <td>-5.645299</td>\n",
              "      <td>-5.555996</td>\n",
              "      <td>-4.260596</td>\n",
              "      <td>-5.249683</td>\n",
              "      <td>-0.984951</td>\n",
              "      <td>-0.269852</td>\n",
              "      <td>0.863467</td>\n",
              "      <td>-3.741316</td>\n",
              "      <td>-8.740986</td>\n",
              "      <td>-2.417644</td>\n",
              "      <td>-0.371434</td>\n",
              "      <td>-5.513356</td>\n",
              "      <td>-3.049793</td>\n",
              "      <td>0.970366</td>\n",
              "      <td>-8.019419</td>\n",
              "      <td>1.427824</td>\n",
              "      <td>...</td>\n",
              "      <td>0.624091</td>\n",
              "      <td>-4.532720</td>\n",
              "      <td>1.942832</td>\n",
              "      <td>0.429809</td>\n",
              "      <td>-6.374233</td>\n",
              "      <td>-4.283627</td>\n",
              "      <td>-1.714472</td>\n",
              "      <td>-5.746897</td>\n",
              "      <td>2.777995</td>\n",
              "      <td>1.336527</td>\n",
              "      <td>1.151571</td>\n",
              "      <td>2.064710</td>\n",
              "      <td>0.866293</td>\n",
              "      <td>-1.777623</td>\n",
              "      <td>4.307442</td>\n",
              "      <td>-3.512684</td>\n",
              "      <td>-2.055981</td>\n",
              "      <td>-1.831641</td>\n",
              "      <td>-6.419211</td>\n",
              "      <td>-1.059178</td>\n",
              "      <td>-0.828829</td>\n",
              "      <td>3.188480</td>\n",
              "      <td>-3.665194</td>\n",
              "      <td>-0.331267</td>\n",
              "      <td>1.476040</td>\n",
              "      <td>0.641885</td>\n",
              "      <td>0.995210</td>\n",
              "      <td>-4.586090</td>\n",
              "      <td>0.314750</td>\n",
              "      <td>-3.719686</td>\n",
              "      <td>1.016090</td>\n",
              "      <td>0.719031</td>\n",
              "      <td>4.234639</td>\n",
              "      <td>1.581662</td>\n",
              "      <td>0.632617</td>\n",
              "      <td>-5.386083</td>\n",
              "      <td>-3.040911</td>\n",
              "      <td>-4.273120</td>\n",
              "      <td>-3.300487</td>\n",
              "      <td>-1.503549</td>\n",
              "    </tr>\n",
              "  </tbody>\n",
              "</table>\n",
              "<p>1519 rows × 1082 columns</p>\n",
              "</div>"
            ],
            "text/plain": [
              "           0          1          2     ...      1079      1080      1081\n",
              "0      3.696282 -35.520444 -18.813925  ... -0.587605  1.104186 -0.681851\n",
              "1    -15.971143 -15.432191 -32.061045  ...  1.340168 -0.798210 -1.223037\n",
              "2    -17.454315 -21.192113 -16.013777  ...  0.724807  0.088289 -0.697837\n",
              "3      9.403215 -31.463949 -55.388704  ...  2.346100 -1.001102 -0.767950\n",
              "4     31.050602 -19.567061 -34.221343  ...  1.045849  1.188230 -0.111120\n",
              "...         ...        ...        ...  ...       ...       ...       ...\n",
              "1514  21.992153 -26.725342  10.386142  ...  1.812851 -1.285655 -1.460465\n",
              "1515   3.211706 -28.356290 -12.806278  ...  1.682759 -1.113541 -0.170012\n",
              "1516   4.299894 -27.846447   6.805855  ...  4.004635  3.952112  1.351404\n",
              "1517  -6.530939 -31.806053   3.004884  ...  3.481211  1.066395  2.926022\n",
              "1518 -46.306641 -35.060236  11.861189  ... -4.273120 -3.300487 -1.503549\n",
              "\n",
              "[1519 rows x 1082 columns]"
            ]
          },
          "metadata": {
            "tags": []
          },
          "execution_count": 29
        }
      ]
    },
    {
      "cell_type": "markdown",
      "metadata": {
        "colab_type": "text",
        "id": "fjoKMBrkfkC6"
      },
      "source": [
        "**Determine the exact number of n_components needed to capture 0.9 variance**"
      ]
    },
    {
      "cell_type": "code",
      "metadata": {
        "colab_type": "code",
        "id": "O263KB9PfkDA",
        "colab": {
          "base_uri": "https://localhost:8080/",
          "height": 35
        },
        "outputId": "45a884cf-7790-4be0-c84f-9a60eebff78c"
      },
      "source": [
        "pca.n_components_"
      ],
      "execution_count": 30,
      "outputs": [
        {
          "output_type": "execute_result",
          "data": {
            "text/plain": [
              "1082"
            ]
          },
          "metadata": {
            "tags": []
          },
          "execution_count": 30
        }
      ]
    },
    {
      "cell_type": "markdown",
      "metadata": {
        "colab_type": "text",
        "id": "N_phdwqSfkDR"
      },
      "source": [
        "This function indicates that 1082 is the number of principal components needed to capture 90% of the variation which is what I had estimated from the above plot."
      ]
    },
    {
      "cell_type": "markdown",
      "metadata": {
        "id": "u-8HMNYOfb-T",
        "colab_type": "text"
      },
      "source": [
        "**Scree Plot**\n",
        "\n",
        "View which principal components contribute most to the variance "
      ]
    },
    {
      "cell_type": "code",
      "metadata": {
        "id": "5Naiy12_fmgd",
        "colab_type": "code",
        "colab": {
          "base_uri": "https://localhost:8080/",
          "height": 295
        },
        "outputId": "af5a862a-f78e-469e-eafc-b9f013b6ab8d"
      },
      "source": [
        "# remove PC from \n",
        "per_var = np.round(pca.explained_variance_ratio_* 100, decimals=1)\n",
        "per_var = per_var[:10] #top 10 PC - this number is chosen just so that we can more easily view the plot\n",
        "labels = col_names[:10]\n",
        "\n",
        "plt.bar(x=range(1, len(per_var)+1), height = per_var, tick_label = labels)\n",
        "plt.ylabel('Percentage of Explained Variance')\n",
        "plt.xlabel('Prinicpal Component')\n",
        "plt.title('Scree Plot')\n",
        "plt.show()"
      ],
      "execution_count": 31,
      "outputs": [
        {
          "output_type": "display_data",
          "data": {
            "image/png": "[encoded data removed]",
            "text/plain": [
              "<Figure size 432x288 with 1 Axes>"
            ]
          },
          "metadata": {
            "tags": []
          }
        }
      ]
    },
    {
      "cell_type": "markdown",
      "metadata": {
        "id": "jRoImRth9d7x",
        "colab_type": "text"
      },
      "source": [
        "**Table with % Variance for the 1082 PCs making up 90% of the variance**"
      ]
    },
    {
      "cell_type": "code",
      "metadata": {
        "id": "_CSeS-DT9lqH",
        "colab_type": "code",
        "colab": {
          "base_uri": "https://localhost:8080/",
          "height": 266
        },
        "outputId": "ff506e45-6417-4b8a-f5ea-b58fe124ba1c"
      },
      "source": [
        "per_var_all = np.round(pca.explained_variance_ratio_* 100, decimals=1)\n",
        "per_var_all.shape # this shows the % variance explained for each component\n",
        "\n",
        "# convert to dataframe\n",
        "per_var_all = pd.DataFrame(per_var_all)\n",
        "\n",
        "# add prinicipal component labels\n",
        "per_var_all.index = col_names[:1082]\n",
        "\n",
        "# rename column 0\n",
        "cols = {'% Variance'}\n",
        "per_var_all.columns = cols\n",
        "\n",
        "# create a rolling calculation of the variance \n",
        "per_var_all['CumulativeVariance'] = per_var_all['% Variance'].cumsum()\n",
        "print(per_var_all)\n",
        "\n",
        "# save to csv \n",
        "per_var_all.to_csv('/content/drive/My Drive/Projects/Breast_Cancer_Classification/Processed_Data/component_variance_chart_90_1082.txt')"
      ],
      "execution_count": 32,
      "outputs": [
        {
          "output_type": "stream",
          "text": [
            "        % Variance  CumulativeVariance\n",
            "pc1            5.1                 5.1\n",
            "pc2            4.3                 9.4\n",
            "pc3            3.2                12.6\n",
            "pc4            2.2                14.8\n",
            "pc5            2.1                16.9\n",
            "...            ...                 ...\n",
            "pc1078         0.0                75.1\n",
            "pc1079         0.0                75.1\n",
            "pc1080         0.0                75.1\n",
            "pc1081         0.0                75.1\n",
            "pc1082         0.0                75.1\n",
            "\n",
            "[1082 rows x 2 columns]\n"
          ],
          "name": "stdout"
        }
      ]
    },
    {
      "cell_type": "markdown",
      "metadata": {
        "id": "kbKCKk7EklZW",
        "colab_type": "text"
      },
      "source": [
        "**Draw PCA Plot**\n",
        "\n",
        "With the two primary principal components\n",
        "\n",
        "References: \n",
        "\n",
        "https://www.datacamp.com/community/tutorials/principal-component-analysis-in-python\n",
        "\n",
        "https://towardsdatascience.com/pca-using-python-scikit-learn-e653f8989e60"
      ]
    },
    {
      "cell_type": "code",
      "metadata": {
        "id": "Ju-lFlNjkqrl",
        "colab_type": "code",
        "colab": {
          "base_uri": "https://localhost:8080/",
          "height": 295
        },
        "outputId": "eafc866f-4aa0-4ee4-95f0-9f4feabe8935"
      },
      "source": [
        "# Can use the function below with .sample to select a subset of PC components, making it more readible\n",
        "principalDf_samp = principalDf.sample(n = 500) # will need to change the dataframe principalDf below to prinicpalDf_samp if I use this function\n",
        "\n",
        "#plt.scatter(principalDf.pc1, principalDf.pc2)\n",
        "plt.title('Principal Components')\n",
        "plt.xlabel('PC1 - {0}%'.format(per_var[0]))\n",
        "plt.ylabel('PC2 - {0}%'.format(per_var[1]))\n",
        "\n",
        "# Replace Labels\n",
        "clinical_gene = clinical_gene.set_index(clinical_gene.patient_id)\n",
        "clinical_gene['vital_status'].replace(0, 'Lived',inplace=True)\n",
        "clinical_gene['vital_status'].replace(1, 'Died',inplace=True)\n",
        "\n",
        "# Create labels for the targets to be used to color the graphs\n",
        "targets = ['Lived', 'Died']\n",
        "colors = ['b', 'r']\n",
        "\n",
        "for target, color in zip(targets, colors):\n",
        "    indicesToKeep = clinical_gene['vital_status'] == target\n",
        "    plt.scatter(principalDf.loc[indicesToKeep, 'pc1'],\n",
        "                principalDf.loc[indicesToKeep, 'pc2'], c = color)\n",
        "\n",
        "# The labeled numbers are the indiviudal patients samples\n",
        "for sample in principalDf.index:\n",
        "  plt.annotate(sample, (principalDf.pc1.loc[sample], principalDf.pc2.loc[sample])) # my impression is that sample just indicates each row\n",
        "\n",
        "# Subset\n",
        "#sample_50 = principalDf.sample(n = 50)\n",
        "\n",
        "# This plot is interesting -- it looks like it's creating random samples, but still impossing it on the main graph because we are indeicating pc1 and pc2 still which all samples would be under\n",
        "#for sample in sample_50.index:\n",
        "#  plt.annotate(sample, (sample_50.pc1.loc[sample], sample_50.pc2.loc[sample]))\n",
        "#print(sample_50)\n",
        "\n",
        "#print(principalDf.sample) -- I believe sample is returning just all of the row labels -- hard to read though which is why I was trying to subset\n",
        "#print(principalDf.sample(n = 50))"
      ],
      "execution_count": 33,
      "outputs": [
        {
          "output_type": "display_data",
          "data": {
            "image/png": "[encoded data removed]",
            "text/plain": [
              "<Figure size 432x288 with 1 Axes>"
            ]
          },
          "metadata": {
            "tags": []
          }
        }
      ]
    },
    {
      "cell_type": "markdown",
      "metadata": {
        "id": "yj1slhOvq7R2",
        "colab_type": "text"
      },
      "source": [
        "**Determine Relevant Genes**\n",
        "\n",
        "Get the name of the top 10 genes that contribute most to pc1. The following code looks at the components of each pca - which is also called the loading scores. Sorting by the absolute value, allows us to identify which genes, in either the negative or positive direction, had the most infleunce on each prinicipal component.\n",
        "\n",
        "\n",
        "\n",
        "References: \n",
        "\n",
        "https://stackoverflow.com/questions/47370795/pca-on-sklearn-how-to-interpret-pca-components\n",
        "\n",
        "https://www.youtube.com/watch?v=FgakZw6K1QQ"
      ]
    },
    {
      "cell_type": "code",
      "metadata": {
        "id": "5L2d7XvVqimM",
        "colab_type": "code",
        "colab": {
          "base_uri": "https://localhost:8080/",
          "height": 212
        },
        "outputId": "e7db9e83-a431-4b69-ec55-e486e58353bf"
      },
      "source": [
        "## first, get the loading scores\n",
        "loading_scores = pd.Series(pca.components_[0], index=features)\n",
        "\n",
        "## now sort the loading scores based on their magnitude\n",
        "sorted_loading_scores = loading_scores.abs().sort_values(ascending=False)\n",
        " \n",
        "# get the names of the top 10 genes\n",
        "top_10_genes = sorted_loading_scores[0:10].index.values\n",
        " \n",
        "## print the gene names and their scores (and +/- sign)\n",
        "print(loading_scores[top_10_genes])"
      ],
      "execution_count": 34,
      "outputs": [
        {
          "output_type": "stream",
          "text": [
            "AK025793    0.022785\n",
            "CMTM1      -0.021840\n",
            "CASZ1       0.021708\n",
            "SRGN       -0.021705\n",
            "GLIPR1     -0.021552\n",
            "NCK1       -0.021500\n",
            "TAOK2       0.021433\n",
            "CD58       -0.021379\n",
            "STX7       -0.021231\n",
            "GLRX3      -0.021081\n",
            "dtype: float64\n"
          ],
          "name": "stdout"
        }
      ]
    },
    {
      "cell_type": "markdown",
      "metadata": {
        "id": "EG7w6zxOYM20",
        "colab_type": "text"
      },
      "source": [
        "**Loading Scores Test**\n",
        "\n",
        "We can also validate the above loading scores function by looking at the values obtained when just using pca.fit. First, we perform just the fit function on the original x which is the scaled/standardized data. Then we can view the compoenent/loading scores which allow us to examine which genes had the most influence for each component. It is the absolute value "
      ]
    },
    {
      "cell_type": "code",
      "metadata": {
        "id": "o3ciVW2jYMaK",
        "colab_type": "code",
        "colab": {
          "base_uri": "https://localhost:8080/",
          "height": 444
        },
        "outputId": "ef2c419f-9222-4057-f0ff-ca60118b5565"
      },
      "source": [
        "# Test\n",
        "principalComponents = pca.fit(x)\n",
        "df_test = pd.DataFrame(pca.components_, columns=list(x.columns))  \n",
        "print(df_test.SEPT15)\n",
        "print(df_test.GLRX3)"
      ],
      "execution_count": 35,
      "outputs": [
        {
          "output_type": "stream",
          "text": [
            "0      -0.019761\n",
            "1      -0.012790\n",
            "2       0.000301\n",
            "3       0.005203\n",
            "4      -0.004901\n",
            "          ...   \n",
            "1077   -0.000969\n",
            "1078    0.000425\n",
            "1079   -0.002195\n",
            "1080   -0.000375\n",
            "1081    0.002282\n",
            "Name: SEPT15, Length: 1082, dtype: float64\n",
            "0      -0.021081\n",
            "1      -0.005365\n",
            "2      -0.009699\n",
            "3      -0.012049\n",
            "4      -0.001050\n",
            "          ...   \n",
            "1077   -0.001930\n",
            "1078   -0.003465\n",
            "1079   -0.000387\n",
            "1080   -0.001533\n",
            "1081    0.000518\n",
            "Name: GLRX3, Length: 1082, dtype: float64\n"
          ],
          "name": "stdout"
        }
      ]
    },
    {
      "cell_type": "code",
      "metadata": {
        "id": "EE1xQmGOpOAf",
        "colab_type": "code",
        "colab": {
          "base_uri": "https://localhost:8080/",
          "height": 35
        },
        "outputId": "47d14f1c-13f0-4451-fdae-eb23646e88bb"
      },
      "source": [
        "pca.components_.shape # when we look at the shape, there are 1306 rows (components) and 24368 columns for the gene features "
      ],
      "execution_count": 36,
      "outputs": [
        {
          "output_type": "execute_result",
          "data": {
            "text/plain": [
              "(1082, 24360)"
            ]
          },
          "metadata": {
            "tags": []
          },
          "execution_count": 36
        }
      ]
    },
    {
      "cell_type": "markdown",
      "metadata": {
        "id": "dD1ZTkuETUzr",
        "colab_type": "text"
      },
      "source": [
        "**Select the Top 1082 Prinicipal Components that Explain 90 % of the Variance**"
      ]
    },
    {
      "cell_type": "code",
      "metadata": {
        "id": "9PG856HFThUH",
        "colab_type": "code",
        "colab": {}
      },
      "source": [
        "principalDf_1082 = principalDf.iloc[:,0:1082]"
      ],
      "execution_count": 0,
      "outputs": []
    },
    {
      "cell_type": "markdown",
      "metadata": {
        "id": "vKzlNG-xu4EN",
        "colab_type": "text"
      },
      "source": [
        "# **Training and Testing Split**\n",
        "\n",
        "For all of our classification methods, we will create a training and a testing set."
      ]
    },
    {
      "cell_type": "code",
      "metadata": {
        "id": "YxdYyZxEujxJ",
        "colab_type": "code",
        "colab": {}
      },
      "source": [
        "# Packagess\n",
        "from sklearn import preprocessing\n",
        "from sklearn.linear_model import LogisticRegression\n",
        "from sklearn.model_selection import train_test_split"
      ],
      "execution_count": 0,
      "outputs": []
    },
    {
      "cell_type": "markdown",
      "metadata": {
        "id": "ScK7nf14JEJj",
        "colab_type": "text"
      },
      "source": [
        "Create clinical dataset"
      ]
    },
    {
      "cell_type": "code",
      "metadata": {
        "colab_type": "code",
        "id": "ItAs8Em1Ij_W",
        "colab": {}
      },
      "source": [
        "# Convert patient_ids to row names \n",
        "bc_data = bc_data.set_index(bc_data.patient_id)\n",
        "# remove os_months + vital status from bc_data\n",
        "clinical = bc_data.drop(columns=[\"patient_id\"])"
      ],
      "execution_count": 0,
      "outputs": []
    },
    {
      "cell_type": "markdown",
      "metadata": {
        "id": "qKwf3jzovYN0",
        "colab_type": "text"
      },
      "source": [
        "Format the bc_data into a features and label dataframe"
      ]
    },
    {
      "cell_type": "code",
      "metadata": {
        "id": "H421ISlCvf4d",
        "colab_type": "code",
        "colab": {}
      },
      "source": [
        "# Let x represent the input features; y the labels\n",
        "# Want to remove os_months, os_status, and vital_status from inputs since these are what we are trying to predict. We will include vital status as our label. I already remove os_status by leaving it out of pre-processing above, since I felt this was similar to vital_status\n",
        "\n",
        "# create x to represent the input features; y is the label; \n",
        "x =  clinical.drop(['os_months', 'vital_status'], axis=1)\n",
        "y =  clinical.vital_status"
      ],
      "execution_count": 0,
      "outputs": []
    },
    {
      "cell_type": "markdown",
      "metadata": {
        "id": "Jot8CaTpvfEP",
        "colab_type": "text"
      },
      "source": [
        "Split the data into testing and training sets"
      ]
    },
    {
      "cell_type": "code",
      "metadata": {
        "id": "zuPWs5pQv5d2",
        "colab_type": "code",
        "colab": {}
      },
      "source": [
        "X_train, X_test, y_train, y_test = train_test_split(x, y, test_size=0.25, random_state=25)"
      ],
      "execution_count": 0,
      "outputs": []
    },
    {
      "cell_type": "markdown",
      "metadata": {
        "id": "f7UGiy4twHbY",
        "colab_type": "text"
      },
      "source": [
        "View the shapes of the training and testing sets; the datasets ending in \"train\" are our training sets; similarly, those ending in \"test\" are the testing; x prefix always represents the input features, y the labels"
      ]
    },
    {
      "cell_type": "code",
      "metadata": {
        "id": "ujubXxyzwU14",
        "colab_type": "code",
        "colab": {
          "base_uri": "https://localhost:8080/",
          "height": 88
        },
        "outputId": "cbc230bd-764c-4371-ad43-7054c7cdfd60"
      },
      "source": [
        "# Assess the trainig and testing sets previously created\n",
        "print('Training Features Shape:', X_train.shape)\n",
        "print('Training Labels Shape:', y_train.shape)\n",
        "print('Testing Features Shape:', X_test.shape)\n",
        "print('Testing Labels Shape:', y_test.shape)"
      ],
      "execution_count": 42,
      "outputs": [
        {
          "output_type": "stream",
          "text": [
            "Training Features Shape: (1139, 47)\n",
            "Training Labels Shape: (1139,)\n",
            "Testing Features Shape: (380, 47)\n",
            "Testing Labels Shape: (380,)\n"
          ],
          "name": "stdout"
        }
      ]
    },
    {
      "cell_type": "markdown",
      "metadata": {
        "id": "R2u1NBiEwYeS",
        "colab_type": "text"
      },
      "source": [
        "Examine the class distributions - these are similar splits between the training and testing sets. This is also representative of the number of cases throughout the entire dataset."
      ]
    },
    {
      "cell_type": "code",
      "metadata": {
        "id": "WzAqXr4pwX3M",
        "colab_type": "code",
        "colab": {
          "base_uri": "https://localhost:8080/",
          "height": 88
        },
        "outputId": "f0ebd1f8-154b-40a8-f8c7-fe576a686ff3"
      },
      "source": [
        "# Malignant = 1; Count the number of malignant and determine the percentage (training has 1139 values, testing has 380)\n",
        "print('Died of Diseases in Training Set:', np.count_nonzero(y_train == 1))\n",
        "print('Died of Diseases in Testing Set:', np.count_nonzero(y_test == 1))\n",
        "\n",
        "# Percents\n",
        "print('% Died of Diseases Cases in Training Set:', round(np.count_nonzero(y_train == 1)/1139*100,2))\n",
        "print('% Died of Diseases Cases in Testing Set:', round(np.count_nonzero(y_test == 1)/380*100,2))"
      ],
      "execution_count": 43,
      "outputs": [
        {
          "output_type": "stream",
          "text": [
            "Died of Diseases in Training Set: 373\n",
            "Died of Diseases in Testing Set: 112\n",
            "% Died of Diseases Cases in Training Set: 32.75\n",
            "% Died of Diseases Cases in Testing Set: 29.47\n"
          ],
          "name": "stdout"
        }
      ]
    },
    {
      "cell_type": "markdown",
      "metadata": {
        "id": "OKbcbk0qJpqQ",
        "colab_type": "text"
      },
      "source": [
        "Now add the PCs"
      ]
    },
    {
      "cell_type": "code",
      "metadata": {
        "colab_type": "code",
        "id": "VBIdNvbuIj_f",
        "colab": {}
      },
      "source": [
        "# Merge pcas with the clinical data\n",
        "pca50 = principalDf_1082.iloc[:,0:50] \n",
        "pca10 = principalDf_1082.iloc[:,0:10]\n",
        "\n",
        "# name row index\n",
        "pca50.index.name = 'patient_id'\n",
        "pca10.index.name = 'patient_id'\n",
        "\n",
        "# convert the row index back to the first column\n",
        "pca50.reset_index(level=0, inplace=True)\n",
        "pca10.reset_index(level=0, inplace=True)\n",
        "\n",
        "# Merge pca with clinical data\n",
        "X_train_clinical_pca50 = pd.merge(X_train, pca50, how=\"left\", on=\"patient_id\")\n",
        "X_test_clinical_pca50 = pd.merge(X_test, pca50, how=\"left\", on=\"patient_id\")\n",
        "\n",
        "X_train_clinical_pca10 = pd.merge(X_train, pca10, how=\"left\", on=\"patient_id\")\n",
        "X_test_clinical_pca10 = pd.merge(X_test, pca10, how=\"left\", on=\"patient_id\")\n",
        "\n",
        "# convert column with patients ids back to row index\n",
        "X_train_clinical_pca50 = X_train_clinical_pca50.set_index(X_train_clinical_pca50.patient_id)\n",
        "X_test_clinical_pca50 = X_test_clinical_pca50.set_index(X_test_clinical_pca50.patient_id)\n",
        "\n",
        "X_train_clinical_pca10 = X_train_clinical_pca10.set_index(X_train_clinical_pca10.patient_id)\n",
        "X_test_clinical_pca10 = X_test_clinical_pca10.set_index(X_test_clinical_pca10.patient_id)\n",
        "\n",
        "# remove patient id column\n",
        "X_train_clinical_pca50 = X_train_clinical_pca50.drop(columns=[\"patient_id\"])\n",
        "X_test_clinical_pca50 = X_test_clinical_pca50.drop(columns=[\"patient_id\"])\n",
        "\n",
        "X_train_clinical_pca10 = X_train_clinical_pca10.drop(columns=[\"patient_id\"])\n",
        "X_test_clinical_pca10 = X_test_clinical_pca10.drop(columns=[\"patient_id\"])\n",
        "\n",
        "# PCAs without clinical data \n",
        "# convert the row index back to the first column\n",
        "X_train.reset_index(level=0, inplace=True)\n",
        "X_test.reset_index(level=0, inplace=True) \n",
        "\n",
        "# Create a patient list of ids for those in the training and test sets - we will use this seperate a pca only dataset\n",
        "X_train_patients = X_train.patient_id\n",
        "X_test_patients = X_test.patient_id\n",
        "\n",
        "# Merge with the pca data\n",
        "X_train_pca50 = pd.merge(X_train_patients, pca50, how=\"left\", on=\"patient_id\")\n",
        "X_test_pca50 = pd.merge(X_test_patients, pca50, how=\"left\", on=\"patient_id\")\n",
        "\n",
        "X_train_pca10 = pd.merge(X_train_patients, pca10, how=\"left\", on=\"patient_id\")\n",
        "X_test_pca10 = pd.merge(X_test_patients, pca10, how=\"left\", on=\"patient_id\")\n",
        "\n",
        "# Convert patients IDs back to row index\n",
        "X_train_pca50 = X_train_pca50.set_index(X_train_pca50.patient_id)\n",
        "X_test_pca50 = X_test_pca50.set_index(X_test_pca50.patient_id)\n",
        "\n",
        "X_train_pca10 = X_train_pca10.set_index(X_train_pca10.patient_id)\n",
        "X_test_pca10 = X_test_pca10.set_index(X_test_pca10.patient_id)\n",
        "\n",
        "# remove patient id column\n",
        "X_train_pca50 = X_train_pca50.drop(columns=[\"patient_id\"])\n",
        "X_test_pca50 = X_test_pca50.drop(columns=[\"patient_id\"])\n",
        "\n",
        "X_train_pca10 = X_train_pca10.drop(columns=[\"patient_id\"])\n",
        "X_test_pca10 = X_test_pca10.drop(columns=[\"patient_id\"])\n",
        "\n",
        "X_train = X_train.drop(columns=[\"patient_id\"])\n",
        "X_test = X_test.drop(columns=[\"patient_id\"])"
      ],
      "execution_count": 0,
      "outputs": []
    },
    {
      "cell_type": "markdown",
      "metadata": {
        "id": "RaHX5zydw3H2",
        "colab_type": "text"
      },
      "source": [
        "# **Logistic Regression**\n",
        "\n",
        "These steps were followed from the following tutorial:\n",
        "\n",
        "https://www.datacamp.com/community/tutorials/understanding-logistic-regression-python"
      ]
    },
    {
      "cell_type": "markdown",
      "metadata": {
        "colab_type": "text",
        "id": "vwpu6ScZURRm"
      },
      "source": [
        "**50 Principal Components**\n"
      ]
    },
    {
      "cell_type": "markdown",
      "metadata": {
        "colab_type": "text",
        "id": "iS1LifQFURRt"
      },
      "source": [
        "**Define and Run the Model**"
      ]
    },
    {
      "cell_type": "code",
      "metadata": {
        "colab_type": "code",
        "outputId": "bbe295ad-0b5b-42d0-c4a0-8c7e4afaaeca",
        "id": "n18Pk7f1URRv",
        "colab": {
          "base_uri": "https://localhost:8080/",
          "height": 72
        }
      },
      "source": [
        "# Instantiate the model (using default parameters)\n",
        "logreg = LogisticRegression()\n",
        "\n",
        "# fit the model with data\n",
        "logreg.fit(X_train_pca50, y_train)\n",
        "\n",
        "y_pred = logreg.predict(X_test_pca50)"
      ],
      "execution_count": 45,
      "outputs": [
        {
          "output_type": "stream",
          "text": [
            "/usr/local/lib/python3.6/dist-packages/sklearn/linear_model/logistic.py:432: FutureWarning: Default solver will be changed to 'lbfgs' in 0.22. Specify a solver to silence this warning.\n",
            "  FutureWarning)\n"
          ],
          "name": "stderr"
        }
      ]
    },
    {
      "cell_type": "markdown",
      "metadata": {
        "colab_type": "text",
        "id": "n1z7lC-WURR3"
      },
      "source": [
        "**Model Evaluation Using Confusion Matrix**"
      ]
    },
    {
      "cell_type": "code",
      "metadata": {
        "colab_type": "code",
        "outputId": "b9f7efa8-127a-4e5e-ef7b-709c344fe1a2",
        "id": "dtbEnm69URR7",
        "colab": {
          "base_uri": "https://localhost:8080/",
          "height": 52
        }
      },
      "source": [
        "# import the metrics class\n",
        "from sklearn import metrics\n",
        "\n",
        "cnf_matrix = metrics.confusion_matrix(y_test, y_pred)\n",
        "cnf_matrix"
      ],
      "execution_count": 46,
      "outputs": [
        {
          "output_type": "execute_result",
          "data": {
            "text/plain": [
              "array([[237,  31],\n",
              "       [ 85,  27]])"
            ]
          },
          "metadata": {
            "tags": []
          },
          "execution_count": 46
        }
      ]
    },
    {
      "cell_type": "markdown",
      "metadata": {
        "colab_type": "text",
        "id": "uFQoe_WKURSA"
      },
      "source": [
        "The confusion matrix generated above is in the form of an array. Diagnosal values represent accurate predictions, while non-diagonal elements are inaccurate predictions. The diagonal starting with the top left to the bottom right hand corner are actual predidictions, while the bottom left corner to the top right corner are incorrect predictions. "
      ]
    },
    {
      "cell_type": "code",
      "metadata": {
        "colab_type": "code",
        "outputId": "8ba2c03e-0e9c-4541-b721-2663d5a6929c",
        "id": "iA9ImG6dURSB",
        "colab": {
          "base_uri": "https://localhost:8080/",
          "height": 70
        }
      },
      "source": [
        "print(\"Accuracy:\",round(metrics.accuracy_score(y_test, y_pred),3))\n",
        "print(\"Recall:\",round(metrics.recall_score(y_test, y_pred),3))\n",
        "print(\"Precision:\",round(metrics.precision_score(y_test, y_pred),3))"
      ],
      "execution_count": 47,
      "outputs": [
        {
          "output_type": "stream",
          "text": [
            "Accuracy: 0.695\n",
            "Recall: 0.241\n",
            "Precision: 0.466\n"
          ],
          "name": "stdout"
        }
      ]
    },
    {
      "cell_type": "markdown",
      "metadata": {
        "colab_type": "text",
        "id": "zpQgUH1UURSG"
      },
      "source": [
        "**ROC**\n",
        "\n",
        "The Reciever Operating Characteristic (ROC) curve is a plot of the true positive rate against the false positive rate. It shows the tradeoff between sensitivity and specificity. "
      ]
    },
    {
      "cell_type": "code",
      "metadata": {
        "colab_type": "code",
        "outputId": "d2284988-9f8c-4db2-c4d0-09d6f9969d40",
        "id": "ixaqHxbeURSG",
        "colab": {
          "base_uri": "https://localhost:8080/",
          "height": 283
        }
      },
      "source": [
        "y_pred_proba = logreg.predict_proba(X_test_pca50)[::,1]\n",
        "fpr, tpr, _ = metrics.roc_curve(y_test, y_pred_proba)\n",
        "auc = metrics.roc_auc_score(y_test, y_pred_proba)\n",
        "plt.plot(fpr, tpr, label = \"data 1, auc=\"+str(auc))\n",
        "plt.legend(loc=4)\n",
        "plt.show()\n",
        "print('AUC:', round(auc,3))"
      ],
      "execution_count": 48,
      "outputs": [
        {
          "output_type": "display_data",
          "data": {
            "image/png": "[encoded data removed]",
            "text/plain": [
              "<Figure size 432x288 with 1 Axes>"
            ]
          },
          "metadata": {
            "tags": []
          }
        },
        {
          "output_type": "stream",
          "text": [
            "AUC: 0.671\n"
          ],
          "name": "stdout"
        }
      ]
    },
    {
      "cell_type": "markdown",
      "metadata": {
        "colab_type": "text",
        "id": "dqn3HPuWUyaE"
      },
      "source": [
        "**10 Principal Components**\n"
      ]
    },
    {
      "cell_type": "markdown",
      "metadata": {
        "colab_type": "text",
        "id": "oKMJ0SGAUyaO"
      },
      "source": [
        "**Define and Run the Model**"
      ]
    },
    {
      "cell_type": "code",
      "metadata": {
        "colab_type": "code",
        "id": "rZrAhT47UyaP",
        "colab": {
          "base_uri": "https://localhost:8080/",
          "height": 72
        },
        "outputId": "decfddc4-b929-4ab3-bbfd-f7811b5e68f3"
      },
      "source": [
        "# Instantiate the model (using default parameters)\n",
        "logreg = LogisticRegression()\n",
        "\n",
        "# fit the model with data\n",
        "logreg.fit(X_train_pca10, y_train)\n",
        "\n",
        "y_pred = logreg.predict(X_test_pca10)"
      ],
      "execution_count": 49,
      "outputs": [
        {
          "output_type": "stream",
          "text": [
            "/usr/local/lib/python3.6/dist-packages/sklearn/linear_model/logistic.py:432: FutureWarning: Default solver will be changed to 'lbfgs' in 0.22. Specify a solver to silence this warning.\n",
            "  FutureWarning)\n"
          ],
          "name": "stderr"
        }
      ]
    },
    {
      "cell_type": "markdown",
      "metadata": {
        "colab_type": "text",
        "id": "Wv9xqbq0UyaU"
      },
      "source": [
        "**Model Evaluation Using Confusion Matrix**"
      ]
    },
    {
      "cell_type": "code",
      "metadata": {
        "colab_type": "code",
        "id": "tgBI5aS5UyaV",
        "colab": {
          "base_uri": "https://localhost:8080/",
          "height": 52
        },
        "outputId": "5cd7fbf2-f472-4ef4-8326-b585bf84db2c"
      },
      "source": [
        "# import the metrics class\n",
        "from sklearn import metrics\n",
        "\n",
        "cnf_matrix = metrics.confusion_matrix(y_test, y_pred)\n",
        "cnf_matrix"
      ],
      "execution_count": 50,
      "outputs": [
        {
          "output_type": "execute_result",
          "data": {
            "text/plain": [
              "array([[261,   7],\n",
              "       [108,   4]])"
            ]
          },
          "metadata": {
            "tags": []
          },
          "execution_count": 50
        }
      ]
    },
    {
      "cell_type": "markdown",
      "metadata": {
        "colab_type": "text",
        "id": "caO5G3BBUyaX"
      },
      "source": [
        "The confusion matrix generated above is in the form of an array. Diagnosal values represent accurate predictions, while non-diagonal elements are inaccurate predictions. The diagonal starting with the top left to the bottom right hand corner are actual predidictions, while the bottom left corner to the top right corner are incorrect predictions. "
      ]
    },
    {
      "cell_type": "code",
      "metadata": {
        "colab_type": "code",
        "id": "Esb1P76uUyaY",
        "colab": {
          "base_uri": "https://localhost:8080/",
          "height": 70
        },
        "outputId": "c0c92866-57b8-4757-acf1-0a67c7bfbe1c"
      },
      "source": [
        "print(\"Accuracy:\",round(metrics.accuracy_score(y_test, y_pred),3))\n",
        "print(\"Recall:\",round(metrics.recall_score(y_test, y_pred),3))\n",
        "print(\"Precision:\",round(metrics.precision_score(y_test, y_pred),3))"
      ],
      "execution_count": 51,
      "outputs": [
        {
          "output_type": "stream",
          "text": [
            "Accuracy: 0.697\n",
            "Recall: 0.036\n",
            "Precision: 0.364\n"
          ],
          "name": "stdout"
        }
      ]
    },
    {
      "cell_type": "markdown",
      "metadata": {
        "colab_type": "text",
        "id": "Kv8TqEL1Uyaa"
      },
      "source": [
        "**ROC**\n",
        "\n",
        "The Reciever Operating Characteristic (ROC) curve is a plot of the true positive rate against the false positive rate. It shows the tradeoff between sensitivity and specificity. "
      ]
    },
    {
      "cell_type": "code",
      "metadata": {
        "colab_type": "code",
        "id": "zX1J6K9aUyab",
        "colab": {
          "base_uri": "https://localhost:8080/",
          "height": 283
        },
        "outputId": "1ae1b366-9701-4ce2-8373-f98ea3d0e752"
      },
      "source": [
        "y_pred_proba = logreg.predict_proba(X_test_pca10)[::,1]\n",
        "fpr, tpr, _ = metrics.roc_curve(y_test, y_pred_proba)\n",
        "auc = metrics.roc_auc_score(y_test, y_pred_proba)\n",
        "plt.plot(fpr, tpr, label = \"data 1, auc=\"+str(auc))\n",
        "plt.legend(loc=4)\n",
        "plt.show()\n",
        "print('AUC:', round(auc,3))"
      ],
      "execution_count": 52,
      "outputs": [
        {
          "output_type": "display_data",
          "data": {
            "image/png": "[encoded data removed]",
            "text/plain": [
              "<Figure size 432x288 with 1 Axes>"
            ]
          },
          "metadata": {
            "tags": []
          }
        },
        {
          "output_type": "stream",
          "text": [
            "AUC: 0.624\n"
          ],
          "name": "stdout"
        }
      ]
    },
    {
      "cell_type": "markdown",
      "metadata": {
        "id": "R45RrYnfyDva",
        "colab_type": "text"
      },
      "source": [
        "**Clinical Data**\n"
      ]
    },
    {
      "cell_type": "markdown",
      "metadata": {
        "id": "0BdqKQJ2x0em",
        "colab_type": "text"
      },
      "source": [
        "**Define and Run the Model**"
      ]
    },
    {
      "cell_type": "code",
      "metadata": {
        "id": "3u4X6MFSxzox",
        "colab_type": "code",
        "colab": {
          "base_uri": "https://localhost:8080/",
          "height": 72
        },
        "outputId": "8332a005-2e03-4789-ce69-7d789a76e473"
      },
      "source": [
        "# Instantiate the model (using default parameters)\n",
        "logreg = LogisticRegression()\n",
        "\n",
        "# fit the model with data\n",
        "logreg.fit(X_train, y_train)\n",
        "\n",
        "y_pred = logreg.predict(X_test)"
      ],
      "execution_count": 56,
      "outputs": [
        {
          "output_type": "stream",
          "text": [
            "/usr/local/lib/python3.6/dist-packages/sklearn/linear_model/logistic.py:432: FutureWarning: Default solver will be changed to 'lbfgs' in 0.22. Specify a solver to silence this warning.\n",
            "  FutureWarning)\n"
          ],
          "name": "stderr"
        }
      ]
    },
    {
      "cell_type": "markdown",
      "metadata": {
        "id": "xRDRV7DIyGL5",
        "colab_type": "text"
      },
      "source": [
        "**Model Evaluation Using Confusion Matrix**"
      ]
    },
    {
      "cell_type": "code",
      "metadata": {
        "id": "YyJQT7fHyLeP",
        "colab_type": "code",
        "colab": {
          "base_uri": "https://localhost:8080/",
          "height": 52
        },
        "outputId": "b7de8e8d-1d65-4a49-a781-236e61981846"
      },
      "source": [
        "# import the metrics class\n",
        "from sklearn import metrics\n",
        "\n",
        "cnf_matrix = metrics.confusion_matrix(y_test, y_pred)\n",
        "cnf_matrix"
      ],
      "execution_count": 57,
      "outputs": [
        {
          "output_type": "execute_result",
          "data": {
            "text/plain": [
              "array([[237,  31],\n",
              "       [ 79,  33]])"
            ]
          },
          "metadata": {
            "tags": []
          },
          "execution_count": 57
        }
      ]
    },
    {
      "cell_type": "markdown",
      "metadata": {
        "id": "3CRpg41RySQT",
        "colab_type": "text"
      },
      "source": [
        "The confusion matrix generated above is in the form of an array. Diagnosal values represent accurate predictions, while non-diagonal elements are inaccurate predictions. The diagonal starting with the top left to the bottom right hand corner are actual predidictions, while the bottom left corner to the top right corner are incorrect predictions. "
      ]
    },
    {
      "cell_type": "code",
      "metadata": {
        "id": "O2BvUFrAy04x",
        "colab_type": "code",
        "colab": {
          "base_uri": "https://localhost:8080/",
          "height": 70
        },
        "outputId": "dd61adb3-ae9b-41e5-92f2-a29bce5fa828"
      },
      "source": [
        "print(\"Accuracy:\",round(metrics.accuracy_score(y_test, y_pred),3))\n",
        "print(\"Recall:\",round(metrics.recall_score(y_test, y_pred),3))\n",
        "print(\"Precision:\",round(metrics.precision_score(y_test, y_pred),3))"
      ],
      "execution_count": 58,
      "outputs": [
        {
          "output_type": "stream",
          "text": [
            "Accuracy: 0.711\n",
            "Recall: 0.295\n",
            "Precision: 0.516\n"
          ],
          "name": "stdout"
        }
      ]
    },
    {
      "cell_type": "markdown",
      "metadata": {
        "id": "oAZw8J4mzxsD",
        "colab_type": "text"
      },
      "source": [
        "**ROC**\n",
        "\n",
        "The Reciever Operating Characteristic (ROC) curve is a plot of the true positive rate against the false positive rate. It shows the tradeoff between sensitivity and specificity. "
      ]
    },
    {
      "cell_type": "code",
      "metadata": {
        "id": "y11_Tmpu39qG",
        "colab_type": "code",
        "colab": {
          "base_uri": "https://localhost:8080/",
          "height": 283
        },
        "outputId": "118cfa27-3376-4144-ee70-102f30fe3ff8"
      },
      "source": [
        "y_pred_proba = logreg.predict_proba(X_test)[::,1]\n",
        "fpr, tpr, _ = metrics.roc_curve(y_test, y_pred_proba)\n",
        "auc = metrics.roc_auc_score(y_test, y_pred_proba)\n",
        "plt.plot(fpr, tpr, label = \"data 1, auc=\"+str(auc))\n",
        "plt.legend(loc=4)\n",
        "plt.show()\n",
        "print('AUC:', round(auc,3))"
      ],
      "execution_count": 59,
      "outputs": [
        {
          "output_type": "display_data",
          "data": {
            "image/png": "[encoded data removed]",
            "text/plain": [
              "<Figure size 432x288 with 1 Axes>"
            ]
          },
          "metadata": {
            "tags": []
          }
        },
        {
          "output_type": "stream",
          "text": [
            "AUC: 0.635\n"
          ],
          "name": "stdout"
        }
      ]
    },
    {
      "cell_type": "markdown",
      "metadata": {
        "colab_type": "text",
        "id": "7FHRMqAOBoKq"
      },
      "source": [
        "**Clinical Data + 50 Prinicipal Components**\n"
      ]
    },
    {
      "cell_type": "markdown",
      "metadata": {
        "colab_type": "text",
        "id": "99N0pjO2BoK2"
      },
      "source": [
        "**Define and Run the Model**"
      ]
    },
    {
      "cell_type": "code",
      "metadata": {
        "colab_type": "code",
        "id": "s4Op2CqIBoK4",
        "colab": {
          "base_uri": "https://localhost:8080/",
          "height": 72
        },
        "outputId": "d60cbb26-fe65-45ba-ae93-8e334331e634"
      },
      "source": [
        "# Instantiate the model (using default parameters)\n",
        "logreg = LogisticRegression()\n",
        "\n",
        "# fit the model with data\n",
        "logreg.fit(X_train_clinical_pca50, y_train)\n",
        "\n",
        "y_pred = logreg.predict(X_test_clinical_pca50)"
      ],
      "execution_count": 60,
      "outputs": [
        {
          "output_type": "stream",
          "text": [
            "/usr/local/lib/python3.6/dist-packages/sklearn/linear_model/logistic.py:432: FutureWarning: Default solver will be changed to 'lbfgs' in 0.22. Specify a solver to silence this warning.\n",
            "  FutureWarning)\n"
          ],
          "name": "stderr"
        }
      ]
    },
    {
      "cell_type": "markdown",
      "metadata": {
        "colab_type": "text",
        "id": "7VpYDQoDBoK-"
      },
      "source": [
        "**Model Evaluation Using Confusion Matrix**"
      ]
    },
    {
      "cell_type": "code",
      "metadata": {
        "colab_type": "code",
        "id": "lvRw6d0IBoK_",
        "colab": {
          "base_uri": "https://localhost:8080/",
          "height": 52
        },
        "outputId": "c4c341ac-34b1-4e31-93e0-285e88300ce0"
      },
      "source": [
        "# import the metrics class\n",
        "from sklearn import metrics\n",
        "\n",
        "cnf_matrix = metrics.confusion_matrix(y_test, y_pred)\n",
        "cnf_matrix"
      ],
      "execution_count": 61,
      "outputs": [
        {
          "output_type": "execute_result",
          "data": {
            "text/plain": [
              "array([[236,  32],\n",
              "       [ 73,  39]])"
            ]
          },
          "metadata": {
            "tags": []
          },
          "execution_count": 61
        }
      ]
    },
    {
      "cell_type": "markdown",
      "metadata": {
        "colab_type": "text",
        "id": "FGbkL07YBoLG"
      },
      "source": [
        "The confusion matrix generated above is in the form of an array. Diagnosal values represent accurate predictions, while non-diagonal elements are inaccurate predictions. The diagonal starting with the top left to the bottom right hand corner are actual predidictions, while the bottom left corner to the top right corner are incorrect predictions. "
      ]
    },
    {
      "cell_type": "code",
      "metadata": {
        "colab_type": "code",
        "id": "m75-9of-BoLH",
        "colab": {
          "base_uri": "https://localhost:8080/",
          "height": 70
        },
        "outputId": "ec07a460-e176-41dd-ccd8-09033402c645"
      },
      "source": [
        "print(\"Accuracy:\",round(metrics.accuracy_score(y_test, y_pred),3))\n",
        "print(\"Recall:\",round(metrics.recall_score(y_test, y_pred),3))\n",
        "print(\"Precision:\",round(metrics.precision_score(y_test, y_pred),3))"
      ],
      "execution_count": 62,
      "outputs": [
        {
          "output_type": "stream",
          "text": [
            "Accuracy: 0.724\n",
            "Recall: 0.348\n",
            "Precision: 0.549\n"
          ],
          "name": "stdout"
        }
      ]
    },
    {
      "cell_type": "markdown",
      "metadata": {
        "colab_type": "text",
        "id": "y7qzPCaQBoLM"
      },
      "source": [
        "**ROC**\n",
        "\n",
        "The Reciever Operating Characteristic (ROC) curve is a plot of the true positive rate against the false positive rate. It shows the tradeoff between sensitivity and specificity. "
      ]
    },
    {
      "cell_type": "code",
      "metadata": {
        "colab_type": "code",
        "id": "rljn3PnYBoLN",
        "colab": {
          "base_uri": "https://localhost:8080/",
          "height": 283
        },
        "outputId": "afd745ba-5cbf-4d81-8075-00c01182b765"
      },
      "source": [
        "y_pred_proba = logreg.predict_proba(X_test_clinical_pca50)[::,1]\n",
        "fpr, tpr, _ = metrics.roc_curve(y_test, y_pred_proba)\n",
        "auc = metrics.roc_auc_score(y_test, y_pred_proba)\n",
        "plt.plot(fpr, tpr, label = \"data 1, auc=\"+str(auc))\n",
        "plt.legend(loc=4)\n",
        "plt.show()\n",
        "print('AUC:', round(auc,3))"
      ],
      "execution_count": 63,
      "outputs": [
        {
          "output_type": "display_data",
          "data": {
            "image/png": "[encoded data removed]",
            "text/plain": [
              "<Figure size 432x288 with 1 Axes>"
            ]
          },
          "metadata": {
            "tags": []
          }
        },
        {
          "output_type": "stream",
          "text": [
            "AUC: 0.695\n"
          ],
          "name": "stdout"
        }
      ]
    },
    {
      "cell_type": "markdown",
      "metadata": {
        "colab_type": "text",
        "id": "9nkSOzxvRQXx"
      },
      "source": [
        "**Clinical Data + 10 Prinicipal Components**\n"
      ]
    },
    {
      "cell_type": "markdown",
      "metadata": {
        "colab_type": "text",
        "id": "Yp3stwjLB6CG"
      },
      "source": [
        "**Define and Run the Model**"
      ]
    },
    {
      "cell_type": "code",
      "metadata": {
        "colab_type": "code",
        "id": "R9ZTshzgB6CJ",
        "colab": {
          "base_uri": "https://localhost:8080/",
          "height": 72
        },
        "outputId": "949c78ce-62bf-402b-9811-33524c48fadb"
      },
      "source": [
        "# Instantiate the model (using default parameters)\n",
        "logreg = LogisticRegression()\n",
        "\n",
        "# fit the model with data\n",
        "logreg.fit(X_train_clinical_pca10, y_train)\n",
        "\n",
        "y_pred = logreg.predict(X_test_clinical_pca10)"
      ],
      "execution_count": 64,
      "outputs": [
        {
          "output_type": "stream",
          "text": [
            "/usr/local/lib/python3.6/dist-packages/sklearn/linear_model/logistic.py:432: FutureWarning: Default solver will be changed to 'lbfgs' in 0.22. Specify a solver to silence this warning.\n",
            "  FutureWarning)\n"
          ],
          "name": "stderr"
        }
      ]
    },
    {
      "cell_type": "markdown",
      "metadata": {
        "colab_type": "text",
        "id": "p53M0K2tB6CO"
      },
      "source": [
        "**Model Evaluation Using Confusion Matrix**"
      ]
    },
    {
      "cell_type": "code",
      "metadata": {
        "colab_type": "code",
        "id": "8FZz2WjwB6CP",
        "colab": {
          "base_uri": "https://localhost:8080/",
          "height": 52
        },
        "outputId": "c6ba21d1-cead-434d-d9b5-e1620ea2c6ed"
      },
      "source": [
        "# import the metrics class\n",
        "from sklearn import metrics\n",
        "\n",
        "cnf_matrix = metrics.confusion_matrix(y_test, y_pred)\n",
        "cnf_matrix"
      ],
      "execution_count": 65,
      "outputs": [
        {
          "output_type": "execute_result",
          "data": {
            "text/plain": [
              "array([[232,  36],\n",
              "       [ 76,  36]])"
            ]
          },
          "metadata": {
            "tags": []
          },
          "execution_count": 65
        }
      ]
    },
    {
      "cell_type": "markdown",
      "metadata": {
        "colab_type": "text",
        "id": "pu1cUoCcB6CT"
      },
      "source": [
        "The confusion matrix generated above is in the form of an array. Diagnosal values represent accurate predictions, while non-diagonal elements are inaccurate predictions. The diagonal starting with the top left to the bottom right hand corner are actual predidictions, while the bottom left corner to the top right corner are incorrect predictions. "
      ]
    },
    {
      "cell_type": "code",
      "metadata": {
        "colab_type": "code",
        "id": "0bjPNzPsB6CT",
        "colab": {
          "base_uri": "https://localhost:8080/",
          "height": 70
        },
        "outputId": "e36e77bf-6c14-48f1-a9c0-0acefa0129aa"
      },
      "source": [
        "print(\"Accuracy:\",round(metrics.accuracy_score(y_test, y_pred),3))\n",
        "print(\"Recall:\",round(metrics.recall_score(y_test, y_pred),3))\n",
        "print(\"Precision:\",round(metrics.precision_score(y_test, y_pred),3))"
      ],
      "execution_count": 66,
      "outputs": [
        {
          "output_type": "stream",
          "text": [
            "Accuracy: 0.705\n",
            "Recall: 0.321\n",
            "Precision: 0.5\n"
          ],
          "name": "stdout"
        }
      ]
    },
    {
      "cell_type": "markdown",
      "metadata": {
        "colab_type": "text",
        "id": "TKMyJSqbB6CW"
      },
      "source": [
        "**ROC**\n",
        "\n",
        "The Reciever Operating Characteristic (ROC) curve is a plot of the true positive rate against the false positive rate. It shows the tradeoff between sensitivity and specificity. "
      ]
    },
    {
      "cell_type": "code",
      "metadata": {
        "colab_type": "code",
        "id": "XYLmXsKWB6CX",
        "colab": {
          "base_uri": "https://localhost:8080/",
          "height": 283
        },
        "outputId": "348eccb4-e420-4e3f-9d9e-d89c40fb0dc9"
      },
      "source": [
        "y_pred_proba = logreg.predict_proba(X_test_clinical_pca10)[::,1]\n",
        "fpr, tpr, _ = metrics.roc_curve(y_test, y_pred_proba)\n",
        "auc = metrics.roc_auc_score(y_test, y_pred_proba)\n",
        "plt.plot(fpr, tpr, label = \"data 1, auc=\"+str(auc))\n",
        "plt.legend(loc=4)\n",
        "plt.show()\n",
        "print('AUC:', round(auc,3))"
      ],
      "execution_count": 67,
      "outputs": [
        {
          "output_type": "display_data",
          "data": {
            "image/png": "[encoded data removed]",
            "text/plain": [
              "<Figure size 432x288 with 1 Axes>"
            ]
          },
          "metadata": {
            "tags": []
          }
        },
        {
          "output_type": "stream",
          "text": [
            "AUC: 0.669\n"
          ],
          "name": "stdout"
        }
      ]
    },
    {
      "cell_type": "code",
      "metadata": {
        "colab_type": "code",
        "id": "SoRPmkt6CJ4t",
        "colab": {}
      },
      "source": [
        "print(\"Accuracy:\",round(metrics.accuracy_score(y_test, y_pred),3))\n",
        "print(\"Recall:\",round(metrics.recall_score(y_test, y_pred),3))\n",
        "print(\"Precision:\",round(metrics.precision_score(y_test, y_pred),3))"
      ],
      "execution_count": 0,
      "outputs": []
    },
    {
      "cell_type": "markdown",
      "metadata": {
        "id": "5M5jCMHP8COG",
        "colab_type": "text"
      },
      "source": [
        "# **Random Forest Classification**"
      ]
    },
    {
      "cell_type": "markdown",
      "metadata": {
        "id": "LnW0d9YFcCxE",
        "colab_type": "text"
      },
      "source": [
        "# **Next Steps**\n",
        "\n",
        "\n",
        "\n",
        "1.   We will assess logistic regression, random forests, and neural networks using 62 and 10 prinicpal components\n",
        "2.   We will assess clinical variables using logistic regression, random forests, and neural networks\n",
        "3.   We will assess logistic regression, random forets, and neural networks using prinicpal components and clinical data\n",
        "\n"
      ]
    }
  ]
}