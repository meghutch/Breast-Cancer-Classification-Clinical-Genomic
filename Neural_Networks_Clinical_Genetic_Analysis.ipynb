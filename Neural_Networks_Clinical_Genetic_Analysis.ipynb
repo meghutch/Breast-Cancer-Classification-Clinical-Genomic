{
  "nbformat": 4,
  "nbformat_minor": 0,
  "metadata": {
    "colab": {
      "name": "Neural_Networks_Clinical_Genetic_Analysis",
      "provenance": [],
      "collapsed_sections": [],
      "include_colab_link": true
    },
    "kernelspec": {
      "name": "python3",
      "display_name": "Python 3"
    }
  },
  "cells": [
    {
      "cell_type": "markdown",
      "metadata": {
        "id": "view-in-github",
        "colab_type": "text"
      },
      "source": [
        "<a href=\"https://colab.research.google.com/github/meghutch/Breast-Cancer-Classification-Clinical-Genomic/blob/master/Neural_Networks_Clinical_Genetic_Analysis.ipynb\" target=\"_parent\"><img src=\"https://colab.research.google.com/assets/colab-badge.svg\" alt=\"Open In Colab\"/></a>"
      ]
    },
    {
      "cell_type": "markdown",
      "metadata": {
        "id": "gfhIBpuAWrrO",
        "colab_type": "text"
      },
      "source": [
        "# **Predicting Clinical Outcomes of Breast Cancer Patients**\n",
        "\n",
        "## **Analysis of Clinical Outcomes and Gene Expression**\n",
        "\n",
        "**Author:** Meg Hutch\n",
        "\n",
        "**Date:** December 6, 2019\n",
        "\n",
        "**Objective:** We will examine models using just clinical data and then we will resassess using combined clinical + genomioc data to predict patient surivival greater than 10 years.\n",
        "\n",
        "Unlike the **Neural_Network_Clinical_Outcomes** analysis, this will use the patients in the merged_expression.txt that were processed."
      ]
    },
    {
      "cell_type": "code",
      "metadata": {
        "id": "4Xl-wjp_WmUs",
        "colab_type": "code",
        "colab": {}
      },
      "source": [
        "import pandas as pd\n",
        "import numpy as np\n",
        "import matplotlib\n",
        "import matplotlib.pyplot as plt\n",
        "import matplotlib.colors\n",
        "import seaborn as sns"
      ],
      "execution_count": 0,
      "outputs": []
    },
    {
      "cell_type": "code",
      "metadata": {
        "id": "mamswLh8QkLR",
        "colab_type": "code",
        "outputId": "5aad95f1-deda-4f7b-d6fd-850ac29f34b0",
        "colab": {
          "base_uri": "https://localhost:8080/",
          "height": 34
        }
      },
      "source": [
        "# Connect Colab to google drive\n",
        "from google.colab import drive\n",
        "drive.mount('/content/drive')"
      ],
      "execution_count": 2,
      "outputs": [
        {
          "output_type": "stream",
          "text": [
            "Drive already mounted at /content/drive; to attempt to forcibly remount, call drive.mount(\"/content/drive\", force_remount=True).\n"
          ],
          "name": "stdout"
        }
      ]
    },
    {
      "cell_type": "code",
      "metadata": {
        "id": "Sds0C37hUMd_",
        "colab_type": "code",
        "colab": {}
      },
      "source": [
        "## Import Data\n",
        "# Clinical Data\n",
        "bc_data = pd.read_csv('/content/drive/My Drive/Projects/Breast_Cancer_Classification/Data/data_clinical_patient.csv')\n",
        "# Gene Expression Data \n",
        "gene_data = pd.read_csv('/content/drive/My Drive/Projects/Breast_Cancer_Classification/Data/merged_expression.txt', sep=',')"
      ],
      "execution_count": 0,
      "outputs": []
    },
    {
      "cell_type": "markdown",
      "metadata": {
        "id": "kAKBHKzCa4DH",
        "colab_type": "text"
      },
      "source": [
        "# **Pre-Process Data**\n",
        "\n",
        "**Clinical Data**\n",
        "\n",
        "\n"
      ]
    },
    {
      "cell_type": "markdown",
      "metadata": {
        "id": "P42uFeTBlPX0",
        "colab_type": "text"
      },
      "source": [
        "Rows 0-3 contain definitions of data and data types. We can remove these"
      ]
    },
    {
      "cell_type": "code",
      "metadata": {
        "id": "g_Od_3KdbGQr",
        "colab_type": "code",
        "colab": {}
      },
      "source": [
        "bc_data = bc_data.iloc[4:]"
      ],
      "execution_count": 0,
      "outputs": []
    },
    {
      "cell_type": "markdown",
      "metadata": {
        "id": "prEZQHwscm0B",
        "colab_type": "text"
      },
      "source": [
        "Convert first row to header name"
      ]
    },
    {
      "cell_type": "code",
      "metadata": {
        "id": "ZWaxqLvXbO1T",
        "colab_type": "code",
        "colab": {}
      },
      "source": [
        "# Convert first row to header name\n",
        "bc_data = bc_data.rename(columns=bc_data.iloc[0]).drop(bc_data.index[0])"
      ],
      "execution_count": 0,
      "outputs": []
    },
    {
      "cell_type": "markdown",
      "metadata": {
        "id": "B0yvqaoNcy3I",
        "colab_type": "text"
      },
      "source": [
        "Convert column names to lowercase"
      ]
    },
    {
      "cell_type": "code",
      "metadata": {
        "id": "85VrahjfcP3S",
        "colab_type": "code",
        "colab": {}
      },
      "source": [
        "# Convert column names to lowercase\n",
        "bc_data.columns = map(str.lower, bc_data.columns)"
      ],
      "execution_count": 0,
      "outputs": []
    },
    {
      "cell_type": "markdown",
      "metadata": {
        "colab_type": "text",
        "id": "WiKXth4Kmyck"
      },
      "source": [
        "In the project directions, it says we can treat \"Died of Other Causes\" as living. Thus, change the category title as such."
      ]
    },
    {
      "cell_type": "code",
      "metadata": {
        "colab_type": "code",
        "id": "QwM7BYIJmycq",
        "colab": {}
      },
      "source": [
        "bc_data['vital_status'] = bc_data['vital_status'].replace({'Living': 'Living', 'Died of Disease': 'Died of Disease', 'Died of Other Causes': 'Living'})"
      ],
      "execution_count": 0,
      "outputs": []
    },
    {
      "cell_type": "markdown",
      "metadata": {
        "id": "NZsZdNjY2lBi",
        "colab_type": "text"
      },
      "source": [
        "Remove any incomplete cases"
      ]
    },
    {
      "cell_type": "code",
      "metadata": {
        "id": "cYBjnHVN12dy",
        "colab_type": "code",
        "colab": {}
      },
      "source": [
        "bc_data = bc_data.dropna()"
      ],
      "execution_count": 0,
      "outputs": []
    },
    {
      "cell_type": "markdown",
      "metadata": {
        "id": "wC5WoxDe3csQ",
        "colab_type": "text"
      },
      "source": [
        "I'm not sure if sometimes there are missing values just because something wasn't performed, in the case of surgery perhaps? Either way...I'm just going to remove missing values -- May be good to ask about this though"
      ]
    },
    {
      "cell_type": "markdown",
      "metadata": {
        "colab_type": "text",
        "id": "_NkdoqfjmiUU"
      },
      "source": [
        "**One Hot Encoding**\n",
        "\n",
        "Because some categorical features have multiple categories, we need to use one-hot-encoding to represent these varaibles in the dataset. Just creating numeric levels won't always make sense in the case of features like caludin_subtype which are genomic classifications\n",
        "\n",
        "For features that are binary - we will not need to seperate these into 2 variables - does not make sense!"
      ]
    },
    {
      "cell_type": "code",
      "metadata": {
        "colab_type": "code",
        "id": "LI5MqXipmiUZ",
        "colab": {
          "base_uri": "https://localhost:8080/",
          "height": 283
        },
        "outputId": "777048d9-fa43-41aa-c6fa-71c7f041c0d2"
      },
      "source": [
        "# Determine which variables we want to one-hot-encode\n",
        "print('Cellularity:', bc_data['cellularity'].unique())\n",
        "print('Chemotherapy:',bc_data['chemotherapy'].unique()) # binary\n",
        "print('Er_ihc:',bc_data['er_ihc'].unique()) # binary \n",
        "print('Her2_snp6:',bc_data['her2_snp6'].unique())\n",
        "print('Hormone Therapy:',bc_data['hormone_therapy'].unique()) # binary\n",
        "print('Inferred_menopausal_state:',bc_data['inferred_menopausal_state'].unique()) # binary\n",
        "print('Interclust:',bc_data['intclust'].unique())\n",
        "print('Claudin_Subtype:',bc_data['claudin_subtype'].unique())\n",
        "print('Threegene:',bc_data['threegene'].unique())\n",
        "print('Laterality:',bc_data['laterality'].unique()) # binary\n",
        "print('Radio_Therapy:',bc_data['radio_therapy'].unique()) # bianry\n",
        "print('Histological_Subtype:',bc_data['histological_subtype'].unique())\n",
        "print('Breast_Surgery:',bc_data['breast_surgery'].unique())\n",
        "print('Vital_status:',bc_data['vital_status'].unique())"
      ],
      "execution_count": 9,
      "outputs": [
        {
          "output_type": "stream",
          "text": [
            "Cellularity: ['High' 'Moderate' 'Low']\n",
            "Chemotherapy: ['NO' 'YES']\n",
            "Er_ihc: ['Positve' 'Negative']\n",
            "Her2_snp6: ['NEUTRAL' 'GAIN' 'LOSS' 'UNDEF']\n",
            "Hormone Therapy: ['YES' 'NO']\n",
            "Inferred_menopausal_state: ['Pre' 'Post']\n",
            "Interclust: ['4ER+' '9' '7' '3' '8' '10' '5' '6' '1' '2' '4ER-']\n",
            "Claudin_Subtype: ['LumA' 'LumB' 'Her2' 'Normal' 'Basal' 'claudin-low' 'NC']\n",
            "Threegene: ['ER+/HER2- High Prolif' 'ER+/HER2- Low Prolif' 'ER-/HER2-' 'HER2+']\n",
            "Laterality: ['Right' 'Left']\n",
            "Radio_Therapy: ['YES' 'NO']\n",
            "Histological_Subtype: ['Ductal/NST' 'Mixed' 'Lobular' 'Tubular/ cribriform' 'Mucinous'\n",
            " 'Medullary' 'Other']\n",
            "Breast_Surgery: ['BREAST CONSERVING' 'MASTECTOMY']\n",
            "Vital_status: ['Living' 'Died of Disease']\n"
          ],
          "name": "stdout"
        }
      ]
    },
    {
      "cell_type": "code",
      "metadata": {
        "colab_type": "code",
        "id": "rG6TBfsFmiUi",
        "colab": {}
      },
      "source": [
        "# Convert patient_ids to row names \n",
        "bc_data = bc_data.set_index(bc_data.patient_id)"
      ],
      "execution_count": 0,
      "outputs": []
    },
    {
      "cell_type": "code",
      "metadata": {
        "colab_type": "code",
        "id": "2bjIzr3SmiUn",
        "colab": {}
      },
      "source": [
        "# Create dataframe with the unchanged varaibles - this will contain numeric variables\n",
        "bc_data1 = bc_data[['lymph_nodes_examined_positive', 'npi', 'age_at_diagnosis', 'os_months', 'vital_status', 'chemotherapy', 'er_ihc', 'hormone_therapy', 'inferred_menopausal_state', 'radio_therapy', 'laterality']]\n",
        "\n",
        "## Seperate the dataframes into the variables that we will want to reshape - we can then recombine anything that has more than 2 levels\n",
        "# Cellularity\n",
        "cell_df = bc_data[['cellularity']]\n",
        "cell_df = pd.get_dummies(cell_df,prefix=['cellularity'])\n",
        "\n",
        "# Her2_snp6\n",
        "her2_df = bc_data[['her2_snp6']]\n",
        "her2_df = pd.get_dummies(her2_df,prefix=['her2'])\n",
        "\n",
        "# Interclust\n",
        "intclust_df = bc_data[['intclust']]\n",
        "intclust_df = pd.get_dummies(intclust_df,prefix=['intclust'])\n",
        "\n",
        "# Claduin Subtype\n",
        "cs_df = bc_data[['claudin_subtype']]\n",
        "cs_df = pd.get_dummies(cs_df,prefix=['claudin_subtype'])\n",
        "\n",
        "# Threegene\n",
        "three_df = bc_data[['threegene']]\n",
        "three_df = pd.get_dummies(three_df,prefix=['threegene'])\n",
        "\n",
        "# Histological_Subtype\n",
        "hist_df = bc_data[['histological_subtype']]\n",
        "hist_df = pd.get_dummies(hist_df,prefix=['hist'])\n",
        "\n",
        "# Breast Surgery\n",
        "surg_df = bc_data[['breast_surgery']]\n",
        "surg_df = pd.get_dummies(surg_df,prefix=['breast_surgery'])\n",
        "\n",
        "# We want to convert row index (patient_id) to the first column for all of the above datasets\n",
        "bc_data1.reset_index(level=0, inplace=True)\n",
        "cell_df.reset_index(level=0, inplace=True)\n",
        "her2_df.reset_index(level=0, inplace=True)\n",
        "intclust_df.reset_index(level=0, inplace=True)\n",
        "cs_df.reset_index(level=0, inplace=True)\n",
        "three_df.reset_index(level=0, inplace=True)\n",
        "hist_df.reset_index(level=0, inplace=True)\n",
        "surg_df.reset_index(level=0, inplace=True)\n",
        "\n",
        "# Merge all data \n",
        "bc_data = pd.merge(bc_data1, cell_df, how=\"left\", on=\"patient_id\")\n",
        "bc_data = pd.merge(bc_data, her2_df, how=\"left\", on=\"patient_id\")\n",
        "bc_data = pd.merge(bc_data, intclust_df, how=\"left\", on=\"patient_id\")\n",
        "bc_data = pd.merge(bc_data, cs_df, how=\"left\", on=\"patient_id\")\n",
        "bc_data = pd.merge(bc_data, three_df, how=\"left\", on=\"patient_id\")\n",
        "bc_data = pd.merge(bc_data, hist_df, how=\"left\", on=\"patient_id\")\n",
        "bc_data = pd.merge(bc_data, surg_df, how=\"left\", on=\"patient_id\")"
      ],
      "execution_count": 0,
      "outputs": []
    },
    {
      "cell_type": "markdown",
      "metadata": {
        "colab_type": "text",
        "id": "ukcahmrDmiUw"
      },
      "source": [
        "Create dummy variables for Vital Status - Our Label and the other binary variables"
      ]
    },
    {
      "cell_type": "code",
      "metadata": {
        "colab_type": "code",
        "id": "wjXZeKeGmiUx",
        "colab": {}
      },
      "source": [
        "bc_data['vital_status'] = bc_data.vital_status.map({'Living': 0, 'Died of Disease': 1})\n",
        "bc_data['chemotherapy'] = bc_data.chemotherapy.map({'NO': 0, 'YES': 1})\n",
        "bc_data['er_ihc'] = bc_data.er_ihc.map({'Negative': 0, 'Positve': 1}) # careful with the positive spelling error in the dataset\n",
        "bc_data['hormone_therapy'] = bc_data.hormone_therapy.map({'NO': 0, 'YES': 1})\n",
        "bc_data['inferred_menopausal_state'] = bc_data.inferred_menopausal_state.map({'Pre': 0, 'Post': 1})\n",
        "bc_data['laterality'] = bc_data.laterality.map({'Left': 0, 'Right': 1})\n",
        "bc_data['radio_therapy'] = bc_data.radio_therapy.map({'NO': 0, 'YES': 1})"
      ],
      "execution_count": 0,
      "outputs": []
    },
    {
      "cell_type": "markdown",
      "metadata": {
        "colab_type": "text",
        "id": "yNDj16JSsW56"
      },
      "source": [
        "Covert numeric varaibles as such, right now they are all non-null objects"
      ]
    },
    {
      "cell_type": "code",
      "metadata": {
        "colab_type": "code",
        "id": "m7wveepYsW5_",
        "colab": {}
      },
      "source": [
        "# convert first column to row index\n",
        "bc_data = bc_data.set_index('patient_id')\n",
        "\n",
        "# convert column object type to float for all columns\n",
        "bc_data = bc_data.astype(np.float32)\n",
        "\n",
        "# convert the row index back to the first column\n",
        "bc_data.reset_index(level=0, inplace=True)"
      ],
      "execution_count": 0,
      "outputs": []
    },
    {
      "cell_type": "markdown",
      "metadata": {
        "id": "CvEAYV7AdnUy",
        "colab_type": "text"
      },
      "source": [
        "**Gene Expression Data**"
      ]
    },
    {
      "cell_type": "markdown",
      "metadata": {
        "id": "yN3qdFp3iAXi",
        "colab_type": "text"
      },
      "source": [
        "Rename patient ID column"
      ]
    },
    {
      "cell_type": "code",
      "metadata": {
        "id": "2awWt2puh_3C",
        "colab_type": "code",
        "colab": {}
      },
      "source": [
        "gene_data.rename(columns={'Unnamed: 0':'patient_id'}, inplace=True)"
      ],
      "execution_count": 0,
      "outputs": []
    },
    {
      "cell_type": "markdown",
      "metadata": {
        "id": "Nhv4Xmt4CEjc",
        "colab_type": "text"
      },
      "source": [
        "Remove redundant columns that also appear in the bc_data - EVENT indicates 5 year survival from the processing code"
      ]
    },
    {
      "cell_type": "code",
      "metadata": {
        "id": "OzzDhbSgCGW7",
        "colab_type": "code",
        "colab": {}
      },
      "source": [
        "gene_data = gene_data.drop(columns=[\"EVENT\", \"OS_MONTHS\", \"FIVE_YEAR\"])"
      ],
      "execution_count": 0,
      "outputs": []
    },
    {
      "cell_type": "markdown",
      "metadata": {
        "colab_type": "text",
        "id": "yOA86mVZjw-H"
      },
      "source": [
        "Remove genes if there are missing values.\n",
        "\n",
        "There are so many gene expression variables that I will not exclude patients if they are missing genetic data! Suprisingly, this only removes 6 genes which doesn't seem like it would make a big deal."
      ]
    },
    {
      "cell_type": "code",
      "metadata": {
        "id": "3xHEkcgpAK1Q",
        "colab_type": "code",
        "colab": {}
      },
      "source": [
        "# how many genes (columns) are complete cases?\n",
        "gene_data = gene_data.dropna(axis = 1) #axis = 1, represents dropping columns with any missing values"
      ],
      "execution_count": 0,
      "outputs": []
    },
    {
      "cell_type": "markdown",
      "metadata": {
        "id": "fG0jkv53dzjL",
        "colab_type": "text"
      },
      "source": [
        "**Merge Clinical and Gean Data**"
      ]
    },
    {
      "cell_type": "code",
      "metadata": {
        "id": "vsEkpsAOd7D2",
        "colab_type": "code",
        "colab": {}
      },
      "source": [
        "clinical_gene = pd.merge(bc_data, gene_data, how=\"left\", on=\"patient_id\")"
      ],
      "execution_count": 0,
      "outputs": []
    },
    {
      "cell_type": "markdown",
      "metadata": {
        "colab_type": "text",
        "id": "sACE1PvgnEhf"
      },
      "source": [
        "# **Examine Patient Outcomes**\n",
        "\n",
        "Assess the number of patients maintained in our final datasets and their outcomes"
      ]
    },
    {
      "cell_type": "code",
      "metadata": {
        "colab_type": "code",
        "id": "cy1Bjfi6nEhk",
        "cellView": "both",
        "colab": {
          "base_uri": "https://localhost:8080/",
          "height": 405
        },
        "outputId": "b643009d-9d3a-4bc2-a978-dbb90d4bfc42"
      },
      "source": [
        "plt_out = clinical_gene.vital_status.value_counts().plot(kind=\"bar\")\n",
        "plt_out.tick_params(axis=\"x\", labelsize=11, labelrotation= -360)\n",
        "plt_out.set_title(\"Survival\")\n",
        "\n",
        "# Calculate Percents\n",
        "count_outcomes = clinical_gene.groupby(['vital_status']).size()\n",
        "print(count_outcomes)\n",
        "\n",
        "print('Total Number of Patients:', len(clinical_gene.index))\n",
        "print('Percent Living: {:.2f}'.format(count_outcomes[0]/len(clinical_gene.index)))\n",
        "print('Percent Died of Disease: {:.2f}'.format(count_outcomes[1]/len(clinical_gene.index)))"
      ],
      "execution_count": 18,
      "outputs": [
        {
          "output_type": "stream",
          "text": [
            "vital_status\n",
            "0.0    1034\n",
            "1.0     485\n",
            "dtype: int64\n",
            "Total Number of Patients: 1519\n",
            "Percent Living: 0.68\n",
            "Percent Died of Disease: 0.32\n"
          ],
          "name": "stdout"
        },
        {
          "output_type": "display_data",
          "data": {
            "image/png": "[encoded data removed]",
            "text/plain": [
              "<Figure size 432x288 with 1 Axes>"
            ]
          },
          "metadata": {
            "tags": []
          }
        }
      ]
    },
    {
      "cell_type": "markdown",
      "metadata": {
        "id": "p0LSJM5jlhZR",
        "colab_type": "text"
      },
      "source": [
        "After removing patients with missing clinical values, our dataset reduced to \n",
        "1,519 patients with 49 clinical variables (after one hot encoding) and mRNA expression for 24,368 genes. \n",
        "\n",
        "485 (32% of patients died from breast cancer) vs 1,034 (68%) of patients who surived. \n"
      ]
    },
    {
      "cell_type": "markdown",
      "metadata": {
        "id": "SlYTYc7lwvOZ",
        "colab_type": "text"
      },
      "source": [
        "# **Assess the number of patients who surivived > 10 years**"
      ]
    },
    {
      "cell_type": "code",
      "metadata": {
        "id": "WS5ARnT33T_v",
        "colab_type": "code",
        "colab": {
          "base_uri": "https://localhost:8080/",
          "height": 294
        },
        "outputId": "55350fcb-d8ca-48dc-b1c3-88d6906b2e51"
      },
      "source": [
        "# examine patients who survived > 10 years\n",
        "years10 = clinical_gene[clinical_gene['os_months'] >= 120]\n",
        "os = clinical_gene['os_months']\n",
        "\n",
        "# Define bins\n",
        "bin_edges = [25,50,75,100,125,150,175,200,225,250,275,300,325]\n",
        "\n",
        "plt.hist(os,\n",
        "         bin_edges,\n",
        "         density=False,\n",
        "         histtype='bar',\n",
        "         color='b',\n",
        "         edgecolor='k',\n",
        "         alpha=0.5)\n",
        "\n",
        "plt.xlabel('Months')\n",
        "plt.ylabel('Number Patients')\n",
        "plt.title('Overall Surivival (months)')\n",
        "\n",
        "plt.show()"
      ],
      "execution_count": 19,
      "outputs": [
        {
          "output_type": "display_data",
          "data": {
            "image/png": "[encoded data removed]",
            "text/plain": [
              "<Figure size 432x288 with 1 Axes>"
            ]
          },
          "metadata": {
            "tags": []
          }
        }
      ]
    },
    {
      "cell_type": "code",
      "metadata": {
        "id": "Xc1IuEw35LaE",
        "colab_type": "code",
        "colab": {
          "base_uri": "https://localhost:8080/",
          "height": 141
        },
        "outputId": "043d4453-8a6d-4a89-a933-d3a70f38cdbd"
      },
      "source": [
        "# Calculate Percents\n",
        "count_outcomes = years10.groupby(['vital_status']).size()\n",
        "print(count_outcomes)\n",
        "\n",
        "print('Total Number of Patients:', len(years10.index))\n",
        "print('Percent Living: {:.2f}'.format(count_outcomes[0]/len(years10.index)))\n",
        "print('Percent Died of Disease: {:.2f}'.format(count_outcomes[1]/len(years10.index)))"
      ],
      "execution_count": 20,
      "outputs": [
        {
          "output_type": "stream",
          "text": [
            "vital_status\n",
            "0.0    640\n",
            "1.0     95\n",
            "dtype: int64\n",
            "Total Number of Patients: 735\n",
            "Percent Living: 0.87\n",
            "Percent Died of Disease: 0.13\n"
          ],
          "name": "stdout"
        }
      ]
    },
    {
      "cell_type": "markdown",
      "metadata": {
        "id": "0RmpBUCk79Jp",
        "colab_type": "text"
      },
      "source": [
        "The number of patients who are still living vs those deceased at 10 years is very unbalanced (87 vs 13% respectively). For this reason, I will continue to see whether my model can just predict survival status for patients."
      ]
    },
    {
      "cell_type": "markdown",
      "metadata": {
        "id": "IHSb_8vfnj7F",
        "colab_type": "text"
      },
      "source": [
        "# **Prinicipal Component Analysis**\n",
        "\n",
        "**What is a Pricipal Component?**\n",
        "\n",
        "Principal componenets have both direction and magnitude. The direction represents across which principal axes the data is mostly spread out or has the most variance and the magnitude signifies the amount of varaince that Principal Component captures of the data when projected onto that axis. \n",
        "\n",
        "The principal components are a straight line, and the first principal component holds the most variance in the data. Each subsequent prinicpal component is orthogonal to the last and has a lesser variance .\n",
        "\n",
        "Correlated features contribute to the same principal component, thereby reducing the original data features into uncorrelated prinicpal components; each representing a different set of correlated features with differents of variation.\n",
        "\n",
        "Each principal component represents a percentage of total variation captured from the data\n",
        "\n",
        "**Reference:** https://www.datacamp.com/community/tutorials/principal-component-analysis-in-python"
      ]
    },
    {
      "cell_type": "markdown",
      "metadata": {
        "id": "bLtwUznBJliI",
        "colab_type": "text"
      },
      "source": [
        "Create a dataset just containing gene expression"
      ]
    },
    {
      "cell_type": "code",
      "metadata": {
        "id": "d39noFie28iQ",
        "colab_type": "code",
        "colab": {}
      },
      "source": [
        "# remove patient_id number from the list\n",
        "gene_list = gene_data.drop(columns=[\"patient_id\"])\n",
        "gene_list = list(gene_list.columns.values) \n",
        "genes = clinical_gene[gene_list]"
      ],
      "execution_count": 0,
      "outputs": []
    },
    {
      "cell_type": "markdown",
      "metadata": {
        "id": "3DgHGkhOxDS9",
        "colab_type": "text"
      },
      "source": [
        "Create a dataset containing the target variables"
      ]
    },
    {
      "cell_type": "code",
      "metadata": {
        "id": "YUEg7yf_VhS-",
        "colab_type": "code",
        "colab": {}
      },
      "source": [
        "# Subset only the Event - whether they lived (0) or died (1) from Breast Cancer\n",
        "labels = clinical_gene.vital_status\n",
        "\n",
        "# Create a list of row names\n",
        "patients = list(clinical_gene.patient_id)\n",
        "\n",
        "# Convert labels into a dataframe and indicate patients as the index\n",
        "labels = pd.DataFrame(labels)\n",
        "labels.index = patients"
      ],
      "execution_count": 0,
      "outputs": []
    },
    {
      "cell_type": "markdown",
      "metadata": {
        "colab_type": "text",
        "id": "LcNAgmZwbTgQ"
      },
      "source": [
        "**1) Standardize the Data**\n",
        "\n",
        "Must scale features in your data before applying PCA. **StandardScaler** helps standardize features onto unit scale (mean = 0 and standard deviation = 1). Thus, each value in the dataset will have the sample mean value subtracted and then divided by the standard deviation of the whole dataset. \n"
      ]
    },
    {
      "cell_type": "code",
      "metadata": {
        "colab_type": "code",
        "id": "C8fw-kJMbTgV",
        "colab": {}
      },
      "source": [
        "from sklearn.preprocessing import StandardScaler \n",
        "from sklearn.decomposition import PCA\n",
        "\n",
        "# Stanardize/Scale the data\n",
        "x = StandardScaler().fit_transform(genes)"
      ],
      "execution_count": 0,
      "outputs": []
    },
    {
      "cell_type": "markdown",
      "metadata": {
        "colab_type": "text",
        "id": "RYSjIvVMbTgo"
      },
      "source": [
        "**Let's check whether the normalized data has a mean of zero and a standard deviation of 1**"
      ]
    },
    {
      "cell_type": "code",
      "metadata": {
        "colab_type": "code",
        "id": "xDv7qQHUbTgs",
        "colab": {
          "base_uri": "https://localhost:8080/",
          "height": 34
        },
        "outputId": "d432a0a7-e0d9-45b4-9c3b-253916f1c0b6"
      },
      "source": [
        "np.mean(x), np.std(x)"
      ],
      "execution_count": 24,
      "outputs": [
        {
          "output_type": "execute_result",
          "data": {
            "text/plain": [
              "(-2.1440133607904242e-17, 0.9999999999999993)"
            ]
          },
          "metadata": {
            "tags": []
          },
          "execution_count": 24
        }
      ]
    },
    {
      "cell_type": "markdown",
      "metadata": {
        "id": "W2pzskJS_UEz",
        "colab_type": "text"
      },
      "source": [
        "**Convert the normalized features into tabular format**"
      ]
    },
    {
      "cell_type": "code",
      "metadata": {
        "id": "3xKkBbp4_W3V",
        "colab_type": "code",
        "colab": {}
      },
      "source": [
        "# Create list of column names\n",
        "features = list(genes.columns.values) \n",
        "\n",
        "# Create data frame of newly normalized data - use patients IDs as the index \n",
        "x = pd.DataFrame(x, columns = features, index = patients)"
      ],
      "execution_count": 0,
      "outputs": []
    },
    {
      "cell_type": "markdown",
      "metadata": {
        "id": "nFQt5RulAiYC",
        "colab_type": "text"
      },
      "source": [
        "**2) Determine Prinicpal Components**\n",
        "\n",
        "Reference: https://stackoverflow.com/questions/42167907/understanding-scikitlearn-pca-transform-function-in-python\n",
        "\n",
        "**pca.fit** allows PCA function to compute vectors that you can project your data onto in order to reduce the dimension of your data. \n",
        "\n",
        "**pca.transform** actually performs the projection. It projects each row of data into the vector space that was learned when fit was called.\n",
        "\n",
        "from sklearn: **fit_transform**: Fit the model with X and apply the dimensionality reduction on X"
      ]
    },
    {
      "cell_type": "code",
      "metadata": {
        "id": "ZhT8EtKgHCh6",
        "colab_type": "code",
        "colab": {
          "base_uri": "https://localhost:8080/",
          "height": 593
        },
        "outputId": "ee015385-1bc8-442b-b0d0-3d3761e67618"
      },
      "source": [
        "# Define pca function\n",
        "pca = PCA()\n",
        "\n",
        "# Fit to the scaled/standardized data - then use transform to prokect into the new vector space learned by fit\n",
        "principalComponents = pca.fit_transform(x)\n",
        "\n",
        "# Generate a list of column names with the number for each prinicpal component \n",
        "col_names = [f'pc{i}' for i in range(1, 1520)] # there are 1519 samples - so we want to have range of 1 less than 1894 column names \n",
        "\n",
        "# Add column names to the principal component dataset \n",
        "principalDf = pd.DataFrame(principalComponents, columns = col_names, index = patients)\n",
        "principalDf"
      ],
      "execution_count": 26,
      "outputs": [
        {
          "output_type": "execute_result",
          "data": {
            "text/html": [
              "<div>\n",
              "<style scoped>\n",
              "    .dataframe tbody tr th:only-of-type {\n",
              "        vertical-align: middle;\n",
              "    }\n",
              "\n",
              "    .dataframe tbody tr th {\n",
              "        vertical-align: top;\n",
              "    }\n",
              "\n",
              "    .dataframe thead th {\n",
              "        text-align: right;\n",
              "    }\n",
              "</style>\n",
              "<table border=\"1\" class=\"dataframe\">\n",
              "  <thead>\n",
              "    <tr style=\"text-align: right;\">\n",
              "      <th></th>\n",
              "      <th>pc1</th>\n",
              "      <th>pc2</th>\n",
              "      <th>pc3</th>\n",
              "      <th>pc4</th>\n",
              "      <th>pc5</th>\n",
              "      <th>pc6</th>\n",
              "      <th>pc7</th>\n",
              "      <th>pc8</th>\n",
              "      <th>pc9</th>\n",
              "      <th>pc10</th>\n",
              "      <th>pc11</th>\n",
              "      <th>pc12</th>\n",
              "      <th>pc13</th>\n",
              "      <th>pc14</th>\n",
              "      <th>pc15</th>\n",
              "      <th>pc16</th>\n",
              "      <th>pc17</th>\n",
              "      <th>pc18</th>\n",
              "      <th>pc19</th>\n",
              "      <th>pc20</th>\n",
              "      <th>pc21</th>\n",
              "      <th>pc22</th>\n",
              "      <th>pc23</th>\n",
              "      <th>pc24</th>\n",
              "      <th>pc25</th>\n",
              "      <th>pc26</th>\n",
              "      <th>pc27</th>\n",
              "      <th>pc28</th>\n",
              "      <th>pc29</th>\n",
              "      <th>pc30</th>\n",
              "      <th>pc31</th>\n",
              "      <th>pc32</th>\n",
              "      <th>pc33</th>\n",
              "      <th>pc34</th>\n",
              "      <th>pc35</th>\n",
              "      <th>pc36</th>\n",
              "      <th>pc37</th>\n",
              "      <th>pc38</th>\n",
              "      <th>pc39</th>\n",
              "      <th>pc40</th>\n",
              "      <th>...</th>\n",
              "      <th>pc1480</th>\n",
              "      <th>pc1481</th>\n",
              "      <th>pc1482</th>\n",
              "      <th>pc1483</th>\n",
              "      <th>pc1484</th>\n",
              "      <th>pc1485</th>\n",
              "      <th>pc1486</th>\n",
              "      <th>pc1487</th>\n",
              "      <th>pc1488</th>\n",
              "      <th>pc1489</th>\n",
              "      <th>pc1490</th>\n",
              "      <th>pc1491</th>\n",
              "      <th>pc1492</th>\n",
              "      <th>pc1493</th>\n",
              "      <th>pc1494</th>\n",
              "      <th>pc1495</th>\n",
              "      <th>pc1496</th>\n",
              "      <th>pc1497</th>\n",
              "      <th>pc1498</th>\n",
              "      <th>pc1499</th>\n",
              "      <th>pc1500</th>\n",
              "      <th>pc1501</th>\n",
              "      <th>pc1502</th>\n",
              "      <th>pc1503</th>\n",
              "      <th>pc1504</th>\n",
              "      <th>pc1505</th>\n",
              "      <th>pc1506</th>\n",
              "      <th>pc1507</th>\n",
              "      <th>pc1508</th>\n",
              "      <th>pc1509</th>\n",
              "      <th>pc1510</th>\n",
              "      <th>pc1511</th>\n",
              "      <th>pc1512</th>\n",
              "      <th>pc1513</th>\n",
              "      <th>pc1514</th>\n",
              "      <th>pc1515</th>\n",
              "      <th>pc1516</th>\n",
              "      <th>pc1517</th>\n",
              "      <th>pc1518</th>\n",
              "      <th>pc1519</th>\n",
              "    </tr>\n",
              "  </thead>\n",
              "  <tbody>\n",
              "    <tr>\n",
              "      <th>MB-0002</th>\n",
              "      <td>3.696282</td>\n",
              "      <td>-35.520444</td>\n",
              "      <td>-18.813925</td>\n",
              "      <td>1.425125</td>\n",
              "      <td>-11.277186</td>\n",
              "      <td>-12.822790</td>\n",
              "      <td>4.251192</td>\n",
              "      <td>-13.187488</td>\n",
              "      <td>-17.484249</td>\n",
              "      <td>11.620502</td>\n",
              "      <td>-15.428377</td>\n",
              "      <td>-5.990460</td>\n",
              "      <td>-29.259997</td>\n",
              "      <td>4.524617</td>\n",
              "      <td>3.793844</td>\n",
              "      <td>-7.150132</td>\n",
              "      <td>-12.587557</td>\n",
              "      <td>-37.377278</td>\n",
              "      <td>3.419039</td>\n",
              "      <td>26.264708</td>\n",
              "      <td>6.044982</td>\n",
              "      <td>-2.502963</td>\n",
              "      <td>1.401320</td>\n",
              "      <td>5.127579</td>\n",
              "      <td>-0.554830</td>\n",
              "      <td>5.563588</td>\n",
              "      <td>26.515756</td>\n",
              "      <td>3.069561</td>\n",
              "      <td>1.625547</td>\n",
              "      <td>-8.056935</td>\n",
              "      <td>22.297868</td>\n",
              "      <td>-11.136432</td>\n",
              "      <td>-3.898825</td>\n",
              "      <td>8.608120</td>\n",
              "      <td>15.322118</td>\n",
              "      <td>0.631834</td>\n",
              "      <td>24.200760</td>\n",
              "      <td>-4.407630</td>\n",
              "      <td>7.801561</td>\n",
              "      <td>-1.820877</td>\n",
              "      <td>...</td>\n",
              "      <td>-0.851903</td>\n",
              "      <td>-0.820321</td>\n",
              "      <td>-1.642542</td>\n",
              "      <td>-0.714742</td>\n",
              "      <td>-0.083163</td>\n",
              "      <td>-0.117520</td>\n",
              "      <td>0.446018</td>\n",
              "      <td>0.123201</td>\n",
              "      <td>-0.286876</td>\n",
              "      <td>0.862906</td>\n",
              "      <td>-0.740857</td>\n",
              "      <td>-0.638325</td>\n",
              "      <td>0.237807</td>\n",
              "      <td>-0.426543</td>\n",
              "      <td>1.113707</td>\n",
              "      <td>-0.483813</td>\n",
              "      <td>-0.404465</td>\n",
              "      <td>1.784340</td>\n",
              "      <td>0.393543</td>\n",
              "      <td>1.028003</td>\n",
              "      <td>-1.807742</td>\n",
              "      <td>1.267285</td>\n",
              "      <td>-2.133198</td>\n",
              "      <td>1.828599</td>\n",
              "      <td>-1.028531</td>\n",
              "      <td>1.017656</td>\n",
              "      <td>0.714164</td>\n",
              "      <td>0.324745</td>\n",
              "      <td>-0.115166</td>\n",
              "      <td>0.885927</td>\n",
              "      <td>2.199292</td>\n",
              "      <td>0.104009</td>\n",
              "      <td>-1.982049</td>\n",
              "      <td>-2.338708</td>\n",
              "      <td>-2.384222</td>\n",
              "      <td>0.130091</td>\n",
              "      <td>-0.962951</td>\n",
              "      <td>0.067313</td>\n",
              "      <td>-0.530014</td>\n",
              "      <td>3.226540e-15</td>\n",
              "    </tr>\n",
              "    <tr>\n",
              "      <th>MB-0008</th>\n",
              "      <td>-15.971143</td>\n",
              "      <td>-15.432191</td>\n",
              "      <td>-32.061045</td>\n",
              "      <td>-29.377546</td>\n",
              "      <td>-8.856750</td>\n",
              "      <td>16.612036</td>\n",
              "      <td>4.018346</td>\n",
              "      <td>-9.285566</td>\n",
              "      <td>-24.787766</td>\n",
              "      <td>-14.310316</td>\n",
              "      <td>-7.081939</td>\n",
              "      <td>-6.554999</td>\n",
              "      <td>-17.514326</td>\n",
              "      <td>12.673051</td>\n",
              "      <td>-10.707682</td>\n",
              "      <td>25.228763</td>\n",
              "      <td>0.435692</td>\n",
              "      <td>17.426256</td>\n",
              "      <td>-12.483955</td>\n",
              "      <td>1.874893</td>\n",
              "      <td>3.739397</td>\n",
              "      <td>-5.517330</td>\n",
              "      <td>-3.544084</td>\n",
              "      <td>-2.838839</td>\n",
              "      <td>-7.951403</td>\n",
              "      <td>-3.017424</td>\n",
              "      <td>26.522082</td>\n",
              "      <td>2.473416</td>\n",
              "      <td>1.399002</td>\n",
              "      <td>7.772540</td>\n",
              "      <td>-7.146870</td>\n",
              "      <td>-1.874910</td>\n",
              "      <td>26.551375</td>\n",
              "      <td>0.636265</td>\n",
              "      <td>-10.068891</td>\n",
              "      <td>9.494622</td>\n",
              "      <td>2.448461</td>\n",
              "      <td>-0.074939</td>\n",
              "      <td>2.973074</td>\n",
              "      <td>0.973043</td>\n",
              "      <td>...</td>\n",
              "      <td>-1.003014</td>\n",
              "      <td>0.211598</td>\n",
              "      <td>-0.573605</td>\n",
              "      <td>0.213198</td>\n",
              "      <td>-0.736603</td>\n",
              "      <td>0.827175</td>\n",
              "      <td>-1.081762</td>\n",
              "      <td>-0.253595</td>\n",
              "      <td>0.453540</td>\n",
              "      <td>-0.855541</td>\n",
              "      <td>-0.624416</td>\n",
              "      <td>-0.316994</td>\n",
              "      <td>0.172783</td>\n",
              "      <td>0.679761</td>\n",
              "      <td>-1.698007</td>\n",
              "      <td>1.912439</td>\n",
              "      <td>-0.959564</td>\n",
              "      <td>-1.278216</td>\n",
              "      <td>-0.443109</td>\n",
              "      <td>-0.593039</td>\n",
              "      <td>-1.367058</td>\n",
              "      <td>-0.716466</td>\n",
              "      <td>0.761005</td>\n",
              "      <td>1.036470</td>\n",
              "      <td>0.400830</td>\n",
              "      <td>0.588748</td>\n",
              "      <td>0.338256</td>\n",
              "      <td>1.608587</td>\n",
              "      <td>-1.796271</td>\n",
              "      <td>1.499539</td>\n",
              "      <td>2.822634</td>\n",
              "      <td>-0.182661</td>\n",
              "      <td>0.591917</td>\n",
              "      <td>4.032921</td>\n",
              "      <td>-0.171979</td>\n",
              "      <td>0.819953</td>\n",
              "      <td>1.105986</td>\n",
              "      <td>0.073620</td>\n",
              "      <td>0.849012</td>\n",
              "      <td>3.226540e-15</td>\n",
              "    </tr>\n",
              "    <tr>\n",
              "      <th>MB-0010</th>\n",
              "      <td>-17.454315</td>\n",
              "      <td>-21.192113</td>\n",
              "      <td>-16.013777</td>\n",
              "      <td>-7.492020</td>\n",
              "      <td>-17.781708</td>\n",
              "      <td>1.319311</td>\n",
              "      <td>4.626225</td>\n",
              "      <td>-36.678655</td>\n",
              "      <td>11.585110</td>\n",
              "      <td>-7.570376</td>\n",
              "      <td>19.811831</td>\n",
              "      <td>2.021583</td>\n",
              "      <td>4.881035</td>\n",
              "      <td>21.767445</td>\n",
              "      <td>-18.117848</td>\n",
              "      <td>-2.266797</td>\n",
              "      <td>-3.254472</td>\n",
              "      <td>-10.264998</td>\n",
              "      <td>-0.934028</td>\n",
              "      <td>-6.740692</td>\n",
              "      <td>-17.375263</td>\n",
              "      <td>-3.659842</td>\n",
              "      <td>-8.297658</td>\n",
              "      <td>6.420469</td>\n",
              "      <td>-0.993854</td>\n",
              "      <td>-8.072056</td>\n",
              "      <td>12.528807</td>\n",
              "      <td>-1.977940</td>\n",
              "      <td>0.149557</td>\n",
              "      <td>4.161107</td>\n",
              "      <td>-1.021197</td>\n",
              "      <td>10.186300</td>\n",
              "      <td>15.009833</td>\n",
              "      <td>-4.688344</td>\n",
              "      <td>-2.201153</td>\n",
              "      <td>1.599327</td>\n",
              "      <td>4.277693</td>\n",
              "      <td>-6.324380</td>\n",
              "      <td>8.316996</td>\n",
              "      <td>-4.912895</td>\n",
              "      <td>...</td>\n",
              "      <td>-0.678998</td>\n",
              "      <td>-0.223220</td>\n",
              "      <td>-0.167057</td>\n",
              "      <td>1.811523</td>\n",
              "      <td>-2.783100</td>\n",
              "      <td>2.144538</td>\n",
              "      <td>1.030696</td>\n",
              "      <td>0.488569</td>\n",
              "      <td>-0.316220</td>\n",
              "      <td>-0.024111</td>\n",
              "      <td>2.836332</td>\n",
              "      <td>-0.221322</td>\n",
              "      <td>-1.665299</td>\n",
              "      <td>-4.039378</td>\n",
              "      <td>3.307648</td>\n",
              "      <td>-1.033663</td>\n",
              "      <td>2.196228</td>\n",
              "      <td>1.300160</td>\n",
              "      <td>0.706553</td>\n",
              "      <td>0.293393</td>\n",
              "      <td>-1.965430</td>\n",
              "      <td>0.923175</td>\n",
              "      <td>1.627735</td>\n",
              "      <td>1.087859</td>\n",
              "      <td>0.504541</td>\n",
              "      <td>0.430675</td>\n",
              "      <td>0.872859</td>\n",
              "      <td>2.553531</td>\n",
              "      <td>-1.797532</td>\n",
              "      <td>-0.134177</td>\n",
              "      <td>-2.068498</td>\n",
              "      <td>5.143472</td>\n",
              "      <td>0.364079</td>\n",
              "      <td>0.351346</td>\n",
              "      <td>0.104836</td>\n",
              "      <td>-0.218196</td>\n",
              "      <td>0.175651</td>\n",
              "      <td>-1.284981</td>\n",
              "      <td>-1.062827</td>\n",
              "      <td>3.226540e-15</td>\n",
              "    </tr>\n",
              "    <tr>\n",
              "      <th>MB-0028</th>\n",
              "      <td>9.403215</td>\n",
              "      <td>-31.463949</td>\n",
              "      <td>-55.388704</td>\n",
              "      <td>-13.005234</td>\n",
              "      <td>11.937277</td>\n",
              "      <td>2.109379</td>\n",
              "      <td>22.726782</td>\n",
              "      <td>-1.859580</td>\n",
              "      <td>-4.650795</td>\n",
              "      <td>19.247580</td>\n",
              "      <td>33.419527</td>\n",
              "      <td>-8.320536</td>\n",
              "      <td>-9.179945</td>\n",
              "      <td>18.181183</td>\n",
              "      <td>11.843317</td>\n",
              "      <td>-5.115540</td>\n",
              "      <td>13.371169</td>\n",
              "      <td>10.410103</td>\n",
              "      <td>-15.389495</td>\n",
              "      <td>8.911308</td>\n",
              "      <td>-5.011614</td>\n",
              "      <td>8.180363</td>\n",
              "      <td>-0.863175</td>\n",
              "      <td>-1.473165</td>\n",
              "      <td>-16.251194</td>\n",
              "      <td>15.238271</td>\n",
              "      <td>-4.195064</td>\n",
              "      <td>8.499034</td>\n",
              "      <td>-5.676389</td>\n",
              "      <td>21.660309</td>\n",
              "      <td>-12.684467</td>\n",
              "      <td>-1.505352</td>\n",
              "      <td>-4.765341</td>\n",
              "      <td>-21.259345</td>\n",
              "      <td>-15.513800</td>\n",
              "      <td>-6.844603</td>\n",
              "      <td>-7.498684</td>\n",
              "      <td>16.295027</td>\n",
              "      <td>-5.931322</td>\n",
              "      <td>2.460076</td>\n",
              "      <td>...</td>\n",
              "      <td>-0.979506</td>\n",
              "      <td>0.235224</td>\n",
              "      <td>0.336212</td>\n",
              "      <td>0.218131</td>\n",
              "      <td>-0.519864</td>\n",
              "      <td>-0.571283</td>\n",
              "      <td>-1.254231</td>\n",
              "      <td>0.013132</td>\n",
              "      <td>-0.976211</td>\n",
              "      <td>-0.670816</td>\n",
              "      <td>-0.465293</td>\n",
              "      <td>0.641230</td>\n",
              "      <td>0.835912</td>\n",
              "      <td>-0.880166</td>\n",
              "      <td>0.590890</td>\n",
              "      <td>-0.494788</td>\n",
              "      <td>-0.051104</td>\n",
              "      <td>-1.686358</td>\n",
              "      <td>1.410132</td>\n",
              "      <td>-0.383044</td>\n",
              "      <td>-0.843910</td>\n",
              "      <td>0.601312</td>\n",
              "      <td>0.326957</td>\n",
              "      <td>-0.557102</td>\n",
              "      <td>1.792193</td>\n",
              "      <td>0.474294</td>\n",
              "      <td>0.468909</td>\n",
              "      <td>0.842941</td>\n",
              "      <td>-0.043868</td>\n",
              "      <td>0.079649</td>\n",
              "      <td>0.806323</td>\n",
              "      <td>0.231925</td>\n",
              "      <td>0.982790</td>\n",
              "      <td>-0.340688</td>\n",
              "      <td>3.044589</td>\n",
              "      <td>0.458794</td>\n",
              "      <td>-0.848811</td>\n",
              "      <td>-1.793592</td>\n",
              "      <td>0.049293</td>\n",
              "      <td>3.226540e-15</td>\n",
              "    </tr>\n",
              "    <tr>\n",
              "      <th>MB-0035</th>\n",
              "      <td>31.050602</td>\n",
              "      <td>-19.567061</td>\n",
              "      <td>-34.221343</td>\n",
              "      <td>2.309418</td>\n",
              "      <td>4.511127</td>\n",
              "      <td>-11.072959</td>\n",
              "      <td>24.240261</td>\n",
              "      <td>-10.302817</td>\n",
              "      <td>76.885148</td>\n",
              "      <td>12.591329</td>\n",
              "      <td>-16.085720</td>\n",
              "      <td>-39.863072</td>\n",
              "      <td>0.742399</td>\n",
              "      <td>17.884162</td>\n",
              "      <td>2.928844</td>\n",
              "      <td>6.740508</td>\n",
              "      <td>0.200073</td>\n",
              "      <td>-7.967774</td>\n",
              "      <td>-2.348785</td>\n",
              "      <td>14.305014</td>\n",
              "      <td>-13.524745</td>\n",
              "      <td>25.335851</td>\n",
              "      <td>3.131419</td>\n",
              "      <td>9.922605</td>\n",
              "      <td>0.675627</td>\n",
              "      <td>18.532697</td>\n",
              "      <td>26.519733</td>\n",
              "      <td>-26.763888</td>\n",
              "      <td>9.976703</td>\n",
              "      <td>-0.359545</td>\n",
              "      <td>-7.667654</td>\n",
              "      <td>-0.970275</td>\n",
              "      <td>12.245801</td>\n",
              "      <td>-6.540787</td>\n",
              "      <td>-3.143797</td>\n",
              "      <td>-11.420626</td>\n",
              "      <td>14.281943</td>\n",
              "      <td>-7.947586</td>\n",
              "      <td>-9.617343</td>\n",
              "      <td>4.053053</td>\n",
              "      <td>...</td>\n",
              "      <td>-0.822054</td>\n",
              "      <td>1.337628</td>\n",
              "      <td>-0.200843</td>\n",
              "      <td>-0.692037</td>\n",
              "      <td>0.046741</td>\n",
              "      <td>-0.398636</td>\n",
              "      <td>-0.339650</td>\n",
              "      <td>-1.125550</td>\n",
              "      <td>0.245326</td>\n",
              "      <td>0.573487</td>\n",
              "      <td>-0.521232</td>\n",
              "      <td>-0.833202</td>\n",
              "      <td>0.181666</td>\n",
              "      <td>-0.548524</td>\n",
              "      <td>0.337932</td>\n",
              "      <td>-0.728227</td>\n",
              "      <td>-0.870848</td>\n",
              "      <td>-1.209798</td>\n",
              "      <td>-0.806712</td>\n",
              "      <td>1.452372</td>\n",
              "      <td>-0.290493</td>\n",
              "      <td>-1.323845</td>\n",
              "      <td>1.132147</td>\n",
              "      <td>0.589802</td>\n",
              "      <td>0.892053</td>\n",
              "      <td>0.754816</td>\n",
              "      <td>0.928419</td>\n",
              "      <td>-0.059281</td>\n",
              "      <td>-1.671452</td>\n",
              "      <td>-0.900133</td>\n",
              "      <td>-1.794088</td>\n",
              "      <td>-1.399132</td>\n",
              "      <td>-0.464210</td>\n",
              "      <td>0.690511</td>\n",
              "      <td>-1.286882</td>\n",
              "      <td>-0.305849</td>\n",
              "      <td>-0.950239</td>\n",
              "      <td>-0.626341</td>\n",
              "      <td>-0.292531</td>\n",
              "      <td>3.226540e-15</td>\n",
              "    </tr>\n",
              "    <tr>\n",
              "      <th>...</th>\n",
              "      <td>...</td>\n",
              "      <td>...</td>\n",
              "      <td>...</td>\n",
              "      <td>...</td>\n",
              "      <td>...</td>\n",
              "      <td>...</td>\n",
              "      <td>...</td>\n",
              "      <td>...</td>\n",
              "      <td>...</td>\n",
              "      <td>...</td>\n",
              "      <td>...</td>\n",
              "      <td>...</td>\n",
              "      <td>...</td>\n",
              "      <td>...</td>\n",
              "      <td>...</td>\n",
              "      <td>...</td>\n",
              "      <td>...</td>\n",
              "      <td>...</td>\n",
              "      <td>...</td>\n",
              "      <td>...</td>\n",
              "      <td>...</td>\n",
              "      <td>...</td>\n",
              "      <td>...</td>\n",
              "      <td>...</td>\n",
              "      <td>...</td>\n",
              "      <td>...</td>\n",
              "      <td>...</td>\n",
              "      <td>...</td>\n",
              "      <td>...</td>\n",
              "      <td>...</td>\n",
              "      <td>...</td>\n",
              "      <td>...</td>\n",
              "      <td>...</td>\n",
              "      <td>...</td>\n",
              "      <td>...</td>\n",
              "      <td>...</td>\n",
              "      <td>...</td>\n",
              "      <td>...</td>\n",
              "      <td>...</td>\n",
              "      <td>...</td>\n",
              "      <td>...</td>\n",
              "      <td>...</td>\n",
              "      <td>...</td>\n",
              "      <td>...</td>\n",
              "      <td>...</td>\n",
              "      <td>...</td>\n",
              "      <td>...</td>\n",
              "      <td>...</td>\n",
              "      <td>...</td>\n",
              "      <td>...</td>\n",
              "      <td>...</td>\n",
              "      <td>...</td>\n",
              "      <td>...</td>\n",
              "      <td>...</td>\n",
              "      <td>...</td>\n",
              "      <td>...</td>\n",
              "      <td>...</td>\n",
              "      <td>...</td>\n",
              "      <td>...</td>\n",
              "      <td>...</td>\n",
              "      <td>...</td>\n",
              "      <td>...</td>\n",
              "      <td>...</td>\n",
              "      <td>...</td>\n",
              "      <td>...</td>\n",
              "      <td>...</td>\n",
              "      <td>...</td>\n",
              "      <td>...</td>\n",
              "      <td>...</td>\n",
              "      <td>...</td>\n",
              "      <td>...</td>\n",
              "      <td>...</td>\n",
              "      <td>...</td>\n",
              "      <td>...</td>\n",
              "      <td>...</td>\n",
              "      <td>...</td>\n",
              "      <td>...</td>\n",
              "      <td>...</td>\n",
              "      <td>...</td>\n",
              "      <td>...</td>\n",
              "      <td>...</td>\n",
              "    </tr>\n",
              "    <tr>\n",
              "      <th>MB-7278</th>\n",
              "      <td>21.992153</td>\n",
              "      <td>-26.725342</td>\n",
              "      <td>10.386142</td>\n",
              "      <td>27.545856</td>\n",
              "      <td>-51.721078</td>\n",
              "      <td>-0.349418</td>\n",
              "      <td>-11.573459</td>\n",
              "      <td>-0.207799</td>\n",
              "      <td>37.603720</td>\n",
              "      <td>19.512866</td>\n",
              "      <td>8.224627</td>\n",
              "      <td>-13.990960</td>\n",
              "      <td>-0.623962</td>\n",
              "      <td>11.290069</td>\n",
              "      <td>-12.220848</td>\n",
              "      <td>7.210228</td>\n",
              "      <td>5.010695</td>\n",
              "      <td>-1.157551</td>\n",
              "      <td>-3.114871</td>\n",
              "      <td>6.205722</td>\n",
              "      <td>-1.869636</td>\n",
              "      <td>-2.703658</td>\n",
              "      <td>3.516239</td>\n",
              "      <td>13.377535</td>\n",
              "      <td>-25.696071</td>\n",
              "      <td>-3.756289</td>\n",
              "      <td>6.455491</td>\n",
              "      <td>9.953161</td>\n",
              "      <td>1.597447</td>\n",
              "      <td>-4.843833</td>\n",
              "      <td>7.757865</td>\n",
              "      <td>-20.782249</td>\n",
              "      <td>-6.603405</td>\n",
              "      <td>-0.395071</td>\n",
              "      <td>-4.913255</td>\n",
              "      <td>5.420347</td>\n",
              "      <td>-8.206487</td>\n",
              "      <td>6.071047</td>\n",
              "      <td>0.979032</td>\n",
              "      <td>9.507039</td>\n",
              "      <td>...</td>\n",
              "      <td>0.216588</td>\n",
              "      <td>-0.227025</td>\n",
              "      <td>4.572385</td>\n",
              "      <td>0.101747</td>\n",
              "      <td>-1.955162</td>\n",
              "      <td>-0.878551</td>\n",
              "      <td>0.111896</td>\n",
              "      <td>1.002193</td>\n",
              "      <td>1.371304</td>\n",
              "      <td>-0.176322</td>\n",
              "      <td>0.550487</td>\n",
              "      <td>-0.224297</td>\n",
              "      <td>-2.041291</td>\n",
              "      <td>-0.938661</td>\n",
              "      <td>2.036217</td>\n",
              "      <td>-3.616181</td>\n",
              "      <td>-0.401683</td>\n",
              "      <td>0.991225</td>\n",
              "      <td>-1.842281</td>\n",
              "      <td>0.941811</td>\n",
              "      <td>1.429062</td>\n",
              "      <td>-0.445575</td>\n",
              "      <td>1.756471</td>\n",
              "      <td>-1.039168</td>\n",
              "      <td>-1.214442</td>\n",
              "      <td>1.302522</td>\n",
              "      <td>0.439111</td>\n",
              "      <td>-0.416850</td>\n",
              "      <td>3.809054</td>\n",
              "      <td>0.156006</td>\n",
              "      <td>-0.703086</td>\n",
              "      <td>-0.433948</td>\n",
              "      <td>-0.449164</td>\n",
              "      <td>-0.365740</td>\n",
              "      <td>-1.026124</td>\n",
              "      <td>0.272814</td>\n",
              "      <td>-2.001889</td>\n",
              "      <td>-1.494562</td>\n",
              "      <td>2.247925</td>\n",
              "      <td>3.226540e-15</td>\n",
              "    </tr>\n",
              "    <tr>\n",
              "      <th>MB-7280</th>\n",
              "      <td>3.211706</td>\n",
              "      <td>-28.356290</td>\n",
              "      <td>-12.806278</td>\n",
              "      <td>6.597237</td>\n",
              "      <td>-43.012148</td>\n",
              "      <td>5.788852</td>\n",
              "      <td>-4.323447</td>\n",
              "      <td>20.389344</td>\n",
              "      <td>-3.250312</td>\n",
              "      <td>26.031472</td>\n",
              "      <td>14.198458</td>\n",
              "      <td>-29.099599</td>\n",
              "      <td>-24.375101</td>\n",
              "      <td>3.060458</td>\n",
              "      <td>11.867502</td>\n",
              "      <td>9.294799</td>\n",
              "      <td>-4.432798</td>\n",
              "      <td>0.525880</td>\n",
              "      <td>-14.120993</td>\n",
              "      <td>15.086022</td>\n",
              "      <td>-2.725043</td>\n",
              "      <td>-3.197949</td>\n",
              "      <td>-5.111664</td>\n",
              "      <td>0.764576</td>\n",
              "      <td>-18.379479</td>\n",
              "      <td>14.632445</td>\n",
              "      <td>18.478776</td>\n",
              "      <td>-6.443371</td>\n",
              "      <td>-5.675075</td>\n",
              "      <td>-10.717423</td>\n",
              "      <td>10.406933</td>\n",
              "      <td>-15.237604</td>\n",
              "      <td>-11.748827</td>\n",
              "      <td>15.910717</td>\n",
              "      <td>1.792067</td>\n",
              "      <td>8.056251</td>\n",
              "      <td>0.743712</td>\n",
              "      <td>5.627381</td>\n",
              "      <td>-2.057568</td>\n",
              "      <td>4.583938</td>\n",
              "      <td>...</td>\n",
              "      <td>-1.276598</td>\n",
              "      <td>3.819515</td>\n",
              "      <td>-1.687064</td>\n",
              "      <td>1.945309</td>\n",
              "      <td>-1.055492</td>\n",
              "      <td>-5.500608</td>\n",
              "      <td>-0.728169</td>\n",
              "      <td>3.321492</td>\n",
              "      <td>0.754422</td>\n",
              "      <td>-2.763382</td>\n",
              "      <td>-4.055947</td>\n",
              "      <td>-2.132817</td>\n",
              "      <td>1.917744</td>\n",
              "      <td>-0.306479</td>\n",
              "      <td>-0.153644</td>\n",
              "      <td>-1.278790</td>\n",
              "      <td>-3.841603</td>\n",
              "      <td>-1.801813</td>\n",
              "      <td>0.301035</td>\n",
              "      <td>2.937152</td>\n",
              "      <td>-1.553532</td>\n",
              "      <td>-3.417896</td>\n",
              "      <td>-2.426802</td>\n",
              "      <td>3.246620</td>\n",
              "      <td>1.735490</td>\n",
              "      <td>0.342085</td>\n",
              "      <td>3.070938</td>\n",
              "      <td>0.367675</td>\n",
              "      <td>1.057270</td>\n",
              "      <td>-2.337351</td>\n",
              "      <td>0.245726</td>\n",
              "      <td>0.359017</td>\n",
              "      <td>-0.885373</td>\n",
              "      <td>-0.725986</td>\n",
              "      <td>-0.539990</td>\n",
              "      <td>-1.581620</td>\n",
              "      <td>3.782175</td>\n",
              "      <td>-0.707013</td>\n",
              "      <td>0.214236</td>\n",
              "      <td>3.226540e-15</td>\n",
              "    </tr>\n",
              "    <tr>\n",
              "      <th>MB-7284</th>\n",
              "      <td>4.299894</td>\n",
              "      <td>-27.846447</td>\n",
              "      <td>6.805855</td>\n",
              "      <td>-29.440995</td>\n",
              "      <td>5.932578</td>\n",
              "      <td>-21.908640</td>\n",
              "      <td>-29.969846</td>\n",
              "      <td>10.001357</td>\n",
              "      <td>-20.480234</td>\n",
              "      <td>-3.836214</td>\n",
              "      <td>13.872193</td>\n",
              "      <td>-7.675932</td>\n",
              "      <td>-1.593682</td>\n",
              "      <td>11.227429</td>\n",
              "      <td>-6.372293</td>\n",
              "      <td>-4.913863</td>\n",
              "      <td>-17.764805</td>\n",
              "      <td>17.618947</td>\n",
              "      <td>0.903395</td>\n",
              "      <td>-3.489989</td>\n",
              "      <td>5.884934</td>\n",
              "      <td>9.194577</td>\n",
              "      <td>19.901359</td>\n",
              "      <td>13.257570</td>\n",
              "      <td>18.862325</td>\n",
              "      <td>-0.193603</td>\n",
              "      <td>0.495639</td>\n",
              "      <td>-22.997443</td>\n",
              "      <td>0.747883</td>\n",
              "      <td>-10.631694</td>\n",
              "      <td>-14.910064</td>\n",
              "      <td>10.615247</td>\n",
              "      <td>7.041711</td>\n",
              "      <td>-0.708457</td>\n",
              "      <td>2.602220</td>\n",
              "      <td>1.771115</td>\n",
              "      <td>6.504472</td>\n",
              "      <td>-8.382605</td>\n",
              "      <td>5.058258</td>\n",
              "      <td>7.884575</td>\n",
              "      <td>...</td>\n",
              "      <td>1.179716</td>\n",
              "      <td>-1.141920</td>\n",
              "      <td>2.810275</td>\n",
              "      <td>-2.933625</td>\n",
              "      <td>-0.673305</td>\n",
              "      <td>-1.400711</td>\n",
              "      <td>-1.078385</td>\n",
              "      <td>1.963501</td>\n",
              "      <td>1.046184</td>\n",
              "      <td>1.404443</td>\n",
              "      <td>0.269125</td>\n",
              "      <td>-1.305838</td>\n",
              "      <td>2.735435</td>\n",
              "      <td>1.182926</td>\n",
              "      <td>-1.325419</td>\n",
              "      <td>0.408412</td>\n",
              "      <td>-1.191660</td>\n",
              "      <td>0.187892</td>\n",
              "      <td>0.212149</td>\n",
              "      <td>-2.522307</td>\n",
              "      <td>-0.641821</td>\n",
              "      <td>0.495216</td>\n",
              "      <td>1.927795</td>\n",
              "      <td>0.398005</td>\n",
              "      <td>-3.518351</td>\n",
              "      <td>0.673172</td>\n",
              "      <td>0.955109</td>\n",
              "      <td>1.322812</td>\n",
              "      <td>-1.000078</td>\n",
              "      <td>1.779171</td>\n",
              "      <td>0.998561</td>\n",
              "      <td>0.798157</td>\n",
              "      <td>-1.593960</td>\n",
              "      <td>-2.994821</td>\n",
              "      <td>-0.164693</td>\n",
              "      <td>-0.543912</td>\n",
              "      <td>-0.764666</td>\n",
              "      <td>0.214324</td>\n",
              "      <td>-0.569073</td>\n",
              "      <td>3.226540e-15</td>\n",
              "    </tr>\n",
              "    <tr>\n",
              "      <th>MB-7286</th>\n",
              "      <td>-6.530939</td>\n",
              "      <td>-31.806053</td>\n",
              "      <td>3.004884</td>\n",
              "      <td>-12.275899</td>\n",
              "      <td>-4.924950</td>\n",
              "      <td>4.737140</td>\n",
              "      <td>8.932049</td>\n",
              "      <td>-24.480009</td>\n",
              "      <td>11.251517</td>\n",
              "      <td>8.652508</td>\n",
              "      <td>11.462148</td>\n",
              "      <td>31.069799</td>\n",
              "      <td>10.836858</td>\n",
              "      <td>-20.178103</td>\n",
              "      <td>-4.057462</td>\n",
              "      <td>12.803279</td>\n",
              "      <td>-0.996015</td>\n",
              "      <td>8.422371</td>\n",
              "      <td>7.772120</td>\n",
              "      <td>-10.207946</td>\n",
              "      <td>-20.793827</td>\n",
              "      <td>-2.702391</td>\n",
              "      <td>7.722833</td>\n",
              "      <td>3.502950</td>\n",
              "      <td>5.408319</td>\n",
              "      <td>-4.646116</td>\n",
              "      <td>7.662861</td>\n",
              "      <td>-13.079845</td>\n",
              "      <td>-15.572807</td>\n",
              "      <td>-10.183304</td>\n",
              "      <td>-2.803715</td>\n",
              "      <td>-2.238875</td>\n",
              "      <td>1.268150</td>\n",
              "      <td>0.831990</td>\n",
              "      <td>6.488220</td>\n",
              "      <td>-7.719661</td>\n",
              "      <td>2.909889</td>\n",
              "      <td>11.939694</td>\n",
              "      <td>-6.908893</td>\n",
              "      <td>5.729648</td>\n",
              "      <td>...</td>\n",
              "      <td>1.503844</td>\n",
              "      <td>-1.545723</td>\n",
              "      <td>0.381480</td>\n",
              "      <td>-1.766042</td>\n",
              "      <td>-4.593808</td>\n",
              "      <td>-0.138522</td>\n",
              "      <td>0.616738</td>\n",
              "      <td>2.307019</td>\n",
              "      <td>-0.541080</td>\n",
              "      <td>1.211459</td>\n",
              "      <td>0.455027</td>\n",
              "      <td>-3.645935</td>\n",
              "      <td>-1.489629</td>\n",
              "      <td>0.514743</td>\n",
              "      <td>-0.603579</td>\n",
              "      <td>-1.190651</td>\n",
              "      <td>3.244448</td>\n",
              "      <td>-2.105468</td>\n",
              "      <td>-3.066100</td>\n",
              "      <td>0.824179</td>\n",
              "      <td>-1.713938</td>\n",
              "      <td>-0.272762</td>\n",
              "      <td>-1.270243</td>\n",
              "      <td>-0.767720</td>\n",
              "      <td>1.240233</td>\n",
              "      <td>0.982566</td>\n",
              "      <td>-3.484844</td>\n",
              "      <td>-0.431898</td>\n",
              "      <td>-1.524852</td>\n",
              "      <td>-2.591157</td>\n",
              "      <td>1.164146</td>\n",
              "      <td>-1.298925</td>\n",
              "      <td>4.478292</td>\n",
              "      <td>-2.101670</td>\n",
              "      <td>-0.411713</td>\n",
              "      <td>-0.339861</td>\n",
              "      <td>-0.609651</td>\n",
              "      <td>0.021222</td>\n",
              "      <td>0.422931</td>\n",
              "      <td>3.226540e-15</td>\n",
              "    </tr>\n",
              "    <tr>\n",
              "      <th>MB-7295</th>\n",
              "      <td>-46.306641</td>\n",
              "      <td>-35.060236</td>\n",
              "      <td>11.861189</td>\n",
              "      <td>-2.677880</td>\n",
              "      <td>-17.590168</td>\n",
              "      <td>-6.206518</td>\n",
              "      <td>3.965923</td>\n",
              "      <td>-25.036391</td>\n",
              "      <td>3.455324</td>\n",
              "      <td>7.824520</td>\n",
              "      <td>13.107588</td>\n",
              "      <td>13.219520</td>\n",
              "      <td>0.167520</td>\n",
              "      <td>11.963504</td>\n",
              "      <td>0.154027</td>\n",
              "      <td>-22.722417</td>\n",
              "      <td>-12.287664</td>\n",
              "      <td>-0.994744</td>\n",
              "      <td>-7.491039</td>\n",
              "      <td>-3.411479</td>\n",
              "      <td>1.805049</td>\n",
              "      <td>0.803882</td>\n",
              "      <td>3.626419</td>\n",
              "      <td>2.437284</td>\n",
              "      <td>-5.645299</td>\n",
              "      <td>-5.555996</td>\n",
              "      <td>-4.260596</td>\n",
              "      <td>-5.249683</td>\n",
              "      <td>-0.984951</td>\n",
              "      <td>-0.269852</td>\n",
              "      <td>0.863467</td>\n",
              "      <td>-3.741316</td>\n",
              "      <td>-8.740986</td>\n",
              "      <td>-2.417644</td>\n",
              "      <td>-0.371434</td>\n",
              "      <td>-5.513356</td>\n",
              "      <td>-3.049793</td>\n",
              "      <td>0.970366</td>\n",
              "      <td>-8.019419</td>\n",
              "      <td>1.427824</td>\n",
              "      <td>...</td>\n",
              "      <td>-9.362602</td>\n",
              "      <td>-2.446753</td>\n",
              "      <td>4.289689</td>\n",
              "      <td>-1.342409</td>\n",
              "      <td>1.414279</td>\n",
              "      <td>3.031729</td>\n",
              "      <td>-4.030011</td>\n",
              "      <td>0.115029</td>\n",
              "      <td>-0.700180</td>\n",
              "      <td>-0.093481</td>\n",
              "      <td>1.998552</td>\n",
              "      <td>2.362421</td>\n",
              "      <td>-6.889593</td>\n",
              "      <td>-2.180949</td>\n",
              "      <td>5.490773</td>\n",
              "      <td>-0.134983</td>\n",
              "      <td>-1.708352</td>\n",
              "      <td>4.899588</td>\n",
              "      <td>1.926222</td>\n",
              "      <td>-2.680924</td>\n",
              "      <td>-0.110593</td>\n",
              "      <td>0.440076</td>\n",
              "      <td>3.421981</td>\n",
              "      <td>5.799228</td>\n",
              "      <td>1.494202</td>\n",
              "      <td>3.094872</td>\n",
              "      <td>0.750385</td>\n",
              "      <td>-1.002995</td>\n",
              "      <td>-2.130182</td>\n",
              "      <td>-0.012522</td>\n",
              "      <td>3.023979</td>\n",
              "      <td>-0.604767</td>\n",
              "      <td>-1.372709</td>\n",
              "      <td>-2.926743</td>\n",
              "      <td>-0.538805</td>\n",
              "      <td>0.931227</td>\n",
              "      <td>-0.423086</td>\n",
              "      <td>1.281837</td>\n",
              "      <td>0.336843</td>\n",
              "      <td>3.226540e-15</td>\n",
              "    </tr>\n",
              "  </tbody>\n",
              "</table>\n",
              "<p>1519 rows × 1519 columns</p>\n",
              "</div>"
            ],
            "text/plain": [
              "               pc1        pc2        pc3  ...    pc1517    pc1518        pc1519\n",
              "MB-0002   3.696282 -35.520444 -18.813925  ...  0.067313 -0.530014  3.226540e-15\n",
              "MB-0008 -15.971143 -15.432191 -32.061045  ...  0.073620  0.849012  3.226540e-15\n",
              "MB-0010 -17.454315 -21.192113 -16.013777  ... -1.284981 -1.062827  3.226540e-15\n",
              "MB-0028   9.403215 -31.463949 -55.388704  ... -1.793592  0.049293  3.226540e-15\n",
              "MB-0035  31.050602 -19.567061 -34.221343  ... -0.626341 -0.292531  3.226540e-15\n",
              "...            ...        ...        ...  ...       ...       ...           ...\n",
              "MB-7278  21.992153 -26.725342  10.386142  ... -1.494562  2.247925  3.226540e-15\n",
              "MB-7280   3.211706 -28.356290 -12.806278  ... -0.707013  0.214236  3.226540e-15\n",
              "MB-7284   4.299894 -27.846447   6.805855  ...  0.214324 -0.569073  3.226540e-15\n",
              "MB-7286  -6.530939 -31.806053   3.004884  ...  0.021222  0.422931  3.226540e-15\n",
              "MB-7295 -46.306641 -35.060236  11.861189  ...  1.281837  0.336843  3.226540e-15\n",
              "\n",
              "[1519 rows x 1519 columns]"
            ]
          },
          "metadata": {
            "tags": []
          },
          "execution_count": 26
        }
      ]
    },
    {
      "cell_type": "markdown",
      "metadata": {
        "colab_type": "text",
        "id": "1ERnjKTMe2Nj"
      },
      "source": [
        "**3) Determine # of Components and Variance**"
      ]
    },
    {
      "cell_type": "code",
      "metadata": {
        "colab_type": "code",
        "id": "anB37-Bse2N8",
        "colab": {
          "base_uri": "https://localhost:8080/",
          "height": 294
        },
        "outputId": "fa39a3f0-8a17-41f4-9160-db549bf9ea5b"
      },
      "source": [
        "#Plotting the Cumulative Summation of the Explained Variance\n",
        "plt.figure()\n",
        "plt.plot(np.cumsum(pca.explained_variance_ratio_))\n",
        "plt.xlabel('Number of Components')\n",
        "plt.ylabel('Variance (%)') #for each component\n",
        "plt.title('Gene Expression Explained Variance')\n",
        "plt.show()"
      ],
      "execution_count": 27,
      "outputs": [
        {
          "output_type": "display_data",
          "data": {
            "image/png": "[encoded data removed]",
            "text/plain": [
              "<Figure size 432x288 with 1 Axes>"
            ]
          },
          "metadata": {
            "tags": []
          }
        }
      ]
    },
    {
      "cell_type": "markdown",
      "metadata": {
        "colab_type": "text",
        "id": "_ntR3kSyfA8w"
      },
      "source": [
        "The plot tells us that with ~1200 components we can capture 90% of the data. "
      ]
    },
    {
      "cell_type": "markdown",
      "metadata": {
        "colab_type": "text",
        "id": "TW4-aX_0fkCF"
      },
      "source": [
        "**Alternative method - Pre-selecting % of variance**\n",
        "\n",
        "**Fit PCA to the data**"
      ]
    },
    {
      "cell_type": "code",
      "metadata": {
        "colab_type": "code",
        "id": "08TMwSQzfkCj",
        "colab": {}
      },
      "source": [
        "pca = PCA(0.9)\n",
        "x2 = pca.fit_transform(x)"
      ],
      "execution_count": 0,
      "outputs": []
    },
    {
      "cell_type": "code",
      "metadata": {
        "id": "etk-AvMGcPSx",
        "colab_type": "code",
        "colab": {
          "base_uri": "https://localhost:8080/",
          "height": 426
        },
        "outputId": "017221da-2b76-4c46-c46c-1af4b7673f21"
      },
      "source": [
        "x2 = pd.DataFrame(data = x2)\n",
        "x2 #this is the 1306 principal components"
      ],
      "execution_count": 29,
      "outputs": [
        {
          "output_type": "execute_result",
          "data": {
            "text/html": [
              "<div>\n",
              "<style scoped>\n",
              "    .dataframe tbody tr th:only-of-type {\n",
              "        vertical-align: middle;\n",
              "    }\n",
              "\n",
              "    .dataframe tbody tr th {\n",
              "        vertical-align: top;\n",
              "    }\n",
              "\n",
              "    .dataframe thead th {\n",
              "        text-align: right;\n",
              "    }\n",
              "</style>\n",
              "<table border=\"1\" class=\"dataframe\">\n",
              "  <thead>\n",
              "    <tr style=\"text-align: right;\">\n",
              "      <th></th>\n",
              "      <th>0</th>\n",
              "      <th>1</th>\n",
              "      <th>2</th>\n",
              "      <th>3</th>\n",
              "      <th>4</th>\n",
              "      <th>5</th>\n",
              "      <th>6</th>\n",
              "      <th>7</th>\n",
              "      <th>8</th>\n",
              "      <th>9</th>\n",
              "      <th>10</th>\n",
              "      <th>11</th>\n",
              "      <th>12</th>\n",
              "      <th>13</th>\n",
              "      <th>14</th>\n",
              "      <th>15</th>\n",
              "      <th>16</th>\n",
              "      <th>17</th>\n",
              "      <th>18</th>\n",
              "      <th>19</th>\n",
              "      <th>20</th>\n",
              "      <th>21</th>\n",
              "      <th>22</th>\n",
              "      <th>23</th>\n",
              "      <th>24</th>\n",
              "      <th>25</th>\n",
              "      <th>26</th>\n",
              "      <th>27</th>\n",
              "      <th>28</th>\n",
              "      <th>29</th>\n",
              "      <th>30</th>\n",
              "      <th>31</th>\n",
              "      <th>32</th>\n",
              "      <th>33</th>\n",
              "      <th>34</th>\n",
              "      <th>35</th>\n",
              "      <th>36</th>\n",
              "      <th>37</th>\n",
              "      <th>38</th>\n",
              "      <th>39</th>\n",
              "      <th>...</th>\n",
              "      <th>1042</th>\n",
              "      <th>1043</th>\n",
              "      <th>1044</th>\n",
              "      <th>1045</th>\n",
              "      <th>1046</th>\n",
              "      <th>1047</th>\n",
              "      <th>1048</th>\n",
              "      <th>1049</th>\n",
              "      <th>1050</th>\n",
              "      <th>1051</th>\n",
              "      <th>1052</th>\n",
              "      <th>1053</th>\n",
              "      <th>1054</th>\n",
              "      <th>1055</th>\n",
              "      <th>1056</th>\n",
              "      <th>1057</th>\n",
              "      <th>1058</th>\n",
              "      <th>1059</th>\n",
              "      <th>1060</th>\n",
              "      <th>1061</th>\n",
              "      <th>1062</th>\n",
              "      <th>1063</th>\n",
              "      <th>1064</th>\n",
              "      <th>1065</th>\n",
              "      <th>1066</th>\n",
              "      <th>1067</th>\n",
              "      <th>1068</th>\n",
              "      <th>1069</th>\n",
              "      <th>1070</th>\n",
              "      <th>1071</th>\n",
              "      <th>1072</th>\n",
              "      <th>1073</th>\n",
              "      <th>1074</th>\n",
              "      <th>1075</th>\n",
              "      <th>1076</th>\n",
              "      <th>1077</th>\n",
              "      <th>1078</th>\n",
              "      <th>1079</th>\n",
              "      <th>1080</th>\n",
              "      <th>1081</th>\n",
              "    </tr>\n",
              "  </thead>\n",
              "  <tbody>\n",
              "    <tr>\n",
              "      <th>0</th>\n",
              "      <td>3.696282</td>\n",
              "      <td>-35.520444</td>\n",
              "      <td>-18.813925</td>\n",
              "      <td>1.425125</td>\n",
              "      <td>-11.277186</td>\n",
              "      <td>-12.822790</td>\n",
              "      <td>4.251192</td>\n",
              "      <td>-13.187488</td>\n",
              "      <td>-17.484249</td>\n",
              "      <td>11.620502</td>\n",
              "      <td>-15.428377</td>\n",
              "      <td>-5.990460</td>\n",
              "      <td>-29.259997</td>\n",
              "      <td>4.524617</td>\n",
              "      <td>3.793844</td>\n",
              "      <td>-7.150132</td>\n",
              "      <td>-12.587557</td>\n",
              "      <td>-37.377278</td>\n",
              "      <td>3.419039</td>\n",
              "      <td>26.264708</td>\n",
              "      <td>6.044982</td>\n",
              "      <td>-2.502963</td>\n",
              "      <td>1.401320</td>\n",
              "      <td>5.127579</td>\n",
              "      <td>-0.554830</td>\n",
              "      <td>5.563588</td>\n",
              "      <td>26.515756</td>\n",
              "      <td>3.069561</td>\n",
              "      <td>1.625547</td>\n",
              "      <td>-8.056935</td>\n",
              "      <td>22.297868</td>\n",
              "      <td>-11.136432</td>\n",
              "      <td>-3.898825</td>\n",
              "      <td>8.608120</td>\n",
              "      <td>15.322118</td>\n",
              "      <td>0.631834</td>\n",
              "      <td>24.200760</td>\n",
              "      <td>-4.407630</td>\n",
              "      <td>7.801561</td>\n",
              "      <td>-1.820877</td>\n",
              "      <td>...</td>\n",
              "      <td>1.519751</td>\n",
              "      <td>0.618311</td>\n",
              "      <td>-0.753857</td>\n",
              "      <td>-0.166051</td>\n",
              "      <td>0.120901</td>\n",
              "      <td>2.060494</td>\n",
              "      <td>-1.910674</td>\n",
              "      <td>-1.223022</td>\n",
              "      <td>2.986752</td>\n",
              "      <td>-1.503869</td>\n",
              "      <td>4.193182</td>\n",
              "      <td>2.097600</td>\n",
              "      <td>-2.074204</td>\n",
              "      <td>-2.180381</td>\n",
              "      <td>1.822595</td>\n",
              "      <td>1.106352</td>\n",
              "      <td>1.498331</td>\n",
              "      <td>0.006544</td>\n",
              "      <td>-0.596466</td>\n",
              "      <td>-1.034001</td>\n",
              "      <td>-2.691159</td>\n",
              "      <td>1.651816</td>\n",
              "      <td>-5.199850</td>\n",
              "      <td>-1.444879</td>\n",
              "      <td>-0.683766</td>\n",
              "      <td>1.363813</td>\n",
              "      <td>1.906447</td>\n",
              "      <td>0.160721</td>\n",
              "      <td>2.154376</td>\n",
              "      <td>-0.252365</td>\n",
              "      <td>-2.153099</td>\n",
              "      <td>-2.041484</td>\n",
              "      <td>-1.523603</td>\n",
              "      <td>1.165630</td>\n",
              "      <td>3.849985</td>\n",
              "      <td>0.830595</td>\n",
              "      <td>2.296211</td>\n",
              "      <td>-0.587605</td>\n",
              "      <td>1.104186</td>\n",
              "      <td>-0.681851</td>\n",
              "    </tr>\n",
              "    <tr>\n",
              "      <th>1</th>\n",
              "      <td>-15.971143</td>\n",
              "      <td>-15.432191</td>\n",
              "      <td>-32.061045</td>\n",
              "      <td>-29.377546</td>\n",
              "      <td>-8.856750</td>\n",
              "      <td>16.612036</td>\n",
              "      <td>4.018346</td>\n",
              "      <td>-9.285566</td>\n",
              "      <td>-24.787766</td>\n",
              "      <td>-14.310316</td>\n",
              "      <td>-7.081939</td>\n",
              "      <td>-6.554999</td>\n",
              "      <td>-17.514326</td>\n",
              "      <td>12.673051</td>\n",
              "      <td>-10.707682</td>\n",
              "      <td>25.228763</td>\n",
              "      <td>0.435692</td>\n",
              "      <td>17.426256</td>\n",
              "      <td>-12.483955</td>\n",
              "      <td>1.874893</td>\n",
              "      <td>3.739397</td>\n",
              "      <td>-5.517330</td>\n",
              "      <td>-3.544084</td>\n",
              "      <td>-2.838839</td>\n",
              "      <td>-7.951403</td>\n",
              "      <td>-3.017424</td>\n",
              "      <td>26.522082</td>\n",
              "      <td>2.473416</td>\n",
              "      <td>1.399002</td>\n",
              "      <td>7.772540</td>\n",
              "      <td>-7.146870</td>\n",
              "      <td>-1.874910</td>\n",
              "      <td>26.551375</td>\n",
              "      <td>0.636265</td>\n",
              "      <td>-10.068891</td>\n",
              "      <td>9.494622</td>\n",
              "      <td>2.448461</td>\n",
              "      <td>-0.074939</td>\n",
              "      <td>2.973074</td>\n",
              "      <td>0.973043</td>\n",
              "      <td>...</td>\n",
              "      <td>1.712946</td>\n",
              "      <td>0.459514</td>\n",
              "      <td>-1.154029</td>\n",
              "      <td>1.362965</td>\n",
              "      <td>-0.292343</td>\n",
              "      <td>1.711341</td>\n",
              "      <td>-3.314600</td>\n",
              "      <td>1.186201</td>\n",
              "      <td>-0.761270</td>\n",
              "      <td>1.967775</td>\n",
              "      <td>-1.711119</td>\n",
              "      <td>-1.152581</td>\n",
              "      <td>-1.799869</td>\n",
              "      <td>5.081633</td>\n",
              "      <td>0.909640</td>\n",
              "      <td>2.573330</td>\n",
              "      <td>-0.717697</td>\n",
              "      <td>2.396999</td>\n",
              "      <td>-1.245896</td>\n",
              "      <td>1.273799</td>\n",
              "      <td>-4.674970</td>\n",
              "      <td>1.203149</td>\n",
              "      <td>-1.520096</td>\n",
              "      <td>2.805260</td>\n",
              "      <td>-2.638399</td>\n",
              "      <td>-2.448532</td>\n",
              "      <td>3.794638</td>\n",
              "      <td>0.097845</td>\n",
              "      <td>-1.164509</td>\n",
              "      <td>-0.471169</td>\n",
              "      <td>1.377405</td>\n",
              "      <td>-0.853287</td>\n",
              "      <td>1.338591</td>\n",
              "      <td>-0.357237</td>\n",
              "      <td>-0.633683</td>\n",
              "      <td>-0.800436</td>\n",
              "      <td>0.810011</td>\n",
              "      <td>1.340168</td>\n",
              "      <td>-0.798210</td>\n",
              "      <td>-1.223037</td>\n",
              "    </tr>\n",
              "    <tr>\n",
              "      <th>2</th>\n",
              "      <td>-17.454315</td>\n",
              "      <td>-21.192113</td>\n",
              "      <td>-16.013777</td>\n",
              "      <td>-7.492020</td>\n",
              "      <td>-17.781708</td>\n",
              "      <td>1.319311</td>\n",
              "      <td>4.626225</td>\n",
              "      <td>-36.678655</td>\n",
              "      <td>11.585110</td>\n",
              "      <td>-7.570376</td>\n",
              "      <td>19.811831</td>\n",
              "      <td>2.021583</td>\n",
              "      <td>4.881035</td>\n",
              "      <td>21.767445</td>\n",
              "      <td>-18.117848</td>\n",
              "      <td>-2.266797</td>\n",
              "      <td>-3.254472</td>\n",
              "      <td>-10.264998</td>\n",
              "      <td>-0.934028</td>\n",
              "      <td>-6.740692</td>\n",
              "      <td>-17.375263</td>\n",
              "      <td>-3.659842</td>\n",
              "      <td>-8.297658</td>\n",
              "      <td>6.420469</td>\n",
              "      <td>-0.993854</td>\n",
              "      <td>-8.072056</td>\n",
              "      <td>12.528807</td>\n",
              "      <td>-1.977940</td>\n",
              "      <td>0.149557</td>\n",
              "      <td>4.161107</td>\n",
              "      <td>-1.021197</td>\n",
              "      <td>10.186300</td>\n",
              "      <td>15.009833</td>\n",
              "      <td>-4.688344</td>\n",
              "      <td>-2.201153</td>\n",
              "      <td>1.599327</td>\n",
              "      <td>4.277693</td>\n",
              "      <td>-6.324380</td>\n",
              "      <td>8.316996</td>\n",
              "      <td>-4.912895</td>\n",
              "      <td>...</td>\n",
              "      <td>-1.223901</td>\n",
              "      <td>-2.106331</td>\n",
              "      <td>-0.760177</td>\n",
              "      <td>4.843342</td>\n",
              "      <td>1.107638</td>\n",
              "      <td>-3.017967</td>\n",
              "      <td>-4.648905</td>\n",
              "      <td>3.048092</td>\n",
              "      <td>3.027965</td>\n",
              "      <td>1.616979</td>\n",
              "      <td>1.536353</td>\n",
              "      <td>0.178778</td>\n",
              "      <td>-6.406843</td>\n",
              "      <td>-3.523737</td>\n",
              "      <td>-7.151367</td>\n",
              "      <td>2.861658</td>\n",
              "      <td>-0.710840</td>\n",
              "      <td>0.887883</td>\n",
              "      <td>2.172923</td>\n",
              "      <td>-3.507742</td>\n",
              "      <td>0.220902</td>\n",
              "      <td>6.292423</td>\n",
              "      <td>3.639012</td>\n",
              "      <td>-1.003250</td>\n",
              "      <td>-6.437326</td>\n",
              "      <td>-5.065095</td>\n",
              "      <td>3.611600</td>\n",
              "      <td>-5.531053</td>\n",
              "      <td>3.632939</td>\n",
              "      <td>2.509875</td>\n",
              "      <td>0.962723</td>\n",
              "      <td>-0.661134</td>\n",
              "      <td>3.081940</td>\n",
              "      <td>0.892814</td>\n",
              "      <td>5.178428</td>\n",
              "      <td>3.467530</td>\n",
              "      <td>-2.803851</td>\n",
              "      <td>0.724807</td>\n",
              "      <td>0.088289</td>\n",
              "      <td>-0.697837</td>\n",
              "    </tr>\n",
              "    <tr>\n",
              "      <th>3</th>\n",
              "      <td>9.403215</td>\n",
              "      <td>-31.463949</td>\n",
              "      <td>-55.388704</td>\n",
              "      <td>-13.005234</td>\n",
              "      <td>11.937277</td>\n",
              "      <td>2.109379</td>\n",
              "      <td>22.726782</td>\n",
              "      <td>-1.859580</td>\n",
              "      <td>-4.650795</td>\n",
              "      <td>19.247580</td>\n",
              "      <td>33.419527</td>\n",
              "      <td>-8.320536</td>\n",
              "      <td>-9.179945</td>\n",
              "      <td>18.181183</td>\n",
              "      <td>11.843317</td>\n",
              "      <td>-5.115540</td>\n",
              "      <td>13.371169</td>\n",
              "      <td>10.410103</td>\n",
              "      <td>-15.389495</td>\n",
              "      <td>8.911308</td>\n",
              "      <td>-5.011614</td>\n",
              "      <td>8.180363</td>\n",
              "      <td>-0.863175</td>\n",
              "      <td>-1.473165</td>\n",
              "      <td>-16.251194</td>\n",
              "      <td>15.238271</td>\n",
              "      <td>-4.195064</td>\n",
              "      <td>8.499034</td>\n",
              "      <td>-5.676389</td>\n",
              "      <td>21.660309</td>\n",
              "      <td>-12.684467</td>\n",
              "      <td>-1.505352</td>\n",
              "      <td>-4.765341</td>\n",
              "      <td>-21.259345</td>\n",
              "      <td>-15.513800</td>\n",
              "      <td>-6.844603</td>\n",
              "      <td>-7.498684</td>\n",
              "      <td>16.295027</td>\n",
              "      <td>-5.931322</td>\n",
              "      <td>2.460076</td>\n",
              "      <td>...</td>\n",
              "      <td>-0.092010</td>\n",
              "      <td>1.288850</td>\n",
              "      <td>-0.771033</td>\n",
              "      <td>-0.124556</td>\n",
              "      <td>2.146973</td>\n",
              "      <td>-0.100798</td>\n",
              "      <td>0.769674</td>\n",
              "      <td>-0.516486</td>\n",
              "      <td>0.006709</td>\n",
              "      <td>-0.375824</td>\n",
              "      <td>-0.409659</td>\n",
              "      <td>2.292354</td>\n",
              "      <td>2.192934</td>\n",
              "      <td>1.570428</td>\n",
              "      <td>-2.199516</td>\n",
              "      <td>1.518836</td>\n",
              "      <td>-0.359485</td>\n",
              "      <td>1.144210</td>\n",
              "      <td>-1.209053</td>\n",
              "      <td>-1.217388</td>\n",
              "      <td>-0.313915</td>\n",
              "      <td>0.477952</td>\n",
              "      <td>1.541564</td>\n",
              "      <td>-3.130664</td>\n",
              "      <td>1.898384</td>\n",
              "      <td>0.805003</td>\n",
              "      <td>0.169660</td>\n",
              "      <td>1.693436</td>\n",
              "      <td>0.512796</td>\n",
              "      <td>-1.919766</td>\n",
              "      <td>2.544370</td>\n",
              "      <td>1.500939</td>\n",
              "      <td>-0.416430</td>\n",
              "      <td>-1.754322</td>\n",
              "      <td>3.016699</td>\n",
              "      <td>1.359719</td>\n",
              "      <td>-1.948353</td>\n",
              "      <td>2.346100</td>\n",
              "      <td>-1.001102</td>\n",
              "      <td>-0.767950</td>\n",
              "    </tr>\n",
              "    <tr>\n",
              "      <th>4</th>\n",
              "      <td>31.050602</td>\n",
              "      <td>-19.567061</td>\n",
              "      <td>-34.221343</td>\n",
              "      <td>2.309418</td>\n",
              "      <td>4.511127</td>\n",
              "      <td>-11.072959</td>\n",
              "      <td>24.240261</td>\n",
              "      <td>-10.302817</td>\n",
              "      <td>76.885148</td>\n",
              "      <td>12.591329</td>\n",
              "      <td>-16.085720</td>\n",
              "      <td>-39.863072</td>\n",
              "      <td>0.742399</td>\n",
              "      <td>17.884162</td>\n",
              "      <td>2.928844</td>\n",
              "      <td>6.740508</td>\n",
              "      <td>0.200073</td>\n",
              "      <td>-7.967774</td>\n",
              "      <td>-2.348785</td>\n",
              "      <td>14.305014</td>\n",
              "      <td>-13.524745</td>\n",
              "      <td>25.335851</td>\n",
              "      <td>3.131419</td>\n",
              "      <td>9.922605</td>\n",
              "      <td>0.675627</td>\n",
              "      <td>18.532697</td>\n",
              "      <td>26.519733</td>\n",
              "      <td>-26.763888</td>\n",
              "      <td>9.976703</td>\n",
              "      <td>-0.359545</td>\n",
              "      <td>-7.667654</td>\n",
              "      <td>-0.970275</td>\n",
              "      <td>12.245801</td>\n",
              "      <td>-6.540787</td>\n",
              "      <td>-3.143797</td>\n",
              "      <td>-11.420626</td>\n",
              "      <td>14.281943</td>\n",
              "      <td>-7.947586</td>\n",
              "      <td>-9.617343</td>\n",
              "      <td>4.053053</td>\n",
              "      <td>...</td>\n",
              "      <td>-3.589104</td>\n",
              "      <td>1.847147</td>\n",
              "      <td>-0.733278</td>\n",
              "      <td>-0.481472</td>\n",
              "      <td>-0.918108</td>\n",
              "      <td>-0.539586</td>\n",
              "      <td>0.339071</td>\n",
              "      <td>-1.332511</td>\n",
              "      <td>1.841690</td>\n",
              "      <td>0.360389</td>\n",
              "      <td>0.112321</td>\n",
              "      <td>-0.591697</td>\n",
              "      <td>1.279476</td>\n",
              "      <td>0.924937</td>\n",
              "      <td>2.928568</td>\n",
              "      <td>1.137887</td>\n",
              "      <td>-2.002914</td>\n",
              "      <td>-1.706336</td>\n",
              "      <td>-0.932219</td>\n",
              "      <td>2.249456</td>\n",
              "      <td>0.885998</td>\n",
              "      <td>0.199827</td>\n",
              "      <td>-0.591424</td>\n",
              "      <td>0.917941</td>\n",
              "      <td>0.437327</td>\n",
              "      <td>-0.754262</td>\n",
              "      <td>-2.838251</td>\n",
              "      <td>-1.344463</td>\n",
              "      <td>1.040502</td>\n",
              "      <td>-0.017288</td>\n",
              "      <td>0.316683</td>\n",
              "      <td>-1.710517</td>\n",
              "      <td>0.157005</td>\n",
              "      <td>0.567768</td>\n",
              "      <td>-2.639316</td>\n",
              "      <td>-1.375761</td>\n",
              "      <td>2.002999</td>\n",
              "      <td>1.045849</td>\n",
              "      <td>1.188230</td>\n",
              "      <td>-0.111120</td>\n",
              "    </tr>\n",
              "    <tr>\n",
              "      <th>...</th>\n",
              "      <td>...</td>\n",
              "      <td>...</td>\n",
              "      <td>...</td>\n",
              "      <td>...</td>\n",
              "      <td>...</td>\n",
              "      <td>...</td>\n",
              "      <td>...</td>\n",
              "      <td>...</td>\n",
              "      <td>...</td>\n",
              "      <td>...</td>\n",
              "      <td>...</td>\n",
              "      <td>...</td>\n",
              "      <td>...</td>\n",
              "      <td>...</td>\n",
              "      <td>...</td>\n",
              "      <td>...</td>\n",
              "      <td>...</td>\n",
              "      <td>...</td>\n",
              "      <td>...</td>\n",
              "      <td>...</td>\n",
              "      <td>...</td>\n",
              "      <td>...</td>\n",
              "      <td>...</td>\n",
              "      <td>...</td>\n",
              "      <td>...</td>\n",
              "      <td>...</td>\n",
              "      <td>...</td>\n",
              "      <td>...</td>\n",
              "      <td>...</td>\n",
              "      <td>...</td>\n",
              "      <td>...</td>\n",
              "      <td>...</td>\n",
              "      <td>...</td>\n",
              "      <td>...</td>\n",
              "      <td>...</td>\n",
              "      <td>...</td>\n",
              "      <td>...</td>\n",
              "      <td>...</td>\n",
              "      <td>...</td>\n",
              "      <td>...</td>\n",
              "      <td>...</td>\n",
              "      <td>...</td>\n",
              "      <td>...</td>\n",
              "      <td>...</td>\n",
              "      <td>...</td>\n",
              "      <td>...</td>\n",
              "      <td>...</td>\n",
              "      <td>...</td>\n",
              "      <td>...</td>\n",
              "      <td>...</td>\n",
              "      <td>...</td>\n",
              "      <td>...</td>\n",
              "      <td>...</td>\n",
              "      <td>...</td>\n",
              "      <td>...</td>\n",
              "      <td>...</td>\n",
              "      <td>...</td>\n",
              "      <td>...</td>\n",
              "      <td>...</td>\n",
              "      <td>...</td>\n",
              "      <td>...</td>\n",
              "      <td>...</td>\n",
              "      <td>...</td>\n",
              "      <td>...</td>\n",
              "      <td>...</td>\n",
              "      <td>...</td>\n",
              "      <td>...</td>\n",
              "      <td>...</td>\n",
              "      <td>...</td>\n",
              "      <td>...</td>\n",
              "      <td>...</td>\n",
              "      <td>...</td>\n",
              "      <td>...</td>\n",
              "      <td>...</td>\n",
              "      <td>...</td>\n",
              "      <td>...</td>\n",
              "      <td>...</td>\n",
              "      <td>...</td>\n",
              "      <td>...</td>\n",
              "      <td>...</td>\n",
              "      <td>...</td>\n",
              "    </tr>\n",
              "    <tr>\n",
              "      <th>1514</th>\n",
              "      <td>21.992153</td>\n",
              "      <td>-26.725342</td>\n",
              "      <td>10.386142</td>\n",
              "      <td>27.545856</td>\n",
              "      <td>-51.721078</td>\n",
              "      <td>-0.349418</td>\n",
              "      <td>-11.573459</td>\n",
              "      <td>-0.207799</td>\n",
              "      <td>37.603720</td>\n",
              "      <td>19.512866</td>\n",
              "      <td>8.224627</td>\n",
              "      <td>-13.990960</td>\n",
              "      <td>-0.623962</td>\n",
              "      <td>11.290069</td>\n",
              "      <td>-12.220848</td>\n",
              "      <td>7.210228</td>\n",
              "      <td>5.010695</td>\n",
              "      <td>-1.157551</td>\n",
              "      <td>-3.114871</td>\n",
              "      <td>6.205722</td>\n",
              "      <td>-1.869636</td>\n",
              "      <td>-2.703658</td>\n",
              "      <td>3.516239</td>\n",
              "      <td>13.377535</td>\n",
              "      <td>-25.696071</td>\n",
              "      <td>-3.756289</td>\n",
              "      <td>6.455491</td>\n",
              "      <td>9.953161</td>\n",
              "      <td>1.597447</td>\n",
              "      <td>-4.843833</td>\n",
              "      <td>7.757865</td>\n",
              "      <td>-20.782249</td>\n",
              "      <td>-6.603405</td>\n",
              "      <td>-0.395071</td>\n",
              "      <td>-4.913255</td>\n",
              "      <td>5.420347</td>\n",
              "      <td>-8.206487</td>\n",
              "      <td>6.071047</td>\n",
              "      <td>0.979032</td>\n",
              "      <td>9.507039</td>\n",
              "      <td>...</td>\n",
              "      <td>-1.373002</td>\n",
              "      <td>-4.014565</td>\n",
              "      <td>-2.804485</td>\n",
              "      <td>3.859046</td>\n",
              "      <td>2.086981</td>\n",
              "      <td>-2.389005</td>\n",
              "      <td>0.922199</td>\n",
              "      <td>-3.330639</td>\n",
              "      <td>1.790376</td>\n",
              "      <td>-3.220674</td>\n",
              "      <td>1.417241</td>\n",
              "      <td>-4.486452</td>\n",
              "      <td>0.832927</td>\n",
              "      <td>0.075750</td>\n",
              "      <td>2.020357</td>\n",
              "      <td>2.116715</td>\n",
              "      <td>3.065262</td>\n",
              "      <td>1.769906</td>\n",
              "      <td>-3.160950</td>\n",
              "      <td>3.306006</td>\n",
              "      <td>0.654400</td>\n",
              "      <td>-1.459693</td>\n",
              "      <td>-0.899242</td>\n",
              "      <td>-1.032222</td>\n",
              "      <td>-0.895284</td>\n",
              "      <td>2.839240</td>\n",
              "      <td>3.801794</td>\n",
              "      <td>-2.363556</td>\n",
              "      <td>-1.577217</td>\n",
              "      <td>2.151952</td>\n",
              "      <td>3.657515</td>\n",
              "      <td>-0.572620</td>\n",
              "      <td>-3.662835</td>\n",
              "      <td>-1.471572</td>\n",
              "      <td>0.955529</td>\n",
              "      <td>1.506000</td>\n",
              "      <td>1.406254</td>\n",
              "      <td>1.812851</td>\n",
              "      <td>-1.285655</td>\n",
              "      <td>-1.460465</td>\n",
              "    </tr>\n",
              "    <tr>\n",
              "      <th>1515</th>\n",
              "      <td>3.211706</td>\n",
              "      <td>-28.356290</td>\n",
              "      <td>-12.806278</td>\n",
              "      <td>6.597237</td>\n",
              "      <td>-43.012148</td>\n",
              "      <td>5.788852</td>\n",
              "      <td>-4.323447</td>\n",
              "      <td>20.389344</td>\n",
              "      <td>-3.250312</td>\n",
              "      <td>26.031472</td>\n",
              "      <td>14.198458</td>\n",
              "      <td>-29.099599</td>\n",
              "      <td>-24.375101</td>\n",
              "      <td>3.060458</td>\n",
              "      <td>11.867502</td>\n",
              "      <td>9.294799</td>\n",
              "      <td>-4.432798</td>\n",
              "      <td>0.525880</td>\n",
              "      <td>-14.120993</td>\n",
              "      <td>15.086022</td>\n",
              "      <td>-2.725043</td>\n",
              "      <td>-3.197949</td>\n",
              "      <td>-5.111664</td>\n",
              "      <td>0.764576</td>\n",
              "      <td>-18.379479</td>\n",
              "      <td>14.632445</td>\n",
              "      <td>18.478776</td>\n",
              "      <td>-6.443371</td>\n",
              "      <td>-5.675075</td>\n",
              "      <td>-10.717423</td>\n",
              "      <td>10.406933</td>\n",
              "      <td>-15.237604</td>\n",
              "      <td>-11.748827</td>\n",
              "      <td>15.910717</td>\n",
              "      <td>1.792067</td>\n",
              "      <td>8.056251</td>\n",
              "      <td>0.743712</td>\n",
              "      <td>5.627381</td>\n",
              "      <td>-2.057568</td>\n",
              "      <td>4.583938</td>\n",
              "      <td>...</td>\n",
              "      <td>-1.736091</td>\n",
              "      <td>2.542729</td>\n",
              "      <td>-6.543942</td>\n",
              "      <td>1.057042</td>\n",
              "      <td>-5.577497</td>\n",
              "      <td>3.470719</td>\n",
              "      <td>-0.719830</td>\n",
              "      <td>0.583278</td>\n",
              "      <td>2.413555</td>\n",
              "      <td>-3.612696</td>\n",
              "      <td>0.724630</td>\n",
              "      <td>4.878484</td>\n",
              "      <td>2.691493</td>\n",
              "      <td>1.877362</td>\n",
              "      <td>-1.223104</td>\n",
              "      <td>2.046222</td>\n",
              "      <td>-3.871376</td>\n",
              "      <td>2.976861</td>\n",
              "      <td>2.660876</td>\n",
              "      <td>-2.908008</td>\n",
              "      <td>-2.949071</td>\n",
              "      <td>0.059558</td>\n",
              "      <td>2.616552</td>\n",
              "      <td>0.209456</td>\n",
              "      <td>2.296903</td>\n",
              "      <td>-2.500208</td>\n",
              "      <td>-2.477103</td>\n",
              "      <td>3.166189</td>\n",
              "      <td>-1.159688</td>\n",
              "      <td>-1.004797</td>\n",
              "      <td>-1.158866</td>\n",
              "      <td>-1.572541</td>\n",
              "      <td>2.035633</td>\n",
              "      <td>2.851733</td>\n",
              "      <td>-4.225066</td>\n",
              "      <td>-1.492275</td>\n",
              "      <td>0.311586</td>\n",
              "      <td>1.682759</td>\n",
              "      <td>-1.113541</td>\n",
              "      <td>-0.170012</td>\n",
              "    </tr>\n",
              "    <tr>\n",
              "      <th>1516</th>\n",
              "      <td>4.299894</td>\n",
              "      <td>-27.846447</td>\n",
              "      <td>6.805855</td>\n",
              "      <td>-29.440995</td>\n",
              "      <td>5.932578</td>\n",
              "      <td>-21.908640</td>\n",
              "      <td>-29.969846</td>\n",
              "      <td>10.001357</td>\n",
              "      <td>-20.480234</td>\n",
              "      <td>-3.836214</td>\n",
              "      <td>13.872193</td>\n",
              "      <td>-7.675932</td>\n",
              "      <td>-1.593682</td>\n",
              "      <td>11.227429</td>\n",
              "      <td>-6.372293</td>\n",
              "      <td>-4.913863</td>\n",
              "      <td>-17.764805</td>\n",
              "      <td>17.618947</td>\n",
              "      <td>0.903395</td>\n",
              "      <td>-3.489989</td>\n",
              "      <td>5.884934</td>\n",
              "      <td>9.194577</td>\n",
              "      <td>19.901359</td>\n",
              "      <td>13.257570</td>\n",
              "      <td>18.862325</td>\n",
              "      <td>-0.193603</td>\n",
              "      <td>0.495639</td>\n",
              "      <td>-22.997443</td>\n",
              "      <td>0.747883</td>\n",
              "      <td>-10.631694</td>\n",
              "      <td>-14.910064</td>\n",
              "      <td>10.615247</td>\n",
              "      <td>7.041711</td>\n",
              "      <td>-0.708457</td>\n",
              "      <td>2.602220</td>\n",
              "      <td>1.771115</td>\n",
              "      <td>6.504472</td>\n",
              "      <td>-8.382605</td>\n",
              "      <td>5.058258</td>\n",
              "      <td>7.884575</td>\n",
              "      <td>...</td>\n",
              "      <td>-0.802906</td>\n",
              "      <td>-0.615119</td>\n",
              "      <td>-4.462750</td>\n",
              "      <td>-3.139214</td>\n",
              "      <td>0.694892</td>\n",
              "      <td>-0.646544</td>\n",
              "      <td>0.543965</td>\n",
              "      <td>-0.220255</td>\n",
              "      <td>-1.677309</td>\n",
              "      <td>-4.664063</td>\n",
              "      <td>-1.232945</td>\n",
              "      <td>-1.258065</td>\n",
              "      <td>0.289945</td>\n",
              "      <td>-0.029627</td>\n",
              "      <td>5.142257</td>\n",
              "      <td>-1.529468</td>\n",
              "      <td>3.009125</td>\n",
              "      <td>-1.331849</td>\n",
              "      <td>4.195429</td>\n",
              "      <td>0.581628</td>\n",
              "      <td>-4.069890</td>\n",
              "      <td>1.974886</td>\n",
              "      <td>3.780277</td>\n",
              "      <td>2.403537</td>\n",
              "      <td>-4.846140</td>\n",
              "      <td>6.838473</td>\n",
              "      <td>-4.268048</td>\n",
              "      <td>1.375673</td>\n",
              "      <td>2.346398</td>\n",
              "      <td>1.167981</td>\n",
              "      <td>-5.534545</td>\n",
              "      <td>-6.694011</td>\n",
              "      <td>2.542724</td>\n",
              "      <td>0.434773</td>\n",
              "      <td>1.005210</td>\n",
              "      <td>0.227287</td>\n",
              "      <td>4.890830</td>\n",
              "      <td>4.004635</td>\n",
              "      <td>3.952112</td>\n",
              "      <td>1.351404</td>\n",
              "    </tr>\n",
              "    <tr>\n",
              "      <th>1517</th>\n",
              "      <td>-6.530939</td>\n",
              "      <td>-31.806053</td>\n",
              "      <td>3.004884</td>\n",
              "      <td>-12.275899</td>\n",
              "      <td>-4.924950</td>\n",
              "      <td>4.737140</td>\n",
              "      <td>8.932049</td>\n",
              "      <td>-24.480009</td>\n",
              "      <td>11.251517</td>\n",
              "      <td>8.652508</td>\n",
              "      <td>11.462148</td>\n",
              "      <td>31.069799</td>\n",
              "      <td>10.836858</td>\n",
              "      <td>-20.178103</td>\n",
              "      <td>-4.057462</td>\n",
              "      <td>12.803279</td>\n",
              "      <td>-0.996015</td>\n",
              "      <td>8.422371</td>\n",
              "      <td>7.772120</td>\n",
              "      <td>-10.207946</td>\n",
              "      <td>-20.793827</td>\n",
              "      <td>-2.702391</td>\n",
              "      <td>7.722833</td>\n",
              "      <td>3.502950</td>\n",
              "      <td>5.408319</td>\n",
              "      <td>-4.646116</td>\n",
              "      <td>7.662861</td>\n",
              "      <td>-13.079845</td>\n",
              "      <td>-15.572807</td>\n",
              "      <td>-10.183304</td>\n",
              "      <td>-2.803715</td>\n",
              "      <td>-2.238875</td>\n",
              "      <td>1.268150</td>\n",
              "      <td>0.831990</td>\n",
              "      <td>6.488220</td>\n",
              "      <td>-7.719661</td>\n",
              "      <td>2.909889</td>\n",
              "      <td>11.939694</td>\n",
              "      <td>-6.908893</td>\n",
              "      <td>5.729648</td>\n",
              "      <td>...</td>\n",
              "      <td>-0.868359</td>\n",
              "      <td>2.080502</td>\n",
              "      <td>-0.655135</td>\n",
              "      <td>0.186313</td>\n",
              "      <td>-2.901901</td>\n",
              "      <td>5.863892</td>\n",
              "      <td>-3.809313</td>\n",
              "      <td>-4.582282</td>\n",
              "      <td>-2.425147</td>\n",
              "      <td>0.391883</td>\n",
              "      <td>1.350383</td>\n",
              "      <td>-0.909314</td>\n",
              "      <td>3.330545</td>\n",
              "      <td>5.563901</td>\n",
              "      <td>-3.341595</td>\n",
              "      <td>-1.098228</td>\n",
              "      <td>6.408847</td>\n",
              "      <td>4.290693</td>\n",
              "      <td>-4.939100</td>\n",
              "      <td>2.478339</td>\n",
              "      <td>0.545338</td>\n",
              "      <td>-0.601208</td>\n",
              "      <td>1.711929</td>\n",
              "      <td>-6.629265</td>\n",
              "      <td>-4.108650</td>\n",
              "      <td>-3.902229</td>\n",
              "      <td>-2.726075</td>\n",
              "      <td>0.239756</td>\n",
              "      <td>-0.313276</td>\n",
              "      <td>-2.069495</td>\n",
              "      <td>0.683964</td>\n",
              "      <td>1.229987</td>\n",
              "      <td>0.178008</td>\n",
              "      <td>-1.301467</td>\n",
              "      <td>-1.804626</td>\n",
              "      <td>7.436036</td>\n",
              "      <td>-5.194236</td>\n",
              "      <td>3.481211</td>\n",
              "      <td>1.066395</td>\n",
              "      <td>2.926022</td>\n",
              "    </tr>\n",
              "    <tr>\n",
              "      <th>1518</th>\n",
              "      <td>-46.306641</td>\n",
              "      <td>-35.060236</td>\n",
              "      <td>11.861189</td>\n",
              "      <td>-2.677880</td>\n",
              "      <td>-17.590168</td>\n",
              "      <td>-6.206518</td>\n",
              "      <td>3.965923</td>\n",
              "      <td>-25.036391</td>\n",
              "      <td>3.455324</td>\n",
              "      <td>7.824520</td>\n",
              "      <td>13.107588</td>\n",
              "      <td>13.219520</td>\n",
              "      <td>0.167520</td>\n",
              "      <td>11.963504</td>\n",
              "      <td>0.154027</td>\n",
              "      <td>-22.722417</td>\n",
              "      <td>-12.287664</td>\n",
              "      <td>-0.994744</td>\n",
              "      <td>-7.491039</td>\n",
              "      <td>-3.411479</td>\n",
              "      <td>1.805049</td>\n",
              "      <td>0.803882</td>\n",
              "      <td>3.626419</td>\n",
              "      <td>2.437284</td>\n",
              "      <td>-5.645299</td>\n",
              "      <td>-5.555996</td>\n",
              "      <td>-4.260596</td>\n",
              "      <td>-5.249683</td>\n",
              "      <td>-0.984951</td>\n",
              "      <td>-0.269852</td>\n",
              "      <td>0.863467</td>\n",
              "      <td>-3.741316</td>\n",
              "      <td>-8.740986</td>\n",
              "      <td>-2.417644</td>\n",
              "      <td>-0.371434</td>\n",
              "      <td>-5.513356</td>\n",
              "      <td>-3.049793</td>\n",
              "      <td>0.970366</td>\n",
              "      <td>-8.019419</td>\n",
              "      <td>1.427824</td>\n",
              "      <td>...</td>\n",
              "      <td>0.624091</td>\n",
              "      <td>-4.532720</td>\n",
              "      <td>1.942832</td>\n",
              "      <td>0.429809</td>\n",
              "      <td>-6.374233</td>\n",
              "      <td>-4.283627</td>\n",
              "      <td>-1.714472</td>\n",
              "      <td>-5.746897</td>\n",
              "      <td>2.777995</td>\n",
              "      <td>1.336527</td>\n",
              "      <td>1.151571</td>\n",
              "      <td>2.064710</td>\n",
              "      <td>0.866293</td>\n",
              "      <td>-1.777623</td>\n",
              "      <td>4.307442</td>\n",
              "      <td>-3.512684</td>\n",
              "      <td>-2.055981</td>\n",
              "      <td>-1.831641</td>\n",
              "      <td>-6.419211</td>\n",
              "      <td>-1.059178</td>\n",
              "      <td>-0.828829</td>\n",
              "      <td>3.188480</td>\n",
              "      <td>-3.665194</td>\n",
              "      <td>-0.331267</td>\n",
              "      <td>1.476040</td>\n",
              "      <td>0.641885</td>\n",
              "      <td>0.995210</td>\n",
              "      <td>-4.586090</td>\n",
              "      <td>0.314750</td>\n",
              "      <td>-3.719686</td>\n",
              "      <td>1.016090</td>\n",
              "      <td>0.719031</td>\n",
              "      <td>4.234639</td>\n",
              "      <td>1.581662</td>\n",
              "      <td>0.632617</td>\n",
              "      <td>-5.386083</td>\n",
              "      <td>-3.040911</td>\n",
              "      <td>-4.273120</td>\n",
              "      <td>-3.300487</td>\n",
              "      <td>-1.503549</td>\n",
              "    </tr>\n",
              "  </tbody>\n",
              "</table>\n",
              "<p>1519 rows × 1082 columns</p>\n",
              "</div>"
            ],
            "text/plain": [
              "           0          1          2     ...      1079      1080      1081\n",
              "0      3.696282 -35.520444 -18.813925  ... -0.587605  1.104186 -0.681851\n",
              "1    -15.971143 -15.432191 -32.061045  ...  1.340168 -0.798210 -1.223037\n",
              "2    -17.454315 -21.192113 -16.013777  ...  0.724807  0.088289 -0.697837\n",
              "3      9.403215 -31.463949 -55.388704  ...  2.346100 -1.001102 -0.767950\n",
              "4     31.050602 -19.567061 -34.221343  ...  1.045849  1.188230 -0.111120\n",
              "...         ...        ...        ...  ...       ...       ...       ...\n",
              "1514  21.992153 -26.725342  10.386142  ...  1.812851 -1.285655 -1.460465\n",
              "1515   3.211706 -28.356290 -12.806278  ...  1.682759 -1.113541 -0.170012\n",
              "1516   4.299894 -27.846447   6.805855  ...  4.004635  3.952112  1.351404\n",
              "1517  -6.530939 -31.806053   3.004884  ...  3.481211  1.066395  2.926022\n",
              "1518 -46.306641 -35.060236  11.861189  ... -4.273120 -3.300487 -1.503549\n",
              "\n",
              "[1519 rows x 1082 columns]"
            ]
          },
          "metadata": {
            "tags": []
          },
          "execution_count": 29
        }
      ]
    },
    {
      "cell_type": "markdown",
      "metadata": {
        "colab_type": "text",
        "id": "fjoKMBrkfkC6"
      },
      "source": [
        "**Determine the exact number of n_components needed to capture 0.9 variance**"
      ]
    },
    {
      "cell_type": "code",
      "metadata": {
        "colab_type": "code",
        "id": "O263KB9PfkDA",
        "colab": {
          "base_uri": "https://localhost:8080/",
          "height": 34
        },
        "outputId": "4fca50e5-0547-4b5b-8352-bcaf1256fbe4"
      },
      "source": [
        "pca.n_components_"
      ],
      "execution_count": 30,
      "outputs": [
        {
          "output_type": "execute_result",
          "data": {
            "text/plain": [
              "1082"
            ]
          },
          "metadata": {
            "tags": []
          },
          "execution_count": 30
        }
      ]
    },
    {
      "cell_type": "markdown",
      "metadata": {
        "colab_type": "text",
        "id": "N_phdwqSfkDR"
      },
      "source": [
        "This function indicates that 1082 is the number of principal components needed to capture 90% of the variation which is what I had estimated from the above plot."
      ]
    },
    {
      "cell_type": "markdown",
      "metadata": {
        "id": "u-8HMNYOfb-T",
        "colab_type": "text"
      },
      "source": [
        "**Scree Plot**\n",
        "\n",
        "View which principal components contribute most to the variance "
      ]
    },
    {
      "cell_type": "code",
      "metadata": {
        "id": "5Naiy12_fmgd",
        "colab_type": "code",
        "colab": {
          "base_uri": "https://localhost:8080/",
          "height": 294
        },
        "outputId": "e13edb1b-3216-4a3b-f479-529fdb33c56e"
      },
      "source": [
        "# remove PC from \n",
        "per_var = np.round(pca.explained_variance_ratio_* 100, decimals=1)\n",
        "per_var = per_var[:10] #top 10 PC - this number is chosen just so that we can more easily view the plot\n",
        "labels = col_names[:10]\n",
        "\n",
        "plt.bar(x=range(1, len(per_var)+1), height = per_var, tick_label = labels)\n",
        "plt.ylabel('Percentage of Explained Variance')\n",
        "plt.xlabel('Prinicpal Component')\n",
        "plt.title('Scree Plot')\n",
        "plt.show()"
      ],
      "execution_count": 31,
      "outputs": [
        {
          "output_type": "display_data",
          "data": {
            "image/png": "[encoded data removed]",
            "text/plain": [
              "<Figure size 432x288 with 1 Axes>"
            ]
          },
          "metadata": {
            "tags": []
          }
        }
      ]
    },
    {
      "cell_type": "markdown",
      "metadata": {
        "id": "jRoImRth9d7x",
        "colab_type": "text"
      },
      "source": [
        "**Table with % Variance for the 1082 PCs making up 90% of the variance**"
      ]
    },
    {
      "cell_type": "code",
      "metadata": {
        "id": "_CSeS-DT9lqH",
        "colab_type": "code",
        "colab": {
          "base_uri": "https://localhost:8080/",
          "height": 265
        },
        "outputId": "99b82f81-6a19-4359-dc13-a00a9681323d"
      },
      "source": [
        "per_var_all = np.round(pca.explained_variance_ratio_* 100, decimals=1)\n",
        "per_var_all.shape # this shows the % variance explained for each component\n",
        "\n",
        "# convert to dataframe\n",
        "per_var_all = pd.DataFrame(per_var_all)\n",
        "\n",
        "# add prinicipal component labels\n",
        "per_var_all.index = col_names[:1082]\n",
        "\n",
        "# rename column 0\n",
        "cols = {'% Variance'}\n",
        "per_var_all.columns = cols\n",
        "\n",
        "# create a rolling calculation of the variance \n",
        "per_var_all['CumulativeVariance'] = per_var_all['% Variance'].cumsum()\n",
        "print(per_var_all)\n",
        "\n",
        "# save to csv \n",
        "per_var_all.to_csv('/content/drive/My Drive/Projects/Breast_Cancer_Classification/Processed_Data/component_variance_chart_90_1082.txt')"
      ],
      "execution_count": 32,
      "outputs": [
        {
          "output_type": "stream",
          "text": [
            "        % Variance  CumulativeVariance\n",
            "pc1            5.1                 5.1\n",
            "pc2            4.3                 9.4\n",
            "pc3            3.2                12.6\n",
            "pc4            2.2                14.8\n",
            "pc5            2.1                16.9\n",
            "...            ...                 ...\n",
            "pc1078         0.0                75.1\n",
            "pc1079         0.0                75.1\n",
            "pc1080         0.0                75.1\n",
            "pc1081         0.0                75.1\n",
            "pc1082         0.0                75.1\n",
            "\n",
            "[1082 rows x 2 columns]\n"
          ],
          "name": "stdout"
        }
      ]
    },
    {
      "cell_type": "markdown",
      "metadata": {
        "id": "kbKCKk7EklZW",
        "colab_type": "text"
      },
      "source": [
        "**Draw PCA Plot**\n",
        "\n",
        "With the two primary principal components\n",
        "\n",
        "References: \n",
        "\n",
        "https://www.datacamp.com/community/tutorials/principal-component-analysis-in-python\n",
        "\n",
        "https://towardsdatascience.com/pca-using-python-scikit-learn-e653f8989e60"
      ]
    },
    {
      "cell_type": "code",
      "metadata": {
        "id": "Ju-lFlNjkqrl",
        "colab_type": "code",
        "colab": {
          "base_uri": "https://localhost:8080/",
          "height": 294
        },
        "outputId": "57a0d2d5-6429-4b9c-eaa6-44f229aa2ab2"
      },
      "source": [
        "# Can use the function below with .sample to select a subset of PC components, making it more readible\n",
        "principalDf_samp = principalDf.sample(n = 500) # will need to change the dataframe principalDf below to prinicpalDf_samp if I use this function\n",
        "\n",
        "#plt.scatter(principalDf.pc1, principalDf.pc2)\n",
        "plt.title('Principal Components')\n",
        "plt.xlabel('PC1 - {0}%'.format(per_var[0]))\n",
        "plt.ylabel('PC2 - {0}%'.format(per_var[1]))\n",
        "\n",
        "# Replace Labels\n",
        "clinical_gene = clinical_gene.set_index(clinical_gene.patient_id)\n",
        "clinical_gene['vital_status'].replace(0, 'Lived',inplace=True)\n",
        "clinical_gene['vital_status'].replace(1, 'Died',inplace=True)\n",
        "\n",
        "# Create labels for the targets to be used to color the graphs\n",
        "targets = ['Lived', 'Died']\n",
        "colors = ['b', 'r']\n",
        "\n",
        "for target, color in zip(targets, colors):\n",
        "    indicesToKeep = clinical_gene['vital_status'] == target\n",
        "    plt.scatter(principalDf.loc[indicesToKeep, 'pc1'],\n",
        "                principalDf.loc[indicesToKeep, 'pc2'], c = color)\n",
        "\n",
        "# The labeled numbers are the indiviudal patients samples\n",
        "for sample in principalDf.index:\n",
        "  plt.annotate(sample, (principalDf.pc1.loc[sample], principalDf.pc2.loc[sample])) # my impression is that sample just indicates each row\n",
        "\n",
        "# Subset\n",
        "#sample_50 = principalDf.sample(n = 50)\n",
        "\n",
        "# This plot is interesting -- it looks like it's creating random samples, but still impossing it on the main graph because we are indeicating pc1 and pc2 still which all samples would be under\n",
        "#for sample in sample_50.index:\n",
        "#  plt.annotate(sample, (sample_50.pc1.loc[sample], sample_50.pc2.loc[sample]))\n",
        "#print(sample_50)\n",
        "\n",
        "#print(principalDf.sample) -- I believe sample is returning just all of the row labels -- hard to read though which is why I was trying to subset\n",
        "#print(principalDf.sample(n = 50))"
      ],
      "execution_count": 33,
      "outputs": [
        {
          "output_type": "display_data",
          "data": {
            "image/png": "[encoded data removed]",
            "text/plain": [
              "<Figure size 432x288 with 1 Axes>"
            ]
          },
          "metadata": {
            "tags": []
          }
        }
      ]
    },
    {
      "cell_type": "markdown",
      "metadata": {
        "id": "yj1slhOvq7R2",
        "colab_type": "text"
      },
      "source": [
        "**Determine Relevant Genes**\n",
        "\n",
        "Get the name of the top 10 genes that contribute most to pc1. The following code looks at the components of each pca - which is also called the loading scores. Sorting by the absolute value, allows us to identify which genes, in either the negative or positive direction, had the most infleunce on each prinicipal component.\n",
        "\n",
        "\n",
        "\n",
        "References: \n",
        "\n",
        "https://stackoverflow.com/questions/47370795/pca-on-sklearn-how-to-interpret-pca-components\n",
        "\n",
        "https://www.youtube.com/watch?v=FgakZw6K1QQ"
      ]
    },
    {
      "cell_type": "code",
      "metadata": {
        "id": "5L2d7XvVqimM",
        "colab_type": "code",
        "colab": {
          "base_uri": "https://localhost:8080/",
          "height": 212
        },
        "outputId": "15695b6d-1407-4e20-c6ff-a3cd3a3d65c7"
      },
      "source": [
        "## first, get the loading scores\n",
        "loading_scores = pd.Series(pca.components_[0], index=features)\n",
        "\n",
        "## now sort the loading scores based on their magnitude\n",
        "sorted_loading_scores = loading_scores.abs().sort_values(ascending=False)\n",
        " \n",
        "# get the names of the top 10 genes\n",
        "top_10_genes = sorted_loading_scores[0:10].index.values\n",
        " \n",
        "## print the gene names and their scores (and +/- sign)\n",
        "print(loading_scores[top_10_genes])"
      ],
      "execution_count": 34,
      "outputs": [
        {
          "output_type": "stream",
          "text": [
            "AK025793    0.022785\n",
            "CMTM1      -0.021840\n",
            "CASZ1       0.021708\n",
            "SRGN       -0.021705\n",
            "GLIPR1     -0.021552\n",
            "NCK1       -0.021500\n",
            "TAOK2       0.021433\n",
            "CD58       -0.021379\n",
            "STX7       -0.021231\n",
            "GLRX3      -0.021081\n",
            "dtype: float64\n"
          ],
          "name": "stdout"
        }
      ]
    },
    {
      "cell_type": "markdown",
      "metadata": {
        "id": "EG7w6zxOYM20",
        "colab_type": "text"
      },
      "source": [
        "**Loading Scores Test**\n",
        "\n",
        "We can also validate the above loading scores function by looking at the values obtained when just using pca.fit. First, we perform just the fit function on the original x which is the scaled/standardized data. Then we can view the compoenent/loading scores which allow us to examine which genes had the most influence for each component. It is the absolute value "
      ]
    },
    {
      "cell_type": "code",
      "metadata": {
        "id": "o3ciVW2jYMaK",
        "colab_type": "code",
        "colab": {
          "base_uri": "https://localhost:8080/",
          "height": 443
        },
        "outputId": "bebc4dbb-5ded-48ab-fb43-9caff26f2558"
      },
      "source": [
        "# Test\n",
        "principalComponents = pca.fit(x)\n",
        "df_test = pd.DataFrame(pca.components_, columns=list(x.columns))  \n",
        "print(df_test.SEPT15)\n",
        "print(df_test.GLRX3)"
      ],
      "execution_count": 35,
      "outputs": [
        {
          "output_type": "stream",
          "text": [
            "0      -0.019761\n",
            "1      -0.012790\n",
            "2       0.000301\n",
            "3       0.005203\n",
            "4      -0.004901\n",
            "          ...   \n",
            "1077   -0.000969\n",
            "1078    0.000425\n",
            "1079   -0.002195\n",
            "1080   -0.000375\n",
            "1081    0.002282\n",
            "Name: SEPT15, Length: 1082, dtype: float64\n",
            "0      -0.021081\n",
            "1      -0.005365\n",
            "2      -0.009699\n",
            "3      -0.012049\n",
            "4      -0.001050\n",
            "          ...   \n",
            "1077   -0.001930\n",
            "1078   -0.003465\n",
            "1079   -0.000387\n",
            "1080   -0.001533\n",
            "1081    0.000518\n",
            "Name: GLRX3, Length: 1082, dtype: float64\n"
          ],
          "name": "stdout"
        }
      ]
    },
    {
      "cell_type": "code",
      "metadata": {
        "id": "EE1xQmGOpOAf",
        "colab_type": "code",
        "colab": {
          "base_uri": "https://localhost:8080/",
          "height": 34
        },
        "outputId": "53df85f9-2491-43de-eabf-d7fee4d62f77"
      },
      "source": [
        "pca.components_.shape # when we look at the shape, there are 1306 rows (components) and 24368 columns for the gene features "
      ],
      "execution_count": 36,
      "outputs": [
        {
          "output_type": "execute_result",
          "data": {
            "text/plain": [
              "(1082, 24360)"
            ]
          },
          "metadata": {
            "tags": []
          },
          "execution_count": 36
        }
      ]
    },
    {
      "cell_type": "markdown",
      "metadata": {
        "id": "dD1ZTkuETUzr",
        "colab_type": "text"
      },
      "source": [
        "**Select the Top 1082 Prinicipal Components that Explain 90 % of the Variance**"
      ]
    },
    {
      "cell_type": "code",
      "metadata": {
        "id": "9PG856HFThUH",
        "colab_type": "code",
        "colab": {}
      },
      "source": [
        "principalDf_1082 = principalDf.iloc[:,0:1082]"
      ],
      "execution_count": 0,
      "outputs": []
    },
    {
      "cell_type": "markdown",
      "metadata": {
        "id": "vKzlNG-xu4EN",
        "colab_type": "text"
      },
      "source": [
        "# **Training and Testing Split**\n",
        "\n",
        "For all of our classification methods, we will create a training and a testing set."
      ]
    },
    {
      "cell_type": "code",
      "metadata": {
        "id": "YxdYyZxEujxJ",
        "colab_type": "code",
        "colab": {}
      },
      "source": [
        "# Packagess\n",
        "from sklearn import preprocessing\n",
        "from sklearn.linear_model import LogisticRegression\n",
        "from sklearn.model_selection import train_test_split"
      ],
      "execution_count": 0,
      "outputs": []
    },
    {
      "cell_type": "markdown",
      "metadata": {
        "id": "ScK7nf14JEJj",
        "colab_type": "text"
      },
      "source": [
        "Create clinical dataset"
      ]
    },
    {
      "cell_type": "code",
      "metadata": {
        "colab_type": "code",
        "id": "ItAs8Em1Ij_W",
        "colab": {}
      },
      "source": [
        "# Convert patient_ids to row names \n",
        "bc_data = bc_data.set_index(bc_data.patient_id)\n",
        "# remove os_months + vital status from bc_data\n",
        "clinical = bc_data.drop(columns=[\"patient_id\"])"
      ],
      "execution_count": 0,
      "outputs": []
    },
    {
      "cell_type": "markdown",
      "metadata": {
        "id": "qKwf3jzovYN0",
        "colab_type": "text"
      },
      "source": [
        "Format the bc_data into a features and label dataframe"
      ]
    },
    {
      "cell_type": "code",
      "metadata": {
        "id": "H421ISlCvf4d",
        "colab_type": "code",
        "colab": {}
      },
      "source": [
        "# Let x represent the input features; y the labels\n",
        "# Want to remove os_months, os_status, and vital_status from inputs since these are what we are trying to predict. We will include vital status as our label. I already remove os_status by leaving it out of pre-processing above, since I felt this was similar to vital_status\n",
        "\n",
        "# create x to represent the input features; y is the label; \n",
        "x =  clinical.drop(['os_months', 'vital_status'], axis=1)\n",
        "y =  clinical.vital_status"
      ],
      "execution_count": 0,
      "outputs": []
    },
    {
      "cell_type": "markdown",
      "metadata": {
        "id": "Jot8CaTpvfEP",
        "colab_type": "text"
      },
      "source": [
        "Split the data into testing and training sets"
      ]
    },
    {
      "cell_type": "code",
      "metadata": {
        "id": "zuPWs5pQv5d2",
        "colab_type": "code",
        "colab": {}
      },
      "source": [
        "X_train, X_test, y_train, y_test = train_test_split(x, y, test_size=0.25, random_state=25)"
      ],
      "execution_count": 0,
      "outputs": []
    },
    {
      "cell_type": "markdown",
      "metadata": {
        "id": "f7UGiy4twHbY",
        "colab_type": "text"
      },
      "source": [
        "View the shapes of the training and testing sets; the datasets ending in \"train\" are our training sets; similarly, those ending in \"test\" are the testing; x prefix always represents the input features, y the labels"
      ]
    },
    {
      "cell_type": "code",
      "metadata": {
        "id": "ujubXxyzwU14",
        "colab_type": "code",
        "colab": {
          "base_uri": "https://localhost:8080/",
          "height": 87
        },
        "outputId": "0c19522c-8abf-41ef-d808-f122d51326d5"
      },
      "source": [
        "# Assess the trainig and testing sets previously created\n",
        "print('Training Features Shape:', X_train.shape)\n",
        "print('Training Labels Shape:', y_train.shape)\n",
        "print('Testing Features Shape:', X_test.shape)\n",
        "print('Testing Labels Shape:', y_test.shape)"
      ],
      "execution_count": 42,
      "outputs": [
        {
          "output_type": "stream",
          "text": [
            "Training Features Shape: (1139, 47)\n",
            "Training Labels Shape: (1139,)\n",
            "Testing Features Shape: (380, 47)\n",
            "Testing Labels Shape: (380,)\n"
          ],
          "name": "stdout"
        }
      ]
    },
    {
      "cell_type": "markdown",
      "metadata": {
        "id": "R2u1NBiEwYeS",
        "colab_type": "text"
      },
      "source": [
        "Examine the class distributions - these are similar splits between the training and testing sets. This is also representative of the number of cases throughout the entire dataset."
      ]
    },
    {
      "cell_type": "code",
      "metadata": {
        "id": "WzAqXr4pwX3M",
        "colab_type": "code",
        "colab": {
          "base_uri": "https://localhost:8080/",
          "height": 87
        },
        "outputId": "cf2d7b97-6119-4a08-9d00-d50a3f122f14"
      },
      "source": [
        "# Malignant = 1; Count the number of malignant and determine the percentage (training has 1139 values, testing has 380)\n",
        "print('Died of Diseases in Training Set:', np.count_nonzero(y_train == 1))\n",
        "print('Died of Diseases in Testing Set:', np.count_nonzero(y_test == 1))\n",
        "\n",
        "# Percents\n",
        "print('% Died of Diseases Cases in Training Set:', round(np.count_nonzero(y_train == 1)/1139*100,2))\n",
        "print('% Died of Diseases Cases in Testing Set:', round(np.count_nonzero(y_test == 1)/380*100,2))"
      ],
      "execution_count": 43,
      "outputs": [
        {
          "output_type": "stream",
          "text": [
            "Died of Diseases in Training Set: 373\n",
            "Died of Diseases in Testing Set: 112\n",
            "% Died of Diseases Cases in Training Set: 32.75\n",
            "% Died of Diseases Cases in Testing Set: 29.47\n"
          ],
          "name": "stdout"
        }
      ]
    },
    {
      "cell_type": "markdown",
      "metadata": {
        "id": "OKbcbk0qJpqQ",
        "colab_type": "text"
      },
      "source": [
        "Now add the PCs"
      ]
    },
    {
      "cell_type": "code",
      "metadata": {
        "colab_type": "code",
        "id": "VBIdNvbuIj_f",
        "colab": {}
      },
      "source": [
        "# Merge pcas with the clinical data\n",
        "pca50 = principalDf_1082.iloc[:,0:50] \n",
        "pca10 = principalDf_1082.iloc[:,0:10]\n",
        "\n",
        "# name row index\n",
        "pca50.index.name = 'patient_id'\n",
        "pca10.index.name = 'patient_id'\n",
        "\n",
        "# convert the row index back to the first column\n",
        "pca50.reset_index(level=0, inplace=True)\n",
        "pca10.reset_index(level=0, inplace=True)\n",
        "\n",
        "# Merge pca with clinical data\n",
        "X_train_clinical_pca50 = pd.merge(X_train, pca50, how=\"left\", on=\"patient_id\")\n",
        "X_test_clinical_pca50 = pd.merge(X_test, pca50, how=\"left\", on=\"patient_id\")\n",
        "\n",
        "X_train_clinical_pca10 = pd.merge(X_train, pca10, how=\"left\", on=\"patient_id\")\n",
        "X_test_clinical_pca10 = pd.merge(X_test, pca10, how=\"left\", on=\"patient_id\")\n",
        "\n",
        "# convert column with patients ids back to row index\n",
        "X_train_clinical_pca50 = X_train_clinical_pca50.set_index(X_train_clinical_pca50.patient_id)\n",
        "X_test_clinical_pca50 = X_test_clinical_pca50.set_index(X_test_clinical_pca50.patient_id)\n",
        "\n",
        "X_train_clinical_pca10 = X_train_clinical_pca10.set_index(X_train_clinical_pca10.patient_id)\n",
        "X_test_clinical_pca10 = X_test_clinical_pca10.set_index(X_test_clinical_pca10.patient_id)\n",
        "\n",
        "# remove patient id column\n",
        "X_train_clinical_pca50 = X_train_clinical_pca50.drop(columns=[\"patient_id\"])\n",
        "X_test_clinical_pca50 = X_test_clinical_pca50.drop(columns=[\"patient_id\"])\n",
        "\n",
        "X_train_clinical_pca10 = X_train_clinical_pca10.drop(columns=[\"patient_id\"])\n",
        "X_test_clinical_pca10 = X_test_clinical_pca10.drop(columns=[\"patient_id\"])\n",
        "\n",
        "# PCAs without clinical data \n",
        "# convert the row index back to the first column\n",
        "X_train.reset_index(level=0, inplace=True)\n",
        "X_test.reset_index(level=0, inplace=True) \n",
        "\n",
        "# Create a patient list of ids for those in the training and test sets - we will use this seperate a pca only dataset\n",
        "X_train_patients = X_train.patient_id\n",
        "X_test_patients = X_test.patient_id\n",
        "\n",
        "# Merge with the pca data\n",
        "X_train_pca50 = pd.merge(X_train_patients, pca50, how=\"left\", on=\"patient_id\")\n",
        "X_test_pca50 = pd.merge(X_test_patients, pca50, how=\"left\", on=\"patient_id\")\n",
        "\n",
        "X_train_pca10 = pd.merge(X_train_patients, pca10, how=\"left\", on=\"patient_id\")\n",
        "X_test_pca10 = pd.merge(X_test_patients, pca10, how=\"left\", on=\"patient_id\")\n",
        "\n",
        "# Convert patients IDs back to row index\n",
        "X_train_pca50 = X_train_pca50.set_index(X_train_pca50.patient_id)\n",
        "X_test_pca50 = X_test_pca50.set_index(X_test_pca50.patient_id)\n",
        "\n",
        "X_train_pca10 = X_train_pca10.set_index(X_train_pca10.patient_id)\n",
        "X_test_pca10 = X_test_pca10.set_index(X_test_pca10.patient_id)\n",
        "\n",
        "# remove patient id column\n",
        "X_train_pca50 = X_train_pca50.drop(columns=[\"patient_id\"])\n",
        "X_test_pca50 = X_test_pca50.drop(columns=[\"patient_id\"])\n",
        "\n",
        "X_train_pca10 = X_train_pca10.drop(columns=[\"patient_id\"])\n",
        "X_test_pca10 = X_test_pca10.drop(columns=[\"patient_id\"])\n",
        "\n",
        "X_train = X_train.drop(columns=[\"patient_id\"])\n",
        "X_test = X_test.drop(columns=[\"patient_id\"])"
      ],
      "execution_count": 0,
      "outputs": []
    },
    {
      "cell_type": "markdown",
      "metadata": {
        "id": "RaHX5zydw3H2",
        "colab_type": "text"
      },
      "source": [
        "# **Logistic Regression**\n",
        "\n",
        "These steps were followed from the following tutorial:\n",
        "\n",
        "https://www.datacamp.com/community/tutorials/understanding-logistic-regression-python"
      ]
    },
    {
      "cell_type": "markdown",
      "metadata": {
        "colab_type": "text",
        "id": "vwpu6ScZURRm"
      },
      "source": [
        "**50 Principal Components**\n"
      ]
    },
    {
      "cell_type": "markdown",
      "metadata": {
        "colab_type": "text",
        "id": "iS1LifQFURRt"
      },
      "source": [
        "**Define and Run the Model**"
      ]
    },
    {
      "cell_type": "code",
      "metadata": {
        "colab_type": "code",
        "id": "n18Pk7f1URRv",
        "colab": {
          "base_uri": "https://localhost:8080/",
          "height": 52
        },
        "outputId": "ac2fd9c8-2f6e-4920-c742-c8622a31061a"
      },
      "source": [
        "# Instantiate the model (using default parameters)\n",
        "logreg = LogisticRegression()\n",
        "\n",
        "# fit the model with data\n",
        "logreg.fit(X_train_pca50, y_train)\n",
        "\n",
        "y_pred = logreg.predict(X_test_pca50)"
      ],
      "execution_count": 45,
      "outputs": [
        {
          "output_type": "stream",
          "text": [
            "/usr/local/lib/python3.6/dist-packages/sklearn/linear_model/logistic.py:432: FutureWarning: Default solver will be changed to 'lbfgs' in 0.22. Specify a solver to silence this warning.\n",
            "  FutureWarning)\n"
          ],
          "name": "stderr"
        }
      ]
    },
    {
      "cell_type": "markdown",
      "metadata": {
        "colab_type": "text",
        "id": "n1z7lC-WURR3"
      },
      "source": [
        "**Model Evaluation Using Confusion Matrix**"
      ]
    },
    {
      "cell_type": "code",
      "metadata": {
        "colab_type": "code",
        "id": "dtbEnm69URR7",
        "colab": {
          "base_uri": "https://localhost:8080/",
          "height": 52
        },
        "outputId": "12fe8bcb-7adf-47e1-fded-56adefdaeefe"
      },
      "source": [
        "# import the metrics class\n",
        "from sklearn import metrics\n",
        "\n",
        "cnf_matrix = metrics.confusion_matrix(y_test, y_pred)\n",
        "cnf_matrix"
      ],
      "execution_count": 46,
      "outputs": [
        {
          "output_type": "execute_result",
          "data": {
            "text/plain": [
              "array([[237,  31],\n",
              "       [ 85,  27]])"
            ]
          },
          "metadata": {
            "tags": []
          },
          "execution_count": 46
        }
      ]
    },
    {
      "cell_type": "markdown",
      "metadata": {
        "colab_type": "text",
        "id": "uFQoe_WKURSA"
      },
      "source": [
        "The confusion matrix generated above is in the form of an array. Diagnosal values represent accurate predictions, while non-diagonal elements are inaccurate predictions. The diagonal starting with the top left to the bottom right hand corner are actual predidictions, while the bottom left corner to the top right corner are incorrect predictions. "
      ]
    },
    {
      "cell_type": "code",
      "metadata": {
        "colab_type": "code",
        "id": "iA9ImG6dURSB",
        "colab": {
          "base_uri": "https://localhost:8080/",
          "height": 70
        },
        "outputId": "bb3f4b26-c6f1-48a3-ae31-61528fa3d21b"
      },
      "source": [
        "print(\"Accuracy:\",round(metrics.accuracy_score(y_test, y_pred),3))\n",
        "print(\"Recall:\",round(metrics.recall_score(y_test, y_pred),3))\n",
        "print(\"Precision:\",round(metrics.precision_score(y_test, y_pred),3))"
      ],
      "execution_count": 47,
      "outputs": [
        {
          "output_type": "stream",
          "text": [
            "Accuracy: 0.695\n",
            "Recall: 0.241\n",
            "Precision: 0.466\n"
          ],
          "name": "stdout"
        }
      ]
    },
    {
      "cell_type": "markdown",
      "metadata": {
        "colab_type": "text",
        "id": "zpQgUH1UURSG"
      },
      "source": [
        "**ROC**\n",
        "\n",
        "The Reciever Operating Characteristic (ROC) curve is a plot of the true positive rate against the false positive rate. It shows the tradeoff between sensitivity and specificity. "
      ]
    },
    {
      "cell_type": "code",
      "metadata": {
        "colab_type": "code",
        "id": "ixaqHxbeURSG",
        "colab": {
          "base_uri": "https://localhost:8080/",
          "height": 282
        },
        "outputId": "68fe0bee-c337-48ef-c0fc-a99b2cde83a4"
      },
      "source": [
        "y_pred_proba = logreg.predict_proba(X_test_pca50)[::,1]\n",
        "fpr, tpr, _ = metrics.roc_curve(y_test, y_pred_proba)\n",
        "auc = metrics.roc_auc_score(y_test, y_pred_proba)\n",
        "plt.plot(fpr, tpr, label = \"data 1, auc=\"+str(auc))\n",
        "plt.legend(loc=4)\n",
        "plt.show()\n",
        "print('AUC:', round(auc,3))"
      ],
      "execution_count": 48,
      "outputs": [
        {
          "output_type": "display_data",
          "data": {
            "image/png": "[encoded data removed]",
            "text/plain": [
              "<Figure size 432x288 with 1 Axes>"
            ]
          },
          "metadata": {
            "tags": []
          }
        },
        {
          "output_type": "stream",
          "text": [
            "AUC: 0.671\n"
          ],
          "name": "stdout"
        }
      ]
    },
    {
      "cell_type": "markdown",
      "metadata": {
        "colab_type": "text",
        "id": "dqn3HPuWUyaE"
      },
      "source": [
        "**10 Principal Components**\n"
      ]
    },
    {
      "cell_type": "markdown",
      "metadata": {
        "colab_type": "text",
        "id": "oKMJ0SGAUyaO"
      },
      "source": [
        "**Define and Run the Model**"
      ]
    },
    {
      "cell_type": "code",
      "metadata": {
        "colab_type": "code",
        "id": "rZrAhT47UyaP",
        "colab": {
          "base_uri": "https://localhost:8080/",
          "height": 52
        },
        "outputId": "af4905e7-213f-45cc-c96f-f757e2798bed"
      },
      "source": [
        "# Instantiate the model (using default parameters)\n",
        "logreg = LogisticRegression()\n",
        "\n",
        "# fit the model with data\n",
        "logreg.fit(X_train_pca10, y_train)\n",
        "\n",
        "y_pred = logreg.predict(X_test_pca10)"
      ],
      "execution_count": 49,
      "outputs": [
        {
          "output_type": "stream",
          "text": [
            "/usr/local/lib/python3.6/dist-packages/sklearn/linear_model/logistic.py:432: FutureWarning: Default solver will be changed to 'lbfgs' in 0.22. Specify a solver to silence this warning.\n",
            "  FutureWarning)\n"
          ],
          "name": "stderr"
        }
      ]
    },
    {
      "cell_type": "markdown",
      "metadata": {
        "colab_type": "text",
        "id": "Wv9xqbq0UyaU"
      },
      "source": [
        "**Model Evaluation Using Confusion Matrix**"
      ]
    },
    {
      "cell_type": "code",
      "metadata": {
        "colab_type": "code",
        "id": "tgBI5aS5UyaV",
        "colab": {
          "base_uri": "https://localhost:8080/",
          "height": 52
        },
        "outputId": "b015154c-e86e-4e60-81d2-84caff7b97ac"
      },
      "source": [
        "cnf_matrix = metrics.confusion_matrix(y_test, y_pred)\n",
        "cnf_matrix"
      ],
      "execution_count": 50,
      "outputs": [
        {
          "output_type": "execute_result",
          "data": {
            "text/plain": [
              "array([[261,   7],\n",
              "       [108,   4]])"
            ]
          },
          "metadata": {
            "tags": []
          },
          "execution_count": 50
        }
      ]
    },
    {
      "cell_type": "markdown",
      "metadata": {
        "colab_type": "text",
        "id": "caO5G3BBUyaX"
      },
      "source": [
        "The confusion matrix generated above is in the form of an array. Diagnosal values represent accurate predictions, while non-diagonal elements are inaccurate predictions. The diagonal starting with the top left to the bottom right hand corner are actual predidictions, while the bottom left corner to the top right corner are incorrect predictions. "
      ]
    },
    {
      "cell_type": "code",
      "metadata": {
        "colab_type": "code",
        "id": "Esb1P76uUyaY",
        "colab": {
          "base_uri": "https://localhost:8080/",
          "height": 70
        },
        "outputId": "7401aba2-0c73-4179-f99d-5cab0fb07fb5"
      },
      "source": [
        "print(\"Accuracy:\",round(metrics.accuracy_score(y_test, y_pred),3))\n",
        "print(\"Recall:\",round(metrics.recall_score(y_test, y_pred),3))\n",
        "print(\"Precision:\",round(metrics.precision_score(y_test, y_pred),3))"
      ],
      "execution_count": 51,
      "outputs": [
        {
          "output_type": "stream",
          "text": [
            "Accuracy: 0.697\n",
            "Recall: 0.036\n",
            "Precision: 0.364\n"
          ],
          "name": "stdout"
        }
      ]
    },
    {
      "cell_type": "markdown",
      "metadata": {
        "colab_type": "text",
        "id": "Kv8TqEL1Uyaa"
      },
      "source": [
        "**ROC**\n",
        "\n",
        "The Reciever Operating Characteristic (ROC) curve is a plot of the true positive rate against the false positive rate. It shows the tradeoff between sensitivity and specificity. "
      ]
    },
    {
      "cell_type": "code",
      "metadata": {
        "colab_type": "code",
        "id": "zX1J6K9aUyab",
        "colab": {
          "base_uri": "https://localhost:8080/",
          "height": 282
        },
        "outputId": "131a6cf7-d92b-4aa2-b107-0eeb3054bd92"
      },
      "source": [
        "y_pred_proba = logreg.predict_proba(X_test_pca10)[::,1]\n",
        "fpr, tpr, _ = metrics.roc_curve(y_test, y_pred_proba)\n",
        "auc = metrics.roc_auc_score(y_test, y_pred_proba)\n",
        "plt.plot(fpr, tpr, label = \"data 1, auc=\"+str(auc))\n",
        "plt.legend(loc=4)\n",
        "plt.show()\n",
        "print('AUC:', round(auc,3))"
      ],
      "execution_count": 52,
      "outputs": [
        {
          "output_type": "display_data",
          "data": {
            "image/png": "[encoded data removed]",
            "text/plain": [
              "<Figure size 432x288 with 1 Axes>"
            ]
          },
          "metadata": {
            "tags": []
          }
        },
        {
          "output_type": "stream",
          "text": [
            "AUC: 0.624\n"
          ],
          "name": "stdout"
        }
      ]
    },
    {
      "cell_type": "markdown",
      "metadata": {
        "id": "R45RrYnfyDva",
        "colab_type": "text"
      },
      "source": [
        "**Clinical Data**\n"
      ]
    },
    {
      "cell_type": "markdown",
      "metadata": {
        "id": "0BdqKQJ2x0em",
        "colab_type": "text"
      },
      "source": [
        "**Define and Run the Model**"
      ]
    },
    {
      "cell_type": "code",
      "metadata": {
        "id": "3u4X6MFSxzox",
        "colab_type": "code",
        "colab": {
          "base_uri": "https://localhost:8080/",
          "height": 52
        },
        "outputId": "40ed3236-b259-4d97-da71-5e7718fcd22c"
      },
      "source": [
        "# Instantiate the model (using default parameters)\n",
        "logreg = LogisticRegression()\n",
        "\n",
        "# fit the model with data\n",
        "logreg.fit(X_train, y_train)\n",
        "\n",
        "y_pred = logreg.predict(X_test)"
      ],
      "execution_count": 53,
      "outputs": [
        {
          "output_type": "stream",
          "text": [
            "/usr/local/lib/python3.6/dist-packages/sklearn/linear_model/logistic.py:432: FutureWarning: Default solver will be changed to 'lbfgs' in 0.22. Specify a solver to silence this warning.\n",
            "  FutureWarning)\n"
          ],
          "name": "stderr"
        }
      ]
    },
    {
      "cell_type": "markdown",
      "metadata": {
        "id": "xRDRV7DIyGL5",
        "colab_type": "text"
      },
      "source": [
        "**Model Evaluation Using Confusion Matrix**"
      ]
    },
    {
      "cell_type": "code",
      "metadata": {
        "id": "YyJQT7fHyLeP",
        "colab_type": "code",
        "colab": {
          "base_uri": "https://localhost:8080/",
          "height": 52
        },
        "outputId": "845e07e0-5e81-4372-9571-a18cb5b688f4"
      },
      "source": [
        "cnf_matrix = metrics.confusion_matrix(y_test, y_pred)\n",
        "cnf_matrix"
      ],
      "execution_count": 54,
      "outputs": [
        {
          "output_type": "execute_result",
          "data": {
            "text/plain": [
              "array([[236,  32],\n",
              "       [ 78,  34]])"
            ]
          },
          "metadata": {
            "tags": []
          },
          "execution_count": 54
        }
      ]
    },
    {
      "cell_type": "markdown",
      "metadata": {
        "id": "3CRpg41RySQT",
        "colab_type": "text"
      },
      "source": [
        "The confusion matrix generated above is in the form of an array. Diagnosal values represent accurate predictions, while non-diagonal elements are inaccurate predictions. The diagonal starting with the top left to the bottom right hand corner are actual predidictions, while the bottom left corner to the top right corner are incorrect predictions. "
      ]
    },
    {
      "cell_type": "code",
      "metadata": {
        "id": "O2BvUFrAy04x",
        "colab_type": "code",
        "colab": {
          "base_uri": "https://localhost:8080/",
          "height": 70
        },
        "outputId": "e43ebdb9-fe9c-4fe0-d7fa-eed08696625f"
      },
      "source": [
        "print(\"Accuracy:\",round(metrics.accuracy_score(y_test, y_pred),3))\n",
        "print(\"Recall:\",round(metrics.recall_score(y_test, y_pred),3))\n",
        "print(\"Precision:\",round(metrics.precision_score(y_test, y_pred),3))"
      ],
      "execution_count": 55,
      "outputs": [
        {
          "output_type": "stream",
          "text": [
            "Accuracy: 0.711\n",
            "Recall: 0.304\n",
            "Precision: 0.515\n"
          ],
          "name": "stdout"
        }
      ]
    },
    {
      "cell_type": "markdown",
      "metadata": {
        "id": "oAZw8J4mzxsD",
        "colab_type": "text"
      },
      "source": [
        "**ROC**\n",
        "\n",
        "The Reciever Operating Characteristic (ROC) curve is a plot of the true positive rate against the false positive rate. It shows the tradeoff between sensitivity and specificity. "
      ]
    },
    {
      "cell_type": "code",
      "metadata": {
        "id": "y11_Tmpu39qG",
        "colab_type": "code",
        "colab": {
          "base_uri": "https://localhost:8080/",
          "height": 282
        },
        "outputId": "9e47d0d0-5b67-4664-8347-deb492c0d89b"
      },
      "source": [
        "y_pred_proba = logreg.predict_proba(X_test)[::,1]\n",
        "fpr, tpr, _ = metrics.roc_curve(y_test, y_pred_proba)\n",
        "auc = metrics.roc_auc_score(y_test, y_pred_proba)\n",
        "plt.plot(fpr, tpr, label = \"data 1, auc=\"+str(auc))\n",
        "plt.legend(loc=4)\n",
        "plt.show()\n",
        "print('AUC:', round(auc,3))"
      ],
      "execution_count": 56,
      "outputs": [
        {
          "output_type": "display_data",
          "data": {
            "image/png": "[encoded data removed]",
            "text/plain": [
              "<Figure size 432x288 with 1 Axes>"
            ]
          },
          "metadata": {
            "tags": []
          }
        },
        {
          "output_type": "stream",
          "text": [
            "AUC: 0.635\n"
          ],
          "name": "stdout"
        }
      ]
    },
    {
      "cell_type": "markdown",
      "metadata": {
        "colab_type": "text",
        "id": "7FHRMqAOBoKq"
      },
      "source": [
        "**Clinical Data + 50 Prinicipal Components**\n"
      ]
    },
    {
      "cell_type": "markdown",
      "metadata": {
        "colab_type": "text",
        "id": "99N0pjO2BoK2"
      },
      "source": [
        "**Define and Run the Model**"
      ]
    },
    {
      "cell_type": "code",
      "metadata": {
        "colab_type": "code",
        "id": "s4Op2CqIBoK4",
        "colab": {
          "base_uri": "https://localhost:8080/",
          "height": 52
        },
        "outputId": "b0c160da-e5de-4470-de02-5777cfb14263"
      },
      "source": [
        "# Instantiate the model (using default parameters)\n",
        "logreg = LogisticRegression()\n",
        "\n",
        "# fit the model with data\n",
        "logreg.fit(X_train_clinical_pca50, y_train)\n",
        "\n",
        "y_pred = logreg.predict(X_test_clinical_pca50)"
      ],
      "execution_count": 57,
      "outputs": [
        {
          "output_type": "stream",
          "text": [
            "/usr/local/lib/python3.6/dist-packages/sklearn/linear_model/logistic.py:432: FutureWarning: Default solver will be changed to 'lbfgs' in 0.22. Specify a solver to silence this warning.\n",
            "  FutureWarning)\n"
          ],
          "name": "stderr"
        }
      ]
    },
    {
      "cell_type": "markdown",
      "metadata": {
        "colab_type": "text",
        "id": "7VpYDQoDBoK-"
      },
      "source": [
        "**Model Evaluation Using Confusion Matrix**"
      ]
    },
    {
      "cell_type": "code",
      "metadata": {
        "colab_type": "code",
        "id": "lvRw6d0IBoK_",
        "colab": {
          "base_uri": "https://localhost:8080/",
          "height": 52
        },
        "outputId": "0ee122c4-c297-4726-f929-7d4eb565dd48"
      },
      "source": [
        "cnf_matrix = metrics.confusion_matrix(y_test, y_pred)\n",
        "cnf_matrix"
      ],
      "execution_count": 58,
      "outputs": [
        {
          "output_type": "execute_result",
          "data": {
            "text/plain": [
              "array([[236,  32],\n",
              "       [ 73,  39]])"
            ]
          },
          "metadata": {
            "tags": []
          },
          "execution_count": 58
        }
      ]
    },
    {
      "cell_type": "markdown",
      "metadata": {
        "colab_type": "text",
        "id": "FGbkL07YBoLG"
      },
      "source": [
        "The confusion matrix generated above is in the form of an array. Diagnosal values represent accurate predictions, while non-diagonal elements are inaccurate predictions. The diagonal starting with the top left to the bottom right hand corner are actual predidictions, while the bottom left corner to the top right corner are incorrect predictions. "
      ]
    },
    {
      "cell_type": "code",
      "metadata": {
        "colab_type": "code",
        "id": "m75-9of-BoLH",
        "colab": {
          "base_uri": "https://localhost:8080/",
          "height": 70
        },
        "outputId": "5c3fef3b-0426-40e7-afb8-8edaee5c9721"
      },
      "source": [
        "print(\"Accuracy:\",round(metrics.accuracy_score(y_test, y_pred),3))\n",
        "print(\"Recall:\",round(metrics.recall_score(y_test, y_pred),3))\n",
        "print(\"Precision:\",round(metrics.precision_score(y_test, y_pred),3))"
      ],
      "execution_count": 59,
      "outputs": [
        {
          "output_type": "stream",
          "text": [
            "Accuracy: 0.724\n",
            "Recall: 0.348\n",
            "Precision: 0.549\n"
          ],
          "name": "stdout"
        }
      ]
    },
    {
      "cell_type": "markdown",
      "metadata": {
        "colab_type": "text",
        "id": "y7qzPCaQBoLM"
      },
      "source": [
        "**ROC**\n",
        "\n",
        "The Reciever Operating Characteristic (ROC) curve is a plot of the true positive rate against the false positive rate. It shows the tradeoff between sensitivity and specificity. "
      ]
    },
    {
      "cell_type": "code",
      "metadata": {
        "colab_type": "code",
        "id": "rljn3PnYBoLN",
        "colab": {
          "base_uri": "https://localhost:8080/",
          "height": 282
        },
        "outputId": "129d1d97-3ac0-4201-ff09-ad00c676edb8"
      },
      "source": [
        "y_pred_proba = logreg.predict_proba(X_test_clinical_pca50)[::,1]\n",
        "fpr, tpr, _ = metrics.roc_curve(y_test, y_pred_proba)\n",
        "auc = metrics.roc_auc_score(y_test, y_pred_proba)\n",
        "plt.plot(fpr, tpr, label = \"data 1, auc=\"+str(auc))\n",
        "plt.legend(loc=4)\n",
        "plt.show()\n",
        "print('AUC:', round(auc,3))"
      ],
      "execution_count": 60,
      "outputs": [
        {
          "output_type": "display_data",
          "data": {
            "image/png": "[encoded data removed]",
            "text/plain": [
              "<Figure size 432x288 with 1 Axes>"
            ]
          },
          "metadata": {
            "tags": []
          }
        },
        {
          "output_type": "stream",
          "text": [
            "AUC: 0.695\n"
          ],
          "name": "stdout"
        }
      ]
    },
    {
      "cell_type": "markdown",
      "metadata": {
        "colab_type": "text",
        "id": "9nkSOzxvRQXx"
      },
      "source": [
        "**Clinical Data + 10 Prinicipal Components**\n"
      ]
    },
    {
      "cell_type": "markdown",
      "metadata": {
        "colab_type": "text",
        "id": "Yp3stwjLB6CG"
      },
      "source": [
        "**Define and Run the Model**"
      ]
    },
    {
      "cell_type": "code",
      "metadata": {
        "colab_type": "code",
        "id": "R9ZTshzgB6CJ",
        "colab": {
          "base_uri": "https://localhost:8080/",
          "height": 52
        },
        "outputId": "58e0546b-92b3-49f4-b428-cbb868b9a696"
      },
      "source": [
        "# Instantiate the model (using default parameters)\n",
        "logreg = LogisticRegression()\n",
        "\n",
        "# fit the model with data\n",
        "logreg.fit(X_train_clinical_pca10, y_train)\n",
        "\n",
        "y_pred = logreg.predict(X_test_clinical_pca10)"
      ],
      "execution_count": 61,
      "outputs": [
        {
          "output_type": "stream",
          "text": [
            "/usr/local/lib/python3.6/dist-packages/sklearn/linear_model/logistic.py:432: FutureWarning: Default solver will be changed to 'lbfgs' in 0.22. Specify a solver to silence this warning.\n",
            "  FutureWarning)\n"
          ],
          "name": "stderr"
        }
      ]
    },
    {
      "cell_type": "markdown",
      "metadata": {
        "colab_type": "text",
        "id": "p53M0K2tB6CO"
      },
      "source": [
        "**Model Evaluation Using Confusion Matrix**"
      ]
    },
    {
      "cell_type": "code",
      "metadata": {
        "colab_type": "code",
        "id": "8FZz2WjwB6CP",
        "colab": {
          "base_uri": "https://localhost:8080/",
          "height": 52
        },
        "outputId": "0e9a40e1-d30b-4fba-a0ea-c1ce9a50fb16"
      },
      "source": [
        "cnf_matrix = metrics.confusion_matrix(y_test, y_pred)\n",
        "cnf_matrix"
      ],
      "execution_count": 62,
      "outputs": [
        {
          "output_type": "execute_result",
          "data": {
            "text/plain": [
              "array([[232,  36],\n",
              "       [ 76,  36]])"
            ]
          },
          "metadata": {
            "tags": []
          },
          "execution_count": 62
        }
      ]
    },
    {
      "cell_type": "markdown",
      "metadata": {
        "colab_type": "text",
        "id": "pu1cUoCcB6CT"
      },
      "source": [
        "The confusion matrix generated above is in the form of an array. Diagnosal values represent accurate predictions, while non-diagonal elements are inaccurate predictions. The diagonal starting with the top left to the bottom right hand corner are actual predidictions, while the bottom left corner to the top right corner are incorrect predictions. "
      ]
    },
    {
      "cell_type": "code",
      "metadata": {
        "colab_type": "code",
        "id": "0bjPNzPsB6CT",
        "colab": {
          "base_uri": "https://localhost:8080/",
          "height": 70
        },
        "outputId": "b07a3e24-8845-49a2-a2b3-da2ea2265e51"
      },
      "source": [
        "print(\"Accuracy:\",round(metrics.accuracy_score(y_test, y_pred),3))\n",
        "print(\"Recall:\",round(metrics.recall_score(y_test, y_pred),3))\n",
        "print(\"Precision:\",round(metrics.precision_score(y_test, y_pred),3))"
      ],
      "execution_count": 63,
      "outputs": [
        {
          "output_type": "stream",
          "text": [
            "Accuracy: 0.705\n",
            "Recall: 0.321\n",
            "Precision: 0.5\n"
          ],
          "name": "stdout"
        }
      ]
    },
    {
      "cell_type": "markdown",
      "metadata": {
        "colab_type": "text",
        "id": "TKMyJSqbB6CW"
      },
      "source": [
        "**ROC**\n",
        "\n",
        "The Reciever Operating Characteristic (ROC) curve is a plot of the true positive rate against the false positive rate. It shows the tradeoff between sensitivity and specificity. "
      ]
    },
    {
      "cell_type": "code",
      "metadata": {
        "colab_type": "code",
        "id": "XYLmXsKWB6CX",
        "colab": {
          "base_uri": "https://localhost:8080/",
          "height": 282
        },
        "outputId": "6d7d8102-5617-4100-a6b8-78ef7d7c56fc"
      },
      "source": [
        "y_pred_proba = logreg.predict_proba(X_test_clinical_pca10)[::,1]\n",
        "fpr, tpr, _ = metrics.roc_curve(y_test, y_pred_proba)\n",
        "auc = metrics.roc_auc_score(y_test, y_pred_proba)\n",
        "plt.plot(fpr, tpr, label = \"data 1, auc=\"+str(auc))\n",
        "plt.legend(loc=4)\n",
        "plt.show()\n",
        "print('AUC:', round(auc,3))"
      ],
      "execution_count": 64,
      "outputs": [
        {
          "output_type": "display_data",
          "data": {
            "image/png": "[encoded data removed]",
            "text/plain": [
              "<Figure size 432x288 with 1 Axes>"
            ]
          },
          "metadata": {
            "tags": []
          }
        },
        {
          "output_type": "stream",
          "text": [
            "AUC: 0.669\n"
          ],
          "name": "stdout"
        }
      ]
    },
    {
      "cell_type": "code",
      "metadata": {
        "colab_type": "code",
        "id": "SoRPmkt6CJ4t",
        "colab": {
          "base_uri": "https://localhost:8080/",
          "height": 70
        },
        "outputId": "80b9f882-831d-49f7-f143-a39993816f72"
      },
      "source": [
        "print(\"Accuracy:\",round(metrics.accuracy_score(y_test, y_pred),3))\n",
        "print(\"Recall:\",round(metrics.recall_score(y_test, y_pred),3))\n",
        "print(\"Precision:\",round(metrics.precision_score(y_test, y_pred),3))"
      ],
      "execution_count": 65,
      "outputs": [
        {
          "output_type": "stream",
          "text": [
            "Accuracy: 0.705\n",
            "Recall: 0.321\n",
            "Precision: 0.5\n"
          ],
          "name": "stdout"
        }
      ]
    },
    {
      "cell_type": "markdown",
      "metadata": {
        "id": "5M5jCMHP8COG",
        "colab_type": "text"
      },
      "source": [
        "# **Random Forest Classification**"
      ]
    },
    {
      "cell_type": "code",
      "metadata": {
        "id": "2a0putDWXD7r",
        "colab_type": "code",
        "colab": {}
      },
      "source": [
        "# import the metrics class sklearn\n",
        "from sklearn.ensemble import RandomForestClassifier\n",
        "from sklearn.feature_selection import SelectFromModel # to identify features\n",
        "from sklearn.model_selection import cross_val_score\n",
        "from sklearn.metrics import classification_report, confusion_matrix, accuracy_score\n",
        "from sklearn.metrics import roc_auc_score"
      ],
      "execution_count": 0,
      "outputs": []
    },
    {
      "cell_type": "markdown",
      "metadata": {
        "colab_type": "text",
        "id": "a-cJ4EcNY9w7"
      },
      "source": [
        "**10 Principal Components**"
      ]
    },
    {
      "cell_type": "markdown",
      "metadata": {
        "colab_type": "text",
        "id": "AH09ysGdY9xB"
      },
      "source": [
        "**Train the Model**"
      ]
    },
    {
      "cell_type": "code",
      "metadata": {
        "colab_type": "code",
        "id": "gjzyrAfOY9xE",
        "colab": {
          "base_uri": "https://localhost:8080/",
          "height": 141
        },
        "outputId": "cfb86a9b-be03-4a2a-d576-a25454b51938"
      },
      "source": [
        "# Instantiate model with 1000 decision trees - results below reported w/ random state = 42\n",
        "rf = RandomForestClassifier(n_estimators = 1000, random_state = 42)\n",
        "\n",
        "# Train the model on training data\n",
        "rf.fit(X_train_pca10, y_train)"
      ],
      "execution_count": 67,
      "outputs": [
        {
          "output_type": "execute_result",
          "data": {
            "text/plain": [
              "RandomForestClassifier(bootstrap=True, class_weight=None, criterion='gini',\n",
              "                       max_depth=None, max_features='auto', max_leaf_nodes=None,\n",
              "                       min_impurity_decrease=0.0, min_impurity_split=None,\n",
              "                       min_samples_leaf=1, min_samples_split=2,\n",
              "                       min_weight_fraction_leaf=0.0, n_estimators=1000,\n",
              "                       n_jobs=None, oob_score=False, random_state=42, verbose=0,\n",
              "                       warm_start=False)"
            ]
          },
          "metadata": {
            "tags": []
          },
          "execution_count": 67
        }
      ]
    },
    {
      "cell_type": "markdown",
      "metadata": {
        "colab_type": "text",
        "id": "Rn7OtBKIY9xK"
      },
      "source": [
        "**Select Important Features**\n",
        "\n",
        "Identify which Principal Components contributed most to the model"
      ]
    },
    {
      "cell_type": "code",
      "metadata": {
        "colab_type": "code",
        "id": "zP2C8umXY9xL",
        "colab": {
          "base_uri": "https://localhost:8080/",
          "height": 317
        },
        "outputId": "f437338d-4262-46a9-cb27-5b184151e6b6"
      },
      "source": [
        "# First feature selection test\n",
        "sel = SelectFromModel(RandomForestClassifier(n_estimators = 100))\n",
        "sel.fit(X_train_pca10, y_train)\n",
        "sel.get_support()\n",
        "selected_feat= X_train_pca10.columns[(sel.get_support())]\n",
        "print(len(selected_feat)) \n",
        "print(selected_feat)\n",
        "\n",
        "## histogram of the top 10 pc by importance\n",
        "# create a list of features/column names\n",
        "features = list(X_train_pca10.columns.values) \n",
        "\n",
        "feat_importances = pd.Series(rf.feature_importances_, index=X_train_pca10.columns)  \n",
        "feat_importances.nlargest(10).plot(kind='barh')"
      ],
      "execution_count": 68,
      "outputs": [
        {
          "output_type": "stream",
          "text": [
            "3\n",
            "Index(['pc2', 'pc8', 'pc10'], dtype='object')\n"
          ],
          "name": "stdout"
        },
        {
          "output_type": "execute_result",
          "data": {
            "text/plain": [
              "<matplotlib.axes._subplots.AxesSubplot at 0x7f729c3a2748>"
            ]
          },
          "metadata": {
            "tags": []
          },
          "execution_count": 68
        },
        {
          "output_type": "display_data",
          "data": {
            "image/png": "[encoded data removed]",
            "text/plain": [
              "<Figure size 432x288 with 1 Axes>"
            ]
          },
          "metadata": {
            "tags": []
          }
        }
      ]
    },
    {
      "cell_type": "markdown",
      "metadata": {
        "colab_type": "text",
        "id": "CNeSFBtoY9xN"
      },
      "source": [
        "**Make Predictions on the Test Set**"
      ]
    },
    {
      "cell_type": "code",
      "metadata": {
        "colab_type": "code",
        "id": "fH6YI7VcY9xO",
        "colab": {
          "base_uri": "https://localhost:8080/",
          "height": 34
        },
        "outputId": "a2449da6-afc0-4991-9dde-95432346d2ad"
      },
      "source": [
        "# Use the forest's predict method on the test data\n",
        "predictions = rf.predict(X_test_pca10)\n",
        "# Probabilities for each class\n",
        "rf_probs = rf.predict_proba(X_test_pca10)[:, 1]\n",
        "\n",
        "# Calculate the absolute errors\n",
        "errors = abs(predictions - y_test)\n",
        "# Print out the mean absolute error (mae)\n",
        "print('Mean Absolute Error:', round(np.mean(errors), 2))"
      ],
      "execution_count": 69,
      "outputs": [
        {
          "output_type": "stream",
          "text": [
            "Mean Absolute Error: 0.3\n"
          ],
          "name": "stdout"
        }
      ]
    },
    {
      "cell_type": "markdown",
      "metadata": {
        "colab_type": "text",
        "id": "5KVPqZ9eY9xS"
      },
      "source": [
        "**Evaluating the Performance**\n",
        "\n",
        "For Classification Problems the metrics used to evaluate an algorithm are accuracy, confusion matrix, precision, recall, and F1 values.\n",
        "\n",
        "We can also perform cross-fold validation to have a better understanding of the results\n",
        "\n",
        "Reference: https://medium.com/@hjhuney/implementing-a-random-forest-classification-model-in-python-583891c99652 "
      ]
    },
    {
      "cell_type": "markdown",
      "metadata": {
        "colab_type": "text",
        "id": "F5revkhoY9xT"
      },
      "source": [
        "**ROC on the Full Data**\n",
        "\n",
        "\n",
        "We make class predictions (predict) as well as predicted probabilities (predict_proba) to calculate the ROC AUC. Once we have the testing predictions, we can calculate the ROC AUC. https://towardsdatascience.com/an-implementation-and-explanation-of-the-random-forest-in-python-77bf308a9b76"
      ]
    },
    {
      "cell_type": "code",
      "metadata": {
        "colab_type": "code",
        "id": "WMEPOGfpY9xT",
        "colab": {
          "base_uri": "https://localhost:8080/",
          "height": 34
        },
        "outputId": "e170211d-17e0-4f14-dd79-9e09c7438dad"
      },
      "source": [
        "# Calculate ROC AUC\n",
        "roc_value = roc_auc_score(y_test, rf_probs) \n",
        "roc_value"
      ],
      "execution_count": 70,
      "outputs": [
        {
          "output_type": "execute_result",
          "data": {
            "text/plain": [
              "0.6414912046908315"
            ]
          },
          "metadata": {
            "tags": []
          },
          "execution_count": 70
        }
      ]
    },
    {
      "cell_type": "code",
      "metadata": {
        "colab_type": "code",
        "id": "yDOqgxcZY9xW",
        "colab": {
          "base_uri": "https://localhost:8080/",
          "height": 264
        },
        "outputId": "c1210cb9-9dcb-4ea8-cb2a-faafba397e4d"
      },
      "source": [
        "# Probabilities for each class\n",
        "# Note from scikit learn: re fpr and tpr: \"Since the thresholds are sorted from low to high values, they are reversed upon returning them to ensure they correspond to both fpr and tpr, which are sorted in reversed order during their calculation.\"\n",
        "rf_probs = rf.predict_proba(X_test_pca10)[:, 1]\n",
        "fpr, tpr, _ = metrics.roc_curve(y_test, rf_probs)\n",
        "auc = metrics.roc_auc_score(y_test, rf_probs)\n",
        "auc = round(auc, 4)\n",
        "plt.plot(fpr, tpr, label=\"date 1, auc=\"+str(auc))\n",
        "plt.legend(loc=4)\n",
        "plt.show()"
      ],
      "execution_count": 71,
      "outputs": [
        {
          "output_type": "display_data",
          "data": {
            "image/png": "[encoded data removed]",
            "text/plain": [
              "<Figure size 432x288 with 1 Axes>"
            ]
          },
          "metadata": {
            "tags": []
          }
        }
      ]
    },
    {
      "cell_type": "markdown",
      "metadata": {
        "colab_type": "text",
        "id": "OL5zl1YKY9xY"
      },
      "source": [
        "Below, we also can examine the confusion matrix, the classification report containing precision, recall, f1-score, and support, All AUC scores, and the mean AUC score\n",
        "\n",
        "The **confusion matrix** is useful for giving false positives and false negatives\n",
        "\n",
        "The **ROC Curve** plots out the true positive rate vs the false positive rate at various thresholds\n",
        "\n",
        "The **ROC AUC Scoring** used in the cross-validation model shows the area under the ROC curve"
      ]
    },
    {
      "cell_type": "code",
      "metadata": {
        "colab_type": "code",
        "id": "dcMjeh_OY9xZ",
        "colab": {
          "base_uri": "https://localhost:8080/",
          "height": 354
        },
        "outputId": "e36fd2ff-d1c6-428d-c785-092b3e80e5d3"
      },
      "source": [
        "print(\"=== Confusion Matrix ===\")\n",
        "print(confusion_matrix(y_test, predictions))\n",
        "print('\\n')\n",
        "print(\"=== Classification Report ===\")\n",
        "print(classification_report(y_test, predictions))\n",
        "print('\\n')\n",
        "print(\"=== Accuracy Score ===\")\n",
        "print(\"Accuracy:\", accuracy_score(y_test, predictions))"
      ],
      "execution_count": 72,
      "outputs": [
        {
          "output_type": "stream",
          "text": [
            "=== Confusion Matrix ===\n",
            "[[248  20]\n",
            " [ 94  18]]\n",
            "\n",
            "\n",
            "=== Classification Report ===\n",
            "              precision    recall  f1-score   support\n",
            "\n",
            "         0.0       0.73      0.93      0.81       268\n",
            "         1.0       0.47      0.16      0.24       112\n",
            "\n",
            "    accuracy                           0.70       380\n",
            "   macro avg       0.60      0.54      0.53       380\n",
            "weighted avg       0.65      0.70      0.64       380\n",
            "\n",
            "\n",
            "\n",
            "=== Accuracy Score ===\n",
            "Accuracy: 0.7\n"
          ],
          "name": "stdout"
        }
      ]
    },
    {
      "cell_type": "markdown",
      "metadata": {
        "id": "4RtJhCWGVEu5",
        "colab_type": "text"
      },
      "source": [
        "**50 Principal Components**"
      ]
    },
    {
      "cell_type": "markdown",
      "metadata": {
        "id": "JpN91JbL9JOA",
        "colab_type": "text"
      },
      "source": [
        "**Train the Model**"
      ]
    },
    {
      "cell_type": "code",
      "metadata": {
        "id": "_dsBsgBv9LWy",
        "colab_type": "code",
        "colab": {
          "base_uri": "https://localhost:8080/",
          "height": 141
        },
        "outputId": "95fa3d61-6a2f-4793-92db-38b7a342eff4"
      },
      "source": [
        "# Instantiate model with 1000 decision trees - results below reported w/ random state = 42\n",
        "rf = RandomForestClassifier(n_estimators = 1000, random_state = 42)\n",
        "\n",
        "# Train the model on training data\n",
        "rf.fit(X_train_pca50, y_train)"
      ],
      "execution_count": 73,
      "outputs": [
        {
          "output_type": "execute_result",
          "data": {
            "text/plain": [
              "RandomForestClassifier(bootstrap=True, class_weight=None, criterion='gini',\n",
              "                       max_depth=None, max_features='auto', max_leaf_nodes=None,\n",
              "                       min_impurity_decrease=0.0, min_impurity_split=None,\n",
              "                       min_samples_leaf=1, min_samples_split=2,\n",
              "                       min_weight_fraction_leaf=0.0, n_estimators=1000,\n",
              "                       n_jobs=None, oob_score=False, random_state=42, verbose=0,\n",
              "                       warm_start=False)"
            ]
          },
          "metadata": {
            "tags": []
          },
          "execution_count": 73
        }
      ]
    },
    {
      "cell_type": "markdown",
      "metadata": {
        "id": "bZbwAmNQ-XdF",
        "colab_type": "text"
      },
      "source": [
        "**Select Important Features**\n",
        "\n",
        "Identify which Principal Components contributed most to the model"
      ]
    },
    {
      "cell_type": "code",
      "metadata": {
        "id": "6_MdbNeW-bHO",
        "colab_type": "code",
        "colab": {
          "base_uri": "https://localhost:8080/",
          "height": 371
        },
        "outputId": "b76959ff-5843-4415-a695-6b11ee7b3c98"
      },
      "source": [
        "# First feature selection test\n",
        "sel = SelectFromModel(RandomForestClassifier(n_estimators = 100))\n",
        "sel.fit(X_train_pca50, y_train)\n",
        "sel.get_support()\n",
        "selected_feat= X_train_pca50.columns[(sel.get_support())]\n",
        "print(len(selected_feat)) \n",
        "print(selected_feat)\n",
        "\n",
        "## histogram of the top 10 pc by importance\n",
        "# create a list of features/column names\n",
        "features = list(X_train_pca50.columns.values) \n",
        "\n",
        "feat_importances = pd.Series(rf.feature_importances_, index=X_train_pca50.columns)  \n",
        "feat_importances.nlargest(10).plot(kind='barh')"
      ],
      "execution_count": 74,
      "outputs": [
        {
          "output_type": "stream",
          "text": [
            "19\n",
            "Index(['pc1', 'pc2', 'pc8', 'pc10', 'pc11', 'pc12', 'pc13', 'pc17', 'pc20',\n",
            "       'pc24', 'pc25', 'pc29', 'pc32', 'pc33', 'pc39', 'pc40', 'pc42', 'pc43',\n",
            "       'pc49'],\n",
            "      dtype='object')\n"
          ],
          "name": "stdout"
        },
        {
          "output_type": "execute_result",
          "data": {
            "text/plain": [
              "<matplotlib.axes._subplots.AxesSubplot at 0x7f729bd2f828>"
            ]
          },
          "metadata": {
            "tags": []
          },
          "execution_count": 74
        },
        {
          "output_type": "display_data",
          "data": {
            "image/png": "[encoded data removed]",
            "text/plain": [
              "<Figure size 432x288 with 1 Axes>"
            ]
          },
          "metadata": {
            "tags": []
          }
        }
      ]
    },
    {
      "cell_type": "markdown",
      "metadata": {
        "id": "FENSsY5l9aDT",
        "colab_type": "text"
      },
      "source": [
        "**Make Predictions on the Test Set**"
      ]
    },
    {
      "cell_type": "code",
      "metadata": {
        "id": "7yKF_xdj9dbD",
        "colab_type": "code",
        "colab": {
          "base_uri": "https://localhost:8080/",
          "height": 34
        },
        "outputId": "39b9bbfb-02db-46a1-a630-5a9bf9ae5570"
      },
      "source": [
        "# Use the forest's predict method on the test data\n",
        "predictions = rf.predict(X_test_pca50)\n",
        "# Probabilities for each class\n",
        "rf_probs = rf.predict_proba(X_test_pca50)[:, 1]\n",
        "\n",
        "# Calculate the absolute errors\n",
        "errors = abs(predictions - y_test)\n",
        "# Print out the mean absolute error (mae)\n",
        "print('Mean Absolute Error:', round(np.mean(errors), 2))"
      ],
      "execution_count": 75,
      "outputs": [
        {
          "output_type": "stream",
          "text": [
            "Mean Absolute Error: 0.28\n"
          ],
          "name": "stdout"
        }
      ]
    },
    {
      "cell_type": "markdown",
      "metadata": {
        "id": "p5pOirYXDrEn",
        "colab_type": "text"
      },
      "source": [
        "**Evaluating the Performance**\n",
        "\n",
        "For Classification Problems the metrics used to evaluate an algorithm are accuracy, confusion matrix, precision, recall, and F1 values.\n",
        "\n",
        "We can also perform cross-fold validation to have a better understanding of the results\n",
        "\n",
        "Reference: https://medium.com/@hjhuney/implementing-a-random-forest-classification-model-in-python-583891c99652 "
      ]
    },
    {
      "cell_type": "markdown",
      "metadata": {
        "id": "Mu4eohUxFVaA",
        "colab_type": "text"
      },
      "source": [
        "**ROC on the Full Data**\n",
        "\n",
        "\n",
        "We make class predictions (predict) as well as predicted probabilities (predict_proba) to calculate the ROC AUC. Once we have the testing predictions, we can calculate the ROC AUC. https://towardsdatascience.com/an-implementation-and-explanation-of-the-random-forest-in-python-77bf308a9b76"
      ]
    },
    {
      "cell_type": "code",
      "metadata": {
        "id": "WrO0-IuE-o0E",
        "colab_type": "code",
        "colab": {
          "base_uri": "https://localhost:8080/",
          "height": 34
        },
        "outputId": "03b634c6-c4e3-4217-da94-97d7ecbeb145"
      },
      "source": [
        "# Calculate ROC AUC\n",
        "roc_value = roc_auc_score(y_test, rf_probs) \n",
        "roc_value"
      ],
      "execution_count": 76,
      "outputs": [
        {
          "output_type": "execute_result",
          "data": {
            "text/plain": [
              "0.6293310234541578"
            ]
          },
          "metadata": {
            "tags": []
          },
          "execution_count": 76
        }
      ]
    },
    {
      "cell_type": "code",
      "metadata": {
        "id": "fyKejE-yF88f",
        "colab_type": "code",
        "colab": {
          "base_uri": "https://localhost:8080/",
          "height": 264
        },
        "outputId": "91a31118-a505-4488-8411-0136877ea229"
      },
      "source": [
        "# Probabilities for each class\n",
        "# Note from scikit learn: re fpr and tpr: \"Since the thresholds are sorted from low to high values, they are reversed upon returning them to ensure they correspond to both fpr and tpr, which are sorted in reversed order during their calculation.\"\n",
        "rf_probs = rf.predict_proba(X_test_pca50)[:, 1]\n",
        "fpr, tpr, _ = metrics.roc_curve(y_test, rf_probs)\n",
        "auc = metrics.roc_auc_score(y_test, rf_probs)\n",
        "auc = round(auc, 4)\n",
        "plt.plot(fpr, tpr, label=\"date 1, auc=\"+str(auc))\n",
        "plt.legend(loc=4)\n",
        "plt.show()"
      ],
      "execution_count": 77,
      "outputs": [
        {
          "output_type": "display_data",
          "data": {
            "image/png": "[encoded data removed]",
            "text/plain": [
              "<Figure size 432x288 with 1 Axes>"
            ]
          },
          "metadata": {
            "tags": []
          }
        }
      ]
    },
    {
      "cell_type": "markdown",
      "metadata": {
        "id": "YEonYh2WEhkU",
        "colab_type": "text"
      },
      "source": [
        "Below, we also can examine the confusion matrix, the classification report containing precision, recall, f1-score, and support, All AUC scores, and the mean AUC score\n",
        "\n",
        "The **confusion matrix** is useful for giving false positives and false negatives\n",
        "\n",
        "The **ROC Curve** plots out the true positive rate vs the false positive rate at various thresholds\n",
        "\n",
        "The **ROC AUC Scoring** used in the cross-validation model shows the area under the ROC curve"
      ]
    },
    {
      "cell_type": "code",
      "metadata": {
        "id": "haZRHJqGcv9f",
        "colab_type": "code",
        "colab": {
          "base_uri": "https://localhost:8080/",
          "height": 354
        },
        "outputId": "06e8617f-0c4f-4b06-9c9a-f17815875e89"
      },
      "source": [
        "print(\"=== Confusion Matrix ===\")\n",
        "print(confusion_matrix(y_test, predictions))\n",
        "print('\\n')\n",
        "print(\"=== Classification Report ===\")\n",
        "print(classification_report(y_test, predictions))\n",
        "print('\\n')\n",
        "print(\"=== Accuracy Score ===\")\n",
        "print(\"Accuracy:\", accuracy_score(y_test, predictions))"
      ],
      "execution_count": 78,
      "outputs": [
        {
          "output_type": "stream",
          "text": [
            "=== Confusion Matrix ===\n",
            "[[264   4]\n",
            " [104   8]]\n",
            "\n",
            "\n",
            "=== Classification Report ===\n",
            "              precision    recall  f1-score   support\n",
            "\n",
            "         0.0       0.72      0.99      0.83       268\n",
            "         1.0       0.67      0.07      0.13       112\n",
            "\n",
            "    accuracy                           0.72       380\n",
            "   macro avg       0.69      0.53      0.48       380\n",
            "weighted avg       0.70      0.72      0.62       380\n",
            "\n",
            "\n",
            "\n",
            "=== Accuracy Score ===\n",
            "Accuracy: 0.7157894736842105\n"
          ],
          "name": "stdout"
        }
      ]
    },
    {
      "cell_type": "markdown",
      "metadata": {
        "colab_type": "text",
        "id": "8LCddO7caqFc"
      },
      "source": [
        "**Clinical Data**"
      ]
    },
    {
      "cell_type": "markdown",
      "metadata": {
        "colab_type": "text",
        "id": "yVI9ZK6NaqFl"
      },
      "source": [
        "**Train the Model**"
      ]
    },
    {
      "cell_type": "code",
      "metadata": {
        "colab_type": "code",
        "id": "BgLlCNGZaqFn",
        "colab": {
          "base_uri": "https://localhost:8080/",
          "height": 141
        },
        "outputId": "efc03bf0-4064-42f2-a470-b41896fa8eda"
      },
      "source": [
        "# Instantiate model with 1000 decision trees - results below reported w/ random state = 42\n",
        "rf = RandomForestClassifier(n_estimators = 1000, random_state = 42)\n",
        "\n",
        "# Train the model on training data\n",
        "rf.fit(X_train, y_train)"
      ],
      "execution_count": 79,
      "outputs": [
        {
          "output_type": "execute_result",
          "data": {
            "text/plain": [
              "RandomForestClassifier(bootstrap=True, class_weight=None, criterion='gini',\n",
              "                       max_depth=None, max_features='auto', max_leaf_nodes=None,\n",
              "                       min_impurity_decrease=0.0, min_impurity_split=None,\n",
              "                       min_samples_leaf=1, min_samples_split=2,\n",
              "                       min_weight_fraction_leaf=0.0, n_estimators=1000,\n",
              "                       n_jobs=None, oob_score=False, random_state=42, verbose=0,\n",
              "                       warm_start=False)"
            ]
          },
          "metadata": {
            "tags": []
          },
          "execution_count": 79
        }
      ]
    },
    {
      "cell_type": "markdown",
      "metadata": {
        "colab_type": "text",
        "id": "ClPP7e7naqFv"
      },
      "source": [
        "**Select Important Features**\n",
        "\n",
        "Identify which Principal Components contributed most to the model"
      ]
    },
    {
      "cell_type": "code",
      "metadata": {
        "colab_type": "code",
        "id": "rkIwQmVnaqFx",
        "colab": {
          "base_uri": "https://localhost:8080/",
          "height": 371
        },
        "outputId": "d39110ce-e133-439e-e7bc-ea47ee5b8a3a"
      },
      "source": [
        "# First feature selection test\n",
        "sel = SelectFromModel(RandomForestClassifier(n_estimators = 100))\n",
        "sel.fit(X_train, y_train)\n",
        "sel.get_support()\n",
        "selected_feat= X_train.columns[(sel.get_support())]\n",
        "print(len(selected_feat)) \n",
        "print(selected_feat)\n",
        "\n",
        "## histogram of the top 10 pc by importance\n",
        "# create a list of features/column names\n",
        "features = list(X_train.columns.values) \n",
        "\n",
        "feat_importances = pd.Series(rf.feature_importances_, index=X_train.columns)  \n",
        "feat_importances.nlargest(10).plot(kind='barh')"
      ],
      "execution_count": 80,
      "outputs": [
        {
          "output_type": "stream",
          "text": [
            "8\n",
            "Index(['lymph_nodes_examined_positive', 'npi', 'age_at_diagnosis',\n",
            "       'hormone_therapy', 'radio_therapy', 'laterality', 'cellularity_High',\n",
            "       'cellularity_Moderate'],\n",
            "      dtype='object')\n"
          ],
          "name": "stdout"
        },
        {
          "output_type": "execute_result",
          "data": {
            "text/plain": [
              "<matplotlib.axes._subplots.AxesSubplot at 0x7f72a1b996a0>"
            ]
          },
          "metadata": {
            "tags": []
          },
          "execution_count": 80
        },
        {
          "output_type": "display_data",
          "data": {
            "image/png": "[encoded data removed]",
            "text/plain": [
              "<Figure size 432x288 with 1 Axes>"
            ]
          },
          "metadata": {
            "tags": []
          }
        }
      ]
    },
    {
      "cell_type": "markdown",
      "metadata": {
        "colab_type": "text",
        "id": "kHqz7z0caqF2"
      },
      "source": [
        "**Make Predictions on the Test Set**"
      ]
    },
    {
      "cell_type": "code",
      "metadata": {
        "colab_type": "code",
        "id": "pyAAjtX7aqF3",
        "colab": {
          "base_uri": "https://localhost:8080/",
          "height": 34
        },
        "outputId": "abaf7886-ad97-4add-dc91-1549a488f9e8"
      },
      "source": [
        "# Use the forest's predict method on the test data\n",
        "predictions = rf.predict(X_test)\n",
        "# Probabilities for each class\n",
        "rf_probs = rf.predict_proba(X_test)[:, 1]\n",
        "\n",
        "# Calculate the absolute errors\n",
        "errors = abs(predictions - y_test)\n",
        "# Print out the mean absolute error (mae)\n",
        "print('Mean Absolute Error:', round(np.mean(errors), 2))"
      ],
      "execution_count": 81,
      "outputs": [
        {
          "output_type": "stream",
          "text": [
            "Mean Absolute Error: 0.29\n"
          ],
          "name": "stdout"
        }
      ]
    },
    {
      "cell_type": "markdown",
      "metadata": {
        "colab_type": "text",
        "id": "CtC0sUPJaqF7"
      },
      "source": [
        "**Evaluating the Performance**\n",
        "\n",
        "For Classification Problems the metrics used to evaluate an algorithm are accuracy, confusion matrix, precision, recall, and F1 values.\n",
        "\n",
        "We can also perform cross-fold validation to have a better understanding of the results\n",
        "\n",
        "Reference: https://medium.com/@hjhuney/implementing-a-random-forest-classification-model-in-python-583891c99652 "
      ]
    },
    {
      "cell_type": "markdown",
      "metadata": {
        "colab_type": "text",
        "id": "1TwhkBiOaqF8"
      },
      "source": [
        "**ROC on the Full Data**\n",
        "\n",
        "\n",
        "We make class predictions (predict) as well as predicted probabilities (predict_proba) to calculate the ROC AUC. Once we have the testing predictions, we can calculate the ROC AUC. https://towardsdatascience.com/an-implementation-and-explanation-of-the-random-forest-in-python-77bf308a9b76"
      ]
    },
    {
      "cell_type": "code",
      "metadata": {
        "colab_type": "code",
        "id": "rh9MeufqaqF8",
        "colab": {
          "base_uri": "https://localhost:8080/",
          "height": 34
        },
        "outputId": "6583d311-59c3-4054-cd0a-c884f639be45"
      },
      "source": [
        "# Calculate ROC AUC\n",
        "roc_value = roc_auc_score(y_test, rf_probs) \n",
        "roc_value"
      ],
      "execution_count": 82,
      "outputs": [
        {
          "output_type": "execute_result",
          "data": {
            "text/plain": [
              "0.6194696162046909"
            ]
          },
          "metadata": {
            "tags": []
          },
          "execution_count": 82
        }
      ]
    },
    {
      "cell_type": "code",
      "metadata": {
        "colab_type": "code",
        "id": "Hkciwi2yaqF_",
        "colab": {
          "base_uri": "https://localhost:8080/",
          "height": 264
        },
        "outputId": "277f126b-2e17-4331-e138-d3bdcdd85230"
      },
      "source": [
        "# Probabilities for each class\n",
        "# Note from scikit learn: re fpr and tpr: \"Since the thresholds are sorted from low to high values, they are reversed upon returning them to ensure they correspond to both fpr and tpr, which are sorted in reversed order during their calculation.\"\n",
        "rf_probs = rf.predict_proba(X_test)[:, 1]\n",
        "fpr, tpr, _ = metrics.roc_curve(y_test, rf_probs)\n",
        "auc = metrics.roc_auc_score(y_test, rf_probs)\n",
        "auc = round(auc, 4)\n",
        "plt.plot(fpr, tpr, label=\"date 1, auc=\"+str(auc))\n",
        "plt.legend(loc=4)\n",
        "plt.show()"
      ],
      "execution_count": 83,
      "outputs": [
        {
          "output_type": "display_data",
          "data": {
            "image/png": "[encoded data removed]",
            "text/plain": [
              "<Figure size 432x288 with 1 Axes>"
            ]
          },
          "metadata": {
            "tags": []
          }
        }
      ]
    },
    {
      "cell_type": "markdown",
      "metadata": {
        "colab_type": "text",
        "id": "8ayl1Ze1aqGB"
      },
      "source": [
        "Below, we also can examine the confusion matrix, the classification report containing precision, recall, f1-score, and support, All AUC scores, and the mean AUC score\n",
        "\n",
        "The **confusion matrix** is useful for giving false positives and false negatives\n",
        "\n",
        "The **ROC Curve** plots out the true positive rate vs the false positive rate at various thresholds\n",
        "\n",
        "The **ROC AUC Scoring** used in the cross-validation model shows the area under the ROC curve"
      ]
    },
    {
      "cell_type": "code",
      "metadata": {
        "colab_type": "code",
        "id": "ik8Kyd3daqGC",
        "colab": {
          "base_uri": "https://localhost:8080/",
          "height": 354
        },
        "outputId": "f10e0d43-76e6-4e42-8c8c-ab6af83ae55a"
      },
      "source": [
        "print(\"=== Confusion Matrix ===\")\n",
        "print(confusion_matrix(y_test, predictions))\n",
        "print('\\n')\n",
        "print(\"=== Classification Report ===\")\n",
        "print(classification_report(y_test, predictions))\n",
        "print('\\n')\n",
        "print(\"=== Accuracy Score ===\")\n",
        "print(\"Accuracy:\", accuracy_score(y_test, predictions))"
      ],
      "execution_count": 84,
      "outputs": [
        {
          "output_type": "stream",
          "text": [
            "=== Confusion Matrix ===\n",
            "[[229  39]\n",
            " [ 73  39]]\n",
            "\n",
            "\n",
            "=== Classification Report ===\n",
            "              precision    recall  f1-score   support\n",
            "\n",
            "         0.0       0.76      0.85      0.80       268\n",
            "         1.0       0.50      0.35      0.41       112\n",
            "\n",
            "    accuracy                           0.71       380\n",
            "   macro avg       0.63      0.60      0.61       380\n",
            "weighted avg       0.68      0.71      0.69       380\n",
            "\n",
            "\n",
            "\n",
            "=== Accuracy Score ===\n",
            "Accuracy: 0.7052631578947368\n"
          ],
          "name": "stdout"
        }
      ]
    },
    {
      "cell_type": "markdown",
      "metadata": {
        "colab_type": "text",
        "id": "bgZI55STbdcu"
      },
      "source": [
        "**Clinical Data + 10 Prinicipal Components**"
      ]
    },
    {
      "cell_type": "markdown",
      "metadata": {
        "colab_type": "text",
        "id": "A7uem5Hbbdcy"
      },
      "source": [
        "**Train the Model**"
      ]
    },
    {
      "cell_type": "code",
      "metadata": {
        "colab_type": "code",
        "id": "kpHVP1_kbdc0",
        "colab": {
          "base_uri": "https://localhost:8080/",
          "height": 141
        },
        "outputId": "9daaa1aa-ec83-487f-d215-f4669e6c78e9"
      },
      "source": [
        "# Instantiate model with 1000 decision trees - results below reported w/ random state = 42\n",
        "rf = RandomForestClassifier(n_estimators = 1000, random_state = 42)\n",
        "\n",
        "# Train the model on training data\n",
        "rf.fit(X_train_clinical_pca10, y_train)"
      ],
      "execution_count": 85,
      "outputs": [
        {
          "output_type": "execute_result",
          "data": {
            "text/plain": [
              "RandomForestClassifier(bootstrap=True, class_weight=None, criterion='gini',\n",
              "                       max_depth=None, max_features='auto', max_leaf_nodes=None,\n",
              "                       min_impurity_decrease=0.0, min_impurity_split=None,\n",
              "                       min_samples_leaf=1, min_samples_split=2,\n",
              "                       min_weight_fraction_leaf=0.0, n_estimators=1000,\n",
              "                       n_jobs=None, oob_score=False, random_state=42, verbose=0,\n",
              "                       warm_start=False)"
            ]
          },
          "metadata": {
            "tags": []
          },
          "execution_count": 85
        }
      ]
    },
    {
      "cell_type": "markdown",
      "metadata": {
        "colab_type": "text",
        "id": "iUXEKeUpbdc7"
      },
      "source": [
        "**Select Important Features**\n",
        "\n",
        "Identify which Principal Components contributed most to the model"
      ]
    },
    {
      "cell_type": "code",
      "metadata": {
        "colab_type": "code",
        "id": "bkvXPuTgbdc-",
        "colab": {
          "base_uri": "https://localhost:8080/",
          "height": 353
        },
        "outputId": "6e7d13e1-ac7a-45f6-8cd1-9e1a5a3a1aca"
      },
      "source": [
        "# First feature selection test\n",
        "sel = SelectFromModel(RandomForestClassifier(n_estimators = 100))\n",
        "sel.fit(X_train_clinical_pca10, y_train)\n",
        "sel.get_support()\n",
        "selected_feat= X_train_clinical_pca10.columns[(sel.get_support())]\n",
        "print(len(selected_feat)) \n",
        "print(selected_feat)\n",
        "\n",
        "## histogram of the top 10 pc by importance\n",
        "# create a list of features/column names\n",
        "features = list(X_train_clinical_pca10.columns.values) \n",
        "\n",
        "feat_importances = pd.Series(rf.feature_importances_, index=X_train_clinical_pca10.columns)  \n",
        "feat_importances.nlargest(10).plot(kind='barh')"
      ],
      "execution_count": 86,
      "outputs": [
        {
          "output_type": "stream",
          "text": [
            "13\n",
            "Index(['lymph_nodes_examined_positive', 'npi', 'age_at_diagnosis', 'pc1',\n",
            "       'pc2', 'pc3', 'pc4', 'pc5', 'pc6', 'pc7', 'pc8', 'pc9', 'pc10'],\n",
            "      dtype='object')\n"
          ],
          "name": "stdout"
        },
        {
          "output_type": "execute_result",
          "data": {
            "text/plain": [
              "<matplotlib.axes._subplots.AxesSubplot at 0x7f729e091be0>"
            ]
          },
          "metadata": {
            "tags": []
          },
          "execution_count": 86
        },
        {
          "output_type": "display_data",
          "data": {
            "image/png": "[encoded data removed]",
            "text/plain": [
              "<Figure size 432x288 with 1 Axes>"
            ]
          },
          "metadata": {
            "tags": []
          }
        }
      ]
    },
    {
      "cell_type": "markdown",
      "metadata": {
        "colab_type": "text",
        "id": "3Ug_NHtabddE"
      },
      "source": [
        "**Make Predictions on the Test Set**"
      ]
    },
    {
      "cell_type": "code",
      "metadata": {
        "colab_type": "code",
        "id": "PwZvRUPWbddG",
        "colab": {
          "base_uri": "https://localhost:8080/",
          "height": 34
        },
        "outputId": "f0691f37-f27d-4cdc-febc-f5f246c7f007"
      },
      "source": [
        "# Use the forest's predict method on the test data\n",
        "predictions = rf.predict(X_test_clinical_pca10)\n",
        "# Probabilities for each class\n",
        "rf_probs = rf.predict_proba(X_test_clinical_pca10)[:, 1]\n",
        "\n",
        "# Calculate the absolute errors\n",
        "errors = abs(predictions - y_test)\n",
        "# Print out the mean absolute error (mae)\n",
        "print('Mean Absolute Error:', round(np.mean(errors), 2))"
      ],
      "execution_count": 87,
      "outputs": [
        {
          "output_type": "stream",
          "text": [
            "Mean Absolute Error: 0.29\n"
          ],
          "name": "stdout"
        }
      ]
    },
    {
      "cell_type": "markdown",
      "metadata": {
        "colab_type": "text",
        "id": "lbkaVv6qbddM"
      },
      "source": [
        "**Evaluating the Performance**\n",
        "\n",
        "For Classification Problems the metrics used to evaluate an algorithm are accuracy, confusion matrix, precision, recall, and F1 values.\n",
        "\n",
        "We can also perform cross-fold validation to have a better understanding of the results\n",
        "\n",
        "Reference: https://medium.com/@hjhuney/implementing-a-random-forest-classification-model-in-python-583891c99652 "
      ]
    },
    {
      "cell_type": "markdown",
      "metadata": {
        "colab_type": "text",
        "id": "Joi87sOVbddN"
      },
      "source": [
        "**ROC on the Full Data**\n",
        "\n",
        "\n",
        "We make class predictions (predict) as well as predicted probabilities (predict_proba) to calculate the ROC AUC. Once we have the testing predictions, we can calculate the ROC AUC. https://towardsdatascience.com/an-implementation-and-explanation-of-the-random-forest-in-python-77bf308a9b76"
      ]
    },
    {
      "cell_type": "code",
      "metadata": {
        "colab_type": "code",
        "id": "D0wfMZRnbddO",
        "colab": {
          "base_uri": "https://localhost:8080/",
          "height": 34
        },
        "outputId": "a511c0a5-1952-447c-f330-18bf576b0857"
      },
      "source": [
        "# Calculate ROC AUC\n",
        "roc_value = roc_auc_score(y_test, rf_probs) \n",
        "roc_value"
      ],
      "execution_count": 88,
      "outputs": [
        {
          "output_type": "execute_result",
          "data": {
            "text/plain": [
              "0.6861673773987208"
            ]
          },
          "metadata": {
            "tags": []
          },
          "execution_count": 88
        }
      ]
    },
    {
      "cell_type": "code",
      "metadata": {
        "colab_type": "code",
        "id": "cOWGcrexbddQ",
        "colab": {
          "base_uri": "https://localhost:8080/",
          "height": 264
        },
        "outputId": "f269f3c0-eb46-4c43-8cc2-e1ee91424447"
      },
      "source": [
        "# Probabilities for each class\n",
        "# Note from scikit learn: re fpr and tpr: \"Since the thresholds are sorted from low to high values, they are reversed upon returning them to ensure they correspond to both fpr and tpr, which are sorted in reversed order during their calculation.\"\n",
        "rf_probs = rf.predict_proba(X_test_clinical_pca10)[:, 1]\n",
        "fpr, tpr, _ = metrics.roc_curve(y_test, rf_probs)\n",
        "auc = metrics.roc_auc_score(y_test, rf_probs)\n",
        "auc = round(auc, 4)\n",
        "plt.plot(fpr, tpr, label=\"date 1, auc=\"+str(auc))\n",
        "plt.legend(loc=4)\n",
        "plt.show()"
      ],
      "execution_count": 89,
      "outputs": [
        {
          "output_type": "display_data",
          "data": {
            "image/png": "[encoded data removed]",
            "text/plain": [
              "<Figure size 432x288 with 1 Axes>"
            ]
          },
          "metadata": {
            "tags": []
          }
        }
      ]
    },
    {
      "cell_type": "markdown",
      "metadata": {
        "colab_type": "text",
        "id": "ydzXcVunbddT"
      },
      "source": [
        "Below, we also can examine the confusion matrix, the classification report containing precision, recall, f1-score, and support, All AUC scores, and the mean AUC score\n",
        "\n",
        "The **confusion matrix** is useful for giving false positives and false negatives\n",
        "\n",
        "The **ROC Curve** plots out the true positive rate vs the false positive rate at various thresholds\n",
        "\n",
        "The **ROC AUC Scoring** used in the cross-validation model shows the area under the ROC curve"
      ]
    },
    {
      "cell_type": "code",
      "metadata": {
        "colab_type": "code",
        "id": "wFnCQnlRbddT",
        "colab": {
          "base_uri": "https://localhost:8080/",
          "height": 354
        },
        "outputId": "01359e4a-67d7-44ce-aa7b-c79a0207188e"
      },
      "source": [
        "print(\"=== Confusion Matrix ===\")\n",
        "print(confusion_matrix(y_test, predictions))\n",
        "print('\\n')\n",
        "print(\"=== Classification Report ===\")\n",
        "print(classification_report(y_test, predictions))\n",
        "print('\\n')\n",
        "print(\"=== Accuracy Score ===\")\n",
        "print(\"Accuracy:\", accuracy_score(y_test, predictions))"
      ],
      "execution_count": 90,
      "outputs": [
        {
          "output_type": "stream",
          "text": [
            "=== Confusion Matrix ===\n",
            "[[236  32]\n",
            " [ 78  34]]\n",
            "\n",
            "\n",
            "=== Classification Report ===\n",
            "              precision    recall  f1-score   support\n",
            "\n",
            "         0.0       0.75      0.88      0.81       268\n",
            "         1.0       0.52      0.30      0.38       112\n",
            "\n",
            "    accuracy                           0.71       380\n",
            "   macro avg       0.63      0.59      0.60       380\n",
            "weighted avg       0.68      0.71      0.68       380\n",
            "\n",
            "\n",
            "\n",
            "=== Accuracy Score ===\n",
            "Accuracy: 0.7105263157894737\n"
          ],
          "name": "stdout"
        }
      ]
    },
    {
      "cell_type": "markdown",
      "metadata": {
        "colab_type": "text",
        "id": "HFHJ3zurct29"
      },
      "source": [
        "**Clinical Data + 50 Prinicipal Components**"
      ]
    },
    {
      "cell_type": "markdown",
      "metadata": {
        "colab_type": "text",
        "id": "UF3jYgypct3A"
      },
      "source": [
        "**Train the Model**"
      ]
    },
    {
      "cell_type": "code",
      "metadata": {
        "colab_type": "code",
        "id": "sm67V_dCct3D",
        "colab": {
          "base_uri": "https://localhost:8080/",
          "height": 141
        },
        "outputId": "264243a7-22da-4e2c-f1f2-8ff99fd39eaf"
      },
      "source": [
        "# Instantiate model with 1000 decision trees - results below reported w/ random state = 42\n",
        "rf = RandomForestClassifier(n_estimators = 1000, random_state = 42)\n",
        "\n",
        "# Train the model on training data\n",
        "rf.fit(X_train_clinical_pca50, y_train)"
      ],
      "execution_count": 91,
      "outputs": [
        {
          "output_type": "execute_result",
          "data": {
            "text/plain": [
              "RandomForestClassifier(bootstrap=True, class_weight=None, criterion='gini',\n",
              "                       max_depth=None, max_features='auto', max_leaf_nodes=None,\n",
              "                       min_impurity_decrease=0.0, min_impurity_split=None,\n",
              "                       min_samples_leaf=1, min_samples_split=2,\n",
              "                       min_weight_fraction_leaf=0.0, n_estimators=1000,\n",
              "                       n_jobs=None, oob_score=False, random_state=42, verbose=0,\n",
              "                       warm_start=False)"
            ]
          },
          "metadata": {
            "tags": []
          },
          "execution_count": 91
        }
      ]
    },
    {
      "cell_type": "markdown",
      "metadata": {
        "colab_type": "text",
        "id": "2j6QJzrjct3J"
      },
      "source": [
        "**Select Important Features**\n",
        "\n",
        "Identify which Principal Components contributed most to the model"
      ]
    },
    {
      "cell_type": "code",
      "metadata": {
        "colab_type": "code",
        "id": "AVvDcd6Oct3M",
        "colab": {
          "base_uri": "https://localhost:8080/",
          "height": 442
        },
        "outputId": "4edba213-be29-4c01-943b-493da1ca9f3d"
      },
      "source": [
        "# First feature selection test\n",
        "sel = SelectFromModel(RandomForestClassifier(n_estimators = 100))\n",
        "sel.fit(X_train_clinical_pca50, y_train)\n",
        "sel.get_support()\n",
        "selected_feat= X_train_clinical_pca50.columns[(sel.get_support())]\n",
        "print(len(selected_feat)) \n",
        "print(selected_feat)\n",
        "\n",
        "## histogram of the top 10 pc by importance\n",
        "# create a list of features/column names\n",
        "features = list(X_train_clinical_pca50.columns.values) \n",
        "\n",
        "feat_importances = pd.Series(rf.feature_importances_, index=X_train_clinical_pca50.columns)  \n",
        "feat_importances.nlargest(10).plot(kind='barh')"
      ],
      "execution_count": 92,
      "outputs": [
        {
          "output_type": "stream",
          "text": [
            "53\n",
            "Index(['lymph_nodes_examined_positive', 'npi', 'age_at_diagnosis', 'pc1',\n",
            "       'pc2', 'pc3', 'pc4', 'pc5', 'pc6', 'pc7', 'pc8', 'pc9', 'pc10', 'pc11',\n",
            "       'pc12', 'pc13', 'pc14', 'pc15', 'pc16', 'pc17', 'pc18', 'pc19', 'pc20',\n",
            "       'pc21', 'pc22', 'pc23', 'pc24', 'pc25', 'pc26', 'pc27', 'pc28', 'pc29',\n",
            "       'pc30', 'pc31', 'pc32', 'pc33', 'pc34', 'pc35', 'pc36', 'pc37', 'pc38',\n",
            "       'pc39', 'pc40', 'pc41', 'pc42', 'pc43', 'pc44', 'pc45', 'pc46', 'pc47',\n",
            "       'pc48', 'pc49', 'pc50'],\n",
            "      dtype='object')\n"
          ],
          "name": "stdout"
        },
        {
          "output_type": "execute_result",
          "data": {
            "text/plain": [
              "<matplotlib.axes._subplots.AxesSubplot at 0x7f729bc88588>"
            ]
          },
          "metadata": {
            "tags": []
          },
          "execution_count": 92
        },
        {
          "output_type": "display_data",
          "data": {
            "image/png": "[encoded data removed]",
            "text/plain": [
              "<Figure size 432x288 with 1 Axes>"
            ]
          },
          "metadata": {
            "tags": []
          }
        }
      ]
    },
    {
      "cell_type": "markdown",
      "metadata": {
        "colab_type": "text",
        "id": "GzY5dmhUct3U"
      },
      "source": [
        "**Make Predictions on the Test Set**"
      ]
    },
    {
      "cell_type": "code",
      "metadata": {
        "colab_type": "code",
        "id": "jjCoRemuct3W",
        "colab": {
          "base_uri": "https://localhost:8080/",
          "height": 34
        },
        "outputId": "fbe51a73-133d-4325-8129-fd08c51b97c5"
      },
      "source": [
        "# Use the forest's predict method on the test data\n",
        "predictions = rf.predict(X_test_clinical_pca50)\n",
        "# Probabilities for each class\n",
        "rf_probs = rf.predict_proba(X_test_clinical_pca50)[:, 1]\n",
        "\n",
        "# Calculate the absolute errors\n",
        "errors = abs(predictions - y_test)\n",
        "# Print out the mean absolute error (mae)\n",
        "print('Mean Absolute Error:', round(np.mean(errors), 2))"
      ],
      "execution_count": 93,
      "outputs": [
        {
          "output_type": "stream",
          "text": [
            "Mean Absolute Error: 0.26\n"
          ],
          "name": "stdout"
        }
      ]
    },
    {
      "cell_type": "markdown",
      "metadata": {
        "colab_type": "text",
        "id": "kzM629v5ct3a"
      },
      "source": [
        "**Evaluating the Performance**\n",
        "\n",
        "For Classification Problems the metrics used to evaluate an algorithm are accuracy, confusion matrix, precision, recall, and F1 values.\n",
        "\n",
        "We can also perform cross-fold validation to have a better understanding of the results\n",
        "\n",
        "Reference: https://medium.com/@hjhuney/implementing-a-random-forest-classification-model-in-python-583891c99652 "
      ]
    },
    {
      "cell_type": "markdown",
      "metadata": {
        "colab_type": "text",
        "id": "7a7as0I1ct3b"
      },
      "source": [
        "**ROC on the Full Data**\n",
        "\n",
        "\n",
        "We make class predictions (predict) as well as predicted probabilities (predict_proba) to calculate the ROC AUC. Once we have the testing predictions, we can calculate the ROC AUC. https://towardsdatascience.com/an-implementation-and-explanation-of-the-random-forest-in-python-77bf308a9b76"
      ]
    },
    {
      "cell_type": "code",
      "metadata": {
        "colab_type": "code",
        "id": "95BDhr5Dct3c",
        "colab": {
          "base_uri": "https://localhost:8080/",
          "height": 34
        },
        "outputId": "de0aff97-c861-4344-ac82-3449209382a1"
      },
      "source": [
        "# Calculate ROC AUC\n",
        "roc_value = roc_auc_score(y_test, rf_probs) \n",
        "roc_value"
      ],
      "execution_count": 94,
      "outputs": [
        {
          "output_type": "execute_result",
          "data": {
            "text/plain": [
              "0.6782049573560769"
            ]
          },
          "metadata": {
            "tags": []
          },
          "execution_count": 94
        }
      ]
    },
    {
      "cell_type": "code",
      "metadata": {
        "colab_type": "code",
        "id": "y5vvJI_lct3e",
        "colab": {
          "base_uri": "https://localhost:8080/",
          "height": 264
        },
        "outputId": "537c1547-5bcc-4fe9-bd98-eb3075e2e085"
      },
      "source": [
        "# Probabilities for each class\n",
        "# Note from scikit learn: re fpr and tpr: \"Since the thresholds are sorted from low to high values, they are reversed upon returning them to ensure they correspond to both fpr and tpr, which are sorted in reversed order during their calculation.\"\n",
        "rf_probs = rf.predict_proba(X_test_clinical_pca50)[:, 1]\n",
        "fpr, tpr, _ = metrics.roc_curve(y_test, rf_probs)\n",
        "auc = metrics.roc_auc_score(y_test, rf_probs)\n",
        "auc = round(auc, 4)\n",
        "plt.plot(fpr, tpr, label=\"date 1, auc=\"+str(auc))\n",
        "plt.legend(loc=4)\n",
        "plt.show()"
      ],
      "execution_count": 95,
      "outputs": [
        {
          "output_type": "display_data",
          "data": {
            "image/png": "[encoded data removed]",
            "text/plain": [
              "<Figure size 432x288 with 1 Axes>"
            ]
          },
          "metadata": {
            "tags": []
          }
        }
      ]
    },
    {
      "cell_type": "markdown",
      "metadata": {
        "colab_type": "text",
        "id": "e1CqmSJzct3j"
      },
      "source": [
        "Below, we also can examine the confusion matrix, the classification report containing precision, recall, f1-score, and support, All AUC scores, and the mean AUC score\n",
        "\n",
        "The **confusion matrix** is useful for giving false positives and false negatives\n",
        "\n",
        "The **ROC Curve** plots out the true positive rate vs the false positive rate at various thresholds\n",
        "\n",
        "The **ROC AUC Scoring** used in the cross-validation model shows the area under the ROC curve"
      ]
    },
    {
      "cell_type": "code",
      "metadata": {
        "colab_type": "code",
        "id": "KFvlBPrBct3k",
        "colab": {
          "base_uri": "https://localhost:8080/",
          "height": 354
        },
        "outputId": "bcd18123-2189-4984-9a77-414ce5baaba3"
      },
      "source": [
        "print(\"=== Confusion Matrix ===\")\n",
        "print(confusion_matrix(y_test, predictions))\n",
        "print('\\n')\n",
        "print(\"=== Classification Report ===\")\n",
        "print(classification_report(y_test, predictions))\n",
        "print('\\n')\n",
        "print(\"=== Accuracy Score ===\")\n",
        "print(\"Accuracy:\", accuracy_score(y_test, predictions))"
      ],
      "execution_count": 96,
      "outputs": [
        {
          "output_type": "stream",
          "text": [
            "=== Confusion Matrix ===\n",
            "[[251  17]\n",
            " [ 83  29]]\n",
            "\n",
            "\n",
            "=== Classification Report ===\n",
            "              precision    recall  f1-score   support\n",
            "\n",
            "         0.0       0.75      0.94      0.83       268\n",
            "         1.0       0.63      0.26      0.37       112\n",
            "\n",
            "    accuracy                           0.74       380\n",
            "   macro avg       0.69      0.60      0.60       380\n",
            "weighted avg       0.72      0.74      0.70       380\n",
            "\n",
            "\n",
            "\n",
            "=== Accuracy Score ===\n",
            "Accuracy: 0.7368421052631579\n"
          ],
          "name": "stdout"
        }
      ]
    },
    {
      "cell_type": "markdown",
      "metadata": {
        "id": "420bkLBwGp6A",
        "colab_type": "text"
      },
      "source": [
        "# **PyTorch Neural Network For Classification**\n",
        "\n",
        "We will evaluate the use of a neural network classifier on the testing data as developed above and compare the outputs to the logistic regression and random forest classifiers above. "
      ]
    },
    {
      "cell_type": "code",
      "metadata": {
        "id": "jhs-KCueHlKj",
        "colab_type": "code",
        "colab": {}
      },
      "source": [
        "# Import PyTorch packages\n",
        "import torch\n",
        "from torch import nn\n",
        "from torchvision import datasets, transforms\n",
        "from torch import optim\n",
        "from torch.utils.data.sampler import SubsetRandomSampler\n",
        "from torch.utils.data.dataloader import DataLoader\n",
        "from torch.utils.data import TensorDataset\n",
        "import torch.nn.functional as F\n",
        "from sklearn.metrics import roc_curve, auc\n",
        "from sklearn.metrics import classification_report, confusion_matrix, accuracy_score"
      ],
      "execution_count": 0,
      "outputs": []
    },
    {
      "cell_type": "markdown",
      "metadata": {
        "colab_type": "text",
        "id": "1MsZOWGz6prY"
      },
      "source": [
        "**50 Principal Components**"
      ]
    },
    {
      "cell_type": "code",
      "metadata": {
        "colab_type": "code",
        "id": "Nm5-qZSn6prd",
        "colab": {}
      },
      "source": [
        "# Convert data into arrays\n",
        "xb = np.array(X_train_pca50, dtype = \"float32\")\n",
        "yb = np.array(y_train, dtype = \"float32\")\n",
        "\n",
        "# Convert arrays into tensors\n",
        "xb = torch.from_numpy(xb)\n",
        "yb = torch.from_numpy(yb)\n",
        "\n",
        "# Combine the arrays\n",
        "trainloader = TensorDataset(xb, yb)\n",
        "\n",
        "# Define the batchsize\n",
        "batch_size = 32\n",
        "\n",
        "# Training Loader\n",
        "trainloader = DataLoader(trainloader, batch_size, shuffle=True)"
      ],
      "execution_count": 0,
      "outputs": []
    },
    {
      "cell_type": "markdown",
      "metadata": {
        "colab_type": "text",
        "id": "CgVys2Z16prj"
      },
      "source": [
        "**Format the Testing Dataset**"
      ]
    },
    {
      "cell_type": "code",
      "metadata": {
        "colab_type": "code",
        "id": "c60S4o-c6prk",
        "colab": {}
      },
      "source": [
        "# Convert data into arrays\n",
        "xb = np.array(X_test_pca50, dtype = \"float32\")\n",
        "yb = np.array(y_test, dtype = \"float32\")\n",
        "\n",
        "# Convert arrays into tensors\n",
        "xb = torch.from_numpy(xb)\n",
        "yb = torch.from_numpy(yb)\n",
        "\n",
        "# Combine the arrays\n",
        "testloader = TensorDataset(xb, yb) \n",
        "\n",
        "# Define the batchsize\n",
        "batch_size= 32\n",
        "\n",
        "# Training Loader\n",
        "testloader = DataLoader(testloader, batch_size, shuffle=True) "
      ],
      "execution_count": 0,
      "outputs": []
    },
    {
      "cell_type": "markdown",
      "metadata": {
        "colab_type": "text",
        "id": "IdgUp59Y6prn"
      },
      "source": [
        "**Create Neural Network Model**"
      ]
    },
    {
      "cell_type": "code",
      "metadata": {
        "colab_type": "code",
        "id": "kr0U4Pxv6prn",
        "colab": {
          "base_uri": "https://localhost:8080/",
          "height": 1000
        },
        "outputId": "a763a8da-bcc6-4930-8388-932d3cd82edd"
      },
      "source": [
        "# Define the model with hidden layers - 50 inputs\n",
        "model = nn.Sequential(nn.Linear(50, 30),\n",
        "                      nn.ReLU(),\n",
        "                      nn.Linear(30, 1),\n",
        "                      nn.Sigmoid())\n",
        "                      \n",
        "                      \n",
        "# Set optimizer and learning rate\n",
        "#optimizer = optim.SGD(model.parameters(), lr=0.003)\n",
        "\n",
        "# Could also use Adam optimizer; similar to stochastic gradient descent, but uses momentum which can speed up the actual fitting process, and it also adjusts the learning rate for each of the individual parameters in the model\n",
        "optimizer = optim.Adam(model.parameters(), lr=0.001)\n",
        "\n",
        "criterion = nn.BCELoss() # use with a sigmoid function\n",
        "\n",
        "#criterion = nn.CrossEntropyLoss() #don't use with softmax or sigmoid\n",
        "\n",
        "# Set epochs\n",
        "epochs = 200\n",
        "for e in range(epochs):\n",
        "    running_loss = 0\n",
        "    for xb, yb in trainloader:\n",
        "        \n",
        "        # Clear the gradients, do this because gradients are accumulated\n",
        "        optimizer.zero_grad()\n",
        "        \n",
        "        # Training pass\n",
        "        output = model.forward(xb)\n",
        "        loss = criterion(output, yb) # Loss calculated from the output compared to the labels  \n",
        "        loss.backward()\n",
        "        optimizer.step()\n",
        "        \n",
        "        running_loss += loss.item() # loss.item() gets the scalar value held in the loss. Running_loss = 0, \n",
        "        # += notation, says \"Add a value and the variable and assigns the result to that variable.\" So, adds the running_loss (0) with loss.item and assigns to running_loss\n",
        "    else:\n",
        "        print(f\"Training loss: {running_loss/len(trainloader)}\")"
      ],
      "execution_count": 100,
      "outputs": [
        {
          "output_type": "stream",
          "text": [
            "/usr/local/lib/python3.6/dist-packages/torch/nn/modules/loss.py:498: UserWarning: Using a target size (torch.Size([32])) that is different to the input size (torch.Size([32, 1])) is deprecated. Please ensure they have the same size.\n",
            "  return F.binary_cross_entropy(input, target, weight=self.weight, reduction=self.reduction)\n",
            "/usr/local/lib/python3.6/dist-packages/torch/nn/modules/loss.py:498: UserWarning: Using a target size (torch.Size([19])) that is different to the input size (torch.Size([19, 1])) is deprecated. Please ensure they have the same size.\n",
            "  return F.binary_cross_entropy(input, target, weight=self.weight, reduction=self.reduction)\n"
          ],
          "name": "stderr"
        },
        {
          "output_type": "stream",
          "text": [
            "Training loss: 1.0895805723137326\n",
            "Training loss: 0.6973954596453242\n",
            "Training loss: 0.6189166373676724\n",
            "Training loss: 0.5771215740177367\n",
            "Training loss: 0.5519161472717921\n",
            "Training loss: 0.5209532984428935\n",
            "Training loss: 0.5064955105384191\n",
            "Training loss: 0.48935263107220334\n",
            "Training loss: 0.47562016463942\n",
            "Training loss: 0.45633852150705123\n",
            "Training loss: 0.4457061265905698\n",
            "Training loss: 0.4309427829252349\n",
            "Training loss: 0.41659045219421387\n",
            "Training loss: 0.40433773977888954\n",
            "Training loss: 0.39477937958306736\n",
            "Training loss: 0.3799220348397891\n",
            "Training loss: 0.37325171132882434\n",
            "Training loss: 0.3586730940474404\n",
            "Training loss: 0.34760888831482994\n",
            "Training loss: 0.3368730946547455\n",
            "Training loss: 0.32798897392219967\n",
            "Training loss: 0.3122410186462932\n",
            "Training loss: 0.3047850877046585\n",
            "Training loss: 0.29575879830453133\n",
            "Training loss: 0.2877996501823266\n",
            "Training loss: 0.27386095540391076\n",
            "Training loss: 0.26719362123144996\n",
            "Training loss: 0.263570392711295\n",
            "Training loss: 0.254850344111522\n",
            "Training loss: 0.24461024130384126\n",
            "Training loss: 0.2372296051018768\n",
            "Training loss: 0.22755686276488835\n",
            "Training loss: 0.21612521509329477\n",
            "Training loss: 0.2128300629556179\n",
            "Training loss: 0.20044423350029522\n",
            "Training loss: 0.19406403911610445\n",
            "Training loss: 0.19241035274333423\n",
            "Training loss: 0.18483074920045006\n",
            "Training loss: 0.1763939071032736\n",
            "Training loss: 0.1696408037096262\n",
            "Training loss: 0.16336532847748864\n",
            "Training loss: 0.1553708246598641\n",
            "Training loss: 0.15211664533449543\n",
            "Training loss: 0.14602993159658378\n",
            "Training loss: 0.13866244049535859\n",
            "Training loss: 0.13763059137596023\n",
            "Training loss: 0.13119592455526194\n",
            "Training loss: 0.12511680399378142\n",
            "Training loss: 0.11838387946287791\n",
            "Training loss: 0.11636990939991342\n",
            "Training loss: 0.10911064098278682\n",
            "Training loss: 0.1040757658580939\n",
            "Training loss: 0.10339228550179137\n",
            "Training loss: 0.09836389434834321\n",
            "Training loss: 0.09956714345349206\n",
            "Training loss: 0.09031588273743789\n",
            "Training loss: 0.08683739374909136\n",
            "Training loss: 0.08313127576063077\n",
            "Training loss: 0.0803719110166033\n",
            "Training loss: 0.07677164104663664\n",
            "Training loss: 0.07316811382770538\n",
            "Training loss: 0.07156292731977171\n",
            "Training loss: 0.06908640601775712\n",
            "Training loss: 0.06452509015798569\n",
            "Training loss: 0.06384427933436301\n",
            "Training loss: 0.060354202054440975\n",
            "Training loss: 0.05599539675232437\n",
            "Training loss: 0.05408605741750863\n",
            "Training loss: 0.053511434234678745\n",
            "Training loss: 0.05024175113067031\n",
            "Training loss: 0.0487504068037702\n",
            "Training loss: 0.04654117580503225\n",
            "Training loss: 0.04659455709366335\n",
            "Training loss: 0.04361111386161712\n",
            "Training loss: 0.042866443283855915\n",
            "Training loss: 0.04064337448734376\n",
            "Training loss: 0.03948107558406062\n",
            "Training loss: 0.03788504180394941\n",
            "Training loss: 0.03573703874523441\n",
            "Training loss: 0.034870869687034026\n",
            "Training loss: 0.03439657317681445\n",
            "Training loss: 0.03213538286379642\n",
            "Training loss: 0.03146933003639182\n",
            "Training loss: 0.030773924715403054\n",
            "Training loss: 0.02875386954595645\n",
            "Training loss: 0.027352973560078278\n",
            "Training loss: 0.026104009865472715\n",
            "Training loss: 0.025586459837439988\n",
            "Training loss: 0.02519650027776758\n",
            "Training loss: 0.023837983039104275\n",
            "Training loss: 0.023383602189520996\n",
            "Training loss: 0.022574714255622692\n",
            "Training loss: 0.021682214017750487\n",
            "Training loss: 0.020545861787266202\n",
            "Training loss: 0.02040982267094983\n",
            "Training loss: 0.019607404686717525\n",
            "Training loss: 0.01915454523017009\n",
            "Training loss: 0.017933976733022265\n",
            "Training loss: 0.01779553283833795\n",
            "Training loss: 0.016849324986752536\n",
            "Training loss: 0.01682217033683426\n",
            "Training loss: 0.016203894292832248\n",
            "Training loss: 0.015534419812158577\n",
            "Training loss: 0.014867624242065681\n",
            "Training loss: 0.014373757177963853\n",
            "Training loss: 0.014219845114793215\n",
            "Training loss: 0.013433097603006495\n",
            "Training loss: 0.01326591579709202\n",
            "Training loss: 0.012761513883661892\n",
            "Training loss: 0.012542149996281497\n",
            "Training loss: 0.011861922568641603\n",
            "Training loss: 0.01150836433387465\n",
            "Training loss: 0.011222435562457476\n",
            "Training loss: 0.010905628144327138\n",
            "Training loss: 0.010733232561809322\n",
            "Training loss: 0.010278885433864262\n",
            "Training loss: 0.009899326664809551\n",
            "Training loss: 0.009755526307142444\n",
            "Training loss: 0.009426213244700598\n",
            "Training loss: 0.009283950306578644\n",
            "Training loss: 0.0088018250082516\n",
            "Training loss: 0.008643736053879062\n",
            "Training loss: 0.00848553850988133\n",
            "Training loss: 0.008056981780100614\n",
            "Training loss: 0.00788343420976566\n",
            "Training loss: 0.007803437397039185\n",
            "Training loss: 0.007437161195816265\n",
            "Training loss: 0.007309208818090458\n",
            "Training loss: 0.007002348558873766\n",
            "Training loss: 0.007053747449794577\n",
            "Training loss: 0.0067484735627658665\n",
            "Training loss: 0.006661082837834126\n",
            "Training loss: 0.00628689172056814\n",
            "Training loss: 0.006183321904649751\n",
            "Training loss: 0.005866914114449173\n",
            "Training loss: 0.00573625029452766\n",
            "Training loss: 0.005661179324508541\n",
            "Training loss: 0.005417026327146838\n",
            "Training loss: 0.005343129522063666\n",
            "Training loss: 0.005241124276330488\n",
            "Training loss: 0.005014221985927886\n",
            "Training loss: 0.004938389704976644\n",
            "Training loss: 0.004883354057609621\n",
            "Training loss: 0.004639617050997913\n",
            "Training loss: 0.004602796702076578\n",
            "Training loss: 0.004508914361293945\n",
            "Training loss: 0.004325636778958142\n",
            "Training loss: 0.004209181571948445\n",
            "Training loss: 0.004114603209826682\n",
            "Training loss: 0.004006246001356178\n",
            "Training loss: 0.003920078665638964\n",
            "Training loss: 0.00382671156936946\n",
            "Training loss: 0.0037048858422268596\n",
            "Training loss: 0.003645474809066703\n",
            "Training loss: 0.003495372240043556\n",
            "Training loss: 0.0034506249422621396\n",
            "Training loss: 0.0033502789350071303\n",
            "Training loss: 0.003219163391299339\n",
            "Training loss: 0.0031879833000453394\n",
            "Training loss: 0.003141658810717571\n",
            "Training loss: 0.003046347048237092\n",
            "Training loss: 0.0030038049703256953\n",
            "Training loss: 0.002909864809933222\n",
            "Training loss: 0.002836224422531409\n",
            "Training loss: 0.002751897338182769\n",
            "Training loss: 0.0026614288702451936\n",
            "Training loss: 0.0026015256104680398\n",
            "Training loss: 0.002593239911624955\n",
            "Training loss: 0.0025373911646763897\n",
            "Training loss: 0.0024667062033485207\n",
            "Training loss: 0.002401018638112065\n",
            "Training loss: 0.0023312054108828306\n",
            "Training loss: 0.002279834962488773\n",
            "Training loss: 0.0022466355747181093\n",
            "Training loss: 0.0021813010551138884\n",
            "Training loss: 0.0021411156954450738\n",
            "Training loss: 0.0020488403517649406\n",
            "Training loss: 0.0020454700538215954\n",
            "Training loss: 0.0019723712304969216\n",
            "Training loss: 0.001959864169798998\n",
            "Training loss: 0.0018897013279557642\n",
            "Training loss: 0.0018502356801440732\n",
            "Training loss: 0.001792268006182793\n",
            "Training loss: 0.001774896340470554\n",
            "Training loss: 0.0017385687711389943\n",
            "Training loss: 0.0017137284772211893\n",
            "Training loss: 0.001645473821554333\n",
            "Training loss: 0.0016103856339921346\n",
            "Training loss: 0.0015947625927057946\n",
            "Training loss: 0.0015516748583953206\n",
            "Training loss: 0.0015136636421731156\n",
            "Training loss: 0.0014564852560094248\n",
            "Training loss: 0.0014264313099879979\n",
            "Training loss: 0.001392655459413719\n",
            "Training loss: 0.0013615576252858671\n",
            "Training loss: 0.0013357082886310916\n",
            "Training loss: 0.0013110625877743587\n",
            "Training loss: 0.0012615219440906206\n",
            "Training loss: 0.0012409352493705228\n",
            "Training loss: 0.001193515443851033\n"
          ],
          "name": "stdout"
        }
      ]
    },
    {
      "cell_type": "markdown",
      "metadata": {
        "colab_type": "text",
        "id": "I-Jve8Lo6prr"
      },
      "source": [
        "**Evaluate Model Performance**"
      ]
    },
    {
      "cell_type": "code",
      "metadata": {
        "colab_type": "code",
        "id": "Bbtn1GYB6prs",
        "colab": {
          "base_uri": "https://localhost:8080/",
          "height": 632
        },
        "outputId": "70b74c0b-8505-43d8-91b2-8db9136c2502"
      },
      "source": [
        "# Convert data into arrays\n",
        "xb = np.array(X_test_pca50, dtype = \"float32\")\n",
        "yb = np.array(y_test, dtype = \"float32\")\n",
        "\n",
        "# Convert arrays into tensors\n",
        "xb = torch.from_numpy(xb)\n",
        "yb = torch.from_numpy(yb)\n",
        "\n",
        "# Apply the model to the whole testing dataset\n",
        "ps = model(xb)\n",
        "\n",
        "#print('Probabilities', ps[:10])\n",
        "\n",
        "# Obtain the top probability\n",
        "top_p, top_class = ps.topk(1, dim=1)\n",
        "#print('true vals', yb[:10])\n",
        "\n",
        "# Drop the grad \n",
        "top_p = top_p.detach().numpy()\n",
        "top_class = top_class.detach().numpy()\n",
        "\n",
        "top_class = (top_p >= 0.5).astype(np.int)\n",
        "#print('top class', top_class[:10])\n",
        "\n",
        "# Compute ROC curve\n",
        "fpr, tpr, thresholds = roc_curve(yb, top_p, pos_label=1)\n",
        "\n",
        "# Compute ROC area\n",
        "roc_auc = round(auc(fpr, tpr),3)\n",
        "plt.figure()\n",
        "plt.plot(fpr, tpr, color='darkorange', label='ROC curve (area = %0.3f)' % roc_auc)\n",
        "plt.plot([0, 1], [0, 1], color='navy', linestyle='--')\n",
        "plt.xlim([-0.01, 1.0])\n",
        "plt.ylim([0.0, 1.01])\n",
        "plt.xlabel('False Positive Rate')\n",
        "plt.ylabel('True Positive Rate')\n",
        "plt.title('Receiver operating characteristic')\n",
        "plt.legend(loc=\"lower right\")\n",
        "\n",
        "# Classification Report\n",
        "print(\"=== Confusion Matrix ===\")\n",
        "print(confusion_matrix(yb, top_class))\n",
        "print('\\n')\n",
        "print(\"=== Classification Report ===\")\n",
        "print(classification_report(yb, top_class))\n",
        "print('\\n')\n",
        "print(\"=== Accuracy Score ===\")\n",
        "print(\"Accuracy:\", round(accuracy_score(yb, top_class),3))"
      ],
      "execution_count": 101,
      "outputs": [
        {
          "output_type": "stream",
          "text": [
            "=== Confusion Matrix ===\n",
            "[[205  63]\n",
            " [ 69  43]]\n",
            "\n",
            "\n",
            "=== Classification Report ===\n",
            "              precision    recall  f1-score   support\n",
            "\n",
            "         0.0       0.75      0.76      0.76       268\n",
            "         1.0       0.41      0.38      0.39       112\n",
            "\n",
            "    accuracy                           0.65       380\n",
            "   macro avg       0.58      0.57      0.58       380\n",
            "weighted avg       0.65      0.65      0.65       380\n",
            "\n",
            "\n",
            "\n",
            "=== Accuracy Score ===\n",
            "Accuracy: 0.653\n"
          ],
          "name": "stdout"
        },
        {
          "output_type": "display_data",
          "data": {
            "image/png": "[encoded data removed]",
            "text/plain": [
              "<Figure size 432x288 with 1 Axes>"
            ]
          },
          "metadata": {
            "tags": []
          }
        }
      ]
    },
    {
      "cell_type": "markdown",
      "metadata": {
        "id": "Wzo2aO_S9QfJ",
        "colab_type": "text"
      },
      "source": [
        "# **Neural Network Results**\n",
        "**50 Prinicipal Components**\n",
        "\n",
        "Batchsize = 32, reLu activtation function\n",
        "\n",
        "* Hidden Layers (25), epochs = 100, Adam, LR = 0.005; AUC: 0.628, Accuracy: 0.671\n",
        "* Hidden Layers (25), epochs = 100, Adam, LR = 0.003; AUC: 0.571, Accuracy: 0.624\n",
        "* Hidden Layers (25), epochs = 100, Adam, LR = 0.007; AUC: 0.583, Accuracy: 0.608\n",
        "* Hidden Layers (25), epochs = 200, Adam, LR = 0.005; AUC: 0.581, Accuracy: 0.618\n",
        "* Hidden Layers (25), epochs = 100, Adam, LR = 0.09; AUC: 0.565, Accuracy: 0.65\n",
        "\n",
        "\n",
        "* Hidden Layers (30,10), epochs = 100, Adam, LR = 0.005; AUC: 0.600, Accuracy: 0.626\n",
        "* Hidden Layers (30,10), epochs = 100, Adam, LR = 0.003; AUC: 0.587, Accuracy: 0.621\n",
        "* Hidden Layers (30,10), epochs = 100, Adam, LR = 0.007; AUC: 0.600, Accuracy: 0.666\n",
        "* Hidden Layers (30,10), epochs = 100, Adam, LR = 0.009; AUC: 0.563, Accuracy: 0.6\n",
        "\n",
        "**Using a hidden layer of 30 nodes appears to work the best here**\n",
        "* Hidden Layers (30), epochs = 100, Adam, LR = 0.003; AUC: 0.600, Accuracy: 0.626\n",
        "* Hidden Layers (30), epochs = 100, Adam, LR = 0.001; **AUC: 0.636**, Accuracy: 0.687\n",
        "* Hidden Layers (30), epochs = 100, Adam, LR = 0.0009; AUC: 0.617, Accuracy: 0.616\n",
        "* Hidden Layers (30), epochs = 200, Adam, LR = 0.001; AUC: 0.62, Accuracy: 0.65\n",
        "\n",
        "I may have gotten lucky with that 0.636, but generally with 30 nodes in the single layer, I get roughly 6.1-6.2 on average depending on the other parameters used."
      ]
    },
    {
      "cell_type": "markdown",
      "metadata": {
        "id": "_gXv1xn744qj",
        "colab_type": "text"
      },
      "source": [
        "# **Clinical Data**"
      ]
    },
    {
      "cell_type": "code",
      "metadata": {
        "id": "g7pj4XyVzUIZ",
        "colab_type": "code",
        "colab": {}
      },
      "source": [
        "# Convert data into arrays\n",
        "xb = np.array(X_train, dtype = \"float32\")\n",
        "yb = np.array(y_train, dtype = \"float32\")\n",
        "\n",
        "# Convert arrays into tensors\n",
        "xb = torch.from_numpy(xb)\n",
        "yb = torch.from_numpy(yb)\n",
        "\n",
        "# Combine the arrays\n",
        "trainloader = TensorDataset(xb, yb)\n",
        "\n",
        "# Define the batchsize\n",
        "batch_size = 32\n",
        "\n",
        "# Training Loader\n",
        "trainloader = DataLoader(trainloader, batch_size, shuffle=True)"
      ],
      "execution_count": 0,
      "outputs": []
    },
    {
      "cell_type": "markdown",
      "metadata": {
        "id": "UtV6u9fUzrxx",
        "colab_type": "text"
      },
      "source": [
        "**Format the Testing Dataset**"
      ]
    },
    {
      "cell_type": "code",
      "metadata": {
        "id": "4xoH_jHfzwc6",
        "colab_type": "code",
        "colab": {}
      },
      "source": [
        "# Convert data into arrays\n",
        "xb = np.array(X_test, dtype = \"float32\")\n",
        "yb = np.array(y_test, dtype = \"float32\")\n",
        "\n",
        "# Convert arrays into tensors\n",
        "xb = torch.from_numpy(xb)\n",
        "yb = torch.from_numpy(yb)\n",
        "\n",
        "# Combine the arrays\n",
        "testloader = TensorDataset(xb, yb) \n",
        "\n",
        "# Define the batchsize\n",
        "batch_size= 32\n",
        "\n",
        "# Training Loader\n",
        "testloader = DataLoader(testloader, batch_size, shuffle=True) "
      ],
      "execution_count": 0,
      "outputs": []
    },
    {
      "cell_type": "markdown",
      "metadata": {
        "id": "ZOzyQUmc0PJ6",
        "colab_type": "text"
      },
      "source": [
        "**Create Neural Network Model**"
      ]
    },
    {
      "cell_type": "code",
      "metadata": {
        "id": "j2XAPEny0Thm",
        "colab_type": "code",
        "colab": {
          "base_uri": "https://localhost:8080/",
          "height": 1000
        },
        "outputId": "7fecd384-70e7-4b17-eb75-108cf56d2bba"
      },
      "source": [
        "# Define the model with hidden layers - 47 inputs\n",
        "model = nn.Sequential(nn.Linear(47, 23),\n",
        "                      nn.ReLU(),\n",
        "                      nn.Linear(23, 1),\n",
        "                      nn.Sigmoid())\n",
        "                      \n",
        "# Set optimizer and learning rate\n",
        "#optimizer = optim.SGD(model.parameters(), lr=0.003)\n",
        "\n",
        "# Could also use Adam optimizer; similar to stochastic gradient descent, but uses momentum which can speed up the actual fitting process, and it also adjusts the learning rate for each of the individual parameters in the model\n",
        "optimizer = optim.Adam(model.parameters(), lr=0.003)\n",
        "\n",
        "criterion = nn.BCELoss() # use with a sigmoid function\n",
        "\n",
        "#criterion = nn.CrossEntropyLoss() #don't use with softmax or sigmoid\n",
        "\n",
        "# Set epochs\n",
        "epochs = 75\n",
        "for e in range(epochs):\n",
        "    running_loss = 0\n",
        "    for xb, yb in trainloader:\n",
        "        \n",
        "        # Clear the gradients, do this because gradients are accumulated\n",
        "        optimizer.zero_grad()\n",
        "        \n",
        "        # Training pass\n",
        "        output = model.forward(xb)\n",
        "        loss = criterion(output, yb) # Loss calculated from the output compared to the labels  \n",
        "        loss.backward()\n",
        "        optimizer.step()\n",
        "        \n",
        "        running_loss += loss.item() # loss.item() gets the scalar value held in the loss. Running_loss = 0, \n",
        "        # += notation, says \"Add a value and the variable and assigns the result to that variable.\" So, adds the running_loss (0) with loss.item and assigns to running_loss\n",
        "    else:\n",
        "        print(f\"Training loss: {running_loss/len(trainloader)}\")"
      ],
      "execution_count": 104,
      "outputs": [
        {
          "output_type": "stream",
          "text": [
            "/usr/local/lib/python3.6/dist-packages/torch/nn/modules/loss.py:498: UserWarning: Using a target size (torch.Size([32])) that is different to the input size (torch.Size([32, 1])) is deprecated. Please ensure they have the same size.\n",
            "  return F.binary_cross_entropy(input, target, weight=self.weight, reduction=self.reduction)\n",
            "/usr/local/lib/python3.6/dist-packages/torch/nn/modules/loss.py:498: UserWarning: Using a target size (torch.Size([19])) that is different to the input size (torch.Size([19, 1])) is deprecated. Please ensure they have the same size.\n",
            "  return F.binary_cross_entropy(input, target, weight=self.weight, reduction=self.reduction)\n"
          ],
          "name": "stderr"
        },
        {
          "output_type": "stream",
          "text": [
            "Training loss: 0.649246478246318\n",
            "Training loss: 0.5967827811837196\n",
            "Training loss: 0.5870078992512491\n",
            "Training loss: 0.5739608440134261\n",
            "Training loss: 0.5651716126335992\n",
            "Training loss: 0.5635602118240463\n",
            "Training loss: 0.5625480314095815\n",
            "Training loss: 0.5583851279483901\n",
            "Training loss: 0.5592640613516172\n",
            "Training loss: 0.5559675180249743\n",
            "Training loss: 0.5736482706334856\n",
            "Training loss: 0.5712161643637551\n",
            "Training loss: 0.5567921780877643\n",
            "Training loss: 0.5540644418862131\n",
            "Training loss: 0.5542702956332101\n",
            "Training loss: 0.5526967719197273\n",
            "Training loss: 0.5542629940642251\n",
            "Training loss: 0.5531875242789587\n",
            "Training loss: 0.5506810405188136\n",
            "Training loss: 0.5610166697038544\n",
            "Training loss: 0.5491043594148424\n",
            "Training loss: 0.5495103084378772\n",
            "Training loss: 0.5512646800941892\n",
            "Training loss: 0.5621395400828786\n",
            "Training loss: 0.5521348516146342\n",
            "Training loss: 0.5471521508362558\n",
            "Training loss: 0.5476602357294824\n",
            "Training loss: 0.5506118122074339\n",
            "Training loss: 0.5638894753323661\n",
            "Training loss: 0.5478358136283027\n",
            "Training loss: 0.5476855743262503\n",
            "Training loss: 0.5471369425455729\n",
            "Training loss: 0.5582162439823151\n",
            "Training loss: 0.5513462101419767\n",
            "Training loss: 0.5465296299921142\n",
            "Training loss: 0.5444397446182039\n",
            "Training loss: 0.5480795105298361\n",
            "Training loss: 0.5461750452717146\n",
            "Training loss: 0.5460459796918763\n",
            "Training loss: 0.5469148771630393\n",
            "Training loss: 0.5459025543597009\n",
            "Training loss: 0.5465396079752181\n",
            "Training loss: 0.5470206663012505\n",
            "Training loss: 0.545850519504812\n",
            "Training loss: 0.5460436013009813\n",
            "Training loss: 0.550599131319258\n",
            "Training loss: 0.5461397957470682\n",
            "Training loss: 0.5470105161269506\n",
            "Training loss: 0.542790547841125\n",
            "Training loss: 0.5443894333309598\n",
            "Training loss: 0.5443379862440957\n",
            "Training loss: 0.5519740399387147\n",
            "Training loss: 0.5542641836735938\n",
            "Training loss: 0.5416798575056924\n",
            "Training loss: 0.5460966775814692\n",
            "Training loss: 0.5461114727788501\n",
            "Training loss: 0.543626772860686\n",
            "Training loss: 0.5399378505018022\n",
            "Training loss: 0.5482475078768201\n",
            "Training loss: 0.5441620937652059\n",
            "Training loss: 0.5519869178533554\n",
            "Training loss: 0.5415869015786383\n",
            "Training loss: 0.5424114391207695\n",
            "Training loss: 0.5448125575979551\n",
            "Training loss: 0.54345267597172\n",
            "Training loss: 0.5491468004054494\n",
            "Training loss: 0.5443049271901449\n",
            "Training loss: 0.5481932403312789\n",
            "Training loss: 0.548968599902259\n",
            "Training loss: 0.5503517852889167\n",
            "Training loss: 0.54841115574042\n",
            "Training loss: 0.5430766269564629\n",
            "Training loss: 0.5406026989221573\n",
            "Training loss: 0.5453880685898993\n",
            "Training loss: 0.5440074801445007\n"
          ],
          "name": "stdout"
        }
      ]
    },
    {
      "cell_type": "markdown",
      "metadata": {
        "id": "oXT-gAEk3aiZ",
        "colab_type": "text"
      },
      "source": [
        "**Evaluate Model Performance**"
      ]
    },
    {
      "cell_type": "code",
      "metadata": {
        "id": "0JLqRn3qcypE",
        "colab_type": "code",
        "colab": {
          "base_uri": "https://localhost:8080/",
          "height": 632
        },
        "outputId": "5c4dd820-958d-44af-ca2f-a597edfc2d6e"
      },
      "source": [
        "# Convert data into arrays\n",
        "xb = np.array(X_test, dtype = \"float32\")\n",
        "yb = np.array(y_test, dtype = \"float32\")\n",
        "\n",
        "# Convert arrays into tensors\n",
        "xb = torch.from_numpy(xb)\n",
        "yb = torch.from_numpy(yb)\n",
        "\n",
        "# Apply the model to the whole testing dataset\n",
        "ps = model(xb)\n",
        "\n",
        "#print('Probabilities', ps[:10])\n",
        "\n",
        "# Obtain the top probability\n",
        "top_p, top_class = ps.topk(1, dim=1)\n",
        "#print('true vals', yb[:10])\n",
        "\n",
        "# Drop the grad \n",
        "top_p = top_p.detach().numpy()\n",
        "top_class = top_class.detach().numpy()\n",
        "\n",
        "top_class = (top_p >= 0.5).astype(np.int)\n",
        "#print('top class', top_class[:10])\n",
        "\n",
        "# Compute ROC curve\n",
        "fpr, tpr, thresholds = roc_curve(yb, top_p, pos_label=1)\n",
        "\n",
        "# Compute ROC area\n",
        "roc_auc = round(auc(fpr, tpr),3)\n",
        "plt.figure()\n",
        "plt.plot(fpr, tpr, color='darkorange', label='ROC curve (area = %0.3f)' % roc_auc)\n",
        "plt.plot([0, 1], [0, 1], color='navy', linestyle='--')\n",
        "plt.xlim([-0.01, 1.0])\n",
        "plt.ylim([0.0, 1.01])\n",
        "plt.xlabel('False Positive Rate')\n",
        "plt.ylabel('True Positive Rate')\n",
        "plt.title('Receiver operating characteristic')\n",
        "plt.legend(loc=\"lower right\")\n",
        "\n",
        "# Classification Report\n",
        "print(\"=== Confusion Matrix ===\")\n",
        "print(confusion_matrix(yb, top_class))\n",
        "print('\\n')\n",
        "print(\"=== Classification Report ===\")\n",
        "print(classification_report(yb, top_class))\n",
        "print('\\n')\n",
        "print(\"=== Accuracy Score ===\")\n",
        "print(\"Accuracy:\", round(accuracy_score(yb, top_class),3))"
      ],
      "execution_count": 105,
      "outputs": [
        {
          "output_type": "stream",
          "text": [
            "=== Confusion Matrix ===\n",
            "[[235  33]\n",
            " [ 79  33]]\n",
            "\n",
            "\n",
            "=== Classification Report ===\n",
            "              precision    recall  f1-score   support\n",
            "\n",
            "         0.0       0.75      0.88      0.81       268\n",
            "         1.0       0.50      0.29      0.37       112\n",
            "\n",
            "    accuracy                           0.71       380\n",
            "   macro avg       0.62      0.59      0.59       380\n",
            "weighted avg       0.68      0.71      0.68       380\n",
            "\n",
            "\n",
            "\n",
            "=== Accuracy Score ===\n",
            "Accuracy: 0.705\n"
          ],
          "name": "stdout"
        },
        {
          "output_type": "display_data",
          "data": {
            "image/png": "[encoded data removed]",
            "text/plain": [
              "<Figure size 432x288 with 1 Axes>"
            ]
          },
          "metadata": {
            "tags": []
          }
        }
      ]
    },
    {
      "cell_type": "markdown",
      "metadata": {
        "colab_type": "text",
        "id": "I9lEBfcrIEBn"
      },
      "source": [
        "# **Neural Network Results**\n",
        "**Clinical Data**\n",
        "\n",
        "Batchsize = 32, reLu activtation function\n",
        "\n",
        "* Hidden Layers (20, 10), epochs = 100, Adam, LR = 0.005; AUC: 0.640, Accuracy: 0.708\n",
        "* Hidden Layers (20, 10), epochs = 100, Adam, LR = 0.003; AUC: 0.611, Accuracy: 0.679\n",
        "* Hidden Layers (20, 10), epochs = 100, Adam, LR = 0.007; AUC: 0.621, Accuracy: 0.674\n",
        "* Hidden Layers (20, 10), epochs = 200, Adam, LR = 0.005; AUC: 0.624, Accuracy: 0.708\n",
        "\n",
        "**1 Hidden Layer**\n",
        "* Hidden Layers (23), epochs = 50, Adam, LR = 0.005; AUC: 0.639, Accuracy: 0.703\n",
        "* Hidden Layers (23), epochs = 50, Adam, LR = 0.003; AUC: 0.645, Accuracy: 0.713\n",
        "\n",
        "                    === Classification Report ===\n",
        "              precision    recall  f1-score   support\n",
        "         0.0       0.76      0.88      0.81       268\n",
        "         1.0       0.52      0.32      0.40       112\n",
        "          accuracy                     0.71       380\n",
        "        macro avg   0.64      0.60     0.60       380\n",
        "        weighted avg  0.69    0.71     0.69       380\n",
        "\n",
        "* Hidden Layers (23), epochs = 75, Adam, LR = 0.003; AUC: 0.647, Accuracy: 0.708"
      ]
    },
    {
      "cell_type": "markdown",
      "metadata": {
        "colab_type": "text",
        "id": "AfJG9WcthDxW"
      },
      "source": [
        "# **Clinical Data + 50 Principal Components**"
      ]
    },
    {
      "cell_type": "code",
      "metadata": {
        "colab_type": "code",
        "id": "y13wfxt3hDxY",
        "colab": {}
      },
      "source": [
        "# Convert data into arrays\n",
        "xb = np.array(X_train_clinical_pca50, dtype = \"float32\")\n",
        "yb = np.array(y_train, dtype = \"float32\")\n",
        "\n",
        "# Convert arrays into tensors\n",
        "xb = torch.from_numpy(xb)\n",
        "yb = torch.from_numpy(yb)\n",
        "\n",
        "# Combine the arrays\n",
        "trainloader = TensorDataset(xb, yb)\n",
        "\n",
        "# Define the batchsize\n",
        "batch_size = 32\n",
        "\n",
        "# Training Loader\n",
        "trainloader = DataLoader(trainloader, batch_size, shuffle=True)"
      ],
      "execution_count": 0,
      "outputs": []
    },
    {
      "cell_type": "markdown",
      "metadata": {
        "colab_type": "text",
        "id": "gMQUzgXQhDxa"
      },
      "source": [
        "**Format the Testing Dataset**"
      ]
    },
    {
      "cell_type": "code",
      "metadata": {
        "colab_type": "code",
        "id": "TFhHP-TIhDxb",
        "colab": {}
      },
      "source": [
        "# Convert data into arrays\n",
        "xb = np.array(X_test_clinical_pca50, dtype = \"float32\")\n",
        "yb = np.array(y_test, dtype = \"float32\")\n",
        "\n",
        "# Convert arrays into tensors\n",
        "xb = torch.from_numpy(xb)\n",
        "yb = torch.from_numpy(yb)\n",
        "\n",
        "# Combine the arrays\n",
        "testloader = TensorDataset(xb, yb) \n",
        "\n",
        "# Define the batchsize\n",
        "batch_size= 32\n",
        "\n",
        "# Training Loader\n",
        "testloader = DataLoader(testloader, batch_size, shuffle=True) "
      ],
      "execution_count": 0,
      "outputs": []
    },
    {
      "cell_type": "markdown",
      "metadata": {
        "colab_type": "text",
        "id": "n6I7lYHHhDxe"
      },
      "source": [
        "**Create Neural Network Model**"
      ]
    },
    {
      "cell_type": "code",
      "metadata": {
        "colab_type": "code",
        "id": "r3520qzuhDxe",
        "colab": {
          "base_uri": "https://localhost:8080/",
          "height": 1000
        },
        "outputId": "f6105094-b39f-4603-b3c1-ff6a91a32197"
      },
      "source": [
        "# Define the model with hidden layers - 97 inputs\n",
        "model = nn.Sequential(nn.Linear(97, 50),\n",
        "                      nn.ReLU(),\n",
        "                      nn.Linear(50, 1),\n",
        "                      nn.Sigmoid())\n",
        "                      \n",
        "# Set optimizer and learning rate\n",
        "#optimizer = optim.SGD(model.parameters(), lr=0.003)\n",
        "\n",
        "# Could also use Adam optimizer; similar to stochastic gradient descent, but uses momentum which can speed up the actual fitting process, and it also adjusts the learning rate for each of the individual parameters in the model\n",
        "optimizer = optim.Adam(model.parameters(), lr=0.009)\n",
        "\n",
        "criterion = nn.BCELoss() # use with a sigmoid function\n",
        "\n",
        "#criterion = nn.CrossEntropyLoss() #don't use with softmax or sigmoid\n",
        "\n",
        "# Set epochs\n",
        "epochs = 200\n",
        "for e in range(epochs):\n",
        "    running_loss = 0\n",
        "    for xb, yb in trainloader:\n",
        "        \n",
        "        # Clear the gradients, do this because gradients are accumulated\n",
        "        optimizer.zero_grad()\n",
        "        \n",
        "        # Training pass\n",
        "        output = model.forward(xb)\n",
        "        loss = criterion(output, yb) # Loss calculated from the output compared to the labels  \n",
        "        loss.backward()\n",
        "        optimizer.step()\n",
        "        \n",
        "        running_loss += loss.item() # loss.item() gets the scalar value held in the loss. Running_loss = 0, \n",
        "        # += notation, says \"Add a value and the variable and assigns the result to that variable.\" So, adds the running_loss (0) with loss.item and assigns to running_loss\n",
        "    else:\n",
        "        print(f\"Training loss: {running_loss/len(trainloader)}\")"
      ],
      "execution_count": 114,
      "outputs": [
        {
          "output_type": "stream",
          "text": [
            "/usr/local/lib/python3.6/dist-packages/torch/nn/modules/loss.py:498: UserWarning: Using a target size (torch.Size([32])) that is different to the input size (torch.Size([32, 1])) is deprecated. Please ensure they have the same size.\n",
            "  return F.binary_cross_entropy(input, target, weight=self.weight, reduction=self.reduction)\n",
            "/usr/local/lib/python3.6/dist-packages/torch/nn/modules/loss.py:498: UserWarning: Using a target size (torch.Size([19])) that is different to the input size (torch.Size([19, 1])) is deprecated. Please ensure they have the same size.\n",
            "  return F.binary_cross_entropy(input, target, weight=self.weight, reduction=self.reduction)\n"
          ],
          "name": "stderr"
        },
        {
          "output_type": "stream",
          "text": [
            "Training loss: 0.8149715653724141\n",
            "Training loss: 0.5423178432716264\n",
            "Training loss: 0.5034858543011878\n",
            "Training loss: 0.45913836194409263\n",
            "Training loss: 0.40585216631491977\n",
            "Training loss: 0.34087756358914906\n",
            "Training loss: 0.28275977282060516\n",
            "Training loss: 0.2691276133474376\n",
            "Training loss: 0.25463410694566035\n",
            "Training loss: 0.1740903239697218\n",
            "Training loss: 0.1254458341540562\n",
            "Training loss: 0.0987814908536772\n",
            "Training loss: 0.11049239352966349\n",
            "Training loss: 0.11880565455390348\n",
            "Training loss: 0.06794707451222672\n",
            "Training loss: 0.0640423967787582\n",
            "Training loss: 0.09673313087680274\n",
            "Training loss: 0.11024565803301004\n",
            "Training loss: 0.1333377124586453\n",
            "Training loss: 0.11287247718104886\n",
            "Training loss: 0.09137577730386208\n",
            "Training loss: 0.03166022990545672\n",
            "Training loss: 0.012506400797671327\n",
            "Training loss: 0.005120204454417237\n",
            "Training loss: 0.0029939223847274357\n",
            "Training loss: 0.0023449356958735734\n",
            "Training loss: 0.001982326604775153\n",
            "Training loss: 0.0017235981407187257\n",
            "Training loss: 0.00149540997032697\n",
            "Training loss: 0.0013361800762747105\n",
            "Training loss: 0.0011972954218638027\n",
            "Training loss: 0.001087163640477229\n",
            "Training loss: 0.0009941112463517736\n",
            "Training loss: 0.0009132195781502458\n",
            "Training loss: 0.000847604616461063\n",
            "Training loss: 0.0007822634167193124\n",
            "Training loss: 0.0007253051379747274\n",
            "Training loss: 0.0006819693783957822\n",
            "Training loss: 0.0006386298785704033\n",
            "Training loss: 0.0005981592484103101\n",
            "Training loss: 0.0005648829052612806\n",
            "Training loss: 0.0005330282785709844\n",
            "Training loss: 0.0005020553706142689\n",
            "Training loss: 0.0004801152544031437\n",
            "Training loss: 0.0004527423411167951\n",
            "Training loss: 0.0004320716539546589\n",
            "Training loss: 0.00040745418502612866\n",
            "Training loss: 0.0003902319994166545\n",
            "Training loss: 0.0003691433598255066\n",
            "Training loss: 0.00035446132703024585\n",
            "Training loss: 0.00033978532297219825\n",
            "Training loss: 0.00033208983566308033\n",
            "Training loss: 0.0003121327936241869\n",
            "Training loss: 0.00029727949448796507\n",
            "Training loss: 0.0002847385704727559\n",
            "Training loss: 0.0002744438285541643\n",
            "Training loss: 0.0002617349155116244\n",
            "Training loss: 0.0002534328949776763\n",
            "Training loss: 0.0002445989074557373\n",
            "Training loss: 0.0002344793002622383\n",
            "Training loss: 0.00022651692718985336\n",
            "Training loss: 0.00021788785812128076\n",
            "Training loss: 0.000210306842846977\n",
            "Training loss: 0.0002032625440430517\n",
            "Training loss: 0.00019785765087160852\n",
            "Training loss: 0.00019014533043244027\n",
            "Training loss: 0.00018376548137489913\n",
            "Training loss: 0.0001789240533172334\n",
            "Training loss: 0.0001699153120474269\n",
            "Training loss: 0.00016512146248714998\n",
            "Training loss: 0.00015851701815942457\n",
            "Training loss: 0.00015476711349846382\n",
            "Training loss: 0.0001492649294555627\n",
            "Training loss: 0.0001447540393605272\n",
            "Training loss: 0.0001392138890676304\n",
            "Training loss: 0.00013597507778387\n",
            "Training loss: 0.00013187326961390985\n",
            "Training loss: 0.00012868669182353187\n",
            "Training loss: 0.00012631996903817507\n",
            "Training loss: 0.00011986353102757776\n",
            "Training loss: 0.00011642098919158646\n",
            "Training loss: 0.00011573674904260163\n",
            "Training loss: 0.00011017266408291309\n",
            "Training loss: 0.0001073214230523768\n",
            "Training loss: 0.00010379973789693193\n",
            "Training loss: 0.00010218831054468562\n",
            "Training loss: 9.857189696857758e-05\n",
            "Training loss: 9.502770252664859e-05\n",
            "Training loss: 9.22883786592542e-05\n",
            "Training loss: 8.974908122480783e-05\n",
            "Training loss: 8.780169436148653e-05\n",
            "Training loss: 8.536865758893934e-05\n",
            "Training loss: 8.257093941210769e-05\n",
            "Training loss: 8.090494273144739e-05\n",
            "Training loss: 8.00840390285076e-05\n",
            "Training loss: 7.764464822280893e-05\n",
            "Training loss: 7.441422965510153e-05\n",
            "Training loss: 7.255404549747861e-05\n",
            "Training loss: 7.170487717505441e-05\n",
            "Training loss: 6.977240026470908e-05\n",
            "Training loss: 6.696787335790254e-05\n",
            "Training loss: 6.514672794663865e-05\n",
            "Training loss: 6.39754442899074e-05\n",
            "Training loss: 6.304254197352243e-05\n",
            "Training loss: 6.093918045735336e-05\n",
            "Training loss: 5.939242378695376e-05\n",
            "Training loss: 5.874587976803822e-05\n",
            "Training loss: 5.6823427156713377e-05\n",
            "Training loss: 5.4808786899229744e-05\n",
            "Training loss: 5.3861770387205375e-05\n",
            "Training loss: 5.2246390472040126e-05\n",
            "Training loss: 5.1392021254691324e-05\n",
            "Training loss: 4.972116994395037e-05\n",
            "Training loss: 4.8341678722054996e-05\n",
            "Training loss: 4.731375196974518e-05\n",
            "Training loss: 4.6327188101713546e-05\n",
            "Training loss: 4.543230448285208e-05\n",
            "Training loss: 4.4219003484613495e-05\n",
            "Training loss: 4.3188600557186874e-05\n",
            "Training loss: 4.276221223638762e-05\n",
            "Training loss: 4.130456606314207e-05\n",
            "Training loss: 4.023420524390531e-05\n",
            "Training loss: 3.922250213387694e-05\n",
            "Training loss: 3.8711204663539116e-05\n",
            "Training loss: 3.764034055267176e-05\n",
            "Training loss: 3.660096884535354e-05\n",
            "Training loss: 3.585758622648427e-05\n",
            "Training loss: 3.5091989881645226e-05\n",
            "Training loss: 3.435889139938e-05\n",
            "Training loss: 3.3518367141975126e-05\n",
            "Training loss: 3.278129234887375e-05\n",
            "Training loss: 3.209373370635957e-05\n",
            "Training loss: 3.1259175506824656e-05\n",
            "Training loss: 3.083328677651783e-05\n",
            "Training loss: 3.001309203732995e-05\n",
            "Training loss: 2.902378378166759e-05\n",
            "Training loss: 2.8555118862843505e-05\n",
            "Training loss: 2.7916097931463606e-05\n",
            "Training loss: 2.7217689017157278e-05\n",
            "Training loss: 2.665300222462166e-05\n",
            "Training loss: 2.6100924691895165e-05\n",
            "Training loss: 2.5520870318966143e-05\n",
            "Training loss: 2.531883066896828e-05\n",
            "Training loss: 2.4545619099727548e-05\n",
            "Training loss: 2.395956394391558e-05\n",
            "Training loss: 2.360217258178131e-05\n",
            "Training loss: 2.3099187173001054e-05\n",
            "Training loss: 2.2571032205734002e-05\n",
            "Training loss: 2.198486261780393e-05\n",
            "Training loss: 2.1656119997714995e-05\n",
            "Training loss: 2.1115212019948456e-05\n",
            "Training loss: 2.0584703583558116e-05\n",
            "Training loss: 2.0290382584183437e-05\n",
            "Training loss: 1.967360978798954e-05\n",
            "Training loss: 1.9180548608548837e-05\n",
            "Training loss: 1.889131995843248e-05\n",
            "Training loss: 1.8513835458280584e-05\n",
            "Training loss: 1.8202928622991345e-05\n",
            "Training loss: 1.769015024264162e-05\n",
            "Training loss: 1.732928906979699e-05\n",
            "Training loss: 1.6898157102534445e-05\n",
            "Training loss: 1.6619124961733985e-05\n",
            "Training loss: 1.6432904961523793e-05\n",
            "Training loss: 1.592388129109976e-05\n",
            "Training loss: 1.5808829238671427e-05\n",
            "Training loss: 1.5433815987206697e-05\n",
            "Training loss: 1.4932199734276866e-05\n",
            "Training loss: 1.477073583878842e-05\n",
            "Training loss: 1.436203739204858e-05\n",
            "Training loss: 1.4079207428747193e-05\n",
            "Training loss: 1.3792559671957053e-05\n",
            "Training loss: 1.3676317027804746e-05\n",
            "Training loss: 1.322436366990587e-05\n",
            "Training loss: 1.2900246234595317e-05\n",
            "Training loss: 1.2667873445732564e-05\n",
            "Training loss: 1.246316507301041e-05\n",
            "Training loss: 1.2203319758757263e-05\n",
            "Training loss: 1.1988441252065564e-05\n",
            "Training loss: 1.1698062255365787e-05\n",
            "Training loss: 1.1591774295993673e-05\n",
            "Training loss: 1.1318200298167843e-05\n",
            "Training loss: 1.1048677846600993e-05\n",
            "Training loss: 1.0797170830301184e-05\n",
            "Training loss: 1.0615757509589861e-05\n",
            "Training loss: 1.034447265940091e-05\n",
            "Training loss: 1.0092403032204958e-05\n",
            "Training loss: 9.947124794962292e-06\n",
            "Training loss: 9.784485099670645e-06\n",
            "Training loss: 9.597062368508583e-06\n",
            "Training loss: 9.388120436900257e-06\n",
            "Training loss: 9.154141006699016e-06\n",
            "Training loss: 8.974497752155407e-06\n",
            "Training loss: 8.806571423115707e-06\n",
            "Training loss: 8.656721793916708e-06\n",
            "Training loss: 8.522508254474007e-06\n",
            "Training loss: 8.299670475429997e-06\n",
            "Training loss: 8.15809863120699e-06\n",
            "Training loss: 8.030825774262161e-06\n",
            "Training loss: 7.743290483277735e-06\n",
            "Training loss: 7.644998302364709e-06\n"
          ],
          "name": "stdout"
        }
      ]
    },
    {
      "cell_type": "markdown",
      "metadata": {
        "colab_type": "text",
        "id": "C6uf0D76hDxg"
      },
      "source": [
        "**Evaluate Model Performance**"
      ]
    },
    {
      "cell_type": "code",
      "metadata": {
        "colab_type": "code",
        "id": "orPBnpjLhDxg",
        "colab": {
          "base_uri": "https://localhost:8080/",
          "height": 632
        },
        "outputId": "3374e400-85d7-443e-8624-001552e8a3bf"
      },
      "source": [
        "# Convert data into arrays\n",
        "xb = np.array(X_test_clinical_pca50, dtype = \"float32\")\n",
        "yb = np.array(y_test, dtype = \"float32\")\n",
        "\n",
        "# Convert arrays into tensors\n",
        "xb = torch.from_numpy(xb)\n",
        "yb = torch.from_numpy(yb)\n",
        "\n",
        "# Apply the model to the whole testing dataset\n",
        "ps = model(xb)\n",
        "\n",
        "#print('Probabilities', ps[:10])\n",
        "\n",
        "# Obtain the top probability\n",
        "top_p, top_class = ps.topk(1, dim=1)\n",
        "#print('true vals', yb[:10])\n",
        "\n",
        "# Drop the grad \n",
        "top_p = top_p.detach().numpy()\n",
        "top_class = top_class.detach().numpy()\n",
        "\n",
        "top_class = (top_p >= 0.5).astype(np.int)\n",
        "#print('top class', top_class[:10])\n",
        "\n",
        "# Compute ROC curve\n",
        "fpr, tpr, thresholds = roc_curve(yb, top_p, pos_label=1)\n",
        "\n",
        "# Compute ROC area\n",
        "roc_auc = round(auc(fpr, tpr),3)\n",
        "plt.figure()\n",
        "plt.plot(fpr, tpr, color='darkorange', label='ROC curve (area = %0.3f)' % roc_auc)\n",
        "plt.plot([0, 1], [0, 1], color='navy', linestyle='--')\n",
        "plt.xlim([-0.01, 1.0])\n",
        "plt.ylim([0.0, 1.01])\n",
        "plt.xlabel('False Positive Rate')\n",
        "plt.ylabel('True Positive Rate')\n",
        "plt.title('Receiver operating characteristic')\n",
        "plt.legend(loc=\"lower right\")\n",
        "\n",
        "# Classification Report\n",
        "print(\"=== Confusion Matrix ===\")\n",
        "print(confusion_matrix(yb, top_class))\n",
        "print('\\n')\n",
        "print(\"=== Classification Report ===\")\n",
        "print(classification_report(yb, top_class))\n",
        "print('\\n')\n",
        "print(\"=== Accuracy Score ===\")\n",
        "print(\"Accuracy:\", round(accuracy_score(yb, top_class),3))"
      ],
      "execution_count": 115,
      "outputs": [
        {
          "output_type": "stream",
          "text": [
            "=== Confusion Matrix ===\n",
            "[[204  64]\n",
            " [ 57  55]]\n",
            "\n",
            "\n",
            "=== Classification Report ===\n",
            "              precision    recall  f1-score   support\n",
            "\n",
            "         0.0       0.78      0.76      0.77       268\n",
            "         1.0       0.46      0.49      0.48       112\n",
            "\n",
            "    accuracy                           0.68       380\n",
            "   macro avg       0.62      0.63      0.62       380\n",
            "weighted avg       0.69      0.68      0.68       380\n",
            "\n",
            "\n",
            "\n",
            "=== Accuracy Score ===\n",
            "Accuracy: 0.682\n"
          ],
          "name": "stdout"
        },
        {
          "output_type": "display_data",
          "data": {
            "image/png": "[encoded data removed]",
            "text/plain": [
              "<Figure size 432x288 with 1 Axes>"
            ]
          },
          "metadata": {
            "tags": []
          }
        }
      ]
    },
    {
      "cell_type": "markdown",
      "metadata": {
        "colab_type": "text",
        "id": "wq-Mkob1hDxi"
      },
      "source": [
        "# **Neural Network Results**\n",
        "**Clinical Data + 50 PCs**\n",
        "\n",
        "Batchsize = 32, reLu activtation function\n",
        "\n",
        "* Hidden Layers (50), epochs = 100, Adam, LR = 0.005; AUC: 0.647, Accuracy: 0.674\n",
        "* Hidden Layers (50), epochs = 200, Adam, LR = 0.003; AUC: 0.654, Accuracy: 0.676\n",
        "* Hidden Layers (50), epochs = 100, Adam, LR = 0.003; AUC: 0.637, Accuracy: 0.607\n",
        "* Hidden Layers (50), epochs = 100, Adam, LR = 0.003; AUC: 0.654, Accuracy: 0.695\n",
        "* Hidden Layers (50), epochs = 100, Adam, LR = 0.01; AUC: 0.643, Accuracy: 0.661\n",
        "* Hidden Layers (50), epochs = 200, Adam, LR = 0.01; AUC: 0.669, Accuracy: 0.666\n",
        "* Hidden Layers (50), epochs = 200, Adam, LR = 0.01; AUC: 0.683, Accuracy: 0.687\n",
        "* Hidden Layers (50), epochs = 200, Adam, LR = 0.009; AUC: 0.699, Accuracy: 0.695\n",
        "\n",
        "* **Hidden Layers (50), epochs = 200, Adam, LR = 0.009; AUC: 0.703, Accuracy: 0.703**\n",
        "\n",
        "Having trouble getting that high again! \n",
        "* **Hidden Layers (50), epochs = 200, Adam, LR = 0.009; AUC: 0.666, Accuracy: 0.671**\n",
        "\n",
        "                  === Classification Report ===\n",
        "              precision    recall  f1-score   support\n",
        "\n",
        "         0.0       0.76      0.76      0.76       268\n",
        "         1.0       0.43      0.43      0.43       112\n",
        "      accuracy                         0.67       380\n",
        "      macro avg    0.60      0.60      0.60       380\n",
        "      weighted avg 0.66      0.67      0.67       380\n",
        "\n",
        "**Actaully, did get this number, but seems like this high of performance is based on the split**\n",
        "* **Hidden Layers (50), epochs = 200, Adam, LR = 0.009; AUC: 0.697, Accuracy: 0.7**\n",
        "\n",
        "                  === Classification Report ===\n",
        "              precision    recall  f1-score   support\n",
        "\n",
        "         0.0       0.78      0.80      0.79       268\n",
        "         1.0       0.49      0.46      0.48       112\n",
        "      accuracy                         0.70       380\n",
        "      macro avg    0.64      0.63      0.63       380\n",
        "      weighted avg  0.70      0.70      0.70       380\n",
        "\n",
        "\n",
        "**For the final report, I'm using the following results and AUC plot:\n",
        "* **Hidden Layers (50), epochs = 200, Adam, LR = 0.009; AUC: 0.679, Accuracy: 0.682**\n",
        "\n",
        "                      === Classification Report ===\n",
        "              precision    recall  f1-score   support\n",
        "\n",
        "         0.0       0.78      0.76      0.77       268\n",
        "         1.0       0.46      0.49      0.48       112\n",
        "      accuracy                         0.68       380\n",
        "      macro avg     0.62     0.63      0.62       380\n",
        "      weighted avg  0.69     0.68      0.68       380"
      ]
    }
  ]
}