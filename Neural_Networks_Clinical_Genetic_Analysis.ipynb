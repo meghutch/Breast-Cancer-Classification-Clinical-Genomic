{
  "nbformat": 4,
  "nbformat_minor": 0,
  "metadata": {
    "colab": {
      "name": "Neural_Networks_Clinical_Genetic_Analysis",
      "provenance": [],
      "collapsed_sections": [],
      "include_colab_link": true
    },
    "kernelspec": {
      "name": "python3",
      "display_name": "Python 3"
    }
  },
  "cells": [
    {
      "cell_type": "markdown",
      "metadata": {
        "id": "view-in-github",
        "colab_type": "text"
      },
      "source": [
        "<a href=\"https://colab.research.google.com/github/meghutch/Breast-Cancer-Classification-Clinical-Genomic/blob/master/Neural_Networks_Clinical_Genetic_Analysis.ipynb\" target=\"_parent\"><img src=\"https://colab.research.google.com/assets/colab-badge.svg\" alt=\"Open In Colab\"/></a>"
      ]
    },
    {
      "cell_type": "markdown",
      "metadata": {
        "id": "gfhIBpuAWrrO",
        "colab_type": "text"
      },
      "source": [
        "# **Predicting Clinical Outcomes of Breast Cancer Patients**\n",
        "\n",
        "## **Analysis of Clinical Outcomes and Gene Expression**\n",
        "\n",
        "**Author:** Meg Hutch\n",
        "\n",
        "**Date:** December 6, 2019\n",
        "\n",
        "**Objective:** We will examine models using just clinical data and then we will resassess using combined clinical + genomioc data to predict patient surivival greater than 10 years.\n",
        "\n",
        "Unlike the **Neural_Network_Clinical_Outcomes** analysis, this will use the patients in the merged_expression.txt that were processed."
      ]
    },
    {
      "cell_type": "code",
      "metadata": {
        "id": "4Xl-wjp_WmUs",
        "colab_type": "code",
        "colab": {}
      },
      "source": [
        "import pandas as pd\n",
        "import numpy as np\n",
        "import matplotlib\n",
        "import matplotlib.pyplot as plt\n",
        "import matplotlib.colors\n",
        "import seaborn as sns"
      ],
      "execution_count": 0,
      "outputs": []
    },
    {
      "cell_type": "code",
      "metadata": {
        "id": "mamswLh8QkLR",
        "colab_type": "code",
        "colab": {}
      },
      "source": [
        "# Connect Colab to google drive\n",
        "from google.colab import drive\n",
        "drive.mount('/content/drive')"
      ],
      "execution_count": 0,
      "outputs": []
    },
    {
      "cell_type": "code",
      "metadata": {
        "id": "Sds0C37hUMd_",
        "colab_type": "code",
        "colab": {}
      },
      "source": [
        "## Import Data\n",
        "# Clinical Data\n",
        "bc_data = pd.read_csv('/content/drive/My Drive/Projects/Breast_Cancer_Classification/Data/data_clinical_patient.csv')\n",
        "# Gene Expression Data \n",
        "gene_data = pd.read_csv('/content/drive/My Drive/Projects/Breast_Cancer_Classification/Data/merged_expression.txt', sep=',')"
      ],
      "execution_count": 0,
      "outputs": []
    },
    {
      "cell_type": "markdown",
      "metadata": {
        "id": "kAKBHKzCa4DH",
        "colab_type": "text"
      },
      "source": [
        "# **Pre-Process Data**\n",
        "\n",
        "**Clinical Data**\n",
        "\n",
        "\n"
      ]
    },
    {
      "cell_type": "markdown",
      "metadata": {
        "id": "P42uFeTBlPX0",
        "colab_type": "text"
      },
      "source": [
        "Rows 0-3 contain definitions of data and data types. We can remove these"
      ]
    },
    {
      "cell_type": "code",
      "metadata": {
        "id": "g_Od_3KdbGQr",
        "colab_type": "code",
        "colab": {}
      },
      "source": [
        "bc_data = bc_data.iloc[4:]"
      ],
      "execution_count": 0,
      "outputs": []
    },
    {
      "cell_type": "markdown",
      "metadata": {
        "id": "prEZQHwscm0B",
        "colab_type": "text"
      },
      "source": [
        "Convert first row to header name"
      ]
    },
    {
      "cell_type": "code",
      "metadata": {
        "id": "ZWaxqLvXbO1T",
        "colab_type": "code",
        "colab": {}
      },
      "source": [
        "# Convert first row to header name\n",
        "bc_data = bc_data.rename(columns=bc_data.iloc[0]).drop(bc_data.index[0])"
      ],
      "execution_count": 0,
      "outputs": []
    },
    {
      "cell_type": "markdown",
      "metadata": {
        "id": "B0yvqaoNcy3I",
        "colab_type": "text"
      },
      "source": [
        "Convert column names to lowercase"
      ]
    },
    {
      "cell_type": "code",
      "metadata": {
        "id": "85VrahjfcP3S",
        "colab_type": "code",
        "colab": {}
      },
      "source": [
        "# Convert column names to lowercase\n",
        "bc_data.columns = map(str.lower, bc_data.columns)"
      ],
      "execution_count": 0,
      "outputs": []
    },
    {
      "cell_type": "markdown",
      "metadata": {
        "colab_type": "text",
        "id": "WiKXth4Kmyck"
      },
      "source": [
        "In the project directions, it says we can treat \"Died of Other Causes\" as living. Thus, change the category title as such."
      ]
    },
    {
      "cell_type": "code",
      "metadata": {
        "colab_type": "code",
        "id": "QwM7BYIJmycq",
        "colab": {}
      },
      "source": [
        "bc_data['vital_status'] = bc_data['vital_status'].replace({'Living': 'Living', 'Died of Disease': 'Died of Disease', 'Died of Other Causes': 'Living'})"
      ],
      "execution_count": 0,
      "outputs": []
    },
    {
      "cell_type": "markdown",
      "metadata": {
        "id": "NZsZdNjY2lBi",
        "colab_type": "text"
      },
      "source": [
        "Remove any incomplete cases"
      ]
    },
    {
      "cell_type": "code",
      "metadata": {
        "id": "cYBjnHVN12dy",
        "colab_type": "code",
        "colab": {}
      },
      "source": [
        "bc_data = bc_data.dropna()"
      ],
      "execution_count": 0,
      "outputs": []
    },
    {
      "cell_type": "markdown",
      "metadata": {
        "id": "wC5WoxDe3csQ",
        "colab_type": "text"
      },
      "source": [
        "I'm not sure if sometimes there are missing values just because something wasn't performed, in the case of surgery perhaps? Either way...I'm just going to remove missing values -- May be good to ask about this though"
      ]
    },
    {
      "cell_type": "markdown",
      "metadata": {
        "colab_type": "text",
        "id": "_NkdoqfjmiUU"
      },
      "source": [
        "**One Hot Encoding**\n",
        "\n",
        "Because some categorical features have multiple categories, we need to use one-hot-encoding to represent these varaibles in the dataset. Just creating numeric levels won't always make sense in the case of features like caludin_subtype which are genomic classifications\n",
        "\n",
        "For features that are binary - we will not need to seperate these into 2 variables - does not make sense!"
      ]
    },
    {
      "cell_type": "code",
      "metadata": {
        "colab_type": "code",
        "id": "LI5MqXipmiUZ",
        "colab": {}
      },
      "source": [
        "# Determine which variables we want to one-hot-encode\n",
        "print('Cellularity:', bc_data['cellularity'].unique())\n",
        "print('Chemotherapy:',bc_data['chemotherapy'].unique()) # binary\n",
        "print('Er_ihc:',bc_data['er_ihc'].unique()) # binary \n",
        "print('Her2_snp6:',bc_data['her2_snp6'].unique())\n",
        "print('Hormone Therapy:',bc_data['hormone_therapy'].unique()) # binary\n",
        "print('Inferred_menopausal_state:',bc_data['inferred_menopausal_state'].unique()) # binary\n",
        "print('Interclust:',bc_data['intclust'].unique())\n",
        "print('Claudin_Subtype:',bc_data['claudin_subtype'].unique())\n",
        "print('Threegene:',bc_data['threegene'].unique())\n",
        "print('Laterality:',bc_data['laterality'].unique()) # binary\n",
        "print('Radio_Therapy:',bc_data['radio_therapy'].unique()) # bianry\n",
        "print('Histological_Subtype:',bc_data['histological_subtype'].unique())\n",
        "print('Breast_Surgery:',bc_data['breast_surgery'].unique())\n",
        "print('Vital_status:',bc_data['vital_status'].unique())"
      ],
      "execution_count": 0,
      "outputs": []
    },
    {
      "cell_type": "code",
      "metadata": {
        "colab_type": "code",
        "id": "rG6TBfsFmiUi",
        "colab": {}
      },
      "source": [
        "# Convert patient_ids to row names \n",
        "bc_data = bc_data.set_index(bc_data.patient_id)"
      ],
      "execution_count": 0,
      "outputs": []
    },
    {
      "cell_type": "code",
      "metadata": {
        "colab_type": "code",
        "id": "2bjIzr3SmiUn",
        "colab": {}
      },
      "source": [
        "# Create dataframe with the unchanged varaibles - this will contain numeric variables\n",
        "bc_data1 = bc_data[['lymph_nodes_examined_positive', 'npi', 'age_at_diagnosis', 'os_months', 'vital_status', 'chemotherapy', 'er_ihc', 'hormone_therapy', 'inferred_menopausal_state', 'radio_therapy', 'laterality']]\n",
        "\n",
        "## Seperate the dataframes into the variables that we will want to reshape - we can then recombine anything that has more than 2 levels\n",
        "# Cellularity\n",
        "cell_df = bc_data[['cellularity']]\n",
        "cell_df = pd.get_dummies(cell_df,prefix=['cellularity'])\n",
        "\n",
        "# Her2_snp6\n",
        "her2_df = bc_data[['her2_snp6']]\n",
        "her2_df = pd.get_dummies(her2_df,prefix=['her2'])\n",
        "\n",
        "# Interclust\n",
        "intclust_df = bc_data[['intclust']]\n",
        "intclust_df = pd.get_dummies(intclust_df,prefix=['intclust'])\n",
        "\n",
        "# Claduin Subtype\n",
        "cs_df = bc_data[['claudin_subtype']]\n",
        "cs_df = pd.get_dummies(cs_df,prefix=['claudin_subtype'])\n",
        "\n",
        "# Threegene\n",
        "three_df = bc_data[['threegene']]\n",
        "three_df = pd.get_dummies(three_df,prefix=['threegene'])\n",
        "\n",
        "# Histological_Subtype\n",
        "hist_df = bc_data[['histological_subtype']]\n",
        "hist_df = pd.get_dummies(hist_df,prefix=['hist'])\n",
        "\n",
        "# Breast Surgery\n",
        "surg_df = bc_data[['breast_surgery']]\n",
        "surg_df = pd.get_dummies(surg_df,prefix=['breast_surgery'])\n",
        "\n",
        "# We want to convert row index (patient_id) to the first column for all of the above datasets\n",
        "bc_data1.reset_index(level=0, inplace=True)\n",
        "cell_df.reset_index(level=0, inplace=True)\n",
        "her2_df.reset_index(level=0, inplace=True)\n",
        "intclust_df.reset_index(level=0, inplace=True)\n",
        "cs_df.reset_index(level=0, inplace=True)\n",
        "three_df.reset_index(level=0, inplace=True)\n",
        "hist_df.reset_index(level=0, inplace=True)\n",
        "surg_df.reset_index(level=0, inplace=True)\n",
        "\n",
        "# Merge all data \n",
        "bc_data = pd.merge(bc_data1, cell_df, how=\"left\", on=\"patient_id\")\n",
        "bc_data = pd.merge(bc_data, her2_df, how=\"left\", on=\"patient_id\")\n",
        "bc_data = pd.merge(bc_data, intclust_df, how=\"left\", on=\"patient_id\")\n",
        "bc_data = pd.merge(bc_data, cs_df, how=\"left\", on=\"patient_id\")\n",
        "bc_data = pd.merge(bc_data, three_df, how=\"left\", on=\"patient_id\")\n",
        "bc_data = pd.merge(bc_data, hist_df, how=\"left\", on=\"patient_id\")\n",
        "bc_data = pd.merge(bc_data, surg_df, how=\"left\", on=\"patient_id\")"
      ],
      "execution_count": 0,
      "outputs": []
    },
    {
      "cell_type": "markdown",
      "metadata": {
        "colab_type": "text",
        "id": "ukcahmrDmiUw"
      },
      "source": [
        "Create dummy variables for Vital Status - Our Label and the other binary variables"
      ]
    },
    {
      "cell_type": "code",
      "metadata": {
        "colab_type": "code",
        "id": "wjXZeKeGmiUx",
        "colab": {}
      },
      "source": [
        "bc_data['vital_status'] = bc_data.vital_status.map({'Living': 0, 'Died of Disease': 1})\n",
        "bc_data['chemotherapy'] = bc_data.chemotherapy.map({'NO': 0, 'YES': 1})\n",
        "bc_data['er_ihc'] = bc_data.er_ihc.map({'Negative': 0, 'Positve': 1}) # careful with the positive spelling error in the dataset\n",
        "bc_data['hormone_therapy'] = bc_data.hormone_therapy.map({'NO': 0, 'YES': 1})\n",
        "bc_data['inferred_menopausal_state'] = bc_data.inferred_menopausal_state.map({'Pre': 0, 'Post': 1})\n",
        "bc_data['laterality'] = bc_data.laterality.map({'Left': 0, 'Right': 1})\n",
        "bc_data['radio_therapy'] = bc_data.radio_therapy.map({'NO': 0, 'YES': 1})"
      ],
      "execution_count": 0,
      "outputs": []
    },
    {
      "cell_type": "markdown",
      "metadata": {
        "colab_type": "text",
        "id": "yNDj16JSsW56"
      },
      "source": [
        "Covert numeric varaibles as such, right now they are all non-null objects"
      ]
    },
    {
      "cell_type": "code",
      "metadata": {
        "colab_type": "code",
        "id": "m7wveepYsW5_",
        "colab": {}
      },
      "source": [
        "# convert first column to row index\n",
        "bc_data = bc_data.set_index('patient_id')\n",
        "\n",
        "# convert column object type to float for all columns\n",
        "bc_data = bc_data.astype(np.float32)\n",
        "\n",
        "# convert the row index back to the first column\n",
        "bc_data.reset_index(level=0, inplace=True)"
      ],
      "execution_count": 0,
      "outputs": []
    },
    {
      "cell_type": "markdown",
      "metadata": {
        "id": "CvEAYV7AdnUy",
        "colab_type": "text"
      },
      "source": [
        "**Gene Expression Data**"
      ]
    },
    {
      "cell_type": "markdown",
      "metadata": {
        "id": "yN3qdFp3iAXi",
        "colab_type": "text"
      },
      "source": [
        "Rename patient ID column"
      ]
    },
    {
      "cell_type": "code",
      "metadata": {
        "id": "2awWt2puh_3C",
        "colab_type": "code",
        "colab": {}
      },
      "source": [
        "gene_data.rename(columns={'Unnamed: 0':'patient_id'}, inplace=True)"
      ],
      "execution_count": 0,
      "outputs": []
    },
    {
      "cell_type": "markdown",
      "metadata": {
        "id": "Nhv4Xmt4CEjc",
        "colab_type": "text"
      },
      "source": [
        "Remove redundant columns that also appear in the bc_data - EVENT indicates 5 year survival from the processing code"
      ]
    },
    {
      "cell_type": "code",
      "metadata": {
        "id": "OzzDhbSgCGW7",
        "colab_type": "code",
        "colab": {}
      },
      "source": [
        "gene_data = gene_data.drop(columns=[\"EVENT\", \"OS_MONTHS\", \"FIVE_YEAR\"])"
      ],
      "execution_count": 0,
      "outputs": []
    },
    {
      "cell_type": "markdown",
      "metadata": {
        "colab_type": "text",
        "id": "yOA86mVZjw-H"
      },
      "source": [
        "Remove genes if there are missing values.\n",
        "\n",
        "There are so many gene expression variables that I will not exclude patients if they are missing genetic data! Suprisingly, this only removes 6 genes which doesn't seem like it would make a big deal."
      ]
    },
    {
      "cell_type": "code",
      "metadata": {
        "id": "3xHEkcgpAK1Q",
        "colab_type": "code",
        "colab": {}
      },
      "source": [
        "# how many genes (columns) are complete cases?\n",
        "gene_data = gene_data.dropna(axis = 1) #axis = 1, represents dropping columns with any missing values"
      ],
      "execution_count": 0,
      "outputs": []
    },
    {
      "cell_type": "markdown",
      "metadata": {
        "id": "fG0jkv53dzjL",
        "colab_type": "text"
      },
      "source": [
        "**Merge Clinical and Gean Data**"
      ]
    },
    {
      "cell_type": "code",
      "metadata": {
        "id": "vsEkpsAOd7D2",
        "colab_type": "code",
        "colab": {}
      },
      "source": [
        "clinical_gene = pd.merge(bc_data, gene_data, how=\"left\", on=\"patient_id\")"
      ],
      "execution_count": 0,
      "outputs": []
    },
    {
      "cell_type": "markdown",
      "metadata": {
        "colab_type": "text",
        "id": "sACE1PvgnEhf"
      },
      "source": [
        "# **Examine Patient Outcomes**\n",
        "\n",
        "Assess the number of patients maintained in our final datasets and their outcomes"
      ]
    },
    {
      "cell_type": "code",
      "metadata": {
        "colab_type": "code",
        "id": "cy1Bjfi6nEhk",
        "cellView": "both",
        "colab": {}
      },
      "source": [
        "plt_out = clinical_gene.vital_status.value_counts().plot(kind=\"bar\")\n",
        "plt_out.tick_params(axis=\"x\", labelsize=11, labelrotation= -360)\n",
        "plt_out.set_title(\"Survival\")\n",
        "\n",
        "# Calculate Percents\n",
        "count_outcomes = clinical_gene.groupby(['vital_status']).size()\n",
        "print(count_outcomes)\n",
        "\n",
        "print('Total Number of Patients:', len(clinical_gene.index))\n",
        "print('Percent Living: {:.2f}'.format(count_outcomes[0]/len(clinical_gene.index)))\n",
        "print('Percent Died of Disease: {:.2f}'.format(count_outcomes[1]/len(clinical_gene.index)))"
      ],
      "execution_count": 0,
      "outputs": []
    },
    {
      "cell_type": "markdown",
      "metadata": {
        "id": "p0LSJM5jlhZR",
        "colab_type": "text"
      },
      "source": [
        "After removing patients with missing clinical values, our dataset reduced to \n",
        "1,519 patients with 49 clinical variables (after one hot encoding) and mRNA expression for 24,368 genes. \n",
        "\n",
        "485 (32% of patients died from breast cancer) vs 1,034 (68%) of patients who surived. \n"
      ]
    },
    {
      "cell_type": "markdown",
      "metadata": {
        "id": "SlYTYc7lwvOZ",
        "colab_type": "text"
      },
      "source": [
        "# **Assess the number of patients who surivived > 10 years**"
      ]
    },
    {
      "cell_type": "code",
      "metadata": {
        "id": "WS5ARnT33T_v",
        "colab_type": "code",
        "colab": {}
      },
      "source": [
        "# examine patients who survived > 10 years\n",
        "years10 = clinical_gene[clinical_gene['os_months'] >= 120]\n",
        "os = clinical_gene['os_months']\n",
        "\n",
        "# Define bins\n",
        "bin_edges = [25,50,75,100,125,150,175,200,225,250,275,300,325]\n",
        "\n",
        "plt.hist(os,\n",
        "         bin_edges,\n",
        "         density=False,\n",
        "         histtype='bar',\n",
        "         color='b',\n",
        "         edgecolor='k',\n",
        "         alpha=0.5)\n",
        "\n",
        "plt.xlabel('Months')\n",
        "plt.ylabel('Number Patients')\n",
        "plt.title('Overall Surivival (months)')\n",
        "\n",
        "plt.show()"
      ],
      "execution_count": 0,
      "outputs": []
    },
    {
      "cell_type": "code",
      "metadata": {
        "id": "Xc1IuEw35LaE",
        "colab_type": "code",
        "colab": {}
      },
      "source": [
        "# Calculate Percents\n",
        "count_outcomes = years10.groupby(['vital_status']).size()\n",
        "print(count_outcomes)\n",
        "\n",
        "print('Total Number of Patients:', len(years10.index))\n",
        "print('Percent Living: {:.2f}'.format(count_outcomes[0]/len(years10.index)))\n",
        "print('Percent Died of Disease: {:.2f}'.format(count_outcomes[1]/len(years10.index)))"
      ],
      "execution_count": 0,
      "outputs": []
    },
    {
      "cell_type": "markdown",
      "metadata": {
        "id": "0RmpBUCk79Jp",
        "colab_type": "text"
      },
      "source": [
        "The number of patients who are still living vs those deceased at 10 years is very unbalanced (87 vs 13% respectively). For this reason, I will continue to see whether my model can just predict survival status for patients."
      ]
    },
    {
      "cell_type": "markdown",
      "metadata": {
        "id": "IHSb_8vfnj7F",
        "colab_type": "text"
      },
      "source": [
        "# **Prinicipal Component Analysis**\n",
        "\n",
        "**What is a Pricipal Component?**\n",
        "\n",
        "Principal componenets have both direction and magnitude. The direction represents across which principal axes the data is mostly spread out or has the most variance and the magnitude signifies the amount of varaince that Principal Component captures of the data when projected onto that axis. \n",
        "\n",
        "The principal components are a straight line, and the first principal component holds the most variance in the data. Each subsequent prinicpal component is orthogonal to the last and has a lesser variance .\n",
        "\n",
        "Correlated features contribute to the same principal component, thereby reducing the original data features into uncorrelated prinicpal components; each representing a different set of correlated features with differents of variation.\n",
        "\n",
        "Each principal component represents a percentage of total variation captured from the data\n",
        "\n",
        "**Reference:** https://www.datacamp.com/community/tutorials/principal-component-analysis-in-python"
      ]
    },
    {
      "cell_type": "markdown",
      "metadata": {
        "id": "bLtwUznBJliI",
        "colab_type": "text"
      },
      "source": [
        "Create a dataset just containing gene expression"
      ]
    },
    {
      "cell_type": "code",
      "metadata": {
        "id": "d39noFie28iQ",
        "colab_type": "code",
        "colab": {}
      },
      "source": [
        "# remove patient_id number from the list\n",
        "gene_list = gene_data.drop(columns=[\"patient_id\"])\n",
        "gene_list = list(gene_list.columns.values) \n",
        "genes = clinical_gene[gene_list]"
      ],
      "execution_count": 0,
      "outputs": []
    },
    {
      "cell_type": "markdown",
      "metadata": {
        "id": "3DgHGkhOxDS9",
        "colab_type": "text"
      },
      "source": [
        "Create a dataset containing the target variables"
      ]
    },
    {
      "cell_type": "code",
      "metadata": {
        "id": "YUEg7yf_VhS-",
        "colab_type": "code",
        "colab": {}
      },
      "source": [
        "# Subset only the Event - whether they lived (0) or died (1) from Breast Cancer\n",
        "labels = clinical_gene.vital_status\n",
        "\n",
        "# Create a list of row names\n",
        "patients = list(clinical_gene.patient_id)\n",
        "\n",
        "# Convert labels into a dataframe and indicate patients as the index\n",
        "labels = pd.DataFrame(labels)\n",
        "labels.index = patients"
      ],
      "execution_count": 0,
      "outputs": []
    },
    {
      "cell_type": "markdown",
      "metadata": {
        "colab_type": "text",
        "id": "LcNAgmZwbTgQ"
      },
      "source": [
        "**1) Standardize the Data**\n",
        "\n",
        "Must scale features in your data before applying PCA. **StandardScaler** helps standardize features onto unit scale (mean = 0 and standard deviation = 1). Thus, each value in the dataset will have the sample mean value subtracted and then divided by the standard deviation of the whole dataset. \n"
      ]
    },
    {
      "cell_type": "code",
      "metadata": {
        "colab_type": "code",
        "id": "C8fw-kJMbTgV",
        "colab": {}
      },
      "source": [
        "from sklearn.preprocessing import StandardScaler \n",
        "from sklearn.decomposition import PCA\n",
        "\n",
        "# Stanardize/Scale the data\n",
        "x = StandardScaler().fit_transform(genes)"
      ],
      "execution_count": 0,
      "outputs": []
    },
    {
      "cell_type": "markdown",
      "metadata": {
        "colab_type": "text",
        "id": "RYSjIvVMbTgo"
      },
      "source": [
        "**Let's check whether the normalized data has a mean of zero and a standard deviation of 1**"
      ]
    },
    {
      "cell_type": "code",
      "metadata": {
        "colab_type": "code",
        "id": "xDv7qQHUbTgs",
        "colab": {}
      },
      "source": [
        "np.mean(x), np.std(x)"
      ],
      "execution_count": 0,
      "outputs": []
    },
    {
      "cell_type": "markdown",
      "metadata": {
        "id": "W2pzskJS_UEz",
        "colab_type": "text"
      },
      "source": [
        "**Convert the normalized features into tabular format**"
      ]
    },
    {
      "cell_type": "code",
      "metadata": {
        "id": "3xKkBbp4_W3V",
        "colab_type": "code",
        "colab": {}
      },
      "source": [
        "# Create list of column names\n",
        "features = list(genes.columns.values) \n",
        "\n",
        "# Create data frame of newly normalized data - use patients IDs as the index \n",
        "x = pd.DataFrame(x, columns = features, index = patients)"
      ],
      "execution_count": 0,
      "outputs": []
    },
    {
      "cell_type": "markdown",
      "metadata": {
        "id": "nFQt5RulAiYC",
        "colab_type": "text"
      },
      "source": [
        "**2) Determine Prinicpal Components**\n",
        "\n",
        "Reference: https://stackoverflow.com/questions/42167907/understanding-scikitlearn-pca-transform-function-in-python\n",
        "\n",
        "**pca.fit** allows PCA function to compute vectors that you can project your data onto in order to reduce the dimension of your data. \n",
        "\n",
        "**pca.transform** actually performs the projection. It projects each row of data into the vector space that was learned when fit was called.\n",
        "\n",
        "from sklearn: **fit_transform**: Fit the model with X and apply the dimensionality reduction on X"
      ]
    },
    {
      "cell_type": "code",
      "metadata": {
        "id": "ZhT8EtKgHCh6",
        "colab_type": "code",
        "colab": {}
      },
      "source": [
        "# Define pca function\n",
        "pca = PCA()\n",
        "\n",
        "# Fit to the scaled/standardized data - then use transform to prokect into the new vector space learned by fit\n",
        "principalComponents = pca.fit_transform(x)\n",
        "\n",
        "# Generate a list of column names with the number for each prinicpal component \n",
        "col_names = [f'pc{i}' for i in range(1, 1520)] # there are 1519 samples - so we want to have range of 1 less than 1894 column names \n",
        "\n",
        "# Add column names to the principal component dataset \n",
        "principalDf = pd.DataFrame(principalComponents, columns = col_names, index = patients)\n",
        "principalDf"
      ],
      "execution_count": 0,
      "outputs": []
    },
    {
      "cell_type": "markdown",
      "metadata": {
        "colab_type": "text",
        "id": "1ERnjKTMe2Nj"
      },
      "source": [
        "**3) Determine # of Components and Variance**"
      ]
    },
    {
      "cell_type": "code",
      "metadata": {
        "colab_type": "code",
        "id": "anB37-Bse2N8",
        "colab": {}
      },
      "source": [
        "#Plotting the Cumulative Summation of the Explained Variance\n",
        "plt.figure()\n",
        "plt.plot(np.cumsum(pca.explained_variance_ratio_))\n",
        "plt.xlabel('Number of Components')\n",
        "plt.ylabel('Variance (%)') #for each component\n",
        "plt.title('Gene Expression Explained Variance')\n",
        "plt.show()"
      ],
      "execution_count": 0,
      "outputs": []
    },
    {
      "cell_type": "markdown",
      "metadata": {
        "colab_type": "text",
        "id": "_ntR3kSyfA8w"
      },
      "source": [
        "The plot tells us that with ~1200 components we can capture 90% of the data. "
      ]
    },
    {
      "cell_type": "markdown",
      "metadata": {
        "colab_type": "text",
        "id": "TW4-aX_0fkCF"
      },
      "source": [
        "**Alternative method - Pre-selecting % of variance**\n",
        "\n",
        "**Fit PCA to the data**"
      ]
    },
    {
      "cell_type": "code",
      "metadata": {
        "colab_type": "code",
        "id": "08TMwSQzfkCj",
        "colab": {}
      },
      "source": [
        "pca = PCA(0.9)\n",
        "x2 = pca.fit_transform(x)"
      ],
      "execution_count": 0,
      "outputs": []
    },
    {
      "cell_type": "code",
      "metadata": {
        "id": "etk-AvMGcPSx",
        "colab_type": "code",
        "colab": {}
      },
      "source": [
        "x2 = pd.DataFrame(data = x2)\n",
        "x2 #this is the 1306 principal components"
      ],
      "execution_count": 0,
      "outputs": []
    },
    {
      "cell_type": "markdown",
      "metadata": {
        "colab_type": "text",
        "id": "fjoKMBrkfkC6"
      },
      "source": [
        "**Determine the exact number of n_components needed to capture 0.9 variance**"
      ]
    },
    {
      "cell_type": "code",
      "metadata": {
        "colab_type": "code",
        "id": "O263KB9PfkDA",
        "colab": {}
      },
      "source": [
        "pca.n_components_"
      ],
      "execution_count": 0,
      "outputs": []
    },
    {
      "cell_type": "markdown",
      "metadata": {
        "colab_type": "text",
        "id": "N_phdwqSfkDR"
      },
      "source": [
        "This function indicates that 1082 is the number of principal components needed to capture 90% of the variation which is what I had estimated from the above plot."
      ]
    },
    {
      "cell_type": "markdown",
      "metadata": {
        "id": "u-8HMNYOfb-T",
        "colab_type": "text"
      },
      "source": [
        "**Scree Plot**\n",
        "\n",
        "View which principal components contribute most to the variance "
      ]
    },
    {
      "cell_type": "code",
      "metadata": {
        "id": "5Naiy12_fmgd",
        "colab_type": "code",
        "colab": {}
      },
      "source": [
        "# remove PC from \n",
        "per_var = np.round(pca.explained_variance_ratio_* 100, decimals=1)\n",
        "per_var = per_var[:10] #top 10 PC - this number is chosen just so that we can more easily view the plot\n",
        "labels = col_names[:10]\n",
        "\n",
        "plt.bar(x=range(1, len(per_var)+1), height = per_var, tick_label = labels)\n",
        "plt.ylabel('Percentage of Explained Variance')\n",
        "plt.xlabel('Prinicpal Component')\n",
        "plt.title('Scree Plot')\n",
        "plt.show()"
      ],
      "execution_count": 0,
      "outputs": []
    },
    {
      "cell_type": "markdown",
      "metadata": {
        "id": "jRoImRth9d7x",
        "colab_type": "text"
      },
      "source": [
        "**Table with % Variance for the 1082 PCs making up 90% of the variance**"
      ]
    },
    {
      "cell_type": "code",
      "metadata": {
        "id": "_CSeS-DT9lqH",
        "colab_type": "code",
        "colab": {}
      },
      "source": [
        "per_var_all = np.round(pca.explained_variance_ratio_* 100, decimals=1)\n",
        "per_var_all.shape # this shows the % variance explained for each component\n",
        "\n",
        "# convert to dataframe\n",
        "per_var_all = pd.DataFrame(per_var_all)\n",
        "\n",
        "# add prinicipal component labels\n",
        "per_var_all.index = col_names[:1082]\n",
        "\n",
        "# rename column 0\n",
        "cols = {'% Variance'}\n",
        "per_var_all.columns = cols\n",
        "\n",
        "# create a rolling calculation of the variance \n",
        "per_var_all['CumulativeVariance'] = per_var_all['% Variance'].cumsum()\n",
        "print(per_var_all)\n",
        "\n",
        "# save to csv \n",
        "per_var_all.to_csv('/content/drive/My Drive/Projects/Breast_Cancer_Classification/Processed_Data/component_variance_chart_90_1082.txt')"
      ],
      "execution_count": 0,
      "outputs": []
    },
    {
      "cell_type": "markdown",
      "metadata": {
        "id": "kbKCKk7EklZW",
        "colab_type": "text"
      },
      "source": [
        "**Draw PCA Plot**\n",
        "\n",
        "With the two primary principal components\n",
        "\n",
        "References: \n",
        "\n",
        "https://www.datacamp.com/community/tutorials/principal-component-analysis-in-python\n",
        "\n",
        "https://towardsdatascience.com/pca-using-python-scikit-learn-e653f8989e60"
      ]
    },
    {
      "cell_type": "code",
      "metadata": {
        "id": "Ju-lFlNjkqrl",
        "colab_type": "code",
        "colab": {}
      },
      "source": [
        "# Can use the function below with .sample to select a subset of PC components, making it more readible\n",
        "principalDf_samp = principalDf.sample(n = 500) # will need to change the dataframe principalDf below to prinicpalDf_samp if I use this function\n",
        "\n",
        "#plt.scatter(principalDf.pc1, principalDf.pc2)\n",
        "plt.title('Principal Components')\n",
        "plt.xlabel('PC1 - {0}%'.format(per_var[0]))\n",
        "plt.ylabel('PC2 - {0}%'.format(per_var[1]))\n",
        "\n",
        "# Replace Labels\n",
        "clinical_gene = clinical_gene.set_index(clinical_gene.patient_id)\n",
        "clinical_gene['vital_status'].replace(0, 'Lived',inplace=True)\n",
        "clinical_gene['vital_status'].replace(1, 'Died',inplace=True)\n",
        "\n",
        "# Create labels for the targets to be used to color the graphs\n",
        "targets = ['Lived', 'Died']\n",
        "colors = ['b', 'r']\n",
        "\n",
        "for target, color in zip(targets, colors):\n",
        "    indicesToKeep = clinical_gene['vital_status'] == target\n",
        "    plt.scatter(principalDf.loc[indicesToKeep, 'pc1'],\n",
        "                principalDf.loc[indicesToKeep, 'pc2'], c = color)\n",
        "\n",
        "# The labeled numbers are the indiviudal patients samples\n",
        "for sample in principalDf.index:\n",
        "  plt.annotate(sample, (principalDf.pc1.loc[sample], principalDf.pc2.loc[sample])) # my impression is that sample just indicates each row\n",
        "\n",
        "# Subset\n",
        "#sample_50 = principalDf.sample(n = 50)\n",
        "\n",
        "# This plot is interesting -- it looks like it's creating random samples, but still impossing it on the main graph because we are indeicating pc1 and pc2 still which all samples would be under\n",
        "#for sample in sample_50.index:\n",
        "#  plt.annotate(sample, (sample_50.pc1.loc[sample], sample_50.pc2.loc[sample]))\n",
        "#print(sample_50)\n",
        "\n",
        "#print(principalDf.sample) -- I believe sample is returning just all of the row labels -- hard to read though which is why I was trying to subset\n",
        "#print(principalDf.sample(n = 50))"
      ],
      "execution_count": 0,
      "outputs": []
    },
    {
      "cell_type": "markdown",
      "metadata": {
        "id": "yj1slhOvq7R2",
        "colab_type": "text"
      },
      "source": [
        "**Determine Relevant Genes**\n",
        "\n",
        "Get the name of the top 10 genes that contribute most to pc1. The following code looks at the components of each pca - which is also called the loading scores. Sorting by the absolute value, allows us to identify which genes, in either the negative or positive direction, had the most infleunce on each prinicipal component.\n",
        "\n",
        "\n",
        "\n",
        "References: \n",
        "\n",
        "https://stackoverflow.com/questions/47370795/pca-on-sklearn-how-to-interpret-pca-components\n",
        "\n",
        "https://www.youtube.com/watch?v=FgakZw6K1QQ"
      ]
    },
    {
      "cell_type": "code",
      "metadata": {
        "id": "5L2d7XvVqimM",
        "colab_type": "code",
        "colab": {}
      },
      "source": [
        "## first, get the loading scores\n",
        "loading_scores = pd.Series(pca.components_[0], index=features)\n",
        "\n",
        "## now sort the loading scores based on their magnitude\n",
        "sorted_loading_scores = loading_scores.abs().sort_values(ascending=False)\n",
        " \n",
        "# get the names of the top 10 genes\n",
        "top_10_genes = sorted_loading_scores[0:10].index.values\n",
        " \n",
        "## print the gene names and their scores (and +/- sign)\n",
        "print(loading_scores[top_10_genes])"
      ],
      "execution_count": 0,
      "outputs": []
    },
    {
      "cell_type": "markdown",
      "metadata": {
        "id": "EG7w6zxOYM20",
        "colab_type": "text"
      },
      "source": [
        "**Loading Scores Test**\n",
        "\n",
        "We can also validate the above loading scores function by looking at the values obtained when just using pca.fit. First, we perform just the fit function on the original x which is the scaled/standardized data. Then we can view the compoenent/loading scores which allow us to examine which genes had the most influence for each component. It is the absolute value "
      ]
    },
    {
      "cell_type": "code",
      "metadata": {
        "id": "o3ciVW2jYMaK",
        "colab_type": "code",
        "colab": {}
      },
      "source": [
        "# Test\n",
        "principalComponents = pca.fit(x)\n",
        "df_test = pd.DataFrame(pca.components_, columns=list(x.columns))  \n",
        "print(df_test.SEPT15)\n",
        "print(df_test.GLRX3)"
      ],
      "execution_count": 0,
      "outputs": []
    },
    {
      "cell_type": "code",
      "metadata": {
        "id": "EE1xQmGOpOAf",
        "colab_type": "code",
        "colab": {}
      },
      "source": [
        "pca.components_.shape # when we look at the shape, there are 1306 rows (components) and 24368 columns for the gene features "
      ],
      "execution_count": 0,
      "outputs": []
    },
    {
      "cell_type": "markdown",
      "metadata": {
        "id": "dD1ZTkuETUzr",
        "colab_type": "text"
      },
      "source": [
        "**Select the Top 1082 Prinicipal Components that Explain 90 % of the Variance**"
      ]
    },
    {
      "cell_type": "code",
      "metadata": {
        "id": "9PG856HFThUH",
        "colab_type": "code",
        "colab": {}
      },
      "source": [
        "principalDf_1082 = principalDf.iloc[:,0:1082]"
      ],
      "execution_count": 0,
      "outputs": []
    },
    {
      "cell_type": "markdown",
      "metadata": {
        "id": "vKzlNG-xu4EN",
        "colab_type": "text"
      },
      "source": [
        "# **Training and Testing Split**\n",
        "\n",
        "For all of our classification methods, we will create a training and a testing set."
      ]
    },
    {
      "cell_type": "code",
      "metadata": {
        "id": "YxdYyZxEujxJ",
        "colab_type": "code",
        "colab": {}
      },
      "source": [
        "# Packagess\n",
        "from sklearn import preprocessing\n",
        "from sklearn.linear_model import LogisticRegression\n",
        "from sklearn.model_selection import train_test_split"
      ],
      "execution_count": 0,
      "outputs": []
    },
    {
      "cell_type": "markdown",
      "metadata": {
        "id": "ScK7nf14JEJj",
        "colab_type": "text"
      },
      "source": [
        "Create clinical dataset"
      ]
    },
    {
      "cell_type": "code",
      "metadata": {
        "colab_type": "code",
        "id": "ItAs8Em1Ij_W",
        "colab": {}
      },
      "source": [
        "# Convert patient_ids to row names \n",
        "bc_data = bc_data.set_index(bc_data.patient_id)\n",
        "# remove os_months + vital status from bc_data\n",
        "clinical = bc_data.drop(columns=[\"patient_id\"])"
      ],
      "execution_count": 0,
      "outputs": []
    },
    {
      "cell_type": "markdown",
      "metadata": {
        "id": "qKwf3jzovYN0",
        "colab_type": "text"
      },
      "source": [
        "Format the bc_data into a features and label dataframe"
      ]
    },
    {
      "cell_type": "code",
      "metadata": {
        "id": "H421ISlCvf4d",
        "colab_type": "code",
        "colab": {}
      },
      "source": [
        "# Let x represent the input features; y the labels\n",
        "# Want to remove os_months, os_status, and vital_status from inputs since these are what we are trying to predict. We will include vital status as our label. I already remove os_status by leaving it out of pre-processing above, since I felt this was similar to vital_status\n",
        "\n",
        "# create x to represent the input features; y is the label; \n",
        "x =  clinical.drop(['os_months', 'vital_status'], axis=1)\n",
        "y =  clinical.vital_status"
      ],
      "execution_count": 0,
      "outputs": []
    },
    {
      "cell_type": "markdown",
      "metadata": {
        "id": "Jot8CaTpvfEP",
        "colab_type": "text"
      },
      "source": [
        "Split the data into testing and training sets"
      ]
    },
    {
      "cell_type": "code",
      "metadata": {
        "id": "zuPWs5pQv5d2",
        "colab_type": "code",
        "colab": {}
      },
      "source": [
        "X_train, X_test, y_train, y_test = train_test_split(x, y, test_size=0.25, random_state=25)"
      ],
      "execution_count": 0,
      "outputs": []
    },
    {
      "cell_type": "markdown",
      "metadata": {
        "id": "f7UGiy4twHbY",
        "colab_type": "text"
      },
      "source": [
        "View the shapes of the training and testing sets; the datasets ending in \"train\" are our training sets; similarly, those ending in \"test\" are the testing; x prefix always represents the input features, y the labels"
      ]
    },
    {
      "cell_type": "code",
      "metadata": {
        "id": "ujubXxyzwU14",
        "colab_type": "code",
        "colab": {}
      },
      "source": [
        "# Assess the trainig and testing sets previously created\n",
        "print('Training Features Shape:', X_train.shape)\n",
        "print('Training Labels Shape:', y_train.shape)\n",
        "print('Testing Features Shape:', X_test.shape)\n",
        "print('Testing Labels Shape:', y_test.shape)"
      ],
      "execution_count": 0,
      "outputs": []
    },
    {
      "cell_type": "markdown",
      "metadata": {
        "id": "R2u1NBiEwYeS",
        "colab_type": "text"
      },
      "source": [
        "Examine the class distributions - these are similar splits between the training and testing sets. This is also representative of the number of cases throughout the entire dataset."
      ]
    },
    {
      "cell_type": "code",
      "metadata": {
        "id": "WzAqXr4pwX3M",
        "colab_type": "code",
        "colab": {}
      },
      "source": [
        "# Malignant = 1; Count the number of malignant and determine the percentage (training has 1139 values, testing has 380)\n",
        "print('Died of Diseases in Training Set:', np.count_nonzero(y_train == 1))\n",
        "print('Died of Diseases in Testing Set:', np.count_nonzero(y_test == 1))\n",
        "\n",
        "# Percents\n",
        "print('% Died of Diseases Cases in Training Set:', round(np.count_nonzero(y_train == 1)/1139*100,2))\n",
        "print('% Died of Diseases Cases in Testing Set:', round(np.count_nonzero(y_test == 1)/380*100,2))"
      ],
      "execution_count": 0,
      "outputs": []
    },
    {
      "cell_type": "markdown",
      "metadata": {
        "id": "OKbcbk0qJpqQ",
        "colab_type": "text"
      },
      "source": [
        "Now add the PCs"
      ]
    },
    {
      "cell_type": "code",
      "metadata": {
        "colab_type": "code",
        "id": "VBIdNvbuIj_f",
        "colab": {}
      },
      "source": [
        "# Merge pcas with the clinical data\n",
        "pca50 = principalDf_1082.iloc[:,0:50] \n",
        "pca10 = principalDf_1082.iloc[:,0:10]\n",
        "\n",
        "# name row index\n",
        "pca50.index.name = 'patient_id'\n",
        "pca10.index.name = 'patient_id'\n",
        "\n",
        "# convert the row index back to the first column\n",
        "pca50.reset_index(level=0, inplace=True)\n",
        "pca10.reset_index(level=0, inplace=True)\n",
        "\n",
        "# Merge pca with clinical data\n",
        "X_train_clinical_pca50 = pd.merge(X_train, pca50, how=\"left\", on=\"patient_id\")\n",
        "X_test_clinical_pca50 = pd.merge(X_test, pca50, how=\"left\", on=\"patient_id\")\n",
        "\n",
        "X_train_clinical_pca10 = pd.merge(X_train, pca10, how=\"left\", on=\"patient_id\")\n",
        "X_test_clinical_pca10 = pd.merge(X_test, pca10, how=\"left\", on=\"patient_id\")\n",
        "\n",
        "# convert column with patients ids back to row index\n",
        "X_train_clinical_pca50 = X_train_clinical_pca50.set_index(X_train_clinical_pca50.patient_id)\n",
        "X_test_clinical_pca50 = X_test_clinical_pca50.set_index(X_test_clinical_pca50.patient_id)\n",
        "\n",
        "X_train_clinical_pca10 = X_train_clinical_pca10.set_index(X_train_clinical_pca10.patient_id)\n",
        "X_test_clinical_pca10 = X_test_clinical_pca10.set_index(X_test_clinical_pca10.patient_id)\n",
        "\n",
        "# remove patient id column\n",
        "X_train_clinical_pca50 = X_train_clinical_pca50.drop(columns=[\"patient_id\"])\n",
        "X_test_clinical_pca50 = X_test_clinical_pca50.drop(columns=[\"patient_id\"])\n",
        "\n",
        "X_train_clinical_pca10 = X_train_clinical_pca10.drop(columns=[\"patient_id\"])\n",
        "X_test_clinical_pca10 = X_test_clinical_pca10.drop(columns=[\"patient_id\"])\n",
        "\n",
        "# PCAs without clinical data \n",
        "# convert the row index back to the first column\n",
        "X_train.reset_index(level=0, inplace=True)\n",
        "X_test.reset_index(level=0, inplace=True) \n",
        "\n",
        "# Create a patient list of ids for those in the training and test sets - we will use this seperate a pca only dataset\n",
        "X_train_patients = X_train.patient_id\n",
        "X_test_patients = X_test.patient_id\n",
        "\n",
        "# Merge with the pca data\n",
        "X_train_pca50 = pd.merge(X_train_patients, pca50, how=\"left\", on=\"patient_id\")\n",
        "X_test_pca50 = pd.merge(X_test_patients, pca50, how=\"left\", on=\"patient_id\")\n",
        "\n",
        "X_train_pca10 = pd.merge(X_train_patients, pca10, how=\"left\", on=\"patient_id\")\n",
        "X_test_pca10 = pd.merge(X_test_patients, pca10, how=\"left\", on=\"patient_id\")\n",
        "\n",
        "# Convert patients IDs back to row index\n",
        "X_train_pca50 = X_train_pca50.set_index(X_train_pca50.patient_id)\n",
        "X_test_pca50 = X_test_pca50.set_index(X_test_pca50.patient_id)\n",
        "\n",
        "X_train_pca10 = X_train_pca10.set_index(X_train_pca10.patient_id)\n",
        "X_test_pca10 = X_test_pca10.set_index(X_test_pca10.patient_id)\n",
        "\n",
        "# remove patient id column\n",
        "X_train_pca50 = X_train_pca50.drop(columns=[\"patient_id\"])\n",
        "X_test_pca50 = X_test_pca50.drop(columns=[\"patient_id\"])\n",
        "\n",
        "X_train_pca10 = X_train_pca10.drop(columns=[\"patient_id\"])\n",
        "X_test_pca10 = X_test_pca10.drop(columns=[\"patient_id\"])\n",
        "\n",
        "X_train = X_train.drop(columns=[\"patient_id\"])\n",
        "X_test = X_test.drop(columns=[\"patient_id\"])"
      ],
      "execution_count": 0,
      "outputs": []
    },
    {
      "cell_type": "markdown",
      "metadata": {
        "id": "RaHX5zydw3H2",
        "colab_type": "text"
      },
      "source": [
        "# **Logistic Regression**\n",
        "\n",
        "These steps were followed from the following tutorial:\n",
        "\n",
        "https://www.datacamp.com/community/tutorials/understanding-logistic-regression-python"
      ]
    },
    {
      "cell_type": "markdown",
      "metadata": {
        "colab_type": "text",
        "id": "vwpu6ScZURRm"
      },
      "source": [
        "**50 Principal Components**\n"
      ]
    },
    {
      "cell_type": "markdown",
      "metadata": {
        "colab_type": "text",
        "id": "iS1LifQFURRt"
      },
      "source": [
        "**Define and Run the Model**"
      ]
    },
    {
      "cell_type": "code",
      "metadata": {
        "colab_type": "code",
        "id": "n18Pk7f1URRv",
        "colab": {}
      },
      "source": [
        "# Instantiate the model (using default parameters)\n",
        "logreg = LogisticRegression()\n",
        "\n",
        "# fit the model with data\n",
        "logreg.fit(X_train_pca50, y_train)\n",
        "\n",
        "y_pred = logreg.predict(X_test_pca50)"
      ],
      "execution_count": 0,
      "outputs": []
    },
    {
      "cell_type": "markdown",
      "metadata": {
        "colab_type": "text",
        "id": "n1z7lC-WURR3"
      },
      "source": [
        "**Model Evaluation Using Confusion Matrix**"
      ]
    },
    {
      "cell_type": "code",
      "metadata": {
        "colab_type": "code",
        "id": "dtbEnm69URR7",
        "colab": {}
      },
      "source": [
        "# import the metrics class\n",
        "from sklearn import metrics\n",
        "\n",
        "cnf_matrix = metrics.confusion_matrix(y_test, y_pred)\n",
        "cnf_matrix"
      ],
      "execution_count": 0,
      "outputs": []
    },
    {
      "cell_type": "markdown",
      "metadata": {
        "colab_type": "text",
        "id": "uFQoe_WKURSA"
      },
      "source": [
        "The confusion matrix generated above is in the form of an array. Diagnosal values represent accurate predictions, while non-diagonal elements are inaccurate predictions. The diagonal starting with the top left to the bottom right hand corner are actual predidictions, while the bottom left corner to the top right corner are incorrect predictions. "
      ]
    },
    {
      "cell_type": "code",
      "metadata": {
        "colab_type": "code",
        "id": "iA9ImG6dURSB",
        "colab": {}
      },
      "source": [
        "print(\"Accuracy:\",round(metrics.accuracy_score(y_test, y_pred),3))\n",
        "print(\"Recall:\",round(metrics.recall_score(y_test, y_pred),3))\n",
        "print(\"Precision:\",round(metrics.precision_score(y_test, y_pred),3))"
      ],
      "execution_count": 0,
      "outputs": []
    },
    {
      "cell_type": "markdown",
      "metadata": {
        "colab_type": "text",
        "id": "zpQgUH1UURSG"
      },
      "source": [
        "**ROC**\n",
        "\n",
        "The Reciever Operating Characteristic (ROC) curve is a plot of the true positive rate against the false positive rate. It shows the tradeoff between sensitivity and specificity. "
      ]
    },
    {
      "cell_type": "code",
      "metadata": {
        "colab_type": "code",
        "id": "ixaqHxbeURSG",
        "colab": {}
      },
      "source": [
        "y_pred_proba = logreg.predict_proba(X_test_pca50)[::,1]\n",
        "fpr, tpr, _ = metrics.roc_curve(y_test, y_pred_proba)\n",
        "auc = metrics.roc_auc_score(y_test, y_pred_proba)\n",
        "plt.plot(fpr, tpr, label = \"data 1, auc=\"+str(auc))\n",
        "plt.legend(loc=4)\n",
        "plt.show()\n",
        "print('AUC:', round(auc,3))"
      ],
      "execution_count": 0,
      "outputs": []
    },
    {
      "cell_type": "markdown",
      "metadata": {
        "colab_type": "text",
        "id": "dqn3HPuWUyaE"
      },
      "source": [
        "**10 Principal Components**\n"
      ]
    },
    {
      "cell_type": "markdown",
      "metadata": {
        "colab_type": "text",
        "id": "oKMJ0SGAUyaO"
      },
      "source": [
        "**Define and Run the Model**"
      ]
    },
    {
      "cell_type": "code",
      "metadata": {
        "colab_type": "code",
        "id": "rZrAhT47UyaP",
        "colab": {}
      },
      "source": [
        "# Instantiate the model (using default parameters)\n",
        "logreg = LogisticRegression()\n",
        "\n",
        "# fit the model with data\n",
        "logreg.fit(X_train_pca10, y_train)\n",
        "\n",
        "y_pred = logreg.predict(X_test_pca10)"
      ],
      "execution_count": 0,
      "outputs": []
    },
    {
      "cell_type": "markdown",
      "metadata": {
        "colab_type": "text",
        "id": "Wv9xqbq0UyaU"
      },
      "source": [
        "**Model Evaluation Using Confusion Matrix**"
      ]
    },
    {
      "cell_type": "code",
      "metadata": {
        "colab_type": "code",
        "id": "tgBI5aS5UyaV",
        "colab": {}
      },
      "source": [
        "cnf_matrix = metrics.confusion_matrix(y_test, y_pred)\n",
        "cnf_matrix"
      ],
      "execution_count": 0,
      "outputs": []
    },
    {
      "cell_type": "markdown",
      "metadata": {
        "colab_type": "text",
        "id": "caO5G3BBUyaX"
      },
      "source": [
        "The confusion matrix generated above is in the form of an array. Diagnosal values represent accurate predictions, while non-diagonal elements are inaccurate predictions. The diagonal starting with the top left to the bottom right hand corner are actual predidictions, while the bottom left corner to the top right corner are incorrect predictions. "
      ]
    },
    {
      "cell_type": "code",
      "metadata": {
        "colab_type": "code",
        "id": "Esb1P76uUyaY",
        "colab": {}
      },
      "source": [
        "print(\"Accuracy:\",round(metrics.accuracy_score(y_test, y_pred),3))\n",
        "print(\"Recall:\",round(metrics.recall_score(y_test, y_pred),3))\n",
        "print(\"Precision:\",round(metrics.precision_score(y_test, y_pred),3))"
      ],
      "execution_count": 0,
      "outputs": []
    },
    {
      "cell_type": "markdown",
      "metadata": {
        "colab_type": "text",
        "id": "Kv8TqEL1Uyaa"
      },
      "source": [
        "**ROC**\n",
        "\n",
        "The Reciever Operating Characteristic (ROC) curve is a plot of the true positive rate against the false positive rate. It shows the tradeoff between sensitivity and specificity. "
      ]
    },
    {
      "cell_type": "code",
      "metadata": {
        "colab_type": "code",
        "id": "zX1J6K9aUyab",
        "colab": {}
      },
      "source": [
        "y_pred_proba = logreg.predict_proba(X_test_pca10)[::,1]\n",
        "fpr, tpr, _ = metrics.roc_curve(y_test, y_pred_proba)\n",
        "auc = metrics.roc_auc_score(y_test, y_pred_proba)\n",
        "plt.plot(fpr, tpr, label = \"data 1, auc=\"+str(auc))\n",
        "plt.legend(loc=4)\n",
        "plt.show()\n",
        "print('AUC:', round(auc,3))"
      ],
      "execution_count": 0,
      "outputs": []
    },
    {
      "cell_type": "markdown",
      "metadata": {
        "id": "R45RrYnfyDva",
        "colab_type": "text"
      },
      "source": [
        "**Clinical Data**\n"
      ]
    },
    {
      "cell_type": "markdown",
      "metadata": {
        "id": "0BdqKQJ2x0em",
        "colab_type": "text"
      },
      "source": [
        "**Define and Run the Model**"
      ]
    },
    {
      "cell_type": "code",
      "metadata": {
        "id": "3u4X6MFSxzox",
        "colab_type": "code",
        "colab": {}
      },
      "source": [
        "# Instantiate the model (using default parameters)\n",
        "logreg = LogisticRegression()\n",
        "\n",
        "# fit the model with data\n",
        "logreg.fit(X_train, y_train)\n",
        "\n",
        "y_pred = logreg.predict(X_test)"
      ],
      "execution_count": 0,
      "outputs": []
    },
    {
      "cell_type": "markdown",
      "metadata": {
        "id": "xRDRV7DIyGL5",
        "colab_type": "text"
      },
      "source": [
        "**Model Evaluation Using Confusion Matrix**"
      ]
    },
    {
      "cell_type": "code",
      "metadata": {
        "id": "YyJQT7fHyLeP",
        "colab_type": "code",
        "colab": {}
      },
      "source": [
        "cnf_matrix = metrics.confusion_matrix(y_test, y_pred)\n",
        "cnf_matrix"
      ],
      "execution_count": 0,
      "outputs": []
    },
    {
      "cell_type": "markdown",
      "metadata": {
        "id": "3CRpg41RySQT",
        "colab_type": "text"
      },
      "source": [
        "The confusion matrix generated above is in the form of an array. Diagnosal values represent accurate predictions, while non-diagonal elements are inaccurate predictions. The diagonal starting with the top left to the bottom right hand corner are actual predidictions, while the bottom left corner to the top right corner are incorrect predictions. "
      ]
    },
    {
      "cell_type": "code",
      "metadata": {
        "id": "O2BvUFrAy04x",
        "colab_type": "code",
        "colab": {}
      },
      "source": [
        "print(\"Accuracy:\",round(metrics.accuracy_score(y_test, y_pred),3))\n",
        "print(\"Recall:\",round(metrics.recall_score(y_test, y_pred),3))\n",
        "print(\"Precision:\",round(metrics.precision_score(y_test, y_pred),3))"
      ],
      "execution_count": 0,
      "outputs": []
    },
    {
      "cell_type": "markdown",
      "metadata": {
        "id": "oAZw8J4mzxsD",
        "colab_type": "text"
      },
      "source": [
        "**ROC**\n",
        "\n",
        "The Reciever Operating Characteristic (ROC) curve is a plot of the true positive rate against the false positive rate. It shows the tradeoff between sensitivity and specificity. "
      ]
    },
    {
      "cell_type": "code",
      "metadata": {
        "id": "y11_Tmpu39qG",
        "colab_type": "code",
        "colab": {}
      },
      "source": [
        "y_pred_proba = logreg.predict_proba(X_test)[::,1]\n",
        "fpr, tpr, _ = metrics.roc_curve(y_test, y_pred_proba)\n",
        "auc = metrics.roc_auc_score(y_test, y_pred_proba)\n",
        "plt.plot(fpr, tpr, label = \"data 1, auc=\"+str(auc))\n",
        "plt.legend(loc=4)\n",
        "plt.show()\n",
        "print('AUC:', round(auc,3))"
      ],
      "execution_count": 0,
      "outputs": []
    },
    {
      "cell_type": "markdown",
      "metadata": {
        "colab_type": "text",
        "id": "7FHRMqAOBoKq"
      },
      "source": [
        "**Clinical Data + 50 Prinicipal Components**\n"
      ]
    },
    {
      "cell_type": "markdown",
      "metadata": {
        "colab_type": "text",
        "id": "99N0pjO2BoK2"
      },
      "source": [
        "**Define and Run the Model**"
      ]
    },
    {
      "cell_type": "code",
      "metadata": {
        "colab_type": "code",
        "id": "s4Op2CqIBoK4",
        "colab": {}
      },
      "source": [
        "# Instantiate the model (using default parameters)\n",
        "logreg = LogisticRegression()\n",
        "\n",
        "# fit the model with data\n",
        "logreg.fit(X_train_clinical_pca50, y_train)\n",
        "\n",
        "y_pred = logreg.predict(X_test_clinical_pca50)"
      ],
      "execution_count": 0,
      "outputs": []
    },
    {
      "cell_type": "markdown",
      "metadata": {
        "colab_type": "text",
        "id": "7VpYDQoDBoK-"
      },
      "source": [
        "**Model Evaluation Using Confusion Matrix**"
      ]
    },
    {
      "cell_type": "code",
      "metadata": {
        "colab_type": "code",
        "id": "lvRw6d0IBoK_",
        "colab": {}
      },
      "source": [
        "cnf_matrix = metrics.confusion_matrix(y_test, y_pred)\n",
        "cnf_matrix"
      ],
      "execution_count": 0,
      "outputs": []
    },
    {
      "cell_type": "markdown",
      "metadata": {
        "colab_type": "text",
        "id": "FGbkL07YBoLG"
      },
      "source": [
        "The confusion matrix generated above is in the form of an array. Diagnosal values represent accurate predictions, while non-diagonal elements are inaccurate predictions. The diagonal starting with the top left to the bottom right hand corner are actual predidictions, while the bottom left corner to the top right corner are incorrect predictions. "
      ]
    },
    {
      "cell_type": "code",
      "metadata": {
        "colab_type": "code",
        "id": "m75-9of-BoLH",
        "colab": {}
      },
      "source": [
        "print(\"Accuracy:\",round(metrics.accuracy_score(y_test, y_pred),3))\n",
        "print(\"Recall:\",round(metrics.recall_score(y_test, y_pred),3))\n",
        "print(\"Precision:\",round(metrics.precision_score(y_test, y_pred),3))"
      ],
      "execution_count": 0,
      "outputs": []
    },
    {
      "cell_type": "markdown",
      "metadata": {
        "colab_type": "text",
        "id": "y7qzPCaQBoLM"
      },
      "source": [
        "**ROC**\n",
        "\n",
        "The Reciever Operating Characteristic (ROC) curve is a plot of the true positive rate against the false positive rate. It shows the tradeoff between sensitivity and specificity. "
      ]
    },
    {
      "cell_type": "code",
      "metadata": {
        "colab_type": "code",
        "id": "rljn3PnYBoLN",
        "colab": {}
      },
      "source": [
        "y_pred_proba = logreg.predict_proba(X_test_clinical_pca50)[::,1]\n",
        "fpr, tpr, _ = metrics.roc_curve(y_test, y_pred_proba)\n",
        "auc = metrics.roc_auc_score(y_test, y_pred_proba)\n",
        "plt.plot(fpr, tpr, label = \"data 1, auc=\"+str(auc))\n",
        "plt.legend(loc=4)\n",
        "plt.show()\n",
        "print('AUC:', round(auc,3))"
      ],
      "execution_count": 0,
      "outputs": []
    },
    {
      "cell_type": "markdown",
      "metadata": {
        "colab_type": "text",
        "id": "9nkSOzxvRQXx"
      },
      "source": [
        "**Clinical Data + 10 Prinicipal Components**\n"
      ]
    },
    {
      "cell_type": "markdown",
      "metadata": {
        "colab_type": "text",
        "id": "Yp3stwjLB6CG"
      },
      "source": [
        "**Define and Run the Model**"
      ]
    },
    {
      "cell_type": "code",
      "metadata": {
        "colab_type": "code",
        "id": "R9ZTshzgB6CJ",
        "colab": {}
      },
      "source": [
        "# Instantiate the model (using default parameters)\n",
        "logreg = LogisticRegression()\n",
        "\n",
        "# fit the model with data\n",
        "logreg.fit(X_train_clinical_pca10, y_train)\n",
        "\n",
        "y_pred = logreg.predict(X_test_clinical_pca10)"
      ],
      "execution_count": 0,
      "outputs": []
    },
    {
      "cell_type": "markdown",
      "metadata": {
        "colab_type": "text",
        "id": "p53M0K2tB6CO"
      },
      "source": [
        "**Model Evaluation Using Confusion Matrix**"
      ]
    },
    {
      "cell_type": "code",
      "metadata": {
        "colab_type": "code",
        "id": "8FZz2WjwB6CP",
        "colab": {}
      },
      "source": [
        "cnf_matrix = metrics.confusion_matrix(y_test, y_pred)\n",
        "cnf_matrix"
      ],
      "execution_count": 0,
      "outputs": []
    },
    {
      "cell_type": "markdown",
      "metadata": {
        "colab_type": "text",
        "id": "pu1cUoCcB6CT"
      },
      "source": [
        "The confusion matrix generated above is in the form of an array. Diagnosal values represent accurate predictions, while non-diagonal elements are inaccurate predictions. The diagonal starting with the top left to the bottom right hand corner are actual predidictions, while the bottom left corner to the top right corner are incorrect predictions. "
      ]
    },
    {
      "cell_type": "code",
      "metadata": {
        "colab_type": "code",
        "id": "0bjPNzPsB6CT",
        "colab": {}
      },
      "source": [
        "print(\"Accuracy:\",round(metrics.accuracy_score(y_test, y_pred),3))\n",
        "print(\"Recall:\",round(metrics.recall_score(y_test, y_pred),3))\n",
        "print(\"Precision:\",round(metrics.precision_score(y_test, y_pred),3))"
      ],
      "execution_count": 0,
      "outputs": []
    },
    {
      "cell_type": "markdown",
      "metadata": {
        "colab_type": "text",
        "id": "TKMyJSqbB6CW"
      },
      "source": [
        "**ROC**\n",
        "\n",
        "The Reciever Operating Characteristic (ROC) curve is a plot of the true positive rate against the false positive rate. It shows the tradeoff between sensitivity and specificity. "
      ]
    },
    {
      "cell_type": "code",
      "metadata": {
        "colab_type": "code",
        "id": "XYLmXsKWB6CX",
        "colab": {}
      },
      "source": [
        "y_pred_proba = logreg.predict_proba(X_test_clinical_pca10)[::,1]\n",
        "fpr, tpr, _ = metrics.roc_curve(y_test, y_pred_proba)\n",
        "auc = metrics.roc_auc_score(y_test, y_pred_proba)\n",
        "plt.plot(fpr, tpr, label = \"data 1, auc=\"+str(auc))\n",
        "plt.legend(loc=4)\n",
        "plt.show()\n",
        "print('AUC:', round(auc,3))"
      ],
      "execution_count": 0,
      "outputs": []
    },
    {
      "cell_type": "code",
      "metadata": {
        "colab_type": "code",
        "id": "SoRPmkt6CJ4t",
        "colab": {}
      },
      "source": [
        "print(\"Accuracy:\",round(metrics.accuracy_score(y_test, y_pred),3))\n",
        "print(\"Recall:\",round(metrics.recall_score(y_test, y_pred),3))\n",
        "print(\"Precision:\",round(metrics.precision_score(y_test, y_pred),3))"
      ],
      "execution_count": 0,
      "outputs": []
    },
    {
      "cell_type": "markdown",
      "metadata": {
        "id": "5M5jCMHP8COG",
        "colab_type": "text"
      },
      "source": [
        "# **Random Forest Classification**"
      ]
    },
    {
      "cell_type": "code",
      "metadata": {
        "id": "2a0putDWXD7r",
        "colab_type": "code",
        "colab": {}
      },
      "source": [
        "# import the metrics class sklearn\n",
        "from sklearn.ensemble import RandomForestClassifier\n",
        "from sklearn.feature_selection import SelectFromModel # to identify features\n",
        "from sklearn.model_selection import cross_val_score\n",
        "from sklearn.metrics import classification_report, confusion_matrix, accuracy_score\n",
        "from sklearn.metrics import roc_auc_score"
      ],
      "execution_count": 0,
      "outputs": []
    },
    {
      "cell_type": "markdown",
      "metadata": {
        "colab_type": "text",
        "id": "a-cJ4EcNY9w7"
      },
      "source": [
        "**10 Principal Components**"
      ]
    },
    {
      "cell_type": "markdown",
      "metadata": {
        "colab_type": "text",
        "id": "AH09ysGdY9xB"
      },
      "source": [
        "**Train the Model**"
      ]
    },
    {
      "cell_type": "code",
      "metadata": {
        "colab_type": "code",
        "id": "gjzyrAfOY9xE",
        "colab": {}
      },
      "source": [
        "# Instantiate model with 1000 decision trees - results below reported w/ random state = 42\n",
        "rf = RandomForestClassifier(n_estimators = 1000, random_state = 42)\n",
        "\n",
        "# Train the model on training data\n",
        "rf.fit(X_train_pca10, y_train)"
      ],
      "execution_count": 0,
      "outputs": []
    },
    {
      "cell_type": "markdown",
      "metadata": {
        "colab_type": "text",
        "id": "Rn7OtBKIY9xK"
      },
      "source": [
        "**Select Important Features**\n",
        "\n",
        "Identify which Principal Components contributed most to the model"
      ]
    },
    {
      "cell_type": "code",
      "metadata": {
        "colab_type": "code",
        "id": "zP2C8umXY9xL",
        "colab": {}
      },
      "source": [
        "# First feature selection test\n",
        "sel = SelectFromModel(RandomForestClassifier(n_estimators = 100))\n",
        "sel.fit(X_train_pca10, y_train)\n",
        "sel.get_support()\n",
        "selected_feat= X_train_pca10.columns[(sel.get_support())]\n",
        "print(len(selected_feat)) \n",
        "print(selected_feat)\n",
        "\n",
        "## histogram of the top 10 pc by importance\n",
        "# create a list of features/column names\n",
        "features = list(X_train_pca10.columns.values) \n",
        "\n",
        "feat_importances = pd.Series(rf.feature_importances_, index=X_train_pca10.columns)  \n",
        "feat_importances.nlargest(10).plot(kind='barh')"
      ],
      "execution_count": 0,
      "outputs": []
    },
    {
      "cell_type": "markdown",
      "metadata": {
        "colab_type": "text",
        "id": "CNeSFBtoY9xN"
      },
      "source": [
        "**Make Predictions on the Test Set**"
      ]
    },
    {
      "cell_type": "code",
      "metadata": {
        "colab_type": "code",
        "id": "fH6YI7VcY9xO",
        "colab": {}
      },
      "source": [
        "# Use the forest's predict method on the test data\n",
        "predictions = rf.predict(X_test_pca10)\n",
        "# Probabilities for each class\n",
        "rf_probs = rf.predict_proba(X_test_pca10)[:, 1]\n",
        "\n",
        "# Calculate the absolute errors\n",
        "errors = abs(predictions - y_test)\n",
        "# Print out the mean absolute error (mae)\n",
        "print('Mean Absolute Error:', round(np.mean(errors), 2))"
      ],
      "execution_count": 0,
      "outputs": []
    },
    {
      "cell_type": "markdown",
      "metadata": {
        "colab_type": "text",
        "id": "5KVPqZ9eY9xS"
      },
      "source": [
        "**Evaluating the Performance**\n",
        "\n",
        "For Classification Problems the metrics used to evaluate an algorithm are accuracy, confusion matrix, precision, recall, and F1 values.\n",
        "\n",
        "We can also perform cross-fold validation to have a better understanding of the results\n",
        "\n",
        "Reference: https://medium.com/@hjhuney/implementing-a-random-forest-classification-model-in-python-583891c99652 "
      ]
    },
    {
      "cell_type": "markdown",
      "metadata": {
        "colab_type": "text",
        "id": "F5revkhoY9xT"
      },
      "source": [
        "**ROC on the Full Data**\n",
        "\n",
        "\n",
        "We make class predictions (predict) as well as predicted probabilities (predict_proba) to calculate the ROC AUC. Once we have the testing predictions, we can calculate the ROC AUC. https://towardsdatascience.com/an-implementation-and-explanation-of-the-random-forest-in-python-77bf308a9b76"
      ]
    },
    {
      "cell_type": "code",
      "metadata": {
        "colab_type": "code",
        "id": "WMEPOGfpY9xT",
        "colab": {}
      },
      "source": [
        "# Calculate ROC AUC\n",
        "roc_value = roc_auc_score(y_test, rf_probs) \n",
        "roc_value"
      ],
      "execution_count": 0,
      "outputs": []
    },
    {
      "cell_type": "code",
      "metadata": {
        "colab_type": "code",
        "id": "yDOqgxcZY9xW",
        "colab": {}
      },
      "source": [
        "# Probabilities for each class\n",
        "# Note from scikit learn: re fpr and tpr: \"Since the thresholds are sorted from low to high values, they are reversed upon returning them to ensure they correspond to both fpr and tpr, which are sorted in reversed order during their calculation.\"\n",
        "rf_probs = rf.predict_proba(X_test_pca10)[:, 1]\n",
        "fpr, tpr, _ = metrics.roc_curve(y_test, rf_probs)\n",
        "auc = metrics.roc_auc_score(y_test, rf_probs)\n",
        "auc = round(auc, 4)\n",
        "plt.plot(fpr, tpr, label=\"date 1, auc=\"+str(auc))\n",
        "plt.legend(loc=4)\n",
        "plt.show()"
      ],
      "execution_count": 0,
      "outputs": []
    },
    {
      "cell_type": "markdown",
      "metadata": {
        "colab_type": "text",
        "id": "OL5zl1YKY9xY"
      },
      "source": [
        "Below, we also can examine the confusion matrix, the classification report containing precision, recall, f1-score, and support, All AUC scores, and the mean AUC score\n",
        "\n",
        "The **confusion matrix** is useful for giving false positives and false negatives\n",
        "\n",
        "The **ROC Curve** plots out the true positive rate vs the false positive rate at various thresholds\n",
        "\n",
        "The **ROC AUC Scoring** used in the cross-validation model shows the area under the ROC curve"
      ]
    },
    {
      "cell_type": "code",
      "metadata": {
        "colab_type": "code",
        "id": "dcMjeh_OY9xZ",
        "colab": {}
      },
      "source": [
        "print(\"=== Confusion Matrix ===\")\n",
        "print(confusion_matrix(y_test, predictions))\n",
        "print('\\n')\n",
        "print(\"=== Classification Report ===\")\n",
        "print(classification_report(y_test, predictions))\n",
        "print('\\n')\n",
        "print(\"=== Accuracy Score ===\")\n",
        "print(\"Accuracy:\", accuracy_score(y_test, predictions))"
      ],
      "execution_count": 0,
      "outputs": []
    },
    {
      "cell_type": "markdown",
      "metadata": {
        "id": "4RtJhCWGVEu5",
        "colab_type": "text"
      },
      "source": [
        "**50 Principal Components**"
      ]
    },
    {
      "cell_type": "markdown",
      "metadata": {
        "id": "JpN91JbL9JOA",
        "colab_type": "text"
      },
      "source": [
        "**Train the Model**"
      ]
    },
    {
      "cell_type": "code",
      "metadata": {
        "id": "_dsBsgBv9LWy",
        "colab_type": "code",
        "colab": {}
      },
      "source": [
        "# Instantiate model with 1000 decision trees - results below reported w/ random state = 42\n",
        "rf = RandomForestClassifier(n_estimators = 1000, random_state = 42)\n",
        "\n",
        "# Train the model on training data\n",
        "rf.fit(X_train_pca50, y_train)"
      ],
      "execution_count": 0,
      "outputs": []
    },
    {
      "cell_type": "markdown",
      "metadata": {
        "id": "bZbwAmNQ-XdF",
        "colab_type": "text"
      },
      "source": [
        "**Select Important Features**\n",
        "\n",
        "Identify which Principal Components contributed most to the model"
      ]
    },
    {
      "cell_type": "code",
      "metadata": {
        "id": "6_MdbNeW-bHO",
        "colab_type": "code",
        "colab": {}
      },
      "source": [
        "# First feature selection test\n",
        "sel = SelectFromModel(RandomForestClassifier(n_estimators = 100))\n",
        "sel.fit(X_train_pca50, y_train)\n",
        "sel.get_support()\n",
        "selected_feat= X_train_pca50.columns[(sel.get_support())]\n",
        "print(len(selected_feat)) \n",
        "print(selected_feat)\n",
        "\n",
        "## histogram of the top 10 pc by importance\n",
        "# create a list of features/column names\n",
        "features = list(X_train_pca50.columns.values) \n",
        "\n",
        "feat_importances = pd.Series(rf.feature_importances_, index=X_train_pca50.columns)  \n",
        "feat_importances.nlargest(10).plot(kind='barh')"
      ],
      "execution_count": 0,
      "outputs": []
    },
    {
      "cell_type": "markdown",
      "metadata": {
        "id": "FENSsY5l9aDT",
        "colab_type": "text"
      },
      "source": [
        "**Make Predictions on the Test Set**"
      ]
    },
    {
      "cell_type": "code",
      "metadata": {
        "id": "7yKF_xdj9dbD",
        "colab_type": "code",
        "colab": {}
      },
      "source": [
        "# Use the forest's predict method on the test data\n",
        "predictions = rf.predict(X_test_pca50)\n",
        "# Probabilities for each class\n",
        "rf_probs = rf.predict_proba(X_test_pca50)[:, 1]\n",
        "\n",
        "# Calculate the absolute errors\n",
        "errors = abs(predictions - y_test)\n",
        "# Print out the mean absolute error (mae)\n",
        "print('Mean Absolute Error:', round(np.mean(errors), 2))"
      ],
      "execution_count": 0,
      "outputs": []
    },
    {
      "cell_type": "markdown",
      "metadata": {
        "id": "p5pOirYXDrEn",
        "colab_type": "text"
      },
      "source": [
        "**Evaluating the Performance**\n",
        "\n",
        "For Classification Problems the metrics used to evaluate an algorithm are accuracy, confusion matrix, precision, recall, and F1 values.\n",
        "\n",
        "We can also perform cross-fold validation to have a better understanding of the results\n",
        "\n",
        "Reference: https://medium.com/@hjhuney/implementing-a-random-forest-classification-model-in-python-583891c99652 "
      ]
    },
    {
      "cell_type": "markdown",
      "metadata": {
        "id": "Mu4eohUxFVaA",
        "colab_type": "text"
      },
      "source": [
        "**ROC on the Full Data**\n",
        "\n",
        "\n",
        "We make class predictions (predict) as well as predicted probabilities (predict_proba) to calculate the ROC AUC. Once we have the testing predictions, we can calculate the ROC AUC. https://towardsdatascience.com/an-implementation-and-explanation-of-the-random-forest-in-python-77bf308a9b76"
      ]
    },
    {
      "cell_type": "code",
      "metadata": {
        "id": "WrO0-IuE-o0E",
        "colab_type": "code",
        "colab": {}
      },
      "source": [
        "# Calculate ROC AUC\n",
        "roc_value = roc_auc_score(y_test, rf_probs) \n",
        "roc_value"
      ],
      "execution_count": 0,
      "outputs": []
    },
    {
      "cell_type": "code",
      "metadata": {
        "id": "fyKejE-yF88f",
        "colab_type": "code",
        "colab": {}
      },
      "source": [
        "# Probabilities for each class\n",
        "# Note from scikit learn: re fpr and tpr: \"Since the thresholds are sorted from low to high values, they are reversed upon returning them to ensure they correspond to both fpr and tpr, which are sorted in reversed order during their calculation.\"\n",
        "rf_probs = rf.predict_proba(X_test_pca50)[:, 1]\n",
        "fpr, tpr, _ = metrics.roc_curve(y_test, rf_probs)\n",
        "auc = metrics.roc_auc_score(y_test, rf_probs)\n",
        "auc = round(auc, 4)\n",
        "plt.plot(fpr, tpr, label=\"date 1, auc=\"+str(auc))\n",
        "plt.legend(loc=4)\n",
        "plt.show()"
      ],
      "execution_count": 0,
      "outputs": []
    },
    {
      "cell_type": "markdown",
      "metadata": {
        "id": "YEonYh2WEhkU",
        "colab_type": "text"
      },
      "source": [
        "Below, we also can examine the confusion matrix, the classification report containing precision, recall, f1-score, and support, All AUC scores, and the mean AUC score\n",
        "\n",
        "The **confusion matrix** is useful for giving false positives and false negatives\n",
        "\n",
        "The **ROC Curve** plots out the true positive rate vs the false positive rate at various thresholds\n",
        "\n",
        "The **ROC AUC Scoring** used in the cross-validation model shows the area under the ROC curve"
      ]
    },
    {
      "cell_type": "code",
      "metadata": {
        "id": "haZRHJqGcv9f",
        "colab_type": "code",
        "colab": {}
      },
      "source": [
        "print(\"=== Confusion Matrix ===\")\n",
        "print(confusion_matrix(y_test, predictions))\n",
        "print('\\n')\n",
        "print(\"=== Classification Report ===\")\n",
        "print(classification_report(y_test, predictions))\n",
        "print('\\n')\n",
        "print(\"=== Accuracy Score ===\")\n",
        "print(\"Accuracy:\", accuracy_score(y_test, predictions))"
      ],
      "execution_count": 0,
      "outputs": []
    },
    {
      "cell_type": "markdown",
      "metadata": {
        "colab_type": "text",
        "id": "8LCddO7caqFc"
      },
      "source": [
        "**Clinical Data**"
      ]
    },
    {
      "cell_type": "markdown",
      "metadata": {
        "colab_type": "text",
        "id": "yVI9ZK6NaqFl"
      },
      "source": [
        "**Train the Model**"
      ]
    },
    {
      "cell_type": "code",
      "metadata": {
        "colab_type": "code",
        "id": "BgLlCNGZaqFn",
        "colab": {}
      },
      "source": [
        "# Instantiate model with 1000 decision trees - results below reported w/ random state = 42\n",
        "rf = RandomForestClassifier(n_estimators = 1000, random_state = 42)\n",
        "\n",
        "# Train the model on training data\n",
        "rf.fit(X_train, y_train)"
      ],
      "execution_count": 0,
      "outputs": []
    },
    {
      "cell_type": "markdown",
      "metadata": {
        "colab_type": "text",
        "id": "ClPP7e7naqFv"
      },
      "source": [
        "**Select Important Features**\n",
        "\n",
        "Identify which Principal Components contributed most to the model"
      ]
    },
    {
      "cell_type": "code",
      "metadata": {
        "colab_type": "code",
        "id": "rkIwQmVnaqFx",
        "colab": {}
      },
      "source": [
        "# First feature selection test\n",
        "sel = SelectFromModel(RandomForestClassifier(n_estimators = 100))\n",
        "sel.fit(X_train, y_train)\n",
        "sel.get_support()\n",
        "selected_feat= X_train.columns[(sel.get_support())]\n",
        "print(len(selected_feat)) \n",
        "print(selected_feat)\n",
        "\n",
        "## histogram of the top 10 pc by importance\n",
        "# create a list of features/column names\n",
        "features = list(X_train.columns.values) \n",
        "\n",
        "feat_importances = pd.Series(rf.feature_importances_, index=X_train.columns)  \n",
        "feat_importances.nlargest(10).plot(kind='barh')"
      ],
      "execution_count": 0,
      "outputs": []
    },
    {
      "cell_type": "markdown",
      "metadata": {
        "colab_type": "text",
        "id": "kHqz7z0caqF2"
      },
      "source": [
        "**Make Predictions on the Test Set**"
      ]
    },
    {
      "cell_type": "code",
      "metadata": {
        "colab_type": "code",
        "id": "pyAAjtX7aqF3",
        "colab": {}
      },
      "source": [
        "# Use the forest's predict method on the test data\n",
        "predictions = rf.predict(X_test)\n",
        "# Probabilities for each class\n",
        "rf_probs = rf.predict_proba(X_test)[:, 1]\n",
        "\n",
        "# Calculate the absolute errors\n",
        "errors = abs(predictions - y_test)\n",
        "# Print out the mean absolute error (mae)\n",
        "print('Mean Absolute Error:', round(np.mean(errors), 2))"
      ],
      "execution_count": 0,
      "outputs": []
    },
    {
      "cell_type": "markdown",
      "metadata": {
        "colab_type": "text",
        "id": "CtC0sUPJaqF7"
      },
      "source": [
        "**Evaluating the Performance**\n",
        "\n",
        "For Classification Problems the metrics used to evaluate an algorithm are accuracy, confusion matrix, precision, recall, and F1 values.\n",
        "\n",
        "We can also perform cross-fold validation to have a better understanding of the results\n",
        "\n",
        "Reference: https://medium.com/@hjhuney/implementing-a-random-forest-classification-model-in-python-583891c99652 "
      ]
    },
    {
      "cell_type": "markdown",
      "metadata": {
        "colab_type": "text",
        "id": "1TwhkBiOaqF8"
      },
      "source": [
        "**ROC on the Full Data**\n",
        "\n",
        "\n",
        "We make class predictions (predict) as well as predicted probabilities (predict_proba) to calculate the ROC AUC. Once we have the testing predictions, we can calculate the ROC AUC. https://towardsdatascience.com/an-implementation-and-explanation-of-the-random-forest-in-python-77bf308a9b76"
      ]
    },
    {
      "cell_type": "code",
      "metadata": {
        "colab_type": "code",
        "id": "rh9MeufqaqF8",
        "colab": {}
      },
      "source": [
        "# Calculate ROC AUC\n",
        "roc_value = roc_auc_score(y_test, rf_probs) \n",
        "roc_value"
      ],
      "execution_count": 0,
      "outputs": []
    },
    {
      "cell_type": "code",
      "metadata": {
        "colab_type": "code",
        "id": "Hkciwi2yaqF_",
        "colab": {}
      },
      "source": [
        "# Probabilities for each class\n",
        "# Note from scikit learn: re fpr and tpr: \"Since the thresholds are sorted from low to high values, they are reversed upon returning them to ensure they correspond to both fpr and tpr, which are sorted in reversed order during their calculation.\"\n",
        "rf_probs = rf.predict_proba(X_test)[:, 1]\n",
        "fpr, tpr, _ = metrics.roc_curve(y_test, rf_probs)\n",
        "auc = metrics.roc_auc_score(y_test, rf_probs)\n",
        "auc = round(auc, 4)\n",
        "plt.plot(fpr, tpr, label=\"date 1, auc=\"+str(auc))\n",
        "plt.legend(loc=4)\n",
        "plt.show()"
      ],
      "execution_count": 0,
      "outputs": []
    },
    {
      "cell_type": "markdown",
      "metadata": {
        "colab_type": "text",
        "id": "8ayl1Ze1aqGB"
      },
      "source": [
        "Below, we also can examine the confusion matrix, the classification report containing precision, recall, f1-score, and support, All AUC scores, and the mean AUC score\n",
        "\n",
        "The **confusion matrix** is useful for giving false positives and false negatives\n",
        "\n",
        "The **ROC Curve** plots out the true positive rate vs the false positive rate at various thresholds\n",
        "\n",
        "The **ROC AUC Scoring** used in the cross-validation model shows the area under the ROC curve"
      ]
    },
    {
      "cell_type": "code",
      "metadata": {
        "colab_type": "code",
        "id": "ik8Kyd3daqGC",
        "colab": {}
      },
      "source": [
        "print(\"=== Confusion Matrix ===\")\n",
        "print(confusion_matrix(y_test, predictions))\n",
        "print('\\n')\n",
        "print(\"=== Classification Report ===\")\n",
        "print(classification_report(y_test, predictions))\n",
        "print('\\n')\n",
        "print(\"=== Accuracy Score ===\")\n",
        "print(\"Accuracy:\", accuracy_score(y_test, predictions))"
      ],
      "execution_count": 0,
      "outputs": []
    },
    {
      "cell_type": "markdown",
      "metadata": {
        "colab_type": "text",
        "id": "bgZI55STbdcu"
      },
      "source": [
        "**Clinical Data + 10 Prinicipal Components**"
      ]
    },
    {
      "cell_type": "markdown",
      "metadata": {
        "colab_type": "text",
        "id": "A7uem5Hbbdcy"
      },
      "source": [
        "**Train the Model**"
      ]
    },
    {
      "cell_type": "code",
      "metadata": {
        "colab_type": "code",
        "id": "kpHVP1_kbdc0",
        "colab": {}
      },
      "source": [
        "# Instantiate model with 1000 decision trees - results below reported w/ random state = 42\n",
        "rf = RandomForestClassifier(n_estimators = 1000, random_state = 42)\n",
        "\n",
        "# Train the model on training data\n",
        "rf.fit(X_train_clinical_pca10, y_train)"
      ],
      "execution_count": 0,
      "outputs": []
    },
    {
      "cell_type": "markdown",
      "metadata": {
        "colab_type": "text",
        "id": "iUXEKeUpbdc7"
      },
      "source": [
        "**Select Important Features**\n",
        "\n",
        "Identify which Principal Components contributed most to the model"
      ]
    },
    {
      "cell_type": "code",
      "metadata": {
        "colab_type": "code",
        "id": "bkvXPuTgbdc-",
        "colab": {}
      },
      "source": [
        "# First feature selection test\n",
        "sel = SelectFromModel(RandomForestClassifier(n_estimators = 100))\n",
        "sel.fit(X_train_clinical_pca10, y_train)\n",
        "sel.get_support()\n",
        "selected_feat= X_train_clinical_pca10.columns[(sel.get_support())]\n",
        "print(len(selected_feat)) \n",
        "print(selected_feat)\n",
        "\n",
        "## histogram of the top 10 pc by importance\n",
        "# create a list of features/column names\n",
        "features = list(X_train_clinical_pca10.columns.values) \n",
        "\n",
        "feat_importances = pd.Series(rf.feature_importances_, index=X_train_clinical_pca10.columns)  \n",
        "feat_importances.nlargest(10).plot(kind='barh')"
      ],
      "execution_count": 0,
      "outputs": []
    },
    {
      "cell_type": "markdown",
      "metadata": {
        "colab_type": "text",
        "id": "3Ug_NHtabddE"
      },
      "source": [
        "**Make Predictions on the Test Set**"
      ]
    },
    {
      "cell_type": "code",
      "metadata": {
        "colab_type": "code",
        "id": "PwZvRUPWbddG",
        "colab": {}
      },
      "source": [
        "# Use the forest's predict method on the test data\n",
        "predictions = rf.predict(X_test_clinical_pca10)\n",
        "# Probabilities for each class\n",
        "rf_probs = rf.predict_proba(X_test_clinical_pca10)[:, 1]\n",
        "\n",
        "# Calculate the absolute errors\n",
        "errors = abs(predictions - y_test)\n",
        "# Print out the mean absolute error (mae)\n",
        "print('Mean Absolute Error:', round(np.mean(errors), 2))"
      ],
      "execution_count": 0,
      "outputs": []
    },
    {
      "cell_type": "markdown",
      "metadata": {
        "colab_type": "text",
        "id": "lbkaVv6qbddM"
      },
      "source": [
        "**Evaluating the Performance**\n",
        "\n",
        "For Classification Problems the metrics used to evaluate an algorithm are accuracy, confusion matrix, precision, recall, and F1 values.\n",
        "\n",
        "We can also perform cross-fold validation to have a better understanding of the results\n",
        "\n",
        "Reference: https://medium.com/@hjhuney/implementing-a-random-forest-classification-model-in-python-583891c99652 "
      ]
    },
    {
      "cell_type": "markdown",
      "metadata": {
        "colab_type": "text",
        "id": "Joi87sOVbddN"
      },
      "source": [
        "**ROC on the Full Data**\n",
        "\n",
        "\n",
        "We make class predictions (predict) as well as predicted probabilities (predict_proba) to calculate the ROC AUC. Once we have the testing predictions, we can calculate the ROC AUC. https://towardsdatascience.com/an-implementation-and-explanation-of-the-random-forest-in-python-77bf308a9b76"
      ]
    },
    {
      "cell_type": "code",
      "metadata": {
        "colab_type": "code",
        "id": "D0wfMZRnbddO",
        "colab": {}
      },
      "source": [
        "# Calculate ROC AUC\n",
        "roc_value = roc_auc_score(y_test, rf_probs) \n",
        "roc_value"
      ],
      "execution_count": 0,
      "outputs": []
    },
    {
      "cell_type": "code",
      "metadata": {
        "colab_type": "code",
        "id": "cOWGcrexbddQ",
        "colab": {}
      },
      "source": [
        "# Probabilities for each class\n",
        "# Note from scikit learn: re fpr and tpr: \"Since the thresholds are sorted from low to high values, they are reversed upon returning them to ensure they correspond to both fpr and tpr, which are sorted in reversed order during their calculation.\"\n",
        "rf_probs = rf.predict_proba(X_test_clinical_pca10)[:, 1]\n",
        "fpr, tpr, _ = metrics.roc_curve(y_test, rf_probs)\n",
        "auc = metrics.roc_auc_score(y_test, rf_probs)\n",
        "auc = round(auc, 4)\n",
        "plt.plot(fpr, tpr, label=\"date 1, auc=\"+str(auc))\n",
        "plt.legend(loc=4)\n",
        "plt.show()"
      ],
      "execution_count": 0,
      "outputs": []
    },
    {
      "cell_type": "markdown",
      "metadata": {
        "colab_type": "text",
        "id": "ydzXcVunbddT"
      },
      "source": [
        "Below, we also can examine the confusion matrix, the classification report containing precision, recall, f1-score, and support, All AUC scores, and the mean AUC score\n",
        "\n",
        "The **confusion matrix** is useful for giving false positives and false negatives\n",
        "\n",
        "The **ROC Curve** plots out the true positive rate vs the false positive rate at various thresholds\n",
        "\n",
        "The **ROC AUC Scoring** used in the cross-validation model shows the area under the ROC curve"
      ]
    },
    {
      "cell_type": "code",
      "metadata": {
        "colab_type": "code",
        "id": "wFnCQnlRbddT",
        "colab": {}
      },
      "source": [
        "print(\"=== Confusion Matrix ===\")\n",
        "print(confusion_matrix(y_test, predictions))\n",
        "print('\\n')\n",
        "print(\"=== Classification Report ===\")\n",
        "print(classification_report(y_test, predictions))\n",
        "print('\\n')\n",
        "print(\"=== Accuracy Score ===\")\n",
        "print(\"Accuracy:\", accuracy_score(y_test, predictions))"
      ],
      "execution_count": 0,
      "outputs": []
    },
    {
      "cell_type": "markdown",
      "metadata": {
        "colab_type": "text",
        "id": "HFHJ3zurct29"
      },
      "source": [
        "**Clinical Data + 50 Prinicipal Components**"
      ]
    },
    {
      "cell_type": "markdown",
      "metadata": {
        "colab_type": "text",
        "id": "UF3jYgypct3A"
      },
      "source": [
        "**Train the Model**"
      ]
    },
    {
      "cell_type": "code",
      "metadata": {
        "colab_type": "code",
        "id": "sm67V_dCct3D",
        "colab": {
          "base_uri": "https://localhost:8080/",
          "height": 141
        },
        "outputId": "3a7535d3-c33f-4369-fc3c-f80f5c4ebaa2"
      },
      "source": [
        "# Instantiate model with 1000 decision trees - results below reported w/ random state = 42\n",
        "rf = RandomForestClassifier(n_estimators = 1000, random_state = 42)\n",
        "\n",
        "# Train the model on training data\n",
        "rf.fit(X_train_clinical_pca50, y_train)"
      ],
      "execution_count": 101,
      "outputs": [
        {
          "output_type": "execute_result",
          "data": {
            "text/plain": [
              "RandomForestClassifier(bootstrap=True, class_weight=None, criterion='gini',\n",
              "                       max_depth=None, max_features='auto', max_leaf_nodes=None,\n",
              "                       min_impurity_decrease=0.0, min_impurity_split=None,\n",
              "                       min_samples_leaf=1, min_samples_split=2,\n",
              "                       min_weight_fraction_leaf=0.0, n_estimators=1000,\n",
              "                       n_jobs=None, oob_score=False, random_state=42, verbose=0,\n",
              "                       warm_start=False)"
            ]
          },
          "metadata": {
            "tags": []
          },
          "execution_count": 101
        }
      ]
    },
    {
      "cell_type": "markdown",
      "metadata": {
        "colab_type": "text",
        "id": "2j6QJzrjct3J"
      },
      "source": [
        "**Select Important Features**\n",
        "\n",
        "Identify which Principal Components contributed most to the model"
      ]
    },
    {
      "cell_type": "code",
      "metadata": {
        "colab_type": "code",
        "id": "AVvDcd6Oct3M",
        "colab": {
          "base_uri": "https://localhost:8080/",
          "height": 443
        },
        "outputId": "b4d3d547-7bfb-46f0-b21a-fc5bc08ec4be"
      },
      "source": [
        "# First feature selection test\n",
        "sel = SelectFromModel(RandomForestClassifier(n_estimators = 100))\n",
        "sel.fit(X_train_clinical_pca50, y_train)\n",
        "sel.get_support()\n",
        "selected_feat= X_train_clinical_pca50.columns[(sel.get_support())]\n",
        "print(len(selected_feat)) \n",
        "print(selected_feat)\n",
        "\n",
        "## histogram of the top 10 pc by importance\n",
        "# create a list of features/column names\n",
        "features = list(X_train_clinical_pca50.columns.values) \n",
        "\n",
        "feat_importances = pd.Series(rf.feature_importances_, index=X_train_clinical_pca50.columns)  \n",
        "feat_importances.nlargest(10).plot(kind='barh')"
      ],
      "execution_count": 102,
      "outputs": [
        {
          "output_type": "stream",
          "text": [
            "53\n",
            "Index(['lymph_nodes_examined_positive', 'npi', 'age_at_diagnosis', 'pc1',\n",
            "       'pc2', 'pc3', 'pc4', 'pc5', 'pc6', 'pc7', 'pc8', 'pc9', 'pc10', 'pc11',\n",
            "       'pc12', 'pc13', 'pc14', 'pc15', 'pc16', 'pc17', 'pc18', 'pc19', 'pc20',\n",
            "       'pc21', 'pc22', 'pc23', 'pc24', 'pc25', 'pc26', 'pc27', 'pc28', 'pc29',\n",
            "       'pc30', 'pc31', 'pc32', 'pc33', 'pc34', 'pc35', 'pc36', 'pc37', 'pc38',\n",
            "       'pc39', 'pc40', 'pc41', 'pc42', 'pc43', 'pc44', 'pc45', 'pc46', 'pc47',\n",
            "       'pc48', 'pc49', 'pc50'],\n",
            "      dtype='object')\n"
          ],
          "name": "stdout"
        },
        {
          "output_type": "execute_result",
          "data": {
            "text/plain": [
              "<matplotlib.axes._subplots.AxesSubplot at 0x7f88ee6d5588>"
            ]
          },
          "metadata": {
            "tags": []
          },
          "execution_count": 102
        },
        {
          "output_type": "display_data",
          "data": {
            "image/png": "[encoded data removed]",
            "text/plain": [
              "<Figure size 432x288 with 1 Axes>"
            ]
          },
          "metadata": {
            "tags": []
          }
        }
      ]
    },
    {
      "cell_type": "markdown",
      "metadata": {
        "colab_type": "text",
        "id": "GzY5dmhUct3U"
      },
      "source": [
        "**Make Predictions on the Test Set**"
      ]
    },
    {
      "cell_type": "code",
      "metadata": {
        "colab_type": "code",
        "id": "jjCoRemuct3W",
        "colab": {
          "base_uri": "https://localhost:8080/",
          "height": 35
        },
        "outputId": "4888ec9a-df7f-4040-b96e-c1c131adeb70"
      },
      "source": [
        "# Use the forest's predict method on the test data\n",
        "predictions = rf.predict(X_test_clinical_pca50)\n",
        "# Probabilities for each class\n",
        "rf_probs = rf.predict_proba(X_test_clinical_pca50)[:, 1]\n",
        "\n",
        "# Calculate the absolute errors\n",
        "errors = abs(predictions - y_test)\n",
        "# Print out the mean absolute error (mae)\n",
        "print('Mean Absolute Error:', round(np.mean(errors), 2))"
      ],
      "execution_count": 103,
      "outputs": [
        {
          "output_type": "stream",
          "text": [
            "Mean Absolute Error: 0.26\n"
          ],
          "name": "stdout"
        }
      ]
    },
    {
      "cell_type": "markdown",
      "metadata": {
        "colab_type": "text",
        "id": "kzM629v5ct3a"
      },
      "source": [
        "**Evaluating the Performance**\n",
        "\n",
        "For Classification Problems the metrics used to evaluate an algorithm are accuracy, confusion matrix, precision, recall, and F1 values.\n",
        "\n",
        "We can also perform cross-fold validation to have a better understanding of the results\n",
        "\n",
        "Reference: https://medium.com/@hjhuney/implementing-a-random-forest-classification-model-in-python-583891c99652 "
      ]
    },
    {
      "cell_type": "markdown",
      "metadata": {
        "colab_type": "text",
        "id": "7a7as0I1ct3b"
      },
      "source": [
        "**ROC on the Full Data**\n",
        "\n",
        "\n",
        "We make class predictions (predict) as well as predicted probabilities (predict_proba) to calculate the ROC AUC. Once we have the testing predictions, we can calculate the ROC AUC. https://towardsdatascience.com/an-implementation-and-explanation-of-the-random-forest-in-python-77bf308a9b76"
      ]
    },
    {
      "cell_type": "code",
      "metadata": {
        "colab_type": "code",
        "id": "95BDhr5Dct3c",
        "colab": {
          "base_uri": "https://localhost:8080/",
          "height": 35
        },
        "outputId": "4e4ccc55-12aa-408e-9625-643407a78e68"
      },
      "source": [
        "# Calculate ROC AUC\n",
        "roc_value = roc_auc_score(y_test, rf_probs) \n",
        "roc_value"
      ],
      "execution_count": 104,
      "outputs": [
        {
          "output_type": "execute_result",
          "data": {
            "text/plain": [
              "0.6782049573560769"
            ]
          },
          "metadata": {
            "tags": []
          },
          "execution_count": 104
        }
      ]
    },
    {
      "cell_type": "code",
      "metadata": {
        "colab_type": "code",
        "id": "y5vvJI_lct3e",
        "colab": {
          "base_uri": "https://localhost:8080/",
          "height": 265
        },
        "outputId": "adfe1601-41c8-4c48-ef71-854604c6d0a4"
      },
      "source": [
        "# Probabilities for each class\n",
        "# Note from scikit learn: re fpr and tpr: \"Since the thresholds are sorted from low to high values, they are reversed upon returning them to ensure they correspond to both fpr and tpr, which are sorted in reversed order during their calculation.\"\n",
        "rf_probs = rf.predict_proba(X_test_clinical_pca50)[:, 1]\n",
        "fpr, tpr, _ = metrics.roc_curve(y_test, rf_probs)\n",
        "auc = metrics.roc_auc_score(y_test, rf_probs)\n",
        "auc = round(auc, 4)\n",
        "plt.plot(fpr, tpr, label=\"date 1, auc=\"+str(auc))\n",
        "plt.legend(loc=4)\n",
        "plt.show()"
      ],
      "execution_count": 106,
      "outputs": [
        {
          "output_type": "display_data",
          "data": {
            "image/png": "[encoded data removed]",
            "text/plain": [
              "<Figure size 432x288 with 1 Axes>"
            ]
          },
          "metadata": {
            "tags": []
          }
        }
      ]
    },
    {
      "cell_type": "markdown",
      "metadata": {
        "colab_type": "text",
        "id": "e1CqmSJzct3j"
      },
      "source": [
        "Below, we also can examine the confusion matrix, the classification report containing precision, recall, f1-score, and support, All AUC scores, and the mean AUC score\n",
        "\n",
        "The **confusion matrix** is useful for giving false positives and false negatives\n",
        "\n",
        "The **ROC Curve** plots out the true positive rate vs the false positive rate at various thresholds\n",
        "\n",
        "The **ROC AUC Scoring** used in the cross-validation model shows the area under the ROC curve"
      ]
    },
    {
      "cell_type": "code",
      "metadata": {
        "colab_type": "code",
        "id": "KFvlBPrBct3k",
        "colab": {
          "base_uri": "https://localhost:8080/",
          "height": 355
        },
        "outputId": "22e2e3b6-7d06-4ab2-cb18-d7cbf991485f"
      },
      "source": [
        "print(\"=== Confusion Matrix ===\")\n",
        "print(confusion_matrix(y_test, predictions))\n",
        "print('\\n')\n",
        "print(\"=== Classification Report ===\")\n",
        "print(classification_report(y_test, predictions))\n",
        "print('\\n')\n",
        "print(\"=== Accuracy Score ===\")\n",
        "print(\"Accuracy:\", accuracy_score(y_test, predictions))"
      ],
      "execution_count": 107,
      "outputs": [
        {
          "output_type": "stream",
          "text": [
            "=== Confusion Matrix ===\n",
            "[[251  17]\n",
            " [ 83  29]]\n",
            "\n",
            "\n",
            "=== Classification Report ===\n",
            "              precision    recall  f1-score   support\n",
            "\n",
            "         0.0       0.75      0.94      0.83       268\n",
            "         1.0       0.63      0.26      0.37       112\n",
            "\n",
            "    accuracy                           0.74       380\n",
            "   macro avg       0.69      0.60      0.60       380\n",
            "weighted avg       0.72      0.74      0.70       380\n",
            "\n",
            "\n",
            "\n",
            "=== Accuracy Score ===\n",
            "Accuracy: 0.7368421052631579\n"
          ],
          "name": "stdout"
        }
      ]
    }
  ]
}