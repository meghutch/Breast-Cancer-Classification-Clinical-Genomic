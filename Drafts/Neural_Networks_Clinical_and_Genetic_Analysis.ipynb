{
  "nbformat": 4,
  "nbformat_minor": 0,
  "metadata": {
    "colab": {
      "name": "Neural_Networks_Clinical_Gene_Analysis",
      "provenance": [],
      "collapsed_sections": [],
      "include_colab_link": true
    },
    "kernelspec": {
      "name": "python3",
      "display_name": "Python 3"
    }
  },
  "cells": [
    {
      "cell_type": "markdown",
      "metadata": {
        "id": "view-in-github",
        "colab_type": "text"
      },
      "source": [
        "<a href=\"https://colab.research.google.com/github/meghutch/Breast-Cancer-Classification-Clinical-Genomic/blob/master/Neural_Networks_Clinical_and_Genetic_Analysis.ipynb\" target=\"_parent\"><img src=\"https://colab.research.google.com/assets/colab-badge.svg\" alt=\"Open In Colab\"/></a>"
      ]
    },
    {
      "cell_type": "markdown",
      "metadata": {
        "id": "gfhIBpuAWrrO",
        "colab_type": "text"
      },
      "source": [
        "# **Predicting Clinical Outcomes of Breast Cancer Patients**\n",
        "\n",
        "## **Analysis of Clinical Outcomes and Gene Expression**\n",
        "\n",
        "**Author:** Meg Hutch\n",
        "\n",
        "**Date:** December 6, 2019\n",
        "\n",
        "**Objective:** We will examine models using just clinical data and then we will resassess using combined clinical + genomioc data to predict patient surivival greater than 10 years.\n",
        "\n",
        "Unlike the **Neural_Network_Clinical_Outcomes** analysis, this will use the patients in the merged_expression.txt that were processed."
      ]
    },
    {
      "cell_type": "code",
      "metadata": {
        "id": "4Xl-wjp_WmUs",
        "colab_type": "code",
        "colab": {}
      },
      "source": [
        "import pandas as pd\n",
        "import numpy as np\n",
        "import matplotlib\n",
        "import matplotlib.pyplot as plt\n",
        "import matplotlib.colors\n",
        "import seaborn as sns"
      ],
      "execution_count": 0,
      "outputs": []
    },
    {
      "cell_type": "code",
      "metadata": {
        "id": "mamswLh8QkLR",
        "colab_type": "code",
        "outputId": "b3b20e41-85e1-45ee-96cb-fc0fcbe200a6",
        "colab": {
          "base_uri": "https://localhost:8080/",
          "height": 33
        }
      },
      "source": [
        "# Connect Colab to google drive\n",
        "from google.colab import drive\n",
        "drive.mount('/content/drive')"
      ],
      "execution_count": 38,
      "outputs": [
        {
          "output_type": "stream",
          "text": [
            "Drive already mounted at /content/drive; to attempt to forcibly remount, call drive.mount(\"/content/drive\", force_remount=True).\n"
          ],
          "name": "stdout"
        }
      ]
    },
    {
      "cell_type": "code",
      "metadata": {
        "id": "Sds0C37hUMd_",
        "colab_type": "code",
        "colab": {}
      },
      "source": [
        "## Import Data\n",
        "# Clinical Data\n",
        "# Import Data\n",
        "bc_data = pd.read_csv('/content/drive/My Drive/Projects/Breast_Cancer_Classification/Data/data_clinical_patient.csv')\n",
        "\n",
        "# Gene Expression Data \n",
        "gene_data = pd.read_csv('/content/drive/My Drive/Projects/Breast_Cancer_Classification/Data/merged_expression.txt', sep=',')"
      ],
      "execution_count": 0,
      "outputs": []
    },
    {
      "cell_type": "markdown",
      "metadata": {
        "id": "kAKBHKzCa4DH",
        "colab_type": "text"
      },
      "source": [
        "# **Pre-Process Data**\n",
        "\n",
        "**Clinical Data**\n",
        "\n",
        "\n"
      ]
    },
    {
      "cell_type": "markdown",
      "metadata": {
        "id": "P42uFeTBlPX0",
        "colab_type": "text"
      },
      "source": [
        "Rows 0-3 contain definitions of data and data types. We can remove these"
      ]
    },
    {
      "cell_type": "code",
      "metadata": {
        "id": "g_Od_3KdbGQr",
        "colab_type": "code",
        "colab": {}
      },
      "source": [
        "bc_data = bc_data.iloc[4:]"
      ],
      "execution_count": 0,
      "outputs": []
    },
    {
      "cell_type": "markdown",
      "metadata": {
        "id": "prEZQHwscm0B",
        "colab_type": "text"
      },
      "source": [
        "Convert first row to header name"
      ]
    },
    {
      "cell_type": "code",
      "metadata": {
        "id": "ZWaxqLvXbO1T",
        "colab_type": "code",
        "colab": {}
      },
      "source": [
        "# Convert first row to header name\n",
        "bc_data = bc_data.rename(columns=bc_data.iloc[0]).drop(bc_data.index[0])"
      ],
      "execution_count": 0,
      "outputs": []
    },
    {
      "cell_type": "markdown",
      "metadata": {
        "id": "B0yvqaoNcy3I",
        "colab_type": "text"
      },
      "source": [
        "Convert column names to lowercase"
      ]
    },
    {
      "cell_type": "code",
      "metadata": {
        "id": "85VrahjfcP3S",
        "colab_type": "code",
        "colab": {}
      },
      "source": [
        "# Convert column names to lowercase\n",
        "bc_data.columns = map(str.lower, bc_data.columns)"
      ],
      "execution_count": 0,
      "outputs": []
    },
    {
      "cell_type": "markdown",
      "metadata": {
        "colab_type": "text",
        "id": "WiKXth4Kmyck"
      },
      "source": [
        "In the project directions, it says we can treat \"Died of Other Causes\" as living. Thus, change the category title as such."
      ]
    },
    {
      "cell_type": "code",
      "metadata": {
        "colab_type": "code",
        "id": "QwM7BYIJmycq",
        "colab": {}
      },
      "source": [
        "bc_data['vital_status'] = bc_data['vital_status'].replace({'Living': 'Living', 'Died of Disease': 'Died of Disease', 'Died of Other Causes': 'Living'})"
      ],
      "execution_count": 0,
      "outputs": []
    },
    {
      "cell_type": "markdown",
      "metadata": {
        "colab_type": "text",
        "id": "_NkdoqfjmiUU"
      },
      "source": [
        "**One Hot Encoding**\n",
        "\n",
        "Because some categorical features have multiple categories, we need to use one-hot-encoding to represent these varaibles in the dataset. Just creating numeric levels won't always make sense in the case of features like caludin_subtype which are genomic classifications"
      ]
    },
    {
      "cell_type": "code",
      "metadata": {
        "colab_type": "code",
        "id": "LI5MqXipmiUZ",
        "outputId": "2c798110-1764-4d3e-9e73-408546de08d2",
        "colab": {
          "base_uri": "https://localhost:8080/",
          "height": 261
        }
      },
      "source": [
        "# Determine which variables we want to one-hot-encode\n",
        "print('Cellularity:', bc_data['cellularity'].unique())\n",
        "print('Chemotherapy:',bc_data['chemotherapy'].unique())\n",
        "print('Er_ihc:',bc_data['er_ihc'].unique())\n",
        "print('Her2_snp6:',bc_data['her2_snp6'].unique())\n",
        "print('Hormone Therapy:',bc_data['hormone_therapy'].unique())\n",
        "print('Inferred_menopausal_state:',bc_data['inferred_menopausal_state'].unique())\n",
        "print('Interclust:',bc_data['intclust'].unique())\n",
        "print('Claudin_Subtype:',bc_data['claudin_subtype'].unique())\n",
        "print('Threegene:',bc_data['threegene'].unique())\n",
        "print('Laterality:',bc_data['laterality'].unique())\n",
        "print('Radio_Therapy:',bc_data['radio_therapy'].unique())\n",
        "print('Histological_Subtype:',bc_data['histological_subtype'].unique())\n",
        "print('Breast_Surgery:',bc_data['breast_surgery'].unique())\n",
        "print('Vital_status:',bc_data['vital_status'].unique())"
      ],
      "execution_count": 44,
      "outputs": [
        {
          "output_type": "stream",
          "text": [
            "Cellularity: [nan 'High' 'Moderate' 'Low']\n",
            "Chemotherapy: ['NO' 'YES' nan]\n",
            "Er_ihc: ['Positve' 'Negative' nan]\n",
            "Her2_snp6: ['NEUTRAL' 'LOSS' nan 'GAIN' 'UNDEF']\n",
            "Hormone Therapy: ['YES' 'NO' nan]\n",
            "Inferred_menopausal_state: ['Post' 'Pre' nan]\n",
            "Interclust: ['4ER+' '3' '9' '7' '4ER-' nan '5' '8' '10' '1' '2' '6']\n",
            "Claudin_Subtype: ['claudin-low' 'LumA' 'LumB' 'Normal' nan 'Her2' 'Basal' 'NC']\n",
            "Threegene: ['ER-/HER2-' 'ER+/HER2- High Prolif' nan 'ER+/HER2- Low Prolif' 'HER2+']\n",
            "Laterality: ['Right' 'Left' nan]\n",
            "Radio_Therapy: ['YES' 'NO' nan]\n",
            "Histological_Subtype: ['Ductal/NST' 'Mixed' 'Lobular' 'Tubular/ cribriform' nan 'Mucinous'\n",
            " 'Medullary' 'Other' 'Metaplastic']\n",
            "Breast_Surgery: ['MASTECTOMY' 'BREAST CONSERVING' nan]\n",
            "Vital_status: ['Living' 'Died of Disease' nan]\n"
          ],
          "name": "stdout"
        }
      ]
    },
    {
      "cell_type": "code",
      "metadata": {
        "colab_type": "code",
        "id": "rG6TBfsFmiUi",
        "colab": {}
      },
      "source": [
        "# Convert patiient_ids to row names first\n",
        "bc_data = bc_data.set_index(bc_data.patient_id)"
      ],
      "execution_count": 0,
      "outputs": []
    },
    {
      "cell_type": "code",
      "metadata": {
        "colab_type": "code",
        "id": "2bjIzr3SmiUn",
        "colab": {}
      },
      "source": [
        "# Create dataframe with the unchanged varaibles - this will contain numeric variables\n",
        "bc_data1 = bc_data[['lymph_nodes_examined_positive', 'npi', 'age_at_diagnosis', 'os_months', 'vital_status']]\n",
        "\n",
        "## Seperate the dataframes into the variables that we will want to reshape - we can then recombine anything that has more than 2 levels\n",
        "# Cellularity\n",
        "cell_df = bc_data[['cellularity']]\n",
        "cell_df = pd.get_dummies(cell_df,prefix=['cellularity'])\n",
        "\n",
        "# Chemotherapy\n",
        "chemo_df = bc_data[['chemotherapy']]\n",
        "chemo_df = pd.get_dummies(chemo_df,prefix=['chemotherapy'])\n",
        "\n",
        "# Cohort\n",
        "cohort_df = bc_data[['cohort']]\n",
        "cohort_df = pd.get_dummies(cohort_df,prefix=['cohort'])\n",
        "\n",
        "# er_ihc\n",
        "er_df = bc_data[['er_ihc']]\n",
        "er_df = pd.get_dummies(er_df,prefix=['er_ihc'])\n",
        "\n",
        "# Her2_snp6\n",
        "her2_df = bc_data[['her2_snp6']]\n",
        "her2_df = pd.get_dummies(her2_df,prefix=['her2'])\n",
        "\n",
        "# Hormone Therapy\n",
        "ht_df = bc_data[['hormone_therapy']]\n",
        "ht_df = pd.get_dummies(ht_df,prefix=['hormone_therapy'])\n",
        "\n",
        "# Inferred Menopasual State\n",
        "ims_df = bc_data[['inferred_menopausal_state']]\n",
        "ims_df = pd.get_dummies(ims_df,prefix=['ims_df'])\n",
        "\n",
        "# Interclust\n",
        "intclust_df = bc_data[['intclust']]\n",
        "intclust_df = pd.get_dummies(intclust_df,prefix=['intclust'])\n",
        "\n",
        "# Claduin Subtype\n",
        "cs_df = bc_data[['claudin_subtype']]\n",
        "cs_df = pd.get_dummies(cs_df,prefix=['claudin_subtype'])\n",
        "\n",
        "# Threegene\n",
        "three_df = bc_data[['threegene']]\n",
        "three_df = pd.get_dummies(three_df,prefix=['threegene'])\n",
        "\n",
        "# Laterality\n",
        "lat_df = bc_data[['laterality']]\n",
        "lat_df = pd.get_dummies(lat_df,prefix=['laterality'])\n",
        "\n",
        "# Radiotherapy\n",
        "rt_df = bc_data[['radio_therapy']]\n",
        "rt_df = pd.get_dummies(rt_df,prefix=['radio_therapy'])\n",
        "\n",
        "# Histological_Subtype\n",
        "hist_df = bc_data[['histological_subtype']]\n",
        "hist_df = pd.get_dummies(hist_df,prefix=['hist'])\n",
        "\n",
        "# Breast Surgery\n",
        "surg_df = bc_data[['breast_surgery']]\n",
        "surg_df = pd.get_dummies(surg_df,prefix=['breast_surgery'])\n",
        "\n",
        "\n",
        "# We want to convert row index (patient_id) to the first column for all of the above datasets\n",
        "bc_data1.reset_index(level=0, inplace=True)\n",
        "cell_df.reset_index(level=0, inplace=True)\n",
        "chemo_df.reset_index(level=0, inplace=True)\n",
        "cohort_df.reset_index(level=0, inplace=True)\n",
        "er_df.reset_index(level=0, inplace=True)\n",
        "her2_df.reset_index(level=0, inplace=True)\n",
        "ht_df.reset_index(level=0, inplace=True)\n",
        "ims_df.reset_index(level=0, inplace=True)\n",
        "intclust_df.reset_index(level=0, inplace=True)\n",
        "cs_df.reset_index(level=0, inplace=True)\n",
        "three_df.reset_index(level=0, inplace=True)\n",
        "lat_df.reset_index(level=0, inplace=True)\n",
        "rt_df.reset_index(level=0, inplace=True)\n",
        "hist_df.reset_index(level=0, inplace=True)\n",
        "surg_df.reset_index(level=0, inplace=True)\n",
        "\n",
        "# Merge all data \n",
        "bc_data = pd.merge(bc_data1, cell_df, how=\"left\", on=\"patient_id\")\n",
        "bc_data = pd.merge(bc_data, chemo_df, how=\"left\", on=\"patient_id\")\n",
        "bc_data = pd.merge(bc_data, cohort_df, how=\"left\", on=\"patient_id\")\n",
        "bc_data = pd.merge(bc_data, er_df, how=\"left\", on=\"patient_id\")\n",
        "bc_data = pd.merge(bc_data, her2_df, how=\"left\", on=\"patient_id\")\n",
        "bc_data = pd.merge(bc_data, ht_df, how=\"left\", on=\"patient_id\")\n",
        "bc_data = pd.merge(bc_data, ims_df, how=\"left\", on=\"patient_id\")\n",
        "bc_data = pd.merge(bc_data, intclust_df, how=\"left\", on=\"patient_id\")\n",
        "bc_data = pd.merge(bc_data, cs_df, how=\"left\", on=\"patient_id\")\n",
        "bc_data = pd.merge(bc_data, three_df, how=\"left\", on=\"patient_id\")\n",
        "bc_data = pd.merge(bc_data, lat_df, how=\"left\", on=\"patient_id\")\n",
        "bc_data = pd.merge(bc_data, rt_df, how=\"left\", on=\"patient_id\")\n",
        "bc_data = pd.merge(bc_data, hist_df, how=\"left\", on=\"patient_id\")\n",
        "bc_data = pd.merge(bc_data, surg_df, how=\"left\", on=\"patient_id\")"
      ],
      "execution_count": 0,
      "outputs": []
    },
    {
      "cell_type": "markdown",
      "metadata": {
        "colab_type": "text",
        "id": "ukcahmrDmiUw"
      },
      "source": [
        "Create dummy variables for Vital Status - Our Label"
      ]
    },
    {
      "cell_type": "code",
      "metadata": {
        "colab_type": "code",
        "id": "wjXZeKeGmiUx",
        "colab": {}
      },
      "source": [
        "bc_data['vital_status'] = bc_data.vital_status.map({'Living': 0, 'Died of Disease': 1})"
      ],
      "execution_count": 0,
      "outputs": []
    },
    {
      "cell_type": "markdown",
      "metadata": {
        "colab_type": "text",
        "id": "yNDj16JSsW56"
      },
      "source": [
        "Covert numeric varaibles as such, right now they are all non-null objects"
      ]
    },
    {
      "cell_type": "code",
      "metadata": {
        "colab_type": "code",
        "id": "m7wveepYsW5_",
        "colab": {}
      },
      "source": [
        "# convert first column to row index\n",
        "bc_data = bc_data.set_index('patient_id')\n",
        "\n",
        "# convert column object type to float for all columns\n",
        "bc_data = bc_data.astype(np.float32)\n",
        "\n",
        "# convert the row index back to the first column\n",
        "bc_data.reset_index(level=0, inplace=True)"
      ],
      "execution_count": 0,
      "outputs": []
    },
    {
      "cell_type": "markdown",
      "metadata": {
        "id": "CvEAYV7AdnUy",
        "colab_type": "text"
      },
      "source": [
        "**Gene Expression Data**"
      ]
    },
    {
      "cell_type": "markdown",
      "metadata": {
        "id": "yN3qdFp3iAXi",
        "colab_type": "text"
      },
      "source": [
        "Rename patient ID column"
      ]
    },
    {
      "cell_type": "code",
      "metadata": {
        "id": "2awWt2puh_3C",
        "colab_type": "code",
        "colab": {}
      },
      "source": [
        "gene_data.rename(columns={'Unnamed: 0':'patient_id'}, inplace=True)"
      ],
      "execution_count": 0,
      "outputs": []
    },
    {
      "cell_type": "markdown",
      "metadata": {
        "id": "Nhv4Xmt4CEjc",
        "colab_type": "text"
      },
      "source": [
        "Remove redundant columns that also appear in the bc_data - EVENT = Vital_status"
      ]
    },
    {
      "cell_type": "code",
      "metadata": {
        "id": "OzzDhbSgCGW7",
        "colab_type": "code",
        "colab": {}
      },
      "source": [
        "gene_data = gene_data.drop(columns=[\"EVENT\", \"OS_MONTHS\", \"FIVE_YEAR\"])"
      ],
      "execution_count": 0,
      "outputs": []
    },
    {
      "cell_type": "markdown",
      "metadata": {
        "id": "fG0jkv53dzjL",
        "colab_type": "text"
      },
      "source": [
        "**Merge Clinical and Gean Data**"
      ]
    },
    {
      "cell_type": "code",
      "metadata": {
        "id": "vsEkpsAOd7D2",
        "colab_type": "code",
        "colab": {}
      },
      "source": [
        "clinical_gene = pd.merge(gene_data, bc_data, how=\"left\", on=\"patient_id\")"
      ],
      "execution_count": 0,
      "outputs": []
    },
    {
      "cell_type": "markdown",
      "metadata": {
        "colab_type": "text",
        "id": "yOA86mVZjw-H"
      },
      "source": [
        "Remove any incomplete cases"
      ]
    },
    {
      "cell_type": "code",
      "metadata": {
        "colab_type": "code",
        "id": "VM8IhB9Ojw-K",
        "colab": {}
      },
      "source": [
        "clinical_gene = clinical_gene.dropna()"
      ],
      "execution_count": 0,
      "outputs": []
    },
    {
      "cell_type": "markdown",
      "metadata": {
        "id": "kToviqSljNIc",
        "colab_type": "text"
      },
      "source": [
        "Check if any missing values"
      ]
    },
    {
      "cell_type": "code",
      "metadata": {
        "id": "8cotUhyQjPFN",
        "colab_type": "code",
        "outputId": "01c981a6-06d9-46fb-83c6-1ed1a66124e3",
        "colab": {
          "base_uri": "https://localhost:8080/",
          "height": 212
        }
      },
      "source": [
        "print(clinical_gene.isna().any())"
      ],
      "execution_count": 53,
      "outputs": [
        {
          "output_type": "stream",
          "text": [
            "patient_id                          False\n",
            "RERE                                False\n",
            "RNF165                              False\n",
            "CD049690                            False\n",
            "BC033982                            False\n",
            "                                    ...  \n",
            "hist_Mucinous                       False\n",
            "hist_Other                          False\n",
            "hist_Tubular/ cribriform            False\n",
            "breast_surgery_BREAST CONSERVING    False\n",
            "breast_surgery_MASTECTOMY           False\n",
            "Length: 24434, dtype: bool\n"
          ],
          "name": "stdout"
        }
      ]
    },
    {
      "cell_type": "markdown",
      "metadata": {
        "colab_type": "text",
        "id": "sACE1PvgnEhf"
      },
      "source": [
        "# **Examine Patient Outcomes**\n",
        "\n",
        "Assess the number of patients maintained in our final datasets and their outcomes"
      ]
    },
    {
      "cell_type": "code",
      "metadata": {
        "colab_type": "code",
        "id": "cy1Bjfi6nEhk",
        "cellView": "both",
        "outputId": "13397d05-543d-43f6-8adb-c78371531e54",
        "colab": {
          "base_uri": "https://localhost:8080/",
          "height": 395
        }
      },
      "source": [
        "plt_out = clinical_gene.vital_status.value_counts().plot(kind=\"bar\")\n",
        "plt_out.tick_params(axis=\"x\", labelsize=11, labelrotation= -360)\n",
        "plt_out.set_title(\"Survival\")\n",
        "\n",
        "# Calculate Percents\n",
        "count_outcomes = clinical_gene.groupby(['vital_status']).size()\n",
        "print(count_outcomes)\n",
        "\n",
        "print('Total Number of Patients:', len(clinical_gene.index))\n",
        "print('Percent Living: {:.2f}'.format(count_outcomes[0]/len(clinical_gene.index)))\n",
        "print('Percent Died of Disease: {:.2f}'.format(count_outcomes[1]/len(clinical_gene.index)))"
      ],
      "execution_count": 54,
      "outputs": [
        {
          "output_type": "stream",
          "text": [
            "vital_status\n",
            "0.0    1273\n",
            "1.0     620\n",
            "dtype: int64\n",
            "Total Number of Patients: 1893\n",
            "Percent Living: 0.67\n",
            "Percent Died of Disease: 0.33\n"
          ],
          "name": "stdout"
        },
        {
          "output_type": "display_data",
          "data": {
            "image/png": "[encoded data removed]",
            "text/plain": [
              "<Figure size 432x288 with 1 Axes>"
            ]
          },
          "metadata": {
            "tags": []
          }
        }
      ]
    },
    {
      "cell_type": "markdown",
      "metadata": {
        "id": "p0LSJM5jlhZR",
        "colab_type": "text"
      },
      "source": [
        "After removing patients with missing values, our dataset reduced to 1,893patients with 20 clinical variables and mRNA expression for 23,371 genes. \n",
        "\n",
        "620 (33% of patients died from breast cancer) vs 1,273 (67%) of patients who surived. \n"
      ]
    },
    {
      "cell_type": "markdown",
      "metadata": {
        "id": "SlYTYc7lwvOZ",
        "colab_type": "text"
      },
      "source": [
        "# **Assess the number of patients who surivived > 10 years**"
      ]
    },
    {
      "cell_type": "code",
      "metadata": {
        "id": "WS5ARnT33T_v",
        "colab_type": "code",
        "outputId": "17d18f08-5c38-4658-b3ad-63f078b734ea",
        "colab": {
          "base_uri": "https://localhost:8080/",
          "height": 295
        }
      },
      "source": [
        "# examine patients who survived > 10 years\n",
        "years10 = clinical_gene[clinical_gene['os_months'] >= 120]\n",
        "\n",
        "os = clinical_gene['os_months']\n",
        "\n",
        "# Define bins\n",
        "bin_edges = [25,50,75,100,125,150,175,200,225,250,275,300,325]\n",
        "\n",
        "plt.hist(os,\n",
        "         bin_edges,\n",
        "         density=False,\n",
        "         histtype='bar',\n",
        "         color='b',\n",
        "         edgecolor='k',\n",
        "         alpha=0.5)\n",
        "\n",
        "plt.xlabel('Months')\n",
        "plt.ylabel('Number Patients')\n",
        "plt.title('Overall Surivival (months)')\n",
        "\n",
        "plt.show()"
      ],
      "execution_count": 55,
      "outputs": [
        {
          "output_type": "display_data",
          "data": {
            "image/png": "[encoded data removed]",
            "text/plain": [
              "<Figure size 432x288 with 1 Axes>"
            ]
          },
          "metadata": {
            "tags": []
          }
        }
      ]
    },
    {
      "cell_type": "code",
      "metadata": {
        "id": "Xc1IuEw35LaE",
        "colab_type": "code",
        "outputId": "aa428f81-e84b-4ded-ab97-7a6015880d37",
        "colab": {
          "base_uri": "https://localhost:8080/",
          "height": 131
        }
      },
      "source": [
        "# Calculate Percents\n",
        "count_outcomes = years10.groupby(['vital_status']).size()\n",
        "print(count_outcomes)\n",
        "\n",
        "print('Total Number of Patients:', len(years10.index))\n",
        "print('Percent Living: {:.2f}'.format(count_outcomes[0]/len(years10.index)))\n",
        "print('Percent Died of Disease: {:.2f}'.format(count_outcomes[1]/len(years10.index)))"
      ],
      "execution_count": 56,
      "outputs": [
        {
          "output_type": "stream",
          "text": [
            "vital_status\n",
            "0.0    781\n",
            "1.0    122\n",
            "dtype: int64\n",
            "Total Number of Patients: 903\n",
            "Percent Living: 0.86\n",
            "Percent Died of Disease: 0.14\n"
          ],
          "name": "stdout"
        }
      ]
    },
    {
      "cell_type": "markdown",
      "metadata": {
        "id": "0RmpBUCk79Jp",
        "colab_type": "text"
      },
      "source": [
        "The number of patients who are still living vs those deceased at 10 years is very unbalanced (90 vs 10% respectively). For this reason, I will continue to see whether my model can just predict survival status for patients."
      ]
    },
    {
      "cell_type": "markdown",
      "metadata": {
        "id": "IHSb_8vfnj7F",
        "colab_type": "text"
      },
      "source": [
        "# **Prinicipal Component Analysis**\n",
        "\n",
        "**What is a Pricipal Component?**\n",
        "\n",
        "Principal componenets have both direction and magnitude. The direction represents across which principal axes the data is mostly spread out or has the most variance and the magnitude signifies the amount of varaince that Principal Component captures of the data when projected onto that axis. \n",
        "\n",
        "The principal components are a straight line, and the first principal component holds the most variance in the data. Each subsequent prinicpal component is orthogonal to the last and has a lesser variance .\n",
        "\n",
        "Correlated features contribute to the same principal component, thereby reducing the original data features into uncorrelated prinicpal components; each representing a different set of correlated features with differents of variation.\n",
        "\n",
        "Each principal component represents a percentage of total variation captured from the data\n",
        "\n",
        "**Reference:** https://www.datacamp.com/community/tutorials/principal-component-analysis-in-python"
      ]
    },
    {
      "cell_type": "markdown",
      "metadata": {
        "id": "bLtwUznBJliI",
        "colab_type": "text"
      },
      "source": [
        "Create a dataset just containing gene expression"
      ]
    },
    {
      "cell_type": "code",
      "metadata": {
        "id": "d39noFie28iQ",
        "colab_type": "code",
        "colab": {}
      },
      "source": [
        "# remove patient_id number from the list\n",
        "gene_list = gene_data.drop(columns=[\"patient_id\"])\n",
        "gene_list = list(gene_list.columns.values) \n",
        "genes = clinical_gene[gene_list]"
      ],
      "execution_count": 0,
      "outputs": []
    },
    {
      "cell_type": "markdown",
      "metadata": {
        "id": "3DgHGkhOxDS9",
        "colab_type": "text"
      },
      "source": [
        "Create a dataset containing the target variables"
      ]
    },
    {
      "cell_type": "code",
      "metadata": {
        "id": "YUEg7yf_VhS-",
        "colab_type": "code",
        "colab": {
          "base_uri": "https://localhost:8080/",
          "height": 245
        },
        "outputId": "c1bb5bad-5ec8-4655-a9b7-cf10bfa3c79e"
      },
      "source": [
        "# Subset only the Event - whether they lived (0) or died (1) from Breast Cancer\n",
        "labels = clinical_gene.vital_status\n",
        "\n",
        "# Create a list of row names\n",
        "patients = list(clinical_gene.patient_id)\n",
        "\n",
        "# Convert labels into a dataframe and indicate patients as the index\n",
        "labels = pd.DataFrame(labels, index = patients)\n",
        "\n",
        "print(labels)"
      ],
      "execution_count": 58,
      "outputs": [
        {
          "output_type": "stream",
          "text": [
            "         vital_status\n",
            "MB-0000           NaN\n",
            "MB-0002           NaN\n",
            "MB-0005           NaN\n",
            "MB-0006           NaN\n",
            "MB-0008           NaN\n",
            "...               ...\n",
            "MB-7295           NaN\n",
            "MB-7296           NaN\n",
            "MB-7297           NaN\n",
            "MB-7298           NaN\n",
            "MB-7299           NaN\n",
            "\n",
            "[1893 rows x 1 columns]\n"
          ],
          "name": "stdout"
        }
      ]
    },
    {
      "cell_type": "markdown",
      "metadata": {
        "colab_type": "text",
        "id": "LcNAgmZwbTgQ"
      },
      "source": [
        "**1) Standardize the Data**\n",
        "\n",
        "Must scale features in your data before applying PCA. **StandardScaler** helps standardize features onto unit scale (mean = 0 and standard deviation = 1). Thus, each value in the dataset will have the sample mean value subtracted and then divided by the standard deviation of the whole dataset. \n"
      ]
    },
    {
      "cell_type": "code",
      "metadata": {
        "colab_type": "code",
        "id": "C8fw-kJMbTgV",
        "colab": {}
      },
      "source": [
        "from sklearn.preprocessing import StandardScaler \n",
        "from sklearn.decomposition import PCA\n",
        "\n",
        "# Stanardize/Scale the data\n",
        "x = StandardScaler().fit_transform(genes)"
      ],
      "execution_count": 0,
      "outputs": []
    },
    {
      "cell_type": "markdown",
      "metadata": {
        "colab_type": "text",
        "id": "RYSjIvVMbTgo"
      },
      "source": [
        "**Let's check whether the normalized data has a mean of zero and a standard deviation of 1**"
      ]
    },
    {
      "cell_type": "code",
      "metadata": {
        "colab_type": "code",
        "id": "xDv7qQHUbTgs",
        "colab": {
          "base_uri": "https://localhost:8080/",
          "height": 33
        },
        "outputId": "6410d8cc-1f10-4cf3-c613-5a770be8ed6d"
      },
      "source": [
        "np.mean(x), np.std(x)"
      ],
      "execution_count": 60,
      "outputs": [
        {
          "output_type": "execute_result",
          "data": {
            "text/plain": [
              "(-1.5959962128708494e-17, 1.0000000000000004)"
            ]
          },
          "metadata": {
            "tags": []
          },
          "execution_count": 60
        }
      ]
    },
    {
      "cell_type": "markdown",
      "metadata": {
        "id": "W2pzskJS_UEz",
        "colab_type": "text"
      },
      "source": [
        "**Convert the normalized features into tabular format**"
      ]
    },
    {
      "cell_type": "code",
      "metadata": {
        "id": "3xKkBbp4_W3V",
        "colab_type": "code",
        "colab": {}
      },
      "source": [
        "# Create list of column names\n",
        "features = list(genes.columns.values) \n",
        "\n",
        "# Create data frame of newly normalized data - use patients IDs as the index \n",
        "x = pd.DataFrame(x, columns = features, index = patients)"
      ],
      "execution_count": 0,
      "outputs": []
    },
    {
      "cell_type": "markdown",
      "metadata": {
        "id": "nFQt5RulAiYC",
        "colab_type": "text"
      },
      "source": [
        "**2) Determine Prinicpal Components**\n",
        "\n",
        "Reference: https://stackoverflow.com/questions/42167907/understanding-scikitlearn-pca-transform-function-in-python\n",
        "\n",
        "**pca.fit** allows PCA function to compute vectors that you can project your data onto in order to reduce the dimension of your data. \n",
        "\n",
        "**pca.transform** actually performs the projection. It projects each row of data into the vector space that was learned when fit was called.\n",
        "\n",
        "from sklearn: **fit_transform**: Fit the model with X and apply the dimensionality reduction on X"
      ]
    },
    {
      "cell_type": "code",
      "metadata": {
        "id": "ZhT8EtKgHCh6",
        "colab_type": "code",
        "colab": {
          "base_uri": "https://localhost:8080/",
          "height": 573
        },
        "outputId": "6b51d09e-571b-40c5-94d0-93dbb8fb6afa"
      },
      "source": [
        "# Define pca function\n",
        "pca = PCA()\n",
        "\n",
        "# Fit to the scaled/standardized data - then use transform to prokect into the new vector space learned by fit\n",
        "principalComponents = pca.fit_transform(x)\n",
        "\n",
        "# Generate a list of column names with the number for each prinicpal component \n",
        "col_names = [f'pc{i}' for i in range(1, 1894)] # there are 1893 samples - so we want to have range of 1 less than 1894 column names \n",
        "\n",
        "# Add column names to the principal component dataset \n",
        "principalDf = pd.DataFrame(principalComponents, columns = col_names, index = patients)\n",
        "principalDf"
      ],
      "execution_count": 62,
      "outputs": [
        {
          "output_type": "execute_result",
          "data": {
            "text/html": [
              "<div>\n",
              "<style scoped>\n",
              "    .dataframe tbody tr th:only-of-type {\n",
              "        vertical-align: middle;\n",
              "    }\n",
              "\n",
              "    .dataframe tbody tr th {\n",
              "        vertical-align: top;\n",
              "    }\n",
              "\n",
              "    .dataframe thead th {\n",
              "        text-align: right;\n",
              "    }\n",
              "</style>\n",
              "<table border=\"1\" class=\"dataframe\">\n",
              "  <thead>\n",
              "    <tr style=\"text-align: right;\">\n",
              "      <th></th>\n",
              "      <th>pc1</th>\n",
              "      <th>pc2</th>\n",
              "      <th>pc3</th>\n",
              "      <th>pc4</th>\n",
              "      <th>pc5</th>\n",
              "      <th>pc6</th>\n",
              "      <th>pc7</th>\n",
              "      <th>pc8</th>\n",
              "      <th>pc9</th>\n",
              "      <th>pc10</th>\n",
              "      <th>pc11</th>\n",
              "      <th>pc12</th>\n",
              "      <th>pc13</th>\n",
              "      <th>pc14</th>\n",
              "      <th>pc15</th>\n",
              "      <th>pc16</th>\n",
              "      <th>pc17</th>\n",
              "      <th>pc18</th>\n",
              "      <th>pc19</th>\n",
              "      <th>pc20</th>\n",
              "      <th>pc21</th>\n",
              "      <th>pc22</th>\n",
              "      <th>pc23</th>\n",
              "      <th>pc24</th>\n",
              "      <th>pc25</th>\n",
              "      <th>pc26</th>\n",
              "      <th>pc27</th>\n",
              "      <th>pc28</th>\n",
              "      <th>pc29</th>\n",
              "      <th>pc30</th>\n",
              "      <th>pc31</th>\n",
              "      <th>pc32</th>\n",
              "      <th>pc33</th>\n",
              "      <th>pc34</th>\n",
              "      <th>pc35</th>\n",
              "      <th>pc36</th>\n",
              "      <th>pc37</th>\n",
              "      <th>pc38</th>\n",
              "      <th>pc39</th>\n",
              "      <th>pc40</th>\n",
              "      <th>...</th>\n",
              "      <th>pc1854</th>\n",
              "      <th>pc1855</th>\n",
              "      <th>pc1856</th>\n",
              "      <th>pc1857</th>\n",
              "      <th>pc1858</th>\n",
              "      <th>pc1859</th>\n",
              "      <th>pc1860</th>\n",
              "      <th>pc1861</th>\n",
              "      <th>pc1862</th>\n",
              "      <th>pc1863</th>\n",
              "      <th>pc1864</th>\n",
              "      <th>pc1865</th>\n",
              "      <th>pc1866</th>\n",
              "      <th>pc1867</th>\n",
              "      <th>pc1868</th>\n",
              "      <th>pc1869</th>\n",
              "      <th>pc1870</th>\n",
              "      <th>pc1871</th>\n",
              "      <th>pc1872</th>\n",
              "      <th>pc1873</th>\n",
              "      <th>pc1874</th>\n",
              "      <th>pc1875</th>\n",
              "      <th>pc1876</th>\n",
              "      <th>pc1877</th>\n",
              "      <th>pc1878</th>\n",
              "      <th>pc1879</th>\n",
              "      <th>pc1880</th>\n",
              "      <th>pc1881</th>\n",
              "      <th>pc1882</th>\n",
              "      <th>pc1883</th>\n",
              "      <th>pc1884</th>\n",
              "      <th>pc1885</th>\n",
              "      <th>pc1886</th>\n",
              "      <th>pc1887</th>\n",
              "      <th>pc1888</th>\n",
              "      <th>pc1889</th>\n",
              "      <th>pc1890</th>\n",
              "      <th>pc1891</th>\n",
              "      <th>pc1892</th>\n",
              "      <th>pc1893</th>\n",
              "    </tr>\n",
              "  </thead>\n",
              "  <tbody>\n",
              "    <tr>\n",
              "      <th>MB-0000</th>\n",
              "      <td>-47.640486</td>\n",
              "      <td>5.288796</td>\n",
              "      <td>55.741782</td>\n",
              "      <td>31.435453</td>\n",
              "      <td>20.995582</td>\n",
              "      <td>21.431219</td>\n",
              "      <td>-11.677213</td>\n",
              "      <td>29.374429</td>\n",
              "      <td>42.520026</td>\n",
              "      <td>15.470950</td>\n",
              "      <td>-2.541015</td>\n",
              "      <td>26.499584</td>\n",
              "      <td>-12.921831</td>\n",
              "      <td>-3.420789</td>\n",
              "      <td>-8.278346</td>\n",
              "      <td>44.682789</td>\n",
              "      <td>1.282821</td>\n",
              "      <td>-0.618124</td>\n",
              "      <td>15.967934</td>\n",
              "      <td>4.872213</td>\n",
              "      <td>12.390082</td>\n",
              "      <td>-1.120361</td>\n",
              "      <td>6.825544</td>\n",
              "      <td>-6.518165</td>\n",
              "      <td>-23.059784</td>\n",
              "      <td>-8.018584</td>\n",
              "      <td>12.637746</td>\n",
              "      <td>7.640159</td>\n",
              "      <td>4.164133</td>\n",
              "      <td>-0.757117</td>\n",
              "      <td>12.021728</td>\n",
              "      <td>-7.270884</td>\n",
              "      <td>1.602164</td>\n",
              "      <td>2.068138</td>\n",
              "      <td>20.828425</td>\n",
              "      <td>0.928676</td>\n",
              "      <td>-2.213062</td>\n",
              "      <td>5.109203</td>\n",
              "      <td>14.749601</td>\n",
              "      <td>4.609817</td>\n",
              "      <td>...</td>\n",
              "      <td>2.615616</td>\n",
              "      <td>-0.491553</td>\n",
              "      <td>-0.536536</td>\n",
              "      <td>-0.493480</td>\n",
              "      <td>-1.170904</td>\n",
              "      <td>-0.714722</td>\n",
              "      <td>-0.199904</td>\n",
              "      <td>0.064008</td>\n",
              "      <td>-2.875668</td>\n",
              "      <td>0.365276</td>\n",
              "      <td>-2.832656</td>\n",
              "      <td>-1.402194</td>\n",
              "      <td>-1.235099</td>\n",
              "      <td>-0.890844</td>\n",
              "      <td>0.120609</td>\n",
              "      <td>-1.315870</td>\n",
              "      <td>-2.152728</td>\n",
              "      <td>0.837878</td>\n",
              "      <td>-1.744900</td>\n",
              "      <td>1.193761</td>\n",
              "      <td>-0.867032</td>\n",
              "      <td>-0.060552</td>\n",
              "      <td>0.732550</td>\n",
              "      <td>-0.379795</td>\n",
              "      <td>1.754531</td>\n",
              "      <td>0.651224</td>\n",
              "      <td>0.192055</td>\n",
              "      <td>1.188147</td>\n",
              "      <td>-6.536976</td>\n",
              "      <td>-2.886137</td>\n",
              "      <td>2.093793</td>\n",
              "      <td>-0.480178</td>\n",
              "      <td>0.772554</td>\n",
              "      <td>1.287379</td>\n",
              "      <td>-0.044870</td>\n",
              "      <td>-0.073129</td>\n",
              "      <td>0.132682</td>\n",
              "      <td>-0.765193</td>\n",
              "      <td>0.299690</td>\n",
              "      <td>1.751705e-14</td>\n",
              "    </tr>\n",
              "    <tr>\n",
              "      <th>MB-0002</th>\n",
              "      <td>-10.294739</td>\n",
              "      <td>-33.754227</td>\n",
              "      <td>-15.595111</td>\n",
              "      <td>-3.767654</td>\n",
              "      <td>-6.928356</td>\n",
              "      <td>13.024430</td>\n",
              "      <td>-5.717550</td>\n",
              "      <td>-10.351868</td>\n",
              "      <td>12.633539</td>\n",
              "      <td>-12.668982</td>\n",
              "      <td>7.929249</td>\n",
              "      <td>-0.077502</td>\n",
              "      <td>-30.617718</td>\n",
              "      <td>-12.246548</td>\n",
              "      <td>8.721936</td>\n",
              "      <td>-16.460946</td>\n",
              "      <td>7.306873</td>\n",
              "      <td>3.734860</td>\n",
              "      <td>-39.984225</td>\n",
              "      <td>-6.402546</td>\n",
              "      <td>2.010281</td>\n",
              "      <td>5.125445</td>\n",
              "      <td>4.647425</td>\n",
              "      <td>3.313282</td>\n",
              "      <td>3.904162</td>\n",
              "      <td>-5.737589</td>\n",
              "      <td>15.883428</td>\n",
              "      <td>-12.855793</td>\n",
              "      <td>5.265007</td>\n",
              "      <td>6.803611</td>\n",
              "      <td>2.426956</td>\n",
              "      <td>15.022274</td>\n",
              "      <td>-13.623457</td>\n",
              "      <td>1.256287</td>\n",
              "      <td>0.963777</td>\n",
              "      <td>-1.751157</td>\n",
              "      <td>-10.096647</td>\n",
              "      <td>11.403433</td>\n",
              "      <td>10.186265</td>\n",
              "      <td>-28.643303</td>\n",
              "      <td>...</td>\n",
              "      <td>-0.022928</td>\n",
              "      <td>-0.580034</td>\n",
              "      <td>1.167540</td>\n",
              "      <td>-0.630875</td>\n",
              "      <td>0.402646</td>\n",
              "      <td>-1.140844</td>\n",
              "      <td>-0.879792</td>\n",
              "      <td>2.426136</td>\n",
              "      <td>2.432621</td>\n",
              "      <td>-1.156747</td>\n",
              "      <td>-0.332419</td>\n",
              "      <td>0.836193</td>\n",
              "      <td>-0.121211</td>\n",
              "      <td>0.150463</td>\n",
              "      <td>-0.890104</td>\n",
              "      <td>1.439998</td>\n",
              "      <td>1.418613</td>\n",
              "      <td>1.036302</td>\n",
              "      <td>0.385679</td>\n",
              "      <td>-0.991685</td>\n",
              "      <td>1.181543</td>\n",
              "      <td>1.310659</td>\n",
              "      <td>-0.061257</td>\n",
              "      <td>0.440270</td>\n",
              "      <td>1.635176</td>\n",
              "      <td>-0.106176</td>\n",
              "      <td>1.013170</td>\n",
              "      <td>0.280117</td>\n",
              "      <td>-0.449920</td>\n",
              "      <td>0.667579</td>\n",
              "      <td>-1.456924</td>\n",
              "      <td>2.124363</td>\n",
              "      <td>-1.687367</td>\n",
              "      <td>-2.419124</td>\n",
              "      <td>-0.907718</td>\n",
              "      <td>-0.272772</td>\n",
              "      <td>-0.343819</td>\n",
              "      <td>0.929743</td>\n",
              "      <td>-0.045654</td>\n",
              "      <td>1.751705e-14</td>\n",
              "    </tr>\n",
              "    <tr>\n",
              "      <th>MB-0005</th>\n",
              "      <td>-96.315144</td>\n",
              "      <td>-25.915153</td>\n",
              "      <td>-28.011573</td>\n",
              "      <td>37.327418</td>\n",
              "      <td>-33.542781</td>\n",
              "      <td>12.135572</td>\n",
              "      <td>13.629726</td>\n",
              "      <td>-44.640091</td>\n",
              "      <td>-3.020390</td>\n",
              "      <td>3.878850</td>\n",
              "      <td>5.747484</td>\n",
              "      <td>-11.977498</td>\n",
              "      <td>11.803667</td>\n",
              "      <td>20.054960</td>\n",
              "      <td>-17.518929</td>\n",
              "      <td>12.084579</td>\n",
              "      <td>15.553173</td>\n",
              "      <td>7.388555</td>\n",
              "      <td>-12.643719</td>\n",
              "      <td>15.258260</td>\n",
              "      <td>6.672251</td>\n",
              "      <td>6.863734</td>\n",
              "      <td>-2.243503</td>\n",
              "      <td>10.147983</td>\n",
              "      <td>11.610380</td>\n",
              "      <td>0.285380</td>\n",
              "      <td>14.629232</td>\n",
              "      <td>-11.451138</td>\n",
              "      <td>0.233516</td>\n",
              "      <td>2.985680</td>\n",
              "      <td>6.463820</td>\n",
              "      <td>-4.196758</td>\n",
              "      <td>-13.020389</td>\n",
              "      <td>-0.222210</td>\n",
              "      <td>-15.129075</td>\n",
              "      <td>-10.695534</td>\n",
              "      <td>-8.543777</td>\n",
              "      <td>3.519931</td>\n",
              "      <td>8.673090</td>\n",
              "      <td>-20.542943</td>\n",
              "      <td>...</td>\n",
              "      <td>-0.023858</td>\n",
              "      <td>2.876245</td>\n",
              "      <td>1.654063</td>\n",
              "      <td>-1.028029</td>\n",
              "      <td>0.036725</td>\n",
              "      <td>4.547497</td>\n",
              "      <td>0.017063</td>\n",
              "      <td>0.626142</td>\n",
              "      <td>0.739945</td>\n",
              "      <td>0.308482</td>\n",
              "      <td>0.269953</td>\n",
              "      <td>0.939838</td>\n",
              "      <td>0.161743</td>\n",
              "      <td>-0.316597</td>\n",
              "      <td>0.761640</td>\n",
              "      <td>1.229399</td>\n",
              "      <td>-1.999842</td>\n",
              "      <td>0.297631</td>\n",
              "      <td>-1.236478</td>\n",
              "      <td>-4.057241</td>\n",
              "      <td>-0.519114</td>\n",
              "      <td>0.730191</td>\n",
              "      <td>0.087816</td>\n",
              "      <td>0.489869</td>\n",
              "      <td>0.923660</td>\n",
              "      <td>-0.184559</td>\n",
              "      <td>2.420691</td>\n",
              "      <td>-0.329207</td>\n",
              "      <td>-2.489350</td>\n",
              "      <td>-0.268186</td>\n",
              "      <td>-0.276662</td>\n",
              "      <td>1.395782</td>\n",
              "      <td>0.214112</td>\n",
              "      <td>0.638287</td>\n",
              "      <td>-1.095239</td>\n",
              "      <td>0.067454</td>\n",
              "      <td>-0.769619</td>\n",
              "      <td>0.282431</td>\n",
              "      <td>-0.938761</td>\n",
              "      <td>1.751705e-14</td>\n",
              "    </tr>\n",
              "    <tr>\n",
              "      <th>MB-0006</th>\n",
              "      <td>-87.953656</td>\n",
              "      <td>-22.978020</td>\n",
              "      <td>-45.827162</td>\n",
              "      <td>71.331750</td>\n",
              "      <td>-18.406936</td>\n",
              "      <td>4.235867</td>\n",
              "      <td>26.322261</td>\n",
              "      <td>-27.782879</td>\n",
              "      <td>3.766800</td>\n",
              "      <td>-26.433071</td>\n",
              "      <td>0.160743</td>\n",
              "      <td>13.405044</td>\n",
              "      <td>12.220073</td>\n",
              "      <td>29.460773</td>\n",
              "      <td>3.622427</td>\n",
              "      <td>17.199234</td>\n",
              "      <td>19.161598</td>\n",
              "      <td>1.399312</td>\n",
              "      <td>-4.674449</td>\n",
              "      <td>3.105532</td>\n",
              "      <td>1.481654</td>\n",
              "      <td>3.298014</td>\n",
              "      <td>-0.607561</td>\n",
              "      <td>14.168661</td>\n",
              "      <td>16.630764</td>\n",
              "      <td>-4.583453</td>\n",
              "      <td>-11.539585</td>\n",
              "      <td>-12.798298</td>\n",
              "      <td>-8.846186</td>\n",
              "      <td>21.369604</td>\n",
              "      <td>-4.287749</td>\n",
              "      <td>-10.583688</td>\n",
              "      <td>2.659104</td>\n",
              "      <td>-0.321798</td>\n",
              "      <td>-10.485172</td>\n",
              "      <td>-11.738813</td>\n",
              "      <td>-4.915530</td>\n",
              "      <td>-14.756310</td>\n",
              "      <td>12.739693</td>\n",
              "      <td>-6.324217</td>\n",
              "      <td>...</td>\n",
              "      <td>-1.037006</td>\n",
              "      <td>1.931747</td>\n",
              "      <td>1.557515</td>\n",
              "      <td>1.560014</td>\n",
              "      <td>-2.394312</td>\n",
              "      <td>-0.544645</td>\n",
              "      <td>0.563280</td>\n",
              "      <td>-2.732857</td>\n",
              "      <td>2.738475</td>\n",
              "      <td>-2.087297</td>\n",
              "      <td>-0.804275</td>\n",
              "      <td>2.886594</td>\n",
              "      <td>-2.879239</td>\n",
              "      <td>-0.061667</td>\n",
              "      <td>-0.310610</td>\n",
              "      <td>-0.067012</td>\n",
              "      <td>1.991594</td>\n",
              "      <td>-1.362046</td>\n",
              "      <td>0.109346</td>\n",
              "      <td>-0.250118</td>\n",
              "      <td>0.943040</td>\n",
              "      <td>0.941846</td>\n",
              "      <td>-1.513106</td>\n",
              "      <td>0.790797</td>\n",
              "      <td>-2.006879</td>\n",
              "      <td>-1.549176</td>\n",
              "      <td>1.184198</td>\n",
              "      <td>0.219506</td>\n",
              "      <td>-0.673397</td>\n",
              "      <td>0.468476</td>\n",
              "      <td>0.809891</td>\n",
              "      <td>-0.423774</td>\n",
              "      <td>-0.139952</td>\n",
              "      <td>1.584968</td>\n",
              "      <td>0.970915</td>\n",
              "      <td>0.028725</td>\n",
              "      <td>-0.790136</td>\n",
              "      <td>-0.102098</td>\n",
              "      <td>0.741870</td>\n",
              "      <td>1.751705e-14</td>\n",
              "    </tr>\n",
              "    <tr>\n",
              "      <th>MB-0008</th>\n",
              "      <td>-23.988893</td>\n",
              "      <td>-10.059267</td>\n",
              "      <td>-24.307644</td>\n",
              "      <td>-29.341888</td>\n",
              "      <td>0.317165</td>\n",
              "      <td>-17.051722</td>\n",
              "      <td>6.168452</td>\n",
              "      <td>-7.985428</td>\n",
              "      <td>-2.030451</td>\n",
              "      <td>-23.758541</td>\n",
              "      <td>5.297474</td>\n",
              "      <td>-0.942470</td>\n",
              "      <td>-27.188387</td>\n",
              "      <td>11.586803</td>\n",
              "      <td>-13.855994</td>\n",
              "      <td>23.115658</td>\n",
              "      <td>-2.861736</td>\n",
              "      <td>6.005458</td>\n",
              "      <td>9.464089</td>\n",
              "      <td>-14.601732</td>\n",
              "      <td>-2.161371</td>\n",
              "      <td>-3.019875</td>\n",
              "      <td>1.505148</td>\n",
              "      <td>6.501924</td>\n",
              "      <td>4.652206</td>\n",
              "      <td>-4.061495</td>\n",
              "      <td>20.491476</td>\n",
              "      <td>-16.796990</td>\n",
              "      <td>0.265094</td>\n",
              "      <td>5.813119</td>\n",
              "      <td>-22.109963</td>\n",
              "      <td>-7.786510</td>\n",
              "      <td>5.785792</td>\n",
              "      <td>-11.370644</td>\n",
              "      <td>9.494533</td>\n",
              "      <td>-1.650724</td>\n",
              "      <td>5.239828</td>\n",
              "      <td>-4.465413</td>\n",
              "      <td>-1.674744</td>\n",
              "      <td>-0.914403</td>\n",
              "      <td>...</td>\n",
              "      <td>-0.428542</td>\n",
              "      <td>0.580933</td>\n",
              "      <td>-1.554370</td>\n",
              "      <td>0.821519</td>\n",
              "      <td>0.066410</td>\n",
              "      <td>0.474094</td>\n",
              "      <td>-0.837077</td>\n",
              "      <td>-0.106429</td>\n",
              "      <td>-0.506475</td>\n",
              "      <td>-0.866690</td>\n",
              "      <td>1.310516</td>\n",
              "      <td>-0.399711</td>\n",
              "      <td>0.545500</td>\n",
              "      <td>-0.840975</td>\n",
              "      <td>-0.958237</td>\n",
              "      <td>0.247916</td>\n",
              "      <td>-2.254355</td>\n",
              "      <td>0.582632</td>\n",
              "      <td>-1.223032</td>\n",
              "      <td>-0.450757</td>\n",
              "      <td>0.084002</td>\n",
              "      <td>0.796094</td>\n",
              "      <td>0.833732</td>\n",
              "      <td>-1.440198</td>\n",
              "      <td>-0.020926</td>\n",
              "      <td>-0.251322</td>\n",
              "      <td>0.123992</td>\n",
              "      <td>-0.267069</td>\n",
              "      <td>-1.716726</td>\n",
              "      <td>0.573915</td>\n",
              "      <td>-1.388453</td>\n",
              "      <td>-0.721010</td>\n",
              "      <td>-0.413024</td>\n",
              "      <td>3.798117</td>\n",
              "      <td>-2.006565</td>\n",
              "      <td>-0.119183</td>\n",
              "      <td>-0.092851</td>\n",
              "      <td>-0.641555</td>\n",
              "      <td>0.418175</td>\n",
              "      <td>1.751705e-14</td>\n",
              "    </tr>\n",
              "    <tr>\n",
              "      <th>...</th>\n",
              "      <td>...</td>\n",
              "      <td>...</td>\n",
              "      <td>...</td>\n",
              "      <td>...</td>\n",
              "      <td>...</td>\n",
              "      <td>...</td>\n",
              "      <td>...</td>\n",
              "      <td>...</td>\n",
              "      <td>...</td>\n",
              "      <td>...</td>\n",
              "      <td>...</td>\n",
              "      <td>...</td>\n",
              "      <td>...</td>\n",
              "      <td>...</td>\n",
              "      <td>...</td>\n",
              "      <td>...</td>\n",
              "      <td>...</td>\n",
              "      <td>...</td>\n",
              "      <td>...</td>\n",
              "      <td>...</td>\n",
              "      <td>...</td>\n",
              "      <td>...</td>\n",
              "      <td>...</td>\n",
              "      <td>...</td>\n",
              "      <td>...</td>\n",
              "      <td>...</td>\n",
              "      <td>...</td>\n",
              "      <td>...</td>\n",
              "      <td>...</td>\n",
              "      <td>...</td>\n",
              "      <td>...</td>\n",
              "      <td>...</td>\n",
              "      <td>...</td>\n",
              "      <td>...</td>\n",
              "      <td>...</td>\n",
              "      <td>...</td>\n",
              "      <td>...</td>\n",
              "      <td>...</td>\n",
              "      <td>...</td>\n",
              "      <td>...</td>\n",
              "      <td>...</td>\n",
              "      <td>...</td>\n",
              "      <td>...</td>\n",
              "      <td>...</td>\n",
              "      <td>...</td>\n",
              "      <td>...</td>\n",
              "      <td>...</td>\n",
              "      <td>...</td>\n",
              "      <td>...</td>\n",
              "      <td>...</td>\n",
              "      <td>...</td>\n",
              "      <td>...</td>\n",
              "      <td>...</td>\n",
              "      <td>...</td>\n",
              "      <td>...</td>\n",
              "      <td>...</td>\n",
              "      <td>...</td>\n",
              "      <td>...</td>\n",
              "      <td>...</td>\n",
              "      <td>...</td>\n",
              "      <td>...</td>\n",
              "      <td>...</td>\n",
              "      <td>...</td>\n",
              "      <td>...</td>\n",
              "      <td>...</td>\n",
              "      <td>...</td>\n",
              "      <td>...</td>\n",
              "      <td>...</td>\n",
              "      <td>...</td>\n",
              "      <td>...</td>\n",
              "      <td>...</td>\n",
              "      <td>...</td>\n",
              "      <td>...</td>\n",
              "      <td>...</td>\n",
              "      <td>...</td>\n",
              "      <td>...</td>\n",
              "      <td>...</td>\n",
              "      <td>...</td>\n",
              "      <td>...</td>\n",
              "      <td>...</td>\n",
              "      <td>...</td>\n",
              "    </tr>\n",
              "    <tr>\n",
              "      <th>MB-7295</th>\n",
              "      <td>-53.750806</td>\n",
              "      <td>-14.000085</td>\n",
              "      <td>14.029072</td>\n",
              "      <td>0.058343</td>\n",
              "      <td>-16.360138</td>\n",
              "      <td>4.571331</td>\n",
              "      <td>-2.105399</td>\n",
              "      <td>-25.219529</td>\n",
              "      <td>10.159343</td>\n",
              "      <td>2.450129</td>\n",
              "      <td>-9.269541</td>\n",
              "      <td>-16.606511</td>\n",
              "      <td>2.261490</td>\n",
              "      <td>6.452130</td>\n",
              "      <td>4.522338</td>\n",
              "      <td>-21.766290</td>\n",
              "      <td>13.744185</td>\n",
              "      <td>-5.659863</td>\n",
              "      <td>3.227299</td>\n",
              "      <td>-3.263813</td>\n",
              "      <td>4.739616</td>\n",
              "      <td>0.574364</td>\n",
              "      <td>2.016870</td>\n",
              "      <td>-2.744937</td>\n",
              "      <td>-3.603483</td>\n",
              "      <td>2.671020</td>\n",
              "      <td>0.001071</td>\n",
              "      <td>3.718569</td>\n",
              "      <td>-7.527320</td>\n",
              "      <td>-2.998397</td>\n",
              "      <td>2.537250</td>\n",
              "      <td>3.107558</td>\n",
              "      <td>-1.833028</td>\n",
              "      <td>1.794484</td>\n",
              "      <td>-6.371566</td>\n",
              "      <td>1.210248</td>\n",
              "      <td>-5.444738</td>\n",
              "      <td>0.537945</td>\n",
              "      <td>-0.450586</td>\n",
              "      <td>6.572764</td>\n",
              "      <td>...</td>\n",
              "      <td>3.685171</td>\n",
              "      <td>0.778477</td>\n",
              "      <td>2.603902</td>\n",
              "      <td>0.054858</td>\n",
              "      <td>1.189860</td>\n",
              "      <td>1.523116</td>\n",
              "      <td>2.360756</td>\n",
              "      <td>4.561651</td>\n",
              "      <td>3.875571</td>\n",
              "      <td>-1.857774</td>\n",
              "      <td>1.602791</td>\n",
              "      <td>1.023243</td>\n",
              "      <td>0.016935</td>\n",
              "      <td>-3.843776</td>\n",
              "      <td>-1.739499</td>\n",
              "      <td>-1.462767</td>\n",
              "      <td>-1.361524</td>\n",
              "      <td>1.346448</td>\n",
              "      <td>-1.763966</td>\n",
              "      <td>3.247038</td>\n",
              "      <td>-1.126216</td>\n",
              "      <td>2.044713</td>\n",
              "      <td>1.737921</td>\n",
              "      <td>1.984392</td>\n",
              "      <td>0.454131</td>\n",
              "      <td>-0.148500</td>\n",
              "      <td>-2.034369</td>\n",
              "      <td>-2.895778</td>\n",
              "      <td>-1.993254</td>\n",
              "      <td>0.292204</td>\n",
              "      <td>-2.374826</td>\n",
              "      <td>0.785875</td>\n",
              "      <td>-1.730289</td>\n",
              "      <td>-1.642383</td>\n",
              "      <td>0.122594</td>\n",
              "      <td>0.711104</td>\n",
              "      <td>-0.549718</td>\n",
              "      <td>-0.216062</td>\n",
              "      <td>0.848723</td>\n",
              "      <td>1.751705e-14</td>\n",
              "    </tr>\n",
              "    <tr>\n",
              "      <th>MB-7296</th>\n",
              "      <td>-29.468386</td>\n",
              "      <td>-2.709333</td>\n",
              "      <td>-41.615556</td>\n",
              "      <td>-20.812529</td>\n",
              "      <td>-15.614473</td>\n",
              "      <td>-13.251329</td>\n",
              "      <td>21.249874</td>\n",
              "      <td>-29.664969</td>\n",
              "      <td>4.591757</td>\n",
              "      <td>-12.438009</td>\n",
              "      <td>-10.705034</td>\n",
              "      <td>11.993966</td>\n",
              "      <td>12.562071</td>\n",
              "      <td>-11.451941</td>\n",
              "      <td>-11.195951</td>\n",
              "      <td>-3.310050</td>\n",
              "      <td>-4.287338</td>\n",
              "      <td>7.092391</td>\n",
              "      <td>16.654698</td>\n",
              "      <td>14.344953</td>\n",
              "      <td>-2.602643</td>\n",
              "      <td>-8.846704</td>\n",
              "      <td>-6.046172</td>\n",
              "      <td>-4.240327</td>\n",
              "      <td>-11.572669</td>\n",
              "      <td>0.942960</td>\n",
              "      <td>-0.104872</td>\n",
              "      <td>7.271036</td>\n",
              "      <td>-2.330361</td>\n",
              "      <td>9.788360</td>\n",
              "      <td>1.996357</td>\n",
              "      <td>-1.044588</td>\n",
              "      <td>11.200924</td>\n",
              "      <td>2.085934</td>\n",
              "      <td>4.772064</td>\n",
              "      <td>5.862739</td>\n",
              "      <td>-1.017947</td>\n",
              "      <td>19.256588</td>\n",
              "      <td>-3.784272</td>\n",
              "      <td>10.462158</td>\n",
              "      <td>...</td>\n",
              "      <td>1.833371</td>\n",
              "      <td>0.509005</td>\n",
              "      <td>-0.880533</td>\n",
              "      <td>0.763789</td>\n",
              "      <td>2.168712</td>\n",
              "      <td>0.046554</td>\n",
              "      <td>-0.286431</td>\n",
              "      <td>1.260957</td>\n",
              "      <td>-0.971522</td>\n",
              "      <td>-0.637304</td>\n",
              "      <td>-0.064544</td>\n",
              "      <td>0.070993</td>\n",
              "      <td>-1.145455</td>\n",
              "      <td>1.583347</td>\n",
              "      <td>0.836539</td>\n",
              "      <td>-1.004395</td>\n",
              "      <td>-1.818034</td>\n",
              "      <td>-0.411377</td>\n",
              "      <td>-0.553046</td>\n",
              "      <td>0.292564</td>\n",
              "      <td>1.255863</td>\n",
              "      <td>-0.100451</td>\n",
              "      <td>-1.538122</td>\n",
              "      <td>-0.987596</td>\n",
              "      <td>-1.270177</td>\n",
              "      <td>0.822204</td>\n",
              "      <td>0.728565</td>\n",
              "      <td>0.665120</td>\n",
              "      <td>0.206317</td>\n",
              "      <td>-0.163708</td>\n",
              "      <td>-0.102737</td>\n",
              "      <td>-0.405815</td>\n",
              "      <td>-0.237679</td>\n",
              "      <td>0.154733</td>\n",
              "      <td>0.420103</td>\n",
              "      <td>0.860489</td>\n",
              "      <td>0.591535</td>\n",
              "      <td>0.426706</td>\n",
              "      <td>0.383709</td>\n",
              "      <td>1.751705e-14</td>\n",
              "    </tr>\n",
              "    <tr>\n",
              "      <th>MB-7297</th>\n",
              "      <td>-45.830456</td>\n",
              "      <td>-11.194512</td>\n",
              "      <td>-44.015402</td>\n",
              "      <td>-26.589000</td>\n",
              "      <td>-17.019710</td>\n",
              "      <td>-34.567341</td>\n",
              "      <td>26.032983</td>\n",
              "      <td>-23.706898</td>\n",
              "      <td>8.559684</td>\n",
              "      <td>1.054250</td>\n",
              "      <td>-19.417409</td>\n",
              "      <td>8.851573</td>\n",
              "      <td>-6.145845</td>\n",
              "      <td>3.231279</td>\n",
              "      <td>-3.818533</td>\n",
              "      <td>3.720139</td>\n",
              "      <td>2.776139</td>\n",
              "      <td>-5.270387</td>\n",
              "      <td>-6.516246</td>\n",
              "      <td>1.472509</td>\n",
              "      <td>0.986859</td>\n",
              "      <td>8.486413</td>\n",
              "      <td>13.858577</td>\n",
              "      <td>-6.110362</td>\n",
              "      <td>3.156667</td>\n",
              "      <td>8.362481</td>\n",
              "      <td>-0.445181</td>\n",
              "      <td>4.449505</td>\n",
              "      <td>-6.483446</td>\n",
              "      <td>-0.580279</td>\n",
              "      <td>-7.521386</td>\n",
              "      <td>-2.752825</td>\n",
              "      <td>-6.366750</td>\n",
              "      <td>8.315878</td>\n",
              "      <td>0.464477</td>\n",
              "      <td>5.360628</td>\n",
              "      <td>-12.787044</td>\n",
              "      <td>5.702019</td>\n",
              "      <td>5.618253</td>\n",
              "      <td>2.463449</td>\n",
              "      <td>...</td>\n",
              "      <td>-1.351815</td>\n",
              "      <td>-0.249289</td>\n",
              "      <td>0.196624</td>\n",
              "      <td>-2.114393</td>\n",
              "      <td>0.437166</td>\n",
              "      <td>-1.577265</td>\n",
              "      <td>0.483183</td>\n",
              "      <td>0.357527</td>\n",
              "      <td>0.614752</td>\n",
              "      <td>0.075703</td>\n",
              "      <td>-0.239949</td>\n",
              "      <td>-0.682675</td>\n",
              "      <td>-0.789841</td>\n",
              "      <td>-0.827943</td>\n",
              "      <td>0.128026</td>\n",
              "      <td>-0.863188</td>\n",
              "      <td>0.104444</td>\n",
              "      <td>-0.502015</td>\n",
              "      <td>0.570389</td>\n",
              "      <td>-0.509665</td>\n",
              "      <td>0.819343</td>\n",
              "      <td>-2.507895</td>\n",
              "      <td>1.288097</td>\n",
              "      <td>-1.534928</td>\n",
              "      <td>0.685785</td>\n",
              "      <td>-0.953518</td>\n",
              "      <td>-0.196455</td>\n",
              "      <td>-0.048203</td>\n",
              "      <td>-0.119289</td>\n",
              "      <td>0.322486</td>\n",
              "      <td>-0.376234</td>\n",
              "      <td>-0.880681</td>\n",
              "      <td>0.313264</td>\n",
              "      <td>-0.659754</td>\n",
              "      <td>0.252839</td>\n",
              "      <td>-0.107448</td>\n",
              "      <td>-0.243040</td>\n",
              "      <td>-0.597352</td>\n",
              "      <td>-0.109494</td>\n",
              "      <td>1.751705e-14</td>\n",
              "    </tr>\n",
              "    <tr>\n",
              "      <th>MB-7298</th>\n",
              "      <td>-39.299510</td>\n",
              "      <td>-17.227056</td>\n",
              "      <td>-22.255548</td>\n",
              "      <td>-15.431778</td>\n",
              "      <td>-4.012030</td>\n",
              "      <td>-30.312192</td>\n",
              "      <td>18.800375</td>\n",
              "      <td>-17.949682</td>\n",
              "      <td>-0.812244</td>\n",
              "      <td>-2.628976</td>\n",
              "      <td>0.712042</td>\n",
              "      <td>-2.844771</td>\n",
              "      <td>-11.953740</td>\n",
              "      <td>-8.858561</td>\n",
              "      <td>-2.023654</td>\n",
              "      <td>5.088132</td>\n",
              "      <td>3.501606</td>\n",
              "      <td>2.439210</td>\n",
              "      <td>-4.258592</td>\n",
              "      <td>-4.445009</td>\n",
              "      <td>-4.131188</td>\n",
              "      <td>6.981058</td>\n",
              "      <td>-0.724449</td>\n",
              "      <td>-1.163445</td>\n",
              "      <td>-5.084074</td>\n",
              "      <td>-8.496357</td>\n",
              "      <td>-10.240292</td>\n",
              "      <td>5.199849</td>\n",
              "      <td>-7.151445</td>\n",
              "      <td>-12.372232</td>\n",
              "      <td>1.619007</td>\n",
              "      <td>4.081224</td>\n",
              "      <td>4.857324</td>\n",
              "      <td>-5.954564</td>\n",
              "      <td>-7.630138</td>\n",
              "      <td>1.719960</td>\n",
              "      <td>-16.741328</td>\n",
              "      <td>-2.912231</td>\n",
              "      <td>11.975035</td>\n",
              "      <td>12.222952</td>\n",
              "      <td>...</td>\n",
              "      <td>-1.359155</td>\n",
              "      <td>-0.654766</td>\n",
              "      <td>-1.628984</td>\n",
              "      <td>0.318376</td>\n",
              "      <td>0.072610</td>\n",
              "      <td>0.386802</td>\n",
              "      <td>2.885075</td>\n",
              "      <td>0.178738</td>\n",
              "      <td>0.257735</td>\n",
              "      <td>0.936059</td>\n",
              "      <td>-1.463223</td>\n",
              "      <td>-0.126594</td>\n",
              "      <td>2.409341</td>\n",
              "      <td>0.083185</td>\n",
              "      <td>-2.092251</td>\n",
              "      <td>1.545924</td>\n",
              "      <td>-3.061278</td>\n",
              "      <td>2.839203</td>\n",
              "      <td>2.190251</td>\n",
              "      <td>-0.052454</td>\n",
              "      <td>-0.197592</td>\n",
              "      <td>1.717899</td>\n",
              "      <td>1.536676</td>\n",
              "      <td>-0.933200</td>\n",
              "      <td>-1.023451</td>\n",
              "      <td>-1.073351</td>\n",
              "      <td>-1.133091</td>\n",
              "      <td>-1.402561</td>\n",
              "      <td>-0.665645</td>\n",
              "      <td>0.034200</td>\n",
              "      <td>-1.126905</td>\n",
              "      <td>1.843904</td>\n",
              "      <td>-0.816770</td>\n",
              "      <td>-1.289157</td>\n",
              "      <td>0.478616</td>\n",
              "      <td>0.460191</td>\n",
              "      <td>-0.745861</td>\n",
              "      <td>-0.041227</td>\n",
              "      <td>-0.013961</td>\n",
              "      <td>1.751705e-14</td>\n",
              "    </tr>\n",
              "    <tr>\n",
              "      <th>MB-7299</th>\n",
              "      <td>-41.774784</td>\n",
              "      <td>17.849834</td>\n",
              "      <td>-8.392782</td>\n",
              "      <td>-7.127242</td>\n",
              "      <td>-10.903846</td>\n",
              "      <td>-23.121840</td>\n",
              "      <td>25.619045</td>\n",
              "      <td>-14.450496</td>\n",
              "      <td>6.050463</td>\n",
              "      <td>-7.644791</td>\n",
              "      <td>-2.955698</td>\n",
              "      <td>-4.922830</td>\n",
              "      <td>11.186492</td>\n",
              "      <td>1.607950</td>\n",
              "      <td>10.180140</td>\n",
              "      <td>-4.973780</td>\n",
              "      <td>1.452098</td>\n",
              "      <td>4.382390</td>\n",
              "      <td>-4.033740</td>\n",
              "      <td>-20.456849</td>\n",
              "      <td>5.328672</td>\n",
              "      <td>6.579806</td>\n",
              "      <td>-0.776010</td>\n",
              "      <td>-7.719529</td>\n",
              "      <td>10.911654</td>\n",
              "      <td>-9.050241</td>\n",
              "      <td>8.217427</td>\n",
              "      <td>4.233457</td>\n",
              "      <td>6.839144</td>\n",
              "      <td>-13.265310</td>\n",
              "      <td>-4.990599</td>\n",
              "      <td>-10.295872</td>\n",
              "      <td>-16.663282</td>\n",
              "      <td>-3.965062</td>\n",
              "      <td>-8.369667</td>\n",
              "      <td>7.074812</td>\n",
              "      <td>-2.229279</td>\n",
              "      <td>0.002338</td>\n",
              "      <td>-1.420374</td>\n",
              "      <td>0.631138</td>\n",
              "      <td>...</td>\n",
              "      <td>-0.367497</td>\n",
              "      <td>-0.542674</td>\n",
              "      <td>1.057717</td>\n",
              "      <td>1.555064</td>\n",
              "      <td>-0.908864</td>\n",
              "      <td>0.317046</td>\n",
              "      <td>-0.801009</td>\n",
              "      <td>-1.249930</td>\n",
              "      <td>-1.623186</td>\n",
              "      <td>-1.354487</td>\n",
              "      <td>-0.015174</td>\n",
              "      <td>0.179887</td>\n",
              "      <td>-0.298576</td>\n",
              "      <td>0.703182</td>\n",
              "      <td>1.879712</td>\n",
              "      <td>0.414868</td>\n",
              "      <td>0.475411</td>\n",
              "      <td>-0.021321</td>\n",
              "      <td>0.663814</td>\n",
              "      <td>-0.223978</td>\n",
              "      <td>-1.133276</td>\n",
              "      <td>2.196358</td>\n",
              "      <td>0.769264</td>\n",
              "      <td>-0.194045</td>\n",
              "      <td>-0.633754</td>\n",
              "      <td>1.553159</td>\n",
              "      <td>-0.732278</td>\n",
              "      <td>1.352800</td>\n",
              "      <td>-0.622235</td>\n",
              "      <td>-0.540968</td>\n",
              "      <td>0.282404</td>\n",
              "      <td>-0.903610</td>\n",
              "      <td>0.479989</td>\n",
              "      <td>-0.386578</td>\n",
              "      <td>-0.026473</td>\n",
              "      <td>0.034829</td>\n",
              "      <td>-0.110373</td>\n",
              "      <td>0.120063</td>\n",
              "      <td>0.234099</td>\n",
              "      <td>1.751705e-14</td>\n",
              "    </tr>\n",
              "  </tbody>\n",
              "</table>\n",
              "<p>1893 rows × 1893 columns</p>\n",
              "</div>"
            ],
            "text/plain": [
              "               pc1        pc2        pc3  ...    pc1891    pc1892        pc1893\n",
              "MB-0000 -47.640486   5.288796  55.741782  ... -0.765193  0.299690  1.751705e-14\n",
              "MB-0002 -10.294739 -33.754227 -15.595111  ...  0.929743 -0.045654  1.751705e-14\n",
              "MB-0005 -96.315144 -25.915153 -28.011573  ...  0.282431 -0.938761  1.751705e-14\n",
              "MB-0006 -87.953656 -22.978020 -45.827162  ... -0.102098  0.741870  1.751705e-14\n",
              "MB-0008 -23.988893 -10.059267 -24.307644  ... -0.641555  0.418175  1.751705e-14\n",
              "...            ...        ...        ...  ...       ...       ...           ...\n",
              "MB-7295 -53.750806 -14.000085  14.029072  ... -0.216062  0.848723  1.751705e-14\n",
              "MB-7296 -29.468386  -2.709333 -41.615556  ...  0.426706  0.383709  1.751705e-14\n",
              "MB-7297 -45.830456 -11.194512 -44.015402  ... -0.597352 -0.109494  1.751705e-14\n",
              "MB-7298 -39.299510 -17.227056 -22.255548  ... -0.041227 -0.013961  1.751705e-14\n",
              "MB-7299 -41.774784  17.849834  -8.392782  ...  0.120063  0.234099  1.751705e-14\n",
              "\n",
              "[1893 rows x 1893 columns]"
            ]
          },
          "metadata": {
            "tags": []
          },
          "execution_count": 62
        }
      ]
    },
    {
      "cell_type": "markdown",
      "metadata": {
        "colab_type": "text",
        "id": "1ERnjKTMe2Nj"
      },
      "source": [
        "**3) Determine # of Components and Variance**"
      ]
    },
    {
      "cell_type": "code",
      "metadata": {
        "colab_type": "code",
        "id": "anB37-Bse2N8",
        "colab": {
          "base_uri": "https://localhost:8080/",
          "height": 295
        },
        "outputId": "9bdd5952-e44f-47f0-c139-9eb08882e7bf"
      },
      "source": [
        "#Plotting the Cumulative Summation of the Explained Variance\n",
        "plt.figure()\n",
        "plt.plot(np.cumsum(pca.explained_variance_ratio_))\n",
        "plt.xlabel('Number of Components')\n",
        "plt.ylabel('Variance (%)') #for each component\n",
        "plt.title('Gene Expression Explained Variance')\n",
        "plt.show()"
      ],
      "execution_count": 63,
      "outputs": [
        {
          "output_type": "display_data",
          "data": {
            "image/png": "[encoded data removed]",
            "text/plain": [
              "<Figure size 432x288 with 1 Axes>"
            ]
          },
          "metadata": {
            "tags": []
          }
        }
      ]
    },
    {
      "cell_type": "markdown",
      "metadata": {
        "colab_type": "text",
        "id": "_ntR3kSyfA8w"
      },
      "source": [
        "The plot tells us that with ~1300 components we can capture 90% of the data. "
      ]
    },
    {
      "cell_type": "markdown",
      "metadata": {
        "colab_type": "text",
        "id": "TW4-aX_0fkCF"
      },
      "source": [
        "**Alternative method - Pre-selecting % of variance**\n",
        "\n",
        "**Fit PCA to the data**"
      ]
    },
    {
      "cell_type": "code",
      "metadata": {
        "colab_type": "code",
        "id": "08TMwSQzfkCj",
        "colab": {}
      },
      "source": [
        "pca = PCA(0.9)\n",
        "x2 = pca.fit_transform(x)"
      ],
      "execution_count": 0,
      "outputs": []
    },
    {
      "cell_type": "code",
      "metadata": {
        "id": "etk-AvMGcPSx",
        "colab_type": "code",
        "colab": {}
      },
      "source": [
        "x2 = pd.DataFrame(data = x2)\n",
        "x2 #this is the 1306 principal components"
      ],
      "execution_count": 0,
      "outputs": []
    },
    {
      "cell_type": "markdown",
      "metadata": {
        "colab_type": "text",
        "id": "fjoKMBrkfkC6"
      },
      "source": [
        "**Determine the exact number of n_components needed to capture 0.9 variance**"
      ]
    },
    {
      "cell_type": "code",
      "metadata": {
        "colab_type": "code",
        "id": "O263KB9PfkDA",
        "colab": {
          "base_uri": "https://localhost:8080/",
          "height": 33
        },
        "outputId": "91948022-becd-4455-c7c8-04b1115adbf6"
      },
      "source": [
        "pca.n_components_"
      ],
      "execution_count": 66,
      "outputs": [
        {
          "output_type": "execute_result",
          "data": {
            "text/plain": [
              "1306"
            ]
          },
          "metadata": {
            "tags": []
          },
          "execution_count": 66
        }
      ]
    },
    {
      "cell_type": "markdown",
      "metadata": {
        "colab_type": "text",
        "id": "N_phdwqSfkDR"
      },
      "source": [
        "This function indicates that 1306 is the number of principal componenets needed to capture 90% of the variation which is what I had estimated from the above plot."
      ]
    },
    {
      "cell_type": "markdown",
      "metadata": {
        "id": "u-8HMNYOfb-T",
        "colab_type": "text"
      },
      "source": [
        "**Scree Plot**\n",
        "\n",
        "View which principal components contribute most to the variance "
      ]
    },
    {
      "cell_type": "code",
      "metadata": {
        "id": "5Naiy12_fmgd",
        "colab_type": "code",
        "colab": {
          "base_uri": "https://localhost:8080/",
          "height": 295
        },
        "outputId": "4b8d6ef9-e0fd-40db-d0f1-d8882aba94ee"
      },
      "source": [
        "# remove PC from \n",
        "per_var = np.round(pca.explained_variance_ratio_* 100, decimals=1)\n",
        "per_var = per_var[:10] #top 10 PC - this number is chosen just so that we can more easily view the plot\n",
        "labels = col_names[:10]\n",
        "\n",
        "plt.bar(x=range(1, len(per_var)+1), height = per_var, tick_label = labels)\n",
        "plt.ylabel('Percentage of Explained Variance')\n",
        "plt.xlabel('Prinicpal Component')\n",
        "plt.title('Scree Plot')\n",
        "plt.show()"
      ],
      "execution_count": 67,
      "outputs": [
        {
          "output_type": "display_data",
          "data": {
            "image/png": "[encoded data removed]",
            "text/plain": [
              "<Figure size 432x288 with 1 Axes>"
            ]
          },
          "metadata": {
            "tags": []
          }
        }
      ]
    },
    {
      "cell_type": "markdown",
      "metadata": {
        "id": "jRoImRth9d7x",
        "colab_type": "text"
      },
      "source": [
        "**Table with % Variance for the 1306 PCs making up 90% of the variance**"
      ]
    },
    {
      "cell_type": "code",
      "metadata": {
        "id": "_CSeS-DT9lqH",
        "colab_type": "code",
        "colab": {
          "base_uri": "https://localhost:8080/",
          "height": 245
        },
        "outputId": "c59c4e2e-85d8-462b-c835-5440782e9282"
      },
      "source": [
        "per_var_all = np.round(pca.explained_variance_ratio_* 100, decimals=1)\n",
        "per_var_all.shape # this shows the % variance explained for each component\n",
        "\n",
        "# convert to dataframe\n",
        "per_var_all = pd.DataFrame(per_var_all)\n",
        "\n",
        "# add prinicipal component labels\n",
        "per_var_all.index = col_names[:1306]\n",
        "\n",
        "# rename column 0\n",
        "cols = {'% Variance'}\n",
        "per_var_all.columns = cols\n",
        "\n",
        "# create a rolling calculation of the variance \n",
        "per_var_all['CumulativeVariance'] = per_var_all['% Variance'].cumsum()\n",
        "print(per_var_all)\n",
        "\n",
        "# save to csv \n",
        "per_var_all.to_csv('/content/drive/My Drive/Projects/Breast_Cancer_Classification/Processed_Data/component_variance_chart_90_1306.txt')"
      ],
      "execution_count": 68,
      "outputs": [
        {
          "output_type": "stream",
          "text": [
            "        % Variance  CumulativeVariance\n",
            "pc1            6.4                 6.4\n",
            "pc2            4.4                10.8\n",
            "pc3            3.2                14.0\n",
            "pc4            2.4                16.4\n",
            "pc5            2.1                18.5\n",
            "...            ...                 ...\n",
            "pc1302         0.0                63.1\n",
            "pc1303         0.0                63.1\n",
            "pc1304         0.0                63.1\n",
            "pc1305         0.0                63.1\n",
            "pc1306         0.0                63.1\n",
            "\n",
            "[1306 rows x 2 columns]\n"
          ],
          "name": "stdout"
        }
      ]
    },
    {
      "cell_type": "markdown",
      "metadata": {
        "id": "kbKCKk7EklZW",
        "colab_type": "text"
      },
      "source": [
        "**Draw PCA Plot**\n",
        "\n",
        "With the two primary principal components\n",
        "\n",
        "References: \n",
        "\n",
        "https://www.datacamp.com/community/tutorials/principal-component-analysis-in-python\n",
        "\n",
        "https://towardsdatascience.com/pca-using-python-scikit-learn-e653f8989e60"
      ]
    },
    {
      "cell_type": "code",
      "metadata": {
        "id": "Ju-lFlNjkqrl",
        "colab_type": "code",
        "colab": {
          "base_uri": "https://localhost:8080/",
          "height": 295
        },
        "outputId": "5866c2f3-fc82-44f1-86dc-36301859cb16"
      },
      "source": [
        "# Can use the function below with .sample to select a subset of PC components, making it more readible\n",
        "principalDf_samp = principalDf.sample(n = 500) # will need to change the dataframe principalDf below to prinicpalDf_samp if I use this function\n",
        "\n",
        "#plt.scatter(principalDf.pc1, principalDf.pc2)\n",
        "plt.title('Principal Components')\n",
        "plt.xlabel('PC1 - {0}%'.format(per_var[0]))\n",
        "plt.ylabel('PC2 - {0}%'.format(per_var[1]))\n",
        "\n",
        "# Replace Labels\n",
        "clinical_gene = clinical_gene.set_index(clinical_gene.patient_id)\n",
        "clinical_gene['vital_status'].replace(0, 'Lived',inplace=True)\n",
        "clinical_gene['vital_status'].replace(1, 'Died',inplace=True)\n",
        "\n",
        "# Create labels for the targets to be used to color the graphs\n",
        "targets = ['Lived', 'Died']\n",
        "colors = ['b', 'r']\n",
        "\n",
        "for target, color in zip(targets, colors):\n",
        "    indicesToKeep = clinical_gene['vital_status'] == target\n",
        "    plt.scatter(principalDf.loc[indicesToKeep, 'pc1'],\n",
        "                principalDf.loc[indicesToKeep, 'pc2'], c = color)\n",
        "\n",
        "# The labeled numbers are the indiviudal patients samples\n",
        "for sample in principalDf.index:\n",
        "  plt.annotate(sample, (principalDf.pc1.loc[sample], principalDf.pc2.loc[sample])) # my impression is that sample just indicates each row\n",
        "\n",
        "# Subset\n",
        "#sample_50 = principalDf.sample(n = 50)\n",
        "\n",
        "# This plot is interesting -- it looks like it's creating random samples, but still impossing it on the main graph because we are indeicating pc1 and pc2 still which all samples would be under\n",
        "#for sample in sample_50.index:\n",
        "#  plt.annotate(sample, (sample_50.pc1.loc[sample], sample_50.pc2.loc[sample]))\n",
        "#print(sample_50)\n",
        "\n",
        "#print(principalDf.sample) -- I believe sample is returning just all of the row labels -- hard to read though which is why I was trying to subset\n",
        "#print(principalDf.sample(n = 50))"
      ],
      "execution_count": 74,
      "outputs": [
        {
          "output_type": "display_data",
          "data": {
            "image/png": "[encoded data removed]",
            "text/plain": [
              "<Figure size 432x288 with 1 Axes>"
            ]
          },
          "metadata": {
            "tags": []
          }
        }
      ]
    },
    {
      "cell_type": "markdown",
      "metadata": {
        "id": "yj1slhOvq7R2",
        "colab_type": "text"
      },
      "source": [
        "**Determine Relevant Genes**\n",
        "\n",
        "Get the name of the top 10 genes that contribute most to pc1. The following code looks at the components of each pca - which is also called the loading scores. Sorting by the absolute value, allows us to identify which genes, in either the negative or positive direction, had the most infleunce on each prinicipal component.\n",
        "\n",
        "\n",
        "\n",
        "References: \n",
        "\n",
        "https://stackoverflow.com/questions/47370795/pca-on-sklearn-how-to-interpret-pca-components\n",
        "\n",
        "https://www.youtube.com/watch?v=FgakZw6K1QQ"
      ]
    },
    {
      "cell_type": "code",
      "metadata": {
        "id": "5L2d7XvVqimM",
        "colab_type": "code",
        "colab": {
          "base_uri": "https://localhost:8080/",
          "height": 196
        },
        "outputId": "d1e0b3cb-12ae-4f14-ed0f-c65015b68ddd"
      },
      "source": [
        "## first, get the loading scores\n",
        "loading_scores = pd.Series(pca.components_[0], index=features)\n",
        "\n",
        "## now sort the loading scores based on their magnitude\n",
        "sorted_loading_scores = loading_scores.abs().sort_values(ascending=False)\n",
        " \n",
        "# get the names of the top 10 genes\n",
        "top_10_genes = sorted_loading_scores[0:10].index.values\n",
        " \n",
        "## print the gene names and their scores (and +/- sign)\n",
        "print(loading_scores[top_10_genes])"
      ],
      "execution_count": 75,
      "outputs": [
        {
          "output_type": "stream",
          "text": [
            "SEPT15     -0.021538\n",
            "GLRX3      -0.021142\n",
            "ATP5F1     -0.021004\n",
            "CD237904    0.020674\n",
            "MMADHC     -0.020596\n",
            "AX747098    0.020581\n",
            "DQ896551   -0.020529\n",
            "PSMC1      -0.020428\n",
            "SDHD       -0.020230\n",
            "AK025793    0.020209\n",
            "dtype: float64\n"
          ],
          "name": "stdout"
        }
      ]
    },
    {
      "cell_type": "markdown",
      "metadata": {
        "id": "EG7w6zxOYM20",
        "colab_type": "text"
      },
      "source": [
        "**Loading Scores Test**\n",
        "\n",
        "We can also validate the above loading scores function by looking at the values obtained when just using pca.fit. First, we perform just the fit function on the original x which is the scaled/standardized data. Then we can view the compoenent/loading scores which allow us to examine which genes had the most influence for each component. It is the absolute value "
      ]
    },
    {
      "cell_type": "code",
      "metadata": {
        "id": "o3ciVW2jYMaK",
        "colab_type": "code",
        "colab": {
          "base_uri": "https://localhost:8080/",
          "height": 407
        },
        "outputId": "a850fcd6-acfd-4057-8c30-292b96f4af5e"
      },
      "source": [
        "# Test\n",
        "principalComponents = pca.fit(x)\n",
        "df_test = pd.DataFrame(pca.components_, columns=list(x.columns))  \n",
        "print(df_test.SEPT15)\n",
        "print(df_test.GLRX3)"
      ],
      "execution_count": 76,
      "outputs": [
        {
          "output_type": "stream",
          "text": [
            "0      -0.021538\n",
            "1      -0.003947\n",
            "2      -0.000131\n",
            "3       0.003751\n",
            "4      -0.007064\n",
            "          ...   \n",
            "1301    0.003216\n",
            "1302    0.001498\n",
            "1303    0.000650\n",
            "1304    0.007072\n",
            "1305   -0.001445\n",
            "Name: SEPT15, Length: 1306, dtype: float64\n",
            "0      -0.021142\n",
            "1       0.002568\n",
            "2      -0.006011\n",
            "3      -0.010048\n",
            "4       0.001143\n",
            "          ...   \n",
            "1301    0.001399\n",
            "1302   -0.001165\n",
            "1303    0.000208\n",
            "1304    0.001678\n",
            "1305    0.000236\n",
            "Name: GLRX3, Length: 1306, dtype: float64\n"
          ],
          "name": "stdout"
        }
      ]
    },
    {
      "cell_type": "code",
      "metadata": {
        "id": "EE1xQmGOpOAf",
        "colab_type": "code",
        "colab": {
          "base_uri": "https://localhost:8080/",
          "height": 33
        },
        "outputId": "96af631e-f1f5-4365-82d8-6a55dce2698d"
      },
      "source": [
        "pca.components_.shape # when we look at the shape, there are 1306 rows (components) and 24368 columns for the gene features "
      ],
      "execution_count": 77,
      "outputs": [
        {
          "output_type": "execute_result",
          "data": {
            "text/plain": [
              "(1306, 24368)"
            ]
          },
          "metadata": {
            "tags": []
          },
          "execution_count": 77
        }
      ]
    },
    {
      "cell_type": "markdown",
      "metadata": {
        "id": "dD1ZTkuETUzr",
        "colab_type": "text"
      },
      "source": [
        "**Select the Top 1306 Prinicipal Components that Explain 90 % of the Variance**"
      ]
    },
    {
      "cell_type": "code",
      "metadata": {
        "id": "9PG856HFThUH",
        "colab_type": "code",
        "colab": {}
      },
      "source": [
        "principalDf_1306 = principalDf.iloc[:,0:1306]"
      ],
      "execution_count": 0,
      "outputs": []
    },
    {
      "cell_type": "markdown",
      "metadata": {
        "id": "LnW0d9YFcCxE",
        "colab_type": "text"
      },
      "source": [
        "# **Next Steps**\n",
        "\n",
        "\n",
        "\n",
        "1.   We will assess logistic regression, random forests, and neural networks using 62 and 10 prinicpal components\n",
        "2.   We will assess clinical variables using logistic regression, random forests, and neural networks\n",
        "3.   We will assess logistic regression, random forets, and neural networks using prinicpal components and clinical data\n",
        "\n"
      ]
    }
  ]
}
