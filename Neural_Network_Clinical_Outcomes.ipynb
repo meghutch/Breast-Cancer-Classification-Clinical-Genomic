{
  "nbformat": 4,
  "nbformat_minor": 0,
  "metadata": {
    "colab": {
      "name": "Neural_Network_Clinical_Outcomes.ipynb",
      "provenance": [],
      "collapsed_sections": [],
      "include_colab_link": true
    },
    "kernelspec": {
      "name": "python3",
      "display_name": "Python 3"
    }
  },
  "cells": [
    {
      "cell_type": "markdown",
      "metadata": {
        "id": "view-in-github",
        "colab_type": "text"
      },
      "source": [
        "<a href=\"https://colab.research.google.com/github/meghutch/Breast-Cancer-Classification-Clinical-Genomic/blob/master/Neural_Network_Clinical_Outcomes.ipynb\" target=\"_parent\"><img src=\"https://colab.research.google.com/assets/colab-badge.svg\" alt=\"Open In Colab\"/></a>"
      ]
    },
    {
      "cell_type": "markdown",
      "metadata": {
        "id": "0ICfvGHiQnDI",
        "colab_type": "text"
      },
      "source": [
        "# **Predicting Clinical Outcomes of Breast Cancer Patients**\n",
        "\n",
        "**Author:** Meg Hutch\n",
        "\n",
        "**Date:** October 31, 2019\n",
        "\n",
        "**Objective:** Examining the data from Lee's ML course\n",
        "\n",
        "This project will investigate predicting the survival of patients diagnosed with breast cancer using\n",
        "the METABRIC (Molecular Taxonomy of Breast Cancer International Consortium) dataset [1, 2].\n",
        "METABRIC contains clinical and demographic data, DNA sequencing, copy-number, and gene\n",
        "expression data for over 2000 patients.\n",
        "\n",
        "**The first part of this analysis will examine whether low dimensional clinical data can be used to predict survivial (binary classification)**"
      ]
    },
    {
      "cell_type": "code",
      "metadata": {
        "id": "_pG01kP6UVC0",
        "colab_type": "code",
        "colab": {}
      },
      "source": [
        "import pandas as pd\n",
        "import numpy as np\n",
        "import matplotlib\n",
        "import matplotlib.pyplot as plt\n",
        "import matplotlib.colors\n",
        "import seaborn as sns"
      ],
      "execution_count": 0,
      "outputs": []
    },
    {
      "cell_type": "code",
      "metadata": {
        "id": "mamswLh8QkLR",
        "colab_type": "code",
        "colab": {
          "base_uri": "https://localhost:8080/",
          "height": 33
        },
        "outputId": "749a2818-3264-4728-a313-9604a176d2a1"
      },
      "source": [
        "# Connect Colab to google drive\n",
        "from google.colab import drive\n",
        "drive.mount('/content/drive')"
      ],
      "execution_count": 6,
      "outputs": [
        {
          "output_type": "stream",
          "text": [
            "Drive already mounted at /content/drive; to attempt to forcibly remount, call drive.mount(\"/content/drive\", force_remount=True).\n"
          ],
          "name": "stdout"
        }
      ]
    },
    {
      "cell_type": "code",
      "metadata": {
        "id": "Sds0C37hUMd_",
        "colab_type": "code",
        "colab": {}
      },
      "source": [
        "# Import Data\n",
        "bc_data = pd.read_csv('/content/drive/My Drive/Projects/Breast_Cancer_Classification/Data/data_clinical_patient.csv')"
      ],
      "execution_count": 0,
      "outputs": []
    },
    {
      "cell_type": "code",
      "metadata": {
        "id": "-HKDUxUMVzhs",
        "colab_type": "code",
        "colab": {}
      },
      "source": [
        "#bc_data.head()"
      ],
      "execution_count": 0,
      "outputs": []
    },
    {
      "cell_type": "markdown",
      "metadata": {
        "id": "kAKBHKzCa4DH",
        "colab_type": "text"
      },
      "source": [
        "# **Pre-Process Data**\n",
        "\n",
        "\n"
      ]
    },
    {
      "cell_type": "markdown",
      "metadata": {
        "id": "P42uFeTBlPX0",
        "colab_type": "text"
      },
      "source": [
        "Rows 0-3 contain definitions of data and data types. We can remove these"
      ]
    },
    {
      "cell_type": "code",
      "metadata": {
        "id": "g_Od_3KdbGQr",
        "colab_type": "code",
        "colab": {}
      },
      "source": [
        "bc_data = bc_data.iloc[4:]"
      ],
      "execution_count": 0,
      "outputs": []
    },
    {
      "cell_type": "markdown",
      "metadata": {
        "id": "prEZQHwscm0B",
        "colab_type": "text"
      },
      "source": [
        "Convert first row to header name"
      ]
    },
    {
      "cell_type": "code",
      "metadata": {
        "id": "ZWaxqLvXbO1T",
        "colab_type": "code",
        "colab": {}
      },
      "source": [
        "# Convert first row to header name\n",
        "bc_data = bc_data.rename(columns=bc_data.iloc[0]).drop(bc_data.index[0])"
      ],
      "execution_count": 0,
      "outputs": []
    },
    {
      "cell_type": "markdown",
      "metadata": {
        "id": "B0yvqaoNcy3I",
        "colab_type": "text"
      },
      "source": [
        "Convert column names to lowercase"
      ]
    },
    {
      "cell_type": "code",
      "metadata": {
        "id": "85VrahjfcP3S",
        "colab_type": "code",
        "colab": {}
      },
      "source": [
        "# Convert column names to lowercase\n",
        "bc_data.columns = map(str.lower, bc_data.columns)"
      ],
      "execution_count": 0,
      "outputs": []
    },
    {
      "cell_type": "markdown",
      "metadata": {
        "id": "9Xkv2nypc3pi",
        "colab_type": "text"
      },
      "source": [
        "# **Explore Data**"
      ]
    },
    {
      "cell_type": "markdown",
      "metadata": {
        "id": "48AzbwtVeMId",
        "colab_type": "text"
      },
      "source": [
        "**Total Number of Patients**"
      ]
    },
    {
      "cell_type": "code",
      "metadata": {
        "id": "pJDYGATKc9Cy",
        "colab_type": "code",
        "colab": {
          "base_uri": "https://localhost:8080/",
          "height": 33
        },
        "outputId": "ae7aaf0c-190f-4563-f35e-1d480a1a3e01"
      },
      "source": [
        "print('Total Number of Patients:', len(bc_data.index))"
      ],
      "execution_count": 12,
      "outputs": [
        {
          "output_type": "stream",
          "text": [
            "Total Number of Patients: 2509\n"
          ],
          "name": "stdout"
        }
      ]
    },
    {
      "cell_type": "markdown",
      "metadata": {
        "id": "8QhPQWmOmbOb",
        "colab_type": "text"
      },
      "source": [
        "**Remove any incomplete cases**"
      ]
    },
    {
      "cell_type": "code",
      "metadata": {
        "id": "3KMNveVEmd4S",
        "colab_type": "code",
        "colab": {}
      },
      "source": [
        "bc_data = bc_data.dropna()"
      ],
      "execution_count": 0,
      "outputs": []
    },
    {
      "cell_type": "markdown",
      "metadata": {
        "id": "lVUYoG0em0yg",
        "colab_type": "text"
      },
      "source": [
        "**Re-Examine Total Number of Patients**"
      ]
    },
    {
      "cell_type": "code",
      "metadata": {
        "id": "Ya3DtgqCm6Q6",
        "colab_type": "code",
        "colab": {
          "base_uri": "https://localhost:8080/",
          "height": 33
        },
        "outputId": "cada49d7-c1f9-433f-d241-7de5daabf836"
      },
      "source": [
        "print('Total Number of Patients after Removing NAs:', len(bc_data.index)) # This removes about 1000 patients from the analysis "
      ],
      "execution_count": 14,
      "outputs": [
        {
          "output_type": "stream",
          "text": [
            "Total Number of Patients after Removing NAs: 1519\n"
          ],
          "name": "stdout"
        }
      ]
    },
    {
      "cell_type": "markdown",
      "metadata": {
        "id": "2WtlCLbDnZPE",
        "colab_type": "text"
      },
      "source": [
        "**In the project directions, it says we can treat \"Died of Other Causes\" as living. Thus, change the category title as such.**"
      ]
    },
    {
      "cell_type": "code",
      "metadata": {
        "id": "92-6YOPUnT4y",
        "colab_type": "code",
        "colab": {}
      },
      "source": [
        "bc_data['vital_status'] = bc_data['vital_status'].replace({'Living': 'Living', 'Died of Disease': 'Died of Disease', 'Died of Other Causes': 'Living'})"
      ],
      "execution_count": 0,
      "outputs": []
    },
    {
      "cell_type": "markdown",
      "metadata": {
        "id": "-Qk2ZQEOoAV4",
        "colab_type": "text"
      },
      "source": [
        "**Examine Variable Names**"
      ]
    },
    {
      "cell_type": "code",
      "metadata": {
        "id": "hH4dLopKoBwR",
        "colab_type": "code",
        "colab": {
          "base_uri": "https://localhost:8080/",
          "height": 440
        },
        "outputId": "435c7653-8ae9-487f-fc0f-7c0a46022c45"
      },
      "source": [
        "bc_data.info()"
      ],
      "execution_count": 16,
      "outputs": [
        {
          "output_type": "stream",
          "text": [
            "<class 'pandas.core.frame.DataFrame'>\n",
            "Int64Index: 1519 entries, 6 to 1985\n",
            "Data columns (total 21 columns):\n",
            "patient_id                       1519 non-null object\n",
            "lymph_nodes_examined_positive    1519 non-null object\n",
            "npi                              1519 non-null object\n",
            "cellularity                      1519 non-null object\n",
            "chemotherapy                     1519 non-null object\n",
            "cohort                           1519 non-null object\n",
            "er_ihc                           1519 non-null object\n",
            "her2_snp6                        1519 non-null object\n",
            "hormone_therapy                  1519 non-null object\n",
            "inferred_menopausal_state        1519 non-null object\n",
            "intclust                         1519 non-null object\n",
            "age_at_diagnosis                 1519 non-null object\n",
            "os_months                        1519 non-null object\n",
            "os_status                        1519 non-null object\n",
            "claudin_subtype                  1519 non-null object\n",
            "threegene                        1519 non-null object\n",
            "vital_status                     1519 non-null object\n",
            "laterality                       1519 non-null object\n",
            "radio_therapy                    1519 non-null object\n",
            "histological_subtype             1519 non-null object\n",
            "breast_surgery                   1519 non-null object\n",
            "dtypes: object(21)\n",
            "memory usage: 261.1+ KB\n"
          ],
          "name": "stdout"
        }
      ]
    },
    {
      "cell_type": "markdown",
      "metadata": {
        "id": "4Cdw--Ybnz3G",
        "colab_type": "text"
      },
      "source": [
        "**Examine Variable Distributions**"
      ]
    },
    {
      "cell_type": "code",
      "metadata": {
        "colab_type": "code",
        "id": "VRllXFHnslSA",
        "colab": {
          "base_uri": "https://localhost:8080/",
          "height": 368
        },
        "outputId": "925c63ae-027c-4033-d176-c1c1818ce8aa"
      },
      "source": [
        "plt1 = bc_data.histological_subtype.value_counts().plot(kind=\"bar\")\n",
        "plt1.tick_params(axis=\"x\", labelsize=11, labelrotation= -45)\n",
        "plt1.set_title(\"Histological Subtype\")"
      ],
      "execution_count": 17,
      "outputs": [
        {
          "output_type": "execute_result",
          "data": {
            "text/plain": [
              "Text(0.5, 1.0, 'Histological Subtype')"
            ]
          },
          "metadata": {
            "tags": []
          },
          "execution_count": 17
        },
        {
          "output_type": "display_data",
          "data": {
            "image/png": "[encoded data removed]",
            "text/plain": [
              "<Figure size 432x288 with 1 Axes>"
            ]
          },
          "metadata": {
            "tags": []
          }
        }
      ]
    },
    {
      "cell_type": "code",
      "metadata": {
        "colab_type": "code",
        "id": "-o8WLbopslSI",
        "colab": {
          "base_uri": "https://localhost:8080/",
          "height": 356
        },
        "outputId": "ef201a10-366b-4dfa-a182-02a0a4d856ca"
      },
      "source": [
        "plt2 = bc_data.vital_status.value_counts().plot(kind=\"bar\")\n",
        "plt2.tick_params(axis=\"x\", labelsize=11, labelrotation= -45)\n",
        "plt2.set_title(\"Survival\")"
      ],
      "execution_count": 18,
      "outputs": [
        {
          "output_type": "execute_result",
          "data": {
            "text/plain": [
              "Text(0.5, 1.0, 'Survival')"
            ]
          },
          "metadata": {
            "tags": []
          },
          "execution_count": 18
        },
        {
          "output_type": "display_data",
          "data": {
            "image/png": "[encoded data removed]",
            "text/plain": [
              "<Figure size 432x288 with 1 Axes>"
            ]
          },
          "metadata": {
            "tags": []
          }
        }
      ]
    },
    {
      "cell_type": "code",
      "metadata": {
        "colab_type": "code",
        "id": "K01kgzkAslSL",
        "colab": {
          "base_uri": "https://localhost:8080/",
          "height": 381
        },
        "outputId": "6be17d95-b8bb-409a-c452-294d398ea1b1"
      },
      "source": [
        "plt3 = bc_data.threegene.value_counts().plot(kind=\"bar\")\n",
        "plt3.tick_params(axis=\"x\", labelsize=11, labelrotation= -45)\n",
        "plt3.set_title(\"Three Gene Classifier\")"
      ],
      "execution_count": 19,
      "outputs": [
        {
          "output_type": "execute_result",
          "data": {
            "text/plain": [
              "Text(0.5, 1.0, 'Three Gene Classifier')"
            ]
          },
          "metadata": {
            "tags": []
          },
          "execution_count": 19
        },
        {
          "output_type": "display_data",
          "data": {
            "image/png": "[encoded data removed]",
            "text/plain": [
              "<Figure size 432x288 with 1 Axes>"
            ]
          },
          "metadata": {
            "tags": []
          }
        }
      ]
    },
    {
      "cell_type": "code",
      "metadata": {
        "colab_type": "code",
        "id": "byp8nJ1eslSO",
        "colab": {
          "base_uri": "https://localhost:8080/",
          "height": 297
        },
        "outputId": "5ab20a27-5b86-49f3-c87b-db0d1b2c1244"
      },
      "source": [
        "plt4 = bc_data.cellularity.value_counts().plot(kind=\"bar\")\n",
        "plt4.tick_params(axis=\"x\", labelsize=11, labelrotation= 360)\n",
        "plt4.set_title(\"Cellularity\")"
      ],
      "execution_count": 20,
      "outputs": [
        {
          "output_type": "execute_result",
          "data": {
            "text/plain": [
              "Text(0.5, 1.0, 'Cellularity')"
            ]
          },
          "metadata": {
            "tags": []
          },
          "execution_count": 20
        },
        {
          "output_type": "display_data",
          "data": {
            "image/png": "[encoded data removed]",
            "text/plain": [
              "<Figure size 432x288 with 1 Axes>"
            ]
          },
          "metadata": {
            "tags": []
          }
        }
      ]
    },
    {
      "cell_type": "code",
      "metadata": {
        "colab_type": "code",
        "id": "wlztHaj0slSS",
        "colab": {
          "base_uri": "https://localhost:8080/",
          "height": 297
        },
        "outputId": "b57babd7-a357-48ec-89ee-f1907a57f3a1"
      },
      "source": [
        "plt5 = bc_data.chemotherapy.value_counts().plot(kind=\"bar\")\n",
        "plt5.tick_params(axis=\"x\", labelsize=11, labelrotation= 360)\n",
        "plt5.set_title(\"Chemotherapy\")"
      ],
      "execution_count": 21,
      "outputs": [
        {
          "output_type": "execute_result",
          "data": {
            "text/plain": [
              "Text(0.5, 1.0, 'Chemotherapy')"
            ]
          },
          "metadata": {
            "tags": []
          },
          "execution_count": 21
        },
        {
          "output_type": "display_data",
          "data": {
            "image/png": "[encoded data removed]",
            "text/plain": [
              "<Figure size 432x288 with 1 Axes>"
            ]
          },
          "metadata": {
            "tags": []
          }
        }
      ]
    },
    {
      "cell_type": "code",
      "metadata": {
        "colab_type": "code",
        "id": "Bj3TEWfLslST",
        "colab": {
          "base_uri": "https://localhost:8080/",
          "height": 295
        },
        "outputId": "3d9b78e4-84a9-40e3-ceda-b37cf2985524"
      },
      "source": [
        "# Convert object to float\n",
        "age = bc_data['age_at_diagnosis'].astype(float)\n",
        "\n",
        "# Define bins\n",
        "bin_edges = [0,10,20,30,40,50,60,70,80,90,100]\n",
        "\n",
        "plt.hist(age,\n",
        "         bins=bin_edges,\n",
        "         density=False,\n",
        "         histtype='bar',\n",
        "         color='b',\n",
        "         edgecolor='k',\n",
        "         alpha=0.5)\n",
        "\n",
        "plt.xlabel('Age')\n",
        "plt.ylabel('Number Patients')\n",
        "plt.title('Age at Diagnosis (years)')\n",
        "\n",
        "plt.show()"
      ],
      "execution_count": 22,
      "outputs": [
        {
          "output_type": "display_data",
          "data": {
            "image/png": "[encoded data removed]",
            "text/plain": [
              "<Figure size 432x288 with 1 Axes>"
            ]
          },
          "metadata": {
            "tags": []
          }
        }
      ]
    },
    {
      "cell_type": "code",
      "metadata": {
        "colab_type": "code",
        "id": "uBVDpNQrslSW",
        "colab": {
          "base_uri": "https://localhost:8080/",
          "height": 295
        },
        "outputId": "5a47cdb6-36c2-4513-85a6-72cbf98b1890"
      },
      "source": [
        "# Convert object to float\n",
        "os = bc_data['os_months'].astype(float)\n",
        "\n",
        "# Define bins\n",
        "bin_edges = [25,50,75,100,125,150,175,200,225,250,275,300,325]\n",
        "\n",
        "plt.hist(os,\n",
        "         bin_edges,\n",
        "         density=False,\n",
        "         histtype='bar',\n",
        "         color='b',\n",
        "         edgecolor='k',\n",
        "         alpha=0.5)\n",
        "\n",
        "plt.xlabel('Months')\n",
        "plt.ylabel('Number Patients')\n",
        "plt.title('Overall Surivival (months)')\n",
        "\n",
        "plt.show()"
      ],
      "execution_count": 23,
      "outputs": [
        {
          "output_type": "display_data",
          "data": {
            "image/png": "[encoded data removed]",
            "text/plain": [
              "<Figure size 432x288 with 1 Axes>"
            ]
          },
          "metadata": {
            "tags": []
          }
        }
      ]
    },
    {
      "cell_type": "markdown",
      "metadata": {
        "id": "ZGGctvqHpZNA",
        "colab_type": "text"
      },
      "source": [
        "**Examine Patient Outcomes**"
      ]
    },
    {
      "cell_type": "code",
      "metadata": {
        "id": "ghuzctC8pc2F",
        "colab_type": "code",
        "colab": {
          "base_uri": "https://localhost:8080/",
          "height": 437
        },
        "outputId": "70b86db1-c821-4b6f-cec9-955a57dd58fa"
      },
      "source": [
        "plt_out = bc_data.vital_status.value_counts().plot(kind=\"bar\")\n",
        "plt_out.tick_params(axis=\"x\", labelsize=11, labelrotation= -45)\n",
        "plt_out.set_title(\"Survival\")\n",
        "\n",
        "# Calculate Percents\n",
        "count_outcomes = bc_data.groupby(['vital_status']).size()\n",
        "print(count_outcomes)\n",
        "\n",
        "print('Percent Living: {:.1f}'.format(count_outcomes[\"Living\"]/len(bc_data.index)))\n",
        "print('Percent Died of Disease: {:.1f}'.format(count_outcomes[\"Died of Disease\"]/len(bc_data.index)))"
      ],
      "execution_count": 24,
      "outputs": [
        {
          "output_type": "stream",
          "text": [
            "vital_status\n",
            "Died of Disease     485\n",
            "Living             1034\n",
            "dtype: int64\n",
            "Percent Living: 0.7\n",
            "Percent Died of Disease: 0.3\n"
          ],
          "name": "stdout"
        },
        {
          "output_type": "display_data",
          "data": {
            "image/png": "[encoded data removed]",
            "text/plain": [
              "<Figure size 432x288 with 1 Axes>"
            ]
          },
          "metadata": {
            "tags": []
          }
        }
      ]
    },
    {
      "cell_type": "markdown",
      "metadata": {
        "id": "PwuC2fW8pbpA",
        "colab_type": "text"
      },
      "source": [
        "# **Pre-Process Data**#\n",
        "\n",
        "Because some categorical features have multiple categories, we need to use one-hot-encoding to represent these varaibles in the dataset. Just creating numeric levels won't always make sense in the case of features like caludin_subtype which are genomic classifications"
      ]
    },
    {
      "cell_type": "code",
      "metadata": {
        "id": "3Q-GNCprraJp",
        "colab_type": "code",
        "colab": {
          "base_uri": "https://localhost:8080/",
          "height": 261
        },
        "outputId": "d06e483a-2fbd-4579-910c-1c7a4f38af25"
      },
      "source": [
        "# Determine which variables we want to one-hot-encode\n",
        "print('Cellularity:', bc_data['cellularity'].unique())\n",
        "print('Chemotherapy:',bc_data['chemotherapy'].unique())\n",
        "print('Er_ihc:',bc_data['er_ihc'].unique())\n",
        "print('Her2_snp6:',bc_data['her2_snp6'].unique())\n",
        "print('Hormone Therapy:',bc_data['hormone_therapy'].unique())\n",
        "print('Inferred_menopausal_state:',bc_data['inferred_menopausal_state'].unique())\n",
        "print('Interclust:',bc_data['intclust'].unique())\n",
        "print('Claudin_Subtype:',bc_data['claudin_subtype'].unique())\n",
        "print('Threegene:',bc_data['threegene'].unique())\n",
        "print('Laterality:',bc_data['laterality'].unique())\n",
        "print('Radio_Therapy:',bc_data['radio_therapy'].unique())\n",
        "print('Histological_Subtype:',bc_data['histological_subtype'].unique())\n",
        "print('Breast_Surgery:',bc_data['breast_surgery'].unique())\n",
        "print('Vital_status:',bc_data['vital_status'].unique())"
      ],
      "execution_count": 25,
      "outputs": [
        {
          "output_type": "stream",
          "text": [
            "Cellularity: ['High' 'Moderate' 'Low']\n",
            "Chemotherapy: ['NO' 'YES']\n",
            "Er_ihc: ['Positve' 'Negative']\n",
            "Her2_snp6: ['NEUTRAL' 'GAIN' 'LOSS' 'UNDEF']\n",
            "Hormone Therapy: ['YES' 'NO']\n",
            "Inferred_menopausal_state: ['Pre' 'Post']\n",
            "Interclust: ['4ER+' '9' '7' '3' '8' '10' '5' '6' '1' '2' '4ER-']\n",
            "Claudin_Subtype: ['LumA' 'LumB' 'Her2' 'Normal' 'Basal' 'claudin-low' 'NC']\n",
            "Threegene: ['ER+/HER2- High Prolif' 'ER+/HER2- Low Prolif' 'ER-/HER2-' 'HER2+']\n",
            "Laterality: ['Right' 'Left']\n",
            "Radio_Therapy: ['YES' 'NO']\n",
            "Histological_Subtype: ['Ductal/NST' 'Mixed' 'Lobular' 'Tubular/ cribriform' 'Mucinous'\n",
            " 'Medullary' 'Other']\n",
            "Breast_Surgery: ['BREAST CONSERVING' 'MASTECTOMY']\n",
            "Vital_status: ['Living' 'Died of Disease']\n"
          ],
          "name": "stdout"
        }
      ]
    },
    {
      "cell_type": "code",
      "metadata": {
        "colab_type": "code",
        "id": "hpXs0AL6rksb",
        "colab": {}
      },
      "source": [
        "# Convert patinet_ids to row names first\n",
        "bc_data = bc_data.set_index(bc_data.patient_id)"
      ],
      "execution_count": 0,
      "outputs": []
    },
    {
      "cell_type": "code",
      "metadata": {
        "colab_type": "code",
        "id": "pJqbr_W0rsrN",
        "colab": {}
      },
      "source": [
        "# Create dataframe with the unchange varaibles - this will contain numeric variables\n",
        "bc_data1 = bc_data[['lymph_nodes_examined_positive', 'npi', 'age_at_diagnosis', 'os_months', 'vital_status']]\n",
        "\n",
        "# Seperate the dataframes into the varaibles that we will want to reshape - we can then recombine after - anything that has more than 2 levels\n",
        "\n",
        "# Cellularity\n",
        "cell_df = bc_data[['cellularity']]\n",
        "cell_df = pd.get_dummies(cell_df,prefix=['cellularity'])\n",
        "\n",
        "# Chemotherapy\n",
        "chemo_df = bc_data[['chemotherapy']]\n",
        "chemo_df = pd.get_dummies(chemo_df,prefix=['chemotherapy'])\n",
        "\n",
        "# Cohort\n",
        "cohort_df = bc_data[['cohort']]\n",
        "cohort_df = pd.get_dummies(cohort_df,prefix=['cohort'])\n",
        "\n",
        "# er_ihc\n",
        "er_df = bc_data[['er_ihc']]\n",
        "er_df = pd.get_dummies(er_df,prefix=['er_ihc'])\n",
        "\n",
        "# Her2_snp6\n",
        "her2_df = bc_data[['her2_snp6']]\n",
        "her2_df = pd.get_dummies(her2_df,prefix=['her2'])\n",
        "\n",
        "# Hormone Therapy\n",
        "ht_df = bc_data[['hormone_therapy']]\n",
        "ht_df = pd.get_dummies(ht_df,prefix=['hormone_therapy'])\n",
        "\n",
        "# Inferred Menopasual State\n",
        "ims_df = bc_data[['inferred_menopausal_state']]\n",
        "ims_df = pd.get_dummies(ims_df,prefix=['ims_df'])\n",
        "\n",
        "# Interclust\n",
        "intclust_df = bc_data[['intclust']]\n",
        "intclust_df = pd.get_dummies(intclust_df,prefix=['intclust'])\n",
        "\n",
        "# Claduin Subtype\n",
        "cs_df = bc_data[['claudin_subtype']]\n",
        "cs_df = pd.get_dummies(cs_df,prefix=['claudin_subtype'])\n",
        "\n",
        "# Threegene\n",
        "three_df = bc_data[['threegene']]\n",
        "three_df = pd.get_dummies(three_df,prefix=['threegene'])\n",
        "\n",
        "# Laterality\n",
        "lat_df = bc_data[['laterality']]\n",
        "lat_df = pd.get_dummies(lat_df,prefix=['laterality'])\n",
        "\n",
        "# Radiotherapy\n",
        "rt_df = bc_data[['radio_therapy']]\n",
        "rt_df = pd.get_dummies(rt_df,prefix=['radio_therapy'])\n",
        "\n",
        "# Histological_Subtype\n",
        "hist_df = bc_data[['histological_subtype']]\n",
        "hist_df = pd.get_dummies(hist_df,prefix=['hist'])\n",
        "\n",
        "# Breast Surgery\n",
        "surg_df = bc_data[['breast_surgery']]\n",
        "surg_df = pd.get_dummies(surg_df,prefix=['breast_surgery'])\n",
        "\n",
        "# Combine dataframes\n",
        "bc_data2 = cell_df.reset_index(drop=True).merge(her2_df.reset_index(drop=True), left_index=True, right_index=True)\n",
        "bc_data2 = bc_data2.reset_index(drop=True).merge(intclust_df.reset_index(drop=True), left_index=True, right_index=True)\n",
        "bc_data2 = bc_data2.reset_index(drop=True).merge(cs_df.reset_index(drop=True), left_index=True, right_index=True)\n",
        "bc_data2 = bc_data2.reset_index(drop=True).merge(three_df.reset_index(drop=True), left_index=True, right_index=True)\n",
        "bc_data2 = bc_data2.reset_index(drop=True).merge(hist_df.reset_index(drop=True), left_index=True, right_index=True)\n",
        "\n",
        "# Merge all data \n",
        "bc_data = bc_data2.reset_index(drop=True).merge(bc_data1.reset_index(drop=True), left_index=True, right_index=True)"
      ],
      "execution_count": 0,
      "outputs": []
    },
    {
      "cell_type": "code",
      "metadata": {
        "id": "wqRtZ1qprmfu",
        "colab_type": "code",
        "colab": {}
      },
      "source": [
        "#bc_data"
      ],
      "execution_count": 0,
      "outputs": []
    },
    {
      "cell_type": "markdown",
      "metadata": {
        "colab_type": "text",
        "id": "_E_xiDqgsQuv"
      },
      "source": [
        "Create dummy variables for Vital Status - Our Label"
      ]
    },
    {
      "cell_type": "code",
      "metadata": {
        "colab_type": "code",
        "id": "x0QlhIhysQuy",
        "colab": {}
      },
      "source": [
        "bc_data['vital_status'] = bc_data.vital_status.map({'Living': 0, 'Died of Disease': 1})"
      ],
      "execution_count": 0,
      "outputs": []
    },
    {
      "cell_type": "markdown",
      "metadata": {
        "colab_type": "text",
        "id": "yNDj16JSsW56"
      },
      "source": [
        "Covert numeric varaibles as such, right now they are all non-null objects"
      ]
    },
    {
      "cell_type": "code",
      "metadata": {
        "colab_type": "code",
        "id": "m7wveepYsW5_",
        "colab": {}
      },
      "source": [
        "bc_data = bc_data.astype(np.float32)"
      ],
      "execution_count": 0,
      "outputs": []
    },
    {
      "cell_type": "code",
      "metadata": {
        "colab_type": "code",
        "id": "dhi38nXMsW6D",
        "colab": {
          "base_uri": "https://localhost:8080/",
          "height": 765
        },
        "outputId": "dbdd2713-5dcf-4ed3-c668-5e8160eaa177"
      },
      "source": [
        "bc_data.info()"
      ],
      "execution_count": 31,
      "outputs": [
        {
          "output_type": "stream",
          "text": [
            "<class 'pandas.core.frame.DataFrame'>\n",
            "RangeIndex: 1519 entries, 0 to 1518\n",
            "Data columns (total 41 columns):\n",
            "cellularity_High                   1519 non-null float32\n",
            "cellularity_Low                    1519 non-null float32\n",
            "cellularity_Moderate               1519 non-null float32\n",
            "her2_GAIN                          1519 non-null float32\n",
            "her2_LOSS                          1519 non-null float32\n",
            "her2_NEUTRAL                       1519 non-null float32\n",
            "her2_UNDEF                         1519 non-null float32\n",
            "intclust_1                         1519 non-null float32\n",
            "intclust_10                        1519 non-null float32\n",
            "intclust_2                         1519 non-null float32\n",
            "intclust_3                         1519 non-null float32\n",
            "intclust_4ER+                      1519 non-null float32\n",
            "intclust_4ER-                      1519 non-null float32\n",
            "intclust_5                         1519 non-null float32\n",
            "intclust_6                         1519 non-null float32\n",
            "intclust_7                         1519 non-null float32\n",
            "intclust_8                         1519 non-null float32\n",
            "intclust_9                         1519 non-null float32\n",
            "claudin_subtype_Basal              1519 non-null float32\n",
            "claudin_subtype_Her2               1519 non-null float32\n",
            "claudin_subtype_LumA               1519 non-null float32\n",
            "claudin_subtype_LumB               1519 non-null float32\n",
            "claudin_subtype_NC                 1519 non-null float32\n",
            "claudin_subtype_Normal             1519 non-null float32\n",
            "claudin_subtype_claudin-low        1519 non-null float32\n",
            "threegene_ER+/HER2- High Prolif    1519 non-null float32\n",
            "threegene_ER+/HER2- Low Prolif     1519 non-null float32\n",
            "threegene_ER-/HER2-                1519 non-null float32\n",
            "threegene_HER2+                    1519 non-null float32\n",
            "hist_Ductal/NST                    1519 non-null float32\n",
            "hist_Lobular                       1519 non-null float32\n",
            "hist_Medullary                     1519 non-null float32\n",
            "hist_Mixed                         1519 non-null float32\n",
            "hist_Mucinous                      1519 non-null float32\n",
            "hist_Other                         1519 non-null float32\n",
            "hist_Tubular/ cribriform           1519 non-null float32\n",
            "lymph_nodes_examined_positive      1519 non-null float32\n",
            "npi                                1519 non-null float32\n",
            "age_at_diagnosis                   1519 non-null float32\n",
            "os_months                          1519 non-null float32\n",
            "vital_status                       1519 non-null float32\n",
            "dtypes: float32(41)\n",
            "memory usage: 243.4 KB\n"
          ],
          "name": "stdout"
        }
      ]
    },
    {
      "cell_type": "markdown",
      "metadata": {
        "id": "bvE2so2quSLS",
        "colab_type": "text"
      },
      "source": [
        "# **Predicting Clinical Outcomes**\n",
        "\n",
        "We will attempt to predict vital status using:\n",
        "\n",
        "* Logistic Regression\n",
        "* Random Forest\n",
        "* Neural Networks. \n",
        "\n",
        "Logistic regression and random forst classiers can help serve as a benchmark of performance once we develop our neural network classifier."
      ]
    },
    {
      "cell_type": "markdown",
      "metadata": {
        "id": "vKzlNG-xu4EN",
        "colab_type": "text"
      },
      "source": [
        "# **Training and Testing Split**\n",
        "\n",
        "For all of our classification methods, we will create a training and a testing set."
      ]
    },
    {
      "cell_type": "code",
      "metadata": {
        "id": "YxdYyZxEujxJ",
        "colab_type": "code",
        "colab": {}
      },
      "source": [
        "# Packagess\n",
        "from sklearn import preprocessing\n",
        "from sklearn.linear_model import LogisticRegression\n",
        "from sklearn.model_selection import train_test_split"
      ],
      "execution_count": 0,
      "outputs": []
    },
    {
      "cell_type": "markdown",
      "metadata": {
        "id": "qKwf3jzovYN0",
        "colab_type": "text"
      },
      "source": [
        "Format the bc_data into a features and label dataframe"
      ]
    },
    {
      "cell_type": "code",
      "metadata": {
        "id": "H421ISlCvf4d",
        "colab_type": "code",
        "colab": {}
      },
      "source": [
        "# Let x represent the input features; y the labels\n",
        "\n",
        "# Want to remove os_months, os_status, and vital_status from inputs since these are what we are trying to predict. We will include vital status as our label. I already remove os_status by leaving it out of pre-processing above, since I felt this was similar to vital_status\n",
        "\n",
        "# create x to represent the input features; y is the label; \n",
        "x =  bc_data.drop(['os_months', 'vital_status'], axis=1)\n",
        "y =  bc_data.vital_status"
      ],
      "execution_count": 0,
      "outputs": []
    },
    {
      "cell_type": "markdown",
      "metadata": {
        "id": "Jot8CaTpvfEP",
        "colab_type": "text"
      },
      "source": [
        "Split the data into testing and training sets"
      ]
    },
    {
      "cell_type": "code",
      "metadata": {
        "id": "zuPWs5pQv5d2",
        "colab_type": "code",
        "colab": {}
      },
      "source": [
        "X_train, X_test, y_train, y_test = train_test_split(x, y, test_size=0.25, random_state=25)"
      ],
      "execution_count": 0,
      "outputs": []
    },
    {
      "cell_type": "markdown",
      "metadata": {
        "id": "f7UGiy4twHbY",
        "colab_type": "text"
      },
      "source": [
        "View the shapes of the training and testing sets; the datasets ending in \"train\" are our training sets; similarly, those ending in \"test\" are the testing; x prefix always represents the input features, y the labels"
      ]
    },
    {
      "cell_type": "code",
      "metadata": {
        "id": "ujubXxyzwU14",
        "colab_type": "code",
        "colab": {
          "base_uri": "https://localhost:8080/",
          "height": 82
        },
        "outputId": "3ca0bca2-06e0-4add-bfca-7c8d72b35eaa"
      },
      "source": [
        "# Assess the trainig and testing sets previously created\n",
        "print('Training Features Shape:', X_train.shape)\n",
        "print('Training Labels Shape:', y_train.shape)\n",
        "print('Testing Features Shape:', X_test.shape)\n",
        "print('Testing Labels Shape:', y_test.shape)"
      ],
      "execution_count": 35,
      "outputs": [
        {
          "output_type": "stream",
          "text": [
            "Training Features Shape: (1139, 39)\n",
            "Training Labels Shape: (1139,)\n",
            "Testing Features Shape: (380, 39)\n",
            "Testing Labels Shape: (380,)\n"
          ],
          "name": "stdout"
        }
      ]
    },
    {
      "cell_type": "markdown",
      "metadata": {
        "id": "R2u1NBiEwYeS",
        "colab_type": "text"
      },
      "source": [
        "Examine the class distributions - these are similar splits between the training and testing sets. This is also representative of the number of cases throughout the entire dataset."
      ]
    },
    {
      "cell_type": "code",
      "metadata": {
        "id": "WzAqXr4pwX3M",
        "colab_type": "code",
        "colab": {
          "base_uri": "https://localhost:8080/",
          "height": 82
        },
        "outputId": "23b32350-6cdd-46c5-af4c-c512ecde9225"
      },
      "source": [
        "# Malignant = 1; Count the number of malignant and determine the percentage (traning has 426 values, testing has 143)\n",
        "print('Died of Diseases in Training Set:', np.count_nonzero(y_train == 1))\n",
        "print('Died of Diseases in Testing Set:', np.count_nonzero(y_test == 1))\n",
        "\n",
        "# Percents\n",
        "print('% Died of Diseases Cases in Training Set:', round(np.count_nonzero(y_train == 1)/1139*100,2))\n",
        "print('% Died of Diseases Cases in Testing Set:', round(np.count_nonzero(y_test == 1)/380*100,2))"
      ],
      "execution_count": 36,
      "outputs": [
        {
          "output_type": "stream",
          "text": [
            "Died of Diseases in Training Set: 373\n",
            "Died of Diseases in Testing Set: 112\n",
            "% Died of Diseases Cases in Training Set: 32.75\n",
            "% Died of Diseases Cases in Testing Set: 29.47\n"
          ],
          "name": "stdout"
        }
      ]
    },
    {
      "cell_type": "markdown",
      "metadata": {
        "id": "RaHX5zydw3H2",
        "colab_type": "text"
      },
      "source": [
        "# **Logistic Regression**\n",
        "\n",
        "These steps were followed from the following tutorial:\n",
        "\n",
        "https://www.datacamp.com/community/tutorials/understanding-logistic-regression-python"
      ]
    },
    {
      "cell_type": "markdown",
      "metadata": {
        "id": "0BdqKQJ2x0em",
        "colab_type": "text"
      },
      "source": [
        "**Define and Run the Model**"
      ]
    },
    {
      "cell_type": "code",
      "metadata": {
        "id": "3u4X6MFSxzox",
        "colab_type": "code",
        "colab": {
          "base_uri": "https://localhost:8080/",
          "height": 50
        },
        "outputId": "1a10e089-ae55-448e-f6a6-d0eebfc0aeac"
      },
      "source": [
        "# Instantiate the model (using default parameters)\n",
        "logreg = LogisticRegression()\n",
        "\n",
        "# fit the model with data\n",
        "logreg.fit(X_train, y_train)\n",
        "\n",
        "y_pred = logreg.predict(X_test)"
      ],
      "execution_count": 37,
      "outputs": [
        {
          "output_type": "stream",
          "text": [
            "/usr/local/lib/python3.6/dist-packages/sklearn/linear_model/logistic.py:432: FutureWarning: Default solver will be changed to 'lbfgs' in 0.22. Specify a solver to silence this warning.\n",
            "  FutureWarning)\n"
          ],
          "name": "stderr"
        }
      ]
    },
    {
      "cell_type": "markdown",
      "metadata": {
        "id": "xRDRV7DIyGL5",
        "colab_type": "text"
      },
      "source": [
        "**Model Evaluation Using Confusion Matrix**"
      ]
    },
    {
      "cell_type": "code",
      "metadata": {
        "id": "YyJQT7fHyLeP",
        "colab_type": "code",
        "colab": {
          "base_uri": "https://localhost:8080/",
          "height": 50
        },
        "outputId": "b3327372-c0cd-4ce3-adee-f39c79e49cb7"
      },
      "source": [
        "# import the metrics class\n",
        "from sklearn import metrics\n",
        "\n",
        "cnf_matrix = metrics.confusion_matrix(y_test, y_pred)\n",
        "cnf_matrix"
      ],
      "execution_count": 38,
      "outputs": [
        {
          "output_type": "execute_result",
          "data": {
            "text/plain": [
              "array([[239,  29],\n",
              "       [ 79,  33]])"
            ]
          },
          "metadata": {
            "tags": []
          },
          "execution_count": 38
        }
      ]
    },
    {
      "cell_type": "markdown",
      "metadata": {
        "id": "3CRpg41RySQT",
        "colab_type": "text"
      },
      "source": [
        "The confusion matrix generated above is in the form of an array. Diagnosal values represent accurate predictions, while non-diagonal elements are inaccurate predictions. The diagonal starting with the top left to the bottom right hand corner are actual predidictions, while the bottom left corner to the top right corner are incorrect predictions. "
      ]
    },
    {
      "cell_type": "code",
      "metadata": {
        "id": "O2BvUFrAy04x",
        "colab_type": "code",
        "colab": {
          "base_uri": "https://localhost:8080/",
          "height": 66
        },
        "outputId": "5f50cbdd-53cd-42ef-e0f5-1fe84159211c"
      },
      "source": [
        "print(\"Accuracy:\",round(metrics.accuracy_score(y_test, y_pred),3))\n",
        "print(\"Precision:\",round(metrics.precision_score(y_test, y_pred),3))\n",
        "print(\"Recall:\",round(metrics.recall_score(y_test, y_pred),3))"
      ],
      "execution_count": 39,
      "outputs": [
        {
          "output_type": "stream",
          "text": [
            "Accuracy: 0.716\n",
            "Precision: 0.532\n",
            "Recall: 0.295\n"
          ],
          "name": "stdout"
        }
      ]
    },
    {
      "cell_type": "markdown",
      "metadata": {
        "id": "oAZw8J4mzxsD",
        "colab_type": "text"
      },
      "source": [
        "**ROC**\n",
        "\n",
        "The Reciever Operating Characteristic (ROC) curve is a plot of the true positive rate against the false positive rate. It shows the tradeoff between sensitivity and specificity. "
      ]
    },
    {
      "cell_type": "code",
      "metadata": {
        "id": "y11_Tmpu39qG",
        "colab_type": "code",
        "colab": {
          "base_uri": "https://localhost:8080/",
          "height": 281
        },
        "outputId": "0b5fb5e2-10a5-448c-e20e-6313ad319ae8"
      },
      "source": [
        "y_pred_proba = logreg.predict_proba(X_test)[::,1]\n",
        "fpr, tpr, _ = metrics.roc_curve(y_test, y_pred_proba)\n",
        "auc = metrics.roc_auc_score(y_test, y_pred_proba)\n",
        "plt.plot(fpr, tpr, label = \"data 1, auc=\"+str(auc))\n",
        "plt.legend(loc=4)\n",
        "plt.show()\n",
        "print('AUC:', round(auc,3))"
      ],
      "execution_count": 40,
      "outputs": [
        {
          "output_type": "display_data",
          "data": {
            "image/png": "[encoded data removed]",
            "text/plain": [
              "<Figure size 432x288 with 1 Axes>"
            ]
          },
          "metadata": {
            "tags": []
          }
        },
        {
          "output_type": "stream",
          "text": [
            "AUC: 0.667\n"
          ],
          "name": "stdout"
        }
      ]
    },
    {
      "cell_type": "markdown",
      "metadata": {
        "id": "5M5jCMHP8COG",
        "colab_type": "text"
      },
      "source": [
        "# **Random Forest Classification**"
      ]
    },
    {
      "cell_type": "markdown",
      "metadata": {
        "id": "2GIPkb3jy0Hn",
        "colab_type": "text"
      },
      "source": [
        "I followed the tutorial here:  https://towardsdatascience.com/random-forest-in-python-24d0893d51c0 and https://stackabuse.com/random-forest-algorithm-with-python-and-scikit-learn/"
      ]
    },
    {
      "cell_type": "markdown",
      "metadata": {
        "id": "JpN91JbL9JOA",
        "colab_type": "text"
      },
      "source": [
        "**Train the Model**"
      ]
    },
    {
      "cell_type": "code",
      "metadata": {
        "id": "_dsBsgBv9LWy",
        "colab_type": "code",
        "colab": {
          "base_uri": "https://localhost:8080/",
          "height": 131
        },
        "outputId": "ace3f4a8-7c82-4032-b5bc-3d8cd06b98d7"
      },
      "source": [
        "# Import the model we are using\n",
        "from sklearn.ensemble import RandomForestClassifier\n",
        "\n",
        "# Instantiate model with 1000 decision trees\n",
        "rf = RandomForestClassifier(n_estimators = 1000, random_state = 42)\n",
        "\n",
        "# Train the model on training data\n",
        "rf.fit(X_train, y_train)"
      ],
      "execution_count": 41,
      "outputs": [
        {
          "output_type": "execute_result",
          "data": {
            "text/plain": [
              "RandomForestClassifier(bootstrap=True, class_weight=None, criterion='gini',\n",
              "                       max_depth=None, max_features='auto', max_leaf_nodes=None,\n",
              "                       min_impurity_decrease=0.0, min_impurity_split=None,\n",
              "                       min_samples_leaf=1, min_samples_split=2,\n",
              "                       min_weight_fraction_leaf=0.0, n_estimators=1000,\n",
              "                       n_jobs=None, oob_score=False, random_state=42, verbose=0,\n",
              "                       warm_start=False)"
            ]
          },
          "metadata": {
            "tags": []
          },
          "execution_count": 41
        }
      ]
    },
    {
      "cell_type": "markdown",
      "metadata": {
        "id": "FENSsY5l9aDT",
        "colab_type": "text"
      },
      "source": [
        "**Make Predictions on the Test Set**"
      ]
    },
    {
      "cell_type": "code",
      "metadata": {
        "id": "7yKF_xdj9dbD",
        "colab_type": "code",
        "colab": {
          "base_uri": "https://localhost:8080/",
          "height": 33
        },
        "outputId": "39fcdc8c-3170-4172-af7b-9ed0446b8368"
      },
      "source": [
        "# Use the forest's predict method on the test data\n",
        "predictions = rf.predict(X_test)\n",
        "# Probabilities for each class\n",
        "rf_probs = rf.predict_proba(X_test)[:, 1]\n",
        "\n",
        "# Calculate the absolute errors\n",
        "errors = abs(predictions - y_test)\n",
        "# Print out the mean absolute error (mae)\n",
        "print('Mean Absolute Error:', round(np.mean(errors), 2))"
      ],
      "execution_count": 42,
      "outputs": [
        {
          "output_type": "stream",
          "text": [
            "Mean Absolute Error: 0.31\n"
          ],
          "name": "stdout"
        }
      ]
    },
    {
      "cell_type": "markdown",
      "metadata": {
        "id": "p5pOirYXDrEn",
        "colab_type": "text"
      },
      "source": [
        "**Evaluating the Performance**\n",
        "\n",
        "For Classification Problems the metrics used to evaluate an algorithm are accuracy, confusion matrix, precision, recall, and F1 values.\n",
        "\n",
        "We can also perform cross-fold validation to have a better understanding of the results\n",
        "\n",
        "Reference: #https://medium.com/@hjhuney/implementing-a-random-forest-classification-model-in-python-583891c99652 "
      ]
    },
    {
      "cell_type": "markdown",
      "metadata": {
        "id": "Mu4eohUxFVaA",
        "colab_type": "text"
      },
      "source": [
        "**ROC on the Full Data**\n",
        "\n",
        "\n",
        "We make class predictions (predict) as well as predicted probabilities (predict_proba) to calculate the ROC AUC. Once we have the testing predictions, we can calculate the ROC AUC. https://towardsdatascience.com/an-implementation-and-explanation-of-the-random-forest-in-python-77bf308a9b76"
      ]
    },
    {
      "cell_type": "code",
      "metadata": {
        "id": "19CamuL7EZzB",
        "colab_type": "code",
        "colab": {}
      },
      "source": [
        "from sklearn.model_selection import cross_val_score\n",
        "from sklearn.metrics import classification_report, confusion_matrix, accuracy_score"
      ],
      "execution_count": 0,
      "outputs": []
    },
    {
      "cell_type": "code",
      "metadata": {
        "id": "WrO0-IuE-o0E",
        "colab_type": "code",
        "colab": {
          "base_uri": "https://localhost:8080/",
          "height": 33
        },
        "outputId": "f4151f84-f9ad-4517-faa2-a416d350a492"
      },
      "source": [
        "from sklearn.metrics import roc_auc_score\n",
        "\n",
        "# Calculate ROC AUC\n",
        "roc_value = roc_auc_score(y_test, rf_probs) \n",
        "\n",
        "roc_value"
      ],
      "execution_count": 44,
      "outputs": [
        {
          "output_type": "execute_result",
          "data": {
            "text/plain": [
              "0.6201692430703625"
            ]
          },
          "metadata": {
            "tags": []
          },
          "execution_count": 44
        }
      ]
    },
    {
      "cell_type": "code",
      "metadata": {
        "id": "fyKejE-yF88f",
        "colab_type": "code",
        "colab": {
          "base_uri": "https://localhost:8080/",
          "height": 265
        },
        "outputId": "5358a9ae-8fc8-4df8-ffa9-940293cce961"
      },
      "source": [
        "# Probabilities for each class\n",
        "# Note from scikit learn: re fpr and tpr: \"Since the thresholds are sorted from low to high values, they are reversed upon returning them to ensure they correspond to both fpr and tpr, which are sorted in reversed order during their calculation.\"\n",
        "rf_probs = rf.predict_proba(X_test)[:, 1]\n",
        "fpr, tpr, _ = metrics.roc_curve(y_test, rf_probs)\n",
        "auc = metrics.roc_auc_score(y_test, rf_probs)\n",
        "auc = round(auc, 4)\n",
        "plt.plot(fpr, tpr, label=\"date 1, auc=\"+str(auc))\n",
        "plt.legend(loc=4)\n",
        "plt.show()"
      ],
      "execution_count": 45,
      "outputs": [
        {
          "output_type": "display_data",
          "data": {
            "image/png": "[encoded data removed]",
            "text/plain": [
              "<Figure size 432x288 with 1 Axes>"
            ]
          },
          "metadata": {
            "tags": []
          }
        }
      ]
    },
    {
      "cell_type": "markdown",
      "metadata": {
        "id": "3U0IYU-uFzGZ",
        "colab_type": "text"
      },
      "source": [
        "**10 Cross-Fold Validation**"
      ]
    },
    {
      "cell_type": "code",
      "metadata": {
        "id": "gQRXv1rIE9UL",
        "colab_type": "code",
        "colab": {}
      },
      "source": [
        "rfc_cv_score = cross_val_score(rf, x, y, cv=10, scoring='roc_auc') "
      ],
      "execution_count": 0,
      "outputs": []
    },
    {
      "cell_type": "markdown",
      "metadata": {
        "id": "YEonYh2WEhkU",
        "colab_type": "text"
      },
      "source": [
        "Below, we also can examine the confusion matrix, the classification report containing precision, recall, f1-score, and support, All AUC scores, and the mean AUC score\n",
        "\n",
        "The **confusion matrix** is useful for giving false positives and false negatives\n",
        "\n",
        "The **ROC Curve** plots out the true positive rate vs the false positive rate at various thresholds\n",
        "\n",
        "The **ROC AUC Scoring** used in the cross-validation model shows the area under the ROC curve"
      ]
    },
    {
      "cell_type": "code",
      "metadata": {
        "id": "haZRHJqGcv9f",
        "colab_type": "code",
        "colab": {
          "base_uri": "https://localhost:8080/",
          "height": 472
        },
        "outputId": "0ae4411c-f999-4c39-9a15-3f1274c78796"
      },
      "source": [
        "print(\"=== Confusion Matrix ===\")\n",
        "print(confusion_matrix(y_test, predictions))\n",
        "print('\\n')\n",
        "print(\"=== Classification Report ===\")\n",
        "print(classification_report(y_test, predictions))\n",
        "print('\\n')\n",
        "print(\"=== All AUC Scores ===\")\n",
        "print(rfc_cv_score)\n",
        "print('\\n')\n",
        "print(\"=== Mean AUC Score ===\")\n",
        "print(\"Mean AUC Score - Random Forest: \", rfc_cv_score.mean())\n",
        "print('\\n')\n",
        "print(\"=== Accuracy Score ===\")\n",
        "print(\"Accuracy:\", accuracy_score(y_test, predictions))"
      ],
      "execution_count": 47,
      "outputs": [
        {
          "output_type": "stream",
          "text": [
            "=== Confusion Matrix ===\n",
            "[[224  44]\n",
            " [ 74  38]]\n",
            "\n",
            "\n",
            "=== Classification Report ===\n",
            "              precision    recall  f1-score   support\n",
            "\n",
            "         0.0       0.75      0.84      0.79       268\n",
            "         1.0       0.46      0.34      0.39       112\n",
            "\n",
            "    accuracy                           0.69       380\n",
            "   macro avg       0.61      0.59      0.59       380\n",
            "weighted avg       0.67      0.69      0.67       380\n",
            "\n",
            "\n",
            "\n",
            "=== All AUC Scores ===\n",
            "[0.69790031 0.65678964 0.64540816 0.66365777 0.5998613  0.6825445\n",
            " 0.603661   0.60032362 0.64037217 0.61165049]\n",
            "\n",
            "\n",
            "=== Mean AUC Score ===\n",
            "Mean AUC Score - Random Forest:  0.6402168970650247\n",
            "\n",
            "\n",
            "=== Accuracy Score ===\n",
            "Accuracy: 0.6894736842105263\n"
          ],
          "name": "stdout"
        }
      ]
    },
    {
      "cell_type": "markdown",
      "metadata": {
        "id": "q3zb1pR3vz0V",
        "colab_type": "text"
      },
      "source": [
        "# **Logistic Regression and Random Forest Results**\n",
        "\n",
        "**Logistic Regression classifier:**\n",
        "\n",
        "* AUC: 0.667\n",
        "* Accuracy: 0.716\n",
        "* Precision: 0.532\n",
        "* Recall: 0.295\n",
        "\n",
        "\n",
        "**Random Forest classifier:**\n",
        "\n",
        "* AUC: 0.62\n",
        "* AUC Mean 10 Fold Validation: 0.64\n",
        "* Accuracy 10 Fold Validation: 0.689"
      ]
    },
    {
      "cell_type": "markdown",
      "metadata": {
        "id": "420bkLBwGp6A",
        "colab_type": "text"
      },
      "source": [
        "# **PyTorch Neural Network For Classification**\n",
        "\n",
        "We will evaluate the use of a neural network classifier on the testing data as developed above and compare the outputs to the logistic regression and random forest classifiers above. "
      ]
    },
    {
      "cell_type": "code",
      "metadata": {
        "id": "jhs-KCueHlKj",
        "colab_type": "code",
        "colab": {}
      },
      "source": [
        "# Import PyTorch packages\n",
        "import torch\n",
        "from torch import nn\n",
        "from torchvision import datasets, transforms\n",
        "from torch import optim\n",
        "from torch.utils.data.sampler import SubsetRandomSampler\n",
        "from torch.utils.data.dataloader import DataLoader\n",
        "from torch.utils.data import TensorDataset\n",
        "import torch.nn.functional as F\n",
        "from sklearn.metrics import roc_curve, auc"
      ],
      "execution_count": 0,
      "outputs": []
    },
    {
      "cell_type": "markdown",
      "metadata": {
        "id": "9WMA1F7XxV8a",
        "colab_type": "text"
      },
      "source": [
        "**Format the Training Dataset**"
      ]
    },
    {
      "cell_type": "code",
      "metadata": {
        "id": "g7pj4XyVzUIZ",
        "colab_type": "code",
        "colab": {}
      },
      "source": [
        "# Convert data into arrays\n",
        "xb = np.array(X_train, dtype = \"float32\")\n",
        "yb = np.array(y_train, dtype = \"float32\")\n",
        "\n",
        "# Convert arrays into tensors\n",
        "xb = torch.from_numpy(xb)\n",
        "yb = torch.from_numpy(yb)\n",
        "\n",
        "# Combine the arrays\n",
        "trainloader = TensorDataset(xb, yb)\n",
        "\n",
        "# Define the batchsize\n",
        "batch_size = 32\n",
        "\n",
        "# Training Loader\n",
        "trainloader = DataLoader(trainloader, batch_size, shuffle=True)"
      ],
      "execution_count": 0,
      "outputs": []
    },
    {
      "cell_type": "markdown",
      "metadata": {
        "id": "UtV6u9fUzrxx",
        "colab_type": "text"
      },
      "source": [
        "**Format the Testing Dataset**"
      ]
    },
    {
      "cell_type": "code",
      "metadata": {
        "id": "4xoH_jHfzwc6",
        "colab_type": "code",
        "colab": {}
      },
      "source": [
        "# Convert data into arrays\n",
        "xb = np.array(X_test, dtype = \"float32\")\n",
        "yb = np.array(y_test, dtype = \"float32\")\n",
        "\n",
        "# Convert arrays into tensors\n",
        "xb = torch.from_numpy(xb)\n",
        "yb = torch.from_numpy(yb)\n",
        "\n",
        "# Combine the arrays\n",
        "testloader = TensorDataset(xb, yb) \n",
        "\n",
        "# Define the batchsize\n",
        "batch_size= 32\n",
        "\n",
        "# Training Loader\n",
        "testloader = DataLoader(testloader, batch_size, shuffle=True) "
      ],
      "execution_count": 0,
      "outputs": []
    },
    {
      "cell_type": "markdown",
      "metadata": {
        "id": "ZOzyQUmc0PJ6",
        "colab_type": "text"
      },
      "source": [
        "**Create Neural Network Model**"
      ]
    },
    {
      "cell_type": "code",
      "metadata": {
        "id": "j2XAPEny0Thm",
        "colab_type": "code",
        "colab": {
          "base_uri": "https://localhost:8080/",
          "height": 1000
        },
        "outputId": "c0e1ab03-8147-47d8-87d4-206ba20c919f"
      },
      "source": [
        "# Define the model with hidden layers - 39 inputs\n",
        "model = nn.Sequential(nn.Linear(39, 20),\n",
        "                      nn.ReLU(),\n",
        "                      nn.Linear(20, 10),\n",
        "                      nn.ReLU(),\n",
        "                      nn.Linear(10, 1), \n",
        "                      nn.Sigmoid())\n",
        "                      \n",
        "# Set optimizer and learning rate\n",
        "#optimizer = optim.SGD(model.parameters(), lr=0.003)\n",
        "\n",
        "# Could also use Adam optimizer; similar to stochastic gradient descent, but uses momentum which can speed up the actual fitting process, and it also adjusts the learning rate for each of the individual parameters in the model\n",
        "optimizer = optim.Adam(model.parameters(), lr=0.04)\n",
        "\n",
        "criterion = nn.BCELoss() # use with a sigmoid function\n",
        "\n",
        "#criterion = nn.CrossEntropyLoss() #don't use with softmax or sigmoid\n",
        "\n",
        "# Set epochs\n",
        "epochs = 100\n",
        "for e in range(epochs):\n",
        "    running_loss = 0\n",
        "    for xb, yb in trainloader:\n",
        "        \n",
        "        # Clear the gradients, do this because gradients are accumulated\n",
        "        optimizer.zero_grad()\n",
        "        \n",
        "        # Training pass\n",
        "        output = model.forward(xb)\n",
        "        loss = criterion(output, yb) # Loss calculated from the output compared to the labels  \n",
        "        loss.backward()\n",
        "        optimizer.step()\n",
        "        \n",
        "        running_loss += loss.item() # loss.item() gets the scalar value held in the loss. Running_loss = 0, \n",
        "        # += notation, says \"Add a value and the variable and assigns the result to that variable.\" So, adds the running_loss (0) with loss.item and assigns to running_loss\n",
        "    else:\n",
        "        print(f\"Training loss: {running_loss/len(trainloader)}\")"
      ],
      "execution_count": 51,
      "outputs": [
        {
          "output_type": "stream",
          "text": [
            "/usr/local/lib/python3.6/dist-packages/torch/nn/modules/loss.py:498: UserWarning: Using a target size (torch.Size([32])) that is different to the input size (torch.Size([32, 1])) is deprecated. Please ensure they have the same size.\n",
            "  return F.binary_cross_entropy(input, target, weight=self.weight, reduction=self.reduction)\n",
            "/usr/local/lib/python3.6/dist-packages/torch/nn/modules/loss.py:498: UserWarning: Using a target size (torch.Size([19])) that is different to the input size (torch.Size([19, 1])) is deprecated. Please ensure they have the same size.\n",
            "  return F.binary_cross_entropy(input, target, weight=self.weight, reduction=self.reduction)\n"
          ],
          "name": "stderr"
        },
        {
          "output_type": "stream",
          "text": [
            "Training loss: 0.6151959730519189\n",
            "Training loss: 0.594545447991954\n",
            "Training loss: 0.5828235861327913\n",
            "Training loss: 0.6032672731412781\n",
            "Training loss: 0.5875114873051643\n",
            "Training loss: 0.6046454302138753\n",
            "Training loss: 0.6111140954825613\n",
            "Training loss: 0.5858168088727527\n",
            "Training loss: 0.57377946542369\n",
            "Training loss: 0.5788999373714129\n",
            "Training loss: 0.5734720710251067\n",
            "Training loss: 0.5728006702330377\n",
            "Training loss: 0.5755812790658739\n",
            "Training loss: 0.5790641432007154\n",
            "Training loss: 0.5717389591866069\n",
            "Training loss: 0.5730099247561561\n",
            "Training loss: 0.5661563244130876\n",
            "Training loss: 0.5738722292913331\n",
            "Training loss: 0.5612631969981723\n",
            "Training loss: 0.5622302177879546\n",
            "Training loss: 0.5636797067191865\n",
            "Training loss: 0.572311563624276\n",
            "Training loss: 0.5624855036536852\n",
            "Training loss: 0.554092219306363\n",
            "Training loss: 0.5791976087623172\n",
            "Training loss: 0.562329024904304\n",
            "Training loss: 0.5499164246850543\n",
            "Training loss: 0.5533520148860084\n",
            "Training loss: 0.5524297422832913\n",
            "Training loss: 0.5553423580196168\n",
            "Training loss: 0.5573378279805183\n",
            "Training loss: 0.5571418868170844\n",
            "Training loss: 0.5504821994238429\n",
            "Training loss: 0.5656291883852747\n",
            "Training loss: 0.5603649533457227\n",
            "Training loss: 0.5657079873813523\n",
            "Training loss: 0.5541852605011728\n",
            "Training loss: 0.5543314375811152\n",
            "Training loss: 0.5502332482073042\n",
            "Training loss: 0.5618120042814149\n",
            "Training loss: 0.5705083948042657\n",
            "Training loss: 0.5617775975002183\n",
            "Training loss: 0.5522054764959548\n",
            "Training loss: 0.5575195857220225\n",
            "Training loss: 0.553938613169723\n",
            "Training loss: 0.5468946397304535\n",
            "Training loss: 0.5417642601662211\n",
            "Training loss: 0.5452712923288345\n",
            "Training loss: 0.5689264858762423\n",
            "Training loss: 0.5442960775560803\n",
            "Training loss: 0.5398366219467587\n",
            "Training loss: 0.5665590167045593\n",
            "Training loss: 0.5638781289259592\n",
            "Training loss: 0.566512707206938\n",
            "Training loss: 0.5524838094909986\n",
            "Training loss: 0.5543580055236816\n",
            "Training loss: 0.5523288432094786\n",
            "Training loss: 0.5690321061346266\n",
            "Training loss: 0.5568375777867105\n",
            "Training loss: 0.5645682877964444\n",
            "Training loss: 0.5521039300494723\n",
            "Training loss: 0.5480118319392204\n",
            "Training loss: 0.5394551207621893\n",
            "Training loss: 0.5699619799852371\n",
            "Training loss: 0.5378094679779477\n",
            "Training loss: 0.5370737910270691\n",
            "Training loss: 0.5358830657270219\n",
            "Training loss: 0.5371157361401452\n",
            "Training loss: 0.5499543050924937\n",
            "Training loss: 0.5541245771778954\n",
            "Training loss: 0.5384955902894338\n",
            "Training loss: 0.548053021232287\n",
            "Training loss: 0.5447186330954233\n",
            "Training loss: 0.5623705925212966\n",
            "Training loss: 0.5477149114012718\n",
            "Training loss: 0.5395083924134573\n",
            "Training loss: 0.5411276494463285\n",
            "Training loss: 0.559102377957768\n",
            "Training loss: 0.5439421145452393\n",
            "Training loss: 0.533427796430058\n",
            "Training loss: 0.5516304895281792\n",
            "Training loss: 0.5558428284194734\n",
            "Training loss: 0.5621409093340238\n",
            "Training loss: 0.564029654694928\n",
            "Training loss: 0.5419899854395125\n",
            "Training loss: 0.5342536336845822\n",
            "Training loss: 0.543197424047523\n",
            "Training loss: 0.558476508491569\n",
            "Training loss: 0.5540337628788419\n",
            "Training loss: 0.5369043656521373\n",
            "Training loss: 0.5450826113422712\n",
            "Training loss: 0.5384015664458275\n",
            "Training loss: 0.53678131600221\n",
            "Training loss: 0.5306829545232985\n",
            "Training loss: 0.5378980669710371\n",
            "Training loss: 0.5513827461335394\n",
            "Training loss: 0.5456745392746396\n",
            "Training loss: 0.5396828999121984\n",
            "Training loss: 0.533785394496388\n",
            "Training loss: 0.538352327214347\n"
          ],
          "name": "stdout"
        }
      ]
    },
    {
      "cell_type": "markdown",
      "metadata": {
        "id": "oXT-gAEk3aiZ",
        "colab_type": "text"
      },
      "source": [
        "**Evaluate Model Performance**"
      ]
    },
    {
      "cell_type": "code",
      "metadata": {
        "id": "0JLqRn3qcypE",
        "colab_type": "code",
        "colab": {
          "base_uri": "https://localhost:8080/",
          "height": 603
        },
        "outputId": "0ea7122d-15a2-48bd-e606-13edaa830a05"
      },
      "source": [
        "# Convert data into arrays\n",
        "xb = np.array(X_test, dtype = \"float32\")\n",
        "yb = np.array(y_test, dtype = \"float32\")\n",
        "\n",
        "# Convert arrays into tensors\n",
        "xb = torch.from_numpy(xb)\n",
        "yb = torch.from_numpy(yb)\n",
        "\n",
        "# Apply the model to the whole testing dataset\n",
        "ps = model(xb)\n",
        "\n",
        "#print('Probabilities', ps[:10])\n",
        "\n",
        "# Obtain the top probability\n",
        "top_p, top_class = ps.topk(1, dim=1)\n",
        "#print('true vals', yb[:10])\n",
        "\n",
        "# Drop the grad \n",
        "top_p = top_p.detach().numpy()\n",
        "top_class = top_class.detach().numpy()\n",
        "\n",
        "top_class = (top_p >= 0.5).astype(np.int)\n",
        "#print('top class', top_class[:10])\n",
        "\n",
        "# Compute ROC curve\n",
        "fpr, tpr, thresholds = roc_curve(yb, top_p, pos_label=1)\n",
        "\n",
        "# Compute ROC area\n",
        "roc_auc = round(auc(fpr, tpr),3)\n",
        "plt.figure()\n",
        "plt.plot(fpr, tpr, color='darkorange', label='ROC curve (area = %0.3f)' % roc_auc)\n",
        "plt.plot([0, 1], [0, 1], color='navy', linestyle='--')\n",
        "plt.xlim([-0.01, 1.0])\n",
        "plt.ylim([0.0, 1.01])\n",
        "plt.xlabel('False Positive Rate')\n",
        "plt.ylabel('True Positive Rate')\n",
        "plt.title('Receiver operating characteristic')\n",
        "plt.legend(loc=\"lower right\")\n",
        "\n",
        "# Classification Report\n",
        "print(\"=== Confusion Matrix ===\")\n",
        "print(confusion_matrix(yb, top_class))\n",
        "print('\\n')\n",
        "print(\"=== Classification Report ===\")\n",
        "print(classification_report(yb, top_class))\n",
        "print('\\n')\n",
        "print(\"=== Accuracy Score ===\")\n",
        "print(\"Accuracy:\", round(accuracy_score(yb, top_class),3))"
      ],
      "execution_count": 52,
      "outputs": [
        {
          "output_type": "stream",
          "text": [
            "=== Confusion Matrix ===\n",
            "[[236  32]\n",
            " [ 80  32]]\n",
            "\n",
            "\n",
            "=== Classification Report ===\n",
            "              precision    recall  f1-score   support\n",
            "\n",
            "         0.0       0.75      0.88      0.81       268\n",
            "         1.0       0.50      0.29      0.36       112\n",
            "\n",
            "    accuracy                           0.71       380\n",
            "   macro avg       0.62      0.58      0.59       380\n",
            "weighted avg       0.67      0.71      0.68       380\n",
            "\n",
            "\n",
            "\n",
            "=== Accuracy Score ===\n",
            "Accuracy: 0.705\n"
          ],
          "name": "stdout"
        },
        {
          "output_type": "display_data",
          "data": {
            "image/png": "[encoded data removed]",
            "text/plain": [
              "<Figure size 432x288 with 1 Axes>"
            ]
          },
          "metadata": {
            "tags": []
          }
        }
      ]
    },
    {
      "cell_type": "markdown",
      "metadata": {
        "id": "7Kd_pSpzaEGI",
        "colab_type": "text"
      },
      "source": [
        "**November 15th Notes:**\n",
        "\n",
        "*Question: BCEWithLogitLoss vs BCELoss for binary classification? Some sources seem to suggest that BCEWithLogitLoss is more numerically stable, but I'm unclear if this is just for multi-class classification? https://discuss.pytorch.org/t/bceloss-vs-bcewithlogitsloss/33586/15"
      ]
    },
    {
      "cell_type": "markdown",
      "metadata": {
        "id": "Zj7L-z1PgMSC",
        "colab_type": "text"
      },
      "source": [
        "# **Experiements**\n",
        "\n",
        "**November 15th - Neural Network Architecture:**\n",
        "\n",
        "**Loss:** Binary Cross Entropy Loss\n",
        "\n",
        "**Activation:** ReLU\n",
        "\n",
        "**Batchsize:** 32\n",
        "\n",
        "\n",
        "1) Hidden Layers (30, 20), epochs = 200, SGD, LR = 0.01\n",
        "\n",
        "* AUC = 0.651\n",
        "* Accuracy= 70%\n",
        "\n",
        "                  === Classification Report ===\n",
        "              precision    recall  f1-score   support\n",
        "\n",
        "         0.0       0.74      0.89      0.81       268\n",
        "         1.0       0.48      0.24      0.32       112\n",
        "      accuracy                         0.70       380\n",
        "      macro avg    0.61      0.57      0.56       380\n",
        "      weighted avg 0.66      0.70      0.66       380\n",
        "\n",
        "2) Hidden Layers (30, 20), **epochs = 100**, SGD, LR = 0.01\n",
        "\n",
        "* AUC = 0.643\n",
        "* Accuracy= 70.5%\n",
        "\n",
        "                  === Classification Report ===\n",
        "              precision    recall  f1-score   support\n",
        "\n",
        "         0.0       0.73      0.92      0.82       268\n",
        "         1.0       0.50      0.19      0.27       112\n",
        "      accuracy                         0.71       380\n",
        "      macro avg    0.62      0.55      0.54       380\n",
        "      weighted avg 0.66      0.71      0.66       380\n",
        "\n",
        "3) Hidden Layers (30, 20), epochs = 100, SGD, **LR = 0.009**\n",
        "\n",
        "* AUC = 0.645\n",
        "* Accuracy= 70.5%\n",
        "\n",
        "4) Hidden Layers (30, 20), epochs = 100, SGD, **LR = 0.005**\n",
        "\n",
        "* AUC = 0.650\n",
        "* Accuracy= 70.3%\n",
        "\n",
        "5) Hidden Layers (30, 20), epochs = 100, SGD, **LR = 0.003**\n",
        "\n",
        "* **AUC = 0.656**\n",
        "* Accuracy= 70.5%\n",
        "\n",
        "                    === Classification Report ===\n",
        "              precision    recall  f1-score   support\n",
        "\n",
        "         0.0       0.74      0.89      0.81       268\n",
        "         1.0       0.50      0.26      0.34       112\n",
        "      accuracy                         0.71       380\n",
        "      macro avg    0.62      0.58      0.58       380\n",
        "      weighted avg 0.67      0.71      0.67       380\n",
        "\n",
        "6) Hidden Layers (30, 20), epochs = 100, SGD, **LR = 0.001**\n",
        "\n",
        "* AUC = 0.626\n",
        "* **Accuracy= 71.8%**\n",
        "\n",
        "                    === Classification Report ===\n",
        "              precision    recall  f1-score   support\n",
        "\n",
        "         0.0       0.73      0.96      0.83       268\n",
        "         1.0       0.59      0.14      0.23       112\n",
        "        accuracy                       0.72       380\n",
        "        macro avg  0.66      0.55      0.53       380\n",
        "      weighted avg 0.69      0.72      0.65       380\n",
        "Accuracy increased probably due to the high specificity, but AUC decreased, poor recall! I will go back to a learning rate of 0.003 for now.  \n",
        "\n",
        "7) Hidden Layers (30, 20), **epochs = 150**, SGD, LR = 0.003\n",
        "\n",
        "* AUC = 0.651\n",
        "* Accuracy= 70.5%\n",
        "\n",
        "Similar performance to expereiment #5, thus, I will lower epochs to 80. \n",
        "\n",
        "8) Hidden Layers (30, 20), **epochs = 80**, SGD, LR = 0.003\n",
        "\n",
        "* AUC = 0.626\n",
        "* Accuracy= 69.7\n",
        "\n",
        "9) Hidden Layers (30, 20), **epochs = 120**, SGD, LR = 0.003\n",
        "\n",
        "* AUC = 0.647 \n",
        "* Accuracy= 69.7%\n",
        "\n",
        "10) Hidden Layers (30, 20), **epochs = 100**, **Adam**, **LR = 0.03**\n",
        "\n",
        "* **AUC = 0.669**\n",
        "* Accuracy = 0.692\n",
        "\n",
        "                    === Classification Report ===\n",
        "              precision    recall  f1-score   support\n",
        "\n",
        "         0.0       0.74      0.86      0.80       268\n",
        "         1.0       0.46      0.29      0.36       112\n",
        "       accuracy                        0.69       380\n",
        "      macro avg    0.60      0.58      0.58       380\n",
        "      weighted avg 0.66      0.69      0.67       380\n",
        "\n",
        "11) Hidden Layers (30, 20), epochs = 100, Adam, **LR = 0.01**\n",
        "\n",
        "* **AUC = 0.668**\n",
        "* Accuracy = 0.705\n",
        "\n",
        "                      === Classification Report ===\n",
        "              precision    recall  f1-score   support\n",
        "\n",
        "         0.0       0.75      0.88      0.81       268\n",
        "         1.0       0.50      0.29      0.37       112\n",
        "        accuracy                       0.71       380\n",
        "        macro avg  0.62      0.59      0.59       380\n",
        "      weighted avg 0.68      0.71      0.68       380\n",
        "\n",
        "12) Hidden Layers (30, 20), epochs = 100, Adam, **LR = 0.008**\n",
        "\n",
        "* led to slight declines in performance compared to prior Adam models\n",
        "\n",
        "13) Hidden Layers (30, 20), epochs = 100, Adam, **LR = 0.05**\n",
        "\n",
        "* Also led to slight declines in performance compared to prior Adam models\n",
        "\n",
        "\n"
      ]
    },
    {
      "cell_type": "markdown",
      "metadata": {
        "id": "CPBnmKAroqGh",
        "colab_type": "text"
      },
      "source": [
        "# **Results**\n",
        "\n",
        "November 15: Form the first round of experiments, the highest performing model was the following: \n",
        "\n",
        "**Loss:** Binary Cross Entropy Loss\n",
        "\n",
        "**Activation:** ReLU\n",
        "\n",
        "**Batchsize:** 32\n",
        "\n",
        "**Hidden Layers:** (30, 20)\n",
        "\n",
        "**epochs:** 100\n",
        "\n",
        "**Optimizer:** Adam\n",
        "\n",
        "**Learning Rate:** 0.03\n",
        "\n",
        "\n",
        "**Performance:**\n",
        "\n",
        "**AUC** = 0.669\n",
        "\n",
        "                    === Classification Report ===\n",
        "              precision    recall  f1-score   support\n",
        "\n",
        "         0.0       0.74      0.86      0.80       268\n",
        "         1.0       0.46      0.29      0.36       112\n",
        "       accuracy                        0.69       380\n",
        "      macro avg    0.60      0.58      0.58       380\n",
        "      weighted avg 0.66      0.69      0.67       380\n"
      ]
    },
    {
      "cell_type": "markdown",
      "metadata": {
        "id": "GydtzSbyrjtd",
        "colab_type": "text"
      },
      "source": [
        "# **Experiments: Changing Hidden Layer Nodes**\n",
        "\n",
        "November 15th - Neural Network Architecture:\n",
        "\n",
        "Loss = Binary Cross Entropy Loss Activation = ReLU Batchsize = 32\n",
        "\n",
        "1) Hidden Layers (20, 10), epochs = 100, Adam, LR = 0.03\n",
        "\n",
        "**AUC**: 0.644\n",
        "\n",
        "                    === Classification Report ===\n",
        "              precision    recall  f1-score   support\n",
        "\n",
        "         0.0       0.76      0.82      0.79       268\n",
        "         1.0       0.47      0.38      0.42       112\n",
        "      accuracy                         0.69       380\n",
        "      macro avg    0.62      0.60      0.60       380\n",
        "      weighted avg 0.67      0.69      0.68       380\n",
        "\n",
        "2) Hidden Layers (20, 10), epochs = 100, Adam, **LR = 0.04**\n",
        "\n",
        "**AUC**: 0.661\n",
        "\n",
        "                  === Classification Report ===\n",
        "              precision    recall  f1-score   support\n",
        "         0.0       0.75      0.86      0.80       268\n",
        "         1.0       0.49      0.32      0.39       112\n",
        "      accuracy                         0.70       380\n",
        "      macro avg    0.62      0.59      0.60       380\n",
        "      weighted avg 0.68      0.70      0.68       380\n",
        "\n",
        "The F1 score is much improved from the past experiments. I will continue to experiement here\n",
        "\n",
        "3) I decreased epochs to 80 and increased to 120 and 150 and this decreased performance. \n",
        "\n",
        "A few runs of Experiement #1 and #2 actaully gave AUCs of ~0.70\n",
        "\n",
        "4) Hidden Layers (20, 10), epochs = 100, Adam, **LR = 0.04** - re ran again\n",
        "\n",
        "**AUC:** 0.674\n",
        "\n",
        "                    === Classification Report ===\n",
        "              precision    recall  f1-score   support\n",
        "\n",
        "         0.0       0.79      0.77      0.78       268\n",
        "         1.0       0.48      0.52      0.50       112\n",
        "      accuracy                         0.69       380\n",
        "      macro avg    0.64      0.64      0.64       380\n",
        "    weighted avg   0.70      0.69      0.70       380\n",
        "\n",
        "**F1** for patients who died of disase is much higher than in previous models. \n",
        "\n",
        "5) I tried different architectures without much difference in regards to model improvement\n"
      ]
    },
    {
      "cell_type": "markdown",
      "metadata": {
        "id": "DWQmo_XcwB78",
        "colab_type": "text"
      },
      "source": [
        "# **Final Results**\n",
        "\n",
        "**November 15, 2019:** \n",
        "\n",
        "Best Performing model had the following characteristics: \n",
        "\n",
        "**Loss:** Binary Cross Entropy Loss\n",
        "\n",
        "**Activation:** ReLU\n",
        "\n",
        "**Batchsize:** 32\n",
        "\n",
        "**Hidden Layers:** (20, 10)\n",
        "\n",
        "**epochs:** 100\n",
        "\n",
        "**Optimizer:** Adam\n",
        "\n",
        "**Learning Rate:** 0.03\n",
        "\n",
        "**Model Performance:**\n",
        "\n",
        "**AUC: 0.674**\n",
        "\n",
        "**F1: 0.52** \n",
        "\n",
        "**Accuracy: 0.69%**"
      ]
    },
    {
      "cell_type": "markdown",
      "metadata": {
        "id": "rFwcvGyfxZBu",
        "colab_type": "text"
      },
      "source": [
        "# **Next Steps/Follow-up Question**\n",
        "\n",
        "1.   Ensure that Binary Cross Entropy is an okay loss function\n",
        "2.   Recall tends to be worse than specificty, okay for now? Maybe this is due to the class imbalance? Could try incoporating this into the loss function or resampling methods?\n",
        "3.   Could attempt to perform cross-fold validaiton like I did with random forests classification. \n",
        "\n"
      ]
    }
  ]
}