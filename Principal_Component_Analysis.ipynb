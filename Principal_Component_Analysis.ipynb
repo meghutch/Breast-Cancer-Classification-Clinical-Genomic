{
  "nbformat": 4,
  "nbformat_minor": 0,
  "metadata": {
    "colab": {
      "name": "Principal Component Analysis",
      "provenance": [],
      "collapsed_sections": [],
      "include_colab_link": true
    },
    "kernelspec": {
      "name": "python3",
      "display_name": "Python 3"
    }
  },
  "cells": [
    {
      "cell_type": "markdown",
      "metadata": {
        "id": "view-in-github",
        "colab_type": "text"
      },
      "source": [
        "<a href=\"https://colab.research.google.com/github/meghutch/Breast-Cancer-Classification-Clinical-Genomic/blob/master/Principal_Component_Analysis.ipynb\" target=\"_parent\"><img src=\"https://colab.research.google.com/assets/colab-badge.svg\" alt=\"Open In Colab\"/></a>"
      ]
    },
    {
      "cell_type": "markdown",
      "metadata": {
        "id": "oBqDJMLTSfPr",
        "colab_type": "text"
      },
      "source": [
        "# **Predicting Clinical Outcomes of Breast Cancer Patients**\n",
        "\n",
        "## **Neural Networks and PCA**\n",
        "\n",
        "**Author:** Meg Hutch\n",
        "\n",
        "**Date:** November 27, 2019\n",
        "\n",
        "**Objective:** Integrate the Principal Components from the **Gene Expression Analysis - PCA**. \n",
        "\n",
        "These were the Principal Components explaining 90% of the variance. \n",
        "\n",
        "Unlike the **Neural_Network_Clinical_Outcomes** analysis, this will use the patients in the merged_expression.txt that were processed."
      ]
    },
    {
      "cell_type": "code",
      "metadata": {
        "id": "_pG01kP6UVC0",
        "colab_type": "code",
        "colab": {}
      },
      "source": [
        "import pandas as pd\n",
        "import numpy as np\n",
        "import matplotlib\n",
        "import matplotlib.pyplot as plt\n",
        "import matplotlib.colors\n",
        "import seaborn as sns"
      ],
      "execution_count": 0,
      "outputs": []
    },
    {
      "cell_type": "code",
      "metadata": {
        "id": "mamswLh8QkLR",
        "colab_type": "code",
        "outputId": "887173e5-0f88-4e79-b537-c5e2d4c0a982",
        "colab": {
          "base_uri": "https://localhost:8080/",
          "height": 33
        }
      },
      "source": [
        "# Connect Colab to google drive\n",
        "from google.colab import drive\n",
        "drive.mount('/content/drive')"
      ],
      "execution_count": 86,
      "outputs": [
        {
          "output_type": "stream",
          "text": [
            "Drive already mounted at /content/drive; to attempt to forcibly remount, call drive.mount(\"/content/drive\", force_remount=True).\n"
          ],
          "name": "stdout"
        }
      ]
    },
    {
      "cell_type": "code",
      "metadata": {
        "id": "9ltCT9Zv8LAd",
        "colab_type": "code",
        "colab": {}
      },
      "source": [
        "# Import Data\n",
        "# Merged Expression Data\n",
        "gene_data = pd.read_csv('/content/drive/My Drive/Projects/Breast_Cancer_Classification/Data/merged_expression.txt', sep=',')\n",
        "\n",
        "## Principal Component Data\n",
        "# All Principal Components\n",
        "pc_all = pd.read_csv('/content/drive/My Drive/Projects/Breast_Cancer_Classification/Processed_Data/gene_pca_components_All_1747.txt')\n",
        "\n",
        "# Principal Components Responsible for 90% of the variation\n",
        "pc_90 = pd.read_csv('/content/drive/My Drive/Projects/Breast_Cancer_Classification/Processed_Data/gene_pca_components_90.txt')"
      ],
      "execution_count": 0,
      "outputs": []
    },
    {
      "cell_type": "markdown",
      "metadata": {
        "id": "chNv2A3jUNQr",
        "colab_type": "text"
      },
      "source": [
        "# **Data Pre-Processing**\n",
        "\n",
        "Check if there are missing values and add the event label to the prinicipal component dataframes"
      ]
    },
    {
      "cell_type": "markdown",
      "metadata": {
        "id": "_29Kdk_59QqC",
        "colab_type": "text"
      },
      "source": [
        "**Check if there are any missing values**"
      ]
    },
    {
      "cell_type": "code",
      "metadata": {
        "id": "i2sjClIA9QOq",
        "colab_type": "code",
        "outputId": "7cae52d1-2ab1-4a34-dd3e-9c219e8e7f8e",
        "colab": {
          "base_uri": "https://localhost:8080/",
          "height": 212
        }
      },
      "source": [
        "gene_data.isna().any()"
      ],
      "execution_count": 88,
      "outputs": [
        {
          "output_type": "execute_result",
          "data": {
            "text/plain": [
              "Unnamed: 0    False\n",
              "EVENT          True\n",
              "OS_MONTHS     False\n",
              "FIVE_YEAR      True\n",
              "RERE          False\n",
              "              ...  \n",
              "CC2D1A        False\n",
              "CB986545      False\n",
              "IGSF9         False\n",
              "DA110839      False\n",
              "FAM71A         True\n",
              "Length: 24372, dtype: bool"
            ]
          },
          "metadata": {
            "tags": []
          },
          "execution_count": 88
        }
      ]
    },
    {
      "cell_type": "markdown",
      "metadata": {
        "id": "gjHaZnph9V3A",
        "colab_type": "text"
      },
      "source": [
        "**Remove observations with missing values**"
      ]
    },
    {
      "cell_type": "code",
      "metadata": {
        "id": "9f85OtiV9yy8",
        "colab_type": "code",
        "colab": {}
      },
      "source": [
        "gene_data = gene_data.dropna()"
      ],
      "execution_count": 0,
      "outputs": []
    },
    {
      "cell_type": "markdown",
      "metadata": {
        "id": "Mp6ELmfIHKG6",
        "colab_type": "text"
      },
      "source": [
        "**Check Final Number of Patients**"
      ]
    },
    {
      "cell_type": "code",
      "metadata": {
        "id": "uuGUGuNmKB0r",
        "colab_type": "code",
        "outputId": "a26ed1d3-e751-4e91-f6bf-ad27f4a3d6c0",
        "colab": {
          "base_uri": "https://localhost:8080/",
          "height": 98
        }
      },
      "source": [
        "gene_data.info()"
      ],
      "execution_count": 90,
      "outputs": [
        {
          "output_type": "stream",
          "text": [
            "<class 'pandas.core.frame.DataFrame'>\n",
            "Int64Index: 1747 entries, 0 to 1903\n",
            "Columns: 24372 entries, Unnamed: 0 to FAM71A\n",
            "dtypes: float64(24371), object(1)\n",
            "memory usage: 324.9+ MB\n"
          ],
          "name": "stdout"
        }
      ]
    },
    {
      "cell_type": "markdown",
      "metadata": {
        "id": "54mQorOOeCeR",
        "colab_type": "text"
      },
      "source": [
        "**Add Outcome Variable to the PC Dataframes**"
      ]
    },
    {
      "cell_type": "code",
      "metadata": {
        "id": "kZq4Ba5NeB5O",
        "colab_type": "code",
        "colab": {}
      },
      "source": [
        "# Subset only the Event - whether they lived (0) or died (1) from Breast Cancer\n",
        "labels = gene_data.EVENT\n",
        "\n",
        "# Create a list of row names\n",
        "patients = list(gene_data.index)\n",
        "\n",
        "# Convert labels into a dataframe and indicate patients as the index\n",
        "labels = pd.DataFrame(labels, index = patients)\n",
        "\n",
        "# Create a row ID from the row names \n",
        "#labels['ID'] = np.arange(len(labels))\n",
        "\n",
        "pc_all = pc_all.set_index('Unnamed: 0')\n",
        "pc_90 = pc_90.set_index('Unnamed: 0')\n",
        "\n",
        "# Remove the index name (Unnamed: 0)\n",
        "pc_all.index.name = None\n",
        "pc_90.index.name = None\n",
        "\n",
        "# Add labels to the pc dataframes\n",
        "pc_all = pd.merge(pc_all, labels, left_index=True, right_index=True)\n",
        "pc_90 = pd.merge(pc_90, labels, left_index=True, right_index=True)"
      ],
      "execution_count": 0,
      "outputs": []
    },
    {
      "cell_type": "markdown",
      "metadata": {
        "id": "H1t8xyhNmSX2",
        "colab_type": "text"
      },
      "source": [
        "# **Predict Outcomes Using Gene Expression Principal Components**\n",
        "\n",
        "We will attempt to predict Event (1 = died from breast cancer, 0 = alive), using the following classification methods and only using Principal Components as features\n",
        "\n",
        "* Logistic Regression\n",
        "* Random Forest\n",
        "* Neural Networks. \n",
        "\n",
        "Logistic regression and random forest classiers can help serve as a benchmark of performance once we develop our neural network classifier."
      ]
    },
    {
      "cell_type": "markdown",
      "metadata": {
        "id": "vKzlNG-xu4EN",
        "colab_type": "text"
      },
      "source": [
        "# **Training and Testing Split**\n",
        "\n",
        "For all of our classification methods, we will create a training and a testing set."
      ]
    },
    {
      "cell_type": "code",
      "metadata": {
        "id": "YxdYyZxEujxJ",
        "colab_type": "code",
        "colab": {}
      },
      "source": [
        "# Packagess\n",
        "from sklearn import preprocessing\n",
        "from sklearn.linear_model import LogisticRegression\n",
        "from sklearn.model_selection import train_test_split"
      ],
      "execution_count": 0,
      "outputs": []
    },
    {
      "cell_type": "markdown",
      "metadata": {
        "id": "qKwf3jzovYN0",
        "colab_type": "text"
      },
      "source": [
        "Format the pc data into a features and label dataframe. EVENT indicates that the patient died from disease. "
      ]
    },
    {
      "cell_type": "code",
      "metadata": {
        "id": "H421ISlCvf4d",
        "colab_type": "code",
        "colab": {}
      },
      "source": [
        "# Let x represent the input features; y the labels\n",
        "\n",
        "# Want to remove EVENT from inputs since these are what we are trying to predict. Event will remain as our label.\n",
        "\n",
        "# create x to represent the input features; y is the label\n",
        "x = pc_90.drop(['EVENT'], axis=1)\n",
        "y = pc_90.EVENT"
      ],
      "execution_count": 0,
      "outputs": []
    },
    {
      "cell_type": "markdown",
      "metadata": {
        "id": "Jot8CaTpvfEP",
        "colab_type": "text"
      },
      "source": [
        "Split the data into testing and training sets"
      ]
    },
    {
      "cell_type": "code",
      "metadata": {
        "id": "zuPWs5pQv5d2",
        "colab_type": "code",
        "colab": {}
      },
      "source": [
        "X_train, X_test, y_train, y_test = train_test_split(x, y, test_size=0.25, random_state=15)"
      ],
      "execution_count": 0,
      "outputs": []
    },
    {
      "cell_type": "markdown",
      "metadata": {
        "id": "f7UGiy4twHbY",
        "colab_type": "text"
      },
      "source": [
        "View the shapes of the training and testing sets; the datasets ending in \"train\" are our training sets; similarly, those ending in \"test\" are the testing; x prefix always represents the input features, y the labels"
      ]
    },
    {
      "cell_type": "code",
      "metadata": {
        "id": "ujubXxyzwU14",
        "colab_type": "code",
        "outputId": "311a8861-da95-4aae-a2ac-b99180cfd97b",
        "colab": {
          "base_uri": "https://localhost:8080/",
          "height": 82
        }
      },
      "source": [
        "# Assess the trainig and testing sets previously created\n",
        "print('Training Features Shape:', X_train.shape)\n",
        "print('Training Labels Shape:', y_train.shape)\n",
        "print('Testing Features Shape:', X_test.shape)\n",
        "print('Testing Labels Shape:', y_test.shape)"
      ],
      "execution_count": 95,
      "outputs": [
        {
          "output_type": "stream",
          "text": [
            "Training Features Shape: (1310, 1213)\n",
            "Training Labels Shape: (1310,)\n",
            "Testing Features Shape: (437, 1213)\n",
            "Testing Labels Shape: (437,)\n"
          ],
          "name": "stdout"
        }
      ]
    },
    {
      "cell_type": "markdown",
      "metadata": {
        "id": "R2u1NBiEwYeS",
        "colab_type": "text"
      },
      "source": [
        "Examine the class distributions - these are similar splits between the training and testing sets. This is also representative of the number of cases throughout the entire dataset. \n",
        "\n",
        "Overall, 35% of the patients in our total data died from disease. So this is an unbalanced dataset and a few percents off from the splits in the training/testing set. **Not sure if this is a problem?**"
      ]
    },
    {
      "cell_type": "code",
      "metadata": {
        "id": "WzAqXr4pwX3M",
        "colab_type": "code",
        "outputId": "352df502-9f29-419d-8202-fe75e2023933",
        "colab": {
          "base_uri": "https://localhost:8080/",
          "height": 115
        }
      },
      "source": [
        "# Died from disease\n",
        "print('Died of Diseases in Training Set:', np.count_nonzero(y_train == 1))\n",
        "print('Died of Diseases in Testing Set:', np.count_nonzero(y_test == 1))\n",
        "\n",
        "# Percents\n",
        "print('% Died of Diseases Cases in Training Set:', round(np.count_nonzero(y_train == 1)/1139*100,2))\n",
        "print('% Died of Diseases Cases in Testing Set:', round(np.count_nonzero(y_test == 1)/380*100,2))\n",
        "\n",
        "# Died of disease overall\n",
        "print('Died of Diseases Overall:', np.count_nonzero(pc_90 == 1))\n",
        "print('% Died of Diseases Overall:', round(np.count_nonzero(pc_90 == 1)/1747*100,2))"
      ],
      "execution_count": 96,
      "outputs": [
        {
          "output_type": "stream",
          "text": [
            "Died of Diseases in Training Set: 470\n",
            "Died of Diseases in Testing Set: 150\n",
            "% Died of Diseases Cases in Training Set: 41.26\n",
            "% Died of Diseases Cases in Testing Set: 39.47\n",
            "Died of Diseases Overall: 620\n",
            "% Died of Diseases Overall: 35.49\n"
          ],
          "name": "stdout"
        }
      ]
    },
    {
      "cell_type": "markdown",
      "metadata": {
        "id": "bUc2GBdH5wiL",
        "colab_type": "text"
      },
      "source": [
        "# **Logistic Regression**\n",
        "\n",
        "Because we don't want to overfit the logistic regression model or have problems with convergence, we will follow the 1 in 10 rule, where we only have 1 predictor per 10 samples in the outcome of interest class (in our case 620 patients who died = 62 predictors/prinicipal components). \n",
        "\n",
        "Logistic Regression steps were followed from the following tutorial:\n",
        "\n",
        "https://www.datacamp.com/community/tutorials/understanding-logistic-regression-python"
      ]
    },
    {
      "cell_type": "markdown",
      "metadata": {
        "id": "6wpXMK_w7Kp6",
        "colab_type": "text"
      },
      "source": [
        "**Select the top 62 Prinicipal Components**"
      ]
    },
    {
      "cell_type": "code",
      "metadata": {
        "id": "3ug7VbIL7eI8",
        "colab_type": "code",
        "colab": {}
      },
      "source": [
        "X_train_62 = X_train.iloc[:,0:62]\n",
        "X_test_62 = X_test.iloc[:,0:62]"
      ],
      "execution_count": 0,
      "outputs": []
    },
    {
      "cell_type": "markdown",
      "metadata": {
        "id": "0BdqKQJ2x0em",
        "colab_type": "text"
      },
      "source": [
        "**Define and Run the Model**"
      ]
    },
    {
      "cell_type": "code",
      "metadata": {
        "id": "3u4X6MFSxzox",
        "colab_type": "code",
        "outputId": "554c3bb0-3f0c-4b1d-e229-865ff37bb1f2",
        "colab": {
          "base_uri": "https://localhost:8080/",
          "height": 50
        }
      },
      "source": [
        "# Instantiate the model (using default parameters)\n",
        "logreg = LogisticRegression()\n",
        "\n",
        "# fit the model with data\n",
        "logreg.fit(X_train_62, y_train)\n",
        "\n",
        "y_pred = logreg.predict(X_test_62)"
      ],
      "execution_count": 98,
      "outputs": [
        {
          "output_type": "stream",
          "text": [
            "/usr/local/lib/python3.6/dist-packages/sklearn/linear_model/logistic.py:432: FutureWarning: Default solver will be changed to 'lbfgs' in 0.22. Specify a solver to silence this warning.\n",
            "  FutureWarning)\n"
          ],
          "name": "stderr"
        }
      ]
    },
    {
      "cell_type": "markdown",
      "metadata": {
        "id": "xRDRV7DIyGL5",
        "colab_type": "text"
      },
      "source": [
        "**Model Evaluation Using Confusion Matrix**"
      ]
    },
    {
      "cell_type": "code",
      "metadata": {
        "id": "YyJQT7fHyLeP",
        "colab_type": "code",
        "outputId": "7ca428d0-0e6a-4abe-8b7f-18650ca51e0d",
        "colab": {
          "base_uri": "https://localhost:8080/",
          "height": 50
        }
      },
      "source": [
        "# import the metrics class\n",
        "from sklearn import metrics\n",
        "\n",
        "cnf_matrix = metrics.confusion_matrix(y_test, y_pred)\n",
        "cnf_matrix"
      ],
      "execution_count": 99,
      "outputs": [
        {
          "output_type": "execute_result",
          "data": {
            "text/plain": [
              "array([[230,  57],\n",
              "       [100,  50]])"
            ]
          },
          "metadata": {
            "tags": []
          },
          "execution_count": 99
        }
      ]
    },
    {
      "cell_type": "markdown",
      "metadata": {
        "id": "3CRpg41RySQT",
        "colab_type": "text"
      },
      "source": [
        "The confusion matrix generated above is in the form of an array. Diagnosal values represent accurate predictions, while non-diagonal elements are inaccurate predictions. The diagonal starting with the top left to the bottom right hand corner are actual predidictions, while the bottom left corner to the top right corner are incorrect predictions. "
      ]
    },
    {
      "cell_type": "code",
      "metadata": {
        "id": "O2BvUFrAy04x",
        "colab_type": "code",
        "outputId": "eb4b989d-401e-4713-8480-87861953f1f6",
        "colab": {
          "base_uri": "https://localhost:8080/",
          "height": 66
        }
      },
      "source": [
        "print(\"Accuracy:\",round(metrics.accuracy_score(y_test, y_pred),3))\n",
        "print(\"Precision:\",round(metrics.precision_score(y_test, y_pred),3))\n",
        "print(\"Recall:\",round(metrics.recall_score(y_test, y_pred),3))"
      ],
      "execution_count": 100,
      "outputs": [
        {
          "output_type": "stream",
          "text": [
            "Accuracy: 0.641\n",
            "Precision: 0.467\n",
            "Recall: 0.333\n"
          ],
          "name": "stdout"
        }
      ]
    },
    {
      "cell_type": "markdown",
      "metadata": {
        "id": "oAZw8J4mzxsD",
        "colab_type": "text"
      },
      "source": [
        "**ROC**\n",
        "\n",
        "The Reciever Operating Characteristic (ROC) curve is a plot of the true positive rate against the false positive rate. It shows the tradeoff between sensitivity and specificity. "
      ]
    },
    {
      "cell_type": "code",
      "metadata": {
        "id": "y11_Tmpu39qG",
        "colab_type": "code",
        "outputId": "2dd79121-b81a-444e-f0a3-2e5932368573",
        "colab": {
          "base_uri": "https://localhost:8080/",
          "height": 281
        }
      },
      "source": [
        "y_pred_proba = logreg.predict_proba(X_test_62)[::,1]\n",
        "fpr, tpr, _ = metrics.roc_curve(y_test, y_pred_proba)\n",
        "auc = metrics.roc_auc_score(y_test, y_pred_proba)\n",
        "plt.plot(fpr, tpr, label = \"data 1, auc=\"+str(auc))\n",
        "plt.legend(loc=4)\n",
        "plt.show()\n",
        "print('AUC:', round(auc,3))"
      ],
      "execution_count": 101,
      "outputs": [
        {
          "output_type": "display_data",
          "data": {
            "image/png": "[encoded data removed]",
            "text/plain": [
              "<Figure size 432x288 with 1 Axes>"
            ]
          },
          "metadata": {
            "tags": []
          }
        },
        {
          "output_type": "stream",
          "text": [
            "AUC: 0.665\n"
          ],
          "name": "stdout"
        }
      ]
    },
    {
      "cell_type": "markdown",
      "metadata": {
        "id": "ZtFhbb0j8Gw2",
        "colab_type": "text"
      },
      "source": [
        "Fairly low sensitivity (Recall) = 33%; but the accuracy is fairly impressive that we can predict survivial just using 62 prinicipal components. This actually has better recall then the logistic regression performed with just clinical data. Additionally, the AUCs were both 67%. **Note: Keep in mind that the clinical data results I'm comparing it too, were used with a different testing/training split. \n",
        "\n",
        "I wll have re-run the neural network on this data to properly assess  "
      ]
    },
    {
      "cell_type": "markdown",
      "metadata": {
        "id": "bDxgR6ZhBYcS",
        "colab_type": "text"
      },
      "source": [
        "**How much of the variance do the top 62 prinicipal components contribute?**\n",
        "\n",
        "From the chart below, we can see that pc62 contribute up to ~41% of the variance. "
      ]
    },
    {
      "cell_type": "code",
      "metadata": {
        "id": "sQVYsxWuBX55",
        "colab_type": "code",
        "colab": {
          "base_uri": "https://localhost:8080/",
          "height": 391
        },
        "outputId": "e555e8e0-5510-405f-ccc7-06b233d76e72"
      },
      "source": [
        "# import table of variances\n",
        "var_chart = pd.read_csv('/content/drive/My Drive/Projects/Breast_Cancer_Classification/Processed_Data/component_variance_chart_90.txt', sep=',', index_col=0)\n",
        "var_chart[:62] "
      ],
      "execution_count": 102,
      "outputs": [
        {
          "output_type": "execute_result",
          "data": {
            "text/html": [
              "<div>\n",
              "<style scoped>\n",
              "    .dataframe tbody tr th:only-of-type {\n",
              "        vertical-align: middle;\n",
              "    }\n",
              "\n",
              "    .dataframe tbody tr th {\n",
              "        vertical-align: top;\n",
              "    }\n",
              "\n",
              "    .dataframe thead th {\n",
              "        text-align: right;\n",
              "    }\n",
              "</style>\n",
              "<table border=\"1\" class=\"dataframe\">\n",
              "  <thead>\n",
              "    <tr style=\"text-align: right;\">\n",
              "      <th></th>\n",
              "      <th>% Variance</th>\n",
              "      <th>CumulativeVariance</th>\n",
              "    </tr>\n",
              "  </thead>\n",
              "  <tbody>\n",
              "    <tr>\n",
              "      <th>pc1</th>\n",
              "      <td>6.5</td>\n",
              "      <td>6.5</td>\n",
              "    </tr>\n",
              "    <tr>\n",
              "      <th>pc2</th>\n",
              "      <td>4.4</td>\n",
              "      <td>10.9</td>\n",
              "    </tr>\n",
              "    <tr>\n",
              "      <th>pc3</th>\n",
              "      <td>3.2</td>\n",
              "      <td>14.1</td>\n",
              "    </tr>\n",
              "    <tr>\n",
              "      <th>pc4</th>\n",
              "      <td>2.4</td>\n",
              "      <td>16.5</td>\n",
              "    </tr>\n",
              "    <tr>\n",
              "      <th>pc5</th>\n",
              "      <td>2.1</td>\n",
              "      <td>18.6</td>\n",
              "    </tr>\n",
              "    <tr>\n",
              "      <th>...</th>\n",
              "      <td>...</td>\n",
              "      <td>...</td>\n",
              "    </tr>\n",
              "    <tr>\n",
              "      <th>pc58</th>\n",
              "      <td>0.2</td>\n",
              "      <td>40.1</td>\n",
              "    </tr>\n",
              "    <tr>\n",
              "      <th>pc59</th>\n",
              "      <td>0.2</td>\n",
              "      <td>40.3</td>\n",
              "    </tr>\n",
              "    <tr>\n",
              "      <th>pc60</th>\n",
              "      <td>0.2</td>\n",
              "      <td>40.5</td>\n",
              "    </tr>\n",
              "    <tr>\n",
              "      <th>pc61</th>\n",
              "      <td>0.2</td>\n",
              "      <td>40.7</td>\n",
              "    </tr>\n",
              "    <tr>\n",
              "      <th>pc62</th>\n",
              "      <td>0.2</td>\n",
              "      <td>40.9</td>\n",
              "    </tr>\n",
              "  </tbody>\n",
              "</table>\n",
              "<p>62 rows × 2 columns</p>\n",
              "</div>"
            ],
            "text/plain": [
              "      % Variance  CumulativeVariance\n",
              "pc1          6.5                 6.5\n",
              "pc2          4.4                10.9\n",
              "pc3          3.2                14.1\n",
              "pc4          2.4                16.5\n",
              "pc5          2.1                18.6\n",
              "...          ...                 ...\n",
              "pc58         0.2                40.1\n",
              "pc59         0.2                40.3\n",
              "pc60         0.2                40.5\n",
              "pc61         0.2                40.7\n",
              "pc62         0.2                40.9\n",
              "\n",
              "[62 rows x 2 columns]"
            ]
          },
          "metadata": {
            "tags": []
          },
          "execution_count": 102
        }
      ]
    },
    {
      "cell_type": "markdown",
      "metadata": {
        "id": "PUCud2aO8hd6",
        "colab_type": "text"
      },
      "source": [
        "# **Assess increasingly lower numbers of Principal Components**\n",
        "\n",
        "Identify the number of principal components to represent 35, 30, 25, and 20% of varaince, and compare performance with the top 62 principal components. "
      ]
    },
    {
      "cell_type": "code",
      "metadata": {
        "id": "YSzJuaStD9Qq",
        "colab_type": "code",
        "colab": {}
      },
      "source": [
        "pc_35 = var_chart[var_chart.CumulativeVariance <= 35] # 33 components\n",
        "\n",
        "pc_30 = var_chart[var_chart.CumulativeVariance <= 30] # 17 components\n",
        "\n",
        "pc_25 = var_chart[var_chart.CumulativeVariance <= 25] # 9 components\n",
        "\n",
        "pc_20 = var_chart[var_chart.CumulativeVariance <= 20] # 5 components"
      ],
      "execution_count": 0,
      "outputs": []
    },
    {
      "cell_type": "markdown",
      "metadata": {
        "id": "AgrkAyTNH7rx",
        "colab_type": "text"
      },
      "source": [
        "**Logistic Regression - PC 35% of variance**\n",
        "\n",
        "33 prinicipal components"
      ]
    },
    {
      "cell_type": "code",
      "metadata": {
        "colab_type": "code",
        "outputId": "1af1c893-e0ee-48f6-cb10-63759c56f12a",
        "id": "-Ym2h5aVIgRe",
        "colab": {
          "base_uri": "https://localhost:8080/",
          "height": 395
        }
      },
      "source": [
        "# Split the training/testing sets\n",
        "X_train_33 = X_train.iloc[:,0:33]\n",
        "X_test_33 = X_test.iloc[:,0:33]\n",
        "\n",
        "## Define and run the model\n",
        "# Instantiate the model (using default parameters)\n",
        "logreg = LogisticRegression()\n",
        "\n",
        "# fit the model with data\n",
        "logreg.fit(X_train_33, y_train)\n",
        "y_pred = logreg.predict(X_test_33)\n",
        "\n",
        "## Evaluate model \n",
        "# import the metrics class\n",
        "from sklearn import metrics\n",
        "\n",
        "cnf_matrix = metrics.confusion_matrix(y_test, y_pred)\n",
        "print('Confusion Matrix', cnf_matrix)\n",
        "\n",
        "# Assess accuracy, precision, recall\n",
        "print(\"Accuracy:\",round(metrics.accuracy_score(y_test, y_pred),3))\n",
        "print(\"Precision:\",round(metrics.precision_score(y_test, y_pred),3))\n",
        "print(\"Recall:\",round(metrics.recall_score(y_test, y_pred),3))\n",
        "\n",
        "# Calculate ROC\n",
        "y_pred_proba = logreg.predict_proba(X_test_33)[::,1]\n",
        "fpr, tpr, _ = metrics.roc_curve(y_test, y_pred_proba)\n",
        "auc = metrics.roc_auc_score(y_test, y_pred_proba)\n",
        "plt.plot(fpr, tpr, label = \"data 1, auc=\"+str(auc))\n",
        "plt.legend(loc=4)\n",
        "plt.show()\n",
        "print('AUC:', round(auc,3))"
      ],
      "execution_count": 104,
      "outputs": [
        {
          "output_type": "stream",
          "text": [
            "Confusion Matrix [[239  48]\n",
            " [100  50]]\n",
            "Accuracy: 0.661\n",
            "Precision: 0.51\n",
            "Recall: 0.333\n"
          ],
          "name": "stdout"
        },
        {
          "output_type": "stream",
          "text": [
            "/usr/local/lib/python3.6/dist-packages/sklearn/linear_model/logistic.py:432: FutureWarning: Default solver will be changed to 'lbfgs' in 0.22. Specify a solver to silence this warning.\n",
            "  FutureWarning)\n"
          ],
          "name": "stderr"
        },
        {
          "output_type": "display_data",
          "data": {
            "image/png": "[encoded data removed]",
            "text/plain": [
              "<Figure size 432x288 with 1 Axes>"
            ]
          },
          "metadata": {
            "tags": []
          }
        },
        {
          "output_type": "stream",
          "text": [
            "AUC: 0.66\n"
          ],
          "name": "stdout"
        }
      ]
    },
    {
      "cell_type": "markdown",
      "metadata": {
        "colab_type": "text",
        "id": "7Xc3ix8hKxCB"
      },
      "source": [
        "**Logistic Regression - PC 30% of variance**\n",
        "\n",
        "17 prinicipal components"
      ]
    },
    {
      "cell_type": "code",
      "metadata": {
        "colab_type": "code",
        "id": "N0a5kYmDKxCC",
        "colab": {
          "base_uri": "https://localhost:8080/",
          "height": 395
        },
        "outputId": "d989f757-b42d-4781-ad2c-ae2505deaae4"
      },
      "source": [
        "# Split the training/testing sets\n",
        "X_train_17 = X_train.iloc[:,0:17]\n",
        "X_test_17 = X_test.iloc[:,0:17]\n",
        "\n",
        "## Define and run the model\n",
        "# Instantiate the model (using default parameters)\n",
        "logreg = LogisticRegression()\n",
        "\n",
        "# fit the model with data\n",
        "logreg.fit(X_train_17, y_train)\n",
        "y_pred = logreg.predict(X_test_17)\n",
        "\n",
        "## Evaluate model \n",
        "# import the metrics class\n",
        "from sklearn import metrics\n",
        "\n",
        "cnf_matrix = metrics.confusion_matrix(y_test, y_pred)\n",
        "print('Confusion Matrix', cnf_matrix)\n",
        "\n",
        "# Assess accuracy, precision, recall\n",
        "print(\"Accuracy:\",round(metrics.accuracy_score(y_test, y_pred),3))\n",
        "print(\"Precision:\",round(metrics.precision_score(y_test, y_pred),3))\n",
        "print(\"Recall:\",round(metrics.recall_score(y_test, y_pred),3))\n",
        "\n",
        "# Calculate ROC\n",
        "y_pred_proba = logreg.predict_proba(X_test_17)[::,1]\n",
        "fpr, tpr, _ = metrics.roc_curve(y_test, y_pred_proba)\n",
        "auc = metrics.roc_auc_score(y_test, y_pred_proba)\n",
        "plt.plot(fpr, tpr, label = \"data 1, auc=\"+str(auc))\n",
        "plt.legend(loc=4)\n",
        "plt.show()\n",
        "print('AUC:', round(auc,3))"
      ],
      "execution_count": 105,
      "outputs": [
        {
          "output_type": "stream",
          "text": [
            "Confusion Matrix [[246  41]\n",
            " [108  42]]\n",
            "Accuracy: 0.659\n",
            "Precision: 0.506\n",
            "Recall: 0.28\n"
          ],
          "name": "stdout"
        },
        {
          "output_type": "stream",
          "text": [
            "/usr/local/lib/python3.6/dist-packages/sklearn/linear_model/logistic.py:432: FutureWarning: Default solver will be changed to 'lbfgs' in 0.22. Specify a solver to silence this warning.\n",
            "  FutureWarning)\n"
          ],
          "name": "stderr"
        },
        {
          "output_type": "display_data",
          "data": {
            "image/png": "[encoded data removed]",
            "text/plain": [
              "<Figure size 432x288 with 1 Axes>"
            ]
          },
          "metadata": {
            "tags": []
          }
        },
        {
          "output_type": "stream",
          "text": [
            "AUC: 0.649\n"
          ],
          "name": "stdout"
        }
      ]
    },
    {
      "cell_type": "markdown",
      "metadata": {
        "colab_type": "text",
        "id": "Yme-r1nRLH05"
      },
      "source": [
        "**Logistic Regression - PC 25% of variance**\n",
        "\n",
        "9 prinicipal components"
      ]
    },
    {
      "cell_type": "code",
      "metadata": {
        "colab_type": "code",
        "id": "fK-cwbmyLH06",
        "colab": {
          "base_uri": "https://localhost:8080/",
          "height": 395
        },
        "outputId": "4e06feff-f73d-4ff7-f4d0-392f21b21704"
      },
      "source": [
        "# Split the training/testing sets\n",
        "X_train_9 = X_train.iloc[:,0:9]\n",
        "X_test_9 = X_test.iloc[:,0:9]\n",
        "\n",
        "## Define and run the model\n",
        "# Instantiate the model (using default parameters)\n",
        "logreg = LogisticRegression()\n",
        "\n",
        "# fit the model with data\n",
        "logreg.fit(X_train_9, y_train)\n",
        "y_pred = logreg.predict(X_test_9)\n",
        "\n",
        "## Evaluate model \n",
        "# import the metrics class\n",
        "from sklearn import metrics\n",
        "\n",
        "cnf_matrix = metrics.confusion_matrix(y_test, y_pred)\n",
        "print('Confusion Matrix', cnf_matrix)\n",
        "\n",
        "# Assess accuracy, precision, recall\n",
        "print(\"Accuracy:\",round(metrics.accuracy_score(y_test, y_pred),3))\n",
        "print(\"Precision:\",round(metrics.precision_score(y_test, y_pred),3))\n",
        "print(\"Recall:\",round(metrics.recall_score(y_test, y_pred),3))\n",
        "\n",
        "# Calculate ROC\n",
        "y_pred_proba = logreg.predict_proba(X_test_9)[::,1]\n",
        "fpr, tpr, _ = metrics.roc_curve(y_test, y_pred_proba)\n",
        "auc = metrics.roc_auc_score(y_test, y_pred_proba)\n",
        "plt.plot(fpr, tpr, label = \"data 1, auc=\"+str(auc))\n",
        "plt.legend(loc=4)\n",
        "plt.show()\n",
        "print('AUC:', round(auc,3))"
      ],
      "execution_count": 106,
      "outputs": [
        {
          "output_type": "stream",
          "text": [
            "Confusion Matrix [[266  21]\n",
            " [129  21]]\n",
            "Accuracy: 0.657\n",
            "Precision: 0.5\n",
            "Recall: 0.14\n"
          ],
          "name": "stdout"
        },
        {
          "output_type": "stream",
          "text": [
            "/usr/local/lib/python3.6/dist-packages/sklearn/linear_model/logistic.py:432: FutureWarning: Default solver will be changed to 'lbfgs' in 0.22. Specify a solver to silence this warning.\n",
            "  FutureWarning)\n"
          ],
          "name": "stderr"
        },
        {
          "output_type": "display_data",
          "data": {
            "image/png": "[encoded data removed]",
            "text/plain": [
              "<Figure size 432x288 with 1 Axes>"
            ]
          },
          "metadata": {
            "tags": []
          }
        },
        {
          "output_type": "stream",
          "text": [
            "AUC: 0.628\n"
          ],
          "name": "stdout"
        }
      ]
    },
    {
      "cell_type": "markdown",
      "metadata": {
        "colab_type": "text",
        "id": "kMwVNFcOLYag"
      },
      "source": [
        "**Logistic Regression - PC 20% of variance**\n",
        "\n",
        "5 prinicipal components"
      ]
    },
    {
      "cell_type": "code",
      "metadata": {
        "colab_type": "code",
        "id": "9ooCofl_LYai",
        "colab": {
          "base_uri": "https://localhost:8080/",
          "height": 395
        },
        "outputId": "1b177100-7d1f-475c-aa5f-c3d04c31f8f8"
      },
      "source": [
        "# Split the training/testing sets\n",
        "X_train_5 = X_train.iloc[:,0:5]\n",
        "X_test_5 = X_test.iloc[:,0:5]\n",
        "\n",
        "## Define and run the model\n",
        "# Instantiate the model (using default parameters)\n",
        "logreg = LogisticRegression()\n",
        "\n",
        "# fit the model with data\n",
        "logreg.fit(X_train_5, y_train)\n",
        "y_pred = logreg.predict(X_test_5)\n",
        "\n",
        "## Evaluate model \n",
        "# import the metrics class\n",
        "from sklearn import metrics\n",
        "\n",
        "cnf_matrix = metrics.confusion_matrix(y_test, y_pred)\n",
        "print('Confusion Matrix', cnf_matrix)\n",
        "\n",
        "# Assess accuracy, precision, recall\n",
        "print(\"Accuracy:\",round(metrics.accuracy_score(y_test, y_pred),3))\n",
        "print(\"Precision:\",round(metrics.precision_score(y_test, y_pred),3))\n",
        "print(\"Recall:\",round(metrics.recall_score(y_test, y_pred),3))\n",
        "\n",
        "# Calculate ROC\n",
        "y_pred_proba = logreg.predict_proba(X_test_5)[::,1]\n",
        "fpr, tpr, _ = metrics.roc_curve(y_test, y_pred_proba)\n",
        "auc = metrics.roc_auc_score(y_test, y_pred_proba)\n",
        "plt.plot(fpr, tpr, label = \"data 1, auc=\"+str(auc))\n",
        "plt.legend(loc=4)\n",
        "plt.show()\n",
        "print('AUC:', round(auc,3))"
      ],
      "execution_count": 107,
      "outputs": [
        {
          "output_type": "stream",
          "text": [
            "Confusion Matrix [[272  15]\n",
            " [138  12]]\n",
            "Accuracy: 0.65\n",
            "Precision: 0.444\n",
            "Recall: 0.08\n"
          ],
          "name": "stdout"
        },
        {
          "output_type": "stream",
          "text": [
            "/usr/local/lib/python3.6/dist-packages/sklearn/linear_model/logistic.py:432: FutureWarning: Default solver will be changed to 'lbfgs' in 0.22. Specify a solver to silence this warning.\n",
            "  FutureWarning)\n"
          ],
          "name": "stderr"
        },
        {
          "output_type": "display_data",
          "data": {
            "image/png": "[encoded data removed]",
            "text/plain": [
              "<Figure size 432x288 with 1 Axes>"
            ]
          },
          "metadata": {
            "tags": []
          }
        },
        {
          "output_type": "stream",
          "text": [
            "AUC: 0.625\n"
          ],
          "name": "stdout"
        }
      ]
    },
    {
      "cell_type": "markdown",
      "metadata": {
        "id": "3hOSXu7mJv7P",
        "colab_type": "text"
      },
      "source": [
        "# **Logistic Regression Results**"
      ]
    },
    {
      "cell_type": "markdown",
      "metadata": {
        "id": "rG_M72mWIxrQ",
        "colab_type": "text"
      },
      "source": [
        "**Table of Logistic Regression Results**\n",
        "\n",
        "**62 Prinicipal Components (41%) of the variance**\n",
        "* Accuracy: 0.641\n",
        "* Precision: 0.467\n",
        "* Recall: 0.333\n",
        "* AUC: 0.665\n",
        "\n",
        "**33 Prinicipal Components (35%) of the variance**\n",
        "* Accuracy: 0.661\n",
        "* Precision: 0.51\n",
        "* Recall: 0.333\n",
        "* AUC: 0.660\n",
        "\n",
        "**17 Prinicipal Components (30%) of the variance**\n",
        "* Accuracy: 0.659\n",
        "* Precision: 0.506\n",
        "* Recall: 0.28\n",
        "* AUC: 0.649\n",
        "\n",
        "**9 Prinicipal Components (25%) of the variance**\n",
        "* Accuracy: 0.657\n",
        "* Precision: 0.5\n",
        "* Recall: 0.14\n",
        "* AUC: 0.628\n",
        "\n",
        "**5 Prinicipal Components (20%) of the variance**\n",
        "* Accuracy: 0.65\n",
        "* Precision: 0.444\n",
        "* Recall: 0.08\n",
        "* AUC: 0.625\n",
        "\n",
        "As we can see, recall and AUC continue to decrease when we test under 33 prinicipal components. Intersetingly, 33 prinicipal components seems to perform simiarly to 62 prinicipal components. For instance, recall is the same, and the AUC is only slightly lower with 33 componenets. "
      ]
    },
    {
      "cell_type": "markdown",
      "metadata": {
        "id": "5M5jCMHP8COG",
        "colab_type": "text"
      },
      "source": [
        "# **Random Forest Classification**\n",
        "\n",
        "We assess the performance of a random forest classifier using 1213 prinicipal components (those found responsible for 90% of the variance), 62 and 33 prinicipal components. \n",
        "\n",
        "**Is there an upper limit on the number of predictors in a random forest model?**\n",
        "\n",
        "References:  https://towardsdatascience.com/random-forest-in-python-24d0893d51c0 and https://stackabuse.com/random-forest-algorithm-with-python-and-scikit-learn/"
      ]
    },
    {
      "cell_type": "markdown",
      "metadata": {
        "id": "BexDfa_OUM5S",
        "colab_type": "text"
      },
      "source": [
        "**1213 Prinicipal Components (90% of the Variance)**"
      ]
    },
    {
      "cell_type": "markdown",
      "metadata": {
        "colab_type": "text",
        "id": "C_0u1EQ7UjhG"
      },
      "source": [
        "**Train the Model**"
      ]
    },
    {
      "cell_type": "code",
      "metadata": {
        "colab_type": "code",
        "id": "n0L2WxhQUjhJ",
        "colab": {
          "base_uri": "https://localhost:8080/",
          "height": 131
        },
        "outputId": "3cffbd7e-b22a-4c6a-9653-1d1a1a98ba96"
      },
      "source": [
        "# Import the model we are using\n",
        "from sklearn.ensemble import RandomForestClassifier\n",
        "from sklearn.feature_selection import SelectFromModel # to identify features\n",
        "\n",
        "# Instantiate model with 1000 decision trees\n",
        "rf = RandomForestClassifier(n_estimators = 1000, random_state = 42)\n",
        "\n",
        "# Train the model on training data\n",
        "rf.fit(X_train, y_train)"
      ],
      "execution_count": 24,
      "outputs": [
        {
          "output_type": "execute_result",
          "data": {
            "text/plain": [
              "RandomForestClassifier(bootstrap=True, class_weight=None, criterion='gini',\n",
              "                       max_depth=None, max_features='auto', max_leaf_nodes=None,\n",
              "                       min_impurity_decrease=0.0, min_impurity_split=None,\n",
              "                       min_samples_leaf=1, min_samples_split=2,\n",
              "                       min_weight_fraction_leaf=0.0, n_estimators=1000,\n",
              "                       n_jobs=None, oob_score=False, random_state=42, verbose=0,\n",
              "                       warm_start=False)"
            ]
          },
          "metadata": {
            "tags": []
          },
          "execution_count": 24
        }
      ]
    },
    {
      "cell_type": "markdown",
      "metadata": {
        "colab_type": "text",
        "id": "1xFMAhmHUjhM"
      },
      "source": [
        "**Select Important Features**\n",
        "\n",
        "Identify which Principal Components contributed most to the model"
      ]
    },
    {
      "cell_type": "code",
      "metadata": {
        "colab_type": "code",
        "id": "VhTwF1NQUjhM",
        "colab": {
          "base_uri": "https://localhost:8080/",
          "height": 378
        },
        "outputId": "5f7861df-13d5-4929-80c2-ba96b553ac16"
      },
      "source": [
        "# First feature selection test\n",
        "sel = SelectFromModel(RandomForestClassifier(n_estimators = 100))\n",
        "sel.fit(X_train, y_train)\n",
        "sel.get_support()\n",
        "selected_feat= X_train.columns[(sel.get_support())]\n",
        "print(len(selected_feat)) \n",
        "print(selected_feat)\n",
        "\n",
        "## histogram of the top 10 pc by importance\n",
        "# create a list of features/column names\n",
        "features = list(X_train.columns.values) \n",
        "\n",
        "feat_importances = pd.Series(rf.feature_importances_, index=X_train.columns)  \n",
        "feat_importances.nlargest(10).plot(kind='barh')"
      ],
      "execution_count": 25,
      "outputs": [
        {
          "output_type": "stream",
          "text": [
            "550\n",
            "Index(['pc1', 'pc2', 'pc3', 'pc4', 'pc5', 'pc7', 'pc8', 'pc9', 'pc10', 'pc12',\n",
            "       ...\n",
            "       'pc1201', 'pc1203', 'pc1204', 'pc1205', 'pc1207', 'pc1208', 'pc1209',\n",
            "       'pc1210', 'pc1211', 'pc1212'],\n",
            "      dtype='object', length=550)\n"
          ],
          "name": "stdout"
        },
        {
          "output_type": "execute_result",
          "data": {
            "text/plain": [
              "<matplotlib.axes._subplots.AxesSubplot at 0x7f41a2d9e6d8>"
            ]
          },
          "metadata": {
            "tags": []
          },
          "execution_count": 25
        },
        {
          "output_type": "display_data",
          "data": {
            "image/png": "[encoded data removed]",
            "text/plain": [
              "<Figure size 432x288 with 1 Axes>"
            ]
          },
          "metadata": {
            "tags": []
          }
        }
      ]
    },
    {
      "cell_type": "markdown",
      "metadata": {
        "colab_type": "text",
        "id": "Sg56uv8LUjhQ"
      },
      "source": [
        "** **I should ask about this: The finding above is intersting because though PC1 is said to explain the most variance, it is not even in the plot of the top 10 prinicipal components the random forest found to be of importance. Though PC2 is implicated as being the most important** **"
      ]
    },
    {
      "cell_type": "markdown",
      "metadata": {
        "colab_type": "text",
        "id": "r_GDSaXpUjhQ"
      },
      "source": [
        "**Make Predictions on the Test Set**"
      ]
    },
    {
      "cell_type": "code",
      "metadata": {
        "colab_type": "code",
        "outputId": "a80f3e5c-a761-4808-b131-f4a43457a05e",
        "id": "UayB7jKrUjhR",
        "colab": {
          "base_uri": "https://localhost:8080/",
          "height": 33
        }
      },
      "source": [
        "# Use the forest's predict method on the test data\n",
        "predictions = rf.predict(X_test)\n",
        "# Probabilities for each class\n",
        "rf_probs = rf.predict_proba(X_test)[:, 1]\n",
        "\n",
        "# Calculate the absolute errors\n",
        "errors = abs(predictions - y_test)\n",
        "# Print out the mean absolute error (mae)\n",
        "print('Mean Absolute Error:', round(np.mean(errors), 2))"
      ],
      "execution_count": 26,
      "outputs": [
        {
          "output_type": "stream",
          "text": [
            "Mean Absolute Error: 0.34\n"
          ],
          "name": "stdout"
        }
      ]
    },
    {
      "cell_type": "markdown",
      "metadata": {
        "colab_type": "text",
        "id": "oT2PrzJAUjhX"
      },
      "source": [
        "**Evaluating the Performance**\n",
        "\n",
        "For Classification Problems the metrics used to evaluate an algorithm are accuracy, confusion matrix, precision, recall, and F1 values.\n",
        "\n",
        "We can also perform cross-fold validation to have a better understanding of the results\n",
        "\n",
        "Reference: https://medium.com/@hjhuney/implementing-a-random-forest-classification-model-in-python-583891c99652 "
      ]
    },
    {
      "cell_type": "markdown",
      "metadata": {
        "colab_type": "text",
        "id": "oD8KtZYuUjhX"
      },
      "source": [
        "**ROC on the Full Data**\n",
        "\n",
        "\n",
        "We make class predictions (predict) as well as predicted probabilities (predict_proba) to calculate the ROC AUC. Once we have the testing predictions, we can calculate the ROC AUC. https://towardsdatascience.com/an-implementation-and-explanation-of-the-random-forest-in-python-77bf308a9b76"
      ]
    },
    {
      "cell_type": "code",
      "metadata": {
        "colab_type": "code",
        "id": "IicIDdr_U3q0",
        "colab": {}
      },
      "source": [
        "from sklearn.model_selection import cross_val_score\n",
        "from sklearn.metrics import classification_report, confusion_matrix, accuracy_score"
      ],
      "execution_count": 0,
      "outputs": []
    },
    {
      "cell_type": "code",
      "metadata": {
        "colab_type": "code",
        "id": "qmvgdzrCUjhb",
        "colab": {
          "base_uri": "https://localhost:8080/",
          "height": 33
        },
        "outputId": "25109162-26f7-4b77-8c99-5fd21c60a8c4"
      },
      "source": [
        "from sklearn.metrics import roc_auc_score\n",
        "# Calculate ROC AUC\n",
        "roc_value = roc_auc_score(y_test, rf_probs) \n",
        "roc_value"
      ],
      "execution_count": 31,
      "outputs": [
        {
          "output_type": "execute_result",
          "data": {
            "text/plain": [
              "0.5944134727061556"
            ]
          },
          "metadata": {
            "tags": []
          },
          "execution_count": 31
        }
      ]
    },
    {
      "cell_type": "code",
      "metadata": {
        "colab_type": "code",
        "outputId": "1a4fec49-3c83-4e21-baa2-82990ef307fe",
        "id": "RGebJ4VZUjhd",
        "colab": {
          "base_uri": "https://localhost:8080/",
          "height": 265
        }
      },
      "source": [
        "# Probabilities for each class\n",
        "# Note from scikit learn: re fpr and tpr: \"Since the thresholds are sorted from low to high values, they are reversed upon returning them to ensure they correspond to both fpr and tpr, which are sorted in reversed order during their calculation.\"\n",
        "rf_probs = rf.predict_proba(X_test)[:, 1]\n",
        "fpr, tpr, _ = metrics.roc_curve(y_test, rf_probs)\n",
        "auc = metrics.roc_auc_score(y_test, rf_probs)\n",
        "auc = round(auc, 4)\n",
        "plt.plot(fpr, tpr, label=\"date 1, auc=\"+str(auc))\n",
        "plt.legend(loc=4)\n",
        "plt.show()"
      ],
      "execution_count": 32,
      "outputs": [
        {
          "output_type": "display_data",
          "data": {
            "image/png": "[encoded data removed]",
            "text/plain": [
              "<Figure size 432x288 with 1 Axes>"
            ]
          },
          "metadata": {
            "tags": []
          }
        }
      ]
    },
    {
      "cell_type": "markdown",
      "metadata": {
        "colab_type": "text",
        "id": "C-2FmyyUUjhf"
      },
      "source": [
        "**10 Cross-Fold Validation**"
      ]
    },
    {
      "cell_type": "code",
      "metadata": {
        "colab_type": "code",
        "id": "rH47sFYAUjhi",
        "colab": {}
      },
      "source": [
        "rfc_cv_score = cross_val_score(rf, x, y, cv=10, scoring='roc_auc') "
      ],
      "execution_count": 0,
      "outputs": []
    },
    {
      "cell_type": "markdown",
      "metadata": {
        "colab_type": "text",
        "id": "gv6CioPzUjhk"
      },
      "source": [
        "Below, we also can examine the confusion matrix, the classification report containing precision, recall, f1-score, and support, All AUC scores, and the mean AUC score\n",
        "\n",
        "The **confusion matrix** is useful for giving false positives and false negatives\n",
        "\n",
        "The **ROC Curve** plots out the true positive rate vs the false positive rate at various thresholds\n",
        "\n",
        "The **ROC AUC Scoring** used in the cross-validation model shows the area under the ROC curve"
      ]
    },
    {
      "cell_type": "code",
      "metadata": {
        "colab_type": "code",
        "id": "Yndd2vRpUjhk",
        "colab": {
          "base_uri": "https://localhost:8080/",
          "height": 505
        },
        "outputId": "1bfec7b5-d32b-426a-c0b3-73c28676a559"
      },
      "source": [
        "print(\"=== Confusion Matrix ===\")\n",
        "print(confusion_matrix(y_test, predictions))\n",
        "print('\\n')\n",
        "print(\"=== Classification Report ===\")\n",
        "print(classification_report(y_test, predictions))\n",
        "print('\\n')\n",
        "print(\"=== All AUC Scores ===\")\n",
        "print(rfc_cv_score)\n",
        "print('\\n')\n",
        "print(\"=== Mean AUC Score ===\")\n",
        "print(\"Mean AUC Score - Random Forest: \", rfc_cv_score.mean())\n",
        "print('\\n')\n",
        "print(\"=== Accuracy Score ===\")\n",
        "print(\"Accuracy:\", accuracy_score(y_test, predictions))"
      ],
      "execution_count": 34,
      "outputs": [
        {
          "output_type": "stream",
          "text": [
            "=== Confusion Matrix ===\n",
            "[[287   0]\n",
            " [150   0]]\n",
            "\n",
            "\n",
            "=== Classification Report ===\n",
            "              precision    recall  f1-score   support\n",
            "\n",
            "         0.0       0.66      1.00      0.79       287\n",
            "         1.0       0.00      0.00      0.00       150\n",
            "\n",
            "    accuracy                           0.66       437\n",
            "   macro avg       0.33      0.50      0.40       437\n",
            "weighted avg       0.43      0.66      0.52       437\n",
            "\n",
            "\n",
            "\n",
            "=== All AUC Scores ===\n",
            "[0.6203968  0.62417927 0.55002855 0.65772195 0.49500428 0.55174136\n",
            " 0.56722809 0.58071717 0.62903226 0.62644009]\n",
            "\n",
            "\n",
            "=== Mean AUC Score ===\n",
            "Mean AUC Score - Random Forest:  0.5902489830145589\n",
            "\n",
            "\n",
            "=== Accuracy Score ===\n",
            "Accuracy: 0.6567505720823799\n"
          ],
          "name": "stdout"
        },
        {
          "output_type": "stream",
          "text": [
            "/usr/local/lib/python3.6/dist-packages/sklearn/metrics/classification.py:1437: UndefinedMetricWarning: Precision and F-score are ill-defined and being set to 0.0 in labels with no predicted samples.\n",
            "  'precision', 'predicted', average, warn_for)\n"
          ],
          "name": "stderr"
        }
      ]
    },
    {
      "cell_type": "markdown",
      "metadata": {
        "id": "rJD32vZ8bQOb",
        "colab_type": "text"
      },
      "source": [
        "It looks like 1213 PC may be too many for us to analyze -- we get a recall of 0 -- this actually makes me wonder if I messed something up with the code? "
      ]
    },
    {
      "cell_type": "markdown",
      "metadata": {
        "id": "itWBnwaGUHSF",
        "colab_type": "text"
      },
      "source": [
        "**62 Prinicipal Components (41% of the Variance)**"
      ]
    },
    {
      "cell_type": "markdown",
      "metadata": {
        "id": "JpN91JbL9JOA",
        "colab_type": "text"
      },
      "source": [
        "**Train the Model**"
      ]
    },
    {
      "cell_type": "code",
      "metadata": {
        "id": "_dsBsgBv9LWy",
        "colab_type": "code",
        "colab": {
          "base_uri": "https://localhost:8080/",
          "height": 131
        },
        "outputId": "646f3469-c433-4250-d5d2-da3e50712f8a"
      },
      "source": [
        "# Import the model we are using\n",
        "from sklearn.ensemble import RandomForestClassifier\n",
        "from sklearn.feature_selection import SelectFromModel # to identify features\n",
        "\n",
        "# Instantiate model with 1000 decision trees - results below reported w/ random state = 42\n",
        "rf = RandomForestClassifier(n_estimators = 1000, random_state = 42)\n",
        "\n",
        "# Train the model on training data\n",
        "rf.fit(X_train_62, y_train)"
      ],
      "execution_count": 68,
      "outputs": [
        {
          "output_type": "execute_result",
          "data": {
            "text/plain": [
              "RandomForestClassifier(bootstrap=True, class_weight=None, criterion='gini',\n",
              "                       max_depth=None, max_features='auto', max_leaf_nodes=None,\n",
              "                       min_impurity_decrease=0.0, min_impurity_split=None,\n",
              "                       min_samples_leaf=1, min_samples_split=2,\n",
              "                       min_weight_fraction_leaf=0.0, n_estimators=1000,\n",
              "                       n_jobs=None, oob_score=False, random_state=42, verbose=0,\n",
              "                       warm_start=False)"
            ]
          },
          "metadata": {
            "tags": []
          },
          "execution_count": 68
        }
      ]
    },
    {
      "cell_type": "markdown",
      "metadata": {
        "id": "bZbwAmNQ-XdF",
        "colab_type": "text"
      },
      "source": [
        "**Select Important Features**\n",
        "\n",
        "Identify which Principal Components contributed most to the model"
      ]
    },
    {
      "cell_type": "code",
      "metadata": {
        "id": "6_MdbNeW-bHO",
        "colab_type": "code",
        "colab": {
          "base_uri": "https://localhost:8080/",
          "height": 362
        },
        "outputId": "fcb85359-6b54-4bde-ca2b-3dd51fbcffc5"
      },
      "source": [
        "# First feature selection test\n",
        "sel = SelectFromModel(RandomForestClassifier(n_estimators = 100))\n",
        "sel.fit(X_train_62, y_train)\n",
        "sel.get_support()\n",
        "selected_feat= X_train_62.columns[(sel.get_support())]\n",
        "print(len(selected_feat)) \n",
        "print(selected_feat)\n",
        "\n",
        "## histogram of the top 10 pc by importance\n",
        "# create a list of features/column names\n",
        "features = list(X_train_62.columns.values) \n",
        "\n",
        "feat_importances = pd.Series(rf.feature_importances_, index=X_train_62.columns)  \n",
        "feat_importances.nlargest(10).plot(kind='barh')"
      ],
      "execution_count": 69,
      "outputs": [
        {
          "output_type": "stream",
          "text": [
            "23\n",
            "Index(['pc1', 'pc2', 'pc3', 'pc5', 'pc6', 'pc7', 'pc8', 'pc9', 'pc10', 'pc12',\n",
            "       'pc17', 'pc19', 'pc20', 'pc21', 'pc22', 'pc23', 'pc26', 'pc33', 'pc35',\n",
            "       'pc42', 'pc47', 'pc50', 'pc60'],\n",
            "      dtype='object')\n"
          ],
          "name": "stdout"
        },
        {
          "output_type": "execute_result",
          "data": {
            "text/plain": [
              "<matplotlib.axes._subplots.AxesSubplot at 0x7f41a47baf98>"
            ]
          },
          "metadata": {
            "tags": []
          },
          "execution_count": 69
        },
        {
          "output_type": "display_data",
          "data": {
            "image/png": "[encoded data removed]",
            "text/plain": [
              "<Figure size 432x288 with 1 Axes>"
            ]
          },
          "metadata": {
            "tags": []
          }
        }
      ]
    },
    {
      "cell_type": "markdown",
      "metadata": {
        "id": "BFUXfVprIEVB",
        "colab_type": "text"
      },
      "source": [
        "** **I should ask about this: The finding above is intersting because though PC1 is said to explain the most variance, it is not even in the plot of the top 10 prinicipal components the random forest found to be of importance. Though PC2 and PC3 reside in the top 10!** **"
      ]
    },
    {
      "cell_type": "markdown",
      "metadata": {
        "id": "FENSsY5l9aDT",
        "colab_type": "text"
      },
      "source": [
        "**Make Predictions on the Test Set**"
      ]
    },
    {
      "cell_type": "code",
      "metadata": {
        "id": "7yKF_xdj9dbD",
        "colab_type": "code",
        "colab": {
          "base_uri": "https://localhost:8080/",
          "height": 33
        },
        "outputId": "90f0da01-5367-4337-cf80-c0e380e88603"
      },
      "source": [
        "# Use the forest's predict method on the test data\n",
        "predictions = rf.predict(X_test_62)\n",
        "# Probabilities for each class\n",
        "rf_probs = rf.predict_proba(X_test_62)[:, 1]\n",
        "\n",
        "# Calculate the absolute errors\n",
        "errors = abs(predictions - y_test)\n",
        "# Print out the mean absolute error (mae)\n",
        "print('Mean Absolute Error:', round(np.mean(errors), 2))"
      ],
      "execution_count": 70,
      "outputs": [
        {
          "output_type": "stream",
          "text": [
            "Mean Absolute Error: 0.36\n"
          ],
          "name": "stdout"
        }
      ]
    },
    {
      "cell_type": "markdown",
      "metadata": {
        "id": "p5pOirYXDrEn",
        "colab_type": "text"
      },
      "source": [
        "**Evaluating the Performance**\n",
        "\n",
        "For Classification Problems the metrics used to evaluate an algorithm are accuracy, confusion matrix, precision, recall, and F1 values.\n",
        "\n",
        "We can also perform cross-fold validation to have a better understanding of the results\n",
        "\n",
        "Reference: https://medium.com/@hjhuney/implementing-a-random-forest-classification-model-in-python-583891c99652 "
      ]
    },
    {
      "cell_type": "markdown",
      "metadata": {
        "id": "Mu4eohUxFVaA",
        "colab_type": "text"
      },
      "source": [
        "**ROC on the Full Data**\n",
        "\n",
        "\n",
        "We make class predictions (predict) as well as predicted probabilities (predict_proba) to calculate the ROC AUC. Once we have the testing predictions, we can calculate the ROC AUC. https://towardsdatascience.com/an-implementation-and-explanation-of-the-random-forest-in-python-77bf308a9b76"
      ]
    },
    {
      "cell_type": "code",
      "metadata": {
        "id": "19CamuL7EZzB",
        "colab_type": "code",
        "colab": {}
      },
      "source": [
        "from sklearn.model_selection import cross_val_score\n",
        "from sklearn.metrics import classification_report, confusion_matrix, accuracy_score"
      ],
      "execution_count": 0,
      "outputs": []
    },
    {
      "cell_type": "code",
      "metadata": {
        "id": "WrO0-IuE-o0E",
        "colab_type": "code",
        "colab": {
          "base_uri": "https://localhost:8080/",
          "height": 33
        },
        "outputId": "c977ac8c-5cef-4c79-b503-5b85ee9dd677"
      },
      "source": [
        "from sklearn.metrics import roc_auc_score\n",
        "\n",
        "# Calculate ROC AUC\n",
        "roc_value = roc_auc_score(y_test, rf_probs) \n",
        "roc_value"
      ],
      "execution_count": 72,
      "outputs": [
        {
          "output_type": "execute_result",
          "data": {
            "text/plain": [
              "0.6376655052264809"
            ]
          },
          "metadata": {
            "tags": []
          },
          "execution_count": 72
        }
      ]
    },
    {
      "cell_type": "code",
      "metadata": {
        "id": "fyKejE-yF88f",
        "colab_type": "code",
        "colab": {
          "base_uri": "https://localhost:8080/",
          "height": 265
        },
        "outputId": "53f011cf-fc36-43df-aade-e99c8209c24b"
      },
      "source": [
        "# Probabilities for each class\n",
        "# Note from scikit learn: re fpr and tpr: \"Since the thresholds are sorted from low to high values, they are reversed upon returning them to ensure they correspond to both fpr and tpr, which are sorted in reversed order during their calculation.\"\n",
        "rf_probs = rf.predict_proba(X_test_62)[:, 1]\n",
        "fpr, tpr, _ = metrics.roc_curve(y_test, rf_probs)\n",
        "auc = metrics.roc_auc_score(y_test, rf_probs)\n",
        "auc = round(auc, 4)\n",
        "plt.plot(fpr, tpr, label=\"date 1, auc=\"+str(auc))\n",
        "plt.legend(loc=4)\n",
        "plt.show()"
      ],
      "execution_count": 73,
      "outputs": [
        {
          "output_type": "display_data",
          "data": {
            "image/png": "[encoded data removed]",
            "text/plain": [
              "<Figure size 432x288 with 1 Axes>"
            ]
          },
          "metadata": {
            "tags": []
          }
        }
      ]
    },
    {
      "cell_type": "markdown",
      "metadata": {
        "id": "3U0IYU-uFzGZ",
        "colab_type": "text"
      },
      "source": [
        "**10 Cross-Fold Validation**"
      ]
    },
    {
      "cell_type": "code",
      "metadata": {
        "id": "gQRXv1rIE9UL",
        "colab_type": "code",
        "colab": {}
      },
      "source": [
        "# need to combine the testing and training sets to perform cross-fold varlidation\n",
        "# select the 62 pc columns\n",
        "x_62 = x.iloc[:,0:62]\n",
        "y_62 = y\n",
        "\n",
        "rfc_cv_score = cross_val_score(rf, x_62, y_62, cv=10, scoring='roc_auc') "
      ],
      "execution_count": 0,
      "outputs": []
    },
    {
      "cell_type": "markdown",
      "metadata": {
        "id": "YEonYh2WEhkU",
        "colab_type": "text"
      },
      "source": [
        "Below, we also can examine the confusion matrix, the classification report containing precision, recall, f1-score, and support, All AUC scores, and the mean AUC score\n",
        "\n",
        "The **confusion matrix** is useful for giving false positives and false negatives\n",
        "\n",
        "The **ROC Curve** plots out the true positive rate vs the false positive rate at various thresholds\n",
        "\n",
        "The **ROC AUC Scoring** used in the cross-validation model shows the area under the ROC curve"
      ]
    },
    {
      "cell_type": "code",
      "metadata": {
        "id": "haZRHJqGcv9f",
        "colab_type": "code",
        "colab": {
          "base_uri": "https://localhost:8080/",
          "height": 472
        },
        "outputId": "759b5639-90ee-4c8d-da6e-bbc37b6577d4"
      },
      "source": [
        "print(\"=== Confusion Matrix ===\")\n",
        "print(confusion_matrix(y_test, predictions))\n",
        "print('\\n')\n",
        "print(\"=== Classification Report ===\")\n",
        "print(classification_report(y_test, predictions))\n",
        "print('\\n')\n",
        "print(\"=== All AUC Scores ===\")\n",
        "print(rfc_cv_score)\n",
        "print('\\n')\n",
        "print(\"=== Mean AUC Score ===\")\n",
        "print(\"Mean AUC Score - Random Forest: \", rfc_cv_score.mean())\n",
        "print('\\n')\n",
        "print(\"=== Accuracy Score ===\")\n",
        "print(\"Accuracy:\", accuracy_score(y_test, predictions))"
      ],
      "execution_count": 75,
      "outputs": [
        {
          "output_type": "stream",
          "text": [
            "=== Confusion Matrix ===\n",
            "[[267  20]\n",
            " [136  14]]\n",
            "\n",
            "\n",
            "=== Classification Report ===\n",
            "              precision    recall  f1-score   support\n",
            "\n",
            "         0.0       0.66      0.93      0.77       287\n",
            "         1.0       0.41      0.09      0.15       150\n",
            "\n",
            "    accuracy                           0.64       437\n",
            "   macro avg       0.54      0.51      0.46       437\n",
            "weighted avg       0.58      0.64      0.56       437\n",
            "\n",
            "\n",
            "\n",
            "=== All AUC Scores ===\n",
            "[0.62432201 0.6131887  0.63281473 0.70147017 0.6107622  0.57493577\n",
            " 0.55959178 0.58518145 0.56127592 0.76281682]\n",
            "\n",
            "\n",
            "=== Mean AUC Score ===\n",
            "Mean AUC Score - Random Forest:  0.6226359548958036\n",
            "\n",
            "\n",
            "=== Accuracy Score ===\n",
            "Accuracy: 0.6430205949656751\n"
          ],
          "name": "stdout"
        }
      ]
    },
    {
      "cell_type": "markdown",
      "metadata": {
        "id": "Z5Rt_2XZUZ7N",
        "colab_type": "text"
      },
      "source": [
        "**33 Prinicipal Components (35% of the Variance)**"
      ]
    },
    {
      "cell_type": "markdown",
      "metadata": {
        "colab_type": "text",
        "id": "FzmD72vGXGeR"
      },
      "source": [
        "**Train the Model**"
      ]
    },
    {
      "cell_type": "code",
      "metadata": {
        "colab_type": "code",
        "id": "V4BekCdMXGef",
        "colab": {
          "base_uri": "https://localhost:8080/",
          "height": 131
        },
        "outputId": "8aac0ffa-b190-410d-9bc3-62f403a4c4d6"
      },
      "source": [
        "# Import the model we are using\n",
        "from sklearn.ensemble import RandomForestClassifier\n",
        "from sklearn.feature_selection import SelectFromModel # to identify features\n",
        "\n",
        "# Instantiate model with 1000 decision trees\n",
        "rf = RandomForestClassifier(n_estimators = 1000, random_state = 42) # results below reported w/ random state = 42\n",
        "\n",
        "# Train the model on training data\n",
        "rf.fit(X_train_33, y_train)"
      ],
      "execution_count": 76,
      "outputs": [
        {
          "output_type": "execute_result",
          "data": {
            "text/plain": [
              "RandomForestClassifier(bootstrap=True, class_weight=None, criterion='gini',\n",
              "                       max_depth=None, max_features='auto', max_leaf_nodes=None,\n",
              "                       min_impurity_decrease=0.0, min_impurity_split=None,\n",
              "                       min_samples_leaf=1, min_samples_split=2,\n",
              "                       min_weight_fraction_leaf=0.0, n_estimators=1000,\n",
              "                       n_jobs=None, oob_score=False, random_state=42, verbose=0,\n",
              "                       warm_start=False)"
            ]
          },
          "metadata": {
            "tags": []
          },
          "execution_count": 76
        }
      ]
    },
    {
      "cell_type": "markdown",
      "metadata": {
        "colab_type": "text",
        "id": "cOom3lxOXGer"
      },
      "source": [
        "**Select Important Features**\n",
        "\n",
        "Identify which Principal Components contributed most to the model"
      ]
    },
    {
      "cell_type": "code",
      "metadata": {
        "colab_type": "code",
        "id": "D0xAufOyXGes",
        "colab": {
          "base_uri": "https://localhost:8080/",
          "height": 346
        },
        "outputId": "99cfbb1d-ef6a-4d0c-da38-c4ad6a6994f6"
      },
      "source": [
        "# First feature selection test\n",
        "sel = SelectFromModel(RandomForestClassifier(n_estimators = 100))\n",
        "sel.fit(X_train_33, y_train)\n",
        "sel.get_support()\n",
        "selected_feat= X_train_33.columns[(sel.get_support())]\n",
        "print(len(selected_feat)) \n",
        "print(selected_feat)\n",
        "\n",
        "## histogram of the top 10 pc by importance\n",
        "# create a list of features/column names\n",
        "features = list(X_train_33.columns.values) \n",
        "\n",
        "feat_importances = pd.Series(rf.feature_importances_, index=X_train_33.columns)  \n",
        "feat_importances.nlargest(10).plot(kind='barh')"
      ],
      "execution_count": 77,
      "outputs": [
        {
          "output_type": "stream",
          "text": [
            "11\n",
            "Index(['pc1', 'pc2', 'pc3', 'pc5', 'pc6', 'pc8', 'pc12', 'pc17', 'pc21',\n",
            "       'pc29', 'pc33'],\n",
            "      dtype='object')\n"
          ],
          "name": "stdout"
        },
        {
          "output_type": "execute_result",
          "data": {
            "text/plain": [
              "<matplotlib.axes._subplots.AxesSubplot at 0x7f41a2272a20>"
            ]
          },
          "metadata": {
            "tags": []
          },
          "execution_count": 77
        },
        {
          "output_type": "display_data",
          "data": {
            "image/png": "[encoded data removed]",
            "text/plain": [
              "<Figure size 432x288 with 1 Axes>"
            ]
          },
          "metadata": {
            "tags": []
          }
        }
      ]
    },
    {
      "cell_type": "markdown",
      "metadata": {
        "colab_type": "text",
        "id": "ycKH-E5QXGe2"
      },
      "source": [
        "** **I should ask about this: The finding above is intersting because though PC1 is said to explain the most variance, it is not even in the plot of the top 10 prinicipal components the random forest found to be of importance. PC2 and PC3 were found in the top 10 in this test.** **"
      ]
    },
    {
      "cell_type": "markdown",
      "metadata": {
        "colab_type": "text",
        "id": "IEkp4XAdXGe8"
      },
      "source": [
        "**Make Predictions on the Test Set**"
      ]
    },
    {
      "cell_type": "code",
      "metadata": {
        "colab_type": "code",
        "outputId": "1322bb5c-0a51-4029-c371-b534ab53b045",
        "id": "xEx7u0msXGe_",
        "colab": {
          "base_uri": "https://localhost:8080/",
          "height": 33
        }
      },
      "source": [
        "# Use the forest's predict method on the test data\n",
        "predictions = rf.predict(X_test_33)\n",
        "# Probabilities for each class\n",
        "rf_probs = rf.predict_proba(X_test_33)[:, 1]\n",
        "\n",
        "# Calculate the absolute errors\n",
        "errors = abs(predictions - y_test)\n",
        "# Print out the mean absolute error (mae)\n",
        "print('Mean Absolute Error:', round(np.mean(errors), 2))"
      ],
      "execution_count": 78,
      "outputs": [
        {
          "output_type": "stream",
          "text": [
            "Mean Absolute Error: 0.33\n"
          ],
          "name": "stdout"
        }
      ]
    },
    {
      "cell_type": "markdown",
      "metadata": {
        "colab_type": "text",
        "id": "-5PL9FdiXGfK"
      },
      "source": [
        "**Evaluating the Performance**\n",
        "\n",
        "For Classification Problems the metrics used to evaluate an algorithm are accuracy, confusion matrix, precision, recall, and F1 values.\n",
        "\n",
        "We can also perform cross-fold validation to have a better understanding of the results\n",
        "\n",
        "Reference: https://medium.com/@hjhuney/implementing-a-random-forest-classification-model-in-python-583891c99652 "
      ]
    },
    {
      "cell_type": "markdown",
      "metadata": {
        "colab_type": "text",
        "id": "1BO07lHLXGfM"
      },
      "source": [
        "**ROC on the Full Data**\n",
        "\n",
        "\n",
        "We make class predictions (predict) as well as predicted probabilities (predict_proba) to calculate the ROC AUC. Once we have the testing predictions, we can calculate the ROC AUC. https://towardsdatascience.com/an-implementation-and-explanation-of-the-random-forest-in-python-77bf308a9b76"
      ]
    },
    {
      "cell_type": "code",
      "metadata": {
        "colab_type": "code",
        "id": "WYWMUdqXXGfP",
        "colab": {}
      },
      "source": [
        "from sklearn.model_selection import cross_val_score\n",
        "from sklearn.metrics import classification_report, confusion_matrix, accuracy_score"
      ],
      "execution_count": 0,
      "outputs": []
    },
    {
      "cell_type": "code",
      "metadata": {
        "colab_type": "code",
        "id": "zrQY6TRbXGfZ",
        "colab": {
          "base_uri": "https://localhost:8080/",
          "height": 33
        },
        "outputId": "9162a198-9332-449a-e463-b684fc9f7aca"
      },
      "source": [
        "from sklearn.metrics import roc_auc_score\n",
        "\n",
        "# Calculate ROC AUC\n",
        "roc_value = roc_auc_score(y_test, rf_probs) \n",
        "roc_value"
      ],
      "execution_count": 80,
      "outputs": [
        {
          "output_type": "execute_result",
          "data": {
            "text/plain": [
              "0.6287224157955866"
            ]
          },
          "metadata": {
            "tags": []
          },
          "execution_count": 80
        }
      ]
    },
    {
      "cell_type": "code",
      "metadata": {
        "colab_type": "code",
        "outputId": "d22ef342-96ed-421a-9a0c-6e6f73204964",
        "id": "1Yr6tOxNXGfg",
        "colab": {
          "base_uri": "https://localhost:8080/",
          "height": 265
        }
      },
      "source": [
        "# Probabilities for each class\n",
        "# Note from scikit learn: re fpr and tpr: \"Since the thresholds are sorted from low to high values, they are reversed upon returning them to ensure they correspond to both fpr and tpr, which are sorted in reversed order during their calculation.\"\n",
        "rf_probs = rf.predict_proba(X_test_33)[:, 1]\n",
        "fpr, tpr, _ = metrics.roc_curve(y_test, rf_probs)\n",
        "auc = metrics.roc_auc_score(y_test, rf_probs)\n",
        "auc = round(auc, 4)\n",
        "plt.plot(fpr, tpr, label=\"date 1, auc=\"+str(auc))\n",
        "plt.legend(loc=4)\n",
        "plt.show()"
      ],
      "execution_count": 81,
      "outputs": [
        {
          "output_type": "display_data",
          "data": {
            "image/png": "[encoded data removed]",
            "text/plain": [
              "<Figure size 432x288 with 1 Axes>"
            ]
          },
          "metadata": {
            "tags": []
          }
        }
      ]
    },
    {
      "cell_type": "markdown",
      "metadata": {
        "colab_type": "text",
        "id": "bEoQWOGAXGfl"
      },
      "source": [
        "**10 Cross-Fold Validation**"
      ]
    },
    {
      "cell_type": "code",
      "metadata": {
        "colab_type": "code",
        "id": "hJSLBu04XGfm",
        "colab": {}
      },
      "source": [
        "# need to combine the testing and training sets to perform cross-fold varlidation\n",
        "# select the 33 pc columns\n",
        "x_33 = x.iloc[:,0:33]\n",
        "y_33 = y\n",
        "\n",
        "rfc_cv_score = cross_val_score(rf, x_33, y_33, cv=10, scoring='roc_auc') "
      ],
      "execution_count": 0,
      "outputs": []
    },
    {
      "cell_type": "markdown",
      "metadata": {
        "colab_type": "text",
        "id": "vZwd1wqnXGfq"
      },
      "source": [
        "Below, we also can examine the confusion matrix, the classification report containing precision, recall, f1-score, and support, All AUC scores, and the mean AUC score\n",
        "\n",
        "The **confusion matrix** is useful for giving false positives and false negatives\n",
        "\n",
        "The **ROC Curve** plots out the true positive rate vs the false positive rate at various thresholds\n",
        "\n",
        "The **ROC AUC Scoring** used in the cross-validation model shows the area under the ROC curve"
      ]
    },
    {
      "cell_type": "code",
      "metadata": {
        "colab_type": "code",
        "id": "tpYKGm-qXGfr",
        "colab": {
          "base_uri": "https://localhost:8080/",
          "height": 472
        },
        "outputId": "36e12d63-98ba-435f-bfc3-d4a51a62edca"
      },
      "source": [
        "print(\"=== Confusion Matrix ===\")\n",
        "print(confusion_matrix(y_test, predictions))\n",
        "print('\\n')\n",
        "print(\"=== Classification Report ===\")\n",
        "print(classification_report(y_test, predictions))\n",
        "print('\\n')\n",
        "print(\"=== All AUC Scores ===\")\n",
        "print(rfc_cv_score)\n",
        "print('\\n')\n",
        "print(\"=== Mean AUC Score ===\")\n",
        "print(\"Mean AUC Score - Random Forest: \", rfc_cv_score.mean())\n",
        "print('\\n')\n",
        "print(\"=== Accuracy Score ===\")\n",
        "print(\"Accuracy:\", accuracy_score(y_test, predictions))"
      ],
      "execution_count": 83,
      "outputs": [
        {
          "output_type": "stream",
          "text": [
            "=== Confusion Matrix ===\n",
            "[[262  25]\n",
            " [118  32]]\n",
            "\n",
            "\n",
            "=== Classification Report ===\n",
            "              precision    recall  f1-score   support\n",
            "\n",
            "         0.0       0.69      0.91      0.79       287\n",
            "         1.0       0.56      0.21      0.31       150\n",
            "\n",
            "    accuracy                           0.67       437\n",
            "   macro avg       0.63      0.56      0.55       437\n",
            "weighted avg       0.65      0.67      0.62       437\n",
            "\n",
            "\n",
            "\n",
            "=== All AUC Scores ===\n",
            "[0.61754211 0.61411647 0.59877248 0.7471453  0.62553526 0.56408792\n",
            " 0.57800457 0.60224654 0.53096198 0.77491359]\n",
            "\n",
            "\n",
            "=== Mean AUC Score ===\n",
            "Mean AUC Score - Random Forest:  0.6253326230577871\n",
            "\n",
            "\n",
            "=== Accuracy Score ===\n",
            "Accuracy: 0.6727688787185355\n"
          ],
          "name": "stdout"
        }
      ]
    },
    {
      "cell_type": "markdown",
      "metadata": {
        "id": "8DjwC19GSX8j",
        "colab_type": "text"
      },
      "source": [
        "# **Random Forest Results**\n",
        "\n",
        "**Table of Random Forest Results**\n",
        "\n",
        "**1213 Prinicipal Components (90%) of the variance**\n",
        "\n",
        "I am not going to include these results -- Recall was 0\n",
        "\n",
        "**62 Prinicipal Components (41%) of the variance**\n",
        "\n",
        "* AUC: 0.637\n",
        "* Mean Absolute Error: 0.36\n",
        "* Accuracy: 0.643\n",
        "* Mean AUC from 10 CFV: 0.62\n",
        "                   === Classification Report ===\n",
        "              precision    recall  f1-score   support\n",
        "\n",
        "         0.0       0.66      0.93      0.77       287\n",
        "         1.0       0.41      0.09      0.15       150\n",
        "       accuracy                        0.64       437\n",
        "       macro avg   0.54      0.51      0.46       437\n",
        "      weighted avg 0.58      0.64      0.56       437 \n",
        "\n",
        "Sensitivity is very low with this method.\n",
        "\n",
        "**33 Prinicipal Components (35%) of the variance**\n",
        "* AUC: 0.623\n",
        "* Mean Absolute Error: 0.33\n",
        "* Accuracy: 0.67\n",
        "* Mean AUC from 10 CFV: 0.67\n",
        "\n",
        "                    === Classification Report ===\n",
        "              precision    recall  f1-score   support\n",
        "\n",
        "         0.0       0.69      0.91      0.79       287\n",
        "         1.0       0.56      0.21      0.31       150\n",
        "       accuracy                        0.67       437\n",
        "       macro avg   0.63      0.56      0.55       437\n",
        "      weighted avg 0.65      0.67      0.62       437\n",
        "\n",
        "\n",
        "Overall, it does not look like we can expect good results with all 1213 Prinicipal Components. Additionally, AUCs and recall were better in the logistic regression models. \n",
        "\n",
        "Suprisingly, Recall was higher when testing 33 prinicipal components with a random forest classifier. I wonder if may that was just by chance.\n",
        "\n",
        "**Note:** I changed the random see for pc_33 random forest results because I wanted to assess whether or not we'd get the same recall. Thus, the actual results may be slightly different from what was reported in this results chunk. **Update:** Recall is still 0.17. \n",
        "\n",
        "I also tried changing random number see for 62 prinicpal components, and the recall was .10 ~~ so looks like perhaps 33 prinicipal components performs better with random forests -- although more tests would help ensure this. \n",
        "\n",
        "**One thing to maybe look into is changing the number of trees. I wonder if this would improve results at all.**"
      ]
    },
    {
      "cell_type": "markdown",
      "metadata": {
        "id": "o_cKdGjWcZkl",
        "colab_type": "text"
      },
      "source": [
        "# **Neural Network Classification**"
      ]
    },
    {
      "cell_type": "code",
      "metadata": {
        "id": "jhs-KCueHlKj",
        "colab_type": "code",
        "colab": {}
      },
      "source": [
        "# Import PyTorch packages\n",
        "import torch\n",
        "from torch import nn\n",
        "from torchvision import datasets, transforms\n",
        "from torch import optim\n",
        "from torch.utils.data.sampler import SubsetRandomSampler\n",
        "from torch.utils.data.dataloader import DataLoader\n",
        "from torch.utils.data import TensorDataset\n",
        "import torch.nn.functional as F\n",
        "from sklearn.metrics import roc_curve, auc"
      ],
      "execution_count": 0,
      "outputs": []
    },
    {
      "cell_type": "markdown",
      "metadata": {
        "id": "YVPiLg0DgkuU",
        "colab_type": "text"
      },
      "source": [
        "**Assess Neural Network Classification Using all 1213 Prinicipal Components**"
      ]
    },
    {
      "cell_type": "markdown",
      "metadata": {
        "id": "9WMA1F7XxV8a",
        "colab_type": "text"
      },
      "source": [
        "**Format the Training Dataset**"
      ]
    },
    {
      "cell_type": "code",
      "metadata": {
        "id": "g7pj4XyVzUIZ",
        "colab_type": "code",
        "colab": {}
      },
      "source": [
        "# Convert data into arrays\n",
        "xb = np.array(X_train, dtype = \"float32\")\n",
        "yb = np.array(y_train, dtype = \"float32\")\n",
        "\n",
        "# Convert arrays into tensors\n",
        "xb = torch.from_numpy(xb)\n",
        "yb = torch.from_numpy(yb)\n",
        "\n",
        "# Combine the arrays\n",
        "trainloader = TensorDataset(xb, yb)\n",
        "\n",
        "# Define the batchsize\n",
        "batch_size = 32\n",
        "\n",
        "# Training Loader\n",
        "trainloader = DataLoader(trainloader, batch_size, shuffle=True)"
      ],
      "execution_count": 0,
      "outputs": []
    },
    {
      "cell_type": "markdown",
      "metadata": {
        "id": "UtV6u9fUzrxx",
        "colab_type": "text"
      },
      "source": [
        "**Format the Testing Dataset**"
      ]
    },
    {
      "cell_type": "code",
      "metadata": {
        "id": "4xoH_jHfzwc6",
        "colab_type": "code",
        "colab": {}
      },
      "source": [
        "# Convert data into arrays\n",
        "xb = np.array(X_test, dtype = \"float32\")\n",
        "yb = np.array(y_test, dtype = \"float32\")\n",
        "\n",
        "# Convert arrays into tensors\n",
        "xb = torch.from_numpy(xb)\n",
        "yb = torch.from_numpy(yb)\n",
        "\n",
        "# Combine the arrays\n",
        "testloader = TensorDataset(xb, yb) \n",
        "\n",
        "# Define the batchsize\n",
        "batch_size= 32\n",
        "\n",
        "# Training Loader\n",
        "testloader = DataLoader(testloader, batch_size, shuffle=True) "
      ],
      "execution_count": 0,
      "outputs": []
    },
    {
      "cell_type": "markdown",
      "metadata": {
        "id": "ZOzyQUmc0PJ6",
        "colab_type": "text"
      },
      "source": [
        "**Create Neural Network Model**"
      ]
    },
    {
      "cell_type": "code",
      "metadata": {
        "id": "j2XAPEny0Thm",
        "colab_type": "code",
        "colab": {
          "base_uri": "https://localhost:8080/",
          "height": 895
        },
        "outputId": "7f47a0d9-b128-4090-be49-d20d7e45f6b3"
      },
      "source": [
        "# Define the model with hidden layers - 1213 inputs\n",
        "model = nn.Sequential(nn.Linear(1213, 500),\n",
        "                      nn.ReLU(),\n",
        "                      nn.Linear(500, 10),\n",
        "                      nn.ReLU(),\n",
        "                      nn.Linear(10, 1), \n",
        "                      nn.Sigmoid())\n",
        "                      \n",
        "# Set optimizer and learning rate\n",
        "#optimizer = optim.SGD(model.parameters(), lr=0.003)\n",
        "\n",
        "# Could also use Adam optimizer; similar to stochastic gradient descent, but uses momentum which can speed up the actual fitting process, and it also adjusts the learning rate for each of the individual parameters in the model\n",
        "optimizer = optim.Adam(model.parameters(), lr=0.0001)\n",
        "\n",
        "criterion = nn.BCELoss() # use with a sigmoid function\n",
        "\n",
        "#criterion = nn.CrossEntropyLoss() #don't use with softmax or sigmoid\n",
        "\n",
        "# Set epochs\n",
        "epochs = 50\n",
        "for e in range(epochs):\n",
        "    running_loss = 0\n",
        "    for xb, yb in trainloader:\n",
        "        \n",
        "        # Clear the gradients, do this because gradients are accumulated\n",
        "        optimizer.zero_grad()\n",
        "        \n",
        "        # Training pass\n",
        "        output = model.forward(xb)\n",
        "        loss = criterion(output, yb) # Loss calculated from the output compared to the labels  \n",
        "        loss.backward()\n",
        "        optimizer.step()\n",
        "        \n",
        "        running_loss += loss.item() # loss.item() gets the scalar value held in the loss. Running_loss = 0, \n",
        "        # += notation, says \"Add a value and the variable and assigns the result to that variable.\" So, adds the running_loss (0) with loss.item and assigns to running_loss\n",
        "    else:\n",
        "        print(f\"Training loss: {running_loss/len(trainloader)}\")"
      ],
      "execution_count": 188,
      "outputs": [
        {
          "output_type": "stream",
          "text": [
            "/usr/local/lib/python3.6/dist-packages/torch/nn/modules/loss.py:498: UserWarning: Using a target size (torch.Size([32])) that is different to the input size (torch.Size([32, 1])) is deprecated. Please ensure they have the same size.\n",
            "  return F.binary_cross_entropy(input, target, weight=self.weight, reduction=self.reduction)\n",
            "/usr/local/lib/python3.6/dist-packages/torch/nn/modules/loss.py:498: UserWarning: Using a target size (torch.Size([30])) that is different to the input size (torch.Size([30, 1])) is deprecated. Please ensure they have the same size.\n",
            "  return F.binary_cross_entropy(input, target, weight=self.weight, reduction=self.reduction)\n"
          ],
          "name": "stderr"
        },
        {
          "output_type": "stream",
          "text": [
            "Training loss: 0.694236662329697\n",
            "Training loss: 0.5331924441384106\n",
            "Training loss: 0.4297968534434714\n",
            "Training loss: 0.337454311731385\n",
            "Training loss: 0.2595346664510122\n",
            "Training loss: 0.19466415483777116\n",
            "Training loss: 0.1418824183141313\n",
            "Training loss: 0.10177292711124188\n",
            "Training loss: 0.07279204813445486\n",
            "Training loss: 0.05277081860638246\n",
            "Training loss: 0.03925512022361523\n",
            "Training loss: 0.029918167603815476\n",
            "Training loss: 0.0233172762957288\n",
            "Training loss: 0.018506272786819353\n",
            "Training loss: 0.0151377339370367\n",
            "Training loss: 0.012526178664368828\n",
            "Training loss: 0.010498157940895819\n",
            "Training loss: 0.00893313712554007\n",
            "Training loss: 0.007706398416946574\n",
            "Training loss: 0.006715842181952988\n",
            "Training loss: 0.005889109881004182\n",
            "Training loss: 0.005215231113408397\n",
            "Training loss: 0.00463965997417889\n",
            "Training loss: 0.00415251206424905\n",
            "Training loss: 0.0037378439816032967\n",
            "Training loss: 0.003378791646554884\n",
            "Training loss: 0.0030686610219318694\n",
            "Training loss: 0.0028027964347019426\n",
            "Training loss: 0.002567986347258273\n",
            "Training loss: 0.0023595693736995866\n",
            "Training loss: 0.002172949033925628\n",
            "Training loss: 0.0020072925608696007\n",
            "Training loss: 0.0018596001900732517\n",
            "Training loss: 0.0017267235032305485\n",
            "Training loss: 0.0016080319665644953\n",
            "Training loss: 0.0014994985412624551\n",
            "Training loss: 0.0014026669569586108\n",
            "Training loss: 0.0013123405586201243\n",
            "Training loss: 0.0012317050089378182\n",
            "Training loss: 0.0011564840423511115\n",
            "Training loss: 0.0010889190797148862\n",
            "Training loss: 0.0010257614407370367\n",
            "Training loss: 0.0009676652432351214\n",
            "Training loss: 0.0009141540674424571\n",
            "Training loss: 0.0008642545577547536\n",
            "Training loss: 0.0008187103340765689\n",
            "Training loss: 0.0007761011025073324\n",
            "Training loss: 0.0007367783081263485\n",
            "Training loss: 0.0006995499957489167\n",
            "Training loss: 0.0006653336629203362\n"
          ],
          "name": "stdout"
        }
      ]
    },
    {
      "cell_type": "markdown",
      "metadata": {
        "id": "oXT-gAEk3aiZ",
        "colab_type": "text"
      },
      "source": [
        "**Evaluate Model Performance**"
      ]
    },
    {
      "cell_type": "code",
      "metadata": {
        "id": "0JLqRn3qcypE",
        "colab_type": "code",
        "colab": {
          "base_uri": "https://localhost:8080/",
          "height": 603
        },
        "outputId": "53fa0958-b610-455b-a84e-79d749573f8c"
      },
      "source": [
        "# Convert data into arrays\n",
        "xb = np.array(X_test, dtype = \"float32\")\n",
        "yb = np.array(y_test, dtype = \"float32\")\n",
        "\n",
        "# Convert arrays into tensors\n",
        "xb = torch.from_numpy(xb)\n",
        "yb = torch.from_numpy(yb)\n",
        "\n",
        "# Apply the model to the whole testing dataset\n",
        "ps = model(xb)\n",
        "\n",
        "#print('Probabilities', ps[:10])\n",
        "\n",
        "# Obtain the top probability\n",
        "top_p, top_class = ps.topk(1, dim=1)\n",
        "#print('true vals', yb[:10])\n",
        "\n",
        "# Drop the grad \n",
        "top_p = top_p.detach().numpy()\n",
        "top_class = top_class.detach().numpy()\n",
        "\n",
        "top_class = (top_p >= 0.5).astype(np.int)\n",
        "#print('top class', top_class[:10])\n",
        "\n",
        "# Compute ROC curve\n",
        "fpr, tpr, thresholds = roc_curve(yb, top_p, pos_label=1)\n",
        "\n",
        "# Compute ROC area\n",
        "roc_auc = round(auc(fpr, tpr),3)\n",
        "plt.figure()\n",
        "plt.plot(fpr, tpr, color='darkorange', label='ROC curve (area = %0.3f)' % roc_auc)\n",
        "plt.plot([0, 1], [0, 1], color='navy', linestyle='--')\n",
        "plt.xlim([-0.01, 1.0])\n",
        "plt.ylim([0.0, 1.01])\n",
        "plt.xlabel('False Positive Rate')\n",
        "plt.ylabel('True Positive Rate')\n",
        "plt.title('Receiver operating characteristic')\n",
        "plt.legend(loc=\"lower right\")\n",
        "\n",
        "# Classification Report\n",
        "print(\"=== Confusion Matrix ===\")\n",
        "print(confusion_matrix(yb, top_class))\n",
        "print('\\n')\n",
        "print(\"=== Classification Report ===\")\n",
        "print(classification_report(yb, top_class))\n",
        "print('\\n')\n",
        "print(\"=== Accuracy Score ===\")\n",
        "print(\"Accuracy:\", round(accuracy_score(yb, top_class),3))"
      ],
      "execution_count": 189,
      "outputs": [
        {
          "output_type": "stream",
          "text": [
            "=== Confusion Matrix ===\n",
            "[[214  73]\n",
            " [ 86  64]]\n",
            "\n",
            "\n",
            "=== Classification Report ===\n",
            "              precision    recall  f1-score   support\n",
            "\n",
            "         0.0       0.71      0.75      0.73       287\n",
            "         1.0       0.47      0.43      0.45       150\n",
            "\n",
            "    accuracy                           0.64       437\n",
            "   macro avg       0.59      0.59      0.59       437\n",
            "weighted avg       0.63      0.64      0.63       437\n",
            "\n",
            "\n",
            "\n",
            "=== Accuracy Score ===\n",
            "Accuracy: 0.636\n"
          ],
          "name": "stdout"
        },
        {
          "output_type": "display_data",
          "data": {
            "image/png": "[encoded data removed]",
            "text/plain": [
              "<Figure size 432x288 with 1 Axes>"
            ]
          },
          "metadata": {
            "tags": []
          }
        }
      ]
    },
    {
      "cell_type": "markdown",
      "metadata": {
        "id": "GEPXvoss2fF6",
        "colab_type": "text"
      },
      "source": [
        "# **Neural Network Experiments**\n",
        "\n",
        "**December 3 - Neural Network Architecture:**\n",
        "\n",
        "**Loss:** Binary Cross Entropy Loss\n",
        "\n",
        "**Activation:** ReLU\n",
        "\n",
        "**Batchsize:** 32\n",
        "\n",
        "1) Hidden Layers (500, 10), epochs = 13, Adam, LR = 0.003\n",
        "\n",
        "AUC = 0.621\n",
        "\n",
        "                === Classification Report ===\n",
        "              precision    recall  f1-score   support\n",
        "\n",
        "         0.0       0.72      0.64      0.68       287\n",
        "         1.0       0.43      0.51      0.47       150\n",
        "        accuracy                       0.60       437\n",
        "        macro avg  0.57      0.58      0.57       437\n",
        "      weighted avg 0.62      0.60      0.60       437\n",
        "\n",
        "2) Hidden Layers (500, 10), epochs = 13, Adam, LR = 0.001\n",
        "\n",
        "AUC = 0.647\n",
        "\n",
        "                === Classification Report ===\n",
        "              precision    recall  f1-score   support\n",
        "\n",
        "         0.0       0.73      0.74      0.73       287\n",
        "         1.0       0.49      0.48      0.48       150\n",
        "     accuracy                          0.65       437\n",
        "     macro avg     0.61      0.61      0.61       437\n",
        "     weighted avg  0.65      0.65      0.65       437\n",
        "\n",
        "\n",
        "3) Hidden Layers (500), epochs = 35, Adam, LR = 0.001\n",
        "\n",
        "AUC = 0.640\n",
        "\n",
        "4) Hidden layers (500), epochs = 200, Adam, LR = 0.001\n",
        "\n",
        "AUC = 0.644\n",
        "\n",
        "5) Hidden layers (500), epochs = 250, Adam, LR = 0.001\n",
        "\n",
        "AUC = 0.623\n",
        "\n",
        "5) Hidden layers (500), epochs = 100, Adam, LR = 0.001\n",
        "\n",
        "AUC = 0.623"
      ]
    },
    {
      "cell_type": "markdown",
      "metadata": {
        "id": "Nq-C9RTKmqov",
        "colab_type": "text"
      },
      "source": [
        "# **Next Steps**\n",
        "\n",
        "* Attempt changing the # of random forest trees   \n",
        "* Assess the use of neural network classification using principal components - continue looking at this more thoroughly\n",
        "* Integarate PCs and Clinical data and re-run logistic regressions, random forest, and neural networks. \n",
        "\n",
        "\n"
      ]
    }
  ]
}