{
  "nbformat": 4,
  "nbformat_minor": 0,
  "metadata": {
    "colab": {
      "name": "Principal Component Analysis",
      "provenance": [],
      "collapsed_sections": [],
      "include_colab_link": true
    },
    "kernelspec": {
      "name": "python3",
      "display_name": "Python 3"
    }
  },
  "cells": [
    {
      "cell_type": "markdown",
      "metadata": {
        "id": "view-in-github",
        "colab_type": "text"
      },
      "source": [
        "<a href=\"https://colab.research.google.com/github/meghutch/Breast-Cancer-Classification-Clinical-Genomic/blob/master/Principal_Component_Analysis.ipynb\" target=\"_parent\"><img src=\"https://colab.research.google.com/assets/colab-badge.svg\" alt=\"Open In Colab\"/></a>"
      ]
    },
    {
      "cell_type": "markdown",
      "metadata": {
        "id": "oBqDJMLTSfPr",
        "colab_type": "text"
      },
      "source": [
        "# **Predicting Clinical Outcomes of Breast Cancer Patients**\n",
        "\n",
        "## **Neural Networks and PCA**\n",
        "\n",
        "**Author:** Meg Hutch\n",
        "\n",
        "**Date:** November 27, 2019\n",
        "\n",
        "**Objective:** Integrate the Principal Components from the **Gene Expression Analysis - PCA**. \n",
        "\n",
        "These were the Principal Components explaining 90% of the variance. \n",
        "\n",
        "Unlike the **Neural_Network_Clinical_Outcomes** analysis, this will use the patients in the merged_expression.txt that were processed."
      ]
    },
    {
      "cell_type": "code",
      "metadata": {
        "id": "_pG01kP6UVC0",
        "colab_type": "code",
        "colab": {}
      },
      "source": [
        "import pandas as pd\n",
        "import numpy as np\n",
        "import matplotlib\n",
        "import matplotlib.pyplot as plt\n",
        "import matplotlib.colors\n",
        "import seaborn as sns"
      ],
      "execution_count": 0,
      "outputs": []
    },
    {
      "cell_type": "code",
      "metadata": {
        "id": "mamswLh8QkLR",
        "colab_type": "code",
        "outputId": "640fb937-47eb-4b95-c93c-dec801ba9456",
        "colab": {
          "base_uri": "https://localhost:8080/",
          "height": 33
        }
      },
      "source": [
        "# Connect Colab to google drive\n",
        "from google.colab import drive\n",
        "drive.mount('/content/drive')"
      ],
      "execution_count": 113,
      "outputs": [
        {
          "output_type": "stream",
          "text": [
            "Drive already mounted at /content/drive; to attempt to forcibly remount, call drive.mount(\"/content/drive\", force_remount=True).\n"
          ],
          "name": "stdout"
        }
      ]
    },
    {
      "cell_type": "code",
      "metadata": {
        "id": "9ltCT9Zv8LAd",
        "colab_type": "code",
        "colab": {}
      },
      "source": [
        "# Import Data\n",
        "# Merged Expression Data\n",
        "gene_data = pd.read_csv('/content/drive/My Drive/Projects/Breast_Cancer_Classification/Data/merged_expression.txt', sep=',')\n",
        "\n",
        "## Principal Component Data\n",
        "# All Principal Components\n",
        "pc_all = pd.read_csv('/content/drive/My Drive/Projects/Breast_Cancer_Classification/Processed_Data/gene_pca_components_All_1747.txt')\n",
        "\n",
        "# Principal Components Responsible for 90% of the variation\n",
        "pc_90 = pd.read_csv('/content/drive/My Drive/Projects/Breast_Cancer_Classification/Processed_Data/gene_pca_components_90.txt')"
      ],
      "execution_count": 0,
      "outputs": []
    },
    {
      "cell_type": "markdown",
      "metadata": {
        "id": "chNv2A3jUNQr",
        "colab_type": "text"
      },
      "source": [
        "# **Data Pre-Processing**\n",
        "\n",
        "Check if there are missing values and add the event label to the prinicipal component dataframes"
      ]
    },
    {
      "cell_type": "markdown",
      "metadata": {
        "id": "_29Kdk_59QqC",
        "colab_type": "text"
      },
      "source": [
        "**Check if there are any missing values**"
      ]
    },
    {
      "cell_type": "code",
      "metadata": {
        "id": "i2sjClIA9QOq",
        "colab_type": "code",
        "outputId": "440a9cd2-2fb0-49c7-eb40-23cfc33f4528",
        "colab": {
          "base_uri": "https://localhost:8080/",
          "height": 212
        }
      },
      "source": [
        "gene_data.isna().any()"
      ],
      "execution_count": 115,
      "outputs": [
        {
          "output_type": "execute_result",
          "data": {
            "text/plain": [
              "Unnamed: 0    False\n",
              "EVENT          True\n",
              "OS_MONTHS     False\n",
              "FIVE_YEAR      True\n",
              "RERE          False\n",
              "              ...  \n",
              "CC2D1A        False\n",
              "CB986545      False\n",
              "IGSF9         False\n",
              "DA110839      False\n",
              "FAM71A         True\n",
              "Length: 24372, dtype: bool"
            ]
          },
          "metadata": {
            "tags": []
          },
          "execution_count": 115
        }
      ]
    },
    {
      "cell_type": "markdown",
      "metadata": {
        "id": "gjHaZnph9V3A",
        "colab_type": "text"
      },
      "source": [
        "**Remove observations with missing values**"
      ]
    },
    {
      "cell_type": "code",
      "metadata": {
        "id": "9f85OtiV9yy8",
        "colab_type": "code",
        "colab": {}
      },
      "source": [
        "gene_data = gene_data.dropna()"
      ],
      "execution_count": 0,
      "outputs": []
    },
    {
      "cell_type": "markdown",
      "metadata": {
        "id": "Mp6ELmfIHKG6",
        "colab_type": "text"
      },
      "source": [
        "**Check Final Number of Patients**"
      ]
    },
    {
      "cell_type": "code",
      "metadata": {
        "id": "uuGUGuNmKB0r",
        "colab_type": "code",
        "outputId": "36a86f4d-8066-4dc4-edeb-65ebb81abde9",
        "colab": {
          "base_uri": "https://localhost:8080/",
          "height": 98
        }
      },
      "source": [
        "gene_data.info()"
      ],
      "execution_count": 117,
      "outputs": [
        {
          "output_type": "stream",
          "text": [
            "<class 'pandas.core.frame.DataFrame'>\n",
            "Int64Index: 1747 entries, 0 to 1903\n",
            "Columns: 24372 entries, Unnamed: 0 to FAM71A\n",
            "dtypes: float64(24371), object(1)\n",
            "memory usage: 324.9+ MB\n"
          ],
          "name": "stdout"
        }
      ]
    },
    {
      "cell_type": "markdown",
      "metadata": {
        "id": "54mQorOOeCeR",
        "colab_type": "text"
      },
      "source": [
        "**Add Outcome Variable to the PC Dataframes**"
      ]
    },
    {
      "cell_type": "code",
      "metadata": {
        "id": "kZq4Ba5NeB5O",
        "colab_type": "code",
        "colab": {}
      },
      "source": [
        "# Subset only the Event - whether they lived (0) or died (1) from Breast Cancer\n",
        "labels = gene_data.EVENT\n",
        "\n",
        "# Create a list of row names\n",
        "patients = list(gene_data.index)\n",
        "\n",
        "# Convert labels into a dataframe and indicate patients as the index\n",
        "labels = pd.DataFrame(labels, index = patients)\n",
        "\n",
        "# Create a row ID from the row names \n",
        "#labels['ID'] = np.arange(len(labels))\n",
        "\n",
        "pc_all = pc_all.set_index('Unnamed: 0')\n",
        "pc_90 = pc_90.set_index('Unnamed: 0')\n",
        "\n",
        "# Remove the index name (Unnamed: 0)\n",
        "pc_all.index.name = None\n",
        "pc_90.index.name = None\n",
        "\n",
        "# Add labels to the pc dataframes\n",
        "pc_all = pd.merge(pc_all, labels, left_index=True, right_index=True)\n",
        "pc_90 = pd.merge(pc_90, labels, left_index=True, right_index=True)"
      ],
      "execution_count": 0,
      "outputs": []
    },
    {
      "cell_type": "markdown",
      "metadata": {
        "id": "H1t8xyhNmSX2",
        "colab_type": "text"
      },
      "source": [
        "# **Predict Outcomes Using Gene Expression Principal Components**\n",
        "\n",
        "We will attempt to predict Event (1 = died from breast cancer, 0 = alive), using the following classification methods and only using Principal Components as features\n",
        "\n",
        "* Logistic Regression\n",
        "* Random Forest\n",
        "* Neural Networks. \n",
        "\n",
        "Logistic regression and random forest classiers can help serve as a benchmark of performance once we develop our neural network classifier."
      ]
    },
    {
      "cell_type": "markdown",
      "metadata": {
        "id": "Nq-C9RTKmqov",
        "colab_type": "text"
      },
      "source": [
        "*   Test All Principal Components\n",
        "*   Test the Prinicipal Components with 90% variability \n",
        "*   We can continue trying to reduce the number of prinicipal components - I'm unsure as to whether or not doing so without clinical information will have any results --- can we even have that many variables in a logistic regression? \n",
        "*  Then I will do analyses with principal components + clinical data and will compare performances -- I have more patients now then in the Neural Network Clinical Outcomes --- I should go back to the data processing_MH script to see why, but it will be good to re-run all models to assess\n",
        "\n"
      ]
    }
  ]
}