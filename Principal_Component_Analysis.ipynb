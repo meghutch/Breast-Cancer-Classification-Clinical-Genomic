{
  "nbformat": 4,
  "nbformat_minor": 0,
  "metadata": {
    "colab": {
      "name": "Principal Component Analysis",
      "provenance": [],
      "collapsed_sections": [],
      "include_colab_link": true
    },
    "kernelspec": {
      "name": "python3",
      "display_name": "Python 3"
    }
  },
  "cells": [
    {
      "cell_type": "markdown",
      "metadata": {
        "id": "view-in-github",
        "colab_type": "text"
      },
      "source": [
        "<a href=\"https://colab.research.google.com/github/meghutch/Breast-Cancer-Classification-Clinical-Genomic/blob/master/Principal_Component_Analysis.ipynb\" target=\"_parent\"><img src=\"https://colab.research.google.com/assets/colab-badge.svg\" alt=\"Open In Colab\"/></a>"
      ]
    },
    {
      "cell_type": "markdown",
      "metadata": {
        "id": "oBqDJMLTSfPr",
        "colab_type": "text"
      },
      "source": [
        "# **Predicting Clinical Outcomes of Breast Cancer Patients**\n",
        "\n",
        "## **Neural Networks and PCA**\n",
        "\n",
        "**Author:** Meg Hutch\n",
        "\n",
        "**Date:** November 27, 2019\n",
        "\n",
        "**Objective:** Integrate the Principal Components from the **Gene Expression Analysis - PCA**. \n",
        "\n",
        "These were the Principal Components explaining 90% of the variance. \n",
        "\n",
        "Unlike the **Neural_Network_Clinical_Outcomes** analysis, this will use the patients in the merged_expression.txt that were processed."
      ]
    },
    {
      "cell_type": "code",
      "metadata": {
        "id": "_pG01kP6UVC0",
        "colab_type": "code",
        "colab": {}
      },
      "source": [
        "import pandas as pd\n",
        "import numpy as np\n",
        "import matplotlib\n",
        "import matplotlib.pyplot as plt\n",
        "import matplotlib.colors\n",
        "import seaborn as sns\n",
        "\n",
        "# import the metrics class sklearn\n",
        "from sklearn import metrics\n",
        "from sklearn.ensemble import RandomForestClassifier\n",
        "from sklearn.feature_selection import SelectFromModel # to identify features\n",
        "from sklearn.model_selection import cross_val_score\n",
        "from sklearn.metrics import classification_report, confusion_matrix, accuracy_score\n",
        "from sklearn.metrics import roc_auc_score"
      ],
      "execution_count": 0,
      "outputs": []
    },
    {
      "cell_type": "code",
      "metadata": {
        "id": "mamswLh8QkLR",
        "colab_type": "code",
        "outputId": "fce7c4ae-43dd-400f-f7da-6aa4001276b7",
        "colab": {
          "base_uri": "https://localhost:8080/",
          "height": 33
        }
      },
      "source": [
        "# Connect Colab to google drive\n",
        "from google.colab import drive\n",
        "drive.mount('/content/drive')"
      ],
      "execution_count": 2,
      "outputs": [
        {
          "output_type": "stream",
          "text": [
            "Drive already mounted at /content/drive; to attempt to forcibly remount, call drive.mount(\"/content/drive\", force_remount=True).\n"
          ],
          "name": "stdout"
        }
      ]
    },
    {
      "cell_type": "code",
      "metadata": {
        "id": "9ltCT9Zv8LAd",
        "colab_type": "code",
        "colab": {}
      },
      "source": [
        "# Import Data\n",
        "# Merged Expression Data\n",
        "gene_data = pd.read_csv('/content/drive/My Drive/Projects/Breast_Cancer_Classification/Data/merged_expression.txt', sep=',')\n",
        "\n",
        "## Principal Component Data\n",
        "# All Principal Components\n",
        "pc_all = pd.read_csv('/content/drive/My Drive/Projects/Breast_Cancer_Classification/Processed_Data/gene_pca_components_All_1747.txt')\n",
        "\n",
        "# Principal Components Responsible for 90% of the variation\n",
        "pc_90 = pd.read_csv('/content/drive/My Drive/Projects/Breast_Cancer_Classification/Processed_Data/gene_pca_components_90.txt')"
      ],
      "execution_count": 0,
      "outputs": []
    },
    {
      "cell_type": "markdown",
      "metadata": {
        "id": "chNv2A3jUNQr",
        "colab_type": "text"
      },
      "source": [
        "# **Data Pre-Processing**\n",
        "\n",
        "Check if there are missing values and add the event label to the prinicipal component dataframes"
      ]
    },
    {
      "cell_type": "markdown",
      "metadata": {
        "id": "_29Kdk_59QqC",
        "colab_type": "text"
      },
      "source": [
        "**Check if there are any missing values**"
      ]
    },
    {
      "cell_type": "code",
      "metadata": {
        "id": "i2sjClIA9QOq",
        "colab_type": "code",
        "outputId": "05963be8-e2e1-4e89-c16b-b0bc952c0076",
        "colab": {
          "base_uri": "https://localhost:8080/",
          "height": 212
        }
      },
      "source": [
        "gene_data.isna().any()"
      ],
      "execution_count": 4,
      "outputs": [
        {
          "output_type": "execute_result",
          "data": {
            "text/plain": [
              "Unnamed: 0    False\n",
              "EVENT          True\n",
              "OS_MONTHS     False\n",
              "FIVE_YEAR      True\n",
              "RERE          False\n",
              "              ...  \n",
              "CC2D1A        False\n",
              "CB986545      False\n",
              "IGSF9         False\n",
              "DA110839      False\n",
              "FAM71A         True\n",
              "Length: 24372, dtype: bool"
            ]
          },
          "metadata": {
            "tags": []
          },
          "execution_count": 4
        }
      ]
    },
    {
      "cell_type": "markdown",
      "metadata": {
        "id": "gjHaZnph9V3A",
        "colab_type": "text"
      },
      "source": [
        "**Remove observations with missing values**"
      ]
    },
    {
      "cell_type": "code",
      "metadata": {
        "id": "9f85OtiV9yy8",
        "colab_type": "code",
        "colab": {}
      },
      "source": [
        "gene_data = gene_data.dropna()"
      ],
      "execution_count": 0,
      "outputs": []
    },
    {
      "cell_type": "markdown",
      "metadata": {
        "id": "Mp6ELmfIHKG6",
        "colab_type": "text"
      },
      "source": [
        "**Check Final Number of Patients**"
      ]
    },
    {
      "cell_type": "code",
      "metadata": {
        "id": "uuGUGuNmKB0r",
        "colab_type": "code",
        "outputId": "1a215688-add3-4018-c366-89ca9726c126",
        "colab": {
          "base_uri": "https://localhost:8080/",
          "height": 98
        }
      },
      "source": [
        "gene_data.info()"
      ],
      "execution_count": 6,
      "outputs": [
        {
          "output_type": "stream",
          "text": [
            "<class 'pandas.core.frame.DataFrame'>\n",
            "Int64Index: 1747 entries, 0 to 1903\n",
            "Columns: 24372 entries, Unnamed: 0 to FAM71A\n",
            "dtypes: float64(24371), object(1)\n",
            "memory usage: 324.9+ MB\n"
          ],
          "name": "stdout"
        }
      ]
    },
    {
      "cell_type": "markdown",
      "metadata": {
        "id": "54mQorOOeCeR",
        "colab_type": "text"
      },
      "source": [
        "**Add Outcome Variable to the PC Dataframes**"
      ]
    },
    {
      "cell_type": "code",
      "metadata": {
        "id": "kZq4Ba5NeB5O",
        "colab_type": "code",
        "colab": {}
      },
      "source": [
        "# Subset only the Event - whether they lived (0) or died (1) from Breast Cancer\n",
        "labels = gene_data.EVENT\n",
        "\n",
        "# Create a list of row names\n",
        "patients = list(gene_data.index)\n",
        "\n",
        "# Convert labels into a dataframe and indicate patients as the index\n",
        "labels = pd.DataFrame(labels, index = patients)\n",
        "\n",
        "# Create a row ID from the row names \n",
        "#labels['ID'] = np.arange(len(labels))\n",
        "\n",
        "pc_all = pc_all.set_index('Unnamed: 0')\n",
        "pc_90 = pc_90.set_index('Unnamed: 0')\n",
        "\n",
        "# Remove the index name (Unnamed: 0)\n",
        "pc_all.index.name = None\n",
        "pc_90.index.name = None\n",
        "\n",
        "# Add labels to the pc dataframes\n",
        "pc_all = pd.merge(pc_all, labels, left_index=True, right_index=True)\n",
        "pc_90 = pd.merge(pc_90, labels, left_index=True, right_index=True)"
      ],
      "execution_count": 0,
      "outputs": []
    },
    {
      "cell_type": "markdown",
      "metadata": {
        "id": "H1t8xyhNmSX2",
        "colab_type": "text"
      },
      "source": [
        "# **Predict Outcomes Using Gene Expression Principal Components**\n",
        "\n",
        "We will attempt to predict Event (1 = died from breast cancer, 0 = alive), using the following classification methods and only using Principal Components as features\n",
        "\n",
        "* Logistic Regression\n",
        "* Random Forest\n",
        "* Neural Networks. \n",
        "\n",
        "Logistic regression and random forest classiers can help serve as a benchmark of performance once we develop our neural network classifier."
      ]
    },
    {
      "cell_type": "markdown",
      "metadata": {
        "id": "vKzlNG-xu4EN",
        "colab_type": "text"
      },
      "source": [
        "# **Training and Testing Split**\n",
        "\n",
        "For all of our classification methods, we will create a training and a testing set."
      ]
    },
    {
      "cell_type": "code",
      "metadata": {
        "id": "YxdYyZxEujxJ",
        "colab_type": "code",
        "colab": {}
      },
      "source": [
        "# Packagess\n",
        "from sklearn import preprocessing\n",
        "from sklearn.linear_model import LogisticRegression\n",
        "from sklearn.model_selection import train_test_split"
      ],
      "execution_count": 0,
      "outputs": []
    },
    {
      "cell_type": "markdown",
      "metadata": {
        "id": "qKwf3jzovYN0",
        "colab_type": "text"
      },
      "source": [
        "Format the pc data into a features and label dataframe. EVENT indicates that the patient died from disease. "
      ]
    },
    {
      "cell_type": "code",
      "metadata": {
        "id": "H421ISlCvf4d",
        "colab_type": "code",
        "colab": {}
      },
      "source": [
        "# Let x represent the input features; y the labels\n",
        "\n",
        "# Want to remove EVENT from inputs since these are what we are trying to predict. Event will remain as our label.\n",
        "\n",
        "# create x to represent the input features; y is the label\n",
        "x = pc_90.drop(['EVENT'], axis=1)\n",
        "y = pc_90.EVENT"
      ],
      "execution_count": 0,
      "outputs": []
    },
    {
      "cell_type": "markdown",
      "metadata": {
        "id": "Jot8CaTpvfEP",
        "colab_type": "text"
      },
      "source": [
        "Split the data into testing and training sets"
      ]
    },
    {
      "cell_type": "code",
      "metadata": {
        "id": "zuPWs5pQv5d2",
        "colab_type": "code",
        "colab": {}
      },
      "source": [
        "X_train, X_test, y_train, y_test = train_test_split(x, y, test_size=0.25, random_state=15)"
      ],
      "execution_count": 0,
      "outputs": []
    },
    {
      "cell_type": "markdown",
      "metadata": {
        "id": "f7UGiy4twHbY",
        "colab_type": "text"
      },
      "source": [
        "View the shapes of the training and testing sets; the datasets ending in \"train\" are our training sets; similarly, those ending in \"test\" are the testing; x prefix always represents the input features, y the labels"
      ]
    },
    {
      "cell_type": "code",
      "metadata": {
        "id": "ujubXxyzwU14",
        "colab_type": "code",
        "outputId": "1647aaa2-b44a-447d-8980-1b7b9faa4d68",
        "colab": {
          "base_uri": "https://localhost:8080/",
          "height": 82
        }
      },
      "source": [
        "# Assess the trainig and testing sets previously created\n",
        "print('Training Features Shape:', X_train.shape)\n",
        "print('Training Labels Shape:', y_train.shape)\n",
        "print('Testing Features Shape:', X_test.shape)\n",
        "print('Testing Labels Shape:', y_test.shape)"
      ],
      "execution_count": 11,
      "outputs": [
        {
          "output_type": "stream",
          "text": [
            "Training Features Shape: (1310, 1213)\n",
            "Training Labels Shape: (1310,)\n",
            "Testing Features Shape: (437, 1213)\n",
            "Testing Labels Shape: (437,)\n"
          ],
          "name": "stdout"
        }
      ]
    },
    {
      "cell_type": "markdown",
      "metadata": {
        "id": "R2u1NBiEwYeS",
        "colab_type": "text"
      },
      "source": [
        "Examine the class distributions - these are similar splits between the training and testing sets. This is also representative of the number of cases throughout the entire dataset. \n",
        "\n",
        "Overall, 35% of the patients in our total data died from disease. So this is an unbalanced dataset and a few percents off from the splits in the training/testing set. **Not sure if this is a problem?**"
      ]
    },
    {
      "cell_type": "code",
      "metadata": {
        "id": "WzAqXr4pwX3M",
        "colab_type": "code",
        "outputId": "84cb5b69-2d7b-437c-d628-1a62e0a514e4",
        "colab": {
          "base_uri": "https://localhost:8080/",
          "height": 115
        }
      },
      "source": [
        "# Died from disease\n",
        "print('Died of Diseases in Training Set:', np.count_nonzero(y_train == 1))\n",
        "print('Died of Diseases in Testing Set:', np.count_nonzero(y_test == 1))\n",
        "\n",
        "# Percents\n",
        "print('% Died of Diseases Cases in Training Set:', round(np.count_nonzero(y_train == 1)/1139*100,2))\n",
        "print('% Died of Diseases Cases in Testing Set:', round(np.count_nonzero(y_test == 1)/380*100,2))\n",
        "\n",
        "# Died of disease overall\n",
        "print('Died of Diseases Overall:', np.count_nonzero(pc_90 == 1))\n",
        "print('% Died of Diseases Overall:', round(np.count_nonzero(pc_90 == 1)/1747*100,2))"
      ],
      "execution_count": 12,
      "outputs": [
        {
          "output_type": "stream",
          "text": [
            "Died of Diseases in Training Set: 470\n",
            "Died of Diseases in Testing Set: 150\n",
            "% Died of Diseases Cases in Training Set: 41.26\n",
            "% Died of Diseases Cases in Testing Set: 39.47\n",
            "Died of Diseases Overall: 620\n",
            "% Died of Diseases Overall: 35.49\n"
          ],
          "name": "stdout"
        }
      ]
    },
    {
      "cell_type": "markdown",
      "metadata": {
        "id": "bUc2GBdH5wiL",
        "colab_type": "text"
      },
      "source": [
        "# **Logistic Regression**\n",
        "\n",
        "Because we don't want to overfit the logistic regression model or have problems with convergence, we will follow the 1 in 10 rule, where we only have 1 predictor per 10 samples in the outcome of interest class (in our case 620 patients who died = 62 predictors/prinicipal components). \n",
        "\n",
        "Logistic Regression steps were followed from the following tutorial:\n",
        "\n",
        "https://www.datacamp.com/community/tutorials/understanding-logistic-regression-python"
      ]
    },
    {
      "cell_type": "markdown",
      "metadata": {
        "id": "6wpXMK_w7Kp6",
        "colab_type": "text"
      },
      "source": [
        "**Select the top 62 Prinicipal Components**"
      ]
    },
    {
      "cell_type": "code",
      "metadata": {
        "id": "3ug7VbIL7eI8",
        "colab_type": "code",
        "colab": {}
      },
      "source": [
        "X_train_62 = X_train.iloc[:,0:62]\n",
        "X_test_62 = X_test.iloc[:,0:62]"
      ],
      "execution_count": 0,
      "outputs": []
    },
    {
      "cell_type": "markdown",
      "metadata": {
        "id": "0BdqKQJ2x0em",
        "colab_type": "text"
      },
      "source": [
        "**Define and Run the Model**"
      ]
    },
    {
      "cell_type": "code",
      "metadata": {
        "id": "3u4X6MFSxzox",
        "colab_type": "code",
        "outputId": "649a68ef-0851-4d88-d52f-cb32d76f7d99",
        "colab": {
          "base_uri": "https://localhost:8080/",
          "height": 50
        }
      },
      "source": [
        "# Instantiate the model (using default parameters)\n",
        "logreg = LogisticRegression()\n",
        "\n",
        "# fit the model with data\n",
        "logreg.fit(X_train_62, y_train)\n",
        "\n",
        "y_pred = logreg.predict(X_test_62)"
      ],
      "execution_count": 14,
      "outputs": [
        {
          "output_type": "stream",
          "text": [
            "/usr/local/lib/python3.6/dist-packages/sklearn/linear_model/logistic.py:432: FutureWarning: Default solver will be changed to 'lbfgs' in 0.22. Specify a solver to silence this warning.\n",
            "  FutureWarning)\n"
          ],
          "name": "stderr"
        }
      ]
    },
    {
      "cell_type": "markdown",
      "metadata": {
        "id": "xRDRV7DIyGL5",
        "colab_type": "text"
      },
      "source": [
        "**Model Evaluation Using Confusion Matrix**"
      ]
    },
    {
      "cell_type": "code",
      "metadata": {
        "id": "YyJQT7fHyLeP",
        "colab_type": "code",
        "outputId": "6bb165df-da56-46aa-a26b-5c7fee2aa879",
        "colab": {
          "base_uri": "https://localhost:8080/",
          "height": 50
        }
      },
      "source": [
        "cnf_matrix = metrics.confusion_matrix(y_test, y_pred)\n",
        "cnf_matrix"
      ],
      "execution_count": 15,
      "outputs": [
        {
          "output_type": "execute_result",
          "data": {
            "text/plain": [
              "array([[230,  57],\n",
              "       [100,  50]])"
            ]
          },
          "metadata": {
            "tags": []
          },
          "execution_count": 15
        }
      ]
    },
    {
      "cell_type": "markdown",
      "metadata": {
        "id": "3CRpg41RySQT",
        "colab_type": "text"
      },
      "source": [
        "The confusion matrix generated above is in the form of an array. Diagnosal values represent accurate predictions, while non-diagonal elements are inaccurate predictions. The diagonal starting with the top left to the bottom right hand corner are actual predidictions, while the bottom left corner to the top right corner are incorrect predictions. "
      ]
    },
    {
      "cell_type": "code",
      "metadata": {
        "id": "O2BvUFrAy04x",
        "colab_type": "code",
        "outputId": "150c474f-35d3-4e75-d395-9126218017ed",
        "colab": {
          "base_uri": "https://localhost:8080/",
          "height": 66
        }
      },
      "source": [
        "print(\"Accuracy:\",round(metrics.accuracy_score(y_test, y_pred),3))\n",
        "print(\"Precision:\",round(metrics.precision_score(y_test, y_pred),3))\n",
        "print(\"Recall:\",round(metrics.recall_score(y_test, y_pred),3))"
      ],
      "execution_count": 16,
      "outputs": [
        {
          "output_type": "stream",
          "text": [
            "Accuracy: 0.641\n",
            "Precision: 0.467\n",
            "Recall: 0.333\n"
          ],
          "name": "stdout"
        }
      ]
    },
    {
      "cell_type": "markdown",
      "metadata": {
        "id": "oAZw8J4mzxsD",
        "colab_type": "text"
      },
      "source": [
        "**ROC**\n",
        "\n",
        "The Reciever Operating Characteristic (ROC) curve is a plot of the true positive rate against the false positive rate. It shows the tradeoff between sensitivity and specificity. "
      ]
    },
    {
      "cell_type": "code",
      "metadata": {
        "id": "y11_Tmpu39qG",
        "colab_type": "code",
        "outputId": "1ebfaf71-2b3c-48cd-8fd1-a015a039fc42",
        "colab": {
          "base_uri": "https://localhost:8080/",
          "height": 281
        }
      },
      "source": [
        "y_pred_proba = logreg.predict_proba(X_test_62)[::,1]\n",
        "fpr, tpr, _ = metrics.roc_curve(y_test, y_pred_proba)\n",
        "auc = metrics.roc_auc_score(y_test, y_pred_proba)\n",
        "plt.plot(fpr, tpr, label = \"data 1, auc=\"+str(auc))\n",
        "plt.legend(loc=4)\n",
        "plt.show()\n",
        "print('AUC:', round(auc,3))"
      ],
      "execution_count": 17,
      "outputs": [
        {
          "output_type": "display_data",
          "data": {
            "image/png": "[encoded data removed]",
            "text/plain": [
              "<Figure size 432x288 with 1 Axes>"
            ]
          },
          "metadata": {
            "tags": []
          }
        },
        {
          "output_type": "stream",
          "text": [
            "AUC: 0.665\n"
          ],
          "name": "stdout"
        }
      ]
    },
    {
      "cell_type": "markdown",
      "metadata": {
        "id": "ZtFhbb0j8Gw2",
        "colab_type": "text"
      },
      "source": [
        "Fairly low sensitivity (Recall) = 33%; but the accuracy is fairly impressive that we can predict survivial just using 62 prinicipal components. This actually has better recall then the logistic regression performed with just clinical data. Additionally, the AUCs were both 67%. **Note: Keep in mind that the clinical data results I'm comparing it too, were used with a different testing/training split. \n",
        "\n",
        "I wll have re-run the neural network on this data to properly assess  "
      ]
    },
    {
      "cell_type": "markdown",
      "metadata": {
        "id": "bDxgR6ZhBYcS",
        "colab_type": "text"
      },
      "source": [
        "**How much of the variance do the top 62 prinicipal components contribute?**\n",
        "\n",
        "From the chart below, we can see that pc62 contribute up to ~41% of the variance. "
      ]
    },
    {
      "cell_type": "code",
      "metadata": {
        "id": "sQVYsxWuBX55",
        "colab_type": "code",
        "outputId": "206ffd3b-c38e-4379-86b1-10f1b160c4b3",
        "colab": {
          "base_uri": "https://localhost:8080/",
          "height": 391
        }
      },
      "source": [
        "# import table of variances\n",
        "var_chart = pd.read_csv('/content/drive/My Drive/Projects/Breast_Cancer_Classification/Processed_Data/component_variance_chart_90.txt', sep=',', index_col=0)\n",
        "var_chart[:62] "
      ],
      "execution_count": 18,
      "outputs": [
        {
          "output_type": "execute_result",
          "data": {
            "text/html": [
              "<div>\n",
              "<style scoped>\n",
              "    .dataframe tbody tr th:only-of-type {\n",
              "        vertical-align: middle;\n",
              "    }\n",
              "\n",
              "    .dataframe tbody tr th {\n",
              "        vertical-align: top;\n",
              "    }\n",
              "\n",
              "    .dataframe thead th {\n",
              "        text-align: right;\n",
              "    }\n",
              "</style>\n",
              "<table border=\"1\" class=\"dataframe\">\n",
              "  <thead>\n",
              "    <tr style=\"text-align: right;\">\n",
              "      <th></th>\n",
              "      <th>% Variance</th>\n",
              "      <th>CumulativeVariance</th>\n",
              "    </tr>\n",
              "  </thead>\n",
              "  <tbody>\n",
              "    <tr>\n",
              "      <th>pc1</th>\n",
              "      <td>6.5</td>\n",
              "      <td>6.5</td>\n",
              "    </tr>\n",
              "    <tr>\n",
              "      <th>pc2</th>\n",
              "      <td>4.4</td>\n",
              "      <td>10.9</td>\n",
              "    </tr>\n",
              "    <tr>\n",
              "      <th>pc3</th>\n",
              "      <td>3.2</td>\n",
              "      <td>14.1</td>\n",
              "    </tr>\n",
              "    <tr>\n",
              "      <th>pc4</th>\n",
              "      <td>2.4</td>\n",
              "      <td>16.5</td>\n",
              "    </tr>\n",
              "    <tr>\n",
              "      <th>pc5</th>\n",
              "      <td>2.1</td>\n",
              "      <td>18.6</td>\n",
              "    </tr>\n",
              "    <tr>\n",
              "      <th>...</th>\n",
              "      <td>...</td>\n",
              "      <td>...</td>\n",
              "    </tr>\n",
              "    <tr>\n",
              "      <th>pc58</th>\n",
              "      <td>0.2</td>\n",
              "      <td>40.1</td>\n",
              "    </tr>\n",
              "    <tr>\n",
              "      <th>pc59</th>\n",
              "      <td>0.2</td>\n",
              "      <td>40.3</td>\n",
              "    </tr>\n",
              "    <tr>\n",
              "      <th>pc60</th>\n",
              "      <td>0.2</td>\n",
              "      <td>40.5</td>\n",
              "    </tr>\n",
              "    <tr>\n",
              "      <th>pc61</th>\n",
              "      <td>0.2</td>\n",
              "      <td>40.7</td>\n",
              "    </tr>\n",
              "    <tr>\n",
              "      <th>pc62</th>\n",
              "      <td>0.2</td>\n",
              "      <td>40.9</td>\n",
              "    </tr>\n",
              "  </tbody>\n",
              "</table>\n",
              "<p>62 rows × 2 columns</p>\n",
              "</div>"
            ],
            "text/plain": [
              "      % Variance  CumulativeVariance\n",
              "pc1          6.5                 6.5\n",
              "pc2          4.4                10.9\n",
              "pc3          3.2                14.1\n",
              "pc4          2.4                16.5\n",
              "pc5          2.1                18.6\n",
              "...          ...                 ...\n",
              "pc58         0.2                40.1\n",
              "pc59         0.2                40.3\n",
              "pc60         0.2                40.5\n",
              "pc61         0.2                40.7\n",
              "pc62         0.2                40.9\n",
              "\n",
              "[62 rows x 2 columns]"
            ]
          },
          "metadata": {
            "tags": []
          },
          "execution_count": 18
        }
      ]
    },
    {
      "cell_type": "markdown",
      "metadata": {
        "id": "PUCud2aO8hd6",
        "colab_type": "text"
      },
      "source": [
        "# **Assess increasingly lower numbers of Principal Components**\n",
        "\n",
        "Identify the number of principal components to represent 35, 30, 25, and 20% of varaince, and compare performance with the top 62 principal components. "
      ]
    },
    {
      "cell_type": "code",
      "metadata": {
        "id": "YSzJuaStD9Qq",
        "colab_type": "code",
        "colab": {}
      },
      "source": [
        "pc_35 = var_chart[var_chart.CumulativeVariance <= 35] # 33 components\n",
        "\n",
        "pc_30 = var_chart[var_chart.CumulativeVariance <= 30] # 17 components\n",
        "\n",
        "pc_25 = var_chart[var_chart.CumulativeVariance <= 25] # 9 components\n",
        "\n",
        "pc_20 = var_chart[var_chart.CumulativeVariance <= 20] # 5 components"
      ],
      "execution_count": 0,
      "outputs": []
    },
    {
      "cell_type": "markdown",
      "metadata": {
        "id": "AgrkAyTNH7rx",
        "colab_type": "text"
      },
      "source": [
        "**Logistic Regression - PC 35% of variance**\n",
        "\n",
        "33 prinicipal components"
      ]
    },
    {
      "cell_type": "code",
      "metadata": {
        "colab_type": "code",
        "outputId": "b25003f6-dd8b-41b5-9a51-e33cb30da349",
        "id": "-Ym2h5aVIgRe",
        "colab": {
          "base_uri": "https://localhost:8080/",
          "height": 395
        }
      },
      "source": [
        "# Split the training/testing sets\n",
        "X_train_33 = X_train.iloc[:,0:33]\n",
        "X_test_33 = X_test.iloc[:,0:33]\n",
        "\n",
        "## Define and run the model\n",
        "# Instantiate the model (using default parameters)\n",
        "logreg = LogisticRegression()\n",
        "\n",
        "# fit the model with data\n",
        "logreg.fit(X_train_33, y_train)\n",
        "y_pred = logreg.predict(X_test_33)\n",
        "\n",
        "## Evaluate model \n",
        "cnf_matrix = metrics.confusion_matrix(y_test, y_pred)\n",
        "print('Confusion Matrix', cnf_matrix)\n",
        "\n",
        "# Assess accuracy, precision, recall\n",
        "print(\"Accuracy:\",round(metrics.accuracy_score(y_test, y_pred),3))\n",
        "print(\"Precision:\",round(metrics.precision_score(y_test, y_pred),3))\n",
        "print(\"Recall:\",round(metrics.recall_score(y_test, y_pred),3))\n",
        "\n",
        "# Calculate ROC\n",
        "y_pred_proba = logreg.predict_proba(X_test_33)[::,1]\n",
        "fpr, tpr, _ = metrics.roc_curve(y_test, y_pred_proba)\n",
        "auc = metrics.roc_auc_score(y_test, y_pred_proba)\n",
        "plt.plot(fpr, tpr, label = \"data 1, auc=\"+str(auc))\n",
        "plt.legend(loc=4)\n",
        "plt.show()\n",
        "print('AUC:', round(auc,3))"
      ],
      "execution_count": 20,
      "outputs": [
        {
          "output_type": "stream",
          "text": [
            "/usr/local/lib/python3.6/dist-packages/sklearn/linear_model/logistic.py:432: FutureWarning: Default solver will be changed to 'lbfgs' in 0.22. Specify a solver to silence this warning.\n",
            "  FutureWarning)\n"
          ],
          "name": "stderr"
        },
        {
          "output_type": "stream",
          "text": [
            "Confusion Matrix [[239  48]\n",
            " [100  50]]\n",
            "Accuracy: 0.661\n",
            "Precision: 0.51\n",
            "Recall: 0.333\n"
          ],
          "name": "stdout"
        },
        {
          "output_type": "display_data",
          "data": {
            "image/png": "[encoded data removed]",
            "text/plain": [
              "<Figure size 432x288 with 1 Axes>"
            ]
          },
          "metadata": {
            "tags": []
          }
        },
        {
          "output_type": "stream",
          "text": [
            "AUC: 0.66\n"
          ],
          "name": "stdout"
        }
      ]
    },
    {
      "cell_type": "markdown",
      "metadata": {
        "colab_type": "text",
        "id": "7Xc3ix8hKxCB"
      },
      "source": [
        "**Logistic Regression - PC 30% of variance**\n",
        "\n",
        "17 prinicipal components"
      ]
    },
    {
      "cell_type": "code",
      "metadata": {
        "colab_type": "code",
        "id": "N0a5kYmDKxCC",
        "outputId": "0b8d6fb8-f17b-4962-be8e-57272c79d761",
        "colab": {
          "base_uri": "https://localhost:8080/",
          "height": 395
        }
      },
      "source": [
        "# Split the training/testing sets\n",
        "X_train_17 = X_train.iloc[:,0:17]\n",
        "X_test_17 = X_test.iloc[:,0:17]\n",
        "\n",
        "## Define and run the model\n",
        "# Instantiate the model (using default parameters)\n",
        "logreg = LogisticRegression()\n",
        "\n",
        "# fit the model with data\n",
        "logreg.fit(X_train_17, y_train)\n",
        "y_pred = logreg.predict(X_test_17)\n",
        "\n",
        "## Evaluate model \n",
        "cnf_matrix = metrics.confusion_matrix(y_test, y_pred)\n",
        "print('Confusion Matrix', cnf_matrix)\n",
        "\n",
        "# Assess accuracy, precision, recall\n",
        "print(\"Accuracy:\",round(metrics.accuracy_score(y_test, y_pred),3))\n",
        "print(\"Precision:\",round(metrics.precision_score(y_test, y_pred),3))\n",
        "print(\"Recall:\",round(metrics.recall_score(y_test, y_pred),3))\n",
        "\n",
        "# Calculate ROC\n",
        "y_pred_proba = logreg.predict_proba(X_test_17)[::,1]\n",
        "fpr, tpr, _ = metrics.roc_curve(y_test, y_pred_proba)\n",
        "auc = metrics.roc_auc_score(y_test, y_pred_proba)\n",
        "plt.plot(fpr, tpr, label = \"data 1, auc=\"+str(auc))\n",
        "plt.legend(loc=4)\n",
        "plt.show()\n",
        "print('AUC:', round(auc,3))"
      ],
      "execution_count": 21,
      "outputs": [
        {
          "output_type": "stream",
          "text": [
            "Confusion Matrix [[246  41]\n",
            " [108  42]]\n",
            "Accuracy: 0.659\n",
            "Precision: 0.506\n",
            "Recall: 0.28\n"
          ],
          "name": "stdout"
        },
        {
          "output_type": "stream",
          "text": [
            "/usr/local/lib/python3.6/dist-packages/sklearn/linear_model/logistic.py:432: FutureWarning: Default solver will be changed to 'lbfgs' in 0.22. Specify a solver to silence this warning.\n",
            "  FutureWarning)\n"
          ],
          "name": "stderr"
        },
        {
          "output_type": "display_data",
          "data": {
            "image/png": "[encoded data removed]",
            "text/plain": [
              "<Figure size 432x288 with 1 Axes>"
            ]
          },
          "metadata": {
            "tags": []
          }
        },
        {
          "output_type": "stream",
          "text": [
            "AUC: 0.649\n"
          ],
          "name": "stdout"
        }
      ]
    },
    {
      "cell_type": "markdown",
      "metadata": {
        "colab_type": "text",
        "id": "Yme-r1nRLH05"
      },
      "source": [
        "**Logistic Regression - PC 25% of variance**\n",
        "\n",
        "9 prinicipal components"
      ]
    },
    {
      "cell_type": "code",
      "metadata": {
        "colab_type": "code",
        "id": "fK-cwbmyLH06",
        "outputId": "4833733f-25bd-49da-e58f-2c65333d8521",
        "colab": {
          "base_uri": "https://localhost:8080/",
          "height": 395
        }
      },
      "source": [
        "# Split the training/testing sets\n",
        "X_train_9 = X_train.iloc[:,0:9]\n",
        "X_test_9 = X_test.iloc[:,0:9]\n",
        "\n",
        "## Define and run the model\n",
        "# Instantiate the model (using default parameters)\n",
        "logreg = LogisticRegression()\n",
        "\n",
        "# fit the model with data\n",
        "logreg.fit(X_train_9, y_train)\n",
        "y_pred = logreg.predict(X_test_9)\n",
        "\n",
        "## Evaluate model \n",
        "cnf_matrix = metrics.confusion_matrix(y_test, y_pred)\n",
        "print('Confusion Matrix', cnf_matrix)\n",
        "\n",
        "# Assess accuracy, precision, recall\n",
        "print(\"Accuracy:\",round(metrics.accuracy_score(y_test, y_pred),3))\n",
        "print(\"Precision:\",round(metrics.precision_score(y_test, y_pred),3))\n",
        "print(\"Recall:\",round(metrics.recall_score(y_test, y_pred),3))\n",
        "\n",
        "# Calculate ROC\n",
        "y_pred_proba = logreg.predict_proba(X_test_9)[::,1]\n",
        "fpr, tpr, _ = metrics.roc_curve(y_test, y_pred_proba)\n",
        "auc = metrics.roc_auc_score(y_test, y_pred_proba)\n",
        "plt.plot(fpr, tpr, label = \"data 1, auc=\"+str(auc))\n",
        "plt.legend(loc=4)\n",
        "plt.show()\n",
        "print('AUC:', round(auc,3))"
      ],
      "execution_count": 22,
      "outputs": [
        {
          "output_type": "stream",
          "text": [
            "Confusion Matrix [[266  21]\n",
            " [129  21]]\n",
            "Accuracy: 0.657\n",
            "Precision: 0.5\n",
            "Recall: 0.14\n"
          ],
          "name": "stdout"
        },
        {
          "output_type": "stream",
          "text": [
            "/usr/local/lib/python3.6/dist-packages/sklearn/linear_model/logistic.py:432: FutureWarning: Default solver will be changed to 'lbfgs' in 0.22. Specify a solver to silence this warning.\n",
            "  FutureWarning)\n"
          ],
          "name": "stderr"
        },
        {
          "output_type": "display_data",
          "data": {
            "image/png": "[encoded data removed]",
            "text/plain": [
              "<Figure size 432x288 with 1 Axes>"
            ]
          },
          "metadata": {
            "tags": []
          }
        },
        {
          "output_type": "stream",
          "text": [
            "AUC: 0.628\n"
          ],
          "name": "stdout"
        }
      ]
    },
    {
      "cell_type": "markdown",
      "metadata": {
        "colab_type": "text",
        "id": "kMwVNFcOLYag"
      },
      "source": [
        "**Logistic Regression - PC 20% of variance**\n",
        "\n",
        "5 prinicipal components"
      ]
    },
    {
      "cell_type": "code",
      "metadata": {
        "colab_type": "code",
        "id": "9ooCofl_LYai",
        "outputId": "5d389a08-0bf1-41b7-e8df-7a531c4c1ef3",
        "colab": {
          "base_uri": "https://localhost:8080/",
          "height": 395
        }
      },
      "source": [
        "# Split the training/testing sets\n",
        "X_train_5 = X_train.iloc[:,0:5]\n",
        "X_test_5 = X_test.iloc[:,0:5]\n",
        "\n",
        "## Define and run the model\n",
        "# Instantiate the model (using default parameters)\n",
        "logreg = LogisticRegression()\n",
        "\n",
        "# fit the model with data\n",
        "logreg.fit(X_train_5, y_train)\n",
        "y_pred = logreg.predict(X_test_5)\n",
        "\n",
        "## Evaluate model \n",
        "cnf_matrix = metrics.confusion_matrix(y_test, y_pred)\n",
        "print('Confusion Matrix', cnf_matrix)\n",
        "\n",
        "# Assess accuracy, precision, recall\n",
        "print(\"Accuracy:\",round(metrics.accuracy_score(y_test, y_pred),3))\n",
        "print(\"Precision:\",round(metrics.precision_score(y_test, y_pred),3))\n",
        "print(\"Recall:\",round(metrics.recall_score(y_test, y_pred),3))\n",
        "\n",
        "# Calculate ROC\n",
        "y_pred_proba = logreg.predict_proba(X_test_5)[::,1]\n",
        "fpr, tpr, _ = metrics.roc_curve(y_test, y_pred_proba)\n",
        "auc = metrics.roc_auc_score(y_test, y_pred_proba)\n",
        "plt.plot(fpr, tpr, label = \"data 1, auc=\"+str(auc))\n",
        "plt.legend(loc=4)\n",
        "plt.show()\n",
        "print('AUC:', round(auc,3))"
      ],
      "execution_count": 23,
      "outputs": [
        {
          "output_type": "stream",
          "text": [
            "Confusion Matrix [[272  15]\n",
            " [138  12]]\n",
            "Accuracy: 0.65\n",
            "Precision: 0.444\n",
            "Recall: 0.08\n"
          ],
          "name": "stdout"
        },
        {
          "output_type": "stream",
          "text": [
            "/usr/local/lib/python3.6/dist-packages/sklearn/linear_model/logistic.py:432: FutureWarning: Default solver will be changed to 'lbfgs' in 0.22. Specify a solver to silence this warning.\n",
            "  FutureWarning)\n"
          ],
          "name": "stderr"
        },
        {
          "output_type": "display_data",
          "data": {
            "image/png": "[encoded data removed]",
            "text/plain": [
              "<Figure size 432x288 with 1 Axes>"
            ]
          },
          "metadata": {
            "tags": []
          }
        },
        {
          "output_type": "stream",
          "text": [
            "AUC: 0.625\n"
          ],
          "name": "stdout"
        }
      ]
    },
    {
      "cell_type": "markdown",
      "metadata": {
        "id": "3hOSXu7mJv7P",
        "colab_type": "text"
      },
      "source": [
        "# **Logistic Regression Results**"
      ]
    },
    {
      "cell_type": "markdown",
      "metadata": {
        "id": "rG_M72mWIxrQ",
        "colab_type": "text"
      },
      "source": [
        "**Table of Logistic Regression Results**\n",
        "\n",
        "**62 Prinicipal Components (41%) of the variance**\n",
        "* Accuracy: 0.641\n",
        "* Precision: 0.467\n",
        "* Recall: 0.333\n",
        "* AUC: 0.665\n",
        "\n",
        "**33 Prinicipal Components (35%) of the variance**\n",
        "* Accuracy: 0.661\n",
        "* Precision: 0.51\n",
        "* Recall: 0.333\n",
        "* AUC: 0.660\n",
        "\n",
        "**17 Prinicipal Components (30%) of the variance**\n",
        "* Accuracy: 0.659\n",
        "* Precision: 0.506\n",
        "* Recall: 0.28\n",
        "* AUC: 0.649\n",
        "\n",
        "**9 Prinicipal Components (25%) of the variance**\n",
        "* Accuracy: 0.657\n",
        "* Precision: 0.5\n",
        "* Recall: 0.14\n",
        "* AUC: 0.628\n",
        "\n",
        "**5 Prinicipal Components (20%) of the variance**\n",
        "* Accuracy: 0.65\n",
        "* Precision: 0.444\n",
        "* Recall: 0.08\n",
        "* AUC: 0.625\n",
        "\n",
        "As we can see, recall and AUC continue to decrease when we test under 33 prinicipal components. Intersetingly, 33 prinicipal components seems to perform simiarly to 62 prinicipal components. For instance, recall is the same, and the AUC is only slightly lower with 33 componenets. "
      ]
    },
    {
      "cell_type": "markdown",
      "metadata": {
        "id": "5M5jCMHP8COG",
        "colab_type": "text"
      },
      "source": [
        "# **Random Forest Classification**\n",
        "\n",
        "We assess the performance of a random forest classifier using 1213 prinicipal components (those found responsible for 90% of the variance), 62 and 33 prinicipal components. \n",
        "\n",
        "**Is there an upper limit on the number of predictors in a random forest model?**\n",
        "\n",
        "References:  https://towardsdatascience.com/random-forest-in-python-24d0893d51c0 and https://stackabuse.com/random-forest-algorithm-with-python-and-scikit-learn/"
      ]
    },
    {
      "cell_type": "markdown",
      "metadata": {
        "id": "BexDfa_OUM5S",
        "colab_type": "text"
      },
      "source": [
        "**1213 Prinicipal Components (90% of the Variance)**"
      ]
    },
    {
      "cell_type": "markdown",
      "metadata": {
        "colab_type": "text",
        "id": "C_0u1EQ7UjhG"
      },
      "source": [
        "**Train the Model**"
      ]
    },
    {
      "cell_type": "code",
      "metadata": {
        "colab_type": "code",
        "id": "n0L2WxhQUjhJ",
        "colab": {}
      },
      "source": [
        "# Instantiate model with 1000 decision trees\n",
        "rf = RandomForestClassifier(n_estimators = 1000, random_state = 42)\n",
        "\n",
        "# Train the model on training data\n",
        "rf.fit(X_train, y_train)"
      ],
      "execution_count": 0,
      "outputs": []
    },
    {
      "cell_type": "markdown",
      "metadata": {
        "colab_type": "text",
        "id": "1xFMAhmHUjhM"
      },
      "source": [
        "**Select Important Features**\n",
        "\n",
        "Identify which Principal Components contributed most to the model"
      ]
    },
    {
      "cell_type": "code",
      "metadata": {
        "colab_type": "code",
        "id": "VhTwF1NQUjhM",
        "colab": {}
      },
      "source": [
        "# First feature selection test\n",
        "sel = SelectFromModel(RandomForestClassifier(n_estimators = 100))\n",
        "sel.fit(X_train, y_train)\n",
        "sel.get_support()\n",
        "selected_feat= X_train.columns[(sel.get_support())]\n",
        "print(len(selected_feat)) \n",
        "print(selected_feat)\n",
        "\n",
        "## histogram of the top 10 pc by importance\n",
        "# create a list of features/column names\n",
        "features = list(X_train.columns.values) \n",
        "\n",
        "feat_importances = pd.Series(rf.feature_importances_, index=X_train.columns)  \n",
        "feat_importances.nlargest(10).plot(kind='barh')"
      ],
      "execution_count": 0,
      "outputs": []
    },
    {
      "cell_type": "markdown",
      "metadata": {
        "colab_type": "text",
        "id": "Sg56uv8LUjhQ"
      },
      "source": [
        "** **I should ask about this: The finding above is intersting because though PC1 is said to explain the most variance, it is not even in the plot of the top 10 prinicipal components the random forest found to be of importance. Though PC2 is implicated as being the most important** **"
      ]
    },
    {
      "cell_type": "markdown",
      "metadata": {
        "colab_type": "text",
        "id": "r_GDSaXpUjhQ"
      },
      "source": [
        "**Make Predictions on the Test Set**"
      ]
    },
    {
      "cell_type": "code",
      "metadata": {
        "colab_type": "code",
        "id": "UayB7jKrUjhR",
        "colab": {}
      },
      "source": [
        "# Use the forest's predict method on the test data\n",
        "predictions = rf.predict(X_test)\n",
        "# Probabilities for each class\n",
        "rf_probs = rf.predict_proba(X_test)[:, 1]\n",
        "\n",
        "# Calculate the absolute errors\n",
        "errors = abs(predictions - y_test)\n",
        "# Print out the mean absolute error (mae)\n",
        "print('Mean Absolute Error:', round(np.mean(errors), 2))"
      ],
      "execution_count": 0,
      "outputs": []
    },
    {
      "cell_type": "markdown",
      "metadata": {
        "colab_type": "text",
        "id": "oT2PrzJAUjhX"
      },
      "source": [
        "**Evaluating the Performance**\n",
        "\n",
        "For Classification Problems the metrics used to evaluate an algorithm are accuracy, confusion matrix, precision, recall, and F1 values.\n",
        "\n",
        "We can also perform cross-fold validation to have a better understanding of the results\n",
        "\n",
        "Reference: https://medium.com/@hjhuney/implementing-a-random-forest-classification-model-in-python-583891c99652 "
      ]
    },
    {
      "cell_type": "markdown",
      "metadata": {
        "colab_type": "text",
        "id": "oD8KtZYuUjhX"
      },
      "source": [
        "**ROC on the Full Data**\n",
        "\n",
        "\n",
        "We make class predictions (predict) as well as predicted probabilities (predict_proba) to calculate the ROC AUC. Once we have the testing predictions, we can calculate the ROC AUC. https://towardsdatascience.com/an-implementation-and-explanation-of-the-random-forest-in-python-77bf308a9b76"
      ]
    },
    {
      "cell_type": "code",
      "metadata": {
        "colab_type": "code",
        "id": "qmvgdzrCUjhb",
        "colab": {}
      },
      "source": [
        "# Calculate ROC AUC\n",
        "roc_value = roc_auc_score(y_test, rf_probs) \n",
        "roc_value"
      ],
      "execution_count": 0,
      "outputs": []
    },
    {
      "cell_type": "code",
      "metadata": {
        "colab_type": "code",
        "id": "RGebJ4VZUjhd",
        "colab": {}
      },
      "source": [
        "# Probabilities for each class\n",
        "# Note from scikit learn: re fpr and tpr: \"Since the thresholds are sorted from low to high values, they are reversed upon returning them to ensure they correspond to both fpr and tpr, which are sorted in reversed order during their calculation.\"\n",
        "rf_probs = rf.predict_proba(X_test)[:, 1]\n",
        "fpr, tpr, _ = metrics.roc_curve(y_test, rf_probs)\n",
        "auc = metrics.roc_auc_score(y_test, rf_probs)\n",
        "auc = round(auc, 4)\n",
        "plt.plot(fpr, tpr, label=\"date 1, auc=\"+str(auc))\n",
        "plt.legend(loc=4)\n",
        "plt.show()"
      ],
      "execution_count": 0,
      "outputs": []
    },
    {
      "cell_type": "markdown",
      "metadata": {
        "colab_type": "text",
        "id": "C-2FmyyUUjhf"
      },
      "source": [
        "**10 Cross-Fold Validation**"
      ]
    },
    {
      "cell_type": "code",
      "metadata": {
        "colab_type": "code",
        "id": "rH47sFYAUjhi",
        "colab": {}
      },
      "source": [
        "rfc_cv_score = cross_val_score(rf, x, y, cv=10, scoring='roc_auc') "
      ],
      "execution_count": 0,
      "outputs": []
    },
    {
      "cell_type": "markdown",
      "metadata": {
        "colab_type": "text",
        "id": "gv6CioPzUjhk"
      },
      "source": [
        "Below, we also can examine the confusion matrix, the classification report containing precision, recall, f1-score, and support, All AUC scores, and the mean AUC score\n",
        "\n",
        "The **confusion matrix** is useful for giving false positives and false negatives\n",
        "\n",
        "The **ROC Curve** plots out the true positive rate vs the false positive rate at various thresholds\n",
        "\n",
        "The **ROC AUC Scoring** used in the cross-validation model shows the area under the ROC curve"
      ]
    },
    {
      "cell_type": "code",
      "metadata": {
        "colab_type": "code",
        "id": "Yndd2vRpUjhk",
        "colab": {}
      },
      "source": [
        "print(\"=== Confusion Matrix ===\")\n",
        "print(confusion_matrix(y_test, predictions))\n",
        "print('\\n')\n",
        "print(\"=== Classification Report ===\")\n",
        "print(classification_report(y_test, predictions))\n",
        "print('\\n')\n",
        "print(\"=== All AUC Scores ===\")\n",
        "print(rfc_cv_score)\n",
        "print('\\n')\n",
        "print(\"=== Mean AUC Score ===\")\n",
        "print(\"Mean AUC Score - Random Forest: \", rfc_cv_score.mean())\n",
        "print('\\n')\n",
        "print(\"=== Accuracy Score ===\")\n",
        "print(\"Accuracy:\", accuracy_score(y_test, predictions))"
      ],
      "execution_count": 0,
      "outputs": []
    },
    {
      "cell_type": "markdown",
      "metadata": {
        "id": "rJD32vZ8bQOb",
        "colab_type": "text"
      },
      "source": [
        "It looks like 1213 PC may be too many for us to analyze -- we get a recall of 0 -- this actually makes me wonder if I messed something up with the code? "
      ]
    },
    {
      "cell_type": "markdown",
      "metadata": {
        "id": "itWBnwaGUHSF",
        "colab_type": "text"
      },
      "source": [
        "**62 Prinicipal Components (41% of the Variance)**"
      ]
    },
    {
      "cell_type": "markdown",
      "metadata": {
        "id": "JpN91JbL9JOA",
        "colab_type": "text"
      },
      "source": [
        "**Train the Model**"
      ]
    },
    {
      "cell_type": "code",
      "metadata": {
        "id": "_dsBsgBv9LWy",
        "colab_type": "code",
        "colab": {}
      },
      "source": [
        "# Instantiate model with 1000 decision trees - results below reported w/ random state = 42\n",
        "rf = RandomForestClassifier(n_estimators = 1000, random_state = 42)\n",
        "\n",
        "# Train the model on training data\n",
        "rf.fit(X_train_62, y_train)"
      ],
      "execution_count": 0,
      "outputs": []
    },
    {
      "cell_type": "markdown",
      "metadata": {
        "id": "bZbwAmNQ-XdF",
        "colab_type": "text"
      },
      "source": [
        "**Select Important Features**\n",
        "\n",
        "Identify which Principal Components contributed most to the model"
      ]
    },
    {
      "cell_type": "code",
      "metadata": {
        "id": "6_MdbNeW-bHO",
        "colab_type": "code",
        "colab": {}
      },
      "source": [
        "# First feature selection test\n",
        "sel = SelectFromModel(RandomForestClassifier(n_estimators = 100))\n",
        "sel.fit(X_train_62, y_train)\n",
        "sel.get_support()\n",
        "selected_feat= X_train_62.columns[(sel.get_support())]\n",
        "print(len(selected_feat)) \n",
        "print(selected_feat)\n",
        "\n",
        "## histogram of the top 10 pc by importance\n",
        "# create a list of features/column names\n",
        "features = list(X_train_62.columns.values) \n",
        "\n",
        "feat_importances = pd.Series(rf.feature_importances_, index=X_train_62.columns)  \n",
        "feat_importances.nlargest(10).plot(kind='barh')"
      ],
      "execution_count": 0,
      "outputs": []
    },
    {
      "cell_type": "markdown",
      "metadata": {
        "id": "BFUXfVprIEVB",
        "colab_type": "text"
      },
      "source": [
        "** **I should ask about this: The finding above is intersting because though PC1 is said to explain the most variance, it is not even in the plot of the top 10 prinicipal components the random forest found to be of importance. Though PC2 and PC3 reside in the top 10!** **"
      ]
    },
    {
      "cell_type": "markdown",
      "metadata": {
        "id": "FENSsY5l9aDT",
        "colab_type": "text"
      },
      "source": [
        "**Make Predictions on the Test Set**"
      ]
    },
    {
      "cell_type": "code",
      "metadata": {
        "id": "7yKF_xdj9dbD",
        "colab_type": "code",
        "colab": {}
      },
      "source": [
        "# Use the forest's predict method on the test data\n",
        "predictions = rf.predict(X_test_62)\n",
        "# Probabilities for each class\n",
        "rf_probs = rf.predict_proba(X_test_62)[:, 1]\n",
        "\n",
        "# Calculate the absolute errors\n",
        "errors = abs(predictions - y_test)\n",
        "# Print out the mean absolute error (mae)\n",
        "print('Mean Absolute Error:', round(np.mean(errors), 2))"
      ],
      "execution_count": 0,
      "outputs": []
    },
    {
      "cell_type": "markdown",
      "metadata": {
        "id": "p5pOirYXDrEn",
        "colab_type": "text"
      },
      "source": [
        "**Evaluating the Performance**\n",
        "\n",
        "For Classification Problems the metrics used to evaluate an algorithm are accuracy, confusion matrix, precision, recall, and F1 values.\n",
        "\n",
        "We can also perform cross-fold validation to have a better understanding of the results\n",
        "\n",
        "Reference: https://medium.com/@hjhuney/implementing-a-random-forest-classification-model-in-python-583891c99652 "
      ]
    },
    {
      "cell_type": "markdown",
      "metadata": {
        "id": "Mu4eohUxFVaA",
        "colab_type": "text"
      },
      "source": [
        "**ROC on the Full Data**\n",
        "\n",
        "\n",
        "We make class predictions (predict) as well as predicted probabilities (predict_proba) to calculate the ROC AUC. Once we have the testing predictions, we can calculate the ROC AUC. https://towardsdatascience.com/an-implementation-and-explanation-of-the-random-forest-in-python-77bf308a9b76"
      ]
    },
    {
      "cell_type": "code",
      "metadata": {
        "id": "WrO0-IuE-o0E",
        "colab_type": "code",
        "colab": {}
      },
      "source": [
        "# Calculate ROC AUC\n",
        "roc_value = roc_auc_score(y_test, rf_probs) \n",
        "roc_value"
      ],
      "execution_count": 0,
      "outputs": []
    },
    {
      "cell_type": "code",
      "metadata": {
        "id": "fyKejE-yF88f",
        "colab_type": "code",
        "colab": {}
      },
      "source": [
        "# Probabilities for each class\n",
        "# Note from scikit learn: re fpr and tpr: \"Since the thresholds are sorted from low to high values, they are reversed upon returning them to ensure they correspond to both fpr and tpr, which are sorted in reversed order during their calculation.\"\n",
        "rf_probs = rf.predict_proba(X_test_62)[:, 1]\n",
        "fpr, tpr, _ = metrics.roc_curve(y_test, rf_probs)\n",
        "auc = metrics.roc_auc_score(y_test, rf_probs)\n",
        "auc = round(auc, 4)\n",
        "plt.plot(fpr, tpr, label=\"date 1, auc=\"+str(auc))\n",
        "plt.legend(loc=4)\n",
        "plt.show()"
      ],
      "execution_count": 0,
      "outputs": []
    },
    {
      "cell_type": "markdown",
      "metadata": {
        "id": "3U0IYU-uFzGZ",
        "colab_type": "text"
      },
      "source": [
        "**10 Cross-Fold Validation**"
      ]
    },
    {
      "cell_type": "code",
      "metadata": {
        "id": "gQRXv1rIE9UL",
        "colab_type": "code",
        "colab": {}
      },
      "source": [
        "# need to combine the testing and training sets to perform cross-fold varlidation\n",
        "# select the 62 pc columns\n",
        "x_62 = x.iloc[:,0:62]\n",
        "y_62 = y\n",
        "\n",
        "rfc_cv_score = cross_val_score(rf, x_62, y_62, cv=10, scoring='roc_auc') "
      ],
      "execution_count": 0,
      "outputs": []
    },
    {
      "cell_type": "markdown",
      "metadata": {
        "id": "YEonYh2WEhkU",
        "colab_type": "text"
      },
      "source": [
        "Below, we also can examine the confusion matrix, the classification report containing precision, recall, f1-score, and support, All AUC scores, and the mean AUC score\n",
        "\n",
        "The **confusion matrix** is useful for giving false positives and false negatives\n",
        "\n",
        "The **ROC Curve** plots out the true positive rate vs the false positive rate at various thresholds\n",
        "\n",
        "The **ROC AUC Scoring** used in the cross-validation model shows the area under the ROC curve"
      ]
    },
    {
      "cell_type": "code",
      "metadata": {
        "id": "haZRHJqGcv9f",
        "colab_type": "code",
        "colab": {}
      },
      "source": [
        "print(\"=== Confusion Matrix ===\")\n",
        "print(confusion_matrix(y_test, predictions))\n",
        "print('\\n')\n",
        "print(\"=== Classification Report ===\")\n",
        "print(classification_report(y_test, predictions))\n",
        "print('\\n')\n",
        "print(\"=== All AUC Scores ===\")\n",
        "print(rfc_cv_score)\n",
        "print('\\n')\n",
        "print(\"=== Mean AUC Score ===\")\n",
        "print(\"Mean AUC Score - Random Forest: \", rfc_cv_score.mean())\n",
        "print('\\n')\n",
        "print(\"=== Accuracy Score ===\")\n",
        "print(\"Accuracy:\", accuracy_score(y_test, predictions))"
      ],
      "execution_count": 0,
      "outputs": []
    },
    {
      "cell_type": "markdown",
      "metadata": {
        "id": "Z5Rt_2XZUZ7N",
        "colab_type": "text"
      },
      "source": [
        "**33 Prinicipal Components (35% of the Variance)**"
      ]
    },
    {
      "cell_type": "markdown",
      "metadata": {
        "colab_type": "text",
        "id": "FzmD72vGXGeR"
      },
      "source": [
        "**Train the Model**"
      ]
    },
    {
      "cell_type": "code",
      "metadata": {
        "colab_type": "code",
        "id": "V4BekCdMXGef",
        "colab": {}
      },
      "source": [
        "# Instantiate model with 1000 decision trees\n",
        "rf = RandomForestClassifier(n_estimators = 1000, random_state = 42) # results below reported w/ random state = 42\n",
        "\n",
        "# Train the model on training data\n",
        "rf.fit(X_train_33, y_train)"
      ],
      "execution_count": 0,
      "outputs": []
    },
    {
      "cell_type": "markdown",
      "metadata": {
        "colab_type": "text",
        "id": "cOom3lxOXGer"
      },
      "source": [
        "**Select Important Features**\n",
        "\n",
        "Identify which Principal Components contributed most to the model"
      ]
    },
    {
      "cell_type": "code",
      "metadata": {
        "colab_type": "code",
        "id": "D0xAufOyXGes",
        "colab": {}
      },
      "source": [
        "# First feature selection test\n",
        "sel = SelectFromModel(RandomForestClassifier(n_estimators = 100))\n",
        "sel.fit(X_train_33, y_train)\n",
        "sel.get_support()\n",
        "selected_feat= X_train_33.columns[(sel.get_support())]\n",
        "print(len(selected_feat)) \n",
        "print(selected_feat)\n",
        "\n",
        "## histogram of the top 10 pc by importance\n",
        "# create a list of features/column names\n",
        "features = list(X_train_33.columns.values) \n",
        "\n",
        "feat_importances = pd.Series(rf.feature_importances_, index=X_train_33.columns)  \n",
        "feat_importances.nlargest(10).plot(kind='barh')"
      ],
      "execution_count": 0,
      "outputs": []
    },
    {
      "cell_type": "markdown",
      "metadata": {
        "colab_type": "text",
        "id": "ycKH-E5QXGe2"
      },
      "source": [
        "** **I should ask about this: The finding above is intersting because though PC1 is said to explain the most variance, it is not even in the plot of the top 10 prinicipal components the random forest found to be of importance. PC2 and PC3 were found in the top 10 in this test.** **"
      ]
    },
    {
      "cell_type": "markdown",
      "metadata": {
        "colab_type": "text",
        "id": "IEkp4XAdXGe8"
      },
      "source": [
        "**Make Predictions on the Test Set**"
      ]
    },
    {
      "cell_type": "code",
      "metadata": {
        "colab_type": "code",
        "id": "xEx7u0msXGe_",
        "colab": {}
      },
      "source": [
        "# Use the forest's predict method on the test data\n",
        "predictions = rf.predict(X_test_33)\n",
        "# Probabilities for each class\n",
        "rf_probs = rf.predict_proba(X_test_33)[:, 1]\n",
        "\n",
        "# Calculate the absolute errors\n",
        "errors = abs(predictions - y_test)\n",
        "# Print out the mean absolute error (mae)\n",
        "print('Mean Absolute Error:', round(np.mean(errors), 2))"
      ],
      "execution_count": 0,
      "outputs": []
    },
    {
      "cell_type": "markdown",
      "metadata": {
        "colab_type": "text",
        "id": "-5PL9FdiXGfK"
      },
      "source": [
        "**Evaluating the Performance**\n",
        "\n",
        "For Classification Problems the metrics used to evaluate an algorithm are accuracy, confusion matrix, precision, recall, and F1 values.\n",
        "\n",
        "We can also perform cross-fold validation to have a better understanding of the results\n",
        "\n",
        "Reference: https://medium.com/@hjhuney/implementing-a-random-forest-classification-model-in-python-583891c99652 "
      ]
    },
    {
      "cell_type": "markdown",
      "metadata": {
        "colab_type": "text",
        "id": "1BO07lHLXGfM"
      },
      "source": [
        "**ROC on the Full Data**\n",
        "\n",
        "\n",
        "We make class predictions (predict) as well as predicted probabilities (predict_proba) to calculate the ROC AUC. Once we have the testing predictions, we can calculate the ROC AUC. https://towardsdatascience.com/an-implementation-and-explanation-of-the-random-forest-in-python-77bf308a9b76"
      ]
    },
    {
      "cell_type": "code",
      "metadata": {
        "colab_type": "code",
        "id": "zrQY6TRbXGfZ",
        "colab": {}
      },
      "source": [
        "# Calculate ROC AUC\n",
        "roc_value = roc_auc_score(y_test, rf_probs) \n",
        "roc_value"
      ],
      "execution_count": 0,
      "outputs": []
    },
    {
      "cell_type": "code",
      "metadata": {
        "colab_type": "code",
        "id": "1Yr6tOxNXGfg",
        "colab": {}
      },
      "source": [
        "# Probabilities for each class\n",
        "# Note from scikit learn: re fpr and tpr: \"Since the thresholds are sorted from low to high values, they are reversed upon returning them to ensure they correspond to both fpr and tpr, which are sorted in reversed order during their calculation.\"\n",
        "rf_probs = rf.predict_proba(X_test_33)[:, 1]\n",
        "fpr, tpr, _ = metrics.roc_curve(y_test, rf_probs)\n",
        "auc = metrics.roc_auc_score(y_test, rf_probs)\n",
        "auc = round(auc, 4)\n",
        "plt.plot(fpr, tpr, label=\"date 1, auc=\"+str(auc))\n",
        "plt.legend(loc=4)\n",
        "plt.show()"
      ],
      "execution_count": 0,
      "outputs": []
    },
    {
      "cell_type": "markdown",
      "metadata": {
        "colab_type": "text",
        "id": "bEoQWOGAXGfl"
      },
      "source": [
        "**10 Cross-Fold Validation**"
      ]
    },
    {
      "cell_type": "code",
      "metadata": {
        "colab_type": "code",
        "id": "hJSLBu04XGfm",
        "colab": {}
      },
      "source": [
        "# need to combine the testing and training sets to perform cross-fold varlidation\n",
        "# select the 33 pc columns\n",
        "x_33 = x.iloc[:,0:33]\n",
        "y_33 = y\n",
        "\n",
        "rfc_cv_score = cross_val_score(rf, x_33, y_33, cv=10, scoring='roc_auc') "
      ],
      "execution_count": 0,
      "outputs": []
    },
    {
      "cell_type": "markdown",
      "metadata": {
        "colab_type": "text",
        "id": "vZwd1wqnXGfq"
      },
      "source": [
        "Below, we also can examine the confusion matrix, the classification report containing precision, recall, f1-score, and support, All AUC scores, and the mean AUC score\n",
        "\n",
        "The **confusion matrix** is useful for giving false positives and false negatives\n",
        "\n",
        "The **ROC Curve** plots out the true positive rate vs the false positive rate at various thresholds\n",
        "\n",
        "The **ROC AUC Scoring** used in the cross-validation model shows the area under the ROC curve"
      ]
    },
    {
      "cell_type": "code",
      "metadata": {
        "colab_type": "code",
        "id": "tpYKGm-qXGfr",
        "colab": {}
      },
      "source": [
        "print(\"=== Confusion Matrix ===\")\n",
        "print(confusion_matrix(y_test, predictions))\n",
        "print('\\n')\n",
        "print(\"=== Classification Report ===\")\n",
        "print(classification_report(y_test, predictions))\n",
        "print('\\n')\n",
        "print(\"=== All AUC Scores ===\")\n",
        "print(rfc_cv_score)\n",
        "print('\\n')\n",
        "print(\"=== Mean AUC Score ===\")\n",
        "print(\"Mean AUC Score - Random Forest: \", rfc_cv_score.mean())\n",
        "print('\\n')\n",
        "print(\"=== Accuracy Score ===\")\n",
        "print(\"Accuracy:\", accuracy_score(y_test, predictions))"
      ],
      "execution_count": 0,
      "outputs": []
    },
    {
      "cell_type": "markdown",
      "metadata": {
        "id": "8DjwC19GSX8j",
        "colab_type": "text"
      },
      "source": [
        "# **Random Forest Results**\n",
        "\n",
        "**Table of Random Forest Results**\n",
        "\n",
        "**1213 Prinicipal Components (90%) of the variance**\n",
        "\n",
        "I am not going to include these results -- Recall was 0\n",
        "\n",
        "**62 Prinicipal Components (41%) of the variance**\n",
        "\n",
        "* AUC: 0.637\n",
        "* Mean Absolute Error: 0.36\n",
        "* Accuracy: 0.643\n",
        "* Mean AUC from 10 CFV: 0.62\n",
        "                   === Classification Report ===\n",
        "              precision    recall  f1-score   support\n",
        "\n",
        "         0.0       0.66      0.93      0.77       287\n",
        "         1.0       0.41      0.09      0.15       150\n",
        "       accuracy                        0.64       437\n",
        "       macro avg   0.54      0.51      0.46       437\n",
        "      weighted avg 0.58      0.64      0.56       437 \n",
        "\n",
        "Sensitivity is very low with this method.\n",
        "\n",
        "**33 Prinicipal Components (35%) of the variance**\n",
        "* AUC: 0.623\n",
        "* Mean Absolute Error: 0.33\n",
        "* Accuracy: 0.67\n",
        "* Mean AUC from 10 CFV: 0.67\n",
        "\n",
        "                    === Classification Report ===\n",
        "              precision    recall  f1-score   support\n",
        "\n",
        "         0.0       0.69      0.91      0.79       287\n",
        "         1.0       0.56      0.21      0.31       150\n",
        "       accuracy                        0.67       437\n",
        "       macro avg   0.63      0.56      0.55       437\n",
        "      weighted avg 0.65      0.67      0.62       437\n",
        "\n",
        "\n",
        "Overall, it does not look like we can expect good results with all 1213 Prinicipal Components. Additionally, AUCs and recall were better in the logistic regression models. \n",
        "\n",
        "Suprisingly, Recall was higher when testing 33 prinicipal components with a random forest classifier. I wonder if may that was just by chance.\n",
        "\n",
        "**Note:** I changed the random see for pc_33 random forest results because I wanted to assess whether or not we'd get the same recall. Thus, the actual results may be slightly different from what was reported in this results chunk. **Update:** Recall is still 0.17. \n",
        "\n",
        "I also tried changing random number see for 62 prinicpal components, and the recall was .10 ~~ so looks like perhaps 33 prinicipal components performs better with random forests -- although more tests would help ensure this. \n",
        "\n",
        "**One thing to maybe look into is changing the number of trees. I wonder if this would improve results at all.**"
      ]
    },
    {
      "cell_type": "markdown",
      "metadata": {
        "id": "o_cKdGjWcZkl",
        "colab_type": "text"
      },
      "source": [
        "# **Neural Network Classification**"
      ]
    },
    {
      "cell_type": "code",
      "metadata": {
        "id": "jhs-KCueHlKj",
        "colab_type": "code",
        "colab": {}
      },
      "source": [
        "# Import PyTorch packages\n",
        "import torch\n",
        "from torch import nn\n",
        "from torchvision import datasets, transforms\n",
        "from torch import optim\n",
        "from torch.utils.data.sampler import SubsetRandomSampler\n",
        "from torch.utils.data.dataloader import DataLoader\n",
        "from torch.utils.data import TensorDataset\n",
        "import torch.nn.functional as F\n",
        "from sklearn.metrics import roc_curve, auc"
      ],
      "execution_count": 0,
      "outputs": []
    },
    {
      "cell_type": "markdown",
      "metadata": {
        "id": "YVPiLg0DgkuU",
        "colab_type": "text"
      },
      "source": [
        "**Assess Neural Network Classification Using all 1213 Prinicipal Components**"
      ]
    },
    {
      "cell_type": "markdown",
      "metadata": {
        "id": "9WMA1F7XxV8a",
        "colab_type": "text"
      },
      "source": [
        "**Format the Training Dataset**"
      ]
    },
    {
      "cell_type": "code",
      "metadata": {
        "id": "g7pj4XyVzUIZ",
        "colab_type": "code",
        "colab": {}
      },
      "source": [
        "# Convert data into arrays\n",
        "xb = np.array(X_train, dtype = \"float32\")\n",
        "yb = np.array(y_train, dtype = \"float32\")\n",
        "\n",
        "# Convert arrays into tensors\n",
        "xb = torch.from_numpy(xb)\n",
        "yb = torch.from_numpy(yb)\n",
        "\n",
        "# Combine the arrays\n",
        "trainloader = TensorDataset(xb, yb)\n",
        "\n",
        "# Define the batchsize\n",
        "batch_size = 32\n",
        "\n",
        "# Training Loader\n",
        "trainloader = DataLoader(trainloader, batch_size, shuffle=True)"
      ],
      "execution_count": 0,
      "outputs": []
    },
    {
      "cell_type": "markdown",
      "metadata": {
        "id": "UtV6u9fUzrxx",
        "colab_type": "text"
      },
      "source": [
        "**Format the Testing Dataset**"
      ]
    },
    {
      "cell_type": "code",
      "metadata": {
        "id": "4xoH_jHfzwc6",
        "colab_type": "code",
        "colab": {}
      },
      "source": [
        "# Convert data into arrays\n",
        "xb = np.array(X_test, dtype = \"float32\")\n",
        "yb = np.array(y_test, dtype = \"float32\")\n",
        "\n",
        "# Convert arrays into tensors\n",
        "xb = torch.from_numpy(xb)\n",
        "yb = torch.from_numpy(yb)\n",
        "\n",
        "# Combine the arrays\n",
        "testloader = TensorDataset(xb, yb) \n",
        "\n",
        "# Define the batchsize\n",
        "batch_size= 32\n",
        "\n",
        "# Training Loader\n",
        "testloader = DataLoader(testloader, batch_size, shuffle=True) "
      ],
      "execution_count": 0,
      "outputs": []
    },
    {
      "cell_type": "markdown",
      "metadata": {
        "id": "ZOzyQUmc0PJ6",
        "colab_type": "text"
      },
      "source": [
        "**Create Neural Network Model**"
      ]
    },
    {
      "cell_type": "code",
      "metadata": {
        "id": "j2XAPEny0Thm",
        "colab_type": "code",
        "colab": {
          "base_uri": "https://localhost:8080/",
          "height": 1000
        },
        "outputId": "6ba506d6-b125-4a35-9e4d-0d8f1408f69a"
      },
      "source": [
        "# Define the model with hidden layers - 1213 inputs\n",
        "model = nn.Sequential(nn.Linear(1213, 500),\n",
        "                      nn.ReLU(),\n",
        "                      nn.Linear(500, 250),\n",
        "                      nn.ReLU(),\n",
        "                      nn.Linear(250, 1), \n",
        "                      nn.Sigmoid())\n",
        "                      \n",
        "# Set optimizer and learning rate\n",
        "#optimizer = optim.SGD(model.parameters(), lr=0.003)\n",
        "\n",
        "# Could also use Adam optimizer; similar to stochastic gradient descent, but uses momentum which can speed up the actual fitting process, and it also adjusts the learning rate for each of the individual parameters in the model\n",
        "optimizer = optim.Adam(model.parameters(), lr=0.0001)\n",
        "\n",
        "criterion = nn.BCELoss() # use with a sigmoid function\n",
        "\n",
        "#criterion = nn.CrossEntropyLoss() #don't use with softmax or sigmoid\n",
        "\n",
        "# Set epochs\n",
        "epochs = 200\n",
        "for e in range(epochs):\n",
        "    running_loss = 0\n",
        "    for xb, yb in trainloader:\n",
        "        \n",
        "        # Clear the gradients, do this because gradients are accumulated\n",
        "        optimizer.zero_grad()\n",
        "        \n",
        "        # Training pass\n",
        "        output = model.forward(xb)\n",
        "        loss = criterion(output, yb) # Loss calculated from the output compared to the labels  \n",
        "        loss.backward()\n",
        "        optimizer.step()\n",
        "        \n",
        "        running_loss += loss.item() # loss.item() gets the scalar value held in the loss. Running_loss = 0, \n",
        "        # += notation, says \"Add a value and the variable and assigns the result to that variable.\" So, adds the running_loss (0) with loss.item and assigns to running_loss\n",
        "    else:\n",
        "        print(f\"Training loss: {running_loss/len(trainloader)}\")"
      ],
      "execution_count": 70,
      "outputs": [
        {
          "output_type": "stream",
          "text": [
            "/usr/local/lib/python3.6/dist-packages/torch/nn/modules/loss.py:498: UserWarning: Using a target size (torch.Size([32])) that is different to the input size (torch.Size([32, 1])) is deprecated. Please ensure they have the same size.\n",
            "  return F.binary_cross_entropy(input, target, weight=self.weight, reduction=self.reduction)\n",
            "/usr/local/lib/python3.6/dist-packages/torch/nn/modules/loss.py:498: UserWarning: Using a target size (torch.Size([30])) that is different to the input size (torch.Size([30, 1])) is deprecated. Please ensure they have the same size.\n",
            "  return F.binary_cross_entropy(input, target, weight=self.weight, reduction=self.reduction)\n"
          ],
          "name": "stderr"
        },
        {
          "output_type": "stream",
          "text": [
            "Training loss: 0.6565079630875006\n",
            "Training loss: 0.48867770738717986\n",
            "Training loss: 0.3614494698803599\n",
            "Training loss: 0.23270732818580256\n",
            "Training loss: 0.1290956973666098\n",
            "Training loss: 0.06472030899873595\n",
            "Training loss: 0.03330829544220029\n",
            "Training loss: 0.019279085349564146\n",
            "Training loss: 0.012364612165384176\n",
            "Training loss: 0.00862605898164031\n",
            "Training loss: 0.00635150212385669\n",
            "Training loss: 0.004878085015750513\n",
            "Training loss: 0.0038623722190627963\n",
            "Training loss: 0.0031311455148658376\n",
            "Training loss: 0.00259436879352462\n",
            "Training loss: 0.0021842839820991927\n",
            "Training loss: 0.0018592974903607151\n",
            "Training loss: 0.0016025225830650547\n",
            "Training loss: 0.0013949043719415984\n",
            "Training loss: 0.001225382629100506\n",
            "Training loss: 0.0010840147449748545\n",
            "Training loss: 0.0009667907029435765\n",
            "Training loss: 0.0008643004906977095\n",
            "Training loss: 0.0007784390217261162\n",
            "Training loss: 0.0007030339989663534\n",
            "Training loss: 0.0006386738649580809\n",
            "Training loss: 0.000582580512855202\n",
            "Training loss: 0.0005329178906011781\n",
            "Training loss: 0.000489184421362219\n",
            "Training loss: 0.00045015142943778235\n",
            "Training loss: 0.0004156140181826564\n",
            "Training loss: 0.00038445118329169726\n",
            "Training loss: 0.00035660012650712416\n",
            "Training loss: 0.00033139100223041437\n",
            "Training loss: 0.00030884312653187205\n",
            "Training loss: 0.0002882983336770316\n",
            "Training loss: 0.000269310437100258\n",
            "Training loss: 0.0002524404362037142\n",
            "Training loss: 0.0002368351908843601\n",
            "Training loss: 0.0002223132217229094\n",
            "Training loss: 0.00020915344527854424\n",
            "Training loss: 0.00019695931973174306\n",
            "Training loss: 0.00018570589351683584\n",
            "Training loss: 0.00017529281396447204\n",
            "Training loss: 0.00016575362927297402\n",
            "Training loss: 0.00015685635831110497\n",
            "Training loss: 0.00014855356236760753\n",
            "Training loss: 0.00014094360529093026\n",
            "Training loss: 0.0001337622668914974\n",
            "Training loss: 0.00012702432375191142\n",
            "Training loss: 0.00012072620834593048\n",
            "Training loss: 0.00011487971251637379\n",
            "Training loss: 0.00010941143409581855\n",
            "Training loss: 0.00010424846124540015\n",
            "Training loss: 9.93997392226181e-05\n",
            "Training loss: 9.483175310334645e-05\n",
            "Training loss: 9.054997564994776e-05\n",
            "Training loss: 8.65221353284674e-05\n",
            "Training loss: 8.263521255973568e-05\n",
            "Training loss: 7.90547795676081e-05\n",
            "Training loss: 7.571201138311951e-05\n",
            "Training loss: 7.246200455971652e-05\n",
            "Training loss: 6.945977976301504e-05\n",
            "Training loss: 6.655594383695776e-05\n",
            "Training loss: 6.381480311463791e-05\n",
            "Training loss: 6.121891135812691e-05\n",
            "Training loss: 5.875649580181145e-05\n",
            "Training loss: 5.6452369768166825e-05\n",
            "Training loss: 5.4227287431031736e-05\n",
            "Training loss: 5.2059665726918e-05\n",
            "Training loss: 5.0076753701077684e-05\n",
            "Training loss: 4.818694749080417e-05\n",
            "Training loss: 4.634968877880743e-05\n",
            "Training loss: 4.4606285882764496e-05\n",
            "Training loss: 4.294164469550795e-05\n",
            "Training loss: 4.13439793192083e-05\n",
            "Training loss: 3.984905188411997e-05\n",
            "Training loss: 3.8383141899674494e-05\n",
            "Training loss: 3.699725382874731e-05\n",
            "Training loss: 3.569793887258927e-05\n",
            "Training loss: 3.4428055209346206e-05\n",
            "Training loss: 3.321955853430043e-05\n",
            "Training loss: 3.2068521826792076e-05\n",
            "Training loss: 3.095501863465804e-05\n",
            "Training loss: 2.986832761252583e-05\n",
            "Training loss: 2.8861900873158536e-05\n",
            "Training loss: 2.7851085089822868e-05\n",
            "Training loss: 2.6915679283286784e-05\n",
            "Training loss: 2.6002036176533892e-05\n",
            "Training loss: 2.5143464704231563e-05\n",
            "Training loss: 2.4304711432040032e-05\n",
            "Training loss: 2.3508598155231305e-05\n",
            "Training loss: 2.2744376021763878e-05\n",
            "Training loss: 2.199591991240329e-05\n",
            "Training loss: 2.1295293086817455e-05\n",
            "Training loss: 2.060963173035572e-05\n",
            "Training loss: 1.9948184893930772e-05\n",
            "Training loss: 1.9303436136219605e-05\n",
            "Training loss: 1.8703269255993512e-05\n",
            "Training loss: 1.8102000977683575e-05\n",
            "Training loss: 1.7535554700482796e-05\n",
            "Training loss: 1.6986427997436272e-05\n",
            "Training loss: 1.645404857454861e-05\n",
            "Training loss: 1.5953662091860458e-05\n",
            "Training loss: 1.5455190539175485e-05\n",
            "Training loss: 1.4989942229010745e-05\n",
            "Training loss: 1.4531527374013576e-05\n",
            "Training loss: 1.4090362195175413e-05\n",
            "Training loss: 1.3666014704695709e-05\n",
            "Training loss: 1.3249625803060864e-05\n",
            "Training loss: 1.285752147473764e-05\n",
            "Training loss: 1.2474385917679372e-05\n",
            "Training loss: 1.20941179530502e-05\n",
            "Training loss: 1.1746342951061329e-05\n",
            "Training loss: 1.1393480291167734e-05\n",
            "Training loss: 1.1061934279363102e-05\n",
            "Training loss: 1.0733171964647028e-05\n",
            "Training loss: 1.0420316612442371e-05\n",
            "Training loss: 1.0113507081902155e-05\n",
            "Training loss: 9.822083883613587e-06\n",
            "Training loss: 9.540661367060327e-06\n",
            "Training loss: 9.265535925628572e-06\n",
            "Training loss: 9.002928425438657e-06\n",
            "Training loss: 8.743213728427313e-06\n",
            "Training loss: 8.49330312919891e-06\n",
            "Training loss: 8.251115726058588e-06\n",
            "Training loss: 8.018211468790868e-06\n",
            "Training loss: 7.790917052483476e-06\n",
            "Training loss: 7.570906368860827e-06\n",
            "Training loss: 7.35922822059365e-06\n",
            "Training loss: 7.152701716510885e-06\n",
            "Training loss: 6.95006136128341e-06\n",
            "Training loss: 6.760301990963365e-06\n",
            "Training loss: 6.569804011122891e-06\n",
            "Training loss: 6.392241707877341e-06\n",
            "Training loss: 6.214128250842517e-06\n",
            "Training loss: 6.040766759436271e-06\n",
            "Training loss: 5.8745956998680455e-06\n",
            "Training loss: 5.720194239318782e-06\n",
            "Training loss: 5.557851570146584e-06\n",
            "Training loss: 5.408262944822526e-06\n",
            "Training loss: 5.259134557091762e-06\n",
            "Training loss: 5.118695808938e-06\n",
            "Training loss: 4.976863814723712e-06\n",
            "Training loss: 4.841158925489985e-06\n",
            "Training loss: 4.714700730246699e-06\n",
            "Training loss: 4.584950480287861e-06\n",
            "Training loss: 4.461969283289452e-06\n",
            "Training loss: 4.342662056687248e-06\n",
            "Training loss: 4.226913649578885e-06\n",
            "Training loss: 4.113294447207165e-06\n",
            "Training loss: 4.005880998924912e-06\n",
            "Training loss: 3.896968398360669e-06\n",
            "Training loss: 3.793649783602166e-06\n",
            "Training loss: 3.694641247598267e-06\n",
            "Training loss: 3.595844529582991e-06\n",
            "Training loss: 3.501945434991063e-06\n",
            "Training loss: 3.407991737442832e-06\n",
            "Training loss: 3.3202651782009593e-06\n",
            "Training loss: 3.233568233509886e-06\n",
            "Training loss: 3.1486189660737603e-06\n",
            "Training loss: 3.066244106576494e-06\n",
            "Training loss: 2.987282650016224e-06\n",
            "Training loss: 2.908575616280226e-06\n",
            "Training loss: 2.8324974686611534e-06\n",
            "Training loss: 2.757591457294638e-06\n",
            "Training loss: 2.6859413343650308e-06\n",
            "Training loss: 2.618010407010244e-06\n",
            "Training loss: 2.5501249987561406e-06\n",
            "Training loss: 2.482693927471168e-06\n",
            "Training loss: 2.4183581023485535e-06\n",
            "Training loss: 2.3579748302858563e-06\n",
            "Training loss: 2.2979519898643316e-06\n",
            "Training loss: 2.23705987215309e-06\n",
            "Training loss: 2.1796385553676462e-06\n",
            "Training loss: 2.123543958432714e-06\n",
            "Training loss: 2.0698814751085592e-06\n",
            "Training loss: 2.015625202658135e-06\n",
            "Training loss: 1.9662452636910572e-06\n",
            "Training loss: 1.9155659729000125e-06\n",
            "Training loss: 1.8667523635286205e-06\n",
            "Training loss: 1.8187625678032552e-06\n",
            "Training loss: 1.7739226877449433e-06\n",
            "Training loss: 1.7288252848163942e-06\n",
            "Training loss: 1.6849182108072876e-06\n",
            "Training loss: 1.6428676899966198e-06\n",
            "Training loss: 1.6004628904982648e-06\n",
            "Training loss: 1.5620710561362523e-06\n",
            "Training loss: 1.5212623311083186e-06\n",
            "Training loss: 1.4816287980133118e-06\n",
            "Training loss: 1.4451723184653774e-06\n",
            "Training loss: 1.4094487945973325e-06\n",
            "Training loss: 1.374954932521732e-06\n",
            "Training loss: 1.3405216599849376e-06\n",
            "Training loss: 1.3073846239754724e-06\n",
            "Training loss: 1.2730513459445785e-06\n",
            "Training loss: 1.2407865957667548e-06\n",
            "Training loss: 1.2104602463784055e-06\n",
            "Training loss: 1.1805397382043494e-06\n",
            "Training loss: 1.1511341024676612e-06\n"
          ],
          "name": "stdout"
        }
      ]
    },
    {
      "cell_type": "markdown",
      "metadata": {
        "id": "oXT-gAEk3aiZ",
        "colab_type": "text"
      },
      "source": [
        "**Evaluate Model Performance**"
      ]
    },
    {
      "cell_type": "code",
      "metadata": {
        "id": "0JLqRn3qcypE",
        "colab_type": "code",
        "colab": {
          "base_uri": "https://localhost:8080/",
          "height": 603
        },
        "outputId": "7a4d6a9d-9fa7-4dde-f9cc-378a843cb0bf"
      },
      "source": [
        "# Convert data into arrays\n",
        "xb = np.array(X_test, dtype = \"float32\")\n",
        "yb = np.array(y_test, dtype = \"float32\")\n",
        "\n",
        "# Convert arrays into tensors\n",
        "xb = torch.from_numpy(xb)\n",
        "yb = torch.from_numpy(yb)\n",
        "\n",
        "# Apply the model to the whole testing dataset\n",
        "ps = model(xb)\n",
        "\n",
        "#print('Probabilities', ps[:10])\n",
        "\n",
        "# Obtain the top probability\n",
        "top_p, top_class = ps.topk(1, dim=1)\n",
        "#print('true vals', yb[:10])\n",
        "\n",
        "# Drop the grad \n",
        "top_p = top_p.detach().numpy()\n",
        "top_class = top_class.detach().numpy()\n",
        "\n",
        "top_class = (top_p >= 0.5).astype(np.int)\n",
        "#print('top class', top_class[:10])\n",
        "\n",
        "# Compute ROC curve\n",
        "fpr, tpr, thresholds = roc_curve(yb, top_p, pos_label=1)\n",
        "\n",
        "# Compute ROC area\n",
        "roc_auc = round(auc(fpr, tpr),3)\n",
        "plt.figure()\n",
        "plt.plot(fpr, tpr, color='darkorange', label='ROC curve (area = %0.3f)' % roc_auc)\n",
        "plt.plot([0, 1], [0, 1], color='navy', linestyle='--')\n",
        "plt.xlim([-0.01, 1.0])\n",
        "plt.ylim([0.0, 1.01])\n",
        "plt.xlabel('False Positive Rate')\n",
        "plt.ylabel('True Positive Rate')\n",
        "plt.title('Receiver operating characteristic')\n",
        "plt.legend(loc=\"lower right\")\n",
        "\n",
        "# Classification Report\n",
        "print(\"=== Confusion Matrix ===\")\n",
        "print(confusion_matrix(yb, top_class))\n",
        "print('\\n')\n",
        "print(\"=== Classification Report ===\")\n",
        "print(classification_report(yb, top_class))\n",
        "print('\\n')\n",
        "print(\"=== Accuracy Score ===\")\n",
        "print(\"Accuracy:\", round(accuracy_score(yb, top_class),3))"
      ],
      "execution_count": 71,
      "outputs": [
        {
          "output_type": "stream",
          "text": [
            "=== Confusion Matrix ===\n",
            "[[223  64]\n",
            " [ 87  63]]\n",
            "\n",
            "\n",
            "=== Classification Report ===\n",
            "              precision    recall  f1-score   support\n",
            "\n",
            "         0.0       0.72      0.78      0.75       287\n",
            "         1.0       0.50      0.42      0.45       150\n",
            "\n",
            "    accuracy                           0.65       437\n",
            "   macro avg       0.61      0.60      0.60       437\n",
            "weighted avg       0.64      0.65      0.65       437\n",
            "\n",
            "\n",
            "\n",
            "=== Accuracy Score ===\n",
            "Accuracy: 0.654\n"
          ],
          "name": "stdout"
        },
        {
          "output_type": "display_data",
          "data": {
            "image/png": "[encoded data removed]",
            "text/plain": [
              "<Figure size 432x288 with 1 Axes>"
            ]
          },
          "metadata": {
            "tags": []
          }
        }
      ]
    },
    {
      "cell_type": "markdown",
      "metadata": {
        "id": "GEPXvoss2fF6",
        "colab_type": "text"
      },
      "source": [
        "# **Neural Network Experiments**\n",
        "\n",
        "**December 3rd - 1213 Principal Components, Neural Network Architecture:**\n",
        "\n",
        "**Loss:** Binary Cross Entropy Loss\n",
        "\n",
        "**Activation:** ReLU\n",
        "\n",
        "**Batchsize:** 32\n",
        "\n",
        "1) Hidden Layers (500, 10), epochs = 50, Adam, LR = 0.001\n",
        "\n",
        "AUC = 0.62\n",
        "\n",
        "Accuracy: 0.654\n",
        "\n",
        "Recall: 0.45\n",
        "\n",
        "2) Hidden Layers (500, 10), epochs = 100, Adam, LR = 0.001\n",
        "\n",
        "AUC = 0.630\n",
        "\n",
        "Accuracy: 0.65\n",
        "\n",
        "3) Hidden Layers (500, 10), epochs = 100, Adam, LR = 0.003\n",
        "\n",
        "AUC = 0.616\n",
        "\n",
        "Accuracy: 0.618\n",
        "\n",
        "4) Hidden Layers (500, 10), epochs = 200, Adam, LR = 0.001\n",
        "\n",
        "AUC = 0.640\n",
        "\n",
        "Accuracy: 0.634\n",
        "\n",
        "5) Hidden Layers (500, 10), epochs = 200, Adam, LR = 0.0009\n",
        "\n",
        "AUC = 0.638\n",
        "\n",
        "Accuracy: 0.666\n",
        "\n",
        "6) Hidden Layers (500, 250), epochs = 200, Adam, LR = 0.001\n",
        "\n",
        "AUC = 0.623\n",
        "\n",
        "Accuracy: 0.643\n",
        "\n",
        "7) Hidden Layers (500, 250), epochs = 200, Adam, LR = 0.0001\n",
        "\n",
        "AUC = 0.648\n",
        "\n",
        "Accuracy: 0.659\n",
        "\n",
        "\n",
        "8) Hidden Layers (500, 250), epochs = 200, Adam, LR = 0.0005\n",
        "\n",
        "AUC = 0.648\n",
        "\n",
        "Accuracy: 0.641\n",
        "\n",
        "9) Hidden Layers (500, 250), epochs = 200, Adam, LR = 0.00009\n",
        "\n",
        "AUC = 0.627\n",
        "\n",
        "Accuracy: 0.654\n",
        "\n",
        "\n",
        "\n",
        "\n",
        "\n",
        "\n",
        "\n",
        "\n"
      ]
    },
    {
      "cell_type": "markdown",
      "metadata": {
        "colab_type": "text",
        "id": "pDLyPK1qh6fp"
      },
      "source": [
        "**Assess Neural Network Classification Using 62 Prinicipal Components (41% of the Variance)**"
      ]
    },
    {
      "cell_type": "markdown",
      "metadata": {
        "colab_type": "text",
        "id": "qJ4aFkO-h6f5"
      },
      "source": [
        "**Format the Training Dataset**"
      ]
    },
    {
      "cell_type": "code",
      "metadata": {
        "colab_type": "code",
        "id": "eD62jTuYh6f6",
        "colab": {}
      },
      "source": [
        "# Convert data into arrays\n",
        "xb = np.array(X_train_62, dtype = \"float32\")\n",
        "yb = np.array(y_train, dtype = \"float32\")\n",
        "\n",
        "# Convert arrays into tensors\n",
        "xb = torch.from_numpy(xb)\n",
        "yb = torch.from_numpy(yb)\n",
        "\n",
        "# Combine the arrays\n",
        "trainloader = TensorDataset(xb, yb)\n",
        "\n",
        "# Define the batchsize\n",
        "batch_size = 32\n",
        "\n",
        "# Training Loader\n",
        "trainloader = DataLoader(trainloader, batch_size, shuffle=True)"
      ],
      "execution_count": 0,
      "outputs": []
    },
    {
      "cell_type": "markdown",
      "metadata": {
        "colab_type": "text",
        "id": "wT85ppDZh6f_"
      },
      "source": [
        "**Format the Testing Dataset**"
      ]
    },
    {
      "cell_type": "code",
      "metadata": {
        "colab_type": "code",
        "id": "UjBEuod6h6gA",
        "colab": {}
      },
      "source": [
        "# Convert data into arrays\n",
        "xb = np.array(X_test_62, dtype = \"float32\")\n",
        "yb = np.array(y_test, dtype = \"float32\")\n",
        "\n",
        "# Convert arrays into tensors\n",
        "xb = torch.from_numpy(xb)\n",
        "yb = torch.from_numpy(yb)\n",
        "\n",
        "# Combine the arrays\n",
        "testloader = TensorDataset(xb, yb) \n",
        "\n",
        "# Define the batchsize\n",
        "batch_size= 32\n",
        "\n",
        "# Training Loader\n",
        "testloader = DataLoader(testloader, batch_size, shuffle=True) "
      ],
      "execution_count": 0,
      "outputs": []
    },
    {
      "cell_type": "markdown",
      "metadata": {
        "colab_type": "text",
        "id": "ouAtJO7gh6gC"
      },
      "source": [
        "**Create Neural Network Model**"
      ]
    },
    {
      "cell_type": "code",
      "metadata": {
        "colab_type": "code",
        "id": "WM7oHBkSh6gD",
        "outputId": "d709b4e3-34fc-4be6-fd7c-3831547650dc",
        "colab": {
          "base_uri": "https://localhost:8080/",
          "height": 1000
        }
      },
      "source": [
        "# Define the model with hidden layers - 62 inputs\n",
        "model = nn.Sequential(nn.Linear(62, 30),\n",
        "                      nn.ReLU(),\n",
        "                      nn.Linear(30, 10),\n",
        "                      nn.ReLU(),\n",
        "                      nn.Linear(10, 1),\n",
        "                      nn.Sigmoid())\n",
        "                      \n",
        "# Set optimizer and learning rate\n",
        "#optimizer = optim.SGD(model.parameters(), lr=0.003)\n",
        "\n",
        "# Could also use Adam optimizer; similar to stochastic gradient descent, but uses momentum which can speed up the actual fitting process, and it also adjusts the learning rate for each of the individual parameters in the model\n",
        "optimizer = optim.Adam(model.parameters(), lr=0.005)\n",
        "\n",
        "criterion = nn.BCELoss() # use with a sigmoid function\n",
        "\n",
        "#criterion = nn.CrossEntropyLoss() #don't use with softmax or sigmoid\n",
        "\n",
        "# Set epochs\n",
        "epochs = 200\n",
        "for e in range(epochs):\n",
        "    running_loss = 0\n",
        "    for xb, yb in trainloader:\n",
        "        \n",
        "        # Clear the gradients, do this because gradients are accumulated\n",
        "        optimizer.zero_grad()\n",
        "        \n",
        "        # Training pass\n",
        "        output = model.forward(xb)\n",
        "        loss = criterion(output, yb) # Loss calculated from the output compared to the labels  \n",
        "        loss.backward()\n",
        "        optimizer.step()\n",
        "        \n",
        "        running_loss += loss.item() # loss.item() gets the scalar value held in the loss. Running_loss = 0, \n",
        "        # += notation, says \"Add a value and the variable and assigns the result to that variable.\" So, adds the running_loss (0) with loss.item and assigns to running_loss\n",
        "    else:\n",
        "        print(f\"Training loss: {running_loss/len(trainloader)}\")"
      ],
      "execution_count": 65,
      "outputs": [
        {
          "output_type": "stream",
          "text": [
            "/usr/local/lib/python3.6/dist-packages/torch/nn/modules/loss.py:498: UserWarning: Using a target size (torch.Size([32])) that is different to the input size (torch.Size([32, 1])) is deprecated. Please ensure they have the same size.\n",
            "  return F.binary_cross_entropy(input, target, weight=self.weight, reduction=self.reduction)\n",
            "/usr/local/lib/python3.6/dist-packages/torch/nn/modules/loss.py:498: UserWarning: Using a target size (torch.Size([30])) that is different to the input size (torch.Size([30, 1])) is deprecated. Please ensure they have the same size.\n",
            "  return F.binary_cross_entropy(input, target, weight=self.weight, reduction=self.reduction)\n"
          ],
          "name": "stderr"
        },
        {
          "output_type": "stream",
          "text": [
            "Training loss: 0.6563039422035217\n",
            "Training loss: 0.5708716315467183\n",
            "Training loss: 0.5304841820786639\n",
            "Training loss: 0.5009178184881443\n",
            "Training loss: 0.45129488117811156\n",
            "Training loss: 0.40192796617019466\n",
            "Training loss: 0.36930217357670386\n",
            "Training loss: 0.3514103649592981\n",
            "Training loss: 0.3278091113741805\n",
            "Training loss: 0.2758683842129824\n",
            "Training loss: 0.26220729401925713\n",
            "Training loss: 0.23746806601198708\n",
            "Training loss: 0.21095692284586953\n",
            "Training loss: 0.20572901480808492\n",
            "Training loss: 0.18635623974771034\n",
            "Training loss: 0.16978003211864612\n",
            "Training loss: 0.15551793965988042\n",
            "Training loss: 0.1615360117540127\n",
            "Training loss: 0.15097471580999652\n",
            "Training loss: 0.14795397676345778\n",
            "Training loss: 0.17469353619508626\n",
            "Training loss: 0.17176514627729975\n",
            "Training loss: 0.18872191666102991\n",
            "Training loss: 0.14682274098258194\n",
            "Training loss: 0.14062271335321228\n",
            "Training loss: 0.11641822373721658\n",
            "Training loss: 0.11053758886892621\n",
            "Training loss: 0.10833728917669959\n",
            "Training loss: 0.1001243541789491\n",
            "Training loss: 0.08981732165486347\n",
            "Training loss: 0.08324394397801016\n",
            "Training loss: 0.07499314980899416\n",
            "Training loss: 0.07713083362933702\n",
            "Training loss: 0.07328414083344907\n",
            "Training loss: 0.06783640266555112\n",
            "Training loss: 0.0655615300837359\n",
            "Training loss: 0.061919356991605064\n",
            "Training loss: 0.0705002411964304\n",
            "Training loss: 0.1100747558379137\n",
            "Training loss: 0.14462626025807568\n",
            "Training loss: 0.20702977869205358\n",
            "Training loss: 0.24917305760630748\n",
            "Training loss: 0.24255470086525127\n",
            "Training loss: 0.14162068795867083\n",
            "Training loss: 0.0960596008907731\n",
            "Training loss: 0.07811301277393884\n",
            "Training loss: 0.07002971097599806\n",
            "Training loss: 0.06476035016225423\n",
            "Training loss: 0.0635371207963766\n",
            "Training loss: 0.05964478005927692\n",
            "Training loss: 0.05823127232582831\n",
            "Training loss: 0.057130993412035265\n",
            "Training loss: 0.05647885860455018\n",
            "Training loss: 0.056117372504980646\n",
            "Training loss: 0.05567180190984977\n",
            "Training loss: 0.054283422284487\n",
            "Training loss: 0.053295978523858985\n",
            "Training loss: 0.05244798675781434\n",
            "Training loss: 0.05379070935163238\n",
            "Training loss: 0.0540063799417112\n",
            "Training loss: 0.052756102998434314\n",
            "Training loss: 0.05268370637829166\n",
            "Training loss: 0.05512579180645932\n",
            "Training loss: 0.05330619710304479\n",
            "Training loss: 0.05635414424170626\n",
            "Training loss: 0.05667765200615111\n",
            "Training loss: 0.0673221414511251\n",
            "Training loss: 0.07683764332223957\n",
            "Training loss: 0.1383417105847379\n",
            "Training loss: 0.3035154050988395\n",
            "Training loss: 0.32254543387126633\n",
            "Training loss: 0.20685093086667178\n",
            "Training loss: 0.17787082352471062\n",
            "Training loss: 0.10355394842421137\n",
            "Training loss: 0.08154966243792598\n",
            "Training loss: 0.06798142353754218\n",
            "Training loss: 0.06606214046875787\n",
            "Training loss: 0.06326508889451804\n",
            "Training loss: 0.060714023419167484\n",
            "Training loss: 0.05842646091563127\n",
            "Training loss: 0.05776186706072355\n",
            "Training loss: 0.056773031334869745\n",
            "Training loss: 0.05530516140620088\n",
            "Training loss: 0.05404774665196494\n",
            "Training loss: 0.052550480096947357\n",
            "Training loss: 0.05158573986107779\n",
            "Training loss: 0.052171221758926106\n",
            "Training loss: 0.04874539834293878\n",
            "Training loss: 0.047958112188342325\n",
            "Training loss: 0.04633416824480065\n",
            "Training loss: 0.04601762929459943\n",
            "Training loss: 0.045750416962219764\n",
            "Training loss: 0.0506835527964385\n",
            "Training loss: 0.04842034054397628\n",
            "Training loss: 0.04697185123151895\n",
            "Training loss: 0.04693844219990552\n",
            "Training loss: 0.0464780544716632\n",
            "Training loss: 0.045379553049115645\n",
            "Training loss: 0.045451122984892074\n",
            "Training loss: 0.07323106312709037\n",
            "Training loss: 0.06945285287390394\n",
            "Training loss: 0.09227161194629423\n",
            "Training loss: 0.20399639791831736\n",
            "Training loss: 0.18634116770018164\n",
            "Training loss: 0.1604484100258205\n",
            "Training loss: 0.11094497339572848\n",
            "Training loss: 0.0893560179577368\n",
            "Training loss: 0.08610400702895188\n",
            "Training loss: 0.07013888538974088\n",
            "Training loss: 0.06032617116579786\n",
            "Training loss: 0.05620728127045057\n",
            "Training loss: 0.05022797065150992\n",
            "Training loss: 0.05044123668950505\n",
            "Training loss: 0.05475096630852488\n",
            "Training loss: 0.05143183807944652\n",
            "Training loss: 0.049609707256710926\n",
            "Training loss: 0.05104731441909879\n",
            "Training loss: 0.05113423803449245\n",
            "Training loss: 0.051948115626412515\n",
            "Training loss: 0.05159681354629489\n",
            "Training loss: 0.05337120783543668\n",
            "Training loss: 0.05159815863518771\n",
            "Training loss: 0.04643258938822106\n",
            "Training loss: 0.0455317700877303\n",
            "Training loss: 0.04415530174695205\n",
            "Training loss: 0.046881818311947696\n",
            "Training loss: 0.048175761867286185\n",
            "Training loss: 0.0446940323298161\n",
            "Training loss: 0.051962219338215286\n",
            "Training loss: 0.0553532066107614\n",
            "Training loss: 0.06240751220924189\n",
            "Training loss: 0.09377624334699315\n",
            "Training loss: 0.12255766503967164\n",
            "Training loss: 0.15171650188361727\n",
            "Training loss: 0.13691680661470787\n",
            "Training loss: 0.1472017505864908\n",
            "Training loss: 0.11222852303124056\n",
            "Training loss: 0.06734484840161735\n",
            "Training loss: 0.05468142071665015\n",
            "Training loss: 0.043873593594492756\n",
            "Training loss: 0.04159014837009969\n",
            "Training loss: 0.04137460822534106\n",
            "Training loss: 0.043856448772158926\n",
            "Training loss: 0.04002367918203562\n",
            "Training loss: 0.03900681364633251\n",
            "Training loss: 0.03847214919813091\n",
            "Training loss: 0.03821705852879393\n",
            "Training loss: 0.03796356599834725\n",
            "Training loss: 0.03792198519250832\n",
            "Training loss: 0.03783437878971709\n",
            "Training loss: 0.037846405958478546\n",
            "Training loss: 0.03777652911656599\n",
            "Training loss: 0.03872424207071251\n",
            "Training loss: 0.037594268079662534\n",
            "Training loss: 0.03760335656749326\n",
            "Training loss: 0.037280553156473085\n",
            "Training loss: 0.03690597735680413\n",
            "Training loss: 0.0368802935753171\n",
            "Training loss: 0.036728330119974374\n",
            "Training loss: 0.03673042672274211\n",
            "Training loss: 0.036723441656582374\n",
            "Training loss: 0.03667594343074242\n",
            "Training loss: 0.03667397610408399\n",
            "Training loss: 0.036617653331010906\n",
            "Training loss: 0.036768198941522647\n",
            "Training loss: 0.03672235747341424\n",
            "Training loss: 0.03665531611087073\n",
            "Training loss: 0.03665143347883181\n",
            "Training loss: 0.03672879541320471\n",
            "Training loss: 0.03658985918437105\n",
            "Training loss: 0.03662409851783262\n",
            "Training loss: 0.036613438591125376\n",
            "Training loss: 0.036520800907388414\n",
            "Training loss: 0.03659098878628489\n",
            "Training loss: 0.03649976373424402\n",
            "Training loss: 0.036581864985325924\n",
            "Training loss: 0.03629146204614854\n",
            "Training loss: 0.03646922181662109\n",
            "Training loss: 0.03610962473985416\n",
            "Training loss: 0.03611529898827895\n",
            "Training loss: 0.036111582333765775\n",
            "Training loss: 0.03605157162835495\n",
            "Training loss: 0.03612682876019989\n",
            "Training loss: 0.036099444899463845\n",
            "Training loss: 0.03600969176992161\n",
            "Training loss: 0.03739687940052557\n",
            "Training loss: 0.06669613555987314\n",
            "Training loss: 0.141812230982795\n",
            "Training loss: 0.4164647654425807\n",
            "Training loss: 0.25842545962915187\n",
            "Training loss: 0.18295029841545152\n",
            "Training loss: 0.13832188779261054\n",
            "Training loss: 0.10852781347021824\n",
            "Training loss: 0.09187307293958417\n",
            "Training loss: 0.07334480725410508\n",
            "Training loss: 0.06498697608504898\n",
            "Training loss: 0.06493553773659032\n",
            "Training loss: 0.05997804078989003\n",
            "Training loss: 0.06231675952922825\n",
            "Training loss: 0.05468852142554924\n"
          ],
          "name": "stdout"
        }
      ]
    },
    {
      "cell_type": "markdown",
      "metadata": {
        "colab_type": "text",
        "id": "94clYCR0h6gH"
      },
      "source": [
        "**Evaluate Model Performance**"
      ]
    },
    {
      "cell_type": "code",
      "metadata": {
        "colab_type": "code",
        "id": "4lKRk21Th6gI",
        "outputId": "a82e47e3-2420-4056-acc9-c2d7973b570b",
        "colab": {
          "base_uri": "https://localhost:8080/",
          "height": 603
        }
      },
      "source": [
        "# Convert data into arrays\n",
        "xb = np.array(X_test_62, dtype = \"float32\")\n",
        "yb = np.array(y_test, dtype = \"float32\")\n",
        "\n",
        "# Convert arrays into tensors\n",
        "xb = torch.from_numpy(xb)\n",
        "yb = torch.from_numpy(yb)\n",
        "\n",
        "# Apply the model to the whole testing dataset\n",
        "ps = model(xb)\n",
        "\n",
        "#print('Probabilities', ps[:10])\n",
        "\n",
        "# Obtain the top probability\n",
        "top_p, top_class = ps.topk(1, dim=1)\n",
        "#print('true vals', yb[:10])\n",
        "\n",
        "# Drop the grad \n",
        "top_p = top_p.detach().numpy()\n",
        "top_class = top_class.detach().numpy()\n",
        "\n",
        "top_class = (top_p >= 0.5).astype(np.int)\n",
        "#print('top class', top_class[:10])\n",
        "\n",
        "# Compute ROC curve\n",
        "fpr, tpr, thresholds = roc_curve(yb, top_p, pos_label=1)\n",
        "\n",
        "# Compute ROC area\n",
        "roc_auc = round(auc(fpr, tpr),3)\n",
        "plt.figure()\n",
        "plt.plot(fpr, tpr, color='darkorange', label='ROC curve (area = %0.3f)' % roc_auc)\n",
        "plt.plot([0, 1], [0, 1], color='navy', linestyle='--')\n",
        "plt.xlim([-0.01, 1.0])\n",
        "plt.ylim([0.0, 1.01])\n",
        "plt.xlabel('False Positive Rate')\n",
        "plt.ylabel('True Positive Rate')\n",
        "plt.title('Receiver operating characteristic')\n",
        "plt.legend(loc=\"lower right\")\n",
        "\n",
        "# Classification Report\n",
        "print(\"=== Confusion Matrix ===\")\n",
        "print(confusion_matrix(yb, top_class))\n",
        "print('\\n')\n",
        "print(\"=== Classification Report ===\")\n",
        "print(classification_report(yb, top_class))\n",
        "print('\\n')\n",
        "print(\"=== Accuracy Score ===\")\n",
        "print(\"Accuracy:\", round(accuracy_score(yb, top_class),3))"
      ],
      "execution_count": 66,
      "outputs": [
        {
          "output_type": "stream",
          "text": [
            "=== Confusion Matrix ===\n",
            "[[177 110]\n",
            " [ 70  80]]\n",
            "\n",
            "\n",
            "=== Classification Report ===\n",
            "              precision    recall  f1-score   support\n",
            "\n",
            "         0.0       0.72      0.62      0.66       287\n",
            "         1.0       0.42      0.53      0.47       150\n",
            "\n",
            "    accuracy                           0.59       437\n",
            "   macro avg       0.57      0.58      0.57       437\n",
            "weighted avg       0.62      0.59      0.60       437\n",
            "\n",
            "\n",
            "\n",
            "=== Accuracy Score ===\n",
            "Accuracy: 0.588\n"
          ],
          "name": "stdout"
        },
        {
          "output_type": "display_data",
          "data": {
            "image/png": "[encoded data removed]",
            "text/plain": [
              "<Figure size 432x288 with 1 Axes>"
            ]
          },
          "metadata": {
            "tags": []
          }
        }
      ]
    },
    {
      "cell_type": "markdown",
      "metadata": {
        "colab_type": "text",
        "id": "Ge7ywyF--6o5"
      },
      "source": [
        "# **Neural Network Experiments**\n",
        "\n",
        "**December 4th - 62 Principal Components, Neural Network Architecture:**\n",
        "\n",
        "**Loss:** Binary Cross Entropy Loss\n",
        "\n",
        "**Activation:** ReLU\n",
        "\n",
        "**Batchsize:** 32\n",
        "\n",
        "1) Hidden Layers (30), epochs = 100, Adam, LR = 0.003\n",
        "\n",
        "AUC: 0.604\n",
        "\n",
        "Accuracy: 0.611\n",
        "\n",
        "Recall: 0.45\n",
        "\n",
        "2) Hidden Layers (30), epochs = 100, Adam, LR = 0.001\n",
        "\n",
        "AUC: 0.574\n",
        "\n",
        "Accuracy: 0.609\n",
        "\n",
        "Recall: 0.41\n",
        "\n",
        "3) Hidden Layers (30), epochs = 200, Adam, LR = 0.003\n",
        "\n",
        "AUC: 0.580\n",
        "\n",
        "Accuracy: 0.6\n",
        "\n",
        "Recall: 0.41\n",
        "\n",
        "4) Hidden Layers (30, 10), epochs = 100, Adam, LR = 0.003\n",
        "\n",
        "AUC: 0.607\n",
        "\n",
        "Accuracy: 0.625\n",
        "\n",
        "Recall: 0.43\n",
        "\n",
        "5) Hidden Layers (30, 10), epochs = 200, Adam, LR = 0.003\n",
        "\n",
        "AUC: 0.613\n",
        "\n",
        "Accuracy: 0.613\n",
        "\n",
        "Recall: 0.41\n",
        "\n",
        "**6) Hidden Layers (30, 10), epochs = 200, Adam, LR = 0.001**\n",
        "\n",
        "**AUC: 0.6112**\n",
        "\n",
        "**Accuracy: 0.634**\n",
        "\n",
        "**Recall: 0.51 # higher Recall here**\n",
        "\n",
        "7) Hidden Layers (30, 10), epochs = 200, Adam, LR = 0.005\n",
        "\n",
        "AUC: 0.583 # poor performance\n",
        "\n",
        "Accuracy: 0.588\n",
        "\n",
        "Recall: 0.53 # higher Recall here\n",
        "\n",
        "\n",
        "\n",
        "\n",
        "\n",
        "\n",
        "\n",
        "\n",
        "\n"
      ]
    },
    {
      "cell_type": "markdown",
      "metadata": {
        "id": "koIcDs3f92Xt",
        "colab_type": "text"
      },
      "source": [
        "# **Next Steps**\n",
        "\n",
        "1.   Compare performance of 1213, 62, and 33 prinicipal components with Neural Networks\n",
        "2.   Test Clinical Data usign the same training + testing set (maybe just save the data to a different file and then create a new script)\n",
        "3.   Assess performance of a clinical + pca model \n",
        "\n"
      ]
    }
  ]
}